{
 "cells": [
  {
   "cell_type": "markdown",
   "id": "1941488a",
   "metadata": {},
   "source": [
    "# Cross-match OGLE III and ZTF DR22\n",
    "\n",
    "### using LINCC Frameworks' [LSDB](https://lsdb.io) and [SNAD](https://snad.space)'s OGLE III mirror"
   ]
  },
  {
   "cell_type": "code",
   "execution_count": 1,
   "id": "5262b49d",
   "metadata": {
    "scrolled": false
   },
   "outputs": [
    {
     "name": "stdout",
     "output_type": "stream",
     "text": [
      "Requirement already satisfied: lsdb in ./.virtualenvs/default/lib/python3.10/site-packages (0.5.2)\n",
      "Requirement already satisfied: dask>=2025.3.0 in ./.virtualenvs/default/lib/python3.10/site-packages (from dask[complete]>=2025.3.0->lsdb) (2025.4.1)\n",
      "Requirement already satisfied: deprecated in ./.virtualenvs/default/lib/python3.10/site-packages (from lsdb) (1.2.14)\n",
      "Requirement already satisfied: hats>=0.5.2 in ./.virtualenvs/default/lib/python3.10/site-packages (from lsdb) (0.5.2)\n",
      "Requirement already satisfied: nested-pandas<0.5.0,>=0.4.0 in ./.virtualenvs/default/lib/python3.10/site-packages (from lsdb) (0.4.2)\n",
      "Requirement already satisfied: pyarrow>=14.0.1 in ./.virtualenvs/default/lib/python3.10/site-packages (from lsdb) (18.0.0)\n",
      "Requirement already satisfied: scipy>=1.7.2 in ./.virtualenvs/default/lib/python3.10/site-packages (from lsdb) (1.14.1)\n",
      "Requirement already satisfied: click>=8.1 in ./.virtualenvs/default/lib/python3.10/site-packages (from dask>=2025.3.0->dask[complete]>=2025.3.0->lsdb) (8.1.7)\n",
      "Requirement already satisfied: cloudpickle>=3.0.0 in ./.virtualenvs/default/lib/python3.10/site-packages (from dask>=2025.3.0->dask[complete]>=2025.3.0->lsdb) (3.1.0)\n",
      "Requirement already satisfied: fsspec>=2021.09.0 in ./.virtualenvs/default/lib/python3.10/site-packages (from dask>=2025.3.0->dask[complete]>=2025.3.0->lsdb) (2024.10.0)\n",
      "Requirement already satisfied: packaging>=20.0 in ./.virtualenvs/default/lib/python3.10/site-packages (from dask>=2025.3.0->dask[complete]>=2025.3.0->lsdb) (24.1)\n",
      "Requirement already satisfied: partd>=1.4.0 in ./.virtualenvs/default/lib/python3.10/site-packages (from dask>=2025.3.0->dask[complete]>=2025.3.0->lsdb) (1.4.2)\n",
      "Requirement already satisfied: pyyaml>=5.3.1 in ./.virtualenvs/default/lib/python3.10/site-packages (from dask>=2025.3.0->dask[complete]>=2025.3.0->lsdb) (6.0.2)\n",
      "Requirement already satisfied: toolz>=0.10.0 in ./.virtualenvs/default/lib/python3.10/site-packages (from dask>=2025.3.0->dask[complete]>=2025.3.0->lsdb) (1.0.0)\n",
      "Requirement already satisfied: importlib_metadata>=4.13.0 in ./.virtualenvs/default/lib/python3.10/site-packages (from dask>=2025.3.0->dask[complete]>=2025.3.0->lsdb) (8.5.0)\n",
      "Requirement already satisfied: lz4>=4.3.2 in ./.virtualenvs/default/lib/python3.10/site-packages (from dask[complete]>=2025.3.0->lsdb) (4.3.3)\n",
      "Requirement already satisfied: aiohttp>=3.8.0 in ./.virtualenvs/default/lib/python3.10/site-packages (from hats>=0.5.2->lsdb) (3.10.10)\n",
      "Requirement already satisfied: astropy>=6.1.5 in ./.virtualenvs/default/lib/python3.10/site-packages (from hats>=0.5.2->lsdb) (6.1.7)\n",
      "Requirement already satisfied: cdshealpix>=0.7.0 in ./.virtualenvs/default/lib/python3.10/site-packages (from hats>=0.5.2->lsdb) (0.7.1)\n",
      "Requirement already satisfied: jproperties>=2.0.0 in ./.virtualenvs/default/lib/python3.10/site-packages (from hats>=0.5.2->lsdb) (2.1.2)\n",
      "Requirement already satisfied: matplotlib>=3.10.1 in ./.virtualenvs/default/lib/python3.10/site-packages (from hats>=0.5.2->lsdb) (3.10.1)\n",
      "Requirement already satisfied: mocpy>=0.17.1 in ./.virtualenvs/default/lib/python3.10/site-packages (from hats>=0.5.2->lsdb) (0.17.1)\n",
      "Requirement already satisfied: numba>=0.58 in ./.virtualenvs/default/lib/python3.10/site-packages (from hats>=0.5.2->lsdb) (0.60.0)\n",
      "Requirement already satisfied: numpy<3,>=2 in ./.virtualenvs/default/lib/python3.10/site-packages (from hats>=0.5.2->lsdb) (2.0.2)\n",
      "Requirement already satisfied: pandas>=2.0 in ./.virtualenvs/default/lib/python3.10/site-packages (from hats>=0.5.2->lsdb) (2.2.3)\n",
      "Requirement already satisfied: pydantic>=2.0 in ./.virtualenvs/default/lib/python3.10/site-packages (from hats>=0.5.2->lsdb) (2.9.2)\n",
      "Requirement already satisfied: typing-extensions>=4.3.0 in ./.virtualenvs/default/lib/python3.10/site-packages (from hats>=0.5.2->lsdb) (4.12.2)\n",
      "Requirement already satisfied: universal-pathlib>=0.2.2 in ./.virtualenvs/default/lib/python3.10/site-packages (from hats>=0.5.2->lsdb) (0.2.5)\n",
      "Requirement already satisfied: wrapt<2,>=1.10 in ./.virtualenvs/default/lib/python3.10/site-packages (from deprecated->lsdb) (1.16.0)\n",
      "Requirement already satisfied: aiohappyeyeballs>=2.3.0 in ./.virtualenvs/default/lib/python3.10/site-packages (from aiohttp>=3.8.0->hats>=0.5.2->lsdb) (2.4.3)\n",
      "Requirement already satisfied: aiosignal>=1.1.2 in ./.virtualenvs/default/lib/python3.10/site-packages (from aiohttp>=3.8.0->hats>=0.5.2->lsdb) (1.3.1)\n",
      "Requirement already satisfied: attrs>=17.3.0 in ./.virtualenvs/default/lib/python3.10/site-packages (from aiohttp>=3.8.0->hats>=0.5.2->lsdb) (24.2.0)\n",
      "Requirement already satisfied: frozenlist>=1.1.1 in ./.virtualenvs/default/lib/python3.10/site-packages (from aiohttp>=3.8.0->hats>=0.5.2->lsdb) (1.5.0)\n",
      "Requirement already satisfied: multidict<7.0,>=4.5 in ./.virtualenvs/default/lib/python3.10/site-packages (from aiohttp>=3.8.0->hats>=0.5.2->lsdb) (6.1.0)\n",
      "Requirement already satisfied: yarl<2.0,>=1.12.0 in ./.virtualenvs/default/lib/python3.10/site-packages (from aiohttp>=3.8.0->hats>=0.5.2->lsdb) (1.17.1)\n",
      "Requirement already satisfied: async-timeout<5.0,>=4.0 in ./.virtualenvs/default/lib/python3.10/site-packages (from aiohttp>=3.8.0->hats>=0.5.2->lsdb) (4.0.3)\n",
      "Requirement already satisfied: pyerfa>=2.0.1.1 in ./.virtualenvs/default/lib/python3.10/site-packages (from astropy>=6.1.5->hats>=0.5.2->lsdb) (2.0.1.4)\n",
      "Requirement already satisfied: astropy-iers-data>=0.2024.10.28.0.34.7 in ./.virtualenvs/default/lib/python3.10/site-packages (from astropy>=6.1.5->hats>=0.5.2->lsdb) (0.2024.10.28.0.34.7)\n",
      "Requirement already satisfied: zipp>=3.20 in ./.virtualenvs/default/lib/python3.10/site-packages (from importlib_metadata>=4.13.0->dask>=2025.3.0->dask[complete]>=2025.3.0->lsdb) (3.20.2)\n",
      "Requirement already satisfied: six~=1.13 in ./.virtualenvs/default/lib/python3.10/site-packages (from jproperties>=2.0.0->hats>=0.5.2->lsdb) (1.16.0)\n",
      "Requirement already satisfied: contourpy>=1.0.1 in ./.virtualenvs/default/lib/python3.10/site-packages (from matplotlib>=3.10.1->hats>=0.5.2->lsdb) (1.3.0)\n",
      "Requirement already satisfied: cycler>=0.10 in ./.virtualenvs/default/lib/python3.10/site-packages (from matplotlib>=3.10.1->hats>=0.5.2->lsdb) (0.12.1)\n",
      "Requirement already satisfied: fonttools>=4.22.0 in ./.virtualenvs/default/lib/python3.10/site-packages (from matplotlib>=3.10.1->hats>=0.5.2->lsdb) (4.54.1)\n",
      "Requirement already satisfied: kiwisolver>=1.3.1 in ./.virtualenvs/default/lib/python3.10/site-packages (from matplotlib>=3.10.1->hats>=0.5.2->lsdb) (1.4.7)\n",
      "Requirement already satisfied: pillow>=8 in ./.virtualenvs/default/lib/python3.10/site-packages (from matplotlib>=3.10.1->hats>=0.5.2->lsdb) (11.0.0)\n",
      "Requirement already satisfied: pyparsing>=2.3.1 in ./.virtualenvs/default/lib/python3.10/site-packages (from matplotlib>=3.10.1->hats>=0.5.2->lsdb) (3.2.0)\n",
      "Requirement already satisfied: python-dateutil>=2.7 in ./.virtualenvs/default/lib/python3.10/site-packages (from matplotlib>=3.10.1->hats>=0.5.2->lsdb) (2.9.0.post0)\n",
      "Requirement already satisfied: networkx>=2.5 in ./.virtualenvs/default/lib/python3.10/site-packages (from mocpy>=0.17.1->hats>=0.5.2->lsdb) (3.4.2)\n",
      "Requirement already satisfied: llvmlite<0.44,>=0.43.0dev0 in ./.virtualenvs/default/lib/python3.10/site-packages (from numba>=0.58->hats>=0.5.2->lsdb) (0.43.0)\n",
      "Requirement already satisfied: pytz>=2020.1 in ./.virtualenvs/default/lib/python3.10/site-packages (from pandas>=2.0->hats>=0.5.2->lsdb) (2024.2)\n",
      "Requirement already satisfied: tzdata>=2022.7 in ./.virtualenvs/default/lib/python3.10/site-packages (from pandas>=2.0->hats>=0.5.2->lsdb) (2024.2)\n",
      "Requirement already satisfied: locket in ./.virtualenvs/default/lib/python3.10/site-packages (from partd>=1.4.0->dask>=2025.3.0->dask[complete]>=2025.3.0->lsdb) (1.0.0)\n",
      "Requirement already satisfied: annotated-types>=0.6.0 in ./.virtualenvs/default/lib/python3.10/site-packages (from pydantic>=2.0->hats>=0.5.2->lsdb) (0.7.0)\n",
      "Requirement already satisfied: pydantic-core==2.23.4 in ./.virtualenvs/default/lib/python3.10/site-packages (from pydantic>=2.0->hats>=0.5.2->lsdb) (2.23.4)\n",
      "Requirement already satisfied: distributed==2025.4.1 in ./.virtualenvs/default/lib/python3.10/site-packages (from dask>=2025.3.0->dask[complete]>=2025.3.0->lsdb) (2025.4.1)\n",
      "Requirement already satisfied: bokeh>=3.1.0 in ./.virtualenvs/default/lib/python3.10/site-packages (from dask>=2025.3.0->dask[complete]>=2025.3.0->lsdb) (3.6.0)\n",
      "Requirement already satisfied: jinja2>=2.10.3 in ./.virtualenvs/default/lib/python3.10/site-packages (from dask>=2025.3.0->dask[complete]>=2025.3.0->lsdb) (3.1.4)\n",
      "Requirement already satisfied: msgpack>=1.0.2 in ./.virtualenvs/default/lib/python3.10/site-packages (from distributed==2025.4.1->dask>=2025.3.0->dask[complete]>=2025.3.0->lsdb) (1.1.0)\n",
      "Requirement already satisfied: psutil>=5.8.0 in ./.virtualenvs/default/lib/python3.10/site-packages (from distributed==2025.4.1->dask>=2025.3.0->dask[complete]>=2025.3.0->lsdb) (6.1.0)\n",
      "Requirement already satisfied: sortedcontainers>=2.0.5 in ./.virtualenvs/default/lib/python3.10/site-packages (from distributed==2025.4.1->dask>=2025.3.0->dask[complete]>=2025.3.0->lsdb) (2.4.0)\n",
      "Requirement already satisfied: tblib>=1.6.0 in ./.virtualenvs/default/lib/python3.10/site-packages (from distributed==2025.4.1->dask>=2025.3.0->dask[complete]>=2025.3.0->lsdb) (3.0.0)\n",
      "Requirement already satisfied: tornado>=6.2.0 in ./.virtualenvs/default/lib/python3.10/site-packages (from distributed==2025.4.1->dask>=2025.3.0->dask[complete]>=2025.3.0->lsdb) (6.4.1)\n",
      "Requirement already satisfied: urllib3>=1.26.5 in ./.virtualenvs/default/lib/python3.10/site-packages (from distributed==2025.4.1->dask>=2025.3.0->dask[complete]>=2025.3.0->lsdb) (2.2.3)\n",
      "Requirement already satisfied: zict>=3.0.0 in ./.virtualenvs/default/lib/python3.10/site-packages (from distributed==2025.4.1->dask>=2025.3.0->dask[complete]>=2025.3.0->lsdb) (3.0.0)\n",
      "Requirement already satisfied: xyzservices>=2021.09.1 in ./.virtualenvs/default/lib/python3.10/site-packages (from bokeh>=3.1.0->dask>=2025.3.0->dask[complete]>=2025.3.0->lsdb) (2024.9.0)\n",
      "Requirement already satisfied: MarkupSafe>=2.0 in ./.virtualenvs/default/lib/python3.10/site-packages (from jinja2>=2.10.3->dask>=2025.3.0->dask[complete]>=2025.3.0->lsdb) (3.0.2)\n",
      "Requirement already satisfied: idna>=2.0 in ./.virtualenvs/default/lib/python3.10/site-packages (from yarl<2.0,>=1.12.0->aiohttp>=3.8.0->hats>=0.5.2->lsdb) (3.10)\n",
      "Requirement already satisfied: propcache>=0.2.0 in ./.virtualenvs/default/lib/python3.10/site-packages (from yarl<2.0,>=1.12.0->aiohttp>=3.8.0->hats>=0.5.2->lsdb) (0.2.0)\n",
      "\n",
      "\u001b[1m[\u001b[0m\u001b[34;49mnotice\u001b[0m\u001b[1;39;49m]\u001b[0m\u001b[39;49m A new release of pip is available: \u001b[0m\u001b[31;49m24.3.1\u001b[0m\u001b[39;49m -> \u001b[0m\u001b[32;49m25.1.1\u001b[0m\n",
      "\u001b[1m[\u001b[0m\u001b[34;49mnotice\u001b[0m\u001b[1;39;49m]\u001b[0m\u001b[39;49m To update, run: \u001b[0m\u001b[32;49mpip3 install --upgrade pip\u001b[0m\n",
      "Note: you may need to restart the kernel to use updated packages.\n"
     ]
    }
   ],
   "source": [
    "# Install LSDB\n",
    "%pip install -U lsdb"
   ]
  },
  {
   "cell_type": "code",
   "execution_count": 2,
   "id": "2e13d985",
   "metadata": {},
   "outputs": [],
   "source": [
    "from functools import cache\n",
    "\n",
    "import lsdb\n",
    "import pandas as pd\n",
    "from astropy.coordinates import Angle\n",
    "from dask.distributed import Client"
   ]
  },
  {
   "cell_type": "code",
   "execution_count": 3,
   "id": "db6960a2",
   "metadata": {},
   "outputs": [],
   "source": [
    "# Get OGLE III through SNAD's mirror\n",
    "# I cache it to not hurt the server too much when re-running the code bellow\n",
    "\n",
    "@cache\n",
    "def get_ogle3_df():\n",
    "    df = pd.read_csv(\n",
    "        \"https://ogle3.snad.space/api/v1/all\",\n",
    "        sep='\\t',\n",
    "        dtype_backend='pyarrow',\n",
    "    )\n",
    "    # Convert to decimal degrees\n",
    "    df['ra'] = Angle(df['RA'], unit='hour').deg\n",
    "    df['dec'] = Angle(df['Decl'], unit='deg').deg\n",
    "    return df"
   ]
  },
  {
   "cell_type": "code",
   "execution_count": null,
   "id": "218f4597",
   "metadata": {
    "scrolled": false
   },
   "outputs": [],
   "source": [
    "# Convert dataframe to LSDB Catalog\n",
    "ogle3 = lsdb.from_dataframe(get_ogle3_df(), catalog_name=\"ogle3\")\n",
    "ogle3"
   ]
  },
  {
   "cell_type": "code",
   "execution_count": null,
   "id": "745caf4c",
   "metadata": {},
   "outputs": [],
   "source": [
    "# Create ZTF DR22 Catalog object. No catalog data is read on this stage,\n",
    "# metadata only is fetched\n",
    "\n",
    "ztf_dr22 = lsdb.read_hats(\n",
    "    # https://data.lsdb.io/#ZTF/ZTF_DR22\n",
    "    'https://data.lsdb.io/hats/ztf_dr22/ztf_lc',\n",
    "    margin_cache='https://data.lsdb.io/hats/ztf_dr22/ztf_lc_10arcs',\n",
    ").nest_lists(\n",
    "    # Make \"nested\" light-curve column from list-columns,\n",
    "    # see nested-pandas pckage for more details:\n",
    "    # https://nested-pandas.readthedocs.io/en/latest/\n",
    "    list_columns=[\"hmjd\", \"mag\", \"magerr\", \"clrcoeff\", \"catflags\"],  # light-curve columns\n",
    "    base_columns=None,  # everything else is object metadta columns\n",
    "    name=\"lc\",\n",
    ").query(\n",
    "    # Select \"good\" observations\n",
    "    \"lc.catflags == 0\",\n",
    ")\n",
    "ztf_dr22"
   ]
  },
  {
   "cell_type": "code",
   "execution_count": null,
   "id": "cbc6a066",
   "metadata": {},
   "outputs": [],
   "source": [
    "# Build cross-matched catalog\n",
    "# Still no data fetched on this stage - just planning the future compute\n",
    "\n",
    "xmatched = ogle3.crossmatch(\n",
    "    ztf_dr22,\n",
    "    radius_arcsec=1,\n",
    "    # ZTF DR has multiple objects for the same sky source,\n",
    "    # so we query for multiple matches\n",
    "    n_neighbors=20,\n",
    "    suffixes=[\"_ogle\", \"_ztf\"],  # column suffixes\n",
    ")\n",
    "xmatched"
   ]
  },
  {
   "cell_type": "code",
   "execution_count": null,
   "id": "7ed98c1c",
   "metadata": {},
   "outputs": [],
   "source": [
    "# Create Dask client to run things in parallel and run the compute\n",
    "# It may took few hours and will produce a new HATS catalog.\n",
    "# You can read it with LSDB or any other parquet tool such as Pandas,\n",
    "# Dask, astropy, polars, etc.\n",
    "\n",
    "with Client(n_workers=4, memory_limit=\"32GB\", threads_per_worker=1) as client:\n",
    "    # Use the link it gives to track the progress\n",
    "    display(client)\n",
    "    xmatched.to_hats(\"ogle3-x-ztf_dr22\", catalog_name=\"ogle3-x-ztf_dr22\")"
   ]
  }
 ],
 "metadata": {
  "kernelspec": {
   "display_name": "Kostya 3.10",
   "language": "python",
   "name": "kostya"
  },
  "language_info": {
   "codemirror_mode": {
    "name": "ipython",
    "version": 3
   },
   "file_extension": ".py",
   "mimetype": "text/x-python",
   "name": "python",
   "nbconvert_exporter": "python",
   "pygments_lexer": "ipython3",
   "version": "3.10.14"
  }
 },
 "nbformat": 4,
 "nbformat_minor": 5
}
