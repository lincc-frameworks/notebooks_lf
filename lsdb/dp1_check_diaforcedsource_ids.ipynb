{
 "cells": [
  {
   "cell_type": "code",
   "execution_count": 1,
   "id": "a8613ee7-6934-4aee-898e-613c2c15079b",
   "metadata": {},
   "outputs": [],
   "source": [
    "import lsdb\n",
    "import matplotlib.pyplot as plt\n",
    "import numpy as np\n",
    "import pandas as pd\n",
    "from dask.distributed import Client"
   ]
  },
  {
   "cell_type": "code",
   "execution_count": 2,
   "id": "7de2c5b2-09df-4efc-8ae2-afea7f18ef38",
   "metadata": {},
   "outputs": [],
   "source": [
    "path = \"/epyc/data3/hats/catalogs/dp1/dia_object_collection\""
   ]
  },
  {
   "cell_type": "code",
   "execution_count": 3,
   "id": "9a676cd0-7277-42dd-b27e-23cfee30fddc",
   "metadata": {},
   "outputs": [
    {
     "data": {
      "text/html": [
       "<div><strong>lsdb Catalog dia_object_lc:</strong></div><div>\n",
       "<style scoped>\n",
       "    .dataframe tbody tr th:only-of-type {\n",
       "        vertical-align: middle;\n",
       "    }\n",
       "\n",
       "    .dataframe tbody tr th {\n",
       "        vertical-align: top;\n",
       "    }\n",
       "\n",
       "    .dataframe thead th {\n",
       "        text-align: right;\n",
       "    }\n",
       "</style>\n",
       "<table border=\"1\" class=\"dataframe\">\n",
       "  <thead>\n",
       "    <tr style=\"text-align: right;\">\n",
       "      <th></th>\n",
       "      <th>dec</th>\n",
       "      <th>diaObjectId</th>\n",
       "      <th>nDiaSources</th>\n",
       "      <th>ra</th>\n",
       "      <th>radecMjdTai</th>\n",
       "      <th>tract</th>\n",
       "      <th>diaObjectForcedSource</th>\n",
       "      <th>diaSource</th>\n",
       "    </tr>\n",
       "    <tr>\n",
       "      <th>npartitions=208</th>\n",
       "      <th></th>\n",
       "      <th></th>\n",
       "      <th></th>\n",
       "      <th></th>\n",
       "      <th></th>\n",
       "      <th></th>\n",
       "      <th></th>\n",
       "      <th></th>\n",
       "    </tr>\n",
       "  </thead>\n",
       "  <tbody>\n",
       "    <tr>\n",
       "      <th>Order: 6, Pixel: 130</th>\n",
       "      <td>double[pyarrow]</td>\n",
       "      <td>int64[pyarrow]</td>\n",
       "      <td>int64[pyarrow]</td>\n",
       "      <td>double[pyarrow]</td>\n",
       "      <td>double[pyarrow]</td>\n",
       "      <td>int64[pyarrow]</td>\n",
       "      <td>nested&lt;band: [string], coord_dec: [double], co...</td>\n",
       "      <td>nested&lt;band: [string], centroid_flag: [bool], ...</td>\n",
       "    </tr>\n",
       "    <tr>\n",
       "      <th>Order: 6, Pixel: 136</th>\n",
       "      <td>...</td>\n",
       "      <td>...</td>\n",
       "      <td>...</td>\n",
       "      <td>...</td>\n",
       "      <td>...</td>\n",
       "      <td>...</td>\n",
       "      <td>...</td>\n",
       "      <td>...</td>\n",
       "    </tr>\n",
       "    <tr>\n",
       "      <th>...</th>\n",
       "      <td>...</td>\n",
       "      <td>...</td>\n",
       "      <td>...</td>\n",
       "      <td>...</td>\n",
       "      <td>...</td>\n",
       "      <td>...</td>\n",
       "      <td>...</td>\n",
       "      <td>...</td>\n",
       "    </tr>\n",
       "    <tr>\n",
       "      <th>Order: 11, Pixel: 36833621</th>\n",
       "      <td>...</td>\n",
       "      <td>...</td>\n",
       "      <td>...</td>\n",
       "      <td>...</td>\n",
       "      <td>...</td>\n",
       "      <td>...</td>\n",
       "      <td>...</td>\n",
       "      <td>...</td>\n",
       "    </tr>\n",
       "    <tr>\n",
       "      <th>Order: 7, Pixel: 143884</th>\n",
       "      <td>...</td>\n",
       "      <td>...</td>\n",
       "      <td>...</td>\n",
       "      <td>...</td>\n",
       "      <td>...</td>\n",
       "      <td>...</td>\n",
       "      <td>...</td>\n",
       "      <td>...</td>\n",
       "    </tr>\n",
       "  </tbody>\n",
       "</table>\n",
       "</div><div>8 out of 140 columns in the catalog have been loaded <strong>lazily</strong>, meaning no data has been read, only the catalog schema</div>"
      ],
      "text/plain": [
       "Dask NestedFrame Structure:\n",
       "                                 dec     diaObjectId     nDiaSources               ra      radecMjdTai           tract                                                                                                                                                                                                                                                                                                                                                                                                                                                                                                                                                                                                                                                                                                           diaObjectForcedSource                                                                                                                                                                                                                                                                                                                                                                                                                                                                                                                                                                                                                                                                                                                                                                                                                                                                                                                                                                                                                                                                                                                                                                                                                                                                                                                   diaSource\n",
       "npartitions=208                                                                                                                                                                                                                                                                                                                                                                                                                                                                                                                                                                                                                                                                                                                                                                                                                                                                                                                                                                                                                                                                                                                                                                                                                                                                                                                                                                                                                                                                                                                                                                                                                                                                                                                                                                                                                                                                                                                                                                                                                                                                                                                                                                   \n",
       "9147936743096320     double[pyarrow]  int64[pyarrow]  int64[pyarrow]  double[pyarrow]  double[pyarrow]  int64[pyarrow]  nested<band: [string], coord_dec: [double], coord_ra: [double], diff_PixelFlags_nodataCenter: [bool], forcedSourceOnDiaObjectId: [int64], invalidPsfFlag: [bool], midpointMjdTai: [double], pixelFlags_bad: [bool], pixelFlags_cr: [bool], pixelFlags_crCenter: [bool], pixelFlags_edge: [bool], pixelFlags_interpolated: [bool], pixelFlags_interpolatedCenter: [bool], pixelFlags_nodata: [bool], pixelFlags_saturated: [bool], pixelFlags_saturatedCenter: [bool], pixelFlags_suspect: [bool], pixelFlags_suspectCenter: [bool], psfDiffFlux: [float], psfDiffFlux_flag: [bool], psfDiffFluxErr: [float], psfFlux: [float], psfFlux_flag: [bool], psfFluxErr: [float], psfMag: [float], psfMagErr: [float], visit: [int64]>  nested<band: [string], centroid_flag: [bool], coord_dec: [double], coord_ra: [double], dec: [double], decErr: [float], diaSourceId: [int64], forced_PsfFlux_flag: [bool], forced_PsfFlux_flag_edge: [bool], forced_PsfFlux_flag_noGoodPixels: [bool], midpointMjdTai: [double], pixelFlags: [bool], pixelFlags_bad: [bool], pixelFlags_cr: [bool], pixelFlags_crCenter: [bool], pixelFlags_edge: [bool], pixelFlags_interpolated: [bool], pixelFlags_interpolatedCenter: [bool], pixelFlags_nodata: [bool], pixelFlags_nodataCenter: [bool], pixelFlags_offimage: [bool], pixelFlags_saturated: [bool], pixelFlags_saturatedCenter: [bool], pixelFlags_streak: [bool], pixelFlags_streakCenter: [bool], pixelFlags_suspect: [bool], pixelFlags_suspectCenter: [bool], psfFlux: [float], psfFlux_flag: [bool], psfFlux_flag_edge: [bool], psfFlux_flag_noGoodPixels: [bool], psfFluxErr: [float], psfMag: [float], psfMagErr: [float], ra: [double], raErr: [float], reliability: [float], scienceFlux: [float], scienceFluxErr: [float], scienceMag: [float], scienceMagErr: [float], shape_flag: [bool], shape_flag_no_pixels: [bool], shape_flag_not_contained: [bool], shape_flag_parent_source: [bool], snr: [float], trail_flag_edge: [bool], visit: [int64], x: [double], xErr: [float], y: [double], yErr: [float]>\n",
       "9570149208162304                 ...             ...             ...              ...              ...             ...                                                                                                                                                                                                                                                                                                                                                                                                                                                                                                                                                                                                                                                                                                                             ...                                                                                                                                                                                                                                                                                                                                                                                                                                                                                                                                                                                                                                                                                                                                                                                                                                                                                                                                                                                                                                                                                                                                                                                                                                                                                                                         ...\n",
       "...                              ...             ...             ...              ...              ...             ...                                                                                                                                                                                                                                                                                                                                                                                                                                                                                                                                                                                                                                                                                                                             ...                                                                                                                                                                                                                                                                                                                                                                                                                                                                                                                                                                                                                                                                                                                                                                                                                                                                                                                                                                                                                                                                                                                                                                                                                                                                                                                         ...\n",
       "2531234096814751744              ...             ...             ...              ...              ...             ...                                                                                                                                                                                                                                                                                                                                                                                                                                                                                                                                                                                                                                                                                                                             ...                                                                                                                                                                                                                                                                                                                                                                                                                                                                                                                                                                                                                                                                                                                                                                                                                                                                                                                                                                                                                                                                                                                                                                                                                                                                                                                         ...\n",
       "2531251689000796160              ...             ...             ...              ...              ...             ...                                                                                                                                                                                                                                                                                                                                                                                                                                                                                                                                                                                                                                                                                                                             ...                                                                                                                                                                                                                                                                                                                                                                                                                                                                                                                                                                                                                                                                                                                                                                                                                                                                                                                                                                                                                                                                                                                                                                                                                                                                                                                         ...\n",
       "Dask Name: nestedframe, 3 expressions\n",
       "Expr=MapPartitions(NestedFrame)"
      ]
     },
     "execution_count": 3,
     "metadata": {},
     "output_type": "execute_result"
    }
   ],
   "source": [
    "catalog = lsdb.open_catalog(path)\n",
    "catalog"
   ]
  },
  {
   "cell_type": "code",
   "execution_count": 4,
   "id": "1a12b5b4-113c-49e0-8927-590852748fcb",
   "metadata": {},
   "outputs": [
    {
     "name": "stderr",
     "output_type": "stream",
     "text": [
      "/astro/users/kmalanch/.virtualenvs/default/lib/python3.12/site-packages/distributed/node.py:187: UserWarning: Port 18787 is already in use.\n",
      "Perhaps you already have a cluster running?\n",
      "Hosting the HTTP server on port 35165 instead\n",
      "  warnings.warn(\n"
     ]
    },
    {
     "data": {
      "text/html": [
       "<table border=\"1\" class=\"dataframe\">\n",
       "  <thead>\n",
       "    <tr style=\"text-align: right;\">\n",
       "      <th></th>\n",
       "      <th>uniq</th>\n",
       "      <th>count</th>\n",
       "    </tr>\n",
       "  </thead>\n",
       "  <tbody>\n",
       "    <tr>\n",
       "      <th>0</th>\n",
       "      <td>600386153916399617</td>\n",
       "      <td>1</td>\n",
       "    </tr>\n",
       "    <tr>\n",
       "      <th>1</th>\n",
       "      <td>600386153916399618</td>\n",
       "      <td>1</td>\n",
       "    </tr>\n",
       "    <tr>\n",
       "      <th>...</th>\n",
       "      <td>...</td>\n",
       "      <td>...</td>\n",
       "    </tr>\n",
       "    <tr>\n",
       "      <th>15</th>\n",
       "      <td>600438906849067022</td>\n",
       "      <td>1</td>\n",
       "    </tr>\n",
       "    <tr>\n",
       "      <th>16</th>\n",
       "      <td>600438906849067026</td>\n",
       "      <td>1</td>\n",
       "    </tr>\n",
       "  </tbody>\n",
       "</table>\n",
       "<p>193495275 rows × 2 columns</p>"
      ],
      "text/plain": [
       "                  uniq  count\n",
       "0   600386153916399617      1\n",
       "1   600386153916399618      1\n",
       "..                 ...    ...\n",
       "15  600438906849067022      1\n",
       "16  600438906849067026      1\n",
       "\n",
       "[193495275 rows x 2 columns]"
      ]
     },
     "execution_count": 4,
     "metadata": {},
     "output_type": "execute_result"
    }
   ],
   "source": [
    "def count_uniq(df):\n",
    "    uniq, count = np.unique(\n",
    "        df['diaObjectForcedSource.forcedSourceOnDiaObjectId'],\n",
    "        return_counts=True,\n",
    "    )\n",
    "    return pd.DataFrame({'uniq': uniq, 'count': count})\n",
    "\n",
    "with Client(n_workers=8, threads_per_worker=1, dashboard_address=\":18787\") as client:\n",
    "    df = catalog.map_partitions(count_uniq).compute()\n",
    "df"
   ]
  },
  {
   "cell_type": "code",
   "execution_count": null,
   "id": "6d6c4950-438d-4e90-b603-64820aa3d81a",
   "metadata": {},
   "outputs": [],
   "source": [
    "duplicates = df.groupby('uniq').sum().query('count > 1')\n",
    "duplicates.index.name = 'forcedSourceOnDiaObjectId'\n",
    "duplicates.to_parquet('duplicated_forcedSourceOnDiaObjectId.parquet')\n",
    "duplicates"
   ]
  },
  {
   "cell_type": "code",
   "execution_count": null,
   "id": "3ae6c698-73b9-4273-acf8-523671ae08ee",
   "metadata": {},
   "outputs": [],
   "source": [
    "frac_of_duplicates = (\n",
    "    duplicates['count'].sum()\n",
    "    / catalog.map_partitions(lambda df: df.diaObjectForcedSource.nest.flat_length).compute().sum()\n",
    ")\n",
    "print(f\"Fraction of duplicates: {frac_of_duplicates*100:.1f}%\")"
   ]
  },
  {
   "cell_type": "code",
   "execution_count": null,
   "id": "06e60907-8e50-46cb-9926-476781060103",
   "metadata": {},
   "outputs": [],
   "source": [
    "with Client(n_workers=8, threads_per_worker=1, dashboard_address=\":18787\") as client:\n",
    "    result = catalog.query(\"diaObjectForcedSource.forcedSourceOnDiaObjectId == 600386155389124609\").dropna(subset=['diaObjectForcedSource']).compute()\n",
    "result"
   ]
  },
  {
   "cell_type": "code",
   "execution_count": null,
   "id": "6c87a0d9-426d-4fb6-a382-751567a16115",
   "metadata": {},
   "outputs": [],
   "source": [
    "# Single pixel, with AT2014ahyy\n",
    "\n",
    "import nested_pandas as npd\n",
    "\n",
    "nf = npd.read_parquet(\n",
    "    '/epyc/data3/hats/catalogs/dp1/dia_object_collection/dia_object_lc/dataset/Norder=9/Dir=2290000/Npix=2299828.parquet',\n",
    ")\n",
    "\n",
    "sources = nf['diaObjectForcedSource'].nest.to_flat()\n",
    "mask = sources['forcedSourceOnDiaObjectId'].isin(duplicates.index)\n",
    "plt.plot(sources[~mask].coord_ra, sources[~mask].coord_dec, 'o', ms=2, label='unique')\n",
    "plt.plot(sources[mask].coord_ra, sources[mask].coord_dec, 'x', ms=2, label='duplicated')\n",
    "plt.gca().invert_xaxis()\n",
    "plt.xlabel('RA')\n",
    "plt.ylabel('Dec')\n",
    "plt.legend()"
   ]
  }
 ],
 "metadata": {
  "kernelspec": {
   "display_name": "Kostya 3.12",
   "language": "python",
   "name": "kostya"
  },
  "language_info": {
   "codemirror_mode": {
    "name": "ipython",
    "version": 3
   },
   "file_extension": ".py",
   "mimetype": "text/x-python",
   "name": "python",
   "nbconvert_exporter": "python",
   "pygments_lexer": "ipython3",
   "version": "3.12.9"
  }
 },
 "nbformat": 4,
 "nbformat_minor": 5
}
