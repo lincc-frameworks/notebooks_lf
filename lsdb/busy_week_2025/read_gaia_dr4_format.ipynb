{
 "cells": [
  {
   "cell_type": "markdown",
   "id": "4861062b",
   "metadata": {},
   "source": [
    "## Read Gaia DR3 in DR4 format\n",
    "\n",
    "This notebook demonstrates how to read Gaia DR3 formatted in the DR4 directory structure."
   ]
  },
  {
   "cell_type": "code",
   "execution_count": 1,
   "id": "84f2996c",
   "metadata": {},
   "outputs": [],
   "source": [
    "import os\n",
    "import lsdb\n",
    "import hats.io.file_io as file_io\n",
    "import hats.io.paths as paths\n",
    "\n",
    "from dask.distributed import Client\n",
    "from glob import glob\n",
    "from hats.catalog import PartitionInfo\n",
    "from hats.catalog.dataset.table_properties import TableProperties\n",
    "from hats.io.file_io import write_parquet_metadata\n",
    "from hats.io.file_io.file_pointer import get_upath\n",
    "from hats.pixel_math.healpix_pixel import HealpixPixel\n",
    "from lsdb import ConeSearch\n",
    "from lsdb.loaders.hats.path_generator import PathGenerator\n",
    "from upath import UPath"
   ]
  },
  {
   "cell_type": "code",
   "execution_count": 2,
   "id": "cde4fa15",
   "metadata": {},
   "outputs": [],
   "source": [
    "gaia_dir = \"/Users/scampos/HatsSource\""
   ]
  },
  {
   "cell_type": "markdown",
   "id": "f95bced3",
   "metadata": {},
   "source": [
    "### Helper methods"
   ]
  },
  {
   "cell_type": "code",
   "execution_count": 3,
   "id": "4927e8f4",
   "metadata": {},
   "outputs": [],
   "source": [
    "def healpix_to_region_id(order, npix):\n",
    "    digits = []\n",
    "    remaining = npix\n",
    "    for power in range(order, -1, -1):\n",
    "        factor = 4 ** power\n",
    "        digit = remaining // factor\n",
    "        digits.append(format(digit, \"x\"))\n",
    "        remaining %= factor\n",
    "    return \"\".join(digits)\n",
    "\n",
    "\n",
    "def region_id_to_healpix(region_id):\n",
    "    order = len(region_id) - 1\n",
    "    npix = 0\n",
    "    for i in range(0, order+1):\n",
    "        npix = (npix * 4) + int(region_id[i:i+1], base=16)\n",
    "    return HealpixPixel(order, npix)\n",
    "\n",
    "\n",
    "def get_region_ids():\n",
    "    pattern = os.path.join(gaia_dir, \"**\", \"region=*\")\n",
    "    region_dirs = [d for d in glob(pattern) if os.path.isdir(d)]\n",
    "    return [os.path.basename(d).split(\"=\", 1)[1] for d in region_dirs]"
   ]
  },
  {
   "cell_type": "markdown",
   "id": "aac5d524",
   "metadata": {},
   "source": [
    "### Create missing HATS metadata / properties"
   ]
  },
  {
   "cell_type": "code",
   "execution_count": 4,
   "id": "3e13937e",
   "metadata": {},
   "outputs": [],
   "source": [
    "def read_pyarrow_dataset():\n",
    "    catalog_path = get_upath(gaia_dir)\n",
    "    dataset_subdir = catalog_path / \"dataset\"\n",
    "    (_, dataset) = file_io.read_parquet_dataset(dataset_subdir)\n",
    "    return dataset\n",
    "\n",
    "def create_hats_properties(total_rows):\n",
    "    props = TableProperties(\n",
    "        catalog_name=\"Gaia_DR3\",\n",
    "        catalog_type=\"object\",\n",
    "        total_rows=total_rows,\n",
    "        ra_column=\"ra\",\n",
    "        dec_column=\"dec\",\n",
    "        healpix_column=\"healpix29\",\n",
    "        healpix_order=29,\n",
    "    )\n",
    "    props.to_properties_file(gaia_dir)\n",
    "\n",
    "def write_partition_info():\n",
    "    pixels = [region_id_to_healpix(region_id) for region_id in get_region_ids()]\n",
    "    PartitionInfo(pixels).write_to_file(f\"{gaia_dir}/partition_info.csv\")\n",
    "\n",
    "def write_common_metadata(schema):\n",
    "    common_metadata_file_pointer = paths.get_common_metadata_pointer(gaia_dir)\n",
    "    write_parquet_metadata(schema, common_metadata_file_pointer)"
   ]
  },
  {
   "cell_type": "code",
   "execution_count": 5,
   "id": "d34827d9",
   "metadata": {},
   "outputs": [],
   "source": [
    "dataset = read_pyarrow_dataset()\n",
    "create_hats_properties(total_rows=dataset.count_rows())\n",
    "write_partition_info()\n",
    "write_common_metadata(dataset.schema)"
   ]
  },
  {
   "cell_type": "markdown",
   "id": "e170ca61",
   "metadata": {},
   "source": [
    "### Reading the catalogs and crossmatching\n",
    "\n",
    "A very small cone search for demonstration purposes."
   ]
  },
  {
   "cell_type": "code",
   "execution_count": 6,
   "id": "cee3457e",
   "metadata": {},
   "outputs": [],
   "source": [
    "cone = ConeSearch(ra=0,dec=0,radius_arcsec=3600)"
   ]
  },
  {
   "cell_type": "markdown",
   "id": "d8ff5c0a",
   "metadata": {},
   "source": [
    "Reading Gaia DR3 in HATS:"
   ]
  },
  {
   "cell_type": "code",
   "execution_count": 7,
   "id": "53ffa221",
   "metadata": {},
   "outputs": [],
   "source": [
    "gaia_dr3 = lsdb.open_catalog(\n",
    "    's3://stpubdata/gaia/gaia_dr3/public/hats',\n",
    "    search_filter=cone,\n",
    "    columns=[\"source_id\",\"ra\",\"dec\"])"
   ]
  },
  {
   "cell_type": "markdown",
   "id": "132041b5",
   "metadata": {},
   "source": [
    "Reading Gaia DR3 in DR4 format using a custom path generator:"
   ]
  },
  {
   "cell_type": "code",
   "execution_count": 8,
   "id": "256092e6",
   "metadata": {},
   "outputs": [],
   "source": [
    "class GaiaPathGenerator(PathGenerator):\n",
    "    \"\"\"Reads files in the Gaia DR4 format.\"\"\"\n",
    "    def __call__(self, pixel: HealpixPixel) -> UPath:\n",
    "        catalog_base_dir = get_upath(self.base_dir)\n",
    "        region_id = healpix_to_region_id(pixel.order, pixel.pixel)\n",
    "        return catalog_base_dir / \"dataset\" / f\"region={region_id}/\"\n",
    "    \n",
    "gaia_dr4 = lsdb.open_catalog(\n",
    "    gaia_dir,\n",
    "    search_filter=cone,\n",
    "    path_generator_type=GaiaPathGenerator)"
   ]
  },
  {
   "cell_type": "code",
   "execution_count": 9,
   "id": "ac47dc87",
   "metadata": {},
   "outputs": [
    {
     "name": "stderr",
     "output_type": "stream",
     "text": [
      "/Users/scampos/lsdb/src/lsdb/catalog/catalog.py:256: FutureWarning: The default suffix behavior will change from applying suffixes to all columns to only applying suffixes to overlapping columns in a future release.To maintain the current behavior, explicitly set `suffix_method='all_columns'`. To change to the new behavior, set `suffix_method='overlapping_columns'`.\n",
      "  warnings.warn(\n"
     ]
    }
   ],
   "source": [
    "with Client(n_workers=3):\n",
    "    xmatch_cat = gaia_dr4.crossmatch(gaia_dr3, radius_arcsec=0.5, suffixes=(\"_left\",\"_right\"))\n",
    "    xmatch_result = xmatch_cat.compute()"
   ]
  },
  {
   "cell_type": "markdown",
   "id": "298d8b71",
   "metadata": {},
   "source": [
    "Quick sanity check to make sure the `source_id` match:"
   ]
  },
  {
   "cell_type": "code",
   "execution_count": 10,
   "id": "847a4ef0",
   "metadata": {},
   "outputs": [],
   "source": [
    "left_source_id = xmatch_result[\"source_id_left\"]\n",
    "right_source_id = xmatch_result[\"source_id_right\"]\n",
    "assert all(left_source_id == right_source_id)"
   ]
  }
 ],
 "metadata": {
  "kernelspec": {
   "display_name": "lsdb",
   "language": "python",
   "name": "python3"
  },
  "language_info": {
   "codemirror_mode": {
    "name": "ipython",
    "version": 3
   },
   "file_extension": ".py",
   "mimetype": "text/x-python",
   "name": "python",
   "nbconvert_exporter": "python",
   "pygments_lexer": "ipython3",
   "version": "3.11.13"
  }
 },
 "nbformat": 4,
 "nbformat_minor": 5
}
