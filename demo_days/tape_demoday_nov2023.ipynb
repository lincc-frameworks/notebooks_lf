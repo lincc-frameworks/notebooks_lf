{
 "cells": [
  {
   "cell_type": "code",
   "execution_count": null,
   "id": "1e5d5b01-6af3-4df3-97de-b524b4099502",
   "metadata": {},
   "outputs": [],
   "source": [
    "import light_curve as licu\n",
    "import dask.dataframe as dd\n",
    "from tape import Ensemble, ColumnMapper\n",
    "import numpy as np\n",
    "from pathlib import Path"
   ]
  },
  {
   "cell_type": "markdown",
   "id": "cb838742-51f3-45d7-b1fb-eb4181eccf83",
   "metadata": {},
   "source": [
    "# LINCC Demo-Day: PLAsTiCC Eclipsing Binary Exploration with TAPE\n",
    "\n",
    "Showing off some TAPE analysis when working with the PLAsTiCC dataset (converted to parquet files from csv files). This workflow was created by Kostya, where he was interested in exploring Eclipsing Binaries within the dataset.\n",
    "\n",
    "Dataset Details:\n",
    "* Total Size: ~10 GBs\n",
    "* Number of Sources: 453,653,104\n",
    "* Number of Objects: 3,492,890"
   ]
  },
  {
   "cell_type": "markdown",
   "id": "1d66fb62-d083-4999-a258-f94de002aac1",
   "metadata": {},
   "source": [
    "## Setup and Loading"
   ]
  },
  {
   "cell_type": "markdown",
   "id": "7ab5d025-be80-4cb0-884a-119d144c7cde",
   "metadata": {},
   "source": [
    "Begin by initializing an Ensemble, and we can also grab the Dask Dashboard link for inspecting the Dask cluster work as we run through the cells."
   ]
  },
  {
   "cell_type": "code",
   "execution_count": null,
   "id": "f48f2366-7b92-4f1d-af1f-b54233f818af",
   "metadata": {},
   "outputs": [],
   "source": [
    "# Set some paths and variables\n",
    "DATA_DIR = \"/Users/dbranton/lincc/timeseries/data/plasticc/parquet\" # You'll need to grab this data yourself\n",
    "N_PROCESSORS = 4\n",
    "\n",
    "# Initialize an Ensemble\n",
    "ens = Ensemble(n_workers=N_PROCESSORS)\n",
    "ens.client_info()"
   ]
  },
  {
   "cell_type": "code",
   "execution_count": null,
   "id": "37623ccb-6d8b-45ed-b454-f6b443be6cb9",
   "metadata": {},
   "outputs": [],
   "source": [
    "# Loading PLAsTiCC into the Ensemble\n",
    "\n",
    "# ColumnMapper Establishes which table columns map to timeseries quantities\n",
    "colmap = ColumnMapper(\n",
    "        id_col='object_id',\n",
    "        time_col='mjd',\n",
    "        flux_col='flux',\n",
    "        err_col='flux_err',\n",
    "        band_col='passband',\n",
    "      )\n",
    "\n",
    "# We can read from parquet\n",
    "ens.from_parquet(\n",
    "    source_file=DATA_DIR+\"/source/*.parquet\",\n",
    "    object_file=DATA_DIR+\"/object/*.parquet\",\n",
    "    column_mapper=colmap,\n",
    "    sync_tables=False, # Avoid doing an initial sync\n",
    "    sorted=True, # If the input data is already sorted by the chosen index\n",
    "    sort=False,\n",
    ")"
   ]
  },
  {
   "cell_type": "markdown",
   "id": "0c467b7e-c051-4193-b90c-6b9304c92c60",
   "metadata": {},
   "source": [
    "We've loaded the data with the `sorted` flag set to `True`, this will populate divisions for the Ensemble dataframes. Below, we see the divisions populated (the numbers along the index) even when the data itself is still represented lazily.\n",
    "\n",
    "_**Divisions**: Given a sorted index, the boundary values for each partition that indicate which index slices live in which partition. Used to search for data only in a single partition, rather than needing to search all partitions._"
   ]
  },
  {
   "cell_type": "code",
   "execution_count": null,
   "id": "173a2dc4-5108-4875-b79a-9119a7b4febb",
   "metadata": {},
   "outputs": [],
   "source": [
    "ens.source"
   ]
  },
  {
   "cell_type": "code",
   "execution_count": null,
   "id": "b8b067cc-f3aa-4c86-8c62-575732d27675",
   "metadata": {},
   "outputs": [],
   "source": [
    "ens.object"
   ]
  },
  {
   "cell_type": "markdown",
   "id": "a78886a2-3590-4a1c-ad9a-288161982acd",
   "metadata": {},
   "source": [
    "## Analysis"
   ]
  },
  {
   "cell_type": "markdown",
   "id": "2037e6a2-4102-4fbf-a8d2-843a711eff1b",
   "metadata": {},
   "source": [
    "First, let's select only Galactic objects, by cutting on hostgal_photoz. We use `query` to cut on a column of the object table, this will propagate to the source table when it's next used."
   ]
  },
  {
   "cell_type": "code",
   "execution_count": null,
   "id": "30302bc5-2a2f-497f-bdcc-7c23480fcd88",
   "metadata": {},
   "outputs": [],
   "source": [
    "ens = ens.query(\"hostgal_photoz < 1e-3\", table=\"object\")"
   ]
  },
  {
   "cell_type": "markdown",
   "id": "3b512dae-a72d-41de-9d5f-d0e81f5e6a53",
   "metadata": {},
   "source": [
    "Second, let's select persistent sources, by cutting on the duration of the light curve. In this case, we use the `batch` interface to apply a custom function to each light curve."
   ]
  },
  {
   "cell_type": "code",
   "execution_count": null,
   "id": "9b2f34be-f6b4-40ed-99d1-716cad3eaaae",
   "metadata": {},
   "outputs": [],
   "source": [
    "duration = ens.batch(\n",
    "    lambda time, detected: np.ptp(time[np.asarray(detected, dtype=bool)]),\n",
    "    ens._time_col, 'detected_bool',\n",
    "    use_map=True,\n",
    ")\n",
    "\n",
    "# Duration is a dask series, which we can assign as a column to the Object Table\n",
    "ens.assign(table=\"object\", duration=duration['result'])"
   ]
  },
  {
   "cell_type": "code",
   "execution_count": null,
   "id": "baa54f30-04fc-483a-a84f-03048aef4c4d",
   "metadata": {},
   "outputs": [],
   "source": [
    "ens.head(\"object\", 5)"
   ]
  },
  {
   "cell_type": "markdown",
   "id": "58e2a449-dd67-48b7-a9cf-9a09f7b5c04f",
   "metadata": {},
   "source": [
    "Now we can use our new duration column to further filter the dataset. Once again, we use `query`."
   ]
  },
  {
   "cell_type": "code",
   "execution_count": null,
   "id": "d5fc7bfd-ac4d-4611-a62c-0b667aba8998",
   "metadata": {},
   "outputs": [],
   "source": [
    "ens = ens.query(\"duration > 366\", table=\"object\")"
   ]
  },
  {
   "cell_type": "markdown",
   "id": "26061727-5c9f-42bb-aaf6-206ef31add49",
   "metadata": {},
   "source": [
    "Next, we use Otsu's method to split light curves into two groups:\n",
    "* one with high flux\n",
    "* one with low flux\n",
    "\n",
    "Eclipsing binaries should have lower flux group smaller than the higher flux group, but having larger  variability. We use light-curve package to extract these features (https://github.com/light-curve/light-curve-python). For simplicity, we only calculate these features for the i (3) band."
   ]
  },
  {
   "cell_type": "code",
   "execution_count": null,
   "id": "fab0f514-18c3-4e5c-9a07-efba518525cb",
   "metadata": {},
   "outputs": [],
   "source": [
    "# Once again using batch to apply a custom function\n",
    "otsu_features = ens.batch(licu.OtsuSplit(), band_to_calc=3, use_map=True)\n",
    "\n",
    "# otsu_features is a dataframe with multiple columns, can assign them to object\n",
    "ens = ens.assign(\n",
    "    table=\"object\",\n",
    "    otsu_lower_to_all_ratio=otsu_features['otsu_lower_to_all_ratio'],\n",
    "    otsu_std_lower=otsu_features['otsu_std_lower'],\n",
    "    otsu_std_upper=otsu_features['otsu_std_upper'],\n",
    ")"
   ]
  },
  {
   "cell_type": "markdown",
   "id": "e0f20481-8eee-44cb-823a-930ef66dabc2",
   "metadata": {},
   "source": [
    "Now we can query by these columns to filter down to to our objects of interest."
   ]
  },
  {
   "cell_type": "code",
   "execution_count": null,
   "id": "6d6add17-6c7f-4ea8-812d-31b0227bac0b",
   "metadata": {},
   "outputs": [],
   "source": [
    "ens = ens.query(\n",
    "    \"otsu_lower_to_all_ratio < 0.1 and otsu_std_lower > otsu_std_upper\",\n",
    "    table=\"object\",\n",
    ")"
   ]
  },
  {
   "cell_type": "markdown",
   "id": "bc3d1cab-46e8-44e5-9ae3-a3a883e1f7a8",
   "metadata": {},
   "source": [
    "Thus far, everything has mostly been run lazily. We can kick off the analysis by bringing the resulting object table into memory."
   ]
  },
  {
   "cell_type": "code",
   "execution_count": null,
   "id": "e8f0e0ac-fcce-4871-9c27-40b4d2a00325",
   "metadata": {},
   "outputs": [],
   "source": [
    "df = ens.compute(\"object\")\n",
    "df"
   ]
  },
  {
   "cell_type": "code",
   "execution_count": null,
   "id": "c4281794-1b22-4353-99e4-0428eb9e15cf",
   "metadata": {},
   "outputs": [],
   "source": []
  }
 ],
 "metadata": {
  "kernelspec": {
   "display_name": "Python 3 (ipykernel)",
   "language": "python",
   "name": "python3"
  },
  "language_info": {
   "codemirror_mode": {
    "name": "ipython",
    "version": 3
   },
   "file_extension": ".py",
   "mimetype": "text/x-python",
   "name": "python",
   "nbconvert_exporter": "python",
   "pygments_lexer": "ipython3",
   "version": "3.10.11"
  }
 },
 "nbformat": 4,
 "nbformat_minor": 5
}
