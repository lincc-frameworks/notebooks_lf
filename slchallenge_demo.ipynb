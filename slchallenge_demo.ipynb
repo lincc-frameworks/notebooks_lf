{
 "cells": [
  {
   "cell_type": "markdown",
   "id": "2a5ae1c8",
   "metadata": {},
   "source": [
    "TODO: Add some `pooch` work here to pull down the example files and stash them in the users local cache.\n",
    "TODO: Massage the data so that it's in the correct locations. My hunch here is that we can place all the files together in\n",
    "the same directory. And we'll need to concatenate the parameters.fits files together.\n",
    "The data files are sorted alphabetically, so we need to be careful about the way that we concatenate the parameters.fits\n",
    "so that the ordering is maintained."
   ]
  },
  {
   "cell_type": "code",
   "execution_count": 1,
   "id": "8e882d00",
   "metadata": {},
   "outputs": [
    {
     "name": "stderr",
     "output_type": "stream",
     "text": [
      "[2025-08-15 16:09:09,210 hyrax:INFO] Runtime Config read from: /home/drew/code/hyrax/src/hyrax/hyrax_default_config.toml\n"
     ]
    }
   ],
   "source": [
    "from hyrax import Hyrax\n",
    "h = Hyrax()"
   ]
  },
  {
   "cell_type": "code",
   "execution_count": 2,
   "id": "66611059",
   "metadata": {},
   "outputs": [],
   "source": [
    "import numpy as np\n",
    "from pathlib import Path\n",
    "from torch.utils.data import Dataset\n",
    "from torch import from_numpy\n",
    "from hyrax.data_sets import HyraxDataset\n",
    "from astropy.io import fits\n",
    "from astropy.table import Table\n",
    "\n",
    "\n",
    "\"\"\"\n",
    "Note - `index` this class refers to the row index in the parameters.fits file.\n",
    "\"\"\"\n",
    "class SLDataset(HyraxDataset, Dataset):\n",
    "    def __init__(self, config: dict):\n",
    "        super().__init__(config)\n",
    "        self.metadata = self.read_metadata(Path(config['general']['data_dir']))\n",
    "        self.filepaths = self.read_filepaths(Path(config['general']['data_dir']))\n",
    "\n",
    "    def get_image(self, index: int):\n",
    "        image_stack = np.zeros((5, 41, 41), dtype=np.float32)\n",
    "        for b in range(5):\n",
    "            file_index = index * 5 + b\n",
    "            raw_data = fits.getdata(self.filepaths[file_index], memmap=False)\n",
    "            image_stack[b] = raw_data[0][1]\n",
    "\n",
    "        return from_numpy(image_stack)\n",
    "\n",
    "    def get_label(self, index: int):\n",
    "        file_index = index * 5\n",
    "        ret_value = np.array([0., 1.], dtype=np.float32)\n",
    "        if \"_L_\" in str(self.filepaths[file_index]):\n",
    "            ret_value = np.array([1., 0.], dtype=np.float32)\n",
    "        return from_numpy(ret_value)\n",
    "\n",
    "    def get_object_id(self, index: int) -> str:\n",
    "        return str(self.metadata[index]['Lens ID'])\n",
    "\n",
    "    def get_filename(self, index: int) -> str:\n",
    "        file_index = index * 5\n",
    "        return str(self.filepaths[file_index].name)\n",
    "\n",
    "    def read_filepaths(self, data_directory: Path):\n",
    "        return sorted(list(data_directory.glob(\"*.fits\")))\n",
    "\n",
    "    def read_metadata(self, data_directory: Path):\n",
    "        return Table.read(data_directory / \"parameters.fits\")\n",
    "\n",
    "    def __len__(self):\n",
    "        return len(self.metadata)\n",
    "\n",
    "    def __getitem__(self, index: int):\n",
    "        return {\n",
    "            \"image\": self.get_image(index),\n",
    "            \"label\": self.get_label(index),  # True == lens, False == non-lens\n",
    "            \"object_id\": self.get_object_id(index),\n",
    "        }"
   ]
  },
  {
   "cell_type": "code",
   "execution_count": 3,
   "id": "580f75c8",
   "metadata": {},
   "outputs": [
    {
     "name": "stderr",
     "output_type": "stream",
     "text": [
      "[2025-08-15 16:09:18,059 hyrax.prepare:INFO] Finished Prepare\n"
     ]
    }
   ],
   "source": [
    "# h.config[\"general\"][\"data_dir\"] = \"/Users/drew/sl_data_challenge/hsc_lenses/hsc_lenses\"\n",
    "h.config[\"general\"][\"data_dir\"] = \"/home/drew/data/hsc_lenses\"\n",
    "h.config[\"data_set\"][\"name\"] = \"SLDataset\"\n",
    "\n",
    "ds = h.prepare()"
   ]
  },
  {
   "cell_type": "code",
   "execution_count": 4,
   "id": "480cfb3a",
   "metadata": {},
   "outputs": [
    {
     "name": "stdout",
     "output_type": "stream",
     "text": [
      "Lens ID: 69612439091552763\n",
      "Is lens? tensor([1., 0.])\n",
      "Data shape: torch.Size([5, 41, 41])\n"
     ]
    }
   ],
   "source": [
    "samp = ds[8]\n",
    "print(f\"Lens ID: {samp['object_id']}\")\n",
    "print(f\"Is lens? {samp['label']}\")\n",
    "print(f\"Data shape: {samp['image'].shape}\")\n"
   ]
  },
  {
   "cell_type": "code",
   "execution_count": 5,
   "id": "198e41ac",
   "metadata": {},
   "outputs": [
    {
     "data": {
      "text/html": [
       "<div><i>Table length=50000</i>\n",
       "<table id=\"table132599993579232\" class=\"table-striped table-bordered table-condensed\">\n",
       "<thead><tr><th>Lens ID</th><th>ra</th><th>dec</th><th>zlens</th><th>mag_lens_g</th><th>mag_lens_r</th><th>mag_lens_i</th><th>mag_lens_z</th><th>mag_lens_y</th><th>ell_l</th><th>ell_l_PA</th><th>Rein</th><th>vel disp</th><th>sh</th><th>sh_PA</th><th>srcx</th><th>srcy</th><th>mag_src_g</th><th>mag_src_r</th><th>mag_src_i</th><th>mag_src_z</th><th>mag_src_y</th><th>zsrc</th><th>ell_s</th><th>ell_s_PA</th><th>Reff_s</th><th>n_s_sers</th><th>ell_m</th><th>ell_m_PA</th><th>Reff_l</th><th>n_l_sers</th></tr></thead>\n",
       "<thead><tr><th>int64</th><th>float64</th><th>float64</th><th>float64</th><th>float64</th><th>float64</th><th>float64</th><th>float64</th><th>float64</th><th>float64</th><th>float64</th><th>float64</th><th>float64</th><th>float64</th><th>float64</th><th>float64</th><th>float64</th><th>float64</th><th>float64</th><th>float64</th><th>float64</th><th>float64</th><th>float64</th><th>float64</th><th>float64</th><th>float64</th><th>int64</th><th>float64</th><th>float64</th><th>int64</th><th>int64</th></tr></thead>\n",
       "<tr><td>75339120850791805</td><td>242.44554906892057</td><td>55.00850181745938</td><td>0.5490264</td><td>21.914482</td><td>20.72183</td><td>19.843065</td><td>19.447388</td><td>19.226671</td><td>0.3187112200729652</td><td>140.55671939947152</td><td>1.492563900239972</td><td>322.541908350292</td><td>0.0184277930213721</td><td>165.10540757089433</td><td>-0.539412</td><td>0.54139</td><td>23.78413796420183</td><td>23.579951964201825</td><td>23.324303964201828</td><td>22.806399964201827</td><td>22.60081396420183</td><td>1.3204864688209512</td><td>0.7913979949902453</td><td>176.15020530130457</td><td>0.13909055536025083</td><td>1</td><td>0.3187112200729652</td><td>140.55671939947152</td><td>-999</td><td>-999</td></tr>\n",
       "<tr><td>74643937444253184</td><td>213.32224600390697</td><td>52.73905141952488</td><td>0.58255017</td><td>22.761929</td><td>21.156885</td><td>20.12777</td><td>19.667177</td><td>19.414434</td><td>0.2316346746128754</td><td>144.15667879680944</td><td>0.9343815570008128</td><td>260.02318247470157</td><td>0.0011520234264059</td><td>1.4402219343718017</td><td>0.052176</td><td>0.395926</td><td>24.99161815939484</td><td>25.10994015939483</td><td>24.791514159394836</td><td>24.28267315939484</td><td>23.97795115939483</td><td>1.3505307973365617</td><td>0.3285413157429651</td><td>22.332981226490716</td><td>0.06689373056323532</td><td>1</td><td>0.2316346746128754</td><td>144.15667879680944</td><td>-999</td><td>-999</td></tr>\n",
       "<tr><td>44223324036811477</td><td>149.695422904841</td><td>3.0730654944116496</td><td>0.91960937</td><td>24.011171</td><td>22.424341</td><td>21.162437</td><td>20.38196</td><td>20.159344</td><td>0.2301652369252709</td><td>67.07979948362424</td><td>0.7758354000912594</td><td>243.9328930590481</td><td>0.0172741275739362</td><td>154.1759454372911</td><td>0.395498</td><td>-0.045234</td><td>26.032162820101647</td><td>25.953453820101643</td><td>25.973011820101647</td><td>26.45687782010165</td><td>26.22992982010165</td><td>2.2965129206836985</td><td>0.2985856052945675</td><td>170.38760097201072</td><td>0.044008539128840195</td><td>1</td><td>0.2301652369252709</td><td>67.07979948362424</td><td>-999</td><td>-999</td></tr>\n",
       "<tr><td>69581790204943781</td><td>225.25899793258637</td><td>42.60838770751077</td><td>0.6943516</td><td>22.228773</td><td>21.110435</td><td>19.887783</td><td>19.586441</td><td>19.200443</td><td>0.1503831414427968</td><td>59.239639601732165</td><td>1.7368381527311745</td><td>344.2016628284946</td><td>0.010387129432469</td><td>88.93069988654877</td><td>0.518148</td><td>0.152541</td><td>24.796290563415667</td><td>24.583549563415666</td><td>24.279836563415667</td><td>24.122608563415668</td><td>23.662105563415665</td><td>1.866385137591267</td><td>0.6388043512112632</td><td>173.92612524227113</td><td>0.08628889694184529</td><td>1</td><td>0.1503831414427968</td><td>59.239639601732165</td><td>-999</td><td>-999</td></tr>\n",
       "<tr><td>69599657268895544</td><td>232.7942998977284</td><td>42.61872055220366</td><td>0.6506699</td><td>21.36213</td><td>20.065937</td><td>18.882666</td><td>18.434261</td><td>18.243608</td><td>0.2546410645234006</td><td>133.95651731405908</td><td>2.784847879054728</td><td>531.7224047948305</td><td>0.006371002448201</td><td>50.88318108822063</td><td>1.437089</td><td>-0.164365</td><td>25.585802316961686</td><td>25.233050316961684</td><td>24.76860531696169</td><td>24.37352831696169</td><td>24.31412331696168</td><td>1.105997310010219</td><td>0.1535637800279878</td><td>108.34787941706271</td><td>0.04272343866272886</td><td>1</td><td>0.2546410645234006</td><td>133.95651731405908</td><td>-999</td><td>-999</td></tr>\n",
       "<tr><td>70360665344203068</td><td>221.4788543885395</td><td>44.50887152198978</td><td>1.026881</td><td>23.476093</td><td>22.430262</td><td>21.323118</td><td>20.856005</td><td>20.48569</td><td>0.2945968527250383</td><td>172.19886093545847</td><td>0.6742422113459928</td><td>215.80151247477423</td><td>0.0167371210406664</td><td>149.0885151221035</td><td>0.209969</td><td>0.061814</td><td>25.84347287523804</td><td>24.939557875238044</td><td>24.639731875238045</td><td>24.50938187523804</td><td>25.34569887523805</td><td>3.3195153364231267</td><td>0.5975014895934048</td><td>16.5712786904554</td><td>0.05740391267338577</td><td>1</td><td>0.2945968527250383</td><td>172.19886093545847</td><td>-999</td><td>-999</td></tr>\n",
       "<tr><td>37489781684342465</td><td>35.3481868280165</td><td>-5.492482231992536</td><td>0.3464315</td><td>21.589935</td><td>20.06471</td><td>19.474009</td><td>19.127518</td><td>18.951971</td><td>0.1400338176310576</td><td>168.82189414901197</td><td>0.8658283050566086</td><td>202.88765754985496</td><td>0.0018885317491715</td><td>8.417669202677438</td><td>-0.246845</td><td>-0.000831</td><td>24.144554769116095</td><td>23.9362737691161</td><td>23.642845769116096</td><td>23.520744769116092</td><td>23.47341976911609</td><td>1.82255049695534</td><td>0.3996195413434265</td><td>168.6193028775504</td><td>0.12748936904367097</td><td>1</td><td>0.1400338176310576</td><td>168.82189414901197</td><td>-999</td><td>-999</td></tr>\n",
       "<tr><td>69599103218113191</td><td>233.6023906798697</td><td>42.439942151091486</td><td>0.6226637</td><td>21.899918</td><td>20.498674</td><td>19.438536</td><td>19.044287</td><td>18.759584</td><td>0.2560329690352266</td><td>102.82577618124859</td><td>2.2445275574922223</td><td>376.19825165990056</td><td>0.0082532992877232</td><td>68.71546693632591</td><td>-0.664482</td><td>-0.002237</td><td>24.166408729221004</td><td>24.089107729221</td><td>23.930172729221</td><td>23.919903729221005</td><td>23.836158729221</td><td>1.857341484091474</td><td>0.265016818289844</td><td>42.8739456343977</td><td>0.12677965425986232</td><td>1</td><td>0.2560329690352266</td><td>102.82577618124859</td><td>-999</td><td>-999</td></tr>\n",
       "<tr><td>69612439091552763</td><td>239.50216948252773</td><td>42.640620416993094</td><td>0.65890974</td><td>22.429792</td><td>21.444733</td><td>20.390316</td><td>20.011965</td><td>19.65237</td><td>0.2961839933917823</td><td>42.82083576937197</td><td>1.710228272028671</td><td>331.9272970515143</td><td>0.00638734473078</td><td>51.03800271265267</td><td>1.183007</td><td>0.771661</td><td>24.73634594685197</td><td>24.82052894685196</td><td>24.546888946851965</td><td>24.374273946851968</td><td>24.55785594685197</td><td>1.928261831064603</td><td>0.1710483449790056</td><td>77.43194765540096</td><td>0.09074100270785052</td><td>1</td><td>0.2961839933917823</td><td>42.82083576937197</td><td>-999</td><td>-999</td></tr>\n",
       "<tr><td>...</td><td>...</td><td>...</td><td>...</td><td>...</td><td>...</td><td>...</td><td>...</td><td>...</td><td>...</td><td>...</td><td>...</td><td>...</td><td>...</td><td>...</td><td>...</td><td>...</td><td>...</td><td>...</td><td>...</td><td>...</td><td>...</td><td>...</td><td>...</td><td>...</td><td>...</td><td>...</td><td>...</td><td>...</td><td>...</td><td>...</td></tr>\n",
       "<tr><td>42090018075867192</td><td>149.46503721007426</td><td>1.174556944258871</td><td>0.58975625</td><td>23.08016</td><td>21.841255</td><td>20.826982</td><td>20.350891</td><td>20.170177</td><td>0.3878787189343161</td><td>60.15922804304364</td><td>0.8519853843075389</td><td>240.07002275141173</td><td>0.0123177797186121</td><td>107.22107101843056</td><td>-0.794773</td><td>0.253427</td><td>25.49075736404638</td><td>25.560465364046387</td><td>25.340799364046383</td><td>25.070299364046384</td><td>24.71863736404638</td><td>1.5162510761556152</td><td>0.6850345304724421</td><td>7.298601232564083</td><td>0.05167267548429869</td><td>1</td><td>0.3878787189343161</td><td>60.15922804304364</td><td>-999</td><td>-999</td></tr>\n",
       "<tr><td>44222769986045972</td><td>150.38611251399666</td><td>3.032628689008343</td><td>0.585107</td><td>21.949066</td><td>20.864054</td><td>20.055815</td><td>19.713219</td><td>19.56164</td><td>0.0778576060098654</td><td>78.52828762058328</td><td>1.4621481185756235</td><td>331.40588348729966</td><td>0.0110518232146395</td><td>95.22779887553229</td><td>-0.411689</td><td>-0.001386</td><td>24.60569236320373</td><td>24.54506536320372</td><td>24.390888363203725</td><td>23.83039336320373</td><td>23.81695736320373</td><td>1.293668680514115</td><td>0.327914812914357</td><td>45.87248238255348</td><td>0.08327069972219928</td><td>1</td><td>0.0778576060098654</td><td>78.52828762058328</td><td>-999</td><td>-999</td></tr>\n",
       "<tr><td>44222774281001238</td><td>150.38312563270247</td><td>3.092141144131011</td><td>0.7465216</td><td>23.335863</td><td>22.03719</td><td>20.782934</td><td>20.197811</td><td>19.876083</td><td>0.3580673166900878</td><td>33.24924430622477</td><td>1.1316878470743572</td><td>268.0811472477922</td><td>0.0027865451052405</td><td>16.925164154910174</td><td>-0.944775</td><td>1.26089</td><td>25.32689074059579</td><td>25.265647740595792</td><td>25.18497774059579</td><td>25.38891774059579</td><td>25.491641740595792</td><td>2.396071872692795</td><td>0.3795504600235614</td><td>154.91802183337</td><td>0.06905082688592819</td><td>1</td><td>0.3580673166900878</td><td>33.24924430622477</td><td>-999</td><td>-999</td></tr>\n",
       "<tr><td>69560620311142360</td><td>213.814336717289</td><td>42.47504752010085</td><td>0.23177263</td><td>20.418158</td><td>19.103926</td><td>18.572218</td><td>18.302593</td><td>18.098492</td><td>0.4314023105530596</td><td>135.8364853428487</td><td>0.7844044226943571</td><td>184.3174278905864</td><td>0.007515678911214</td><td>61.72748442202766</td><td>0.632901</td><td>0.378949</td><td>25.19047828599596</td><td>25.14668928599596</td><td>24.97344528599596</td><td>25.439621285995965</td><td>26.11158828599596</td><td>1.6255743965583371</td><td>0.6158997011388164</td><td>119.65312007200332</td><td>0.06396296974735893</td><td>1</td><td>0.4314023105530596</td><td>135.8364853428487</td><td>-999</td><td>-999</td></tr>\n",
       "<tr><td>37488961345574534</td><td>36.39485334678536</td><td>-5.410588078667412</td><td>0.513357</td><td>22.284508</td><td>21.079601</td><td>20.353064</td><td>19.999456</td><td>19.728569</td><td>0.2663416867513994</td><td>23.755048492592124</td><td>1.0837700394175551</td><td>246.2605995604624</td><td>0.0031664336039348</td><td>20.524107826751052</td><td>0.811801</td><td>0.486065</td><td>25.420275561419977</td><td>25.236624561419976</td><td>25.30208056141997</td><td>24.96978056141997</td><td>25.105129561419975</td><td>1.8638281574413111</td><td>0.324655597891142</td><td>32.031209469758245</td><td>0.05879119606612654</td><td>1</td><td>0.2663416867513994</td><td>23.755048492592124</td><td>-999</td><td>-999</td></tr>\n",
       "<tr><td>70404757478444912</td><td>241.63429492782467</td><td>43.29637247105024</td><td>0.59549093</td><td>22.893534</td><td>21.373848</td><td>20.29145</td><td>19.847044</td><td>19.688822</td><td>0.1684106375783671</td><td>172.46218683486376</td><td>1.228788221717017</td><td>254.19403017095772</td><td>0.0051663072298284</td><td>39.47027901942776</td><td>0.616038</td><td>-0.070458</td><td>25.418173600909764</td><td>24.859572600909768</td><td>24.790877600909763</td><td>24.844647600909763</td><td>26.796623600909765</td><td>2.921612930902248</td><td>0.2000769288274765</td><td>55.48377054986793</td><td>0.07078463517349207</td><td>1</td><td>0.1684106375783671</td><td>172.46218683486376</td><td>-999</td><td>-999</td></tr>\n",
       "<tr><td>44227580349415013</td><td>151.3149763612095</td><td>3.0137541685089353</td><td>1.0350374</td><td>23.923801</td><td>23.236197</td><td>22.32535</td><td>21.72442</td><td>21.391127</td><td>0.1657022643079578</td><td>37.59725855886802</td><td>0.537050586916506</td><td>192.43890654981317</td><td>0.0160994225786368</td><td>143.04716127129635</td><td>-0.153795</td><td>-0.000518</td><td>26.66046235959637</td><td>25.84126335959637</td><td>25.457562359596366</td><td>25.522289359596364</td><td>25.55910335959637</td><td>3.3774890552745953</td><td>0.4650555695141743</td><td>176.632962924746</td><td>0.03500300338280908</td><td>1</td><td>0.1657022643079578</td><td>37.59725855886802</td><td>-999</td><td>-999</td></tr>\n",
       "<tr><td>69604205639259438</td><td>234.40222992882605</td><td>43.11250199310692</td><td>0.35737866</td><td>21.405832</td><td>19.854477</td><td>19.220024</td><td>18.918093</td><td>18.736397</td><td>0.2750713478361204</td><td>131.336614079334</td><td>0.9106093418171648</td><td>215.93683991158423</td><td>0.0071135092685511</td><td>57.91745622837929</td><td>-0.397429</td><td>-0.556719</td><td>23.59930765759368</td><td>23.549422657593677</td><td>23.392588657593677</td><td>23.135270657593676</td><td>23.05370565759368</td><td>1.4414965387091634</td><td>0.5572395683778941</td><td>24.789848351649837</td><td>0.1616177303664865</td><td>1</td><td>0.2750713478361204</td><td>131.336614079334</td><td>-999</td><td>-999</td></tr>\n",
       "<tr><td>70404358046518182</td><td>242.27698887944024</td><td>43.976833975990665</td><td>0.73492855</td><td>23.88649</td><td>22.12454</td><td>20.810356</td><td>20.272257</td><td>19.995607</td><td>0.2500561627401225</td><td>84.1831237580513</td><td>0.5120779500266441</td><td>197.9102412171976</td><td>0.0155384706387202</td><td>137.73287973524475</td><td>-0.17954</td><td>0.180199</td><td>24.476600228403793</td><td>24.3788212284038</td><td>24.190791228403796</td><td>23.964751228403795</td><td>23.9433582284038</td><td>1.6920940403690206</td><td>0.3642437923585133</td><td>64.29336220602481</td><td>0.10081832283362868</td><td>1</td><td>0.2500561627401225</td><td>84.1831237580513</td><td>-999</td><td>-999</td></tr>\n",
       "<tr><td>69608869973751293</td><td>235.98045622668673</td><td>42.85004306162237</td><td>0.46929586</td><td>21.8764</td><td>20.249193</td><td>19.349646</td><td>19.044678</td><td>18.822449</td><td>0.1998136377720314</td><td>26.35081560557188</td><td>1.4316065619756642</td><td>259.9172816385793</td><td>0.0183950763416419</td><td>164.79546007871278</td><td>-0.051315</td><td>0.816738</td><td>25.78134464589893</td><td>24.904116645898924</td><td>24.645287645898925</td><td>24.46570864589893</td><td>24.70143264589893</td><td>3.2056740444052103</td><td>0.57317109173148</td><td>86.07228200973641</td><td>0.058802798671541104</td><td>1</td><td>0.1998136377720314</td><td>26.35081560557188</td><td>-999</td><td>-999</td></tr>\n",
       "</table></div>"
      ],
      "text/plain": [
       "<Table length=50000>\n",
       "     Lens ID              ra                dec         ... Reff_l n_l_sers\n",
       "      int64            float64            float64       ... int64   int64  \n",
       "----------------- ------------------ ------------------ ... ------ --------\n",
       "75339120850791805 242.44554906892057  55.00850181745938 ...   -999     -999\n",
       "74643937444253184 213.32224600390697  52.73905141952488 ...   -999     -999\n",
       "44223324036811477   149.695422904841 3.0730654944116496 ...   -999     -999\n",
       "69581790204943781 225.25899793258637  42.60838770751077 ...   -999     -999\n",
       "69599657268895544  232.7942998977284  42.61872055220366 ...   -999     -999\n",
       "70360665344203068  221.4788543885395  44.50887152198978 ...   -999     -999\n",
       "37489781684342465   35.3481868280165 -5.492482231992536 ...   -999     -999\n",
       "69599103218113191  233.6023906798697 42.439942151091486 ...   -999     -999\n",
       "69612439091552763 239.50216948252773 42.640620416993094 ...   -999     -999\n",
       "              ...                ...                ... ...    ...      ...\n",
       "42090018075867192 149.46503721007426  1.174556944258871 ...   -999     -999\n",
       "44222769986045972 150.38611251399666  3.032628689008343 ...   -999     -999\n",
       "44222774281001238 150.38312563270247  3.092141144131011 ...   -999     -999\n",
       "69560620311142360   213.814336717289  42.47504752010085 ...   -999     -999\n",
       "37488961345574534  36.39485334678536 -5.410588078667412 ...   -999     -999\n",
       "70404757478444912 241.63429492782467  43.29637247105024 ...   -999     -999\n",
       "44227580349415013  151.3149763612095 3.0137541685089353 ...   -999     -999\n",
       "69604205639259438 234.40222992882605  43.11250199310692 ...   -999     -999\n",
       "70404358046518182 242.27698887944024 43.976833975990665 ...   -999     -999\n",
       "69608869973751293 235.98045622668673  42.85004306162237 ...   -999     -999"
      ]
     },
     "execution_count": 5,
     "metadata": {},
     "output_type": "execute_result"
    }
   ],
   "source": [
    "ds.metadata"
   ]
  },
  {
   "cell_type": "code",
   "execution_count": 6,
   "id": "ee7b038b",
   "metadata": {},
   "outputs": [],
   "source": [
    "h.config[\"model\"][\"name\"] = \"HyraxCNN\"\n",
    "h.config[\"model\"][\"hyrax_cnn\"][\"output_classes\"] = 2"
   ]
  },
  {
   "cell_type": "code",
   "execution_count": null,
   "id": "8dd09955",
   "metadata": {},
   "outputs": [
    {
     "name": "stderr",
     "output_type": "stream",
     "text": [
      "[2025-08-15 15:02:21,095 hyrax.models.model_registry:INFO] Using criterion: torch.nn.CrossEntropyLoss with default arguments.\n",
      "[2025-08-15 15:02:21,096 hyrax.models.model_registry:INFO] Using optimizer: torch.optim.SGD with arguments: {'lr': 0.01, 'momentum': 0.9}.\n",
      "2025-08-15 15:02:21,100 ignite.distributed.auto.auto_dataloader INFO: Use data loader kwargs for dataset '<__main__.SLDataset': \n",
      "\t{'sampler': <hyrax.pytorch_ignite.SubsetSequentialSampler object at 0x7fcdf6be3740>, 'batch_size': 512, 'shuffle': False, 'pin_memory': True}\n",
      "2025-08-15 15:02:21,101 ignite.distributed.auto.auto_dataloader INFO: Use data loader kwargs for dataset '<__main__.SLDataset': \n",
      "\t{'sampler': <hyrax.pytorch_ignite.SubsetSequentialSampler object at 0x7fcd995d7f50>, 'batch_size': 512, 'shuffle': False, 'pin_memory': True}\n",
      "2025/08/15 15:02:21 INFO mlflow.system_metrics.system_metrics_monitor: Started monitoring system metrics.\n",
      "[2025-08-15 15:02:21,134 hyrax.pytorch_ignite:INFO] Training model on device: cuda\n"
     ]
    },
    {
     "data": {
      "application/vnd.jupyter.widget-view+json": {
       "model_id": "824fb92267894e768eb688836eb1a908",
       "version_major": 2,
       "version_minor": 0
      },
      "text/plain": [
       "  2%|1         | 1/59 [00:00<?, ?it/s]"
      ]
     },
     "metadata": {},
     "output_type": "display_data"
    },
    {
     "data": {
      "application/vnd.jupyter.widget-view+json": {
       "model_id": "3531aa9d79ce4ddb98e306d1e1db6797",
       "version_major": 2,
       "version_minor": 0
      },
      "text/plain": [
       "  2%|1         | 1/59 [00:00<?, ?it/s]"
      ]
     },
     "metadata": {},
     "output_type": "display_data"
    },
    {
     "data": {
      "application/vnd.jupyter.widget-view+json": {
       "model_id": "fd82d0fdd31649ff94c7efb5d664f46e",
       "version_major": 2,
       "version_minor": 0
      },
      "text/plain": [
       "  2%|1         | 1/59 [00:00<?, ?it/s]"
      ]
     },
     "metadata": {},
     "output_type": "display_data"
    },
    {
     "data": {
      "application/vnd.jupyter.widget-view+json": {
       "model_id": "f530cfabdc994be6a4f8d0c92726818d",
       "version_major": 2,
       "version_minor": 0
      },
      "text/plain": [
       "  2%|1         | 1/59 [00:00<?, ?it/s]"
      ]
     },
     "metadata": {},
     "output_type": "display_data"
    },
    {
     "data": {
      "application/vnd.jupyter.widget-view+json": {
       "model_id": "9a060d5d994c4b2187da27afccd1f6fe",
       "version_major": 2,
       "version_minor": 0
      },
      "text/plain": [
       "  2%|1         | 1/59 [00:00<?, ?it/s]"
      ]
     },
     "metadata": {},
     "output_type": "display_data"
    },
    {
     "data": {
      "application/vnd.jupyter.widget-view+json": {
       "model_id": "87c30ad293714f2183bea17a83e6e12b",
       "version_major": 2,
       "version_minor": 0
      },
      "text/plain": [
       "  2%|1         | 1/59 [00:00<?, ?it/s]"
      ]
     },
     "metadata": {},
     "output_type": "display_data"
    },
    {
     "data": {
      "application/vnd.jupyter.widget-view+json": {
       "model_id": "b23fd2fd986e4b1ab24af98d6156a7da",
       "version_major": 2,
       "version_minor": 0
      },
      "text/plain": [
       "  2%|1         | 1/59 [00:00<?, ?it/s]"
      ]
     },
     "metadata": {},
     "output_type": "display_data"
    },
    {
     "data": {
      "application/vnd.jupyter.widget-view+json": {
       "model_id": "94aaa04e86114c33981f3303f1c12146",
       "version_major": 2,
       "version_minor": 0
      },
      "text/plain": [
       "  2%|1         | 1/59 [00:00<?, ?it/s]"
      ]
     },
     "metadata": {},
     "output_type": "display_data"
    },
    {
     "data": {
      "application/vnd.jupyter.widget-view+json": {
       "model_id": "41d376dccec841f48c1f3581b76751a4",
       "version_major": 2,
       "version_minor": 0
      },
      "text/plain": [
       "  2%|1         | 1/59 [00:00<?, ?it/s]"
      ]
     },
     "metadata": {},
     "output_type": "display_data"
    },
    {
     "data": {
      "application/vnd.jupyter.widget-view+json": {
       "model_id": "41220c9f091c41ddb33a89fe5f223dae",
       "version_major": 2,
       "version_minor": 0
      },
      "text/plain": [
       "  2%|1         | 1/59 [00:00<?, ?it/s]"
      ]
     },
     "metadata": {},
     "output_type": "display_data"
    },
    {
     "name": "stderr",
     "output_type": "stream",
     "text": [
      "[2025-08-15 15:57:18,790 hyrax.pytorch_ignite:INFO] Total training time: 3297.66[s]\n",
      "[2025-08-15 15:57:18,791 hyrax.pytorch_ignite:INFO] Latest checkpoint saved as: /home/drew/code/hyrax/docs/pre_executed/results/20250815-150216-train-NUIO/checkpoint_epoch_10.pt\n",
      "[2025-08-15 15:57:18,792 hyrax.pytorch_ignite:INFO] Best metric checkpoint saved as: /home/drew/code/hyrax/docs/pre_executed/results/20250815-150216-train-NUIO/checkpoint_10_loss=-0.0000.pt\n",
      "2025/08/15 15:57:18 INFO mlflow.system_metrics.system_metrics_monitor: Stopping system metrics monitoring...\n",
      "2025/08/15 15:57:18 INFO mlflow.system_metrics.system_metrics_monitor: Successfully terminated system metrics monitoring!\n",
      "[2025-08-15 15:57:18,809 hyrax.verbs.train:INFO] Finished Training\n",
      "[2025-08-15 15:57:23,246 hyrax.model_exporters:INFO] Exported model to ONNX format: /home/drew/code/hyrax/docs/pre_executed/results/20250815-150216-train-NUIO/example_model_opset_20.onnx\n"
     ]
    },
    {
     "data": {
      "text/plain": [
       "HyraxCNN(\n",
       "  (conv1): Conv2d(5, 6, kernel_size=(5, 5), stride=(1, 1))\n",
       "  (pool): MaxPool2d(kernel_size=2, stride=2, padding=0, dilation=1, ceil_mode=False)\n",
       "  (conv2): Conv2d(6, 16, kernel_size=(5, 5), stride=(1, 1))\n",
       "  (fc1): Linear(in_features=784, out_features=120, bias=True)\n",
       "  (fc2): Linear(in_features=120, out_features=84, bias=True)\n",
       "  (fc3): Linear(in_features=84, out_features=2, bias=True)\n",
       "  (criterion): CrossEntropyLoss()\n",
       ")"
      ]
     },
     "execution_count": 19,
     "metadata": {},
     "output_type": "execute_result"
    }
   ],
   "source": [
    "h.train()"
   ]
  },
  {
   "cell_type": "code",
   "execution_count": 7,
   "id": "7690bd16",
   "metadata": {},
   "outputs": [
    {
     "name": "stderr",
     "output_type": "stream",
     "text": [
      "[2025-08-15 16:09:30,287 hyrax.models.model_registry:INFO] Using criterion: torch.nn.CrossEntropyLoss with default arguments.\n",
      "[2025-08-15 16:09:30,287 hyrax.models.model_registry:INFO] Using optimizer: torch.optim.SGD with arguments: {'lr': 0.01, 'momentum': 0.9}.\n",
      "[2025-08-15 16:09:30,288 hyrax.verbs.infer:INFO] data set has length 50000\n",
      "2025-08-15 16:09:30,358 ignite.distributed.auto.auto_dataloader INFO: Use data loader kwargs for dataset '<__main__.SLDataset': \n",
      "\t{'sampler': None, 'batch_size': 512, 'shuffle': False, 'pin_memory': True}\n",
      "[2025-08-15 16:09:30,651 hyrax.verbs.infer:INFO] Saving inference results at: /home/drew/code/hyrax/docs/pre_executed/results/20250815-160925-infer-B1Op\n",
      "/home/drew/miniconda3/envs/hyrax/lib/python3.12/site-packages/ignite/handlers/tqdm_logger.py:127: TqdmExperimentalWarning: Using `tqdm.autonotebook.tqdm` in notebook mode. Use `tqdm.tqdm` instead to force console mode (e.g. in jupyter console)\n",
      "  from tqdm.autonotebook import tqdm\n",
      "[2025-08-15 16:09:31,026 hyrax.pytorch_ignite:INFO] Evaluating model on device: cuda\n",
      "[2025-08-15 16:09:31,028 hyrax.pytorch_ignite:INFO] Total epochs: 1\n"
     ]
    },
    {
     "data": {
      "application/vnd.jupyter.widget-view+json": {
       "model_id": "64bd0b5d929146caa171f2f93a19942b",
       "version_major": 2,
       "version_minor": 0
      },
      "text/plain": [
       "  1%|1         | 1/98 [00:00<?, ?it/s]"
      ]
     },
     "metadata": {},
     "output_type": "display_data"
    },
    {
     "name": "stderr",
     "output_type": "stream",
     "text": [
      "[2025-08-15 16:16:53,657 hyrax.pytorch_ignite:INFO] Total evaluation time: 442.63[s]\n",
      "[2025-08-15 16:16:53,879 hyrax.verbs.infer:INFO] Inference Complete.\n"
     ]
    },
    {
     "data": {
      "text/plain": [
       "<hyrax.data_sets.inference_dataset.InferenceDataSet at 0x789946f85970>"
      ]
     },
     "execution_count": 7,
     "metadata": {},
     "output_type": "execute_result"
    }
   ],
   "source": [
    "h.infer()"
   ]
  },
  {
   "cell_type": "code",
   "execution_count": 14,
   "id": "d5f3c9d3",
   "metadata": {},
   "outputs": [],
   "source": [
    "from hyrax.data_sets.inference_dataset import InferenceDataSet\n",
    "infer_ds = InferenceDataSet(h.config, results_dir = \"/home/drew/code/hyrax/docs/pre_executed/results/20250815-160925-infer-B1Op\" )"
   ]
  },
  {
   "cell_type": "code",
   "execution_count": 27,
   "id": "d01e8b17",
   "metadata": {},
   "outputs": [
    {
     "name": "stdout",
     "output_type": "stream",
     "text": [
      "tensor([ 23.0835, -26.7007], dtype=torch.float64)\n",
      "tensor([ 34.5384, -39.9656], dtype=torch.float64)\n"
     ]
    },
    {
     "ename": "ValueError",
     "evalue": "shape mismatch: value array of shape (2,2) could not be broadcast to indexing result of shape (1,2)",
     "output_type": "error",
     "traceback": [
      "\u001b[31m---------------------------------------------------------------------------\u001b[39m",
      "\u001b[31mValueError\u001b[39m                                Traceback (most recent call last)",
      "\u001b[36mCell\u001b[39m\u001b[36m \u001b[39m\u001b[32mIn[27]\u001b[39m\u001b[32m, line 4\u001b[39m\n\u001b[32m      2\u001b[39m s = Softmax(dim=\u001b[32m0\u001b[39m)\n\u001b[32m      3\u001b[39m \u001b[38;5;28;01mfor\u001b[39;00m i \u001b[38;5;129;01min\u001b[39;00m \u001b[38;5;28mrange\u001b[39m(\u001b[32m25\u001b[39m):\n\u001b[32m----> \u001b[39m\u001b[32m4\u001b[39m     \u001b[38;5;28mprint\u001b[39m(\u001b[43minfer_ds\u001b[49m\u001b[43m[\u001b[49m\u001b[43mi\u001b[49m\u001b[43m]\u001b[49m)\n",
      "\u001b[36mFile \u001b[39m\u001b[32m~/code/hyrax/src/hyrax/data_sets/inference_dataset.py:176\u001b[39m, in \u001b[36mInferenceDataSet.__getitem__\u001b[39m\u001b[34m(self, idx)\u001b[39m\n\u001b[32m    173\u001b[39m     batch_tensors = np.sort(\u001b[38;5;28mself\u001b[39m._load_from_batch_file(batch_num, batch_ids), order=\u001b[33m\"\u001b[39m\u001b[33mid\u001b[39m\u001b[33m\"\u001b[39m)\n\u001b[32m    175\u001b[39m     \u001b[38;5;66;03m# Place the resulting tensors in the results array where they go.\u001b[39;00m\n\u001b[32m--> \u001b[39m\u001b[32m176\u001b[39m     \u001b[43mall_tensors\u001b[49m\u001b[43m[\u001b[49m\u001b[43mbatch_original_indexes\u001b[49m\u001b[43m]\u001b[49m = batch_tensors[\u001b[33m\"\u001b[39m\u001b[33mtensor\u001b[39m\u001b[33m\"\u001b[39m]\n\u001b[32m    178\u001b[39m \u001b[38;5;66;03m# In the case of a single id this will be a tensor that has the appropriate shape\u001b[39;00m\n\u001b[32m    179\u001b[39m \u001b[38;5;66;03m# Otherwise we will have a stacked array of tensors\u001b[39;00m\n\u001b[32m    180\u001b[39m all_tensors = all_tensors[\u001b[32m0\u001b[39m] \u001b[38;5;28;01mif\u001b[39;00m \u001b[38;5;28mlen\u001b[39m(all_tensors) == \u001b[32m1\u001b[39m \u001b[38;5;28;01melse\u001b[39;00m all_tensors\n",
      "\u001b[31mValueError\u001b[39m: shape mismatch: value array of shape (2,2) could not be broadcast to indexing result of shape (1,2)"
     ]
    }
   ],
   "source": [
    "from torch.nn import Softmax\n",
    "s = Softmax(dim=0)\n",
    "for i in range(25):\n",
    "    print(infer_ds[i])"
   ]
  },
  {
   "cell_type": "code",
   "execution_count": null,
   "id": "c4346352",
   "metadata": {},
   "outputs": [],
   "source": [
    "\n"
   ]
  }
 ],
 "metadata": {
  "kernelspec": {
   "display_name": "hyrax",
   "language": "python",
   "name": "python3"
  },
  "language_info": {
   "codemirror_mode": {
    "name": "ipython",
    "version": 3
   },
   "file_extension": ".py",
   "mimetype": "text/x-python",
   "name": "python",
   "nbconvert_exporter": "python",
   "pygments_lexer": "ipython3",
   "version": "3.12.9"
  }
 },
 "nbformat": 4,
 "nbformat_minor": 5
}
