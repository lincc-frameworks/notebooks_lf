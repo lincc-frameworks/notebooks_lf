{
 "cells": [
  {
   "cell_type": "code",
   "execution_count": null,
   "metadata": {},
   "outputs": [],
   "source": [
    "#!/usr/bin/env python3\n",
    "\"\"\"\n",
    "Neven Caplar \n",
    "Last updated: 2023-10-07\n",
    "\n",
    "Goals: \n",
    "Analyze the data\n",
    "\n",
    "Each Section can/should be able to run independently,\n",
    "only these initial imports should be shared among all sections\n",
    "\n",
    "\"\"\"\n",
    "import numpy as np\n",
    "import pandas as pd\n",
    "import time\n",
    "\n",
    "# from scipy.spatial import KDTree\n",
    "import matplotlib.pyplot as plt\n",
    "\n",
    "import JaxPeriodDrwFit\n",
    "\n",
    "\n",
    "from tape.ensemble import Ensemble\n",
    "from tape.utils import ColumnMapper"
   ]
  },
  {
   "cell_type": "markdown",
   "metadata": {},
   "source": [
    "# Setup base directory for loading files"
   ]
  },
  {
   "cell_type": "code",
   "execution_count": null,
   "metadata": {},
   "outputs": [],
   "source": [
    "username= \"ncaplar\"\n",
    "basedir = f\"/astro/users/{username}/data/\""
   ]
  },
  {
   "cell_type": "markdown",
   "metadata": {},
   "source": [
    "# Tape Single Pixel - real data "
   ]
  },
  {
   "cell_type": "code",
   "execution_count": null,
   "metadata": {},
   "outputs": [],
   "source": [
    "\"\"\"\n",
    "0. Negative log-likelihood of the Gaussian Process model\n",
    "1. log_drw_scale = theta[0]\n",
    "2. log_drw_amp = theta[1]\n",
    "3. log_per_scale = theta[2]\n",
    "4. log_per_amp = theta[3]\n",
    "\"\"\"\n",
    "\n",
    "res_tsp_run_0 = pd.read_parquet(f\"{basedir}/res_tsp_run_g_0.parquet\", engine='pyarrow')\n",
    "res_tsp_run_0_drw = pd.read_parquet(f\"{basedir}/res_tsp_run_g_0_drw.parquet\", engine='pyarrow')\n",
    "# numpy version of the results\n",
    "res_tsp_run_0_np = np.vstack(res_tsp_run_0.values)\n",
    "res_tsp_run_0_drw_np = np.vstack(res_tsp_run_0_drw.values)\n"
   ]
  },
  {
   "cell_type": "code",
   "execution_count": null,
   "metadata": {},
   "outputs": [],
   "source": [
    "res = res_tsp_run_0_np\n",
    "res_drw = res_tsp_run_0_drw_np\n",
    "\n",
    "# larger numbers, bigger relative improvment\n",
    "improvment = (res[:,0]-res_drw[:,0])/res_drw[:,0]\n",
    "\n",
    "theta = res[2:6]\n",
    "\n",
    "log_drw_scale = theta[0]\n",
    "log_drw_amp = theta[1]\n",
    "log_per_scale = theta[2]\n",
    "log_per_amp = theta[3]\n",
    "\n",
    "plt.figure(figsize=(16,8))\n",
    "plt.subplot(2,3, 1)\n",
    "plt.scatter(res[:,1],res[:,2], c=improvment, cmap='jet')\n",
    "plt.xlabel('log_drw_scale')\n",
    "plt.ylabel('log_drw_amp')\n",
    "#plt.axvline(np.log10(drw_tau), ls=':')\n",
    "#plt.axhline(np.log10(drw_amp), ls=':')\n",
    "plt.xlim(np.quantile(res[:,1],0.05) - .1, np.quantile(res[:,1],0.95) + .1)\n",
    "plt.ylim(np.quantile(res[:,2],0.05) - .1, np.quantile(res[:,2],0.95) + .1)\n",
    "\n",
    "\n",
    "plt.subplot(2, 3, 2)\n",
    "plt.scatter(res[:,1],res[:,3]-np.log10(2*np.pi), c=improvment, cmap='jet')\n",
    "plt.xlabel('log_drw_scale')\n",
    "plt.ylabel('log_per_scale')\n",
    "# plt.axvline(np.log10(drw_tau), ls=':')\n",
    "# plt.axhline(np.log10(per_tau), ls=':')\n",
    "plt.xlim(np.quantile(res[:,1],0.05)- .1, np.quantile(res[:,1],0.95)+ .1)\n",
    "plt.ylim(np.quantile(res[:,3],0.05)-np.log10(2*np.pi) - .1, np.quantile(res[:,3],0.95)-np.log10(2*np.pi)+ .1)\n",
    "\n",
    "plt.subplot(2, 3, 3)\n",
    "plt.scatter(res[:,1],res[:,4], c=improvment, cmap='jet')\n",
    "plt.xlabel('log_drw_scale')\n",
    "plt.ylabel('log_per_amp')\n",
    "# plt.axvline(np.log10(drw_tau), ls=':')\n",
    "# plt.axhline(np.log10(per_amp), ls=':')\n",
    "plt.xlim(np.quantile(res[:,1],0.05)- .1, np.quantile(res[:,1],0.95)+ .1)\n",
    "plt.ylim(np.quantile(res[:,4],0.05)- .1, np.quantile(res[:,4],0.95)+ .1)\n",
    "\n",
    "plt.subplot(2, 3, 4)\n",
    "plt.scatter(res[:,2],res[:,3]-np.log10(2*np.pi), c=improvment, cmap='jet')\n",
    "plt.xlabel('log_drw_amp')\n",
    "plt.ylabel('log_per_scale')\n",
    "# plt.axvline(np.log10(drw_amp), ls=':')\n",
    "# plt.axhline(np.log10(per_tau), ls=':')\n",
    "plt.xlim(np.quantile(res[:,2],0.05)- .1, np.quantile(res[:,2],0.95)+ .1)\n",
    "plt.ylim(np.quantile(res[:,3]-np.log10(2*np.pi),0.05)- .1, np.quantile(res[:,3]-np.log10(2*np.pi),0.95)+ .1)\n",
    "\n",
    "plt.subplot(2, 3, 5)\n",
    "plt.scatter(res[:,2],res[:,4], c=improvment, cmap='jet')\n",
    "plt.xlabel('log_drw_amp')\n",
    "plt.ylabel('log_per_amp')\n",
    "# plt.axvline(np.log10(drw_amp), ls=':')\n",
    "# plt.axhline(np.log10(per_amp), ls=':')\n",
    "plt.xlim(np.quantile(res[:,2],0.05)- .1, np.quantile(res[:,2],0.95)+ .1)\n",
    "plt.ylim(np.quantile(res[:,4],0.05)- .1, np.quantile(res[:,4],0.95)+ .1)\n",
    "\n",
    "plt.subplot(2, 3, 6)\n",
    "plt.scatter(res[:,3]-np.log10(2*np.pi),res[:,4], c=improvment, cmap='jet')\n",
    "plt.xlabel('log_per_scale')\n",
    "plt.ylabel('log_per_amp')\n",
    "# plt.axhline(np.log10(per_amp), ls=':')\n",
    "# plt.axvline(np.log10(per_tau), ls=':')\n",
    "plt.xlim(np.quantile(res[:,3],0.05)-np.log10(2*np.pi)- .1, np.quantile(res[:,3],0.95)-np.log10(2*np.pi)+ .1)\n",
    "plt.ylim(np.quantile(res[:,4],0.05)- .1, np.quantile(res[:,4],0.95)+ .1) "
   ]
  },
  {
   "cell_type": "code",
   "execution_count": null,
   "metadata": {},
   "outputs": [],
   "source": [
    "plt.figure(figsize=(14,4))\n",
    "plt.subplot(121)\n",
    "plt.plot(res[:,0])\n",
    "plt.plot(res_drw[:,0])\n",
    "\n",
    "plt.subplot(122)\n",
    "plt.plot((res[:,0]-res_drw[:,0])/res_drw[:,0])"
   ]
  },
  {
   "cell_type": "code",
   "execution_count": null,
   "metadata": {},
   "outputs": [],
   "source": [
    "# shows which one have greates absolute improvment\n",
    "df = pd.DataFrame(res_tsp_run_0['min_neg_log_lh']-res_tsp_run_0_drw['min_neg_log_lh'])\n",
    "df.sort_values(by='min_neg_log_lh', inplace=True)\n",
    "df"
   ]
  }
 ],
 "metadata": {
  "kernelspec": {
   "display_name": "lf_tape_dev",
   "language": "python",
   "name": "python3"
  },
  "language_info": {
   "codemirror_mode": {
    "name": "ipython",
    "version": 3
   },
   "file_extension": ".py",
   "mimetype": "text/x-python",
   "name": "python",
   "nbconvert_exporter": "python",
   "pygments_lexer": "ipython3",
   "version": "3.10.13"
  }
 },
 "nbformat": 4,
 "nbformat_minor": 2
}
