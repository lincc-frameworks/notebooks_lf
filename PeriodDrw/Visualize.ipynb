{
 "cells": [
  {
   "cell_type": "code",
   "execution_count": null,
   "metadata": {},
   "outputs": [],
   "source": [
    "import numpy as np\n",
    "import pandas as pd\n",
    "\n",
    "import matplotlib.pyplot as plt\n",
    "\n",
    "import JaxPeriodDrwFit\n",
    "\n",
    "\n",
    "from tape.ensemble import Ensemble\n",
    "from tape.utils import ColumnMapper\n",
    "\n",
    "from warnings import simplefilter\n",
    "simplefilter(action=\"ignore\", category=pd.errors.PerformanceWarning)"
   ]
  },
  {
   "cell_type": "code",
   "execution_count": null,
   "metadata": {},
   "outputs": [],
   "source": [
    "from dask.distributed import Client, LocalCluster\n",
    "cluster = LocalCluster()\n",
    "client = Client(cluster)\n",
    "cluster.adapt(minimum=1, maximum=40) \n",
    "\n",
    "ens = Ensemble(client = client)  # initialize an ensemble object\n",
    "ens.client_info()\n"
   ]
  },
  {
   "cell_type": "code",
   "execution_count": null,
   "metadata": {},
   "outputs": [],
   "source": [
    "# if running on baldur\n",
    "data_path = \"/astro/store/epyc/data3/hipscat/catalogs/tape_test/\"\n",
    "\n",
    "col_map = ColumnMapper(id_col=\"SDSS_NAME_dr16q_constant\", \n",
    "                       time_col=\"mjd_ztf_source\",\n",
    "                       flux_col=\"mag_ztf_source\", \n",
    "                       err_col=\"magerr_ztf_source\",\n",
    "                       band_col=\"band_ztf_source\")\n",
    "\n",
    "ens.from_hipscat(data_path,\n",
    "                 source_subdir=\"tape_test_sources\",\n",
    "                 object_subdir=\"tape_test_obj\",\n",
    "                 column_mapper=col_map,\n",
    "                 additional_cols=True,\n",
    "                 sync_tables=True)"
   ]
  },
  {
   "cell_type": "code",
   "execution_count": null,
   "metadata": {},
   "outputs": [],
   "source": [
    "\"\"\"\n",
    "0. Negative log-likelihood of the Gaussian Process model\n",
    "1. log_drw_scale = theta[0]\n",
    "2. log_drw_amp = theta[1]\n",
    "3. log_per_scale = theta[2]\n",
    "4. log_per_amp = theta[3]\n",
    "\"\"\"\n",
    "\n",
    "res_tsp_run_0 = pd.read_parquet('/astro/users/ncaplar/data/res_tsp_run_g_0.parquet', engine='pyarrow')\n",
    "res_tsp_run_0_drw = pd.read_parquet('/astro/users/ncaplar/data/res_tsp_run_g_0_drw.parquet', engine='pyarrow')\n",
    "# numpy version of the results\n",
    "res_tsp_run_0_np = np.vstack(res_tsp_run_0.values)\n",
    "# res_tsp_run_0_drw = pd.read_parquet('/astro/users/ncaplar/data/res_tsp_run_0_drw', engine='pyarrow')\n",
    "# res_tsp_run_0_drw_np = np.vstack(res_tsp_run_0_drw.data.values)"
   ]
  },
  {
   "cell_type": "code",
   "execution_count": null,
   "metadata": {},
   "outputs": [],
   "source": [
    "name_str = '023922.87-000119.6'\n",
    "\n",
    "ts_computed = ens._source.compute().loc[name_str]\n",
    "ts_computed_g = ts_computed[ts_computed['band_ztf_source']=='g']\n",
    "ts_computed_r = ts_computed[ts_computed['band_ztf_source']=='r']\n",
    "\n",
    "ens._source.compute().loc[name_str]\n",
    "\n",
    "ens.query(\"band_ztf_source == 'g'\", table = 'source')\n",
    "ts = ens._source.compute().loc[name_str]\n",
    "t = ts['mjd_ztf_source'].values\n",
    "sort_array = np.argsort(t)\n",
    "t = t[sort_array]\n",
    "y = ts['mag_ztf_source'].values[sort_array]\n",
    "yerr = ts['magerr_ztf_source'].values[sort_array]\n",
    "\n",
    "t_r = ts_computed_r['mjd_ztf_source'].values\n",
    "y_r = ts_computed_r['mag_ztf_source'].values\n",
    "yerr_r = ts_computed_r['magerr_ztf_source'].values"
   ]
  },
  {
   "cell_type": "code",
   "execution_count": null,
   "metadata": {},
   "outputs": [],
   "source": [
    "x = np.linspace(np.min(t) - 100, np.max(t) + 100, 2000)\n",
    "\n",
    "\n",
    "JaxPeriodDrwFit_instance = JaxPeriodDrwFit.JaxPeriodDrwFit()\n",
    "theta = res_tsp_run_0.loc[name_str][2:6].values\n",
    "theta_drw = res_tsp_run_0_drw.loc[name_str][2:4].values\n",
    "\n",
    "gp = JaxPeriodDrwFit_instance.build_gp(theta, t, y, yerr)\n",
    "gp_drw = JaxPeriodDrwFit_instance.build_gp_drw(theta_drw, t, y, yerr)\n",
    "\n",
    "cond_gp = gp.condition(y, x).gp\n",
    "mu, var = cond_gp.loc, cond_gp.variance\n",
    "\n",
    "cond_gp_drw = gp_drw.condition(y, x).gp\n",
    "mu_drw, var_drw = cond_gp_drw.loc, cond_gp_drw.variance\n",
    "\n",
    "mu_carma = gp.condition(y, x, kernel=gp.kernel.kernel1).gp.loc\n",
    "var_carma = gp.condition(y, x, kernel=gp.kernel.kernel1).gp.variance\n",
    "\n",
    "mu_periodic = gp.condition(y, x, kernel=gp.kernel.kernel2).gp.loc\n",
    "var_periodic = gp.condition(y, x, kernel=gp.kernel.kernel2).gp.variance"
   ]
  },
  {
   "cell_type": "code",
   "execution_count": null,
   "metadata": {},
   "outputs": [],
   "source": [
    "# To optimize per one\n",
    "#JaxPeriodDrwFit_instance.optimize_map(t, y, yerr, n_init = 10000)"
   ]
  },
  {
   "cell_type": "code",
   "execution_count": null,
   "metadata": {},
   "outputs": [],
   "source": [
    "res_tsp_run_0.loc[name_str]"
   ]
  },
  {
   "cell_type": "code",
   "execution_count": null,
   "metadata": {},
   "outputs": [],
   "source": [
    "res_tsp_run_0_drw.loc[name_str]"
   ]
  },
  {
   "cell_type": "code",
   "execution_count": null,
   "metadata": {},
   "outputs": [],
   "source": [
    "y_r"
   ]
  },
  {
   "cell_type": "code",
   "execution_count": null,
   "metadata": {},
   "outputs": [],
   "source": [
    "plt.figure(figsize=(20, 10))\n",
    "plt.errorbar(t, y, yerr=yerr, fmt=\".k\", capsize=4, label = ' measurements, g', ms=10, color = 'green')\n",
    "plt.errorbar(t_r, y_r, yerr=yerr_r, fmt=\".k\", capsize=4, label = ' measurements, r', ms=10, color = 'red')\n",
    "\n",
    "plt.plot(x, mu_carma, color=\"blue\", ls=':',lw=3, label = 'CARMA separated')\n",
    "plt.plot(x, mu_periodic, color=\"red\", ls=':', lw=3, label = 'periodic separated')\n",
    "\n",
    "plt.fill_between(x, mu_carma + np.sqrt(var_carma),\n",
    "                 mu_carma- np.sqrt(var_carma), color=\"blue\", alpha=0.2)\n",
    "plt.fill_between(x, mu_periodic + np.sqrt(var_periodic),\n",
    "                 mu_periodic - np.sqrt(var_periodic), color=\"red\", alpha=0.2)\n",
    "\n",
    "plt.fill_between(x, mu + np.sqrt(var), mu - np.sqrt(var), color=\"magenta\", alpha=0.2)\n",
    "plt.plot(x, mu, color=\"magenta\", lw=3, ls=':', label = 'CARMA + periodic')\n",
    "\n",
    "plt.xlabel(\"Time (MJD)\", fontsize=20)\n",
    "plt.ylabel(\"Mag\", fontsize=20)\n",
    "plt.legend(fontsize = 20)\n",
    "plt.xticks(fontsize=14)\n",
    "plt.yticks(fontsize=14)\n",
    "plt.ylim(np.min(mu)-0.1, np.max(mu)+0.1)"
   ]
  },
  {
   "cell_type": "code",
   "execution_count": null,
   "metadata": {},
   "outputs": [],
   "source": [
    "plt.figure(figsize=(20, 10))\n",
    "plt.errorbar(t, y, yerr=yerr, fmt=\".k\", capsize=4, label = ' measurements, g', ms=10, color = 'green')\n",
    "plt.errorbar(t_r, y_r, yerr=yerr_r, fmt=\".k\", capsize=4, label = ' measurements, r', ms=10, color = 'red')\n",
    "\n",
    "plt.fill_between(x, mu_drw + np.sqrt(var_drw), mu_drw - np.sqrt(var_drw), color=\"blue\", alpha=0.2)\n",
    "plt.plot(x, mu_drw, color=\"blue\", lw=3, ls=':', label = 'DRW')\n",
    "\n",
    "plt.xlabel(\"Time (MJD)\", fontsize=20)\n",
    "plt.ylabel(\"Mag\", fontsize=20)\n",
    "plt.legend(fontsize = 20)\n",
    "plt.xticks(fontsize=14)\n",
    "plt.yticks(fontsize=14)\n",
    "plt.ylim(np.min(mu)-0.1, np.max(mu)+0.1)\n",
    "plt.title('Only DRW',  fontsize=20)"
   ]
  },
  {
   "cell_type": "code",
   "execution_count": null,
   "metadata": {},
   "outputs": [],
   "source": []
  },
  {
   "cell_type": "code",
   "execution_count": null,
   "metadata": {},
   "outputs": [],
   "source": []
  }
 ],
 "metadata": {
  "kernelspec": {
   "display_name": "lf_tape_dev",
   "language": "python",
   "name": "python3"
  },
  "language_info": {
   "codemirror_mode": {
    "name": "ipython",
    "version": 3
   },
   "file_extension": ".py",
   "mimetype": "text/x-python",
   "name": "python",
   "nbconvert_exporter": "python",
   "pygments_lexer": "ipython3",
   "version": "3.10.13"
  }
 },
 "nbformat": 4,
 "nbformat_minor": 2
}
