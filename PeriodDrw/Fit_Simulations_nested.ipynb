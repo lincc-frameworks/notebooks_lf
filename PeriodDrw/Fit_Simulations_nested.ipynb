{
 "cells": [
  {
   "cell_type": "code",
   "execution_count": 2,
   "metadata": {},
   "outputs": [],
   "source": [
    "#!/usr/bin/env python3\n",
    "\"\"\"\n",
    "Neven Caplar \n",
    "Last updated: 2024-06-01\n",
    "\n",
    "Goals: \n",
    "Fit the simulated data, using the nested pandas/dask approach\n",
    "\n",
    "Each Section can/should run independently,\n",
    "only these initial imports should be shared among all sections\n",
    "\n",
    "Open questions:\n",
    "None at the moment\n",
    "\"\"\"\n",
    "\n",
    "import os\n",
    "\n",
    "import numpy as np\n",
    "import pandas as pd\n",
    "import pyarrow as pa\n",
    "\n",
    "# from scipy.spatial import KDTree\n",
    "import matplotlib.pyplot as plt\n",
    "\n",
    "import JaxPeriodDrwFit\n",
    "\n",
    "from tqdm import tqdm\n",
    "\n",
    "from warnings import simplefilter\n",
    "simplefilter(action=\"ignore\", category=pd.errors.PerformanceWarning)"
   ]
  },
  {
   "cell_type": "code",
   "execution_count": 3,
   "metadata": {},
   "outputs": [
    {
     "name": "stderr",
     "output_type": "stream",
     "text": [
      "/epyc/users/ncaplar/anaconda3/envs/tape_static/lib/python3.10/site-packages/pandas/core/arrays/masked.py:60: UserWarning: Pandas requires version '1.3.6' or newer of 'bottleneck' (version '1.3.5' currently installed).\n",
      "  from pandas.core import (\n",
      "/epyc/users/ncaplar/anaconda3/envs/tape_static/lib/python3.10/site-packages/pandas/core/arrays/masked.py:60: UserWarning: Pandas requires version '1.3.6' or newer of 'bottleneck' (version '1.3.5' currently installed).\n",
      "  from pandas.core import (\n",
      "/epyc/users/ncaplar/anaconda3/envs/tape_static/lib/python3.10/site-packages/pandas/core/arrays/masked.py:60: UserWarning: Pandas requires version '1.3.6' or newer of 'bottleneck' (version '1.3.5' currently installed).\n",
      "  from pandas.core import (\n",
      "/epyc/users/ncaplar/anaconda3/envs/tape_static/lib/python3.10/site-packages/pandas/core/arrays/masked.py:60: UserWarning: Pandas requires version '1.3.6' or newer of 'bottleneck' (version '1.3.5' currently installed).\n",
      "  from pandas.core import (\n",
      "/epyc/users/ncaplar/anaconda3/envs/tape_static/lib/python3.10/site-packages/pandas/core/arrays/masked.py:60: UserWarning: Pandas requires version '1.3.6' or newer of 'bottleneck' (version '1.3.5' currently installed).\n",
      "  from pandas.core import (\n",
      "/epyc/users/ncaplar/anaconda3/envs/tape_static/lib/python3.10/site-packages/pandas/core/arrays/masked.py:60: UserWarning: Pandas requires version '1.3.6' or newer of 'bottleneck' (version '1.3.5' currently installed).\n",
      "  from pandas.core import (\n",
      "/epyc/users/ncaplar/anaconda3/envs/tape_static/lib/python3.10/site-packages/pandas/core/arrays/masked.py:60: UserWarning: Pandas requires version '1.3.6' or newer of 'bottleneck' (version '1.3.5' currently installed).\n",
      "  from pandas.core import (\n",
      "/epyc/users/ncaplar/anaconda3/envs/tape_static/lib/python3.10/site-packages/pandas/core/arrays/masked.py:60: UserWarning: Pandas requires version '1.3.6' or newer of 'bottleneck' (version '1.3.5' currently installed).\n",
      "  from pandas.core import (\n",
      "/epyc/users/ncaplar/anaconda3/envs/tape_static/lib/python3.10/site-packages/pandas/core/arrays/masked.py:60: UserWarning: Pandas requires version '1.3.6' or newer of 'bottleneck' (version '1.3.5' currently installed).\n",
      "  from pandas.core import (\n",
      "/epyc/users/ncaplar/anaconda3/envs/tape_static/lib/python3.10/site-packages/pandas/core/arrays/masked.py:60: UserWarning: Pandas requires version '1.3.6' or newer of 'bottleneck' (version '1.3.5' currently installed).\n",
      "  from pandas.core import (\n",
      "/epyc/users/ncaplar/anaconda3/envs/tape_static/lib/python3.10/site-packages/pandas/core/arrays/masked.py:60: UserWarning: Pandas requires version '1.3.6' or newer of 'bottleneck' (version '1.3.5' currently installed).\n",
      "  from pandas.core import (\n",
      "/epyc/users/ncaplar/anaconda3/envs/tape_static/lib/python3.10/site-packages/pandas/core/arrays/masked.py:60: UserWarning: Pandas requires version '1.3.6' or newer of 'bottleneck' (version '1.3.5' currently installed).\n",
      "  from pandas.core import (\n"
     ]
    }
   ],
   "source": [
    "import dask\n",
    "# many workers\n",
    "# dask.config.set(scheduler='threads') \n",
    "\n",
    "dask.config.set({\"temporary-directory\" :'/epyc/ssd/users/ncaplar/tmp'})\n",
    "\n",
    "# does not work\n",
    "# from multiprocessing.pool import ThreadPool\n",
    "# dask.config.set(pool=ThreadPool(20))\n",
    "\n",
    "# one worker\n",
    "# dask.config.set(scheduler='processes')  \n",
    "from dask.distributed import Client, LocalCluster\n",
    "cluster = LocalCluster(n_workers=12, threads_per_worker=1)\n",
    "client = Client(cluster)\n",
    "# cluster.adapt(minimum=10, maximum=40) "
   ]
  },
  {
   "cell_type": "code",
   "execution_count": 4,
   "metadata": {},
   "outputs": [
    {
     "data": {
      "text/plain": [
       "'/epyc/ssd/users/ncaplar/tmp'"
      ]
     },
     "execution_count": 4,
     "metadata": {},
     "output_type": "execute_result"
    }
   ],
   "source": [
    "dask.config.get(\"temporary-directory\")"
   ]
  },
  {
   "cell_type": "code",
   "execution_count": 5,
   "metadata": {},
   "outputs": [],
   "source": [
    "# Setup base directory for saving output files\n",
    "username= \"ncaplar\"\n",
    "basedir = f\"/astro/users/{username}/data/\""
   ]
  },
  {
   "cell_type": "code",
   "execution_count": 6,
   "metadata": {},
   "outputs": [],
   "source": [
    "# if running on baldur or epyc\n",
    "data_path = \"/epyc/users/ncaplar/data/drw_per_sim/\""
   ]
  },
  {
   "cell_type": "code",
   "execution_count": null,
   "metadata": {},
   "outputs": [],
   "source": []
  }
 ],
 "metadata": {
  "kernelspec": {
   "display_name": "tape_static",
   "language": "python",
   "name": "python3"
  },
  "language_info": {
   "codemirror_mode": {
    "name": "ipython",
    "version": 3
   },
   "file_extension": ".py",
   "mimetype": "text/x-python",
   "name": "python",
   "nbconvert_exporter": "python",
   "pygments_lexer": "ipython3",
   "version": "3.10.13"
  }
 },
 "nbformat": 4,
 "nbformat_minor": 2
}
