{
 "cells": [
  {
   "cell_type": "code",
   "execution_count": 1,
   "metadata": {},
   "outputs": [],
   "source": [
    "#!/usr/bin/env python3\n",
    "\"\"\"\n",
    "Neven Caplar \n",
    "Last updated: 2023-11-18\n",
    "\n",
    "Goals: \n",
    "Fit the data\n",
    "\n",
    "Each Section can/should run independently,\n",
    "only these initial imports should be shared among all sections\n",
    "\n",
    "Open questions:\n",
    "None at the moment\n",
    "\"\"\"\n",
    "\n",
    "import os\n",
    "\n",
    "import numpy as np\n",
    "import pandas as pd\n",
    "import pyarrow as pa\n",
    "\n",
    "# from scipy.spatial import KDTree\n",
    "import matplotlib.pyplot as plt\n",
    "\n",
    "import JaxPeriodDrwFit\n",
    "\n",
    "\n",
    "from tape.ensemble import Ensemble\n",
    "from tape.utils import ColumnMapper\n",
    "\n",
    "from tqdm import tqdm\n",
    "\n",
    "from warnings import simplefilter\n",
    "simplefilter(action=\"ignore\", category=pd.errors.PerformanceWarning)"
   ]
  },
  {
   "cell_type": "code",
   "execution_count": 11,
   "metadata": {},
   "outputs": [
    {
     "name": "stdout",
     "output_type": "stream",
     "text": [
      "7859.798540288 4802.988736512 3056.809803776\n"
     ]
    }
   ],
   "source": [
    "import shutil\n",
    "\n",
    "total, used, free = np.array(shutil.disk_usage(\"/astro/users/ncaplar/\"))/10**9\n",
    "print(total, used, free)"
   ]
  },
  {
   "cell_type": "code",
   "execution_count": 2,
   "metadata": {},
   "outputs": [],
   "source": [
    "import dask\n",
    "# many workers\n",
    "# dask.config.set(scheduler='threads') \n",
    "\n",
    "# dask.config.set({\"temporary-directory\" :'/epyc/ssd/users/ncaplar/tmp'})\n",
    "\n",
    "# does not work\n",
    "# from multiprocessing.pool import ThreadPool\n",
    "# dask.config.set(pool=ThreadPool(20))\n",
    "\n",
    "# one worker\n",
    "# dask.config.set(scheduler='processes')  \n",
    "from dask.distributed import Client, LocalCluster\n",
    "cluster = LocalCluster(n_workers=12, threads_per_worker=1)\n",
    "client = Client(cluster)\n",
    "# cluster.adapt(minimum=10, maximum=40) "
   ]
  },
  {
   "cell_type": "code",
   "execution_count": 3,
   "metadata": {},
   "outputs": [],
   "source": [
    "dask.config.get(\"temporary-directory\")"
   ]
  },
  {
   "cell_type": "code",
   "execution_count": 4,
   "metadata": {},
   "outputs": [
    {
     "data": {
      "text/html": [
       "<div>\n",
       "    <div style=\"width: 24px; height: 24px; background-color: #e1e1e1; border: 3px solid #9D9D9D; border-radius: 5px; position: absolute;\"> </div>\n",
       "    <div style=\"margin-left: 48px;\">\n",
       "        <h3 style=\"margin-bottom: 0px;\">Client</h3>\n",
       "        <p style=\"color: #9D9D9D; margin-bottom: 0px;\">Client-10d9e5ab-882a-11ee-a2ab-98039b62373c</p>\n",
       "        <table style=\"width: 100%; text-align: left;\">\n",
       "\n",
       "        <tr>\n",
       "        \n",
       "            <td style=\"text-align: left;\"><strong>Connection method:</strong> Cluster object</td>\n",
       "            <td style=\"text-align: left;\"><strong>Cluster type:</strong> distributed.LocalCluster</td>\n",
       "        \n",
       "        </tr>\n",
       "\n",
       "        \n",
       "            <tr>\n",
       "                <td style=\"text-align: left;\">\n",
       "                    <strong>Dashboard: </strong> <a href=\"http://127.0.0.1:8787/status\" target=\"_blank\">http://127.0.0.1:8787/status</a>\n",
       "                </td>\n",
       "                <td style=\"text-align: left;\"></td>\n",
       "            </tr>\n",
       "        \n",
       "\n",
       "        </table>\n",
       "\n",
       "        \n",
       "\n",
       "        \n",
       "            <details>\n",
       "            <summary style=\"margin-bottom: 20px;\"><h3 style=\"display: inline;\">Cluster Info</h3></summary>\n",
       "            <div class=\"jp-RenderedHTMLCommon jp-RenderedHTML jp-mod-trusted jp-OutputArea-output\">\n",
       "    <div style=\"width: 24px; height: 24px; background-color: #e1e1e1; border: 3px solid #9D9D9D; border-radius: 5px; position: absolute;\">\n",
       "    </div>\n",
       "    <div style=\"margin-left: 48px;\">\n",
       "        <h3 style=\"margin-bottom: 0px; margin-top: 0px;\">LocalCluster</h3>\n",
       "        <p style=\"color: #9D9D9D; margin-bottom: 0px;\">e60e0736</p>\n",
       "        <table style=\"width: 100%; text-align: left;\">\n",
       "            <tr>\n",
       "                <td style=\"text-align: left;\">\n",
       "                    <strong>Dashboard:</strong> <a href=\"http://127.0.0.1:8787/status\" target=\"_blank\">http://127.0.0.1:8787/status</a>\n",
       "                </td>\n",
       "                <td style=\"text-align: left;\">\n",
       "                    <strong>Workers:</strong> 12\n",
       "                </td>\n",
       "            </tr>\n",
       "            <tr>\n",
       "                <td style=\"text-align: left;\">\n",
       "                    <strong>Total threads:</strong> 12\n",
       "                </td>\n",
       "                <td style=\"text-align: left;\">\n",
       "                    <strong>Total memory:</strong> 0.98 TiB\n",
       "                </td>\n",
       "            </tr>\n",
       "            \n",
       "            <tr>\n",
       "    <td style=\"text-align: left;\"><strong>Status:</strong> running</td>\n",
       "    <td style=\"text-align: left;\"><strong>Using processes:</strong> True</td>\n",
       "</tr>\n",
       "\n",
       "            \n",
       "        </table>\n",
       "\n",
       "        <details>\n",
       "            <summary style=\"margin-bottom: 20px;\">\n",
       "                <h3 style=\"display: inline;\">Scheduler Info</h3>\n",
       "            </summary>\n",
       "\n",
       "            <div style=\"\">\n",
       "    <div>\n",
       "        <div style=\"width: 24px; height: 24px; background-color: #FFF7E5; border: 3px solid #FF6132; border-radius: 5px; position: absolute;\"> </div>\n",
       "        <div style=\"margin-left: 48px;\">\n",
       "            <h3 style=\"margin-bottom: 0px;\">Scheduler</h3>\n",
       "            <p style=\"color: #9D9D9D; margin-bottom: 0px;\">Scheduler-2cd82f0f-0d7b-43cf-994c-465cbf301728</p>\n",
       "            <table style=\"width: 100%; text-align: left;\">\n",
       "                <tr>\n",
       "                    <td style=\"text-align: left;\">\n",
       "                        <strong>Comm:</strong> tcp://127.0.0.1:34158\n",
       "                    </td>\n",
       "                    <td style=\"text-align: left;\">\n",
       "                        <strong>Workers:</strong> 12\n",
       "                    </td>\n",
       "                </tr>\n",
       "                <tr>\n",
       "                    <td style=\"text-align: left;\">\n",
       "                        <strong>Dashboard:</strong> <a href=\"http://127.0.0.1:8787/status\" target=\"_blank\">http://127.0.0.1:8787/status</a>\n",
       "                    </td>\n",
       "                    <td style=\"text-align: left;\">\n",
       "                        <strong>Total threads:</strong> 12\n",
       "                    </td>\n",
       "                </tr>\n",
       "                <tr>\n",
       "                    <td style=\"text-align: left;\">\n",
       "                        <strong>Started:</strong> Just now\n",
       "                    </td>\n",
       "                    <td style=\"text-align: left;\">\n",
       "                        <strong>Total memory:</strong> 0.98 TiB\n",
       "                    </td>\n",
       "                </tr>\n",
       "            </table>\n",
       "        </div>\n",
       "    </div>\n",
       "\n",
       "    <details style=\"margin-left: 48px;\">\n",
       "        <summary style=\"margin-bottom: 20px;\">\n",
       "            <h3 style=\"display: inline;\">Workers</h3>\n",
       "        </summary>\n",
       "\n",
       "        \n",
       "        <div style=\"margin-bottom: 20px;\">\n",
       "            <div style=\"width: 24px; height: 24px; background-color: #DBF5FF; border: 3px solid #4CC9FF; border-radius: 5px; position: absolute;\"> </div>\n",
       "            <div style=\"margin-left: 48px;\">\n",
       "            <details>\n",
       "                <summary>\n",
       "                    <h4 style=\"margin-bottom: 0px; display: inline;\">Worker: 0</h4>\n",
       "                </summary>\n",
       "                <table style=\"width: 100%; text-align: left;\">\n",
       "                    <tr>\n",
       "                        <td style=\"text-align: left;\">\n",
       "                            <strong>Comm: </strong> tcp://127.0.0.1:36746\n",
       "                        </td>\n",
       "                        <td style=\"text-align: left;\">\n",
       "                            <strong>Total threads: </strong> 1\n",
       "                        </td>\n",
       "                    </tr>\n",
       "                    <tr>\n",
       "                        <td style=\"text-align: left;\">\n",
       "                            <strong>Dashboard: </strong> <a href=\"http://127.0.0.1:43667/status\" target=\"_blank\">http://127.0.0.1:43667/status</a>\n",
       "                        </td>\n",
       "                        <td style=\"text-align: left;\">\n",
       "                            <strong>Memory: </strong> 83.97 GiB\n",
       "                        </td>\n",
       "                    </tr>\n",
       "                    <tr>\n",
       "                        <td style=\"text-align: left;\">\n",
       "                            <strong>Nanny: </strong> tcp://127.0.0.1:33510\n",
       "                        </td>\n",
       "                        <td style=\"text-align: left;\"></td>\n",
       "                    </tr>\n",
       "                    <tr>\n",
       "                        <td colspan=\"2\" style=\"text-align: left;\">\n",
       "                            <strong>Local directory: </strong> /tmp/dask-scratch-space-1301364/worker-g6dj3pse\n",
       "                        </td>\n",
       "                    </tr>\n",
       "\n",
       "                    \n",
       "\n",
       "                    \n",
       "\n",
       "                </table>\n",
       "            </details>\n",
       "            </div>\n",
       "        </div>\n",
       "        \n",
       "        <div style=\"margin-bottom: 20px;\">\n",
       "            <div style=\"width: 24px; height: 24px; background-color: #DBF5FF; border: 3px solid #4CC9FF; border-radius: 5px; position: absolute;\"> </div>\n",
       "            <div style=\"margin-left: 48px;\">\n",
       "            <details>\n",
       "                <summary>\n",
       "                    <h4 style=\"margin-bottom: 0px; display: inline;\">Worker: 1</h4>\n",
       "                </summary>\n",
       "                <table style=\"width: 100%; text-align: left;\">\n",
       "                    <tr>\n",
       "                        <td style=\"text-align: left;\">\n",
       "                            <strong>Comm: </strong> tcp://127.0.0.1:39973\n",
       "                        </td>\n",
       "                        <td style=\"text-align: left;\">\n",
       "                            <strong>Total threads: </strong> 1\n",
       "                        </td>\n",
       "                    </tr>\n",
       "                    <tr>\n",
       "                        <td style=\"text-align: left;\">\n",
       "                            <strong>Dashboard: </strong> <a href=\"http://127.0.0.1:42288/status\" target=\"_blank\">http://127.0.0.1:42288/status</a>\n",
       "                        </td>\n",
       "                        <td style=\"text-align: left;\">\n",
       "                            <strong>Memory: </strong> 83.97 GiB\n",
       "                        </td>\n",
       "                    </tr>\n",
       "                    <tr>\n",
       "                        <td style=\"text-align: left;\">\n",
       "                            <strong>Nanny: </strong> tcp://127.0.0.1:40605\n",
       "                        </td>\n",
       "                        <td style=\"text-align: left;\"></td>\n",
       "                    </tr>\n",
       "                    <tr>\n",
       "                        <td colspan=\"2\" style=\"text-align: left;\">\n",
       "                            <strong>Local directory: </strong> /tmp/dask-scratch-space-1301364/worker-hgv41d1n\n",
       "                        </td>\n",
       "                    </tr>\n",
       "\n",
       "                    \n",
       "\n",
       "                    \n",
       "\n",
       "                </table>\n",
       "            </details>\n",
       "            </div>\n",
       "        </div>\n",
       "        \n",
       "        <div style=\"margin-bottom: 20px;\">\n",
       "            <div style=\"width: 24px; height: 24px; background-color: #DBF5FF; border: 3px solid #4CC9FF; border-radius: 5px; position: absolute;\"> </div>\n",
       "            <div style=\"margin-left: 48px;\">\n",
       "            <details>\n",
       "                <summary>\n",
       "                    <h4 style=\"margin-bottom: 0px; display: inline;\">Worker: 2</h4>\n",
       "                </summary>\n",
       "                <table style=\"width: 100%; text-align: left;\">\n",
       "                    <tr>\n",
       "                        <td style=\"text-align: left;\">\n",
       "                            <strong>Comm: </strong> tcp://127.0.0.1:37460\n",
       "                        </td>\n",
       "                        <td style=\"text-align: left;\">\n",
       "                            <strong>Total threads: </strong> 1\n",
       "                        </td>\n",
       "                    </tr>\n",
       "                    <tr>\n",
       "                        <td style=\"text-align: left;\">\n",
       "                            <strong>Dashboard: </strong> <a href=\"http://127.0.0.1:35203/status\" target=\"_blank\">http://127.0.0.1:35203/status</a>\n",
       "                        </td>\n",
       "                        <td style=\"text-align: left;\">\n",
       "                            <strong>Memory: </strong> 83.97 GiB\n",
       "                        </td>\n",
       "                    </tr>\n",
       "                    <tr>\n",
       "                        <td style=\"text-align: left;\">\n",
       "                            <strong>Nanny: </strong> tcp://127.0.0.1:43011\n",
       "                        </td>\n",
       "                        <td style=\"text-align: left;\"></td>\n",
       "                    </tr>\n",
       "                    <tr>\n",
       "                        <td colspan=\"2\" style=\"text-align: left;\">\n",
       "                            <strong>Local directory: </strong> /tmp/dask-scratch-space-1301364/worker-gfcrz578\n",
       "                        </td>\n",
       "                    </tr>\n",
       "\n",
       "                    \n",
       "\n",
       "                    \n",
       "\n",
       "                </table>\n",
       "            </details>\n",
       "            </div>\n",
       "        </div>\n",
       "        \n",
       "        <div style=\"margin-bottom: 20px;\">\n",
       "            <div style=\"width: 24px; height: 24px; background-color: #DBF5FF; border: 3px solid #4CC9FF; border-radius: 5px; position: absolute;\"> </div>\n",
       "            <div style=\"margin-left: 48px;\">\n",
       "            <details>\n",
       "                <summary>\n",
       "                    <h4 style=\"margin-bottom: 0px; display: inline;\">Worker: 3</h4>\n",
       "                </summary>\n",
       "                <table style=\"width: 100%; text-align: left;\">\n",
       "                    <tr>\n",
       "                        <td style=\"text-align: left;\">\n",
       "                            <strong>Comm: </strong> tcp://127.0.0.1:44124\n",
       "                        </td>\n",
       "                        <td style=\"text-align: left;\">\n",
       "                            <strong>Total threads: </strong> 1\n",
       "                        </td>\n",
       "                    </tr>\n",
       "                    <tr>\n",
       "                        <td style=\"text-align: left;\">\n",
       "                            <strong>Dashboard: </strong> <a href=\"http://127.0.0.1:42383/status\" target=\"_blank\">http://127.0.0.1:42383/status</a>\n",
       "                        </td>\n",
       "                        <td style=\"text-align: left;\">\n",
       "                            <strong>Memory: </strong> 83.97 GiB\n",
       "                        </td>\n",
       "                    </tr>\n",
       "                    <tr>\n",
       "                        <td style=\"text-align: left;\">\n",
       "                            <strong>Nanny: </strong> tcp://127.0.0.1:42172\n",
       "                        </td>\n",
       "                        <td style=\"text-align: left;\"></td>\n",
       "                    </tr>\n",
       "                    <tr>\n",
       "                        <td colspan=\"2\" style=\"text-align: left;\">\n",
       "                            <strong>Local directory: </strong> /tmp/dask-scratch-space-1301364/worker-w9nvn0p9\n",
       "                        </td>\n",
       "                    </tr>\n",
       "\n",
       "                    \n",
       "\n",
       "                    \n",
       "\n",
       "                </table>\n",
       "            </details>\n",
       "            </div>\n",
       "        </div>\n",
       "        \n",
       "        <div style=\"margin-bottom: 20px;\">\n",
       "            <div style=\"width: 24px; height: 24px; background-color: #DBF5FF; border: 3px solid #4CC9FF; border-radius: 5px; position: absolute;\"> </div>\n",
       "            <div style=\"margin-left: 48px;\">\n",
       "            <details>\n",
       "                <summary>\n",
       "                    <h4 style=\"margin-bottom: 0px; display: inline;\">Worker: 4</h4>\n",
       "                </summary>\n",
       "                <table style=\"width: 100%; text-align: left;\">\n",
       "                    <tr>\n",
       "                        <td style=\"text-align: left;\">\n",
       "                            <strong>Comm: </strong> tcp://127.0.0.1:40182\n",
       "                        </td>\n",
       "                        <td style=\"text-align: left;\">\n",
       "                            <strong>Total threads: </strong> 1\n",
       "                        </td>\n",
       "                    </tr>\n",
       "                    <tr>\n",
       "                        <td style=\"text-align: left;\">\n",
       "                            <strong>Dashboard: </strong> <a href=\"http://127.0.0.1:34185/status\" target=\"_blank\">http://127.0.0.1:34185/status</a>\n",
       "                        </td>\n",
       "                        <td style=\"text-align: left;\">\n",
       "                            <strong>Memory: </strong> 83.97 GiB\n",
       "                        </td>\n",
       "                    </tr>\n",
       "                    <tr>\n",
       "                        <td style=\"text-align: left;\">\n",
       "                            <strong>Nanny: </strong> tcp://127.0.0.1:34983\n",
       "                        </td>\n",
       "                        <td style=\"text-align: left;\"></td>\n",
       "                    </tr>\n",
       "                    <tr>\n",
       "                        <td colspan=\"2\" style=\"text-align: left;\">\n",
       "                            <strong>Local directory: </strong> /tmp/dask-scratch-space-1301364/worker-b3t1u51e\n",
       "                        </td>\n",
       "                    </tr>\n",
       "\n",
       "                    \n",
       "\n",
       "                    \n",
       "\n",
       "                </table>\n",
       "            </details>\n",
       "            </div>\n",
       "        </div>\n",
       "        \n",
       "        <div style=\"margin-bottom: 20px;\">\n",
       "            <div style=\"width: 24px; height: 24px; background-color: #DBF5FF; border: 3px solid #4CC9FF; border-radius: 5px; position: absolute;\"> </div>\n",
       "            <div style=\"margin-left: 48px;\">\n",
       "            <details>\n",
       "                <summary>\n",
       "                    <h4 style=\"margin-bottom: 0px; display: inline;\">Worker: 5</h4>\n",
       "                </summary>\n",
       "                <table style=\"width: 100%; text-align: left;\">\n",
       "                    <tr>\n",
       "                        <td style=\"text-align: left;\">\n",
       "                            <strong>Comm: </strong> tcp://127.0.0.1:44857\n",
       "                        </td>\n",
       "                        <td style=\"text-align: left;\">\n",
       "                            <strong>Total threads: </strong> 1\n",
       "                        </td>\n",
       "                    </tr>\n",
       "                    <tr>\n",
       "                        <td style=\"text-align: left;\">\n",
       "                            <strong>Dashboard: </strong> <a href=\"http://127.0.0.1:33610/status\" target=\"_blank\">http://127.0.0.1:33610/status</a>\n",
       "                        </td>\n",
       "                        <td style=\"text-align: left;\">\n",
       "                            <strong>Memory: </strong> 83.97 GiB\n",
       "                        </td>\n",
       "                    </tr>\n",
       "                    <tr>\n",
       "                        <td style=\"text-align: left;\">\n",
       "                            <strong>Nanny: </strong> tcp://127.0.0.1:43649\n",
       "                        </td>\n",
       "                        <td style=\"text-align: left;\"></td>\n",
       "                    </tr>\n",
       "                    <tr>\n",
       "                        <td colspan=\"2\" style=\"text-align: left;\">\n",
       "                            <strong>Local directory: </strong> /tmp/dask-scratch-space-1301364/worker-whqhauqj\n",
       "                        </td>\n",
       "                    </tr>\n",
       "\n",
       "                    \n",
       "\n",
       "                    \n",
       "\n",
       "                </table>\n",
       "            </details>\n",
       "            </div>\n",
       "        </div>\n",
       "        \n",
       "        <div style=\"margin-bottom: 20px;\">\n",
       "            <div style=\"width: 24px; height: 24px; background-color: #DBF5FF; border: 3px solid #4CC9FF; border-radius: 5px; position: absolute;\"> </div>\n",
       "            <div style=\"margin-left: 48px;\">\n",
       "            <details>\n",
       "                <summary>\n",
       "                    <h4 style=\"margin-bottom: 0px; display: inline;\">Worker: 6</h4>\n",
       "                </summary>\n",
       "                <table style=\"width: 100%; text-align: left;\">\n",
       "                    <tr>\n",
       "                        <td style=\"text-align: left;\">\n",
       "                            <strong>Comm: </strong> tcp://127.0.0.1:46635\n",
       "                        </td>\n",
       "                        <td style=\"text-align: left;\">\n",
       "                            <strong>Total threads: </strong> 1\n",
       "                        </td>\n",
       "                    </tr>\n",
       "                    <tr>\n",
       "                        <td style=\"text-align: left;\">\n",
       "                            <strong>Dashboard: </strong> <a href=\"http://127.0.0.1:39946/status\" target=\"_blank\">http://127.0.0.1:39946/status</a>\n",
       "                        </td>\n",
       "                        <td style=\"text-align: left;\">\n",
       "                            <strong>Memory: </strong> 83.97 GiB\n",
       "                        </td>\n",
       "                    </tr>\n",
       "                    <tr>\n",
       "                        <td style=\"text-align: left;\">\n",
       "                            <strong>Nanny: </strong> tcp://127.0.0.1:33909\n",
       "                        </td>\n",
       "                        <td style=\"text-align: left;\"></td>\n",
       "                    </tr>\n",
       "                    <tr>\n",
       "                        <td colspan=\"2\" style=\"text-align: left;\">\n",
       "                            <strong>Local directory: </strong> /tmp/dask-scratch-space-1301364/worker-l4gcllv7\n",
       "                        </td>\n",
       "                    </tr>\n",
       "\n",
       "                    \n",
       "\n",
       "                    \n",
       "\n",
       "                </table>\n",
       "            </details>\n",
       "            </div>\n",
       "        </div>\n",
       "        \n",
       "        <div style=\"margin-bottom: 20px;\">\n",
       "            <div style=\"width: 24px; height: 24px; background-color: #DBF5FF; border: 3px solid #4CC9FF; border-radius: 5px; position: absolute;\"> </div>\n",
       "            <div style=\"margin-left: 48px;\">\n",
       "            <details>\n",
       "                <summary>\n",
       "                    <h4 style=\"margin-bottom: 0px; display: inline;\">Worker: 7</h4>\n",
       "                </summary>\n",
       "                <table style=\"width: 100%; text-align: left;\">\n",
       "                    <tr>\n",
       "                        <td style=\"text-align: left;\">\n",
       "                            <strong>Comm: </strong> tcp://127.0.0.1:33125\n",
       "                        </td>\n",
       "                        <td style=\"text-align: left;\">\n",
       "                            <strong>Total threads: </strong> 1\n",
       "                        </td>\n",
       "                    </tr>\n",
       "                    <tr>\n",
       "                        <td style=\"text-align: left;\">\n",
       "                            <strong>Dashboard: </strong> <a href=\"http://127.0.0.1:44211/status\" target=\"_blank\">http://127.0.0.1:44211/status</a>\n",
       "                        </td>\n",
       "                        <td style=\"text-align: left;\">\n",
       "                            <strong>Memory: </strong> 83.97 GiB\n",
       "                        </td>\n",
       "                    </tr>\n",
       "                    <tr>\n",
       "                        <td style=\"text-align: left;\">\n",
       "                            <strong>Nanny: </strong> tcp://127.0.0.1:36570\n",
       "                        </td>\n",
       "                        <td style=\"text-align: left;\"></td>\n",
       "                    </tr>\n",
       "                    <tr>\n",
       "                        <td colspan=\"2\" style=\"text-align: left;\">\n",
       "                            <strong>Local directory: </strong> /tmp/dask-scratch-space-1301364/worker-gadst92m\n",
       "                        </td>\n",
       "                    </tr>\n",
       "\n",
       "                    \n",
       "\n",
       "                    \n",
       "\n",
       "                </table>\n",
       "            </details>\n",
       "            </div>\n",
       "        </div>\n",
       "        \n",
       "        <div style=\"margin-bottom: 20px;\">\n",
       "            <div style=\"width: 24px; height: 24px; background-color: #DBF5FF; border: 3px solid #4CC9FF; border-radius: 5px; position: absolute;\"> </div>\n",
       "            <div style=\"margin-left: 48px;\">\n",
       "            <details>\n",
       "                <summary>\n",
       "                    <h4 style=\"margin-bottom: 0px; display: inline;\">Worker: 8</h4>\n",
       "                </summary>\n",
       "                <table style=\"width: 100%; text-align: left;\">\n",
       "                    <tr>\n",
       "                        <td style=\"text-align: left;\">\n",
       "                            <strong>Comm: </strong> tcp://127.0.0.1:41049\n",
       "                        </td>\n",
       "                        <td style=\"text-align: left;\">\n",
       "                            <strong>Total threads: </strong> 1\n",
       "                        </td>\n",
       "                    </tr>\n",
       "                    <tr>\n",
       "                        <td style=\"text-align: left;\">\n",
       "                            <strong>Dashboard: </strong> <a href=\"http://127.0.0.1:34512/status\" target=\"_blank\">http://127.0.0.1:34512/status</a>\n",
       "                        </td>\n",
       "                        <td style=\"text-align: left;\">\n",
       "                            <strong>Memory: </strong> 83.97 GiB\n",
       "                        </td>\n",
       "                    </tr>\n",
       "                    <tr>\n",
       "                        <td style=\"text-align: left;\">\n",
       "                            <strong>Nanny: </strong> tcp://127.0.0.1:34765\n",
       "                        </td>\n",
       "                        <td style=\"text-align: left;\"></td>\n",
       "                    </tr>\n",
       "                    <tr>\n",
       "                        <td colspan=\"2\" style=\"text-align: left;\">\n",
       "                            <strong>Local directory: </strong> /tmp/dask-scratch-space-1301364/worker-aqimgpvi\n",
       "                        </td>\n",
       "                    </tr>\n",
       "\n",
       "                    \n",
       "\n",
       "                    \n",
       "\n",
       "                </table>\n",
       "            </details>\n",
       "            </div>\n",
       "        </div>\n",
       "        \n",
       "        <div style=\"margin-bottom: 20px;\">\n",
       "            <div style=\"width: 24px; height: 24px; background-color: #DBF5FF; border: 3px solid #4CC9FF; border-radius: 5px; position: absolute;\"> </div>\n",
       "            <div style=\"margin-left: 48px;\">\n",
       "            <details>\n",
       "                <summary>\n",
       "                    <h4 style=\"margin-bottom: 0px; display: inline;\">Worker: 9</h4>\n",
       "                </summary>\n",
       "                <table style=\"width: 100%; text-align: left;\">\n",
       "                    <tr>\n",
       "                        <td style=\"text-align: left;\">\n",
       "                            <strong>Comm: </strong> tcp://127.0.0.1:42140\n",
       "                        </td>\n",
       "                        <td style=\"text-align: left;\">\n",
       "                            <strong>Total threads: </strong> 1\n",
       "                        </td>\n",
       "                    </tr>\n",
       "                    <tr>\n",
       "                        <td style=\"text-align: left;\">\n",
       "                            <strong>Dashboard: </strong> <a href=\"http://127.0.0.1:42350/status\" target=\"_blank\">http://127.0.0.1:42350/status</a>\n",
       "                        </td>\n",
       "                        <td style=\"text-align: left;\">\n",
       "                            <strong>Memory: </strong> 83.97 GiB\n",
       "                        </td>\n",
       "                    </tr>\n",
       "                    <tr>\n",
       "                        <td style=\"text-align: left;\">\n",
       "                            <strong>Nanny: </strong> tcp://127.0.0.1:41394\n",
       "                        </td>\n",
       "                        <td style=\"text-align: left;\"></td>\n",
       "                    </tr>\n",
       "                    <tr>\n",
       "                        <td colspan=\"2\" style=\"text-align: left;\">\n",
       "                            <strong>Local directory: </strong> /tmp/dask-scratch-space-1301364/worker-y0fi1l8l\n",
       "                        </td>\n",
       "                    </tr>\n",
       "\n",
       "                    \n",
       "\n",
       "                    \n",
       "\n",
       "                </table>\n",
       "            </details>\n",
       "            </div>\n",
       "        </div>\n",
       "        \n",
       "        <div style=\"margin-bottom: 20px;\">\n",
       "            <div style=\"width: 24px; height: 24px; background-color: #DBF5FF; border: 3px solid #4CC9FF; border-radius: 5px; position: absolute;\"> </div>\n",
       "            <div style=\"margin-left: 48px;\">\n",
       "            <details>\n",
       "                <summary>\n",
       "                    <h4 style=\"margin-bottom: 0px; display: inline;\">Worker: 10</h4>\n",
       "                </summary>\n",
       "                <table style=\"width: 100%; text-align: left;\">\n",
       "                    <tr>\n",
       "                        <td style=\"text-align: left;\">\n",
       "                            <strong>Comm: </strong> tcp://127.0.0.1:34889\n",
       "                        </td>\n",
       "                        <td style=\"text-align: left;\">\n",
       "                            <strong>Total threads: </strong> 1\n",
       "                        </td>\n",
       "                    </tr>\n",
       "                    <tr>\n",
       "                        <td style=\"text-align: left;\">\n",
       "                            <strong>Dashboard: </strong> <a href=\"http://127.0.0.1:38533/status\" target=\"_blank\">http://127.0.0.1:38533/status</a>\n",
       "                        </td>\n",
       "                        <td style=\"text-align: left;\">\n",
       "                            <strong>Memory: </strong> 83.97 GiB\n",
       "                        </td>\n",
       "                    </tr>\n",
       "                    <tr>\n",
       "                        <td style=\"text-align: left;\">\n",
       "                            <strong>Nanny: </strong> tcp://127.0.0.1:41519\n",
       "                        </td>\n",
       "                        <td style=\"text-align: left;\"></td>\n",
       "                    </tr>\n",
       "                    <tr>\n",
       "                        <td colspan=\"2\" style=\"text-align: left;\">\n",
       "                            <strong>Local directory: </strong> /tmp/dask-scratch-space-1301364/worker-_ieaze3k\n",
       "                        </td>\n",
       "                    </tr>\n",
       "\n",
       "                    \n",
       "\n",
       "                    \n",
       "\n",
       "                </table>\n",
       "            </details>\n",
       "            </div>\n",
       "        </div>\n",
       "        \n",
       "        <div style=\"margin-bottom: 20px;\">\n",
       "            <div style=\"width: 24px; height: 24px; background-color: #DBF5FF; border: 3px solid #4CC9FF; border-radius: 5px; position: absolute;\"> </div>\n",
       "            <div style=\"margin-left: 48px;\">\n",
       "            <details>\n",
       "                <summary>\n",
       "                    <h4 style=\"margin-bottom: 0px; display: inline;\">Worker: 11</h4>\n",
       "                </summary>\n",
       "                <table style=\"width: 100%; text-align: left;\">\n",
       "                    <tr>\n",
       "                        <td style=\"text-align: left;\">\n",
       "                            <strong>Comm: </strong> tcp://127.0.0.1:39226\n",
       "                        </td>\n",
       "                        <td style=\"text-align: left;\">\n",
       "                            <strong>Total threads: </strong> 1\n",
       "                        </td>\n",
       "                    </tr>\n",
       "                    <tr>\n",
       "                        <td style=\"text-align: left;\">\n",
       "                            <strong>Dashboard: </strong> <a href=\"http://127.0.0.1:37876/status\" target=\"_blank\">http://127.0.0.1:37876/status</a>\n",
       "                        </td>\n",
       "                        <td style=\"text-align: left;\">\n",
       "                            <strong>Memory: </strong> 83.97 GiB\n",
       "                        </td>\n",
       "                    </tr>\n",
       "                    <tr>\n",
       "                        <td style=\"text-align: left;\">\n",
       "                            <strong>Nanny: </strong> tcp://127.0.0.1:39901\n",
       "                        </td>\n",
       "                        <td style=\"text-align: left;\"></td>\n",
       "                    </tr>\n",
       "                    <tr>\n",
       "                        <td colspan=\"2\" style=\"text-align: left;\">\n",
       "                            <strong>Local directory: </strong> /tmp/dask-scratch-space-1301364/worker-n5i6_myn\n",
       "                        </td>\n",
       "                    </tr>\n",
       "\n",
       "                    \n",
       "\n",
       "                    \n",
       "\n",
       "                </table>\n",
       "            </details>\n",
       "            </div>\n",
       "        </div>\n",
       "        \n",
       "\n",
       "    </details>\n",
       "</div>\n",
       "\n",
       "        </details>\n",
       "    </div>\n",
       "</div>\n",
       "            </details>\n",
       "        \n",
       "\n",
       "    </div>\n",
       "</div>"
      ],
      "text/plain": [
       "<Client: 'tcp://127.0.0.1:34158' processes=12 threads=12, memory=0.98 TiB>"
      ]
     },
     "execution_count": 4,
     "metadata": {},
     "output_type": "execute_result"
    }
   ],
   "source": [
    "ens = Ensemble(client = client)  # initialize an ensemble object\n",
    "ens.client_info()"
   ]
  },
  {
   "cell_type": "code",
   "execution_count": 5,
   "metadata": {},
   "outputs": [],
   "source": [
    "dask.config.get(\"temporary-directory\")"
   ]
  },
  {
   "cell_type": "code",
   "execution_count": 6,
   "metadata": {},
   "outputs": [
    {
     "data": {
      "text/plain": [
       "'pandas'"
      ]
     },
     "execution_count": 6,
     "metadata": {},
     "output_type": "execute_result"
    }
   ],
   "source": [
    "dask.config.get(\"dataframe.backend\")"
   ]
  },
  {
   "cell_type": "markdown",
   "metadata": {},
   "source": [
    "# Setup base directory for saving output files"
   ]
  },
  {
   "cell_type": "code",
   "execution_count": 7,
   "metadata": {},
   "outputs": [],
   "source": [
    "username= \"ncaplar\"\n",
    "basedir = f\"/astro/users/{username}/data/\""
   ]
  },
  {
   "cell_type": "markdown",
   "metadata": {},
   "source": [
    "# Tape Single Pixel - real data "
   ]
  },
  {
   "cell_type": "markdown",
   "metadata": {},
   "source": [
    "## loading and inspection of the data"
   ]
  },
  {
   "cell_type": "code",
   "execution_count": 8,
   "metadata": {},
   "outputs": [
    {
     "name": "stderr",
     "output_type": "stream",
     "text": [
      "/data/epyc/users/ncaplar/github/tape/src/tape/ensemble.py:1116: UserWarning: Divisions for object are not set, certain downstream dask operations may fail as a result. We recommend setting the `sort` or `sorted` flags when loading data to establish division information.\n",
      "  warnings.warn(\n",
      "/data/epyc/users/ncaplar/github/tape/src/tape/ensemble.py:1116: UserWarning: Divisions for source are not set, certain downstream dask operations may fail as a result. We recommend setting the `sort` or `sorted` flags when loading data to establish division information.\n",
      "  warnings.warn(\n"
     ]
    },
    {
     "data": {
      "text/plain": [
       "<tape.ensemble.Ensemble at 0x7f6d850afe20>"
      ]
     },
     "execution_count": 8,
     "metadata": {},
     "output_type": "execute_result"
    }
   ],
   "source": [
    "# if running on baldur or epyc\n",
    "data_path = \"/astro/store/epyc/data3/hipscat/catalogs/tape_test/\"\n",
    "\n",
    "col_map = ColumnMapper(id_col=\"SDSS_NAME_dr16q_constant\", \n",
    "                       time_col=\"mjd_ztf_source\",\n",
    "                       flux_col=\"mag_ztf_source\", \n",
    "                       err_col=\"magerr_ztf_source\",\n",
    "                       band_col=\"band_ztf_source\")\n",
    "\n",
    "ens.from_hipscat(data_path,\n",
    "                 source_subdir=\"tape_test_sources\",\n",
    "                 object_subdir=\"tape_test_obj\",\n",
    "                 column_mapper=col_map,\n",
    "                 additional_cols=True,\n",
    "                 sync_tables=False,\n",
    "                 sort=False,\n",
    "                 )"
   ]
  },
  {
   "cell_type": "markdown",
   "metadata": {},
   "source": [
    "Filter data"
   ]
  },
  {
   "cell_type": "code",
   "execution_count": 9,
   "metadata": {},
   "outputs": [
    {
     "name": "stderr",
     "output_type": "stream",
     "text": [
      "/data/epyc/users/ncaplar/github/tape/src/tape/ensemble.py:1577: UserWarning: Divisions are not known, syncing using a non-lazy method.\n",
      "  warnings.warn(\"Divisions are not known, syncing using a non-lazy method.\")\n"
     ]
    },
    {
     "data": {
      "text/plain": [
       "<tape.ensemble.Ensemble at 0x7f6d850afe20>"
      ]
     },
     "execution_count": 9,
     "metadata": {},
     "output_type": "execute_result"
    }
   ],
   "source": [
    "ens.query(\"band_ztf_source == 'g'\", table = 'source')\n",
    "ens.prune(10)\n",
    "ens.query(\"rMeanPSFMag_ps1_otmo < 20\", table = 'object')"
   ]
  },
  {
   "cell_type": "code",
   "execution_count": 5,
   "metadata": {},
   "outputs": [
    {
     "ename": "AttributeError",
     "evalue": "'NoneType' object has no attribute 'compute'",
     "output_type": "error",
     "traceback": [
      "\u001b[0;31m---------------------------------------------------------------------------\u001b[0m",
      "\u001b[0;31mAttributeError\u001b[0m                            Traceback (most recent call last)",
      "\u001b[1;32m/astro/users/ncaplar/github/notebooks_lf/PeriodDrw/Fit.ipynb Cell 11\u001b[0m line \u001b[0;36m1\n\u001b[0;32m----> <a href='vscode-notebook-cell://ssh-remote%2Bbaldur/astro/users/ncaplar/github/notebooks_lf/PeriodDrw/Fit.ipynb#X13sdnNjb2RlLXJlbW90ZQ%3D%3D?line=0'>1</a>\u001b[0m ens\u001b[39m.\u001b[39;49m_object\u001b[39m.\u001b[39;49mcompute()\n",
      "\u001b[0;31mAttributeError\u001b[0m: 'NoneType' object has no attribute 'compute'"
     ]
    }
   ],
   "source": [
    "ens._object.compute()"
   ]
  },
  {
   "cell_type": "code",
   "execution_count": 10,
   "metadata": {},
   "outputs": [
    {
     "name": "stderr",
     "output_type": "stream",
     "text": [
      "/astro/users/ncaplar/miniconda3/envs/lf_tape_dev/lib/python3.10/site-packages/dask/dataframe/methods.py:357: PerformanceWarning: DataFrame is highly fragmented.  This is usually the result of calling `frame.insert` many times, which has poor performance.  Consider joining all columns at once using pd.concat(axis=1) instead. To get a de-fragmented frame, use `newframe = frame.copy()`\n",
      "  df[name] = val\n",
      "/astro/users/ncaplar/miniconda3/envs/lf_tape_dev/lib/python3.10/site-packages/dask/dataframe/methods.py:357: PerformanceWarning: DataFrame is highly fragmented.  This is usually the result of calling `frame.insert` many times, which has poor performance.  Consider joining all columns at once using pd.concat(axis=1) instead. To get a de-fragmented frame, use `newframe = frame.copy()`\n",
      "  df[name] = val\n",
      "/astro/users/ncaplar/miniconda3/envs/lf_tape_dev/lib/python3.10/site-packages/dask/dataframe/methods.py:357: PerformanceWarning: DataFrame is highly fragmented.  This is usually the result of calling `frame.insert` many times, which has poor performance.  Consider joining all columns at once using pd.concat(axis=1) instead. To get a de-fragmented frame, use `newframe = frame.copy()`\n",
      "  df[name] = val\n",
      "/astro/users/ncaplar/miniconda3/envs/lf_tape_dev/lib/python3.10/site-packages/dask/dataframe/methods.py:357: PerformanceWarning: DataFrame is highly fragmented.  This is usually the result of calling `frame.insert` many times, which has poor performance.  Consider joining all columns at once using pd.concat(axis=1) instead. To get a de-fragmented frame, use `newframe = frame.copy()`\n",
      "  df[name] = val\n",
      "/astro/users/ncaplar/miniconda3/envs/lf_tape_dev/lib/python3.10/site-packages/dask/dataframe/methods.py:357: PerformanceWarning: DataFrame is highly fragmented.  This is usually the result of calling `frame.insert` many times, which has poor performance.  Consider joining all columns at once using pd.concat(axis=1) instead. To get a de-fragmented frame, use `newframe = frame.copy()`\n",
      "  df[name] = val\n",
      "/astro/users/ncaplar/miniconda3/envs/lf_tape_dev/lib/python3.10/site-packages/dask/dataframe/methods.py:357: PerformanceWarning: DataFrame is highly fragmented.  This is usually the result of calling `frame.insert` many times, which has poor performance.  Consider joining all columns at once using pd.concat(axis=1) instead. To get a de-fragmented frame, use `newframe = frame.copy()`\n",
      "  df[name] = val\n",
      "/astro/users/ncaplar/miniconda3/envs/lf_tape_dev/lib/python3.10/site-packages/dask/dataframe/methods.py:357: PerformanceWarning: DataFrame is highly fragmented.  This is usually the result of calling `frame.insert` many times, which has poor performance.  Consider joining all columns at once using pd.concat(axis=1) instead. To get a de-fragmented frame, use `newframe = frame.copy()`\n",
      "  df[name] = val\n",
      "/astro/users/ncaplar/miniconda3/envs/lf_tape_dev/lib/python3.10/site-packages/dask/dataframe/methods.py:357: PerformanceWarning: DataFrame is highly fragmented.  This is usually the result of calling `frame.insert` many times, which has poor performance.  Consider joining all columns at once using pd.concat(axis=1) instead. To get a de-fragmented frame, use `newframe = frame.copy()`\n",
      "  df[name] = val\n"
     ]
    },
    {
     "data": {
      "text/plain": [
       "(17.0, 21.0)"
      ]
     },
     "execution_count": 10,
     "metadata": {},
     "output_type": "execute_result"
    },
    {
     "data": {
      "image/png": "[encoded data removed]",
      "text/plain": [
       "<Figure size 640x480 with 1 Axes>"
      ]
     },
     "metadata": {},
     "output_type": "display_data"
    }
   ],
   "source": [
    "plt.scatter(ens._object['rMeanPSFMag_ps1_otmo'].compute().values, ens._object['gMeanPSFMag_ps1_otmo'].compute().values)\n",
    "plt.xlim(17,20.5)\n",
    "plt.ylim(17,21)"
   ]
  },
  {
   "cell_type": "code",
   "execution_count": 12,
   "metadata": {},
   "outputs": [
    {
     "name": "stderr",
     "output_type": "stream",
     "text": [
      "/astro/users/ncaplar/miniconda3/envs/lf_tape_dev/lib/python3.10/site-packages/dask/dataframe/methods.py:357: PerformanceWarning: DataFrame is highly fragmented.  This is usually the result of calling `frame.insert` many times, which has poor performance.  Consider joining all columns at once using pd.concat(axis=1) instead. To get a de-fragmented frame, use `newframe = frame.copy()`\n",
      "  df[name] = val\n",
      "/astro/users/ncaplar/miniconda3/envs/lf_tape_dev/lib/python3.10/site-packages/dask/dataframe/methods.py:357: PerformanceWarning: DataFrame is highly fragmented.  This is usually the result of calling `frame.insert` many times, which has poor performance.  Consider joining all columns at once using pd.concat(axis=1) instead. To get a de-fragmented frame, use `newframe = frame.copy()`\n",
      "  df[name] = val\n",
      "/astro/users/ncaplar/miniconda3/envs/lf_tape_dev/lib/python3.10/site-packages/dask/dataframe/methods.py:357: PerformanceWarning: DataFrame is highly fragmented.  This is usually the result of calling `frame.insert` many times, which has poor performance.  Consider joining all columns at once using pd.concat(axis=1) instead. To get a de-fragmented frame, use `newframe = frame.copy()`\n",
      "  df[name] = val\n",
      "/astro/users/ncaplar/miniconda3/envs/lf_tape_dev/lib/python3.10/site-packages/dask/dataframe/methods.py:357: PerformanceWarning: DataFrame is highly fragmented.  This is usually the result of calling `frame.insert` many times, which has poor performance.  Consider joining all columns at once using pd.concat(axis=1) instead. To get a de-fragmented frame, use `newframe = frame.copy()`\n",
      "  df[name] = val\n",
      "/astro/users/ncaplar/miniconda3/envs/lf_tape_dev/lib/python3.10/site-packages/dask/dataframe/methods.py:357: PerformanceWarning: DataFrame is highly fragmented.  This is usually the result of calling `frame.insert` many times, which has poor performance.  Consider joining all columns at once using pd.concat(axis=1) instead. To get a de-fragmented frame, use `newframe = frame.copy()`\n",
      "  df[name] = val\n",
      "/astro/users/ncaplar/miniconda3/envs/lf_tape_dev/lib/python3.10/site-packages/dask/dataframe/methods.py:357: PerformanceWarning: DataFrame is highly fragmented.  This is usually the result of calling `frame.insert` many times, which has poor performance.  Consider joining all columns at once using pd.concat(axis=1) instead. To get a de-fragmented frame, use `newframe = frame.copy()`\n",
      "  df[name] = val\n",
      "/astro/users/ncaplar/miniconda3/envs/lf_tape_dev/lib/python3.10/site-packages/dask/dataframe/methods.py:357: PerformanceWarning: DataFrame is highly fragmented.  This is usually the result of calling `frame.insert` many times, which has poor performance.  Consider joining all columns at once using pd.concat(axis=1) instead. To get a de-fragmented frame, use `newframe = frame.copy()`\n",
      "  df[name] = val\n",
      "/astro/users/ncaplar/miniconda3/envs/lf_tape_dev/lib/python3.10/site-packages/dask/dataframe/methods.py:357: PerformanceWarning: DataFrame is highly fragmented.  This is usually the result of calling `frame.insert` many times, which has poor performance.  Consider joining all columns at once using pd.concat(axis=1) instead. To get a de-fragmented frame, use `newframe = frame.copy()`\n",
      "  df[name] = val\n"
     ]
    },
    {
     "data": {
      "text/plain": [
       "(17.0, 23.0)"
      ]
     },
     "execution_count": 12,
     "metadata": {},
     "output_type": "execute_result"
    },
    {
     "data": {
      "image/png": "[encoded data removed]",
      "text/plain": [
       "<Figure size 640x480 with 1 Axes>"
      ]
     },
     "metadata": {},
     "output_type": "display_data"
    }
   ],
   "source": [
    "ens_nobs = ens.calc_nobs(temporary=False)\n",
    "\n",
    "plt.scatter( ens._object['gMeanPSFMag_ps1_otmo'].compute().values,ens_nobs._object['nobs_total'].compute().values)\n",
    "plt.xlim(17,23)"
   ]
  },
  {
   "cell_type": "code",
   "execution_count": 13,
   "metadata": {},
   "outputs": [
    {
     "name": "stderr",
     "output_type": "stream",
     "text": [
      "/astro/users/ncaplar/miniconda3/envs/lf_tape_dev/lib/python3.10/site-packages/dask/dataframe/methods.py:357: PerformanceWarning: DataFrame is highly fragmented.  This is usually the result of calling `frame.insert` many times, which has poor performance.  Consider joining all columns at once using pd.concat(axis=1) instead. To get a de-fragmented frame, use `newframe = frame.copy()`\n",
      "  df[name] = val\n",
      "/astro/users/ncaplar/miniconda3/envs/lf_tape_dev/lib/python3.10/site-packages/dask/dataframe/methods.py:357: PerformanceWarning: DataFrame is highly fragmented.  This is usually the result of calling `frame.insert` many times, which has poor performance.  Consider joining all columns at once using pd.concat(axis=1) instead. To get a de-fragmented frame, use `newframe = frame.copy()`\n",
      "  df[name] = val\n",
      "/astro/users/ncaplar/miniconda3/envs/lf_tape_dev/lib/python3.10/site-packages/dask/dataframe/methods.py:357: PerformanceWarning: DataFrame is highly fragmented.  This is usually the result of calling `frame.insert` many times, which has poor performance.  Consider joining all columns at once using pd.concat(axis=1) instead. To get a de-fragmented frame, use `newframe = frame.copy()`\n",
      "  df[name] = val\n",
      "/astro/users/ncaplar/miniconda3/envs/lf_tape_dev/lib/python3.10/site-packages/dask/dataframe/methods.py:357: PerformanceWarning: DataFrame is highly fragmented.  This is usually the result of calling `frame.insert` many times, which has poor performance.  Consider joining all columns at once using pd.concat(axis=1) instead. To get a de-fragmented frame, use `newframe = frame.copy()`\n",
      "  df[name] = val\n"
     ]
    },
    {
     "data": {
      "text/plain": [
       "(array([ 4.,  9.,  4.,  0.,  1.,  0.,  2.,  3.,  3.,  4.,  7.,  6.,  8.,\n",
       "        13., 14.,  7., 17.,  7.,  6.,  1.,  1.,  0.,  1.,  1.,  0.,  0.,\n",
       "         0.,  2.,  2.,  1.,  0.,  0.,  1.,  1.,  1.]),\n",
       " array([ 10.,  30.,  50.,  70.,  90., 110., 130., 150., 170., 190., 210.,\n",
       "        230., 250., 270., 290., 310., 330., 350., 370., 390., 410., 430.,\n",
       "        450., 470., 490., 510., 530., 550., 570., 590., 610., 630., 650.,\n",
       "        670., 690., 710.]),\n",
       " <BarContainer object of 35 artists>)"
      ]
     },
     "execution_count": 13,
     "metadata": {},
     "output_type": "execute_result"
    },
    {
     "data": {
      "image/png": "[encoded data removed]",
      "text/plain": [
       "<Figure size 640x480 with 1 Axes>"
      ]
     },
     "metadata": {},
     "output_type": "display_data"
    }
   ],
   "source": [
    "\n",
    "data = ens_nobs._object['nobs_total'].compute().values\n",
    "\n",
    "bin_edges = range(min(data), max(data) + 21, 20) \n",
    "plt.hist(data, bins=bin_edges, edgecolor='k')  # 'k' sets black color for edges"
   ]
  },
  {
   "cell_type": "markdown",
   "metadata": {},
   "source": [
    "## Computation"
   ]
  },
  {
   "cell_type": "code",
   "execution_count": 14,
   "metadata": {},
   "outputs": [
    {
     "name": "stderr",
     "output_type": "stream",
     "text": [
      "/astro/users/ncaplar/miniconda3/envs/lf_tape_dev/lib/python3.10/site-packages/tape/ensemble.py:1556: UserWarning: Divisions are not known, syncing using a non-lazy method.\n",
      "  warnings.warn(\"Divisions are not known, syncing using a non-lazy method.\")\n",
      "/astro/users/ncaplar/miniconda3/envs/lf_tape_dev/lib/python3.10/site-packages/dask/dataframe/methods.py:357: PerformanceWarning: DataFrame is highly fragmented.  This is usually the result of calling `frame.insert` many times, which has poor performance.  Consider joining all columns at once using pd.concat(axis=1) instead. To get a de-fragmented frame, use `newframe = frame.copy()`\n",
      "  df[name] = val\n",
      "/astro/users/ncaplar/miniconda3/envs/lf_tape_dev/lib/python3.10/site-packages/dask/dataframe/methods.py:357: PerformanceWarning: DataFrame is highly fragmented.  This is usually the result of calling `frame.insert` many times, which has poor performance.  Consider joining all columns at once using pd.concat(axis=1) instead. To get a de-fragmented frame, use `newframe = frame.copy()`\n",
      "  df[name] = val\n",
      "/astro/users/ncaplar/miniconda3/envs/lf_tape_dev/lib/python3.10/site-packages/dask/dataframe/methods.py:357: PerformanceWarning: DataFrame is highly fragmented.  This is usually the result of calling `frame.insert` many times, which has poor performance.  Consider joining all columns at once using pd.concat(axis=1) instead. To get a de-fragmented frame, use `newframe = frame.copy()`\n",
      "  df[name] = val\n",
      "/astro/users/ncaplar/miniconda3/envs/lf_tape_dev/lib/python3.10/site-packages/dask/dataframe/methods.py:357: PerformanceWarning: DataFrame is highly fragmented.  This is usually the result of calling `frame.insert` many times, which has poor performance.  Consider joining all columns at once using pd.concat(axis=1) instead. To get a de-fragmented frame, use `newframe = frame.copy()`\n",
      "  df[name] = val\n",
      "/astro/users/ncaplar/miniconda3/envs/lf_tape_dev/lib/python3.10/site-packages/dask/dataframe/methods.py:357: PerformanceWarning: DataFrame is highly fragmented.  This is usually the result of calling `frame.insert` many times, which has poor performance.  Consider joining all columns at once using pd.concat(axis=1) instead. To get a de-fragmented frame, use `newframe = frame.copy()`\n",
      "  df[name] = val\n",
      "/astro/users/ncaplar/miniconda3/envs/lf_tape_dev/lib/python3.10/site-packages/dask/dataframe/methods.py:357: PerformanceWarning: DataFrame is highly fragmented.  This is usually the result of calling `frame.insert` many times, which has poor performance.  Consider joining all columns at once using pd.concat(axis=1) instead. To get a de-fragmented frame, use `newframe = frame.copy()`\n",
      "  df[name] = val\n",
      "/astro/users/ncaplar/miniconda3/envs/lf_tape_dev/lib/python3.10/site-packages/dask/dataframe/methods.py:357: PerformanceWarning: DataFrame is highly fragmented.  This is usually the result of calling `frame.insert` many times, which has poor performance.  Consider joining all columns at once using pd.concat(axis=1) instead. To get a de-fragmented frame, use `newframe = frame.copy()`\n",
      "  df[name] = val\n",
      "/astro/users/ncaplar/miniconda3/envs/lf_tape_dev/lib/python3.10/site-packages/dask/dataframe/methods.py:357: PerformanceWarning: DataFrame is highly fragmented.  This is usually the result of calling `frame.insert` many times, which has poor performance.  Consider joining all columns at once using pd.concat(axis=1) instead. To get a de-fragmented frame, use `newframe = frame.copy()`\n",
      "  df[name] = val\n"
     ]
    }
   ],
   "source": [
    "# 9min, 13 sec on baldur, for 603 sources in 4 partitions\n",
    "# 7min, 30 sec on baldur, for 603 sources in 4 partitions, Nov 7\n",
    "# 5min, 14 sec on baldur, for 603 sources in 10 partitions, Nov 7\n",
    "# 2min, 50 sec on baldur, for 127 sources in 4 partitions\n",
    "# 5min, 3 sec on epyc, for 127 sources in 4 partitions\n",
    "JaxPeriodDrwFit_instance = JaxPeriodDrwFit.JaxPeriodDrwFit()\n",
    "res_tsp = ens.batch(JaxPeriodDrwFit_instance.optimize_map, 'mjd_ztf_source', \"mag_ztf_source\", \"magerr_ztf_source\",\n",
    "                compute=True, meta=None, n_init=100)"
   ]
  },
  {
   "cell_type": "code",
   "execution_count": 15,
   "metadata": {},
   "outputs": [],
   "source": [
    "JaxPeriodDrwFit_instance = JaxPeriodDrwFit.JaxPeriodDrwFit()\n",
    "res_tsp_drw = ens.batch(JaxPeriodDrwFit_instance.optimize_map_drw, 'mjd_ztf_source', \"mag_ztf_source\", \"magerr_ztf_source\",\n",
    "                compute=True, meta=None, n_init=100)"
   ]
  },
  {
   "cell_type": "code",
   "execution_count": 16,
   "metadata": {},
   "outputs": [],
   "source": [
    "def pack_output_to_parquet(result, cols, output_dir, output_filename, drop_cols=[], full=False):\n",
    "    \"\"\"Packs output to a dataframe, written as a parquet file. The created dataframe object is returned for inspection.\"\"\"\n",
    "    result_df = None\n",
    "    if full:\n",
    "        # Construct dataframes with the results for each object.\n",
    "        dfs = []\n",
    "        for i in range(len(result)):\n",
    "            obj_data = result.iloc[i]\n",
    "            # Construct a series representing the index\n",
    "            obj_index = pd.Series(np.full(len(obj_data), result.index[i]), name=result.index.name)\n",
    "            dfs.append(pd.DataFrame(data=obj_data, columns=cols, index=obj_index))\n",
    "\n",
    "        # Concatenate all of the per-object dataframes\n",
    "        result_df = pd.concat(dfs)\n",
    "    else:\n",
    "        # Each object only has a 1D array in the result series, so the constructed\n",
    "        # dataframe has the same number of rows. So we can just do a 1:1 mapping with column names \n",
    "        result_df = pd.DataFrame(columns=cols, index=result.index)\n",
    "        for i in range(len(result)):\n",
    "            result_df.iloc[i] = result[i]\n",
    "\n",
    "    # Drop any columns if requested.\n",
    "    if drop_cols:\n",
    "        result_df = result_df.drop(columns=drop_cols)\n",
    "\n",
    "    # Write the output to the parquet file\n",
    "    pa_table = pa.Table.from_pandas(result_df)\n",
    "    pa_table\n",
    "    pa.parquet.write_table(pa_table, f\"{output_dir}/data/{output_filename}.parquet\")\n",
    "    return result_df\n",
    "\n",
    "# Create columns for result of using just the drw kernel\n",
    "param_cols = ['log_drw_scale', 'log_drw_amp']\n",
    "init_param_cols = [\"init_\" + c for c in param_cols]\n",
    "drw_columns = ['min_neg_log_lh', 'neg_log_lh'] + param_cols + init_param_cols\n",
    "\n",
    "# Create columns for result of combining the drw params with periodic params\n",
    "param_cols = ['log_drw_scale', 'log_drw_amp', 'log_per_scale', 'log_per_amp']\n",
    "init_param_cols = [\"init_\" + c for c in param_cols]\n",
    "combined_columns = ['min_neg_log_lh', 'neg_log_lh'] + param_cols + init_param_cols\n"
   ]
  },
  {
   "cell_type": "code",
   "execution_count": 17,
   "metadata": {},
   "outputs": [
    {
     "name": "stderr",
     "output_type": "stream",
     "text": [
      "/tmp/ipykernel_61320/2460734338.py:20: FutureWarning: Series.__getitem__ treating keys as positions is deprecated. In a future version, integer keys will always be treated as labels (consistent with DataFrame behavior). To access a value by position, use `ser.iloc[pos]`\n",
      "  result_df.iloc[i] = result[i]\n"
     ]
    },
    {
     "data": {
      "text/html": [
       "<div>\n",
       "<style scoped>\n",
       "    .dataframe tbody tr th:only-of-type {\n",
       "        vertical-align: middle;\n",
       "    }\n",
       "\n",
       "    .dataframe tbody tr th {\n",
       "        vertical-align: top;\n",
       "    }\n",
       "\n",
       "    .dataframe thead th {\n",
       "        text-align: right;\n",
       "    }\n",
       "</style>\n",
       "<table border=\"1\" class=\"dataframe\">\n",
       "  <thead>\n",
       "    <tr style=\"text-align: right;\">\n",
       "      <th></th>\n",
       "      <th>min_neg_log_lh</th>\n",
       "      <th>neg_log_lh</th>\n",
       "      <th>log_drw_scale</th>\n",
       "      <th>log_drw_amp</th>\n",
       "      <th>init_log_drw_scale</th>\n",
       "      <th>init_log_drw_amp</th>\n",
       "    </tr>\n",
       "    <tr>\n",
       "      <th>SDSS_NAME_dr16q_constant</th>\n",
       "      <th></th>\n",
       "      <th></th>\n",
       "      <th></th>\n",
       "      <th></th>\n",
       "      <th></th>\n",
       "      <th></th>\n",
       "    </tr>\n",
       "  </thead>\n",
       "  <tbody>\n",
       "    <tr>\n",
       "      <th>024050.36-003109.0</th>\n",
       "      <td>40.08991</td>\n",
       "      <td>40.08991</td>\n",
       "      <td>2.980099</td>\n",
       "      <td>-0.760837</td>\n",
       "      <td>3.534287</td>\n",
       "      <td>0.225864</td>\n",
       "    </tr>\n",
       "    <tr>\n",
       "      <th>024052.82-004110.9</th>\n",
       "      <td>-34.805998</td>\n",
       "      <td>-34.805998</td>\n",
       "      <td>-3.807629</td>\n",
       "      <td>-4.933484</td>\n",
       "      <td>0.979914</td>\n",
       "      <td>0.808098</td>\n",
       "    </tr>\n",
       "    <tr>\n",
       "      <th>024126.71-004526.3</th>\n",
       "      <td>-28.434609</td>\n",
       "      <td>-28.434609</td>\n",
       "      <td>2.066565</td>\n",
       "      <td>-1.24888</td>\n",
       "      <td>1.872701</td>\n",
       "      <td>-2.842854</td>\n",
       "    </tr>\n",
       "    <tr>\n",
       "      <th>024151.76-001953.6</th>\n",
       "      <td>35.285865</td>\n",
       "      <td>35.285865</td>\n",
       "      <td>2.441909</td>\n",
       "      <td>-1.277017</td>\n",
       "      <td>3.854836</td>\n",
       "      <td>-1.304851</td>\n",
       "    </tr>\n",
       "    <tr>\n",
       "      <th>024154.42-004757.6</th>\n",
       "      <td>-12.792811</td>\n",
       "      <td>-12.792811</td>\n",
       "      <td>1.545028</td>\n",
       "      <td>-4.170314</td>\n",
       "      <td>1.554912</td>\n",
       "      <td>-1.710292</td>\n",
       "    </tr>\n",
       "    <tr>\n",
       "      <th>...</th>\n",
       "      <td>...</td>\n",
       "      <td>...</td>\n",
       "      <td>...</td>\n",
       "      <td>...</td>\n",
       "      <td>...</td>\n",
       "      <td>...</td>\n",
       "    </tr>\n",
       "    <tr>\n",
       "      <th>024419.10+005539.2</th>\n",
       "      <td>-94.10112</td>\n",
       "      <td>-94.10112</td>\n",
       "      <td>2.633371</td>\n",
       "      <td>-0.931073</td>\n",
       "      <td>2.623782</td>\n",
       "      <td>-2.06715</td>\n",
       "    </tr>\n",
       "    <tr>\n",
       "      <th>024448.90+002858.6</th>\n",
       "      <td>-72.338187</td>\n",
       "      <td>-72.338187</td>\n",
       "      <td>2.415671</td>\n",
       "      <td>-0.888955</td>\n",
       "      <td>3.037724</td>\n",
       "      <td>-0.912945</td>\n",
       "    </tr>\n",
       "    <tr>\n",
       "      <th>024504.47+002841.3</th>\n",
       "      <td>13.080527</td>\n",
       "      <td>13.080527</td>\n",
       "      <td>2.468771</td>\n",
       "      <td>-0.839532</td>\n",
       "      <td>1.792329</td>\n",
       "      <td>1.68365</td>\n",
       "    </tr>\n",
       "    <tr>\n",
       "      <th>024508.67+003710.6</th>\n",
       "      <td>6.221896</td>\n",
       "      <td>6.221896</td>\n",
       "      <td>2.562416</td>\n",
       "      <td>-0.734817</td>\n",
       "      <td>3.059264</td>\n",
       "      <td>1.037201</td>\n",
       "    </tr>\n",
       "    <tr>\n",
       "      <th>024514.80+003923.3</th>\n",
       "      <td>21.782404</td>\n",
       "      <td>21.782404</td>\n",
       "      <td>2.279927</td>\n",
       "      <td>-0.969485</td>\n",
       "      <td>3.861224</td>\n",
       "      <td>0.387822</td>\n",
       "    </tr>\n",
       "  </tbody>\n",
       "</table>\n",
       "<p>127 rows × 6 columns</p>\n",
       "</div>"
      ],
      "text/plain": [
       "                         min_neg_log_lh neg_log_lh log_drw_scale log_drw_amp  \\\n",
       "SDSS_NAME_dr16q_constant                                                       \n",
       "024050.36-003109.0             40.08991   40.08991      2.980099   -0.760837   \n",
       "024052.82-004110.9           -34.805998 -34.805998     -3.807629   -4.933484   \n",
       "024126.71-004526.3           -28.434609 -28.434609      2.066565    -1.24888   \n",
       "024151.76-001953.6            35.285865  35.285865      2.441909   -1.277017   \n",
       "024154.42-004757.6           -12.792811 -12.792811      1.545028   -4.170314   \n",
       "...                                 ...        ...           ...         ...   \n",
       "024419.10+005539.2            -94.10112  -94.10112      2.633371   -0.931073   \n",
       "024448.90+002858.6           -72.338187 -72.338187      2.415671   -0.888955   \n",
       "024504.47+002841.3            13.080527  13.080527      2.468771   -0.839532   \n",
       "024508.67+003710.6             6.221896   6.221896      2.562416   -0.734817   \n",
       "024514.80+003923.3            21.782404  21.782404      2.279927   -0.969485   \n",
       "\n",
       "                         init_log_drw_scale init_log_drw_amp  \n",
       "SDSS_NAME_dr16q_constant                                      \n",
       "024050.36-003109.0                 3.534287         0.225864  \n",
       "024052.82-004110.9                 0.979914         0.808098  \n",
       "024126.71-004526.3                 1.872701        -2.842854  \n",
       "024151.76-001953.6                 3.854836        -1.304851  \n",
       "024154.42-004757.6                 1.554912        -1.710292  \n",
       "...                                     ...              ...  \n",
       "024419.10+005539.2                 2.623782         -2.06715  \n",
       "024448.90+002858.6                 3.037724        -0.912945  \n",
       "024504.47+002841.3                 1.792329          1.68365  \n",
       "024508.67+003710.6                 3.059264         1.037201  \n",
       "024514.80+003923.3                 3.861224         0.387822  \n",
       "\n",
       "[127 rows x 6 columns]"
      ]
     },
     "execution_count": 17,
     "metadata": {},
     "output_type": "execute_result"
    }
   ],
   "source": [
    "# Save output for results from just the drw kernel\n",
    "drw_df = pack_output_to_parquet(res_tsp_drw, drw_columns,\n",
    "                       f\"/astro/users/{username}\", \"res_tsp_run_g_0_drw\")\n",
    "drw_df"
   ]
  },
  {
   "cell_type": "code",
   "execution_count": 18,
   "metadata": {},
   "outputs": [
    {
     "name": "stderr",
     "output_type": "stream",
     "text": [
      "/tmp/ipykernel_61320/2460734338.py:20: FutureWarning: Series.__getitem__ treating keys as positions is deprecated. In a future version, integer keys will always be treated as labels (consistent with DataFrame behavior). To access a value by position, use `ser.iloc[pos]`\n",
      "  result_df.iloc[i] = result[i]\n"
     ]
    },
    {
     "data": {
      "text/html": [
       "<div>\n",
       "<style scoped>\n",
       "    .dataframe tbody tr th:only-of-type {\n",
       "        vertical-align: middle;\n",
       "    }\n",
       "\n",
       "    .dataframe tbody tr th {\n",
       "        vertical-align: top;\n",
       "    }\n",
       "\n",
       "    .dataframe thead th {\n",
       "        text-align: right;\n",
       "    }\n",
       "</style>\n",
       "<table border=\"1\" class=\"dataframe\">\n",
       "  <thead>\n",
       "    <tr style=\"text-align: right;\">\n",
       "      <th></th>\n",
       "      <th>min_neg_log_lh</th>\n",
       "      <th>neg_log_lh</th>\n",
       "      <th>log_drw_scale</th>\n",
       "      <th>log_drw_amp</th>\n",
       "      <th>log_per_scale</th>\n",
       "      <th>log_per_amp</th>\n",
       "      <th>init_log_drw_scale</th>\n",
       "      <th>init_log_drw_amp</th>\n",
       "      <th>init_log_per_scale</th>\n",
       "      <th>init_log_per_amp</th>\n",
       "    </tr>\n",
       "    <tr>\n",
       "      <th>SDSS_NAME_dr16q_constant</th>\n",
       "      <th></th>\n",
       "      <th></th>\n",
       "      <th></th>\n",
       "      <th></th>\n",
       "      <th></th>\n",
       "      <th></th>\n",
       "      <th></th>\n",
       "      <th></th>\n",
       "      <th></th>\n",
       "      <th></th>\n",
       "    </tr>\n",
       "  </thead>\n",
       "  <tbody>\n",
       "    <tr>\n",
       "      <th>024050.36-003109.0</th>\n",
       "      <td>39.083982</td>\n",
       "      <td>39.083982</td>\n",
       "      <td>3.0885</td>\n",
       "      <td>-0.715306</td>\n",
       "      <td>1.468924</td>\n",
       "      <td>-1.164669</td>\n",
       "      <td>1.460723</td>\n",
       "      <td>-1.409983</td>\n",
       "      <td>0.468374</td>\n",
       "      <td>-1.184457</td>\n",
       "    </tr>\n",
       "    <tr>\n",
       "      <th>024052.82-004110.9</th>\n",
       "      <td>-35.156772</td>\n",
       "      <td>-35.156772</td>\n",
       "      <td>-12.49335</td>\n",
       "      <td>-10.902907</td>\n",
       "      <td>2.738975</td>\n",
       "      <td>-1.331822</td>\n",
       "      <td>0.232252</td>\n",
       "      <td>-0.446263</td>\n",
       "      <td>3.155693</td>\n",
       "      <td>-2.31874</td>\n",
       "    </tr>\n",
       "    <tr>\n",
       "      <th>024126.71-004526.3</th>\n",
       "      <td>-29.632743</td>\n",
       "      <td>-29.632743</td>\n",
       "      <td>-10.076967</td>\n",
       "      <td>-6.401982</td>\n",
       "      <td>2.944183</td>\n",
       "      <td>-1.101969</td>\n",
       "      <td>0.780093</td>\n",
       "      <td>1.537832</td>\n",
       "      <td>3.032145</td>\n",
       "      <td>-1.003249</td>\n",
       "    </tr>\n",
       "    <tr>\n",
       "      <th>024151.76-001953.6</th>\n",
       "      <td>31.643813</td>\n",
       "      <td>31.643813</td>\n",
       "      <td>2.550391</td>\n",
       "      <td>-1.240236</td>\n",
       "      <td>1.469939</td>\n",
       "      <td>-1.185938</td>\n",
       "      <td>4.436064</td>\n",
       "      <td>-0.351747</td>\n",
       "      <td>1.432706</td>\n",
       "      <td>-0.935809</td>\n",
       "    </tr>\n",
       "    <tr>\n",
       "      <th>024154.42-004757.6</th>\n",
       "      <td>-12.792812</td>\n",
       "      <td>-12.792812</td>\n",
       "      <td>3.320252</td>\n",
       "      <td>-1.58099</td>\n",
       "      <td>-0.159079</td>\n",
       "      <td>-2.115329</td>\n",
       "      <td>2.137705</td>\n",
       "      <td>1.485551</td>\n",
       "      <td>1.079105</td>\n",
       "      <td>-1.820266</td>\n",
       "    </tr>\n",
       "    <tr>\n",
       "      <th>...</th>\n",
       "      <td>...</td>\n",
       "      <td>...</td>\n",
       "      <td>...</td>\n",
       "      <td>...</td>\n",
       "      <td>...</td>\n",
       "      <td>...</td>\n",
       "      <td>...</td>\n",
       "      <td>...</td>\n",
       "      <td>...</td>\n",
       "      <td>...</td>\n",
       "    </tr>\n",
       "    <tr>\n",
       "      <th>024419.10+005539.2</th>\n",
       "      <td>-97.450038</td>\n",
       "      <td>-97.450038</td>\n",
       "      <td>2.66236</td>\n",
       "      <td>-1.459577</td>\n",
       "      <td>2.504225</td>\n",
       "      <td>-1.096036</td>\n",
       "      <td>3.645036</td>\n",
       "      <td>-2.128168</td>\n",
       "      <td>2.507581</td>\n",
       "      <td>-2.122817</td>\n",
       "    </tr>\n",
       "    <tr>\n",
       "      <th>024448.90+002858.6</th>\n",
       "      <td>-75.779812</td>\n",
       "      <td>-75.779812</td>\n",
       "      <td>2.488547</td>\n",
       "      <td>-1.149155</td>\n",
       "      <td>2.834314</td>\n",
       "      <td>-0.926675</td>\n",
       "      <td>4.609371</td>\n",
       "      <td>-1.789724</td>\n",
       "      <td>2.784006</td>\n",
       "      <td>-1.233347</td>\n",
       "    </tr>\n",
       "    <tr>\n",
       "      <th>024504.47+002841.3</th>\n",
       "      <td>12.178009</td>\n",
       "      <td>12.178009</td>\n",
       "      <td>2.478015</td>\n",
       "      <td>-1.004705</td>\n",
       "      <td>3.046591</td>\n",
       "      <td>-0.992085</td>\n",
       "      <td>1.792329</td>\n",
       "      <td>1.68365</td>\n",
       "      <td>3.509834</td>\n",
       "      <td>-0.760212</td>\n",
       "    </tr>\n",
       "    <tr>\n",
       "      <th>024508.67+003710.6</th>\n",
       "      <td>4.380749</td>\n",
       "      <td>4.380749</td>\n",
       "      <td>2.120555</td>\n",
       "      <td>-1.061416</td>\n",
       "      <td>3.189457</td>\n",
       "      <td>-0.807444</td>\n",
       "      <td>0.924272</td>\n",
       "      <td>-1.606768</td>\n",
       "      <td>4.265047</td>\n",
       "      <td>-1.278885</td>\n",
       "    </tr>\n",
       "    <tr>\n",
       "      <th>024514.80+003923.3</th>\n",
       "      <td>20.29904</td>\n",
       "      <td>20.29904</td>\n",
       "      <td>-14.615263</td>\n",
       "      <td>-5.715283</td>\n",
       "      <td>3.062188</td>\n",
       "      <td>-0.772652</td>\n",
       "      <td>0.979914</td>\n",
       "      <td>0.808098</td>\n",
       "      <td>3.480149</td>\n",
       "      <td>-1.389117</td>\n",
       "    </tr>\n",
       "  </tbody>\n",
       "</table>\n",
       "<p>127 rows × 10 columns</p>\n",
       "</div>"
      ],
      "text/plain": [
       "                         min_neg_log_lh neg_log_lh log_drw_scale log_drw_amp  \\\n",
       "SDSS_NAME_dr16q_constant                                                       \n",
       "024050.36-003109.0            39.083982  39.083982        3.0885   -0.715306   \n",
       "024052.82-004110.9           -35.156772 -35.156772     -12.49335  -10.902907   \n",
       "024126.71-004526.3           -29.632743 -29.632743    -10.076967   -6.401982   \n",
       "024151.76-001953.6            31.643813  31.643813      2.550391   -1.240236   \n",
       "024154.42-004757.6           -12.792812 -12.792812      3.320252    -1.58099   \n",
       "...                                 ...        ...           ...         ...   \n",
       "024419.10+005539.2           -97.450038 -97.450038       2.66236   -1.459577   \n",
       "024448.90+002858.6           -75.779812 -75.779812      2.488547   -1.149155   \n",
       "024504.47+002841.3            12.178009  12.178009      2.478015   -1.004705   \n",
       "024508.67+003710.6             4.380749   4.380749      2.120555   -1.061416   \n",
       "024514.80+003923.3             20.29904   20.29904    -14.615263   -5.715283   \n",
       "\n",
       "                         log_per_scale log_per_amp init_log_drw_scale  \\\n",
       "SDSS_NAME_dr16q_constant                                                \n",
       "024050.36-003109.0            1.468924   -1.164669           1.460723   \n",
       "024052.82-004110.9            2.738975   -1.331822           0.232252   \n",
       "024126.71-004526.3            2.944183   -1.101969           0.780093   \n",
       "024151.76-001953.6            1.469939   -1.185938           4.436064   \n",
       "024154.42-004757.6           -0.159079   -2.115329           2.137705   \n",
       "...                                ...         ...                ...   \n",
       "024419.10+005539.2            2.504225   -1.096036           3.645036   \n",
       "024448.90+002858.6            2.834314   -0.926675           4.609371   \n",
       "024504.47+002841.3            3.046591   -0.992085           1.792329   \n",
       "024508.67+003710.6            3.189457   -0.807444           0.924272   \n",
       "024514.80+003923.3            3.062188   -0.772652           0.979914   \n",
       "\n",
       "                         init_log_drw_amp init_log_per_scale init_log_per_amp  \n",
       "SDSS_NAME_dr16q_constant                                                       \n",
       "024050.36-003109.0              -1.409983           0.468374        -1.184457  \n",
       "024052.82-004110.9              -0.446263           3.155693         -2.31874  \n",
       "024126.71-004526.3               1.537832           3.032145        -1.003249  \n",
       "024151.76-001953.6              -0.351747           1.432706        -0.935809  \n",
       "024154.42-004757.6               1.485551           1.079105        -1.820266  \n",
       "...                                   ...                ...              ...  \n",
       "024419.10+005539.2              -2.128168           2.507581        -2.122817  \n",
       "024448.90+002858.6              -1.789724           2.784006        -1.233347  \n",
       "024504.47+002841.3                1.68365           3.509834        -0.760212  \n",
       "024508.67+003710.6              -1.606768           4.265047        -1.278885  \n",
       "024514.80+003923.3               0.808098           3.480149        -1.389117  \n",
       "\n",
       "[127 rows x 10 columns]"
      ]
     },
     "execution_count": 18,
     "metadata": {},
     "output_type": "execute_result"
    }
   ],
   "source": [
    "# Save output for results from the combined drw and periodic kernel\n",
    "combined_df = pack_output_to_parquet(res_tsp, combined_columns,\n",
    "                       f\"/astro/users/{username}\", \"res_tsp_run_g_0\")\n",
    "combined_df"
   ]
  },
  {
   "cell_type": "markdown",
   "metadata": {},
   "source": [
    "# Redo but save all results (full=True)"
   ]
  },
  {
   "cell_type": "code",
   "execution_count": null,
   "metadata": {},
   "outputs": [],
   "source": [
    "JaxPeriodDrwFit_instance = JaxPeriodDrwFit.JaxPeriodDrwFit()\n",
    "res_tsp_full = ens.batch(JaxPeriodDrwFit_instance.optimize_map, 'mjd_ztf_source', \"mag_ztf_source\", \"magerr_ztf_source\",\n",
    "                compute=True, meta=None, n_init=100, full=True)"
   ]
  },
  {
   "cell_type": "code",
   "execution_count": null,
   "metadata": {},
   "outputs": [],
   "source": [
    "JaxPeriodDrwFit_instance = JaxPeriodDrwFit.JaxPeriodDrwFit()\n",
    "res_tsp_drw_full = ens.batch(JaxPeriodDrwFit_instance.optimize_map_drw, 'mjd_ztf_source', \"mag_ztf_source\", \"magerr_ztf_source\",\n",
    "                compute=True, meta=None, n_init=100, full=True)"
   ]
  },
  {
   "cell_type": "code",
   "execution_count": null,
   "metadata": {},
   "outputs": [],
   "source": [
    "# Save output for results from just the drw kernel\n",
    "drw_df_full = pack_output_to_parquet(res_tsp_drw_full, drw_columns,\n",
    "                       f\"/astro/users/{username}\", \"res_tsp_run_g_0_drw_full\", full=True)\n",
    "drw_df_full"
   ]
  },
  {
   "cell_type": "code",
   "execution_count": null,
   "metadata": {},
   "outputs": [],
   "source": [
    "# Save output for results from the combined drw and periodic kernel\n",
    "combined_df_full = pack_output_to_parquet(res_tsp_full, combined_columns,\n",
    "                       f\"/astro/users/{username}\", \"res_tsp_run_g_0_full\", full=True)\n",
    "combined_df_full"
   ]
  },
  {
   "cell_type": "code",
   "execution_count": null,
   "metadata": {},
   "outputs": [],
   "source": []
  },
  {
   "cell_type": "markdown",
   "metadata": {},
   "source": [
    "# Alerce alerts"
   ]
  },
  {
   "cell_type": "code",
   "execution_count": 7,
   "metadata": {},
   "outputs": [
    {
     "data": {
      "text/plain": [
       "<tape.ensemble.Ensemble at 0x7f542c5473d0>"
      ]
     },
     "execution_count": 7,
     "metadata": {},
     "output_type": "execute_result"
    }
   ],
   "source": [
    "datapath = \"/astro/store/epyc3/data3/alerce_alerts/parquet/\"\n",
    "\n",
    "names = []\n",
    "for i in range(12,36):\n",
    "    name = datapath+f\"source/lcs_00{i}.parquet\"\n",
    "    names.append(name)\n",
    "\n",
    "# Ensemble already initialized in the start\n",
    "# ens = Ensemble()\n",
    "\n",
    "colmap = ColumnMapper(id_col=\"oid\",\n",
    "                      time_col=\"mjd\",\n",
    "                      flux_col=\"magpsf_corr\",\n",
    "                      err_col=\"sigmapsf_corr_ext\",\n",
    "                      band_col=\"fid\")\n",
    "ens.from_parquet(source_file=names,\n",
    "                #source_file=datapath+\"source/lcs_000*.parquet\",\n",
    "                 #object_file=datapath+\"object/*.parquet\",\n",
    "                 column_mapper=colmap,\n",
    "                 sort=True)\n",
    "\n",
    "ens.dropna()\n",
    "ens.query(\"fid == 1\", table=\"source\").prune(30)\n",
    "\n",
    "ens.calc_nobs()\n",
    "ens._sync_tables()"
   ]
  },
  {
   "cell_type": "code",
   "execution_count": 8,
   "metadata": {},
   "outputs": [
    {
     "data": {
      "text/plain": [
       "('ZTF17aaaaabc',\n",
       " 'ZTF17aabormw',\n",
       " 'ZTF17aacuvzw',\n",
       " 'ZTF18aakpybb',\n",
       " 'ZTF18aaofepd',\n",
       " 'ZTF18aaypnmw',\n",
       " 'ZTF18aaznerf',\n",
       " 'ZTF18abactld',\n",
       " 'ZTF18abcofin',\n",
       " 'ZTF18abfjqcx',\n",
       " 'ZTF18abhpnuv',\n",
       " 'ZTF18abijwil',\n",
       " 'ZTF18abmvulj',\n",
       " 'ZTF18abrliwv',\n",
       " 'ZTF18absqkhh',\n",
       " 'ZTF18abvbjir',\n",
       " 'ZTF18acbcfgz',\n",
       " 'ZTF18acuxonp',\n",
       " 'ZTF18adbdlja',\n",
       " 'ZTF19aacpxzf',\n",
       " 'ZTF19aayeptv',\n",
       " 'ZTF19abbpapf',\n",
       " 'ZTF19acyetlk',\n",
       " 'ZTF20abgttwz',\n",
       " 'ZTF23abawsji')"
      ]
     },
     "execution_count": 8,
     "metadata": {},
     "output_type": "execute_result"
    }
   ],
   "source": [
    "# to see where the divisions are\n",
    "divisions = ens._source.divisions\n",
    "divisions"
   ]
  },
  {
   "cell_type": "code",
   "execution_count": 9,
   "metadata": {},
   "outputs": [
    {
     "name": "stderr",
     "output_type": "stream",
     "text": [
      "/epyc/users/ncaplar/anaconda3/envs/tape_dev/lib/python3.10/site-packages/dask/dataframe/core.py:7234: FutureWarning: Meta is not valid, `map_partitions` and `map_overlap` expects output to be a pandas object. Try passing a pandas object as meta or a dict or tuple representing the (name, dtype) of the columns. In the future the meta you passed will not work.\n",
      "  warnings.warn(\n"
     ]
    },
    {
     "name": "stdout",
     "output_type": "stream",
     "text": [
      "Number of rows in each partition: 0     150394\n",
      "1      97036\n",
      "2     226855\n",
      "3      42423\n",
      "4     232392\n",
      "5      53838\n",
      "6      31915\n",
      "7     186916\n",
      "8     134159\n",
      "9      55371\n",
      "10     19913\n",
      "11    203379\n",
      "12    113680\n",
      "13     45577\n",
      "14     82001\n",
      "15     86983\n",
      "16    134043\n",
      "17     35292\n",
      "18     18409\n",
      "19     67974\n",
      "20      5524\n",
      "21     46182\n",
      "22      9937\n",
      "23      1839\n",
      "dtype: int64\n"
     ]
    }
   ],
   "source": [
    "# 42 sec when conda on epyc/user\n",
    "# 32 sec when conda env on ssd\n",
    "\n",
    "# Define a function to compute the number of rows in a partition\n",
    "def count_rows(partition):\n",
    "    return len(partition)\n",
    "\n",
    "# Use the map function to apply the count_rows function to each partition\n",
    "n_sources_per_div = ens._source.map_partitions(count_rows, meta=int).compute()\n",
    "\n",
    "print(\"Number of rows in each partition:\", n_sources_per_div)"
   ]
  },
  {
   "cell_type": "code",
   "execution_count": 10,
   "metadata": {},
   "outputs": [],
   "source": [
    "# our ensamble is highly inhomogenous, so we need to repartition it\n",
    "# Repartition the Dask DataFrame\n",
    "ens._source = ens._source.repartition(divisions = ['ZTF17aaaaabc','ZTF18abmvulj', 'ZTF18acuxonp','ZTF23abawsji'], force=True)"
   ]
  },
  {
   "cell_type": "code",
   "execution_count": 11,
   "metadata": {},
   "outputs": [
    {
     "data": {
      "text/plain": [
       "('ZTF17aaaaabc', 'ZTF18abmvulj', 'ZTF18acuxonp', 'ZTF23abawsji')"
      ]
     },
     "execution_count": 11,
     "metadata": {},
     "output_type": "execute_result"
    }
   ],
   "source": [
    "# to see where the divisions are\n",
    "divisions = ens._source.divisions\n",
    "divisions"
   ]
  },
  {
   "cell_type": "code",
   "execution_count": 13,
   "metadata": {},
   "outputs": [],
   "source": [
    "# our ensamble is highly inhomogenous, so we need to repartition it\n",
    "# Repartition the Dask DataFrame\n",
    "#ens._source = ens._source.repartition(npartitions=32, force=True)"
   ]
  },
  {
   "cell_type": "code",
   "execution_count": 12,
   "metadata": {},
   "outputs": [
    {
     "name": "stderr",
     "output_type": "stream",
     "text": [
      "/epyc/users/ncaplar/anaconda3/envs/tape_dev/lib/python3.10/site-packages/dask/dataframe/core.py:7234: FutureWarning: Meta is not valid, `map_partitions` and `map_overlap` expects output to be a pandas object. Try passing a pandas object as meta or a dict or tuple representing the (name, dtype) of the columns. In the future the meta you passed will not work.\n",
      "  warnings.warn(\n"
     ]
    },
    {
     "name": "stdout",
     "output_type": "stream",
     "text": [
      "Number of rows in each partition: 0    1434591\n",
      "1     462284\n",
      "2     185157\n",
      "dtype: int64\n"
     ]
    }
   ],
   "source": [
    "# Let us try the same thing again\n",
    "n_sources_per_div = ens._source.map_partitions(count_rows, meta=int).compute()\n",
    "\n",
    "print(\"Number of rows in each partition:\", n_sources_per_div)"
   ]
  },
  {
   "cell_type": "code",
   "execution_count": 13,
   "metadata": {},
   "outputs": [
    {
     "data": {
      "text/plain": [
       "('ZTF17aaaaabc', 'ZTF18abmvulj', 'ZTF18acuxonp', 'ZTF23abawsji')"
      ]
     },
     "execution_count": 13,
     "metadata": {},
     "output_type": "execute_result"
    }
   ],
   "source": [
    "divisions = ens._source.divisions\n",
    "divisions"
   ]
  },
  {
   "cell_type": "code",
   "execution_count": 10,
   "metadata": {},
   "outputs": [],
   "source": [
    "ens._source = ens._source.shuffle(on=\"oid\", npartitions=12, compute=True)"
   ]
  },
  {
   "cell_type": "code",
   "execution_count": 10,
   "metadata": {},
   "outputs": [
    {
     "data": {
      "text/plain": [
       "(None,\n",
       " None,\n",
       " None,\n",
       " None,\n",
       " None,\n",
       " None,\n",
       " None,\n",
       " None,\n",
       " None,\n",
       " None,\n",
       " None,\n",
       " None,\n",
       " None,\n",
       " None,\n",
       " None,\n",
       " None,\n",
       " None,\n",
       " None,\n",
       " None,\n",
       " None,\n",
       " None,\n",
       " None,\n",
       " None,\n",
       " None,\n",
       " None,\n",
       " None,\n",
       " None,\n",
       " None,\n",
       " None,\n",
       " None,\n",
       " None,\n",
       " None,\n",
       " None)"
      ]
     },
     "execution_count": 10,
     "metadata": {},
     "output_type": "execute_result"
    }
   ],
   "source": [
    "divisions = ens._source.divisions\n",
    "divisions"
   ]
  },
  {
   "cell_type": "code",
   "execution_count": 11,
   "metadata": {},
   "outputs": [
    {
     "name": "stderr",
     "output_type": "stream",
     "text": [
      "/epyc/users/ncaplar/anaconda3/envs/tape_dev/lib/python3.10/site-packages/dask/dataframe/core.py:7234: FutureWarning: Meta is not valid, `map_partitions` and `map_overlap` expects output to be a pandas object. Try passing a pandas object as meta or a dict or tuple representing the (name, dtype) of the columns. In the future the meta you passed will not work.\n",
      "  warnings.warn(\n"
     ]
    },
    {
     "name": "stdout",
     "output_type": "stream",
     "text": [
      "Number of rows in each partition: 0     166453\n",
      "1     172657\n",
      "2     175280\n",
      "3     176167\n",
      "4     175296\n",
      "5     173600\n",
      "6     173191\n",
      "7     174083\n",
      "8     177271\n",
      "9     166042\n",
      "10    176469\n",
      "11    175523\n",
      "dtype: int64\n"
     ]
    }
   ],
   "source": [
    "# Define a function to compute the number of rows in a partition\n",
    "def count_rows(partition):\n",
    "    return len(partition)\n",
    "\n",
    "# Let us try the same thing again\n",
    "n_sources_per_div = ens._source.map_partitions(count_rows, meta=int).compute()\n",
    "\n",
    "print(\"Number of rows in each partition:\", n_sources_per_div)"
   ]
  },
  {
   "cell_type": "code",
   "execution_count": 17,
   "metadata": {},
   "outputs": [
    {
     "data": {
      "text/plain": [
       "True"
      ]
     },
     "execution_count": 17,
     "metadata": {},
     "output_type": "execute_result"
    }
   ],
   "source": [
    "ens.check_lightcurve_cohesion()"
   ]
  },
  {
   "cell_type": "code",
   "execution_count": 18,
   "metadata": {},
   "outputs": [
    {
     "name": "stdout",
     "output_type": "stream",
     "text": [
      "31892\n"
     ]
    }
   ],
   "source": [
    "# how many objects\n",
    "print(len(ens._object))\n"
   ]
  },
  {
   "cell_type": "code",
   "execution_count": 22,
   "metadata": {},
   "outputs": [],
   "source": [
    "ens._source = ens._source.repartition(npartitions=32, force=True)"
   ]
  },
  {
   "cell_type": "code",
   "execution_count": 23,
   "metadata": {},
   "outputs": [
    {
     "ename": "AttributeError",
     "evalue": "'DataFrame' object has no attribute 'divisions'",
     "output_type": "error",
     "traceback": [
      "\u001b[0;31m---------------------------------------------------------------------------\u001b[0m",
      "\u001b[0;31mAttributeError\u001b[0m                            Traceback (most recent call last)",
      "\u001b[0;32m/tmp/ipykernel_108094/3297736668.py\u001b[0m in \u001b[0;36m?\u001b[0;34m()\u001b[0m\n\u001b[1;32m      1\u001b[0m \u001b[0;31m# to see where the divisions are\u001b[0m\u001b[0;34m\u001b[0m\u001b[0;34m\u001b[0m\u001b[0m\n\u001b[0;32m----> 2\u001b[0;31m \u001b[0mdivisions\u001b[0m \u001b[0;34m=\u001b[0m \u001b[0mens\u001b[0m\u001b[0;34m.\u001b[0m\u001b[0m_source\u001b[0m\u001b[0;34m.\u001b[0m\u001b[0mdivisions\u001b[0m\u001b[0;34m\u001b[0m\u001b[0;34m\u001b[0m\u001b[0m\n\u001b[0m\u001b[1;32m      3\u001b[0m \u001b[0mdivisions\u001b[0m\u001b[0;34m\u001b[0m\u001b[0;34m\u001b[0m\u001b[0m\n",
      "\u001b[0;32m~/.conda/envs/lf_tape_dev/lib/python3.10/site-packages/pandas/core/generic.py\u001b[0m in \u001b[0;36m?\u001b[0;34m(self, name)\u001b[0m\n\u001b[1;32m   6200\u001b[0m             \u001b[0;32mand\u001b[0m \u001b[0mname\u001b[0m \u001b[0;32mnot\u001b[0m \u001b[0;32min\u001b[0m \u001b[0mself\u001b[0m\u001b[0;34m.\u001b[0m\u001b[0m_accessors\u001b[0m\u001b[0;34m\u001b[0m\u001b[0;34m\u001b[0m\u001b[0m\n\u001b[1;32m   6201\u001b[0m             \u001b[0;32mand\u001b[0m \u001b[0mself\u001b[0m\u001b[0;34m.\u001b[0m\u001b[0m_info_axis\u001b[0m\u001b[0;34m.\u001b[0m\u001b[0m_can_hold_identifiers_and_holds_name\u001b[0m\u001b[0;34m(\u001b[0m\u001b[0mname\u001b[0m\u001b[0;34m)\u001b[0m\u001b[0;34m\u001b[0m\u001b[0;34m\u001b[0m\u001b[0m\n\u001b[1;32m   6202\u001b[0m         ):\n\u001b[1;32m   6203\u001b[0m             \u001b[0;32mreturn\u001b[0m \u001b[0mself\u001b[0m\u001b[0;34m[\u001b[0m\u001b[0mname\u001b[0m\u001b[0;34m]\u001b[0m\u001b[0;34m\u001b[0m\u001b[0;34m\u001b[0m\u001b[0m\n\u001b[0;32m-> 6204\u001b[0;31m         \u001b[0;32mreturn\u001b[0m \u001b[0mobject\u001b[0m\u001b[0;34m.\u001b[0m\u001b[0m__getattribute__\u001b[0m\u001b[0;34m(\u001b[0m\u001b[0mself\u001b[0m\u001b[0;34m,\u001b[0m \u001b[0mname\u001b[0m\u001b[0;34m)\u001b[0m\u001b[0;34m\u001b[0m\u001b[0;34m\u001b[0m\u001b[0m\n\u001b[0m",
      "\u001b[0;31mAttributeError\u001b[0m: 'DataFrame' object has no attribute 'divisions'"
     ]
    }
   ],
   "source": [
    "# to see where the divisions are\n",
    "divisions = ens._source.divisions\n",
    "divisions"
   ]
  },
  {
   "cell_type": "code",
   "execution_count": 21,
   "metadata": {},
   "outputs": [
    {
     "data": {
      "text/plain": [
       "33"
      ]
     },
     "execution_count": 21,
     "metadata": {},
     "output_type": "execute_result"
    }
   ],
   "source": [
    "len(divisions)"
   ]
  },
  {
   "cell_type": "code",
   "execution_count": 19,
   "metadata": {},
   "outputs": [
    {
     "name": "stdout",
     "output_type": "stream",
     "text": [
      "unique_lengths: 336\n"
     ]
    },
    {
     "data": {
      "image/png": "[encoded data removed]",
      "text/plain": [
       "<Figure size 640x480 with 1 Axes>"
      ]
     },
     "metadata": {},
     "output_type": "display_data"
    }
   ],
   "source": [
    "nobs_data = ens._object[\"nobs_total\"].values.compute()\n",
    "binwidth=10\n",
    "plt.hist(nobs_data, bins=np.arange(min(nobs_data), max(nobs_data) + binwidth, binwidth))\n",
    "plt.xlim(0,300)\n",
    "\n",
    "print(f\"unique_lengths: {len(np.unique(nobs_data))}\")"
   ]
  },
  {
   "cell_type": "code",
   "execution_count": 12,
   "metadata": {},
   "outputs": [],
   "source": [
    "# 12 workers - 35 min on epyc (96 thread) on 32 partitions\n",
    "# 12 with 1 thread - ? min on epyc  on 12 partitions - 35 min \n",
    "JaxPeriodDrwFit_instance = JaxPeriodDrwFit.JaxPeriodDrwFit()\n",
    "res_tsp_drw = ens.batch(JaxPeriodDrwFit_instance.optimize_map_drw, 'mjd', \"magpsf_corr\", \"sigmapsf_corr\",\n",
    "                compute=True, meta=None, n_init=100)"
   ]
  },
  {
   "cell_type": "markdown",
   "metadata": {},
   "source": [
    "# ZTF"
   ]
  },
  {
   "cell_type": "markdown",
   "metadata": {},
   "source": []
  }
 ],
 "metadata": {
  "kernelspec": {
   "display_name": "lf_tape_dev",
   "language": "python",
   "name": "python3"
  },
  "language_info": {
   "codemirror_mode": {
    "name": "ipython",
    "version": 3
   },
   "file_extension": ".py",
   "mimetype": "text/x-python",
   "name": "python",
   "nbconvert_exporter": "python",
   "pygments_lexer": "ipython3",
   "version": "3.10.13"
  }
 },
 "nbformat": 4,
 "nbformat_minor": 2
}
