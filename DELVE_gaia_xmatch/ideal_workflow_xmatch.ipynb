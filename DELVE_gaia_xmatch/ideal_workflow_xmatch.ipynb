{
 "cells": [
  {
   "cell_type": "code",
   "execution_count": null,
   "id": "723f2573",
   "metadata": {},
   "outputs": [],
   "source": [
    "# packages\n",
    "import lsdb\n",
    "import hipscat\n",
    "\n",
    "import os"
   ]
  },
  {
   "cell_type": "code",
   "execution_count": null,
   "id": "03f14ed4",
   "metadata": {},
   "outputs": [],
   "source": [
    "# import Gaia catalog\n",
    "gaia = lsdb.read_hipscat(\"path_to_Gaia_hipscat_file\")"
   ]
  },
  {
   "cell_type": "code",
   "execution_count": null,
   "id": "e5488232",
   "metadata": {},
   "outputs": [],
   "source": [
    "# read data sets from other formats\n",
    "# catalog of filtered stars from DELVE survey\n",
    "# current length: 13827728 rows\n",
    "delve_data_dir = '../delve_catalog.fits'\n",
    "\n",
    "# use the hipscat-import library to convert own catalog into hipscat\n",
    "# is there a way to avoid calling this and only use lsdb?\n",
    "output_dir = '../delve_catalog_hipscat'\n",
    "if not os.path.exists(output_path):\n",
    "    os.makedirs(output_path)\n",
    "    \n",
    "# From ADASS_LSDB_Tutorial\n",
    "args = ImportArguments(\n",
    "    output_catalog_name=\"gaia_exA\",\n",
    "    input_path=source_directory,\n",
    "    input_format=\"parquet\",\n",
    "    ra_column=\"ra\",\n",
    "    dec_column=\"dec\",\n",
    "    id_column=\"source_id\",\n",
    "    output_path=f\"{Path.home()}/ADASS_LSDB_tutorial/nb/hipscats\",\n",
    "    dask_tmp=f\"{Path.home()}/ADASS_LSDB_tutorial/nb/hipscats\", \n",
    "    use_schema_file=write_parquet_metadata(source_directory),\n",
    "    manual_dtypes={'libname_gspphot':'unicode'},\n",
    "    pixel_threshold=500_000,\n",
    "    highest_healpix_order=5,\n",
    "    overwrite=True\n",
    ")\n",
    "\n",
    "#etc etc finish importing"
   ]
  },
  {
   "cell_type": "markdown",
   "id": "fbfea363",
   "metadata": {},
   "source": [
    "Gaia EDR3 dataset (Gaia Collaboration et al. 2020). <br>\n",
    "1. Angular cross match between the Gaia EDR3 dataset and DELVE DR1 with a matching radius of 0.005. <br>\n",
    "This results in a catalog containing ∼ 143 million sources. \n",
    "2. Nearby sources are removed by applying a parallax cut of w − 3σ_w < 0.05. <br>\n",
    "3. Cut on the renormalized unit weight error (ruwe) of ruwe < 1.4. <br>\n",
    "4. Cut on BP_RP excess (operation with polynomial, see Riello et al. 2021 Eq.6). <br>\n",
    "5. Only sources with astrometric_chi2_al < 2 are kept (avoid sources with bad astrometric fits.) <br>\n",
    "6. Remove all sources that appear in the Gaia table gaiaedr3.agn cross id. <br>\n",
    "7. Remove faint sources with G > 20 mag to avoid contamination."
   ]
  },
  {
   "cell_type": "code",
   "execution_count": null,
   "id": "1f9a1f4b",
   "metadata": {},
   "outputs": [],
   "source": [
    "# angular cross match between Gaia EDR3 and DELVE DR1\n",
    "gaia_delve = lsdb.crossmatch(params)\n",
    "\n",
    "# parallax cut \n",
    "# This probably can be incorporated in the cone search queries?\n",
    "gaia_delve = gaia_delve[gaia_delve['parallax'] - 3*gaia_delve['parallax_error'] < 0.05]\n",
    "\n",
    "# ruwe cut\n",
    "gaia_delve = gaia_delve[gaia_delve['ruwe'] < 1.4]\n",
    "\n",
    "# some BP_RP excess cut\n",
    "# same principle, needs a polynomial calculation\n",
    "\n",
    "# Eliminate bad astrometric fits\n",
    "gaia_delve = gaia_delve[gaia_delve['astrometric_chi2_al'] < 2]\n",
    "\n",
    "# remove AGNs from the agn_cross_id table\n",
    "# ADQL query, then subtract all these rows\n",
    "gaia_delve = \n",
    "\n",
    "# remove sources too faint\n",
    "gaia_delve = gaia_delve[gaia_delve['phot_g_mean_mag'] <= 20]\n",
    "\n",
    "# further quality checks on crossmatching, e.g. mismatches?"
   ]
  }
 ],
 "metadata": {
  "kernelspec": {
   "display_name": "Python 3",
   "language": "python",
   "name": "python3"
  },
  "language_info": {
   "codemirror_mode": {
    "name": "ipython",
    "version": 3
   },
   "file_extension": ".py",
   "mimetype": "text/x-python",
   "name": "python",
   "nbconvert_exporter": "python",
   "pygments_lexer": "ipython3",
   "version": "3.6.13"
  }
 },
 "nbformat": 4,
 "nbformat_minor": 5
}
