{
 "cells": [
  {
   "cell_type": "markdown",
   "id": "2fa4f03f-f251-4e69-b30a-d0598a337109",
   "metadata": {},
   "source": [
    "## Simulating DP1 Objects\n",
    "This notebook demonstrates simulating DP1 objects using TDAstro"
   ]
  },
  {
   "cell_type": "code",
   "execution_count": null,
   "id": "024b3c89-1fbc-47ca-b624-0d1fca4457de",
   "metadata": {},
   "outputs": [],
   "source": [
    "import numpy as np\n",
    "import matplotlib.pyplot as plt\n",
    "from matplotlib.lines import Line2D\n",
    "from scipy.interpolate import interp1d\n",
    "import pandas as pd\n",
    "import sncosmo\n",
    "from scipy import stats\n",
    "from scipy.special import expit\n",
    "from nested_pandas import read_parquet\n",
    "\n",
    "from tdastro.opsim.opsim import OpSim\n",
    "from tdastro.astro_utils.passbands import PassbandGroup\n",
    "from tdastro.astro_utils.pzflow_node import PZFlowNode\n",
    "from tdastro.astro_utils.snia_utils import (\n",
    "    DistModFromRedshift,\n",
    "    HostmassX1Func,\n",
    "    X0FromDistMod,\n",
    "    num_snia_per_redshift_bin,\n",
    ")\n",
    "from tdastro.math_nodes.scipy_random import SamplePDF\n",
    "from tdastro.math_nodes.np_random import NumpyRandomFunc\n",
    "from tdastro.simulate import simulate_lightcurves\n",
    "from tdastro.sources.sncomso_models import SncosmoWrapperModel\n",
    "from tdastro.sources.snia_host import SNIaHost\n",
    "from tdastro.utils.plotting import plot_lightcurves\n",
    "from tdastro.math_nodes.ra_dec_sampler import OpSimUniformRADECSampler\n",
    "from tdastro.astro_utils.dustmap import DustmapWrapper,SFDMap\n",
    "from tdastro.effects.extinction import ExtinctionEffect\n",
    "from tdastro.astro_utils.mag_flux import mag2flux,flux2mag\n",
    "\n",
    "from tdastro import _TDASTRO_BASE_DATA_DIR\n",
    "\n",
    "import lsdb\n",
    "from upath import UPath"
   ]
  },
  {
   "cell_type": "markdown",
   "id": "d2e5d034-f527-4c01-bcd7-2b5da121645e",
   "metadata": {},
   "source": [
    "### 1. Define components for simulation\n",
    "#### 1.1 Visit Table\n",
    "We first load the CcdVisit table that we downloaded from Butler, which includes the visit information for simulating the DP1 cadance and noise. Some unit conversions are needed to make sure all the units are consistent within the function that calulates the noise. \n",
    "Download [this notebook](https://github.com/mi-dai/rubin_dp1/blob/main/dp1_visit_table.ipynb) and run it on the Rubin Science Platform (RSP) to save the CcdVisit table to your local RSP folder."
   ]
  },
  {
   "cell_type": "code",
   "execution_count": null,
   "id": "9c87b245-cb3c-4b59-aef0-9524fb7eb23b",
   "metadata": {
    "scrolled": true
   },
   "outputs": [],
   "source": [
    "%%time\n",
    "\n",
    "obs_log = pd.read_csv('dp1_visit_table.txt')\n",
    "obs_log[\"numExposures\"] = 1\n",
    "colmap = {\"ra\":\"ra\",\n",
    "          \"dec\":\"dec\",\n",
    "          \"time\":\"expMidptMJD\",\n",
    "          \"zp\":\"zp_nJy\", #in Mag\n",
    "          \"filter\":\"band\",\n",
    "          \"skybrightness\":\"sky_mag_per_arcsecsq\", #in ADU\n",
    "          \"seeing\": \"seeing\", #in arcsec\n",
    "          \"exptime\": \"expTime\",\n",
    "         }\n",
    "ccdgain = 2.3\n",
    "pixel_scale = 0.2\n",
    "#convert zp to nJy\n",
    "obs_log[\"zp_nJy\"] = mag2flux(obs_log[\"zeroPoint\"])*ccdgain\n",
    "#convert sky to mag/arcsec^2\n",
    "obs_log[\"sky_mag_per_arcsecsq\"] = (-2.5*np.log10(obs_log[\"skyBg\"]) + obs_log[\"zeroPoint\"])/pixel_scale**2\n",
    "opsim_db = OpSim(obs_log,colmap=colmap)\n",
    "opsim_db.radius = 0.376/3. #comcam fov = 40arcmin*40arcmin. \n",
    "                           #Currently we can only simulate circular field, so we convert the area to radius (in degree)\n",
    "                           #Since CcdVisit table will repeat each exposure for each ccd, and there are 9 ccds for comcam, \n",
    "                           #we devide the radius by sqrt(9) so we are not having duplicate observations for different ccds \n",
    "t_min, t_max = opsim_db.time_bounds()\n",
    "print(f\"Loaded OpSim with {len(opsim_db)} rows and times [{t_min}, {t_max}]\")\n"
   ]
  },
  {
   "cell_type": "markdown",
   "id": "1c5c69db-7b9d-4056-8dc2-ca82869c113c",
   "metadata": {},
   "source": [
    "Let's calculate the survey length given min and max MJD in the table. This can be used to calculate rate later."
   ]
  },
  {
   "cell_type": "code",
   "execution_count": null,
   "id": "f6e5b494-b46b-4348-87bc-28c911c7e2e7",
   "metadata": {},
   "outputs": [],
   "source": [
    "print(f\"survey length: {(t_max-t_min)/365} year\")"
   ]
  },
  {
   "cell_type": "markdown",
   "id": "4b0def8c-d2b1-475c-bb01-b9b25a0df3a3",
   "metadata": {},
   "source": [
    "#### 1.2 Passbands\n",
    "We load passband information using `from_preset`, which automatically gets the LSST filter information."
   ]
  },
  {
   "cell_type": "code",
   "execution_count": null,
   "id": "aa7c4232-d77c-41cc-b964-25425666881c",
   "metadata": {
    "scrolled": true
   },
   "outputs": [],
   "source": [
    "passband_group = PassbandGroup.from_preset(preset=\"LSST\")\n",
    "print(f\"Loaded Passbands: {passband_group}\")"
   ]
  },
  {
   "cell_type": "markdown",
   "id": "d1280778-da82-4ef4-beb9-816b756364ca",
   "metadata": {},
   "source": [
    "#### 1.3 Define the model to simulate"
   ]
  },
  {
   "cell_type": "markdown",
   "id": "54b8b969-b571-484e-9694-421f11ee5f17",
   "metadata": {},
   "source": [
    "We utilize the `OpSimUniformRADECSampler` to sample ra and dec uniformly from the area covered by the visit table. Then we define redshift range, cosmology, and use them to compute redshift distribution according to some rate function.\n",
    "\n",
    "These functions and values are used to define a host galaxy model using pre-defined `SNIaHost` class."
   ]
  },
  {
   "cell_type": "code",
   "execution_count": null,
   "id": "5348ae72-98af-47fd-8f72-a69f6a8d4aa4",
   "metadata": {},
   "outputs": [],
   "source": [
    "radec_node = OpSimUniformRADECSampler(opsim_db, radius=0.376, node_label=\"radec\")\n",
    "\n",
    "zmin = 0.001\n",
    "zmax = 1\n",
    "H0 = 70.0\n",
    "Omega_m = 0.3\n",
    "nsn, z = num_snia_per_redshift_bin(zmin, zmax, 100, H0=H0, Omega_m=Omega_m)\n",
    "zpdf = interp1d(z, nsn, bounds_error=False, fill_value=0)\n",
    "\n",
    "host = SNIaHost(\n",
    "    ra = radec_node.ra,\n",
    "    dec = radec_node.dec,\n",
    "    hostmass=10.,\n",
    "    redshift=SamplePDF(zpdf),\n",
    "    node_label=\"host\",\n",
    ")"
   ]
  },
  {
   "cell_type": "markdown",
   "id": "d5da10c3-b952-440a-ace5-b6314057e1d5",
   "metadata": {},
   "source": [
    "Now we can define the SED model that is used for generating simulated light curves. The `salt2-h17` model from the `sncosmo` package is used, with necessary parameter distributions defined as FunctionNodes."
   ]
  },
  {
   "cell_type": "code",
   "execution_count": null,
   "id": "9956c624-815c-4059-8b16-ec96b20d4e09",
   "metadata": {
    "scrolled": true
   },
   "outputs": [],
   "source": [
    "distmod_func = DistModFromRedshift(host.redshift, H0=73.0, Omega_m=0.3)\n",
    "x1_func = NumpyRandomFunc(\"normal\", loc=0, scale=0.2)\n",
    "c_func = NumpyRandomFunc(\"normal\", loc=0, scale=0.02)\n",
    "m_abs_func = NumpyRandomFunc(\"normal\", loc=-19., scale=0.1)\n",
    "x0_func = X0FromDistMod(\n",
    "    distmod=distmod_func,\n",
    "    x1=x1_func,\n",
    "    c=c_func,\n",
    "    alpha=0.14,\n",
    "    beta=3.1,\n",
    "    m_abs=m_abs_func,\n",
    "    node_label=\"x0_func\",\n",
    ")\n",
    "\n",
    "sncosmo_modelname = \"salt2-h17\"\n",
    "source = SncosmoWrapperModel(\n",
    "    sncosmo_modelname,\n",
    "    t0=NumpyRandomFunc(\"uniform\", low=t_min, high=t_max),\n",
    "    x0=x0_func,\n",
    "    x1=x1_func,\n",
    "    c=c_func,\n",
    "    ra=NumpyRandomFunc(\"normal\", loc=host.ra, scale=0.01),\n",
    "    dec=NumpyRandomFunc(\"normal\", loc=host.dec, scale=0.01),\n",
    "    redshift=host.redshift,\n",
    "    node_label=\"source\",\n",
    ")"
   ]
  },
  {
   "cell_type": "markdown",
   "id": "37d627f8-2fac-4363-bdc6-af20cc6a2b7c",
   "metadata": {
    "execution": {
     "iopub.execute_input": "2025-07-23T20:09:02.054070Z",
     "iopub.status.busy": "2025-07-23T20:09:02.053250Z",
     "iopub.status.idle": "2025-07-23T20:09:02.061046Z",
     "shell.execute_reply": "2025-07-23T20:09:02.060261Z",
     "shell.execute_reply.started": "2025-07-23T20:09:02.054042Z"
    }
   },
   "source": [
    "We can apply Milky Way extinction effect using `.add_effect`"
   ]
  },
  {
   "cell_type": "code",
   "execution_count": null,
   "id": "840a1752-a1ed-4521-8e57-7ce457cfaacc",
   "metadata": {
    "scrolled": true
   },
   "outputs": [],
   "source": [
    "mwextinction = SFDMap(\n",
    "    ra=source.ra,\n",
    "    dec=source.dec,\n",
    "    node_label=\"mwext\",\n",
    ")\n",
    "\n",
    "# Create an extinction effect using the EBVs from that dust map.\n",
    "ext_effect = ExtinctionEffect(extinction_model=\"F99\", ebv=mwextinction, Rv=3.1)\n",
    "source.add_effect(ext_effect)"
   ]
  },
  {
   "cell_type": "markdown",
   "id": "c05768fb-7087-48a3-b3fc-25f2b578c4f9",
   "metadata": {},
   "source": [
    "### 2. Run simulation\n",
    "\n",
    "The total area of DP1 is 15 square degrees. We convert it to solid angle and multiply it by the survey length to calculate the total number of SN Ia based on the rate function.\n",
    "Finally we simulate lightcurves using `simulate_lightcurves` providing everything defined above.\n",
    "\n",
    "The simulations are saved as a [NestedFrame](https://nested-pandas.readthedocs.io/en/latest/reference/nestedframe.html)."
   ]
  },
  {
   "cell_type": "code",
   "execution_count": null,
   "id": "bf69abf6-0262-458e-91d9-97afddaae034",
   "metadata": {
    "scrolled": true
   },
   "outputs": [],
   "source": [
    "%%time\n",
    "nsntotal, _ = num_snia_per_redshift_bin(zmin, zmax, 1, H0=H0, Omega_m=Omega_m, solid_angle=4.57e-3*0.09) #15 sq degree\n",
    "print(\"Total number of SN Ia to be simulated :\", nsntotal)\n",
    "\n",
    "lightcurves = simulate_lightcurves(source, int(nsntotal), opsim_db, passband_group)\n"
   ]
  },
  {
   "cell_type": "code",
   "execution_count": null,
   "id": "d0eaa09e-8695-4aa1-b28e-c52e8648655d",
   "metadata": {},
   "outputs": [],
   "source": [
    "lightcurves[['ra','dec','z','lightcurve']]"
   ]
  },
  {
   "cell_type": "markdown",
   "id": "3c1a8b52-e82b-4eff-949f-27e68b619ce1",
   "metadata": {},
   "source": [
    "### 3. Examine and plot light curves\n",
    "\n",
    "Now let's do some filtering to obtain some meaningful lightcurves"
   ]
  },
  {
   "cell_type": "code",
   "execution_count": null,
   "id": "7809e251-88c4-452d-bce8-2f594e2d935f",
   "metadata": {},
   "outputs": [],
   "source": [
    "#apply detection and spec efficiency\n",
    "lightcurves = lightcurves.dropna(subset=['lightcurve'])\n",
    "print(\"Before applying detection: nsn=\", len(lightcurves))\n",
    "lightcurves['lightcurve.snr'] = lightcurves['lightcurve.flux']/lightcurves['lightcurve.fluxerr']\n",
    "lightcurves_after_detection = lightcurves.query('lightcurve.snr > 5').dropna(subset=['lightcurve'])\n",
    "print(\"After applying detection: nsn=\", len(lightcurves_after_detection))"
   ]
  },
  {
   "cell_type": "code",
   "execution_count": null,
   "id": "513baf3a-3fe2-4541-8833-d66fadbe94e7",
   "metadata": {},
   "outputs": [],
   "source": [
    "#apply quality cut\n",
    "def get_nobs(mjd_col):\n",
    "    return len(np.unique(np.floor(mjd_col)))\n",
    "nobs = lightcurves_after_detection.reduce(get_nobs, 'lightcurve.mjd')\n",
    "idx = nobs > 5\n",
    "lightcurves_after_nobs = lightcurves_after_detection[idx[0]]\n",
    "print(\"After applying nobs cut: nsn=\", len(lightcurves_after_nobs))\n",
    "\n",
    "def get_nfilter(filter_col):\n",
    "    nfilter = np.unique(filter_col)\n",
    "    return len(nfilter)\n",
    "nfilter = lightcurves_after_nobs.reduce(get_nfilter,'lightcurve.filter')\n",
    "idx = nfilter > 2\n",
    "lightcurves_after_nfilter = lightcurves_after_nobs[idx[0]]\n",
    "print(\"After applying nfilter cut: nsn=\", len(lightcurves_after_nfilter))\n",
    "\n",
    "def get_dt(mjd_col):\n",
    "    return np.max(mjd_col) - np.min(mjd_col)\n",
    "dt = lightcurves_after_nfilter.reduce(get_dt, 'lightcurve.mjd')\n",
    "idx = dt > 20\n",
    "lightcurves_after_dt = lightcurves_after_nfilter[idx[0]]\n",
    "print(\"After applying dt cut: nsn=\", len(lightcurves_after_dt))"
   ]
  },
  {
   "cell_type": "markdown",
   "id": "d51ca2e0-96af-4a4d-9226-dd65dcebe518",
   "metadata": {},
   "source": [
    "Let's select some random lightcurves to plot."
   ]
  },
  {
   "cell_type": "code",
   "execution_count": null,
   "id": "a2e8e3ed-7994-45a5-8be9-23d621eea666",
   "metadata": {},
   "outputs": [],
   "source": [
    "random_ids = lightcurves_after_dt.id.sample(1).values\n",
    "colormap = {'u':'blue',\n",
    "            'g':'green',\n",
    "            'r':'red',\n",
    "            'i':'magenta',\n",
    "            'z':'purple',\n",
    "            'y':'gray',\n",
    "           }\n",
    "\n",
    "for random_id in random_ids:\n",
    "    # Extract the row for this object.\n",
    "    # lc = lightcurves.loc[lightcurves.id==random_id]\n",
    "    lc = lightcurves_after_detection.loc[lightcurves_after_detection.id==random_id]\n",
    "    # print(lc[\"lightcurve.mjd\"])\n",
    "    \n",
    "    if lc[\"nobs\"].values[0] > 0:\n",
    "        # Unpack the nested columns (filters, mjd, flux, and flux error).\n",
    "        lc_filters = np.asarray(lc[\"lightcurve.filter\"], dtype=str)\n",
    "        lc_mjd = np.asarray(lc[\"lightcurve.mjd\"], dtype=float)\n",
    "        lc_flux = np.asarray(lc[\"lightcurve.flux\"], dtype=float)\n",
    "        lc_fluxerr = np.asarray(lc[\"lightcurve.fluxerr\"], dtype=float)\n",
    "\n",
    "        lc_mag = -2.5*np.log10(lc_flux) + 31.4\n",
    "        lc_magerr = np.absolute(1.086*lc_fluxerr/lc_flux)\n",
    "        \n",
    "        plot_lightcurves(\n",
    "            fluxes=lc_flux,\n",
    "            times=lc_mjd,\n",
    "            fluxerrs=lc_fluxerr,\n",
    "            filters=lc_filters,\n",
    "            colormap=colormap,\n",
    "        )\n",
    "        plt.ylabel('Flux (nJy)')\n",
    "        plt.title(f\"redshift={lc['z'].values[0]},mwebv={lc['params'].values[0]['mwext.ebv']}\")\n",
    "\n",
    "        model = sncosmo.Model(source=sncosmo_modelname,\n",
    "                      effects=[sncosmo.F99Dust()],\n",
    "                      effect_names=['mw'],\n",
    "                      effect_frames=['obs'])\n",
    "        pardict = {}\n",
    "        for p in ['x0','x1','c','t0']:\n",
    "            pardict[p] = lc['params'].values[0][f'source.{p}']\n",
    "        pardict['mwebv'] = lc['params'].values[0]['mwext.ebv']\n",
    "        pardict['z'] = lc['z'].values[0]\n",
    "        model.update(pardict)\n",
    "        t = np.linspace(-20,50,100)\n",
    "        obstime = t*(1+pardict['z'])+pardict['t0']\n",
    "        for b in 'ugrizy':\n",
    "            try:\n",
    "                plt.plot(obstime,model.bandflux('lsst'+b,obstime,zp=31.4,zpsys='ab'),ls=':',color=colormap[b])\n",
    "            except:\n",
    "                continue\n",
    "        plt.legend()\n",
    "        plt.show()\n",
    "\n",
    "        plot_lightcurves(\n",
    "            fluxes=lc_mag,\n",
    "            times=lc_mjd,\n",
    "            fluxerrs=lc_magerr,\n",
    "            filters=lc_filters,\n",
    "        )\n",
    "        plt.ylabel('Mag')\n",
    "        plt.ylim(plt.ylim()[::-1])\n",
    "        plt.show()"
   ]
  },
  {
   "cell_type": "markdown",
   "id": "0b92fb28-cbb2-4326-b29c-cfc8eea07901",
   "metadata": {},
   "source": [
    "### 4. Simulate a known SN in DP1\n",
    "Now let's try to simulate a single object in DP1 given it's coordinate. [This AstroNote](https://www.wis-tns.org/astronotes/astronote/2025-204) listed a few coordinates for transient candidates in DP1. \n",
    "Let's try this one: <br>\n",
    "Rubin ID, IAU ID, Rubin_RA, Rubin_Dec, Rubin_TNS_Sep, Nearest_Source_Sep <br>\n",
    "609781520902651937, 2024ahyy, 52.892627, -28.412625, 1.58, 0.15\n",
    "\n",
    "We will modify a few parameter sampling functions in the model defined above."
   ]
  },
  {
   "cell_type": "code",
   "execution_count": null,
   "id": "a91d69d8-8223-42a2-8b4d-9c8c9d98821f",
   "metadata": {},
   "outputs": [],
   "source": [
    "zmin = 0.1\n",
    "zmax = 0.3\n",
    "H0 = 70.0\n",
    "Omega_m = 0.3\n",
    "nsn, z = num_snia_per_redshift_bin(zmin, zmax, 100, H0=H0, Omega_m=Omega_m)\n",
    "zpdf = interp1d(z, nsn, bounds_error=False, fill_value=0)\n",
    "\n",
    "object_ra = 52.89263\n",
    "object_dec = -28.41263\n",
    "\n",
    "host = SNIaHost(\n",
    "    ra = object_ra,\n",
    "    dec = object_dec,\n",
    "    hostmass=10.,\n",
    "    redshift=SamplePDF(zpdf),\n",
    "    node_label=\"host\",\n",
    ")"
   ]
  },
  {
   "cell_type": "code",
   "execution_count": null,
   "id": "35719d8f-3769-4b63-9e4e-1b1cc2162c48",
   "metadata": {},
   "outputs": [],
   "source": [
    "distmod_func = DistModFromRedshift(host.redshift, H0=73.0, Omega_m=0.3)\n",
    "x1_func = NumpyRandomFunc(\"normal\", loc=0, scale=0.2)\n",
    "c_func = NumpyRandomFunc(\"normal\", loc=0, scale=0.02)\n",
    "m_abs_func = NumpyRandomFunc(\"normal\", loc=-19., scale=0.1)\n",
    "x0_func = X0FromDistMod(\n",
    "    distmod=distmod_func,\n",
    "    x1=x1_func,\n",
    "    c=c_func,\n",
    "    alpha=0.14,\n",
    "    beta=3.1,\n",
    "    m_abs=m_abs_func,\n",
    "    node_label=\"x0_func\",\n",
    ")\n",
    "\n",
    "sncosmo_modelname = \"salt2-h17\"\n",
    "source = SncosmoWrapperModel(\n",
    "    sncosmo_modelname,\n",
    "    t0=NumpyRandomFunc(\"uniform\", low=t_max+12, high=t_max+16),\n",
    "    x0=x0_func,\n",
    "    x1=x1_func,\n",
    "    c=c_func,\n",
    "    ra=object_ra,\n",
    "    dec=object_dec,\n",
    "    redshift=host.redshift,\n",
    "    node_label=\"source\",\n",
    ")\n",
    "    \n",
    "mwextinction = SFDMap(\n",
    "    ra=source.ra,\n",
    "    dec=source.dec,\n",
    "    node_label=\"mwext\",\n",
    ")\n",
    "\n",
    "# Create an extinction effect using the EBVs from that dust map.\n",
    "ext_effect = ExtinctionEffect(extinction_model=\"F99\", ebv=mwextinction, Rv=3.1)\n",
    "source.add_effect(ext_effect)\n"
   ]
  },
  {
   "cell_type": "markdown",
   "id": "7dc46bb9-b64e-4b09-bf71-5051745b2c05",
   "metadata": {},
   "source": [
    "Now let's run some simulation, since we do not know the redshift, we sample from a range."
   ]
  },
  {
   "cell_type": "code",
   "execution_count": null,
   "id": "b5aa65bf-ffed-4bff-aaee-05987d011175",
   "metadata": {},
   "outputs": [],
   "source": [
    "lightcurves = simulate_lightcurves(source, 10, opsim_db, passband_group)"
   ]
  },
  {
   "cell_type": "code",
   "execution_count": null,
   "id": "7efb2e94-824b-4dc5-84b3-648dab664b73",
   "metadata": {},
   "outputs": [],
   "source": [
    "lightcurves[['ra','dec','z','lightcurve']].head()"
   ]
  },
  {
   "cell_type": "markdown",
   "id": "add78568-79d0-4119-bad2-c4daeb62585a",
   "metadata": {},
   "source": [
    "Let's calculate SNR so we can plot both detections and non-detections"
   ]
  },
  {
   "cell_type": "code",
   "execution_count": null,
   "id": "a6796dde-b493-499e-b5e8-f4f1399975b6",
   "metadata": {},
   "outputs": [],
   "source": [
    "#apply detection and spec efficiency\n",
    "lightcurves = lightcurves.dropna(subset=['lightcurve'])\n",
    "print(\"Before applying detection: nsn=\", len(lightcurves))\n",
    "lightcurves['lightcurve.snr'] = lightcurves['lightcurve.flux']/lightcurves['lightcurve.fluxerr']\n",
    "lightcurves_after_detection = lightcurves.query('lightcurve.snr > 5').dropna(subset=['lightcurve'])\n",
    "print(\"After applying detection: nsn=\", len(lightcurves_after_detection))"
   ]
  },
  {
   "cell_type": "markdown",
   "id": "bef0dbfa-6fd8-4927-832c-5a57bfcd7902",
   "metadata": {},
   "source": [
    "This cell plot a random light curve from the simulation."
   ]
  },
  {
   "cell_type": "code",
   "execution_count": null,
   "id": "5536ec31-20e7-4f94-8cd1-1bb3d51087cf",
   "metadata": {},
   "outputs": [],
   "source": [
    "random_ids = lightcurves.id.sample(1).values\n",
    "colormap = {'u': '#0C71FF', 'g': '#49BE61', 'r': '#C61C00',\n",
    "          'i': '#FFC200', 'z': '#F341A2', 'y': '#5D0000'}\n",
    "plot_model = False\n",
    "plot_nondetection = True\n",
    "for random_id in random_ids:\n",
    "    # Extract the row for this object.\n",
    "    if plot_nondetection:\n",
    "        lc = lightcurves.loc[lightcurves.id==random_id]\n",
    "    else:\n",
    "        lc = lightcurves_after_detection.loc[lightcurves_after_detection.id==random_id]\n",
    "    # print(lc[\"lightcurve.mjd\"])\n",
    "    \n",
    "    if lc[\"nobs\"].values[0] > 0:\n",
    "        # Unpack the nested columns (filters, mjd, flux, and flux error).\n",
    "        lc_filters = np.asarray(lc[\"lightcurve.filter\"], dtype=str)\n",
    "        lc_mjd = np.asarray(lc[\"lightcurve.mjd\"], dtype=float)\n",
    "        lc_flux = np.asarray(lc[\"lightcurve.flux\"], dtype=float)\n",
    "        lc_fluxerr = np.asarray(lc[\"lightcurve.fluxerr\"], dtype=float)\n",
    "        snr = np.asarray(lc[\"lightcurve.snr\"], dtype=float)\n",
    "\n",
    "        lc_mag = -2.5*np.log10(lc_flux) + 31.4\n",
    "        lc_magerr = np.absolute(1.086*lc_fluxerr/lc_flux)\n",
    "\n",
    "        ind_det = snr > 5\n",
    "\n",
    "        figure = plt.figure()\n",
    "        ax = figure.add_axes([0, 0, 1, 1])\n",
    "        plot_lightcurves(\n",
    "            fluxes=lc_flux[ind_det],\n",
    "            times=lc_mjd[ind_det],\n",
    "            fluxerrs=lc_fluxerr[ind_det],\n",
    "            filters=lc_filters[ind_det],\n",
    "            colormap=colormap,\n",
    "            marker='o',\n",
    "            ax = ax,\n",
    "        )\n",
    "\n",
    "        if plot_nondetection:\n",
    "            plot_lightcurves(\n",
    "                fluxes=lc_flux[~ind_det],\n",
    "                times=lc_mjd[~ind_det],\n",
    "                fluxerrs=lc_fluxerr[~ind_det],\n",
    "                filters=lc_filters[~ind_det],\n",
    "                colormap=colormap,\n",
    "                marker='^',\n",
    "                markerfacecolor='none',\n",
    "                ax = ax,\n",
    "            )\n",
    "        plt.ylabel('Flux (nJy)')\n",
    "        plt.title(f\"redshift={lc['z'].values[0]},mwebv={lc['params'].values[0]['mwext.ebv']}\")\n",
    "\n",
    "        if plot_model:\n",
    "            model = sncosmo.Model(source=sncosmo_modelname,\n",
    "                          effects=[sncosmo.F99Dust()],\n",
    "                          effect_names=['mw'],\n",
    "                          effect_frames=['obs'])\n",
    "            pardict = {}\n",
    "            for p in ['x0','x1','c','t0']:\n",
    "                pardict[p] = lc['params'].values[0][f'source.{p}']\n",
    "            pardict['mwebv'] = lc['params'].values[0]['mwext.ebv']\n",
    "            pardict['z'] = lc['z'].values[0]\n",
    "            model.update(pardict)\n",
    "            t = np.linspace(-20,50,100)\n",
    "            obstime = t*(1+pardict['z'])+pardict['t0']\n",
    "            for b in 'ugrizy':\n",
    "                try:\n",
    "                    plt.plot(obstime,model.bandflux('lsst'+b,obstime,zp=31.4,zpsys='ab'),ls=':',color=colormap[b])\n",
    "                except:\n",
    "                    continue\n",
    "            plt.legend()\n",
    "        plt.show()\n",
    "\n",
    "        # plot_lightcurves(\n",
    "        #     fluxes=lc_mag,\n",
    "        #     times=lc_mjd,\n",
    "        #     fluxerrs=lc_magerr,\n",
    "        #     filters=lc_filters,\n",
    "        # )\n",
    "        # plt.ylabel('Mag')\n",
    "        # plt.ylim(plt.ylim()[::-1])\n",
    "        # plt.show()"
   ]
  },
  {
   "cell_type": "code",
   "execution_count": null,
   "id": "5f172a70-1942-4f61-8cf0-17bee890f487",
   "metadata": {},
   "outputs": [],
   "source": []
  }
 ],
 "metadata": {
  "kernelspec": {
   "display_name": "lf_env",
   "language": "python",
   "name": "lf_env"
  },
  "language_info": {
   "codemirror_mode": {
    "name": "ipython",
    "version": 3
   },
   "file_extension": ".py",
   "mimetype": "text/x-python",
   "name": "python",
   "nbconvert_exporter": "python",
   "pygments_lexer": "ipython3",
   "version": "3.13.5"
  }
 },
 "nbformat": 4,
 "nbformat_minor": 5
}
