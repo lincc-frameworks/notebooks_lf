{
 "cells": [
  {
   "cell_type": "markdown",
   "id": "2fa4f03f-f251-4e69-b30a-d0598a337109",
   "metadata": {},
   "source": [
    "This notebook demostrates simulating DP1 objects using TDAstro"
   ]
  },
  {
   "cell_type": "code",
   "execution_count": 1,
   "id": "024b3c89-1fbc-47ca-b624-0d1fca4457de",
   "metadata": {
    "execution": {
     "iopub.execute_input": "2025-07-23T20:19:07.258835Z",
     "iopub.status.busy": "2025-07-23T20:19:07.258609Z",
     "iopub.status.idle": "2025-07-23T20:19:24.515280Z",
     "shell.execute_reply": "2025-07-23T20:19:24.514427Z",
     "shell.execute_reply.started": "2025-07-23T20:19:07.258813Z"
    }
   },
   "outputs": [],
   "source": [
    "import numpy as np\n",
    "import matplotlib.pyplot as plt\n",
    "from matplotlib.lines import Line2D\n",
    "from scipy.interpolate import interp1d\n",
    "import pandas as pd\n",
    "import sncosmo\n",
    "from scipy import stats\n",
    "from scipy.special import expit\n",
    "from nested_pandas import read_parquet\n",
    "\n",
    "from tdastro.opsim.opsim import OpSim\n",
    "from tdastro.astro_utils.passbands import PassbandGroup\n",
    "from tdastro.astro_utils.pzflow_node import PZFlowNode\n",
    "from tdastro.astro_utils.snia_utils import (\n",
    "    DistModFromRedshift,\n",
    "    HostmassX1Func,\n",
    "    X0FromDistMod,\n",
    "    num_snia_per_redshift_bin,\n",
    ")\n",
    "from tdastro.math_nodes.scipy_random import SamplePDF\n",
    "from tdastro.math_nodes.np_random import NumpyRandomFunc\n",
    "from tdastro.simulate import simulate_lightcurves\n",
    "from tdastro.sources.sncomso_models import SncosmoWrapperModel\n",
    "from tdastro.sources.snia_host import SNIaHost\n",
    "from tdastro.utils.plotting import plot_lightcurves\n",
    "from tdastro.math_nodes.ra_dec_sampler import OpSimUniformRADECSampler\n",
    "from tdastro.astro_utils.dustmap import DustmapWrapper,SFDMap\n",
    "from tdastro.effects.extinction import ExtinctionEffect\n",
    "from tdastro.astro_utils.mag_flux import mag2flux,flux2mag\n",
    "\n",
    "from tdastro import _TDASTRO_BASE_DATA_DIR\n",
    "\n",
    "import lsdb\n",
    "from upath import UPath"
   ]
  },
  {
   "cell_type": "markdown",
   "id": "d2e5d034-f527-4c01-bcd7-2b5da121645e",
   "metadata": {},
   "source": [
    "We first load the CcdVisit table that we downloaded from Butler, which includes the visit information for simulating the DP1 cadance and noise. Some unit conversions are needed to make sure all the units are consistent within the function that calulates the noise. "
   ]
  },
  {
   "cell_type": "code",
   "execution_count": 2,
   "id": "9c87b245-cb3c-4b59-aef0-9524fb7eb23b",
   "metadata": {
    "execution": {
     "iopub.execute_input": "2025-07-23T20:19:24.516756Z",
     "iopub.status.busy": "2025-07-23T20:19:24.516131Z",
     "iopub.status.idle": "2025-07-23T20:19:24.711769Z",
     "shell.execute_reply": "2025-07-23T20:19:24.710882Z",
     "shell.execute_reply.started": "2025-07-23T20:19:24.516729Z"
    },
    "scrolled": true
   },
   "outputs": [
    {
     "name": "stdout",
     "output_type": "stream",
     "text": [
      "Loaded OpSim with 16071 rows and times [60623.25852065384, 60656.35455890054]\n",
      "CPU times: user 149 ms, sys: 31.7 ms, total: 181 ms\n",
      "Wall time: 188 ms\n"
     ]
    }
   ],
   "source": [
    "%%time\n",
    "\n",
    "obs_log = pd.read_csv('dp1_visit_table.txt')\n",
    "obs_log[\"numExposures\"] = 1\n",
    "colmap = {\"ra\":\"ra\",\n",
    "          \"dec\":\"dec\",\n",
    "          \"time\":\"expMidptMJD\",\n",
    "          \"zp\":\"zp_nJy\", #in Mag\n",
    "          \"filter\":\"band\",\n",
    "          \"skybrightness\":\"sky_mag_per_arcsecsq\", #in ADU\n",
    "          \"seeing\": \"seeing\", #in arcsec\n",
    "          \"exptime\": \"expTime\",\n",
    "         }\n",
    "ccdgain = 2.3\n",
    "pixel_scale = 0.2\n",
    "#convert zp to nJy\n",
    "obs_log[\"zp_nJy\"] = mag2flux(obs_log[\"zeroPoint\"])*ccdgain\n",
    "#convert sky to mag/arcsec^2\n",
    "obs_log[\"sky_mag_per_arcsecsq\"] = (-2.5*np.log10(obs_log[\"skyBg\"]) + obs_log[\"zeroPoint\"])/pixel_scale**2\n",
    "opsim_db = OpSim(obs_log,colmap=colmap)\n",
    "opsim_db.radius = 0.376 #comcam fov = 40arcmin*40arcmin. Currently we can only simulate circular field, so we convert the area to radius (in degree)\n",
    "\n",
    "t_min, t_max = opsim_db.time_bounds()\n",
    "print(f\"Loaded OpSim with {len(opsim_db)} rows and times [{t_min}, {t_max}]\")\n"
   ]
  },
  {
   "cell_type": "markdown",
   "id": "4b0def8c-d2b1-475c-bb01-b9b25a0df3a3",
   "metadata": {},
   "source": [
    "We load passband information using `from_preset`, which automatically get the LSST filter information."
   ]
  },
  {
   "cell_type": "code",
   "execution_count": 3,
   "id": "aa7c4232-d77c-41cc-b964-25425666881c",
   "metadata": {
    "execution": {
     "iopub.execute_input": "2025-07-23T20:19:24.712975Z",
     "iopub.status.busy": "2025-07-23T20:19:24.712725Z",
     "iopub.status.idle": "2025-07-23T20:19:24.790420Z",
     "shell.execute_reply": "2025-07-23T20:19:24.789547Z",
     "shell.execute_reply.started": "2025-07-23T20:19:24.712955Z"
    }
   },
   "outputs": [
    {
     "name": "stdout",
     "output_type": "stream",
     "text": [
      "Loaded Passbands: PassbandGroup containing 6 passbands: LSST_u, LSST_g, LSST_r, LSST_i, LSST_z, LSST_y\n"
     ]
    }
   ],
   "source": [
    "passband_group = PassbandGroup.from_preset(preset=\"LSST\")\n",
    "print(f\"Loaded Passbands: {passband_group}\")"
   ]
  },
  {
   "cell_type": "markdown",
   "id": "1c5c69db-7b9d-4056-8dc2-ca82869c113c",
   "metadata": {},
   "source": [
    "Let's calculate the survey length given min and max MJD in the table. This can be used to calculate rate later."
   ]
  },
  {
   "cell_type": "code",
   "execution_count": 4,
   "id": "f6e5b494-b46b-4348-87bc-28c911c7e2e7",
   "metadata": {
    "execution": {
     "iopub.execute_input": "2025-07-23T20:19:24.791963Z",
     "iopub.status.busy": "2025-07-23T20:19:24.791696Z",
     "iopub.status.idle": "2025-07-23T20:19:24.795587Z",
     "shell.execute_reply": "2025-07-23T20:19:24.794889Z",
     "shell.execute_reply.started": "2025-07-23T20:19:24.791941Z"
    }
   },
   "outputs": [
    {
     "name": "stdout",
     "output_type": "stream",
     "text": [
      "survey length: 0.09067407738820456 year\n"
     ]
    }
   ],
   "source": [
    "print(f\"survey length: {(t_max-t_min)/365} year\")"
   ]
  },
  {
   "cell_type": "markdown",
   "id": "54b8b969-b571-484e-9694-421f11ee5f17",
   "metadata": {},
   "source": [
    "We utilize the `OpSimUniformRADECSampler` to sample ra and dec uniformly from the area covered by the visit table. Then we define redshift range, cosmology, and use them to compute redshift distribution according to some rate function.\n",
    "\n",
    "These functions and values are used to define a host galaxy model using pre-defined `SNIaHost` class."
   ]
  },
  {
   "cell_type": "code",
   "execution_count": 5,
   "id": "5348ae72-98af-47fd-8f72-a69f6a8d4aa4",
   "metadata": {
    "execution": {
     "iopub.execute_input": "2025-07-23T20:19:24.796761Z",
     "iopub.status.busy": "2025-07-23T20:19:24.796440Z",
     "iopub.status.idle": "2025-07-23T20:19:26.157437Z",
     "shell.execute_reply": "2025-07-23T20:19:26.156649Z",
     "shell.execute_reply.started": "2025-07-23T20:19:24.796739Z"
    }
   },
   "outputs": [],
   "source": [
    "radec_node = OpSimUniformRADECSampler(opsim_db, radius=0.376, node_label=\"radec\")\n",
    "\n",
    "zmin = 0.001\n",
    "zmax = 1\n",
    "H0 = 70.0\n",
    "Omega_m = 0.3\n",
    "nsn, z = num_snia_per_redshift_bin(zmin, zmax, 100, H0=H0, Omega_m=Omega_m)\n",
    "zpdf = interp1d(z, nsn, bounds_error=False, fill_value=0)\n",
    "\n",
    "host = SNIaHost(\n",
    "    ra = radec_node.ra,\n",
    "    dec = radec_node.dec,\n",
    "    hostmass=10.,\n",
    "    redshift=SamplePDF(zpdf),\n",
    "    node_label=\"host\",\n",
    ")"
   ]
  },
  {
   "cell_type": "markdown",
   "id": "d5da10c3-b952-440a-ace5-b6314057e1d5",
   "metadata": {},
   "source": [
    "Now we can define the SED model that is used for generating simulated light curves. The `salt2-h17` model from the `sncosmo` package is used, with necessary parameter distributions defined as FunctionNodes."
   ]
  },
  {
   "cell_type": "code",
   "execution_count": 6,
   "id": "9956c624-815c-4059-8b16-ec96b20d4e09",
   "metadata": {
    "execution": {
     "iopub.execute_input": "2025-07-23T20:19:26.158487Z",
     "iopub.status.busy": "2025-07-23T20:19:26.158247Z",
     "iopub.status.idle": "2025-07-23T20:19:26.597845Z",
     "shell.execute_reply": "2025-07-23T20:19:26.597064Z",
     "shell.execute_reply.started": "2025-07-23T20:19:26.158467Z"
    },
    "scrolled": true
   },
   "outputs": [],
   "source": [
    "distmod_func = DistModFromRedshift(host.redshift, H0=73.0, Omega_m=0.3)\n",
    "x1_func = NumpyRandomFunc(\"normal\", loc=0, scale=0.2)\n",
    "c_func = NumpyRandomFunc(\"normal\", loc=0, scale=0.02)\n",
    "m_abs_func = NumpyRandomFunc(\"normal\", loc=-19., scale=0.1)\n",
    "x0_func = X0FromDistMod(\n",
    "    distmod=distmod_func,\n",
    "    x1=x1_func,\n",
    "    c=c_func,\n",
    "    alpha=0.14,\n",
    "    beta=3.1,\n",
    "    m_abs=m_abs_func,\n",
    "    node_label=\"x0_func\",\n",
    ")\n",
    "\n",
    "sncosmo_modelname = \"salt2-h17\"\n",
    "source = SncosmoWrapperModel(\n",
    "    sncosmo_modelname,\n",
    "    t0=NumpyRandomFunc(\"uniform\", low=t_min, high=t_max),\n",
    "    x0=x0_func,\n",
    "    x1=x1_func,\n",
    "    c=c_func,\n",
    "    ra=NumpyRandomFunc(\"normal\", loc=host.ra, scale=0.01),\n",
    "    dec=NumpyRandomFunc(\"normal\", loc=host.dec, scale=0.01),\n",
    "    redshift=host.redshift,\n",
    "    node_label=\"source\",\n",
    ")"
   ]
  },
  {
   "cell_type": "markdown",
   "id": "37d627f8-2fac-4363-bdc6-af20cc6a2b7c",
   "metadata": {
    "execution": {
     "iopub.execute_input": "2025-07-23T20:09:02.054070Z",
     "iopub.status.busy": "2025-07-23T20:09:02.053250Z",
     "iopub.status.idle": "2025-07-23T20:09:02.061046Z",
     "shell.execute_reply": "2025-07-23T20:09:02.060261Z",
     "shell.execute_reply.started": "2025-07-23T20:09:02.054042Z"
    }
   },
   "source": [
    "We can apply milky way extinction effect using `.add_effect`"
   ]
  },
  {
   "cell_type": "code",
   "execution_count": 7,
   "id": "840a1752-a1ed-4521-8e57-7ce457cfaacc",
   "metadata": {
    "execution": {
     "iopub.execute_input": "2025-07-23T20:19:26.598946Z",
     "iopub.status.busy": "2025-07-23T20:19:26.598691Z",
     "iopub.status.idle": "2025-07-23T20:19:27.565961Z",
     "shell.execute_reply": "2025-07-23T20:19:27.565111Z",
     "shell.execute_reply.started": "2025-07-23T20:19:26.598926Z"
    },
    "scrolled": true
   },
   "outputs": [],
   "source": [
    "mwextinction = SFDMap(\n",
    "    ra=source.ra,\n",
    "    dec=source.dec,\n",
    "    node_label=\"mwext\",\n",
    ")\n",
    "\n",
    "# Create an extinction effect using the EBVs from that dust map.\n",
    "ext_effect = ExtinctionEffect(extinction_model=\"F99\", ebv=mwextinction, Rv=3.1)\n",
    "source.add_effect(ext_effect)"
   ]
  },
  {
   "cell_type": "markdown",
   "id": "c05768fb-7087-48a3-b3fc-25f2b578c4f9",
   "metadata": {},
   "source": [
    "The total area of DP1 is 15 square degrees. We convert it to solid angle and multiply by the survey length to calculate the total number of SN Ia based on the rate function.\n",
    "Finally we simulate lightcurves using `simulate_lightcurves` providing everything defined above."
   ]
  },
  {
   "cell_type": "code",
   "execution_count": 8,
   "id": "bf69abf6-0262-458e-91d9-97afddaae034",
   "metadata": {
    "execution": {
     "iopub.execute_input": "2025-07-23T20:19:27.567025Z",
     "iopub.status.busy": "2025-07-23T20:19:27.566795Z",
     "iopub.status.idle": "2025-07-23T20:19:32.356284Z",
     "shell.execute_reply": "2025-07-23T20:19:32.355481Z",
     "shell.execute_reply.started": "2025-07-23T20:19:27.567006Z"
    },
    "scrolled": true
   },
   "outputs": [
    {
     "name": "stdout",
     "output_type": "stream",
     "text": [
      "Total number of SN Ia to be simulated : [280.30558727]\n"
     ]
    },
    {
     "name": "stderr",
     "output_type": "stream",
     "text": [
      "<timed exec>:4: DeprecationWarning: Conversion of an array with ndim > 0 to a scalar is deprecated, and will error in future. Ensure you extract a single element from your array before performing this operation. (Deprecated NumPy 1.25.)\n"
     ]
    },
    {
     "name": "stdout",
     "output_type": "stream",
     "text": [
      "CPU times: user 4.29 s, sys: 151 ms, total: 4.44 s\n",
      "Wall time: 4.78 s\n"
     ]
    }
   ],
   "source": [
    "%%time\n",
    "nsntotal, _ = num_snia_per_redshift_bin(zmin, zmax, 1, H0=H0, Omega_m=Omega_m, solid_angle=4.57e-3*0.09) #15 sq degree\n",
    "print(\"Total number of SN Ia to be simulated :\", nsntotal)\n",
    "\n",
    "lightcurves = simulate_lightcurves(source, int(nsntotal), opsim_db, passband_group)\n"
   ]
  },
  {
   "cell_type": "code",
   "execution_count": 13,
   "id": "d0eaa09e-8695-4aa1-b28e-c52e8648655d",
   "metadata": {
    "execution": {
     "iopub.execute_input": "2025-07-23T20:20:40.133438Z",
     "iopub.status.busy": "2025-07-23T20:20:40.132404Z",
     "iopub.status.idle": "2025-07-23T20:20:40.188286Z",
     "shell.execute_reply": "2025-07-23T20:20:40.187586Z",
     "shell.execute_reply.started": "2025-07-23T20:20:40.133393Z"
    }
   },
   "outputs": [
    {
     "data": {
      "text/html": [
       "<style type=\"text/css\">\n",
       "</style>\n",
       "<table id=\"T_3481c\">\n",
       "  <thead>\n",
       "    <tr>\n",
       "      <th class=\"blank level0\" >&nbsp;</th>\n",
       "      <th id=\"T_3481c_level0_col0\" class=\"col_heading level0 col0\" >ra</th>\n",
       "      <th id=\"T_3481c_level0_col1\" class=\"col_heading level0 col1\" >dec</th>\n",
       "      <th id=\"T_3481c_level0_col2\" class=\"col_heading level0 col2\" >z</th>\n",
       "      <th id=\"T_3481c_level0_col3\" class=\"col_heading level0 col3\" >lightcurve</th>\n",
       "    </tr>\n",
       "  </thead>\n",
       "  <tbody>\n",
       "    <tr>\n",
       "      <th id=\"T_3481c_level0_row0\" class=\"row_heading level0 row0\" >1</th>\n",
       "      <td id=\"T_3481c_row0_col0\" class=\"data row0 col0\" >59.123541</td>\n",
       "      <td id=\"T_3481c_row0_col1\" class=\"data row0 col1\" >-49.568545</td>\n",
       "      <td id=\"T_3481c_row0_col2\" class=\"data row0 col2\" >0.657076</td>\n",
       "      <td id=\"T_3481c_row0_col3\" class=\"data row0 col3\" ><table border=\"1\" class=\"dataframe\">\n",
       "  <thead>\n",
       "    <tr style=\"text-align: right;\">\n",
       "      <th>mjd</th>\n",
       "      <th>filter</th>\n",
       "      <th>...</th>\n",
       "      <th>flux_perfect</th>\n",
       "      <th>snr</th>\n",
       "    </tr>\n",
       "  </thead>\n",
       "  <tbody>\n",
       "    <tr>\n",
       "      <td>60632.247888</td>\n",
       "      <td>z</td>\n",
       "      <td>...</td>\n",
       "      <td>973.30113</td>\n",
       "      <td>4.167831</td>\n",
       "    </tr>\n",
       "    <tr>\n",
       "      <td><i>+14 rows</i></td>\n",
       "      <td>...</td>\n",
       "      <td>...</td>\n",
       "      <td>...</td>\n",
       "      <td>...</td>\n",
       "    </tr>\n",
       "  </tbody>\n",
       "</table></td>\n",
       "    </tr>\n",
       "    <tr>\n",
       "      <th id=\"T_3481c_level0_row1\" class=\"row_heading level0 row1\" >5</th>\n",
       "      <td id=\"T_3481c_row1_col0\" class=\"data row1 col0\" >8.380616</td>\n",
       "      <td id=\"T_3481c_row1_col1\" class=\"data row1 col1\" >-72.148891</td>\n",
       "      <td id=\"T_3481c_row1_col2\" class=\"data row1 col2\" >0.629209</td>\n",
       "      <td id=\"T_3481c_row1_col3\" class=\"data row1 col3\" ><table border=\"1\" class=\"dataframe\">\n",
       "  <thead>\n",
       "    <tr style=\"text-align: right;\">\n",
       "      <th>mjd</th>\n",
       "      <th>filter</th>\n",
       "      <th>...</th>\n",
       "      <th>flux_perfect</th>\n",
       "      <th>snr</th>\n",
       "    </tr>\n",
       "  </thead>\n",
       "  <tbody>\n",
       "    <tr>\n",
       "      <td>60639.047875</td>\n",
       "      <td>r</td>\n",
       "      <td>...</td>\n",
       "      <td>606.782894</td>\n",
       "      <td>5.365919</td>\n",
       "    </tr>\n",
       "    <tr>\n",
       "      <td><i>+25 rows</i></td>\n",
       "      <td>...</td>\n",
       "      <td>...</td>\n",
       "      <td>...</td>\n",
       "      <td>...</td>\n",
       "    </tr>\n",
       "  </tbody>\n",
       "</table></td>\n",
       "    </tr>\n",
       "    <tr>\n",
       "      <th id=\"T_3481c_level0_row2\" class=\"row_heading level0 row2\" >6</th>\n",
       "      <td id=\"T_3481c_row2_col0\" class=\"data row2 col0\" >106.758555</td>\n",
       "      <td id=\"T_3481c_row2_col1\" class=\"data row2 col1\" >-11.143483</td>\n",
       "      <td id=\"T_3481c_row2_col2\" class=\"data row2 col2\" >0.701207</td>\n",
       "      <td id=\"T_3481c_row2_col3\" class=\"data row2 col3\" ><table border=\"1\" class=\"dataframe\">\n",
       "  <thead>\n",
       "    <tr style=\"text-align: right;\">\n",
       "      <th>mjd</th>\n",
       "      <th>filter</th>\n",
       "      <th>...</th>\n",
       "      <th>flux_perfect</th>\n",
       "      <th>snr</th>\n",
       "    </tr>\n",
       "  </thead>\n",
       "  <tbody>\n",
       "    <tr>\n",
       "      <td>60654.293435</td>\n",
       "      <td>z</td>\n",
       "      <td>...</td>\n",
       "      <td>32.466694</td>\n",
       "      <td>-1.695457</td>\n",
       "    </tr>\n",
       "    <tr>\n",
       "      <td><i>+3 rows</i></td>\n",
       "      <td>...</td>\n",
       "      <td>...</td>\n",
       "      <td>...</td>\n",
       "      <td>...</td>\n",
       "    </tr>\n",
       "  </tbody>\n",
       "</table></td>\n",
       "    </tr>\n",
       "    <tr>\n",
       "      <th id=\"T_3481c_level0_row3\" class=\"row_heading level0 row3\" >8</th>\n",
       "      <td id=\"T_3481c_row3_col0\" class=\"data row3 col0\" >95.711686</td>\n",
       "      <td id=\"T_3481c_row3_col1\" class=\"data row3 col1\" >-24.445218</td>\n",
       "      <td id=\"T_3481c_row3_col2\" class=\"data row3 col2\" >0.649993</td>\n",
       "      <td id=\"T_3481c_row3_col3\" class=\"data row3 col3\" ><table border=\"1\" class=\"dataframe\">\n",
       "  <thead>\n",
       "    <tr style=\"text-align: right;\">\n",
       "      <th>mjd</th>\n",
       "      <th>filter</th>\n",
       "      <th>...</th>\n",
       "      <th>flux_perfect</th>\n",
       "      <th>snr</th>\n",
       "    </tr>\n",
       "  </thead>\n",
       "  <tbody>\n",
       "    <tr>\n",
       "      <td>60634.332367</td>\n",
       "      <td>i</td>\n",
       "      <td>...</td>\n",
       "      <td>1194.285053</td>\n",
       "      <td>10.897131</td>\n",
       "    </tr>\n",
       "    <tr>\n",
       "      <td><i>+9 rows</i></td>\n",
       "      <td>...</td>\n",
       "      <td>...</td>\n",
       "      <td>...</td>\n",
       "      <td>...</td>\n",
       "    </tr>\n",
       "  </tbody>\n",
       "</table></td>\n",
       "    </tr>\n",
       "    <tr>\n",
       "      <th id=\"T_3481c_level0_row4\" class=\"row_heading level0 row4\" >13</th>\n",
       "      <td id=\"T_3481c_row4_col0\" class=\"data row4 col0\" >94.504208</td>\n",
       "      <td id=\"T_3481c_row4_col1\" class=\"data row4 col1\" >-24.411104</td>\n",
       "      <td id=\"T_3481c_row4_col2\" class=\"data row4 col2\" >0.420555</td>\n",
       "      <td id=\"T_3481c_row4_col3\" class=\"data row4 col3\" ><table border=\"1\" class=\"dataframe\">\n",
       "  <thead>\n",
       "    <tr style=\"text-align: right;\">\n",
       "      <th>mjd</th>\n",
       "      <th>filter</th>\n",
       "      <th>...</th>\n",
       "      <th>flux_perfect</th>\n",
       "      <th>snr</th>\n",
       "    </tr>\n",
       "  </thead>\n",
       "  <tbody>\n",
       "    <tr>\n",
       "      <td>60634.327302</td>\n",
       "      <td>y</td>\n",
       "      <td>...</td>\n",
       "      <td>2519.708282</td>\n",
       "      <td>6.12446</td>\n",
       "    </tr>\n",
       "    <tr>\n",
       "      <td><i>+74 rows</i></td>\n",
       "      <td>...</td>\n",
       "      <td>...</td>\n",
       "      <td>...</td>\n",
       "      <td>...</td>\n",
       "    </tr>\n",
       "  </tbody>\n",
       "</table></td>\n",
       "    </tr>\n",
       "    <tr>\n",
       "      <th class=\"row_heading level0 row_trim\" >...</th>\n",
       "      <td class=\"data col0 row_trim\" >...</td>\n",
       "      <td class=\"data col1 row_trim\" >...</td>\n",
       "      <td class=\"data col2 row_trim\" >...</td>\n",
       "      <td class=\"data col3 row_trim\" >...</td>\n",
       "    </tr>\n",
       "  </tbody>\n",
       "</table>\n",
       "111 rows x 4 columns"
      ],
      "text/plain": [
       "            ra        dec         z  \\\n",
       "1    59.123541 -49.568545  0.657076   \n",
       "5     8.380616 -72.148891  0.629209   \n",
       "..         ...        ...       ...   \n",
       "274  39.586307 -34.654827  0.519627   \n",
       "277  53.222240 -27.331431  0.901350   \n",
       "\n",
       "                                            lightcurve  \n",
       "1    [{mjd: 60632.247888, filter: 'z', flux: 870.50...  \n",
       "5    [{mjd: 60639.047875, filter: 'r', flux: 599.23...  \n",
       "..                                                 ...  \n",
       "274  [{mjd: 60639.244622, filter: 'r', flux: 1696.5...  \n",
       "277  [{mjd: 60623.274265, filter: 'g', flux: 64.194...  \n",
       "\n",
       "[111 rows x 4 columns]"
      ]
     },
     "execution_count": 13,
     "metadata": {},
     "output_type": "execute_result"
    }
   ],
   "source": [
    "lightcurves[['ra','dec','z','lightcurve']]"
   ]
  },
  {
   "cell_type": "markdown",
   "id": "3c1a8b52-e82b-4eff-949f-27e68b619ce1",
   "metadata": {},
   "source": [
    "Now let's do some filtering to obtain some meaningful lightcurves"
   ]
  },
  {
   "cell_type": "code",
   "execution_count": 14,
   "id": "7809e251-88c4-452d-bce8-2f594e2d935f",
   "metadata": {
    "execution": {
     "iopub.execute_input": "2025-07-23T20:20:58.001282Z",
     "iopub.status.busy": "2025-07-23T20:20:58.000941Z",
     "iopub.status.idle": "2025-07-23T20:20:58.037983Z",
     "shell.execute_reply": "2025-07-23T20:20:58.037188Z",
     "shell.execute_reply.started": "2025-07-23T20:20:58.001257Z"
    }
   },
   "outputs": [
    {
     "name": "stdout",
     "output_type": "stream",
     "text": [
      "Before applying detection: nsn= 111\n",
      "After applying detection: nsn= 91\n"
     ]
    }
   ],
   "source": [
    "#apply detection and spec efficiency\n",
    "lightcurves = lightcurves.dropna(subset=['lightcurve'])\n",
    "print(\"Before applying detection: nsn=\", len(lightcurves))\n",
    "lightcurves['lightcurve.snr'] = lightcurves['lightcurve.flux']/lightcurves['lightcurve.fluxerr']\n",
    "lightcurves_after_detection = lightcurves.query('lightcurve.snr > 5').dropna(subset=['lightcurve'])\n",
    "print(\"After applying detection: nsn=\", len(lightcurves_after_detection))"
   ]
  },
  {
   "cell_type": "code",
   "execution_count": 15,
   "id": "513baf3a-3fe2-4541-8833-d66fadbe94e7",
   "metadata": {
    "execution": {
     "iopub.execute_input": "2025-07-23T20:20:58.814478Z",
     "iopub.status.busy": "2025-07-23T20:20:58.813834Z",
     "iopub.status.idle": "2025-07-23T20:20:58.835792Z",
     "shell.execute_reply": "2025-07-23T20:20:58.835032Z",
     "shell.execute_reply.started": "2025-07-23T20:20:58.814451Z"
    }
   },
   "outputs": [
    {
     "name": "stdout",
     "output_type": "stream",
     "text": [
      "After applying nobs cut: nsn= 23\n",
      "After applying nfilter cut: nsn= 23\n",
      "After applying dt cut: nsn= 23\n"
     ]
    }
   ],
   "source": [
    "#apply quality cut\n",
    "def get_nobs(mjd_col):\n",
    "    return len(np.unique(np.floor(mjd_col)))\n",
    "nobs = lightcurves_after_detection.reduce(get_nobs, 'lightcurve.mjd')\n",
    "idx = nobs > 5\n",
    "lightcurves_after_nobs = lightcurves_after_detection[idx[0]]\n",
    "print(\"After applying nobs cut: nsn=\", len(lightcurves_after_nobs))\n",
    "\n",
    "def get_nfilter(filter_col):\n",
    "    nfilter = np.unique(filter_col)\n",
    "    return len(nfilter)\n",
    "nfilter = lightcurves_after_nobs.reduce(get_nfilter,'lightcurve.filter')\n",
    "idx = nfilter > 2\n",
    "lightcurves_after_nfilter = lightcurves_after_nobs[idx[0]]\n",
    "print(\"After applying nfilter cut: nsn=\", len(lightcurves_after_nfilter))\n",
    "\n",
    "def get_dt(mjd_col):\n",
    "    return np.max(mjd_col) - np.min(mjd_col)\n",
    "dt = lightcurves_after_nfilter.reduce(get_dt, 'lightcurve.mjd')\n",
    "idx = dt > 20\n",
    "lightcurves_after_dt = lightcurves_after_nfilter[idx[0]]\n",
    "print(\"After applying dt cut: nsn=\", len(lightcurves_after_dt))"
   ]
  },
  {
   "cell_type": "markdown",
   "id": "d51ca2e0-96af-4a4d-9226-dd65dcebe518",
   "metadata": {},
   "source": [
    "Let's select some random lightcurves to plot."
   ]
  },
  {
   "cell_type": "code",
   "execution_count": 34,
   "id": "a2e8e3ed-7994-45a5-8be9-23d621eea666",
   "metadata": {
    "execution": {
     "iopub.execute_input": "2025-07-23T20:40:29.375563Z",
     "iopub.status.busy": "2025-07-23T20:40:29.374832Z",
     "iopub.status.idle": "2025-07-23T20:40:29.788424Z",
     "shell.execute_reply": "2025-07-23T20:40:29.787817Z",
     "shell.execute_reply.started": "2025-07-23T20:40:29.375531Z"
    }
   },
   "outputs": [
    {
     "data": {
      "image/png": "[encoded data removed]",
      "text/plain": [
       "<Figure size 640x480 with 1 Axes>"
      ]
     },
     "metadata": {},
     "output_type": "display_data"
    },
    {
     "data": {
      "image/png": "[encoded data removed]",
      "text/plain": [
       "<Figure size 640x480 with 1 Axes>"
      ]
     },
     "metadata": {},
     "output_type": "display_data"
    }
   ],
   "source": [
    "random_ids = lightcurves_after_dt.id.sample(1).values\n",
    "colormap = {'u':'blue',\n",
    "            'g':'green',\n",
    "            'r':'red',\n",
    "            'i':'magenta',\n",
    "            'z':'purple',\n",
    "            'y':'gray',\n",
    "           }\n",
    "\n",
    "for random_id in random_ids:\n",
    "    # Extract the row for this object.\n",
    "    # lc = lightcurves.loc[lightcurves.id==random_id]\n",
    "    lc = lightcurves_after_detection.loc[lightcurves_after_detection.id==random_id]\n",
    "    # print(lc[\"lightcurve.mjd\"])\n",
    "    \n",
    "    if lc[\"nobs\"].values[0] > 0:\n",
    "        # Unpack the nested columns (filters, mjd, flux, and flux error).\n",
    "        lc_filters = np.asarray(lc[\"lightcurve.filter\"], dtype=str)\n",
    "        lc_mjd = np.asarray(lc[\"lightcurve.mjd\"], dtype=float)\n",
    "        lc_flux = np.asarray(lc[\"lightcurve.flux\"], dtype=float)\n",
    "        lc_fluxerr = np.asarray(lc[\"lightcurve.fluxerr\"], dtype=float)\n",
    "\n",
    "        lc_mag = -2.5*np.log10(lc_flux) + 31.4\n",
    "        lc_magerr = np.absolute(1.086*lc_fluxerr/lc_flux)\n",
    "        \n",
    "        plot_lightcurves(\n",
    "            fluxes=lc_flux,\n",
    "            times=lc_mjd,\n",
    "            fluxerrs=lc_fluxerr,\n",
    "            filters=lc_filters,\n",
    "            colormap=colormap,\n",
    "        )\n",
    "        plt.ylabel('Flux (nJy)')\n",
    "        plt.title(f\"redshift={lc['z'].values[0]},mwebv={lc['params'].values[0]['mwext.ebv']}\")\n",
    "\n",
    "        model = sncosmo.Model(source=sncosmo_modelname,\n",
    "                      effects=[sncosmo.F99Dust()],\n",
    "                      effect_names=['mw'],\n",
    "                      effect_frames=['obs'])\n",
    "        pardict = {}\n",
    "        for p in ['x0','x1','c','t0']:\n",
    "            pardict[p] = lc['params'].values[0][f'source.{p}']\n",
    "        pardict['mwebv'] = lc['params'].values[0]['mwext.ebv']\n",
    "        pardict['z'] = lc['z'].values[0]\n",
    "        model.update(pardict)\n",
    "        t = np.linspace(-20,50,100)\n",
    "        obstime = t*(1+pardict['z'])+pardict['t0']\n",
    "        for b in 'ugrizy':\n",
    "            try:\n",
    "                plt.plot(obstime,model.bandflux('lsst'+b,obstime,zp=31.4,zpsys='ab'),ls=':',color=colormap[b])\n",
    "            except:\n",
    "                continue\n",
    "        plt.legend()\n",
    "        plt.show()\n",
    "\n",
    "        plot_lightcurves(\n",
    "            fluxes=lc_mag,\n",
    "            times=lc_mjd,\n",
    "            fluxerrs=lc_magerr,\n",
    "            filters=lc_filters,\n",
    "        )\n",
    "        plt.ylabel('Mag')\n",
    "        plt.ylim(plt.ylim()[::-1])\n",
    "        plt.show()"
   ]
  },
  {
   "cell_type": "code",
   "execution_count": null,
   "id": "b4644e29-b99c-4bed-a5e6-ef6667380490",
   "metadata": {},
   "outputs": [],
   "source": []
  }
 ],
 "metadata": {
  "kernelspec": {
   "display_name": "lf_env",
   "language": "python",
   "name": "lf_env"
  },
  "language_info": {
   "codemirror_mode": {
    "name": "ipython",
    "version": 3
   },
   "file_extension": ".py",
   "mimetype": "text/x-python",
   "name": "python",
   "nbconvert_exporter": "python",
   "pygments_lexer": "ipython3",
   "version": "3.13.5"
  }
 },
 "nbformat": 4,
 "nbformat_minor": 5
}
