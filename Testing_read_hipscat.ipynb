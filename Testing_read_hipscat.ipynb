{
 "cells": [
  {
   "cell_type": "code",
   "execution_count": 1,
   "metadata": {},
   "outputs": [],
   "source": [
    "import lsdb\n",
    "import tape\n",
    "from tape import Ensemble, ColumnMapper\n",
    "import matplotlib.pyplot as plt"
   ]
  },
  {
   "cell_type": "code",
   "execution_count": 2,
   "metadata": {},
   "outputs": [
    {
     "name": "stdout",
     "output_type": "stream",
     "text": [
      "0.1.3\n",
      "0.3.4\n"
     ]
    }
   ],
   "source": [
    "print(lsdb.__version__)\n",
    "print(tape.__version__)"
   ]
  },
  {
   "cell_type": "code",
   "execution_count": 3,
   "metadata": {},
   "outputs": [],
   "source": [
    "import time"
   ]
  },
  {
   "cell_type": "code",
   "execution_count": 4,
   "metadata": {},
   "outputs": [
    {
     "name": "stdout",
     "output_type": "stream",
     "text": [
      "7.91234016418457 0.4120042324066162 74.68212032318115\n",
      "CPU times: user 55 s, sys: 28 s, total: 1min 22s\n",
      "Wall time: 1min 23s\n"
     ]
    }
   ],
   "source": [
    "%%time\n",
    "\n",
    "# Gaia\n",
    "t1 = time.time()\n",
    "gaia_path = \"https://epyc.astro.washington.edu/~lincc-frameworks/hipscat_surveys/gaia_dr3/gaia\"\n",
    "gaia_object = lsdb.read_hipscat(gaia_path) # Gaia (Object)\n",
    "t2 = time.time()\n",
    "ztf_object_path = \"https://epyc.astro.washington.edu/~lincc-frameworks/hipscat_surveys/ztf/ztf_dr14/\"\n",
    "ztf_object = lsdb.read_hipscat(ztf_object_path) # ZTF Object\n",
    "t3 = time.time()\n",
    "ztf_source_path = \"https://epyc.astro.washington.edu/~lincc-frameworks/hipscat_surveys/ztf/ztf_source/\"\n",
    "ztf_source = lsdb.read_hipscat(ztf_source_path) # ZTF Source\n",
    "t4= time.time()\n",
    "print(t2-t1, t3-t2, t4-t3)\n"
   ]
  },
  {
   "cell_type": "code",
   "execution_count": 5,
   "metadata": {},
   "outputs": [
    {
     "name": "stdout",
     "output_type": "stream",
     "text": [
      "CPU times: user 0 ns, sys: 32 µs, total: 32 µs\n",
      "Wall time: 61.3 µs\n",
      "8.413696050643921 0.15892624855041504 39.7496554851532\n"
     ]
    }
   ],
   "source": [
    "%time\n",
    "\n",
    "# Gaia\n",
    "t1 = time.time()\n",
    "gaia_path = \"/astro/store/epyc3/data3/hipscat/catalogs/gaia_dr3/gaia\"\n",
    "gaia_object = lsdb.read_hipscat(gaia_path) # Gaia (Object)\n",
    "t2 = time.time()\n",
    "ztf_object_path = \"/astro/store/epyc3/data3/hipscat/catalogs/ztf_axs/ztf_dr14\"\n",
    "ztf_object = lsdb.read_hipscat(ztf_object_path) # ZTF Object\n",
    "t3 = time.time()\n",
    "ztf_source_path = \"/astro/store/epyc3/data3/hipscat/catalogs/ztf_axs/ztf_source/\"\n",
    "ztf_source = lsdb.read_hipscat(ztf_source_path) # ZTF Source\n",
    "t4= time.time()\n",
    "print(t2-t1, t3-t2, t4-t3)"
   ]
  },
  {
   "cell_type": "code",
   "execution_count": null,
   "metadata": {},
   "outputs": [],
   "source": []
  }
 ],
 "metadata": {
  "kernelspec": {
   "display_name": "tape_static",
   "language": "python",
   "name": "python3"
  },
  "language_info": {
   "codemirror_mode": {
    "name": "ipython",
    "version": 3
   },
   "file_extension": ".py",
   "mimetype": "text/x-python",
   "name": "python",
   "nbconvert_exporter": "python",
   "pygments_lexer": "ipython3",
   "version": "3.10.13"
  }
 },
 "nbformat": 4,
 "nbformat_minor": 2
}
