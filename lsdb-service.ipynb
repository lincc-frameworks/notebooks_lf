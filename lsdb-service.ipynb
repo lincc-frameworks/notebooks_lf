{
 "cells": [
  {
   "cell_type": "markdown",
   "id": "7e39cd87",
   "metadata": {},
   "source": [
    "# Access HATS catalogs from IPAC's LSDB-service "
   ]
  },
  {
   "cell_type": "code",
   "execution_count": 1,
   "id": "26c45ead",
   "metadata": {},
   "outputs": [],
   "source": [
    "# !pip install requests astropy"
   ]
  },
  {
   "cell_type": "code",
   "execution_count": 2,
   "id": "35910b2b",
   "metadata": {},
   "outputs": [],
   "source": [
    "import requests\n",
    "from astropy.table import Table\n",
    "from astropy import units as u\n",
    "from astropy.coordinates import SkyCoord\n",
    "import pyvo"
   ]
  },
  {
   "cell_type": "code",
   "execution_count": 3,
   "id": "089163a0",
   "metadata": {},
   "outputs": [],
   "source": [
    "SERVICE_URL = \"https://troyraen.irsakudev.ipac.caltech.edu\" # the LSDB service deployed at IPAC (need to be on IPAC network)\n",
    "# SERVICE_URL = \"http://epyc.astro.washington.edu:43212\" # will work once Derek deploys the server uncoupled from Firefly\n",
    "\n",
    "SERVICE_API_ENDPOINT = \"cgi-bin/Gator\" # would be /TAP or something if a VO interface is developed"
   ]
  },
  {
   "cell_type": "code",
   "execution_count": 4,
   "id": "446e282b",
   "metadata": {},
   "outputs": [
    {
     "data": {
      "text/plain": [
       "'lsdb-server is ready.'"
      ]
     },
     "execution_count": 4,
     "metadata": {},
     "output_type": "execute_result"
    }
   ],
   "source": [
    "requests.get(f\"{SERVICE_URL}/{SERVICE_API_ENDPOINT}\").text"
   ]
  },
  {
   "cell_type": "markdown",
   "id": "596c7077",
   "metadata": {},
   "source": [
    "## Get catalogs from a project"
   ]
  },
  {
   "cell_type": "code",
   "execution_count": 5,
   "id": "33466247",
   "metadata": {},
   "outputs": [],
   "source": [
    "PROJECT_NAME = \"WISE\""
   ]
  },
  {
   "cell_type": "code",
   "execution_count": 6,
   "id": "397fbf44",
   "metadata": {},
   "outputs": [
    {
     "data": {
      "text/html": [
       "<div><i>Table length=2</i>\n",
       "<table id=\"table4406357904\" class=\"table-striped table-bordered table-condensed\">\n",
       "<thead><tr><th>hats_dataset</th><th>cntr</th><th>description</th><th>subtitle</th><th>ack</th><th>infourl</th><th>server</th><th>database</th><th>catname</th><th>ddname</th><th>ddlink</th><th>xpffile</th><th>cols</th><th>nrows</th><th>ext</th><th>key</th><th>pos</th><th>simulated</th><th>rel</th><th>coneradius</th><th>uploadradius</th><th>projectshort</th><th>missionid</th><th>groupid</th><th>access_flag</th><th>alg</th><th>algv</th><th>ex</th><th>where1</th><th>where2</th><th>mojoin</th><th>modataset</th><th>toperiod</th><th>periodresult</th><th>sptlevel</th><th>sptindex</th><th>visibility</th><th>dbms</th></tr></thead>\n",
       "<thead><tr><th>str38</th><th>str1</th><th>str49</th><th>str14</th><th>str7</th><th>str83</th><th>str12</th><th>str12</th><th>str12</th><th>str7</th><th>str71</th><th>str7</th><th>int64</th><th>str14</th><th>str7</th><th>str7</th><th>str1</th><th>str1</th><th>str7</th><th>int64</th><th>int64</th><th>str4</th><th>str7</th><th>str7</th><th>str7</th><th>str7</th><th>str7</th><th>str1</th><th>float64</th><th>str1</th><th>str7</th><th>str7</th><th>str7</th><th>str7</th><th>str7</th><th>str7</th><th>str7</th><th>str7</th></tr></thead>\n",
       "<tr><td>https://data.lsdb.io/hats/wise/allwise</td><td>6</td><td>AllWISE Source Catalog</td><td>AllWISE</td><td>NEEDED?</td><td>https://wise2.ipac.caltech.edu/docs/release/allwise/</td><td>data.lsdb.io</td><td>wise</td><td>allwise</td><td>NEEDED?</td><td>https://wise2.ipac.caltech.edu/docs/release/allwise/expsup/sec2_1a.html</td><td>NEEDED?</td><td>302</td><td>747,634,026</td><td>NEEDED?</td><td>NEEDED?</td><td>y</td><td>n</td><td>NEEDED?</td><td>3600</td><td>1200</td><td>WISE</td><td>NEEDED?</td><td>NEEDED?</td><td>NEEDED?</td><td>NEEDED?</td><td>NEEDED?</td><td>--</td><td>--</td><td>--</td><td>NEEDED?</td><td>NEEDED?</td><td>NEEDED?</td><td>NEEDED?</td><td>NEEDED?</td><td>NEEDED?</td><td>NEEDED?</td><td>NEEDED?</td></tr>\n",
       "<tr><td>https://data.lsdb.io/hats/wise/neowise</td><td>7</td><td>NEOWISE Year 8 Single Exposure (L1b) Source Table</td><td>NEOWISE Year 8</td><td>NEEDED?</td><td>https://wise2.ipac.caltech.edu/docs/release/neowise/neowise_2022_release_intro.html</td><td>data.lsdb.io</td><td>neowiser_yr8</td><td>neowiser_yr8</td><td>NEEDED?</td><td>https://wise2.ipac.caltech.edu/docs/release/neowise/expsup/sec2_1a.html</td><td>NEEDED?</td><td>146</td><td>18,668,416,994</td><td>NEEDED?</td><td>NEEDED?</td><td>y</td><td>n</td><td>NEEDED?</td><td>3600</td><td>180</td><td>WISE</td><td>NEEDED?</td><td>NEEDED?</td><td>NEEDED?</td><td>NEEDED?</td><td>NEEDED?</td><td>--</td><td>--</td><td>--</td><td>NEEDED?</td><td>NEEDED?</td><td>NEEDED?</td><td>NEEDED?</td><td>NEEDED?</td><td>NEEDED?</td><td>NEEDED?</td><td>NEEDED?</td></tr>\n",
       "</table></div>"
      ],
      "text/plain": [
       "<Table length=2>\n",
       "             hats_dataset              cntr ... visibility   dbms \n",
       "                str38                  str1 ...    str7      str7 \n",
       "-------------------------------------- ---- ... ---------- -------\n",
       "https://data.lsdb.io/hats/wise/allwise    6 ...    NEEDED? NEEDED?\n",
       "https://data.lsdb.io/hats/wise/neowise    7 ...    NEEDED? NEEDED?"
      ]
     },
     "execution_count": 6,
     "metadata": {},
     "output_type": "execute_result"
    }
   ],
   "source": [
    "response = requests.get(f\"{SERVICE_URL}/{SERVICE_API_ENDPOINT}/nph-scan\",\n",
    "                        params={\"projshort\": PROJECT_NAME})\n",
    "response.raise_for_status()\n",
    "\n",
    "catalogs = Table.read(response.text, format='ipac')\n",
    "catalogs"
   ]
  },
  {
   "cell_type": "code",
   "execution_count": 7,
   "id": "262ab2e6",
   "metadata": {},
   "outputs": [],
   "source": [
    "# Do same using pyvo/astroquery API had it been a VO service"
   ]
  },
  {
   "cell_type": "markdown",
   "id": "9707a591",
   "metadata": {},
   "source": [
    "## Get a catalog table's schema (columns and their metadata)"
   ]
  },
  {
   "cell_type": "code",
   "execution_count": 8,
   "id": "7ab3d8be",
   "metadata": {},
   "outputs": [
    {
     "data": {
      "text/plain": [
       "'allwise'"
      ]
     },
     "execution_count": 8,
     "metadata": {},
     "output_type": "execute_result"
    }
   ],
   "source": [
    "CATALOG_NAME = str(catalogs['catname'][0])  # pick the first catalog\n",
    "CATALOG_NAME"
   ]
  },
  {
   "cell_type": "code",
   "execution_count": 9,
   "id": "75e2d10e",
   "metadata": {},
   "outputs": [
    {
     "data": {
      "text/html": [
       "<div><i>Table length=303</i>\n",
       "<table id=\"table5062393296\" class=\"table-striped table-bordered table-condensed\">\n",
       "<thead><tr><th>cntr</th><th>name</th><th>dbtype</th><th>description</th><th>format</th><th>groupid</th><th>indx</th><th>irsadef</th><th>nulls</th><th>sel</th><th>tableflg</th><th>units</th></tr></thead>\n",
       "<thead><tr><th>int64</th><th>str13</th><th>str14</th><th>str1</th><th>str14</th><th>int64</th><th>str1</th><th>str1</th><th>str1</th><th>str1</th><th>int64</th><th>str1</th></tr></thead>\n",
       "<tr><td>0</td><td>_healpix_29</td><td>NUMBER(19)</td><td>--</td><td>NUMBER(19)</td><td>0</td><td>n</td><td>n</td><td>y</td><td>n</td><td>2</td><td>--</td></tr>\n",
       "<tr><td>1</td><td>designation</td><td>NVARCHAR2(255)</td><td>--</td><td>NVARCHAR2(255)</td><td>1</td><td>n</td><td>n</td><td>y</td><td>n</td><td>2</td><td>--</td></tr>\n",
       "<tr><td>2</td><td>ra</td><td>FLOAT(53)</td><td>--</td><td>FLOAT(53)</td><td>2</td><td>n</td><td>n</td><td>y</td><td>y</td><td>2</td><td>--</td></tr>\n",
       "<tr><td>3</td><td>dec</td><td>FLOAT(53)</td><td>--</td><td>FLOAT(53)</td><td>3</td><td>n</td><td>n</td><td>y</td><td>y</td><td>2</td><td>--</td></tr>\n",
       "<tr><td>4</td><td>sigra</td><td>FLOAT(53)</td><td>--</td><td>FLOAT(53)</td><td>4</td><td>n</td><td>n</td><td>y</td><td>n</td><td>2</td><td>--</td></tr>\n",
       "<tr><td>5</td><td>sigdec</td><td>FLOAT(53)</td><td>--</td><td>FLOAT(53)</td><td>5</td><td>n</td><td>n</td><td>y</td><td>n</td><td>2</td><td>--</td></tr>\n",
       "<tr><td>6</td><td>sigradec</td><td>FLOAT(53)</td><td>--</td><td>FLOAT(53)</td><td>6</td><td>n</td><td>n</td><td>y</td><td>n</td><td>2</td><td>--</td></tr>\n",
       "<tr><td>7</td><td>glon</td><td>FLOAT(53)</td><td>--</td><td>FLOAT(53)</td><td>7</td><td>n</td><td>n</td><td>y</td><td>n</td><td>2</td><td>--</td></tr>\n",
       "<tr><td>8</td><td>glat</td><td>FLOAT(53)</td><td>--</td><td>FLOAT(53)</td><td>8</td><td>n</td><td>n</td><td>y</td><td>n</td><td>2</td><td>--</td></tr>\n",
       "<tr><td>...</td><td>...</td><td>...</td><td>...</td><td>...</td><td>...</td><td>...</td><td>...</td><td>...</td><td>...</td><td>...</td><td>...</td></tr>\n",
       "<tr><td>293</td><td>k_m_2mass</td><td>FLOAT(53)</td><td>--</td><td>FLOAT(53)</td><td>293</td><td>n</td><td>n</td><td>y</td><td>n</td><td>2</td><td>--</td></tr>\n",
       "<tr><td>294</td><td>k_msig_2mass</td><td>FLOAT(53)</td><td>--</td><td>FLOAT(53)</td><td>294</td><td>n</td><td>n</td><td>y</td><td>n</td><td>2</td><td>--</td></tr>\n",
       "<tr><td>295</td><td>x</td><td>FLOAT(53)</td><td>--</td><td>FLOAT(53)</td><td>295</td><td>n</td><td>n</td><td>y</td><td>n</td><td>2</td><td>--</td></tr>\n",
       "<tr><td>296</td><td>y</td><td>FLOAT(53)</td><td>--</td><td>FLOAT(53)</td><td>296</td><td>n</td><td>n</td><td>y</td><td>n</td><td>2</td><td>--</td></tr>\n",
       "<tr><td>297</td><td>z</td><td>NUMBER(19)</td><td>--</td><td>NUMBER(19)</td><td>297</td><td>n</td><td>n</td><td>y</td><td>n</td><td>2</td><td>--</td></tr>\n",
       "<tr><td>298</td><td>spt_ind</td><td>NUMBER(19)</td><td>--</td><td>NUMBER(19)</td><td>298</td><td>n</td><td>n</td><td>y</td><td>n</td><td>2</td><td>--</td></tr>\n",
       "<tr><td>299</td><td>htm20</td><td>FLOAT(53)</td><td>--</td><td>FLOAT(53)</td><td>299</td><td>n</td><td>n</td><td>y</td><td>n</td><td>2</td><td>--</td></tr>\n",
       "<tr><td>300</td><td>Norder</td><td>NUMBER(3)</td><td>--</td><td>NUMBER(3)</td><td>300</td><td>n</td><td>n</td><td>y</td><td>n</td><td>2</td><td>--</td></tr>\n",
       "<tr><td>301</td><td>Dir</td><td>NUMBER(19)</td><td>--</td><td>NUMBER(19)</td><td>301</td><td>n</td><td>n</td><td>y</td><td>n</td><td>2</td><td>--</td></tr>\n",
       "<tr><td>302</td><td>Npix</td><td>NUMBER(19)</td><td>--</td><td>NUMBER(19)</td><td>302</td><td>n</td><td>n</td><td>y</td><td>n</td><td>2</td><td>--</td></tr>\n",
       "</table></div>"
      ],
      "text/plain": [
       "<Table length=303>\n",
       " cntr     name         dbtype     description ... nulls sel  tableflg units\n",
       "int64    str13         str14          str1    ...  str1 str1  int64    str1\n",
       "----- ------------ -------------- ----------- ... ----- ---- -------- -----\n",
       "    0  _healpix_29     NUMBER(19)          -- ...     y    n        2    --\n",
       "    1  designation NVARCHAR2(255)          -- ...     y    n        2    --\n",
       "    2           ra      FLOAT(53)          -- ...     y    y        2    --\n",
       "    3          dec      FLOAT(53)          -- ...     y    y        2    --\n",
       "    4        sigra      FLOAT(53)          -- ...     y    n        2    --\n",
       "    5       sigdec      FLOAT(53)          -- ...     y    n        2    --\n",
       "    6     sigradec      FLOAT(53)          -- ...     y    n        2    --\n",
       "    7         glon      FLOAT(53)          -- ...     y    n        2    --\n",
       "    8         glat      FLOAT(53)          -- ...     y    n        2    --\n",
       "  ...          ...            ...         ... ...   ...  ...      ...   ...\n",
       "  293    k_m_2mass      FLOAT(53)          -- ...     y    n        2    --\n",
       "  294 k_msig_2mass      FLOAT(53)          -- ...     y    n        2    --\n",
       "  295            x      FLOAT(53)          -- ...     y    n        2    --\n",
       "  296            y      FLOAT(53)          -- ...     y    n        2    --\n",
       "  297            z     NUMBER(19)          -- ...     y    n        2    --\n",
       "  298      spt_ind     NUMBER(19)          -- ...     y    n        2    --\n",
       "  299        htm20      FLOAT(53)          -- ...     y    n        2    --\n",
       "  300       Norder      NUMBER(3)          -- ...     y    n        2    --\n",
       "  301          Dir     NUMBER(19)          -- ...     y    n        2    --\n",
       "  302         Npix     NUMBER(19)          -- ...     y    n        2    --"
      ]
     },
     "execution_count": 9,
     "metadata": {},
     "output_type": "execute_result"
    }
   ],
   "source": [
    "response = requests.get(f\"{SERVICE_URL}/{SERVICE_API_ENDPOINT}/nph-dd\",\n",
    "                        params={\"catalog\": CATALOG_NAME})\n",
    "response.raise_for_status()\n",
    "\n",
    "schema = Table.read(response.text, format='ipac')\n",
    "schema"
   ]
  },
  {
   "cell_type": "code",
   "execution_count": 10,
   "id": "de9584ed",
   "metadata": {},
   "outputs": [],
   "source": [
    "# Do same using pyvo/astroquery API had it been a VO service"
   ]
  },
  {
   "cell_type": "markdown",
   "id": "a9c02733",
   "metadata": {},
   "source": [
    "## Get data from a catalog"
   ]
  },
  {
   "cell_type": "markdown",
   "id": "795cd058",
   "metadata": {},
   "source": [
    "### Spatial filter"
   ]
  },
  {
   "cell_type": "code",
   "execution_count": 11,
   "id": "f2a6a117",
   "metadata": {},
   "outputs": [],
   "source": [
    "SPATIAL_REGION = \"cone\"\n",
    "\n",
    "# change as needed\n",
    "TARGET = SkyCoord(\"19h17m32s 11d58m02s\")\n",
    "RADIUS = 50 * u.arcsec"
   ]
  },
  {
   "cell_type": "markdown",
   "id": "990e3d86",
   "metadata": {},
   "source": [
    "### Columns filter"
   ]
  },
  {
   "cell_type": "code",
   "execution_count": 12,
   "id": "cf0956ee",
   "metadata": {},
   "outputs": [],
   "source": [
    "COLUMNS = [\"ra\", \"dec\", \"cntr\", \"w1mpro\", \"w2mpro\", \"w1snr\", \"w2snr\"]"
   ]
  },
  {
   "cell_type": "markdown",
   "id": "66cbb9f0",
   "metadata": {},
   "source": [
    "### Rows filter"
   ]
  },
  {
   "cell_type": "code",
   "execution_count": 13,
   "id": "d30b2067",
   "metadata": {},
   "outputs": [],
   "source": [
    "ROW_FILTER = \"w1snr>10 & w2snr>10\""
   ]
  },
  {
   "cell_type": "markdown",
   "id": "9ff92007",
   "metadata": {},
   "source": [
    "### Query the catalog"
   ]
  },
  {
   "cell_type": "code",
   "execution_count": 14,
   "id": "c481a8bf",
   "metadata": {},
   "outputs": [
    {
     "data": {
      "text/html": [
       "<div><i>Table length=9</i>\n",
       "<table id=\"table5062242432\" class=\"table-striped table-bordered table-condensed\">\n",
       "<thead><tr><th>ra</th><th>dec</th><th>cntr</th><th>w1mpro</th><th>w1snr</th><th>w2mpro</th><th>w2snr</th></tr></thead>\n",
       "<thead><tr><th>float64</th><th>float64</th><th>int64</th><th>float64</th><th>float64</th><th>float64</th><th>float64</th></tr></thead>\n",
       "<tr><td>289.38283</td><td>11.9549882</td><td>2889112101351020632</td><td>10.225</td><td>35.3</td><td>10.126</td><td>25.2</td></tr>\n",
       "<tr><td>289.3874535</td><td>11.9562289</td><td>2889112101351020195</td><td>8.266</td><td>47.4</td><td>8.302</td><td>49.6</td></tr>\n",
       "<tr><td>289.374699</td><td>11.9608758</td><td>2889112101351028286</td><td>11.1</td><td>28.3</td><td>10.949</td><td>20.6</td></tr>\n",
       "<tr><td>289.3766927</td><td>11.9619711</td><td>2889112101351028307</td><td>11.151</td><td>29.9</td><td>10.979</td><td>21.2</td></tr>\n",
       "<tr><td>289.3952792</td><td>11.9704945</td><td>2889112101351029534</td><td>12.353</td><td>22.7</td><td>11.652</td><td>23.7</td></tr>\n",
       "<tr><td>289.3710908</td><td>11.9740983</td><td>2889112101351028612</td><td>11.755</td><td>18.6</td><td>11.742</td><td>22.4</td></tr>\n",
       "<tr><td>289.3857219</td><td>11.9795382</td><td>2889112101351028215</td><td>10.72</td><td>35.4</td><td>10.823</td><td>42.5</td></tr>\n",
       "<tr><td>289.3740138</td><td>11.9747719</td><td>2889112101351028631</td><td>11.667</td><td>20.1</td><td>11.447</td><td>26.5</td></tr>\n",
       "<tr><td>289.3787859</td><td>11.9792457</td><td>2889112101351028164</td><td>11.217</td><td>19.4</td><td>10.934</td><td>18.9</td></tr>\n",
       "</table></div>"
      ],
      "text/plain": [
       "<Table length=9>\n",
       "     ra        dec             cntr         w1mpro  w1snr   w2mpro  w2snr \n",
       "  float64    float64          int64        float64 float64 float64 float64\n",
       "----------- ---------- ------------------- ------- ------- ------- -------\n",
       "  289.38283 11.9549882 2889112101351020632  10.225    35.3  10.126    25.2\n",
       "289.3874535 11.9562289 2889112101351020195   8.266    47.4   8.302    49.6\n",
       " 289.374699 11.9608758 2889112101351028286    11.1    28.3  10.949    20.6\n",
       "289.3766927 11.9619711 2889112101351028307  11.151    29.9  10.979    21.2\n",
       "289.3952792 11.9704945 2889112101351029534  12.353    22.7  11.652    23.7\n",
       "289.3710908 11.9740983 2889112101351028612  11.755    18.6  11.742    22.4\n",
       "289.3857219 11.9795382 2889112101351028215   10.72    35.4  10.823    42.5\n",
       "289.3740138 11.9747719 2889112101351028631  11.667    20.1  11.447    26.5\n",
       "289.3787859 11.9792457 2889112101351028164  11.217    19.4  10.934    18.9"
      ]
     },
     "execution_count": 14,
     "metadata": {},
     "output_type": "execute_result"
    }
   ],
   "source": [
    "response = requests.get(f\"{SERVICE_URL}/{SERVICE_API_ENDPOINT}/nph-query\",\n",
    "                        params={\"catalog\": CATALOG_NAME,\n",
    "                                \"selcols\": \",\".join(COLUMNS),\n",
    "                                \"spatial\": SPATIAL_REGION,\n",
    "                                \"objstr\": f\"{TARGET.to_string(\"hmsdms\")} equ j2000\",\n",
    "                                \"radius\": RADIUS.value,\n",
    "                                \"radunits\": RADIUS.unit.name,\n",
    "                                \"constraints\": ROW_FILTER,\n",
    "                                })\n",
    "response.raise_for_status()\n",
    "\n",
    "data = Table.read(response.text, format='ipac')\n",
    "data"
   ]
  },
  {
   "cell_type": "code",
   "execution_count": 15,
   "id": "c41205fb",
   "metadata": {},
   "outputs": [],
   "source": [
    "# Do same using pyvo/astroquery API had it been a VO service"
   ]
  },
  {
   "cell_type": "code",
   "execution_count": null,
   "id": "e1e7b589",
   "metadata": {},
   "outputs": [],
   "source": []
  }
 ],
 "metadata": {
  "kernelspec": {
   "display_name": "irsa-tutorials-2025-09-14",
   "language": "python",
   "name": "python3"
  },
  "language_info": {
   "codemirror_mode": {
    "name": "ipython",
    "version": 3
   },
   "file_extension": ".py",
   "mimetype": "text/x-python",
   "name": "python",
   "nbconvert_exporter": "python",
   "pygments_lexer": "ipython3",
   "version": "3.12.11"
  }
 },
 "nbformat": 4,
 "nbformat_minor": 5
}
