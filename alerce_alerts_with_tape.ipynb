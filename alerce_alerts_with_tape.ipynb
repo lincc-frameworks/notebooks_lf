{
 "cells": [
  {
   "cell_type": "code",
   "execution_count": 9,
   "metadata": {},
   "outputs": [],
   "source": [
    "from tape import Ensemble, ColumnMapper\n",
    "import matplotlib.pyplot as plt\n",
    "import numpy as np"
   ]
  },
  {
   "cell_type": "code",
   "execution_count": 2,
   "metadata": {},
   "outputs": [
    {
     "name": "stderr",
     "output_type": "stream",
     "text": [
      "/astro/users/brantd/.conda/envs/py310/lib/python3.10/site-packages/dask/dataframe/core.py:5214: UserWarning: New index has same name as existing, this is a no-op.\n",
      "  warnings.warn(\n"
     ]
    },
    {
     "data": {
      "text/plain": [
       "<tape.ensemble.Ensemble at 0x7ff39ca1fdc0>"
      ]
     },
     "execution_count": 2,
     "metadata": {},
     "output_type": "execute_result"
    }
   ],
   "source": [
    "datapath = \"/astro/store/epyc3/data3/alerce_alerts/parquet/\"\n",
    "\n",
    "ens = Ensemble()\n",
    "\n",
    "colmap = ColumnMapper(id_col=\"oid\",\n",
    "                      time_col=\"mjd\",\n",
    "                      flux_col=\"magpsf_corr\",\n",
    "                      err_col=\"sigmapsf_corr_ext\",\n",
    "                      band_col=\"fid\")\n",
    "ens.from_parquet(source_file=datapath+\"source/lcs_000*.parquet\",\n",
    "                 #object_file=datapath+\"object/*.parquet\",\n",
    "                 column_mapper=colmap,\n",
    "                 sort=True)\n",
    "\n",
    "ens.calc_nobs()"
   ]
  },
  {
   "cell_type": "code",
   "execution_count": 3,
   "metadata": {},
   "outputs": [
    {
     "data": {
      "text/plain": [
       "100000"
      ]
     },
     "execution_count": 3,
     "metadata": {},
     "output_type": "execute_result"
    }
   ],
   "source": [
    "print(len(ens._object))"
   ]
  },
  {
   "cell_type": "code",
   "execution_count": 15,
   "metadata": {},
   "outputs": [
    {
     "name": "stdout",
     "output_type": "stream",
     "text": [
      "unique_lengths: 1242\n"
     ]
    },
    {
     "data": {
      "image/png": "[encoded data removed]",
      "text/plain": [
       "<Figure size 640x480 with 1 Axes>"
      ]
     },
     "metadata": {},
     "output_type": "display_data"
    }
   ],
   "source": [
    "nobs_data = ens._object[\"nobs_total\"].values.compute()\n",
    "binwidth=10\n",
    "plt.hist(nobs_data, bins=np.arange(min(nobs_data), max(nobs_data) + binwidth, binwidth))\n",
    "plt.xlim(0,300)\n",
    "\n",
    "print(f\"unique_lengths: {len(np.unique(nobs_data))}\")"
   ]
  },
  {
   "cell_type": "code",
   "execution_count": null,
   "metadata": {},
   "outputs": [],
   "source": []
  }
 ],
 "metadata": {
  "kernelspec": {
   "display_name": "Doug's Python 3.10",
   "language": "python",
   "name": "brantd_py310"
  },
  "language_info": {
   "codemirror_mode": {
    "name": "ipython",
    "version": 3
   },
   "file_extension": ".py",
   "mimetype": "text/x-python",
   "name": "python",
   "nbconvert_exporter": "python",
   "pygments_lexer": "ipython3",
   "version": "3.10.9"
  },
  "orig_nbformat": 4,
  "vscode": {
   "interpreter": {
    "hash": "17e1bcdca8f8ad795004d645488d78988630919486c00fed58d3a3cad0d83109"
   }
  }
 },
 "nbformat": 4,
 "nbformat_minor": 2
}
