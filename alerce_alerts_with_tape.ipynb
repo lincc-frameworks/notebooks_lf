{
 "cells": [
  {
   "cell_type": "code",
   "execution_count": 1,
   "metadata": {},
   "outputs": [],
   "source": [
    "from tape import Ensemble, ColumnMapper\n",
    "import matplotlib.pyplot as plt\n",
    "import numpy as np"
   ]
  },
  {
   "cell_type": "code",
   "execution_count": 2,
   "metadata": {},
   "outputs": [
    {
     "name": "stderr",
     "output_type": "stream",
     "text": [
      "/astro/users/brantd/.conda/envs/py310/lib/python3.10/site-packages/dask/dataframe/core.py:5214: UserWarning: New index has same name as existing, this is a no-op.\n",
      "  warnings.warn(\n"
     ]
    },
    {
     "data": {
      "text/plain": [
       "<tape.ensemble.Ensemble at 0x7fe52e106dd0>"
      ]
     },
     "execution_count": 2,
     "metadata": {},
     "output_type": "execute_result"
    }
   ],
   "source": [
    "datapath = \"/astro/store/epyc3/data3/alerce_alerts/parquet/\"\n",
    "\n",
    "names = []\n",
    "for i in range(12,36):\n",
    "    name = datapath+f\"source/lcs_00{i}.parquet\"\n",
    "    names.append(name)\n",
    "\n",
    "ens = Ensemble()\n",
    "\n",
    "colmap = ColumnMapper(id_col=\"oid\",\n",
    "                      time_col=\"mjd\",\n",
    "                      flux_col=\"magpsf_corr\",\n",
    "                      err_col=\"sigmapsf_corr_ext\",\n",
    "                      band_col=\"fid\")\n",
    "ens.from_parquet(source_file=names,\n",
    "                #source_file=datapath+\"source/lcs_000*.parquet\",\n",
    "                 #object_file=datapath+\"object/*.parquet\",\n",
    "                 column_mapper=colmap,\n",
    "                 sort=True)\n",
    "\n",
    "ens.query(\"fid == 1\", table=\"source\").prune(30)\n",
    "ens.calc_nobs()"
   ]
  },
  {
   "cell_type": "code",
   "execution_count": 7,
   "metadata": {},
   "outputs": [
    {
     "data": {
      "text/html": [
       "<div>\n",
       "<style scoped>\n",
       "    .dataframe tbody tr th:only-of-type {\n",
       "        vertical-align: middle;\n",
       "    }\n",
       "\n",
       "    .dataframe tbody tr th {\n",
       "        vertical-align: top;\n",
       "    }\n",
       "\n",
       "    .dataframe thead th {\n",
       "        text-align: right;\n",
       "    }\n",
       "</style>\n",
       "<table border=\"1\" class=\"dataframe\">\n",
       "  <thead>\n",
       "    <tr style=\"text-align: right;\">\n",
       "      <th></th>\n",
       "      <th>candid</th>\n",
       "      <th>mjd</th>\n",
       "      <th>fid</th>\n",
       "      <th>pid</th>\n",
       "      <th>diffmaglim</th>\n",
       "      <th>isdiffpos</th>\n",
       "      <th>nid</th>\n",
       "      <th>ra</th>\n",
       "      <th>dec</th>\n",
       "      <th>magpsf</th>\n",
       "      <th>...</th>\n",
       "      <th>rfid</th>\n",
       "      <th>magpsf_corr</th>\n",
       "      <th>sigmapsf_corr</th>\n",
       "      <th>sigmapsf_corr_ext</th>\n",
       "      <th>corrected</th>\n",
       "      <th>dubious</th>\n",
       "      <th>parent_candid</th>\n",
       "      <th>has_stamp</th>\n",
       "      <th>step_id_corr</th>\n",
       "      <th>provenance</th>\n",
       "    </tr>\n",
       "    <tr>\n",
       "      <th>oid</th>\n",
       "      <th></th>\n",
       "      <th></th>\n",
       "      <th></th>\n",
       "      <th></th>\n",
       "      <th></th>\n",
       "      <th></th>\n",
       "      <th></th>\n",
       "      <th></th>\n",
       "      <th></th>\n",
       "      <th></th>\n",
       "      <th></th>\n",
       "      <th></th>\n",
       "      <th></th>\n",
       "      <th></th>\n",
       "      <th></th>\n",
       "      <th></th>\n",
       "      <th></th>\n",
       "      <th></th>\n",
       "      <th></th>\n",
       "      <th></th>\n",
       "      <th></th>\n",
       "    </tr>\n",
       "  </thead>\n",
       "  <tbody>\n",
       "    <tr>\n",
       "      <th>ZTF17aaaaaes</th>\n",
       "      <td>592485571615010000</td>\n",
       "      <td>58346.485579</td>\n",
       "      <td>1</td>\n",
       "      <td>592485571615</td>\n",
       "      <td>20.317383</td>\n",
       "      <td>-1</td>\n",
       "      <td>592</td>\n",
       "      <td>77.541663</td>\n",
       "      <td>47.395851</td>\n",
       "      <td>18.893904</td>\n",
       "      <td>...</td>\n",
       "      <td>743120116.0</td>\n",
       "      <td>17.318604</td>\n",
       "      <td>0.031352</td>\n",
       "      <td>0.034675</td>\n",
       "      <td>True</td>\n",
       "      <td>False</td>\n",
       "      <td>6.155120e+17</td>\n",
       "      <td>False</td>\n",
       "      <td>bulk_1.0.0</td>\n",
       "      <td>survey_1</td>\n",
       "    </tr>\n",
       "    <tr>\n",
       "      <th>ZTF17aaaaaes</th>\n",
       "      <td>596476901615015003</td>\n",
       "      <td>58350.476910</td>\n",
       "      <td>1</td>\n",
       "      <td>596476901615</td>\n",
       "      <td>20.636425</td>\n",
       "      <td>1</td>\n",
       "      <td>596</td>\n",
       "      <td>77.541832</td>\n",
       "      <td>47.395970</td>\n",
       "      <td>18.224588</td>\n",
       "      <td>...</td>\n",
       "      <td>743120116.0</td>\n",
       "      <td>16.762804</td>\n",
       "      <td>0.027860</td>\n",
       "      <td>0.029240</td>\n",
       "      <td>True</td>\n",
       "      <td>False</td>\n",
       "      <td>6.255132e+17</td>\n",
       "      <td>False</td>\n",
       "      <td>bulk_1.0.0</td>\n",
       "      <td>survey_1</td>\n",
       "    </tr>\n",
       "    <tr>\n",
       "      <th>ZTF17aaaaaes</th>\n",
       "      <td>598393291615010001</td>\n",
       "      <td>58352.393299</td>\n",
       "      <td>1</td>\n",
       "      <td>598393291615</td>\n",
       "      <td>19.920400</td>\n",
       "      <td>-1</td>\n",
       "      <td>598</td>\n",
       "      <td>77.541896</td>\n",
       "      <td>47.396056</td>\n",
       "      <td>19.067700</td>\n",
       "      <td>...</td>\n",
       "      <td>NaN</td>\n",
       "      <td>17.281603</td>\n",
       "      <td>0.040068</td>\n",
       "      <td>0.042549</td>\n",
       "      <td>True</td>\n",
       "      <td>False</td>\n",
       "      <td>6.255132e+17</td>\n",
       "      <td>False</td>\n",
       "      <td>bulk_1.0.0</td>\n",
       "      <td>survey_1</td>\n",
       "    </tr>\n",
       "    <tr>\n",
       "      <th>ZTF17aaaaaes</th>\n",
       "      <td>609512141615015002</td>\n",
       "      <td>58363.512141</td>\n",
       "      <td>1</td>\n",
       "      <td>609512141615</td>\n",
       "      <td>19.504436</td>\n",
       "      <td>1</td>\n",
       "      <td>609</td>\n",
       "      <td>77.541850</td>\n",
       "      <td>47.396120</td>\n",
       "      <td>18.268097</td>\n",
       "      <td>...</td>\n",
       "      <td>743120116.0</td>\n",
       "      <td>16.773958</td>\n",
       "      <td>0.037734</td>\n",
       "      <td>0.038786</td>\n",
       "      <td>True</td>\n",
       "      <td>False</td>\n",
       "      <td>6.255132e+17</td>\n",
       "      <td>False</td>\n",
       "      <td>bulk_1.0.0</td>\n",
       "      <td>survey_1</td>\n",
       "    </tr>\n",
       "    <tr>\n",
       "      <th>ZTF17aaaaaes</th>\n",
       "      <td>610471361615015000</td>\n",
       "      <td>58364.471366</td>\n",
       "      <td>1</td>\n",
       "      <td>610471361615</td>\n",
       "      <td>19.858070</td>\n",
       "      <td>1</td>\n",
       "      <td>610</td>\n",
       "      <td>77.541825</td>\n",
       "      <td>47.396166</td>\n",
       "      <td>18.039780</td>\n",
       "      <td>...</td>\n",
       "      <td>743120116.0</td>\n",
       "      <td>16.711610</td>\n",
       "      <td>0.043024</td>\n",
       "      <td>0.043850</td>\n",
       "      <td>True</td>\n",
       "      <td>False</td>\n",
       "      <td>6.255132e+17</td>\n",
       "      <td>False</td>\n",
       "      <td>bulk_1.0.0</td>\n",
       "      <td>survey_1</td>\n",
       "    </tr>\n",
       "  </tbody>\n",
       "</table>\n",
       "<p>5 rows × 30 columns</p>\n",
       "</div>"
      ],
      "text/plain": [
       "                          candid           mjd  fid           pid  diffmaglim  \\\n",
       "oid                                                                             \n",
       "ZTF17aaaaaes  592485571615010000  58346.485579    1  592485571615   20.317383   \n",
       "ZTF17aaaaaes  596476901615015003  58350.476910    1  596476901615   20.636425   \n",
       "ZTF17aaaaaes  598393291615010001  58352.393299    1  598393291615   19.920400   \n",
       "ZTF17aaaaaes  609512141615015002  58363.512141    1  609512141615   19.504436   \n",
       "ZTF17aaaaaes  610471361615015000  58364.471366    1  610471361615   19.858070   \n",
       "\n",
       "              isdiffpos  nid         ra        dec     magpsf  ...  \\\n",
       "oid                                                            ...   \n",
       "ZTF17aaaaaes         -1  592  77.541663  47.395851  18.893904  ...   \n",
       "ZTF17aaaaaes          1  596  77.541832  47.395970  18.224588  ...   \n",
       "ZTF17aaaaaes         -1  598  77.541896  47.396056  19.067700  ...   \n",
       "ZTF17aaaaaes          1  609  77.541850  47.396120  18.268097  ...   \n",
       "ZTF17aaaaaes          1  610  77.541825  47.396166  18.039780  ...   \n",
       "\n",
       "                     rfid  magpsf_corr  sigmapsf_corr  sigmapsf_corr_ext  \\\n",
       "oid                                                                        \n",
       "ZTF17aaaaaes  743120116.0    17.318604       0.031352           0.034675   \n",
       "ZTF17aaaaaes  743120116.0    16.762804       0.027860           0.029240   \n",
       "ZTF17aaaaaes          NaN    17.281603       0.040068           0.042549   \n",
       "ZTF17aaaaaes  743120116.0    16.773958       0.037734           0.038786   \n",
       "ZTF17aaaaaes  743120116.0    16.711610       0.043024           0.043850   \n",
       "\n",
       "              corrected dubious  parent_candid has_stamp  step_id_corr  \\\n",
       "oid                                                                      \n",
       "ZTF17aaaaaes       True   False   6.155120e+17     False    bulk_1.0.0   \n",
       "ZTF17aaaaaes       True   False   6.255132e+17     False    bulk_1.0.0   \n",
       "ZTF17aaaaaes       True   False   6.255132e+17     False    bulk_1.0.0   \n",
       "ZTF17aaaaaes       True   False   6.255132e+17     False    bulk_1.0.0   \n",
       "ZTF17aaaaaes       True   False   6.255132e+17     False    bulk_1.0.0   \n",
       "\n",
       "              provenance  \n",
       "oid                       \n",
       "ZTF17aaaaaes    survey_1  \n",
       "ZTF17aaaaaes    survey_1  \n",
       "ZTF17aaaaaes    survey_1  \n",
       "ZTF17aaaaaes    survey_1  \n",
       "ZTF17aaaaaes    survey_1  \n",
       "\n",
       "[5 rows x 30 columns]"
      ]
     },
     "execution_count": 7,
     "metadata": {},
     "output_type": "execute_result"
    }
   ],
   "source": [
    "ens._source.head(5)"
   ]
  },
  {
   "cell_type": "code",
   "execution_count": 4,
   "metadata": {},
   "outputs": [
    {
     "name": "stdout",
     "output_type": "stream",
     "text": [
      "117588\n"
     ]
    }
   ],
   "source": [
    "print(len(ens._object))"
   ]
  },
  {
   "cell_type": "code",
   "execution_count": 5,
   "metadata": {},
   "outputs": [
    {
     "name": "stdout",
     "output_type": "stream",
     "text": [
      "unique_lengths: 814\n"
     ]
    },
    {
     "data": {
      "image/png": "[encoded data removed]",
      "text/plain": [
       "<Figure size 640x480 with 1 Axes>"
      ]
     },
     "metadata": {},
     "output_type": "display_data"
    }
   ],
   "source": [
    "nobs_data = ens._object[\"nobs_total\"].values.compute()\n",
    "binwidth=10\n",
    "plt.hist(nobs_data, bins=np.arange(min(nobs_data), max(nobs_data) + binwidth, binwidth))\n",
    "plt.xlim(0,700)\n",
    "\n",
    "print(f\"unique_lengths: {len(np.unique(nobs_data))}\")"
   ]
  },
  {
   "cell_type": "code",
   "execution_count": null,
   "metadata": {},
   "outputs": [],
   "source": []
  }
 ],
 "metadata": {
  "kernelspec": {
   "display_name": "Doug's Python 3.10",
   "language": "python",
   "name": "brantd_py310"
  },
  "language_info": {
   "codemirror_mode": {
    "name": "ipython",
    "version": 3
   },
   "file_extension": ".py",
   "mimetype": "text/x-python",
   "name": "python",
   "nbconvert_exporter": "python",
   "pygments_lexer": "ipython3",
   "version": "3.10.9"
  },
  "orig_nbformat": 4,
  "vscode": {
   "interpreter": {
    "hash": "17e1bcdca8f8ad795004d645488d78988630919486c00fed58d3a3cad0d83109"
   }
  }
 },
 "nbformat": 4,
 "nbformat_minor": 2
}
