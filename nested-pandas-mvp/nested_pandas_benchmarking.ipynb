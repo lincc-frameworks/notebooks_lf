{
 "cells": [
  {
   "cell_type": "markdown",
   "id": "6a1c1980-c6a4-4f32-a46b-42261a671da1",
   "metadata": {},
   "source": [
    "# Benchmarking `Nested-Pandas` vs `Pandas`\n",
    "\n",
    "This notebook offers timing comparisions between the `Nested-Pandas` MVP Implementation and a `Pandas` equivalent workflow. \n",
    "\n",
    "\n",
    "Tested on a dummy dataset of 1000 Lightcurves with 1000 observations each."
   ]
  },
  {
   "cell_type": "code",
   "execution_count": 1,
   "id": "298ab3ff-7e85-4247-ae60-9d520d204b52",
   "metadata": {},
   "outputs": [],
   "source": [
    "from nested_pandas import NestedFrame, read_parquet\n",
    "from nested_pandas.utils import count_nested\n",
    "from nested_pandas.series import packer\n",
    "\n",
    "import pandas as pd\n",
    "import numpy as np\n",
    "\n",
    "from light_curve import Amplitude\n",
    "amplitude = Amplitude()"
   ]
  },
  {
   "cell_type": "markdown",
   "id": "fecf777e-813f-4c0e-bf88-3d522493b806",
   "metadata": {},
   "source": [
    "## Data Loading - Parquet Reading"
   ]
  },
  {
   "cell_type": "markdown",
   "id": "c8bd094a-f3a9-47b7-b01a-552cdfa783d7",
   "metadata": {},
   "source": [
    "### Pandas"
   ]
  },
  {
   "cell_type": "code",
   "execution_count": 2,
   "id": "87ada1f2-d161-4cc7-a04b-7de6acc70331",
   "metadata": {},
   "outputs": [
    {
     "name": "stdout",
     "output_type": "stream",
     "text": [
      "63.2 ms ± 524 µs per loop (mean ± std. dev. of 7 runs, 10 loops each)\n"
     ]
    }
   ],
   "source": [
    "%%timeit\n",
    "\n",
    "object = pd.read_parquet(\"objects.parquet\")\n",
    "source = pd.read_parquet(\"ztf_sources.parquet\").sort_index() # sorting the index is a more fair comparison"
   ]
  },
  {
   "cell_type": "markdown",
   "id": "448f0c08-a4a5-426a-a79a-0bae487d0e94",
   "metadata": {},
   "source": [
    "### Nested-Pandas"
   ]
  },
  {
   "cell_type": "code",
   "execution_count": 3,
   "id": "00b91000-8fb1-480e-a5db-3428fc10e4db",
   "metadata": {},
   "outputs": [
    {
     "name": "stdout",
     "output_type": "stream",
     "text": [
      "111 ms ± 355 µs per loop (mean ± std. dev. of 7 runs, 10 loops each)\n"
     ]
    }
   ],
   "source": [
    "%%timeit\n",
    "#Read in parquet data\n",
    "nf = read_parquet(\n",
    "data=\"objects.parquet\",\n",
    "to_pack={\"ztf_sources\": \"ztf_sources.parquet\"},  ##auto packs these source files\n",
    ")"
   ]
  },
  {
   "cell_type": "code",
   "execution_count": 4,
   "id": "1a62bd38-38ed-4e8e-9584-766b9f712bca",
   "metadata": {},
   "outputs": [],
   "source": [
    "# actually load the data\n",
    "object = pd.read_parquet(\"objects.parquet\")\n",
    "source = pd.read_parquet(\"ztf_sources.parquet\")\n",
    "\n",
    "source_sorted = pd.read_parquet(\"ztf_sources.parquet\").sort_index()\n",
    "\n",
    "nf = read_parquet(\n",
    "data=\"objects.parquet\",\n",
    "to_pack={\"ztf_sources\": \"ztf_sources.parquet\"},  ##auto packs these source files\n",
    ")"
   ]
  },
  {
   "cell_type": "markdown",
   "id": "062f437d-439e-49c1-957e-737fef54105f",
   "metadata": {},
   "source": [
    "### Bottleneck: Index Sorting\n",
    "\n",
    "Index sorting is a well-known slow operation in Pandas, we currently do it implicitly in packing operations. Dask motivates doing it in almost all cases at scale (outside of having divisions pre-calculated), so the one-time upfront cost for Nested-Pandas seems to be more reasonable."
   ]
  },
  {
   "cell_type": "code",
   "execution_count": 5,
   "id": "4db84e2b-ace5-4067-b418-838829eb0dab",
   "metadata": {},
   "outputs": [
    {
     "name": "stdout",
     "output_type": "stream",
     "text": [
      "19.4 ms ± 43.3 µs per loop (mean ± std. dev. of 7 runs, 100 loops each)\n"
     ]
    }
   ],
   "source": [
    "%%timeit\n",
    "source = pd.read_parquet(\"ztf_sources.parquet\")"
   ]
  },
  {
   "cell_type": "code",
   "execution_count": 6,
   "id": "f6d726b8-204f-43ee-b0a1-ea7a9400a752",
   "metadata": {},
   "outputs": [
    {
     "name": "stdout",
     "output_type": "stream",
     "text": [
      "CPU times: user 62.7 ms, sys: 10 ms, total: 72.8 ms\n",
      "Wall time: 64.7 ms\n"
     ]
    }
   ],
   "source": [
    "%%time\n",
    "source_sorted = pd.read_parquet(\"ztf_sources.parquet\").sort_index() # sorting the index is a more fair comparison"
   ]
  },
  {
   "cell_type": "markdown",
   "id": "e68980d8-32b4-4721-b1f1-9f4e1b35414b",
   "metadata": {},
   "source": [
    "#### Factor of ~3x slowdown in packing operation depending on sorted state"
   ]
  },
  {
   "cell_type": "code",
   "execution_count": 7,
   "id": "f590a147-7cf7-4a91-8a53-d946bafc23e4",
   "metadata": {},
   "outputs": [
    {
     "name": "stdout",
     "output_type": "stream",
     "text": [
      "88.2 ms ± 84 µs per loop (mean ± std. dev. of 7 runs, 10 loops each)\n"
     ]
    }
   ],
   "source": [
    "%%timeit\n",
    "packer.pack_flat(source)"
   ]
  },
  {
   "cell_type": "code",
   "execution_count": 8,
   "id": "5974abc5-5a01-41a7-9cc9-2b5b3b189c9b",
   "metadata": {},
   "outputs": [
    {
     "name": "stdout",
     "output_type": "stream",
     "text": [
      "27.2 ms ± 52.1 µs per loop (mean ± std. dev. of 7 runs, 10 loops each)\n"
     ]
    }
   ],
   "source": [
    "%%timeit\n",
    "packer.pack_flat(source_sorted)"
   ]
  },
  {
   "cell_type": "markdown",
   "id": "6f062108-82f6-4f2a-af46-eac8aafce50c",
   "metadata": {},
   "source": [
    "## Filtering"
   ]
  },
  {
   "cell_type": "markdown",
   "id": "f5e0fa6b-df1b-4975-b272-e4511d2aea4f",
   "metadata": {},
   "source": [
    "### Pandas"
   ]
  },
  {
   "cell_type": "code",
   "execution_count": 9,
   "id": "b3662cb1-9238-4aaa-bd07-196a91a07161",
   "metadata": {},
   "outputs": [
    {
     "name": "stdout",
     "output_type": "stream",
     "text": [
      "22.5 ms ± 339 µs per loop (mean ± std. dev. of 7 runs, 10 loops each)\n"
     ]
    }
   ],
   "source": [
    "%%timeit\n",
    "filtered_object = object.query(\"ra > 10.0\")\n",
    "\n",
    "#sync to source\n",
    "filtered_source = filtered_object[[]].join(source, how=\"left\")"
   ]
  },
  {
   "cell_type": "markdown",
   "id": "c458d0ef-748a-4ec2-bdd8-76d8c4292122",
   "metadata": {},
   "source": [
    "### Nested-Pandas"
   ]
  },
  {
   "cell_type": "code",
   "execution_count": 10,
   "id": "64b48454-4e0a-4a67-8a26-bc9ca0e2e3a4",
   "metadata": {},
   "outputs": [
    {
     "name": "stdout",
     "output_type": "stream",
     "text": [
      "5.19 ms ± 8.36 µs per loop (mean ± std. dev. of 7 runs, 100 loops each)\n"
     ]
    }
   ],
   "source": [
    "%%timeit\n",
    "nf.query(\"ra > 10.0\")"
   ]
  },
  {
   "cell_type": "markdown",
   "id": "0a61424c-cd53-4d01-a46d-3e6b7b812d01",
   "metadata": {},
   "source": [
    "## Utility Operations - Calculating Total Number of Observations"
   ]
  },
  {
   "cell_type": "code",
   "execution_count": 11,
   "id": "e3b1f018-0bc7-4836-b8a7-8958eef64533",
   "metadata": {},
   "outputs": [
    {
     "data": {
      "text/html": [
       "<div>\n",
       "<style scoped>\n",
       "    .dataframe tbody tr th:only-of-type {\n",
       "        vertical-align: middle;\n",
       "    }\n",
       "\n",
       "    .dataframe tbody tr th {\n",
       "        vertical-align: top;\n",
       "    }\n",
       "\n",
       "    .dataframe thead th {\n",
       "        text-align: right;\n",
       "    }\n",
       "</style>\n",
       "<table border=\"1\" class=\"dataframe\">\n",
       "  <thead>\n",
       "    <tr style=\"text-align: right;\">\n",
       "      <th></th>\n",
       "      <th>ra</th>\n",
       "      <th>dec</th>\n",
       "      <th>ztf_sources</th>\n",
       "      <th>n_ztf_sources</th>\n",
       "    </tr>\n",
       "  </thead>\n",
       "  <tbody>\n",
       "    <tr>\n",
       "      <th>0</th>\n",
       "      <td>17.447868</td>\n",
       "      <td>35.547046</td>\n",
       "      <td>mjd        flux band\n",
       "0     8.420511...</td>\n",
       "      <td>1000</td>\n",
       "    </tr>\n",
       "    <tr>\n",
       "      <th>1</th>\n",
       "      <td>1.020437</td>\n",
       "      <td>4.353613</td>\n",
       "      <td>mjd        flux band\n",
       "0    14.143429...</td>\n",
       "      <td>1000</td>\n",
       "    </tr>\n",
       "    <tr>\n",
       "      <th>2</th>\n",
       "      <td>3.695975</td>\n",
       "      <td>31.130105</td>\n",
       "      <td>mjd        flux band\n",
       "0     7.190259...</td>\n",
       "      <td>1000</td>\n",
       "    </tr>\n",
       "    <tr>\n",
       "      <th>3</th>\n",
       "      <td>13.242558</td>\n",
       "      <td>6.099142</td>\n",
       "      <td>mjd        flux band\n",
       "0     1.708140...</td>\n",
       "      <td>1000</td>\n",
       "    </tr>\n",
       "    <tr>\n",
       "      <th>4</th>\n",
       "      <td>2.744142</td>\n",
       "      <td>48.444456</td>\n",
       "      <td>mjd        flux band\n",
       "0    18.837824...</td>\n",
       "      <td>1000</td>\n",
       "    </tr>\n",
       "    <tr>\n",
       "      <th>...</th>\n",
       "      <td>...</td>\n",
       "      <td>...</td>\n",
       "      <td>...</td>\n",
       "      <td>...</td>\n",
       "    </tr>\n",
       "    <tr>\n",
       "      <th>995</th>\n",
       "      <td>6.547263</td>\n",
       "      <td>40.249140</td>\n",
       "      <td>mjd        flux band\n",
       "0     4.055585...</td>\n",
       "      <td>1000</td>\n",
       "    </tr>\n",
       "    <tr>\n",
       "      <th>996</th>\n",
       "      <td>18.391919</td>\n",
       "      <td>17.643616</td>\n",
       "      <td>mjd        flux band\n",
       "0    10.358167...</td>\n",
       "      <td>1000</td>\n",
       "    </tr>\n",
       "    <tr>\n",
       "      <th>997</th>\n",
       "      <td>18.587638</td>\n",
       "      <td>46.568135</td>\n",
       "      <td>mjd        flux band\n",
       "0     3.871603...</td>\n",
       "      <td>1000</td>\n",
       "    </tr>\n",
       "    <tr>\n",
       "      <th>998</th>\n",
       "      <td>10.871655</td>\n",
       "      <td>6.719466</td>\n",
       "      <td>mjd        flux band\n",
       "0     0.886458...</td>\n",
       "      <td>1000</td>\n",
       "    </tr>\n",
       "    <tr>\n",
       "      <th>999</th>\n",
       "      <td>15.466982</td>\n",
       "      <td>13.620714</td>\n",
       "      <td>mjd        flux band\n",
       "0    15.703350...</td>\n",
       "      <td>1000</td>\n",
       "    </tr>\n",
       "  </tbody>\n",
       "</table>\n",
       "<p>1000 rows × 4 columns</p>\n",
       "</div>"
      ],
      "text/plain": [
       "            ra        dec                                        ztf_sources  \\\n",
       "0    17.447868  35.547046             mjd        flux band\n",
       "0     8.420511...   \n",
       "1     1.020437   4.353613             mjd        flux band\n",
       "0    14.143429...   \n",
       "2     3.695975  31.130105             mjd        flux band\n",
       "0     7.190259...   \n",
       "3    13.242558   6.099142             mjd        flux band\n",
       "0     1.708140...   \n",
       "4     2.744142  48.444456             mjd        flux band\n",
       "0    18.837824...   \n",
       "..         ...        ...                                                ...   \n",
       "995   6.547263  40.249140             mjd        flux band\n",
       "0     4.055585...   \n",
       "996  18.391919  17.643616             mjd        flux band\n",
       "0    10.358167...   \n",
       "997  18.587638  46.568135             mjd        flux band\n",
       "0     3.871603...   \n",
       "998  10.871655   6.719466             mjd        flux band\n",
       "0     0.886458...   \n",
       "999  15.466982  13.620714             mjd        flux band\n",
       "0    15.703350...   \n",
       "\n",
       "     n_ztf_sources  \n",
       "0             1000  \n",
       "1             1000  \n",
       "2             1000  \n",
       "3             1000  \n",
       "4             1000  \n",
       "..             ...  \n",
       "995           1000  \n",
       "996           1000  \n",
       "997           1000  \n",
       "998           1000  \n",
       "999           1000  \n",
       "\n",
       "[1000 rows x 4 columns]"
      ]
     },
     "execution_count": 11,
     "metadata": {},
     "output_type": "execute_result"
    }
   ],
   "source": [
    "count_nested(nf, \"ztf_sources\")"
   ]
  },
  {
   "cell_type": "markdown",
   "id": "1de92596-b4ae-4673-a2a2-d881f17e28ca",
   "metadata": {},
   "source": [
    "### Pandas"
   ]
  },
  {
   "cell_type": "code",
   "execution_count": 12,
   "id": "d6b5979c-82f6-4dbb-947a-309bb0a9aef4",
   "metadata": {},
   "outputs": [
    {
     "name": "stdout",
     "output_type": "stream",
     "text": [
      "27 ms ± 109 µs per loop (mean ± std. dev. of 7 runs, 10 loops each)\n"
     ]
    }
   ],
   "source": [
    "%%timeit\n",
    "nobs = source.groupby(level=0).apply(lambda x: len(x))\n",
    "\n",
    "object.assign(nobs=nobs)"
   ]
  },
  {
   "cell_type": "markdown",
   "id": "abbcf355-763f-4d87-911c-3570ac40178e",
   "metadata": {},
   "source": [
    "### Nested-Pandas"
   ]
  },
  {
   "cell_type": "code",
   "execution_count": 13,
   "id": "10e00c75-701c-42bd-8dc0-717994cca3f6",
   "metadata": {},
   "outputs": [
    {
     "name": "stdout",
     "output_type": "stream",
     "text": [
      "10.1 ms ± 20.8 µs per loop (mean ± std. dev. of 7 runs, 100 loops each)\n"
     ]
    }
   ],
   "source": [
    "%%timeit\n",
    "count_nested(nf, \"ztf_sources\")"
   ]
  },
  {
   "cell_type": "markdown",
   "id": "7787ff58-be5d-4fbf-b734-1d55256b758a",
   "metadata": {},
   "source": [
    "## Utility Operations - Calculating Total Number of Observations By Band"
   ]
  },
  {
   "cell_type": "code",
   "execution_count": 14,
   "id": "bb122240-b9e1-40ca-bb9d-eb43c85cbc7c",
   "metadata": {},
   "outputs": [
    {
     "data": {
      "text/html": [
       "<div>\n",
       "<style scoped>\n",
       "    .dataframe tbody tr th:only-of-type {\n",
       "        vertical-align: middle;\n",
       "    }\n",
       "\n",
       "    .dataframe tbody tr th {\n",
       "        vertical-align: top;\n",
       "    }\n",
       "\n",
       "    .dataframe thead th {\n",
       "        text-align: right;\n",
       "    }\n",
       "</style>\n",
       "<table border=\"1\" class=\"dataframe\">\n",
       "  <thead>\n",
       "    <tr style=\"text-align: right;\">\n",
       "      <th></th>\n",
       "      <th>ra</th>\n",
       "      <th>dec</th>\n",
       "      <th>ztf_sources</th>\n",
       "      <th>n_ztf_sources_r</th>\n",
       "      <th>n_ztf_sources_g</th>\n",
       "    </tr>\n",
       "  </thead>\n",
       "  <tbody>\n",
       "    <tr>\n",
       "      <th>0</th>\n",
       "      <td>17.447868</td>\n",
       "      <td>35.547046</td>\n",
       "      <td>mjd        flux band\n",
       "0     8.420511...</td>\n",
       "      <td>507</td>\n",
       "      <td>493</td>\n",
       "    </tr>\n",
       "    <tr>\n",
       "      <th>1</th>\n",
       "      <td>1.020437</td>\n",
       "      <td>4.353613</td>\n",
       "      <td>mjd        flux band\n",
       "0    14.143429...</td>\n",
       "      <td>496</td>\n",
       "      <td>504</td>\n",
       "    </tr>\n",
       "    <tr>\n",
       "      <th>2</th>\n",
       "      <td>3.695975</td>\n",
       "      <td>31.130105</td>\n",
       "      <td>mjd        flux band\n",
       "0     7.190259...</td>\n",
       "      <td>496</td>\n",
       "      <td>504</td>\n",
       "    </tr>\n",
       "    <tr>\n",
       "      <th>3</th>\n",
       "      <td>13.242558</td>\n",
       "      <td>6.099142</td>\n",
       "      <td>mjd        flux band\n",
       "0     1.708140...</td>\n",
       "      <td>501</td>\n",
       "      <td>499</td>\n",
       "    </tr>\n",
       "    <tr>\n",
       "      <th>4</th>\n",
       "      <td>2.744142</td>\n",
       "      <td>48.444456</td>\n",
       "      <td>mjd        flux band\n",
       "0    18.837824...</td>\n",
       "      <td>501</td>\n",
       "      <td>499</td>\n",
       "    </tr>\n",
       "    <tr>\n",
       "      <th>...</th>\n",
       "      <td>...</td>\n",
       "      <td>...</td>\n",
       "      <td>...</td>\n",
       "      <td>...</td>\n",
       "      <td>...</td>\n",
       "    </tr>\n",
       "    <tr>\n",
       "      <th>995</th>\n",
       "      <td>6.547263</td>\n",
       "      <td>40.249140</td>\n",
       "      <td>mjd        flux band\n",
       "0     4.055585...</td>\n",
       "      <td>500</td>\n",
       "      <td>500</td>\n",
       "    </tr>\n",
       "    <tr>\n",
       "      <th>996</th>\n",
       "      <td>18.391919</td>\n",
       "      <td>17.643616</td>\n",
       "      <td>mjd        flux band\n",
       "0    10.358167...</td>\n",
       "      <td>497</td>\n",
       "      <td>503</td>\n",
       "    </tr>\n",
       "    <tr>\n",
       "      <th>997</th>\n",
       "      <td>18.587638</td>\n",
       "      <td>46.568135</td>\n",
       "      <td>mjd        flux band\n",
       "0     3.871603...</td>\n",
       "      <td>522</td>\n",
       "      <td>478</td>\n",
       "    </tr>\n",
       "    <tr>\n",
       "      <th>998</th>\n",
       "      <td>10.871655</td>\n",
       "      <td>6.719466</td>\n",
       "      <td>mjd        flux band\n",
       "0     0.886458...</td>\n",
       "      <td>453</td>\n",
       "      <td>547</td>\n",
       "    </tr>\n",
       "    <tr>\n",
       "      <th>999</th>\n",
       "      <td>15.466982</td>\n",
       "      <td>13.620714</td>\n",
       "      <td>mjd        flux band\n",
       "0    15.703350...</td>\n",
       "      <td>524</td>\n",
       "      <td>476</td>\n",
       "    </tr>\n",
       "  </tbody>\n",
       "</table>\n",
       "<p>1000 rows × 5 columns</p>\n",
       "</div>"
      ],
      "text/plain": [
       "            ra        dec                                        ztf_sources  \\\n",
       "0    17.447868  35.547046             mjd        flux band\n",
       "0     8.420511...   \n",
       "1     1.020437   4.353613             mjd        flux band\n",
       "0    14.143429...   \n",
       "2     3.695975  31.130105             mjd        flux band\n",
       "0     7.190259...   \n",
       "3    13.242558   6.099142             mjd        flux band\n",
       "0     1.708140...   \n",
       "4     2.744142  48.444456             mjd        flux band\n",
       "0    18.837824...   \n",
       "..         ...        ...                                                ...   \n",
       "995   6.547263  40.249140             mjd        flux band\n",
       "0     4.055585...   \n",
       "996  18.391919  17.643616             mjd        flux band\n",
       "0    10.358167...   \n",
       "997  18.587638  46.568135             mjd        flux band\n",
       "0     3.871603...   \n",
       "998  10.871655   6.719466             mjd        flux band\n",
       "0     0.886458...   \n",
       "999  15.466982  13.620714             mjd        flux band\n",
       "0    15.703350...   \n",
       "\n",
       "     n_ztf_sources_r  n_ztf_sources_g  \n",
       "0                507              493  \n",
       "1                496              504  \n",
       "2                496              504  \n",
       "3                501              499  \n",
       "4                501              499  \n",
       "..               ...              ...  \n",
       "995              500              500  \n",
       "996              497              503  \n",
       "997              522              478  \n",
       "998              453              547  \n",
       "999              524              476  \n",
       "\n",
       "[1000 rows x 5 columns]"
      ]
     },
     "execution_count": 14,
     "metadata": {},
     "output_type": "execute_result"
    }
   ],
   "source": [
    "count_nested(nf, \"ztf_sources\", by=\"band\", join=True)"
   ]
  },
  {
   "cell_type": "markdown",
   "id": "b82ec189-70a8-485a-8c5e-142fa96b7e5f",
   "metadata": {},
   "source": [
    "### Pandas"
   ]
  },
  {
   "cell_type": "code",
   "execution_count": 15,
   "id": "e6bc54f4-6411-43f9-b770-994856418688",
   "metadata": {},
   "outputs": [
    {
     "name": "stdout",
     "output_type": "stream",
     "text": [
      "513 ms ± 1.29 ms per loop (mean ± std. dev. of 7 runs, 1 loop each)\n"
     ]
    }
   ],
   "source": [
    "%%timeit\n",
    "band_counts = source.groupby(level=0).apply(lambda x: x[[\"band\"]].value_counts().reset_index()).pivot_table(values=\"count\", index=\"index\", columns=\"band\", aggfunc=\"sum\")\n",
    "object.join(band_counts[[\"g\",\"r\"]])"
   ]
  },
  {
   "cell_type": "markdown",
   "id": "87fe1f2f-549c-4e71-8e72-8de19f8804b0",
   "metadata": {},
   "source": [
    "### Nested-Pandas"
   ]
  },
  {
   "cell_type": "code",
   "execution_count": 16,
   "id": "9431fd7d-cbaf-4271-983a-16554eb18966",
   "metadata": {},
   "outputs": [
    {
     "name": "stdout",
     "output_type": "stream",
     "text": [
      "211 ms ± 2.63 ms per loop (mean ± std. dev. of 7 runs, 1 loop each)\n"
     ]
    }
   ],
   "source": [
    "%%timeit\n",
    "count_nested(nf, \"ztf_sources\", by=\"band\", join=True)"
   ]
  },
  {
   "cell_type": "markdown",
   "id": "7d7ae9ac-1d65-4621-890a-7eb86b8b0c21",
   "metadata": {},
   "source": [
    "## Applying Functions"
   ]
  },
  {
   "cell_type": "code",
   "execution_count": 17,
   "id": "0418850e-1b18-4eac-bb4d-ccdecdd35e70",
   "metadata": {},
   "outputs": [],
   "source": [
    "from light_curve import Amplitude\n",
    "amplitude = Amplitude()"
   ]
  },
  {
   "cell_type": "markdown",
   "id": "5430b94a-63d4-4a94-a7b9-0bb11af5e724",
   "metadata": {},
   "source": [
    "### Pandas"
   ]
  },
  {
   "cell_type": "code",
   "execution_count": 18,
   "id": "a11f1c2e-fc31-49a3-9fa7-d8e129d390bf",
   "metadata": {},
   "outputs": [
    {
     "name": "stdout",
     "output_type": "stream",
     "text": [
      "63.7 ms ± 270 µs per loop (mean ± std. dev. of 7 runs, 10 loops each)\n"
     ]
    }
   ],
   "source": [
    "%%timeit\n",
    "source.groupby(level=0).apply(lambda x: amplitude(np.array(x.mjd), np.array(x.flux)))"
   ]
  },
  {
   "cell_type": "markdown",
   "id": "a3d47bbb-c01d-410c-8ce4-c91ac813a0dc",
   "metadata": {},
   "source": [
    "### Nested-Pandas"
   ]
  },
  {
   "cell_type": "code",
   "execution_count": 19,
   "id": "394a47e0-3a6a-454d-a342-0acd4c418ace",
   "metadata": {},
   "outputs": [
    {
     "name": "stdout",
     "output_type": "stream",
     "text": [
      "16 ms ± 15.4 µs per loop (mean ± std. dev. of 7 runs, 100 loops each)\n"
     ]
    }
   ],
   "source": [
    "%%timeit\n",
    "nf.reduce(amplitude, \"ztf_sources.mjd\", \"ztf_sources.flux\")"
   ]
  },
  {
   "cell_type": "markdown",
   "id": "1294c1ab-ae87-44d6-9f23-c5db816cb097",
   "metadata": {},
   "source": [
    "## Full Workflow\n",
    "\n",
    "Note: The computational cost in this example is dominated by the by-band nobs calculation function."
   ]
  },
  {
   "cell_type": "markdown",
   "id": "e036d5fa-b822-4f04-a513-4b102ec5a0b0",
   "metadata": {},
   "source": [
    "### Pandas"
   ]
  },
  {
   "cell_type": "code",
   "execution_count": 21,
   "id": "73062290-daeb-4777-81ac-de16e91ec4be",
   "metadata": {},
   "outputs": [
    {
     "name": "stdout",
     "output_type": "stream",
     "text": [
      "603 ms ± 1.58 ms per loop (mean ± std. dev. of 7 runs, 1 loop each)\n"
     ]
    }
   ],
   "source": [
    "%%timeit\n",
    "\n",
    "# Read data\n",
    "object = pd.read_parquet(\"objects.parquet\")\n",
    "source = pd.read_parquet(\"ztf_sources.parquet\").sort_index()\n",
    "\n",
    "# Filter on object\n",
    "filtered_object = object.query(\"ra > 10.0\")\n",
    "#sync object to source --removes any index values of source not found in object\n",
    "filtered_source = filtered_object[[]].join(source, how=\"left\")\n",
    "\n",
    "# Count nobs and add it to the object table\n",
    "band_counts = source.groupby(level=0).apply(lambda x: x[[\"band\"]].value_counts().reset_index()).pivot_table(values=\"count\", index=\"index\", columns=\"band\", aggfunc=\"sum\")\n",
    "filtered_object = filtered_object.join(band_counts[[\"g\",\"r\"]])\n",
    "\n",
    "# Filter on our nobs\n",
    "filtered_object = filtered_object.query(\"g > 520\")\n",
    "filtered_source = filtered_object[[]].join(source, how=\"left\")\n",
    "\n",
    "# Calculate Amplitude\n",
    "filtered_source.groupby(level=0).apply(lambda x: amplitude(np.array(x.mjd), np.array(x.flux)))"
   ]
  },
  {
   "cell_type": "markdown",
   "id": "02eb153c-5acc-4b25-aec5-924ed275e982",
   "metadata": {},
   "source": [
    "### Nested-Pandas"
   ]
  },
  {
   "cell_type": "code",
   "execution_count": 22,
   "id": "63291ef9-58d5-4b98-a0b2-4a2ad476de1a",
   "metadata": {},
   "outputs": [
    {
     "name": "stdout",
     "output_type": "stream",
     "text": [
      "223 ms ± 1.89 ms per loop (mean ± std. dev. of 7 runs, 1 loop each)\n"
     ]
    }
   ],
   "source": [
    "%%timeit\n",
    "#Read in parquet data\n",
    "nf = read_parquet(\n",
    "data=\"objects.parquet\",\n",
    "to_pack={\"ztf_sources\": \"ztf_sources.parquet\"},  ##auto packs these source files\n",
    ")\n",
    "\n",
    "# Filter on object\n",
    "nf = nf.query(\"ra > 10.0\")\n",
    "\n",
    "# Count nobs and add it to the base layer\n",
    "nf = count_nested(nf, \"ztf_sources\", by=\"band\", join=True)\n",
    "\n",
    "# Filter on our nobs\n",
    "nf =nf.query(\"n_ztf_sources_g > 520\")\n",
    "\n",
    "# Calculate Amplitude\n",
    "nf.reduce(amplitude, \"ztf_sources.mjd\", \"ztf_sources.flux\")"
   ]
  },
  {
   "cell_type": "markdown",
   "id": "d9e29c05-7f50-4efd-85b4-b267754e4cea",
   "metadata": {},
   "source": [
    "## Full Workflow Without Counting By-Band"
   ]
  },
  {
   "cell_type": "markdown",
   "id": "a592be1f-09bc-4a5b-8c55-385251dff691",
   "metadata": {},
   "source": [
    "### Pandas"
   ]
  },
  {
   "cell_type": "code",
   "execution_count": 23,
   "id": "ec4a52fd-a92a-4f9f-9195-4611b9bb911d",
   "metadata": {},
   "outputs": [
    {
     "name": "stdout",
     "output_type": "stream",
     "text": [
      "139 ms ± 723 µs per loop (mean ± std. dev. of 7 runs, 10 loops each)\n"
     ]
    }
   ],
   "source": [
    "%%timeit\n",
    "\n",
    "# Read data\n",
    "object = pd.read_parquet(\"objects.parquet\")\n",
    "source = pd.read_parquet(\"ztf_sources.parquet\").sort_index()\n",
    "\n",
    "# Filter on object\n",
    "filtered_object = object.query(\"ra > 10.0\")\n",
    "#sync object to source --removes any index values of source not found in object\n",
    "filtered_source = filtered_object[[]].join(source, how=\"left\")\n",
    "\n",
    "# Count total nobs\n",
    "nobs = source.groupby(level=0).apply(lambda x: len(x))\n",
    "filtered_object.assign(nobs=nobs)\n",
    "\n",
    "# Calculate Amplitude\n",
    "filtered_source.groupby(level=0).apply(lambda x: amplitude(np.array(x.mjd), np.array(x.flux)))"
   ]
  },
  {
   "cell_type": "markdown",
   "id": "18a9a519-19d6-4801-a643-a880d807a115",
   "metadata": {},
   "source": [
    "### Nested-Pandas"
   ]
  },
  {
   "cell_type": "code",
   "execution_count": 24,
   "id": "10eeed6d-e52e-44d7-95c3-a2570c782d39",
   "metadata": {},
   "outputs": [
    {
     "name": "stdout",
     "output_type": "stream",
     "text": [
      "134 ms ± 541 µs per loop (mean ± std. dev. of 7 runs, 10 loops each)\n"
     ]
    }
   ],
   "source": [
    "%%timeit\n",
    "#Read in parquet data\n",
    "nf = read_parquet(\n",
    "data=\"objects.parquet\",\n",
    "to_pack={\"ztf_sources\": \"ztf_sources.parquet\"},  ##auto packs these source files\n",
    ")\n",
    "\n",
    "# Filter on object\n",
    "nf = nf.query(\"ra > 10.0\")\n",
    "\n",
    "# Count total nobs\n",
    "nf = count_nested(nf, \"ztf_sources\", by=None)\n",
    "\n",
    "# Calculate Amplitude\n",
    "nf.reduce(amplitude, \"ztf_sources.mjd\", \"ztf_sources.flux\")"
   ]
  },
  {
   "cell_type": "markdown",
   "id": "057891df-a18b-4808-9cc7-8d0a21586c4b",
   "metadata": {},
   "source": [
    "## Nested-Pandas Operations"
   ]
  },
  {
   "cell_type": "code",
   "execution_count": 25,
   "id": "260df2b4-d3a3-4600-8cef-fbff55bb614a",
   "metadata": {},
   "outputs": [
    {
     "name": "stdout",
     "output_type": "stream",
     "text": [
      "15.4 ms ± 109 µs per loop (mean ± std. dev. of 7 runs, 100 loops each)\n"
     ]
    }
   ],
   "source": [
    "%%timeit\n",
    "nf.ztf_sources.nest.to_flat()"
   ]
  },
  {
   "cell_type": "code",
   "execution_count": 26,
   "id": "ab562e9b-94e8-4a30-a28a-908405ec63a3",
   "metadata": {},
   "outputs": [
    {
     "name": "stdout",
     "output_type": "stream",
     "text": [
      "166 µs ± 1.47 µs per loop (mean ± std. dev. of 7 runs, 10,000 loops each)\n"
     ]
    }
   ],
   "source": [
    "%%timeit\n",
    "nf.ztf_sources.nest.to_lists()"
   ]
  },
  {
   "cell_type": "code",
   "execution_count": 27,
   "id": "2802ebab-e492-403d-9f01-de9e4f0a65d8",
   "metadata": {},
   "outputs": [
    {
     "name": "stdout",
     "output_type": "stream",
     "text": [
      "29.3 ms ± 365 µs per loop (mean ± std. dev. of 7 runs, 10 loops each)\n"
     ]
    }
   ],
   "source": [
    "%%timeit\n",
    "nf_object = NestedFrame(object)\n",
    "\n",
    "nf_object.add_nested(source_sorted, \"source\") # Having to sort does dramatically increase the cost of this"
   ]
  }
 ],
 "metadata": {
  "kernelspec": {
   "display_name": "Python 3 (ipykernel)",
   "language": "python",
   "name": "python3"
  },
  "language_info": {
   "codemirror_mode": {
    "name": "ipython",
    "version": 3
   },
   "file_extension": ".py",
   "mimetype": "text/x-python",
   "name": "python",
   "nbconvert_exporter": "python",
   "pygments_lexer": "ipython3",
   "version": "3.10.11"
  }
 },
 "nbformat": 4,
 "nbformat_minor": 5
}
