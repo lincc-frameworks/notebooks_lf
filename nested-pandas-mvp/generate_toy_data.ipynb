{
 "cells": [
  {
   "cell_type": "code",
   "execution_count": 61,
   "id": "2d596807-48d7-4b9e-832a-249cc1e7d660",
   "metadata": {},
   "outputs": [],
   "source": [
    "from nested_pandas import NestedFrame\n",
    "import pandas as pd\n",
    "import numpy as np\n",
    "import os"
   ]
  },
  {
   "cell_type": "code",
   "execution_count": 80,
   "id": "73b73c75-64a6-4454-8ef1-977f21930f60",
   "metadata": {},
   "outputs": [],
   "source": [
    "base_size=1000\n",
    "n1_size=1000000\n",
    "n2_size=300000\n",
    "\n",
    "base_data = {\"ra\": np.random.random(base_size)*20, \"dec\": np.random.random(base_size)*50}\n",
    "nested1_data = {\"mjd\":np.random.random(n1_size)*20, \"flux\": np.random.random(n1_size)*300, \n",
    "                \"band\":np.random.choice([\"r\",\"g\"], size=n1_size),\n",
    "                \"index\": np.array(range(0,n1_size)) % base_size}\n",
    "\n",
    "nested2_data = {\"mjd\":np.random.random(n2_size)*20, \"flux\": np.random.random(n2_size)*300, \n",
    "                \"band\":np.random.choice([\"g\",\"i\"], size=n2_size),\n",
    "                \"index\": np.array(range(0,n2_size)) % base_size}"
   ]
  },
  {
   "cell_type": "code",
   "execution_count": 81,
   "id": "4bda20e3-45ed-40d0-a623-c40cbc03ca82",
   "metadata": {},
   "outputs": [],
   "source": [
    " # Generate some test data\n",
    "\n",
    "\n",
    "base = pd.DataFrame(data=base_data)\n",
    "\n",
    "nested1 = pd.DataFrame(data=nested1_data).set_index(\"index\")\n",
    "\n",
    "nested2 = pd.DataFrame(data=nested2_data).set_index(\"index\")\n",
    "\n",
    "# Save to parquet\n",
    "base.to_parquet(\"objects.parquet\")\n",
    "nested1.to_parquet(\"ztf_sources.parquet\")\n",
    "nested2.to_parquet(\"ps1_sources.parquet\")"
   ]
  },
  {
   "cell_type": "code",
   "execution_count": 57,
   "id": "8073fae1-c5cf-4f20-9007-779e432e9b55",
   "metadata": {},
   "outputs": [
    {
     "data": {
      "text/html": [
       "<div>\n",
       "<style scoped>\n",
       "    .dataframe tbody tr th:only-of-type {\n",
       "        vertical-align: middle;\n",
       "    }\n",
       "\n",
       "    .dataframe tbody tr th {\n",
       "        vertical-align: top;\n",
       "    }\n",
       "\n",
       "    .dataframe thead th {\n",
       "        text-align: right;\n",
       "    }\n",
       "</style>\n",
       "<table border=\"1\" class=\"dataframe\">\n",
       "  <thead>\n",
       "    <tr style=\"text-align: right;\">\n",
       "      <th></th>\n",
       "      <th>mjd</th>\n",
       "      <th>flux</th>\n",
       "      <th>band</th>\n",
       "    </tr>\n",
       "    <tr>\n",
       "      <th>index</th>\n",
       "      <th></th>\n",
       "      <th></th>\n",
       "      <th></th>\n",
       "    </tr>\n",
       "  </thead>\n",
       "  <tbody>\n",
       "    <tr>\n",
       "      <th>0</th>\n",
       "      <td>6.072387</td>\n",
       "      <td>279.065569</td>\n",
       "      <td>g</td>\n",
       "    </tr>\n",
       "    <tr>\n",
       "      <th>1</th>\n",
       "      <td>7.423771</td>\n",
       "      <td>143.823652</td>\n",
       "      <td>g</td>\n",
       "    </tr>\n",
       "    <tr>\n",
       "      <th>2</th>\n",
       "      <td>0.576766</td>\n",
       "      <td>136.541176</td>\n",
       "      <td>i</td>\n",
       "    </tr>\n",
       "    <tr>\n",
       "      <th>3</th>\n",
       "      <td>13.261524</td>\n",
       "      <td>120.090341</td>\n",
       "      <td>g</td>\n",
       "    </tr>\n",
       "    <tr>\n",
       "      <th>4</th>\n",
       "      <td>4.741164</td>\n",
       "      <td>98.494030</td>\n",
       "      <td>g</td>\n",
       "    </tr>\n",
       "    <tr>\n",
       "      <th>...</th>\n",
       "      <td>...</td>\n",
       "      <td>...</td>\n",
       "      <td>...</td>\n",
       "    </tr>\n",
       "    <tr>\n",
       "      <th>95</th>\n",
       "      <td>8.883534</td>\n",
       "      <td>13.548509</td>\n",
       "      <td>i</td>\n",
       "    </tr>\n",
       "    <tr>\n",
       "      <th>96</th>\n",
       "      <td>19.754529</td>\n",
       "      <td>167.386562</td>\n",
       "      <td>i</td>\n",
       "    </tr>\n",
       "    <tr>\n",
       "      <th>97</th>\n",
       "      <td>10.069857</td>\n",
       "      <td>289.509918</td>\n",
       "      <td>i</td>\n",
       "    </tr>\n",
       "    <tr>\n",
       "      <th>98</th>\n",
       "      <td>1.498886</td>\n",
       "      <td>41.580981</td>\n",
       "      <td>i</td>\n",
       "    </tr>\n",
       "    <tr>\n",
       "      <th>99</th>\n",
       "      <td>5.534895</td>\n",
       "      <td>209.082392</td>\n",
       "      <td>i</td>\n",
       "    </tr>\n",
       "  </tbody>\n",
       "</table>\n",
       "<p>15000 rows × 3 columns</p>\n",
       "</div>"
      ],
      "text/plain": [
       "             mjd        flux band\n",
       "index                            \n",
       "0       6.072387  279.065569    g\n",
       "1       7.423771  143.823652    g\n",
       "2       0.576766  136.541176    i\n",
       "3      13.261524  120.090341    g\n",
       "4       4.741164   98.494030    g\n",
       "...          ...         ...  ...\n",
       "95      8.883534   13.548509    i\n",
       "96     19.754529  167.386562    i\n",
       "97     10.069857  289.509918    i\n",
       "98      1.498886   41.580981    i\n",
       "99      5.534895  209.082392    i\n",
       "\n",
       "[15000 rows x 3 columns]"
      ]
     },
     "execution_count": 57,
     "metadata": {},
     "output_type": "execute_result"
    }
   ],
   "source": [
    "nested2"
   ]
  },
  {
   "cell_type": "code",
   "execution_count": 33,
   "id": "f759f93b-a63f-4700-98b3-441ab5d1513e",
   "metadata": {},
   "outputs": [
    {
     "data": {
      "text/plain": [
       "array([ 0, 87, 57, 89, 77, 74, 39, 43, 39, 62, 34,  8, 66, 16, 81, 94,  9,\n",
       "       21, 58, 74, 94, 35, 72, 19, 20, 29, 24,  5, 73, 90, 29, 99, 58, 98,\n",
       "        6, 59, 46, 77,  8, 56, 16, 49, 94, 88, 18, 94,  3, 96, 71, 59, 18,\n",
       "       64, 57, 28, 22, 48, 13, 82, 96, 39, 89, 38, 52, 70, 47, 41, 23, 66,\n",
       "       36, 63, 95, 51,  9, 97, 71,  0, 33,  8, 34, 81, 83, 80, 15, 15, 28,\n",
       "       15, 14, 68, 65, 15, 71, 93, 32, 15, 50, 49, 60, 88, 42,  0])"
      ]
     },
     "execution_count": 33,
     "metadata": {},
     "output_type": "execute_result"
    }
   ],
   "source": [
    "np.random.choice(range(0,100), size=100)"
   ]
  },
  {
   "cell_type": "code",
   "execution_count": null,
   "id": "7e31ac26-07fe-4323-afe3-82c5e7709b27",
   "metadata": {},
   "outputs": [],
   "source": []
  }
 ],
 "metadata": {
  "kernelspec": {
   "display_name": "Python 3 (ipykernel)",
   "language": "python",
   "name": "python3"
  },
  "language_info": {
   "codemirror_mode": {
    "name": "ipython",
    "version": 3
   },
   "file_extension": ".py",
   "mimetype": "text/x-python",
   "name": "python",
   "nbconvert_exporter": "python",
   "pygments_lexer": "ipython3",
   "version": "3.10.11"
  }
 },
 "nbformat": 4,
 "nbformat_minor": 5
}
