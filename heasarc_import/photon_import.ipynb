{
 "cells": [
  {
   "cell_type": "markdown",
   "metadata": {},
   "source": [
    "# HEASARC Weekly Photon Dataset HATS Import"
   ]
  },
  {
   "cell_type": "markdown",
   "metadata": {},
   "source": [
    "Path to Data: https://heasarc.gsfc.nasa.gov/FTP/fermi/data/lat/weekly/photon/"
   ]
  },
  {
   "cell_type": "code",
   "execution_count": 2,
   "metadata": {},
   "outputs": [],
   "source": [
    "#pip install --upgrade hats-import"
   ]
  },
  {
   "cell_type": "code",
   "execution_count": 1,
   "metadata": {},
   "outputs": [],
   "source": [
    "# imports and paths\n",
    "from dask.distributed import Client\n",
    "from hats_import.pipeline import pipeline_with_client\n",
    "from hats_import.catalog.arguments import ImportArguments\n",
    "from astropy.io import fits\n",
    "from astropy.table import Table\n",
    "import glob\n",
    "\n",
    "\n",
    "epyc_path = \"/astro/store/epyc3/data3/hats/tmp/heasarc_photon/weekly/photon\"\n",
    "single_fits = \"lat_photon_weekly_w009_p305_v001.fits\"\n",
    "output_path = \"/astro/store/epyc3/data3/hats/catalogs/heasarc_photon\"\n",
    "\n",
    "subset = glob.glob(epyc_path+\"/lat_photon_weekly_w01*.fits\")"
   ]
  },
  {
   "cell_type": "code",
   "execution_count": 2,
   "metadata": {},
   "outputs": [
    {
     "name": "stdout",
     "output_type": "stream",
     "text": [
      "/data/epyc/users/brantd/notebooks_lf/heasarc_import\n"
     ]
    }
   ],
   "source": [
    "cd ~/epyc/users/brantd/notebooks_lf/heasarc_import"
   ]
  },
  {
   "cell_type": "code",
   "execution_count": 2,
   "metadata": {},
   "outputs": [],
   "source": [
    "import sys\n",
    "import os\n",
    "\n",
    "# Add the directory containing heasarc_reader.py to sys.path\n",
    "heasarc_reader_path = \"/astro/users/brantd/epyc/users/brantd/notebooks_lf/heasarc_import\"\n",
    "if heasarc_reader_path not in sys.path:\n",
    "    sys.path.append(heasarc_reader_path)\n",
    "\n",
    "from heasarc_reader import HeasarcReader"
   ]
  },
  {
   "cell_type": "code",
   "execution_count": 3,
   "metadata": {},
   "outputs": [],
   "source": [
    "# Import arguments, using custom HeasarcReader\n",
    "\n",
    "args = ImportArguments(\n",
    "    sort_columns=\"EVENT_ID\",\n",
    "    ra_column=\"RA\",\n",
    "    dec_column=\"DEC\",\n",
    "    input_file_list=subset,\n",
    "    file_reader=HeasarcReader(),\n",
    "    output_artifact_name=\"heasarc_photon_cat\",\n",
    "    output_path=f\"{output_path}/heasarc_photon_small\",\n",
    ")\n"
   ]
  },
  {
   "cell_type": "code",
   "execution_count": 5,
   "metadata": {},
   "outputs": [
    {
     "name": "stderr",
     "output_type": "stream",
     "text": [
      "/astro/users/brantd/.local/lib/python3.9/site-packages/distributed/node.py:182: UserWarning: Port 8787 is already in use.\n",
      "Perhaps you already have a cluster running?\n",
      "Hosting the HTTP server on port 43923 instead\n",
      "  warnings.warn(\n"
     ]
    },
    {
     "data": {
      "application/vnd.jupyter.widget-view+json": {
       "model_id": "1b27f681207341f9a2c9d5ac7b107a54",
       "version_major": 2,
       "version_minor": 0
      },
      "text/plain": [
       "Planning  :   0%|          | 0/4 [00:00<?, ?it/s]"
      ]
     },
     "metadata": {},
     "output_type": "display_data"
    },
    {
     "data": {
      "application/vnd.jupyter.widget-view+json": {
       "model_id": "2e9de8dddcb2476380db17aefb26e049",
       "version_major": 2,
       "version_minor": 0
      },
      "text/plain": [
       "Mapping   :   0%|          | 0/10 [00:00<?, ?it/s]"
      ]
     },
     "metadata": {},
     "output_type": "display_data"
    },
    {
     "data": {
      "application/vnd.jupyter.widget-view+json": {
       "model_id": "2eb5c1a566cb4a788b75350493ba22ac",
       "version_major": 2,
       "version_minor": 0
      },
      "text/plain": [
       "Binning   :   0%|          | 0/2 [00:00<?, ?it/s]"
      ]
     },
     "metadata": {},
     "output_type": "display_data"
    },
    {
     "data": {
      "application/vnd.jupyter.widget-view+json": {
       "model_id": "b15e6c0c7ae543bd9fc8aeb3f830b27d",
       "version_major": 2,
       "version_minor": 0
      },
      "text/plain": [
       "Splitting :   0%|          | 0/10 [00:00<?, ?it/s]"
      ]
     },
     "metadata": {},
     "output_type": "display_data"
    },
    {
     "data": {
      "application/vnd.jupyter.widget-view+json": {
       "model_id": "96eb087e192e43119fa9b2c1dad7770b",
       "version_major": 2,
       "version_minor": 0
      },
      "text/plain": [
       "Reducing  :   0%|          | 0/15 [00:00<?, ?it/s]"
      ]
     },
     "metadata": {},
     "output_type": "display_data"
    },
    {
     "data": {
      "application/vnd.jupyter.widget-view+json": {
       "model_id": "82a8fb07b3cd49c8b0e0a67d6507bbd1",
       "version_major": 2,
       "version_minor": 0
      },
      "text/plain": [
       "Finishing :   0%|          | 0/4 [00:00<?, ?it/s]"
      ]
     },
     "metadata": {},
     "output_type": "display_data"
    }
   ],
   "source": [
    "# Run the import pipeline\n",
    "with Client(n_workers=2, memory_limit=\"24GB\") as client:\n",
    "    pipeline_with_client(args, client)"
   ]
  },
  {
   "cell_type": "code",
   "execution_count": null,
   "metadata": {},
   "outputs": [],
   "source": []
  }
 ],
 "metadata": {
  "kernelspec": {
   "display_name": "LSDB March 2025",
   "language": "python",
   "name": "lsdb_latest"
  },
  "language_info": {
   "codemirror_mode": {
    "name": "ipython",
    "version": 3
   },
   "file_extension": ".py",
   "mimetype": "text/x-python",
   "name": "python",
   "nbconvert_exporter": "python",
   "pygments_lexer": "ipython3",
   "version": "3.9.5"
  }
 },
 "nbformat": 4,
 "nbformat_minor": 2
}
