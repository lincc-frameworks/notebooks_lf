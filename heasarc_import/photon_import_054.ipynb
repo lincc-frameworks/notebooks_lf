{
 "cells": [
  {
   "cell_type": "markdown",
   "metadata": {},
   "source": [
    "# HEASARC Weekly Photon Dataset HATS Import"
   ]
  },
  {
   "cell_type": "markdown",
   "metadata": {},
   "source": [
    "Path to Data: https://heasarc.gsfc.nasa.gov/FTP/fermi/data/lat/weekly/photon/\n",
    "\n",
    "Notebook Creation Date: May 30, 2025"
   ]
  },
  {
   "cell_type": "markdown",
   "metadata": {},
   "source": [
    "### Installation shorthands"
   ]
  },
  {
   "cell_type": "code",
   "execution_count": null,
   "metadata": {},
   "outputs": [],
   "source": [
    "#pip install --upgrade hats"
   ]
  },
  {
   "cell_type": "code",
   "execution_count": null,
   "metadata": {},
   "outputs": [],
   "source": [
    "#cd ../../hats-import"
   ]
  },
  {
   "cell_type": "code",
   "execution_count": null,
   "metadata": {},
   "outputs": [],
   "source": [
    "#pip install -e ."
   ]
  },
  {
   "cell_type": "markdown",
   "metadata": {},
   "source": [
    "### Imports and path setup"
   ]
  },
  {
   "cell_type": "code",
   "execution_count": null,
   "metadata": {},
   "outputs": [],
   "source": [
    "from dask.distributed import Client\n",
    "from hats_import.pipeline import pipeline_with_client\n",
    "from hats_import.catalog.arguments import ImportArguments\n",
    "from astropy.io import fits\n",
    "from astropy.table import Table\n",
    "import glob\n",
    "\n",
    "\n",
    "# Set data paths\n",
    "epyc_path = \"/astro/store/epyc3/data3/hats/tmp/heasarc_photon/weekly/photon\"  # path to input data\n",
    "output_path = \"/astro/store/epyc3/data3/hats/catalogs/heasarc_photon\"  # path of output catalog\n",
    "#single_fits = \"lat_photon_weekly_w009_p305_v001.fits\"\n",
    "\n",
    "# Gather file lists for import\n",
    "subset = glob.glob(epyc_path+\"/lat_photon_weekly_w01*.fits\")  # small subset for testing\n",
    "full = glob.glob(epyc_path+\"/lat_photon_weekly_*.fits\")  # full weekly"
   ]
  },
  {
   "cell_type": "markdown",
   "metadata": {},
   "source": [
    "## hats-import setup and execution"
   ]
  },
  {
   "cell_type": "code",
   "execution_count": null,
   "metadata": {},
   "outputs": [],
   "source": [
    "# Import arguments, using custom HeasarcReader\n",
    "\n",
    "args = ImportArguments(\n",
    "    sort_columns=\"EVENT_ID\",\n",
    "    ra_column=\"RA\",\n",
    "    dec_column=\"DEC\",\n",
    "    input_file_list=full,\n",
    "    file_reader=\"fits\",\n",
    "    output_artifact_name=\"fermi_photon_catalog_with_index\",\n",
    "    output_path=f\"{output_path}/heasarc_photon\",\n",
    "    dask_tmp=\"/astro/users/brantd/epyc/users/brantd/tmp/\",  # setting a tmp directory in a known folder for dask is recommended when running on a distributed system\n",
    ")\n"
   ]
  },
  {
   "cell_type": "code",
   "execution_count": null,
   "metadata": {
    "tags": []
   },
   "outputs": [],
   "source": [
    "# Run the import pipeline\n",
    "with Client(n_workers=25, threads_per_worker=1, memory_limit=\"6GB\") as client:\n",
    "    \n",
    "    pipeline_with_client(args, client)"
   ]
  },
  {
   "cell_type": "markdown",
   "metadata": {},
   "source": [
    "## Viewing the resulting hats catalog"
   ]
  },
  {
   "cell_type": "code",
   "execution_count": null,
   "metadata": {},
   "outputs": [],
   "source": [
    "import lsdb\n",
    "\n",
    "fermi_hats = lsdb.read_hats(f\"{output_path}/heasarc_photon/fermi_photon_catalog\")\n",
    "fermi_hats.plot_pixels()\n",
    "fermi_hats"
   ]
  },
  {
   "cell_type": "code",
   "execution_count": null,
   "metadata": {},
   "outputs": [],
   "source": [
    "fermi_hats.head(10)"
   ]
  },
  {
   "cell_type": "code",
   "execution_count": null,
   "metadata": {},
   "outputs": [],
   "source": []
  }
 ],
 "metadata": {
  "kernelspec": {
   "display_name": "LSDB March 2025",
   "language": "python",
   "name": "lsdb_latest"
  },
  "language_info": {
   "codemirror_mode": {
    "name": "ipython",
    "version": 3
   },
   "file_extension": ".py",
   "mimetype": "text/x-python",
   "name": "python",
   "nbconvert_exporter": "python",
   "pygments_lexer": "ipython3",
   "version": "3.11.11"
  }
 },
 "nbformat": 4,
 "nbformat_minor": 4
}
