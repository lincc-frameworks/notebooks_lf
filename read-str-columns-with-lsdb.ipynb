{
 "cells": [
  {
   "cell_type": "code",
   "execution_count": 1,
   "id": "04b0ae45-650b-4b31-9c39-451c23df4174",
   "metadata": {},
   "outputs": [],
   "source": [
    "import lsdb"
   ]
  },
  {
   "cell_type": "code",
   "execution_count": 2,
   "id": "f469721d-731c-44c2-b7c7-6feb7529a6e1",
   "metadata": {},
   "outputs": [],
   "source": [
    "PATH = '/ocean/projects/phy210048p/shared/hipscat/catalogs/ztf_axs/ztf_source'\n",
    "COLUMNS = ['band']"
   ]
  },
  {
   "cell_type": "code",
   "execution_count": 3,
   "id": "28559a4a-1a22-47be-9c1f-96049c809a1e",
   "metadata": {},
   "outputs": [
    {
     "name": "stdout",
     "output_type": "stream",
     "text": [
      "529 ms ± 2.54 ms per loop (mean ± std. dev. of 7 runs, 1 loop each)\n"
     ]
    }
   ],
   "source": [
    "%%timeit catalog = lsdb.read_hipscat(PATH, columns=COLUMNS)\n",
    "catalog._ddf.partitions[0]['band'].max().compute()"
   ]
  },
  {
   "cell_type": "code",
   "execution_count": 4,
   "id": "050ed494-ae79-4525-a8ad-0d228e04de2e",
   "metadata": {},
   "outputs": [
    {
     "name": "stdout",
     "output_type": "stream",
     "text": [
      "384 ms ± 3.88 ms per loop (mean ± std. dev. of 7 runs, 1 loop each)\n"
     ]
    }
   ],
   "source": [
    "%%timeit catalog = lsdb.read_hipscat(PATH, columns=COLUMNS, dtype_backend='pyarrow')\n",
    "catalog._ddf.partitions[0]['band'].max().compute()"
   ]
  },
  {
   "cell_type": "code",
   "execution_count": null,
   "id": "07ec6239-bc6a-4a2a-a3a4-2176df4424e2",
   "metadata": {},
   "outputs": [],
   "source": []
  }
 ],
 "metadata": {
  "kernelspec": {
   "display_name": "tape-venv-python3.9",
   "language": "python",
   "name": "tape-venv-python3.9"
  },
  "language_info": {
   "codemirror_mode": {
    "name": "ipython",
    "version": 3
   },
   "file_extension": ".py",
   "mimetype": "text/x-python",
   "name": "python",
   "nbconvert_exporter": "python",
   "pygments_lexer": "ipython3",
   "version": "3.9.13"
  }
 },
 "nbformat": 4,
 "nbformat_minor": 5
}
