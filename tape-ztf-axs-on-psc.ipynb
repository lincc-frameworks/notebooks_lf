{
 "cells": [
  {
   "cell_type": "markdown",
   "id": "56cbfe9a-3967-46b2-b726-97b417c83700",
   "metadata": {},
   "source": [
    "This NB runs a simple TAPE analysis with `ztf_axs` dataset on Bridges2 cluster of PSC. You could run it starting a Juoyter Lab on https://ondemand.bridges2.psc.edu with default parameters (single RM node, time limit is up to 24 hours).\n",
    "\n",
    "**Note**: you cannot run it on a small node (such as RM-small), because while is doesn't serve Dask workers itself, it still requires some large ammount of RAM for something."
   ]
  },
  {
   "cell_type": "code",
   "execution_count": 1,
   "id": "abcab045-5f69-4d26-a603-764edacf2b05",
   "metadata": {},
   "outputs": [],
   "source": [
    "import numpy as np\n",
    "import time\n",
    "\n",
    "from dask.distributed import Client\n",
    "from dask_jobqueue import SLURMCluster\n",
    "from tape import Ensemble, ColumnMapper"
   ]
  },
  {
   "cell_type": "code",
   "execution_count": 2,
   "id": "a51a724d-5808-4c30-b52a-7f63b5a5a4aa",
   "metadata": {},
   "outputs": [
    {
     "data": {
      "text/html": [
       "<div>\n",
       "    <div style=\"width: 24px; height: 24px; background-color: #e1e1e1; border: 3px solid #9D9D9D; border-radius: 5px; position: absolute;\"> </div>\n",
       "    <div style=\"margin-left: 48px;\">\n",
       "        <h3 style=\"margin-bottom: 0px;\">Client</h3>\n",
       "        <p style=\"color: #9D9D9D; margin-bottom: 0px;\">Client-30dbdd0e-7f34-11ee-bd1d-437997d16124</p>\n",
       "        <table style=\"width: 100%; text-align: left;\">\n",
       "\n",
       "        <tr>\n",
       "        \n",
       "            <td style=\"text-align: left;\"><strong>Connection method:</strong> Cluster object</td>\n",
       "            <td style=\"text-align: left;\"><strong>Cluster type:</strong> dask_jobqueue.SLURMCluster</td>\n",
       "        \n",
       "        </tr>\n",
       "\n",
       "        \n",
       "            <tr>\n",
       "                <td style=\"text-align: left;\">\n",
       "                    <strong>Dashboard: </strong> <a href=\"http://10.8.10.12:8787/status\" target=\"_blank\">http://10.8.10.12:8787/status</a>\n",
       "                </td>\n",
       "                <td style=\"text-align: left;\"></td>\n",
       "            </tr>\n",
       "        \n",
       "\n",
       "        </table>\n",
       "\n",
       "        \n",
       "\n",
       "        \n",
       "            <details>\n",
       "            <summary style=\"margin-bottom: 20px;\"><h3 style=\"display: inline;\">Cluster Info</h3></summary>\n",
       "            <div class=\"jp-RenderedHTMLCommon jp-RenderedHTML jp-mod-trusted jp-OutputArea-output\">\n",
       "    <div style=\"width: 24px; height: 24px; background-color: #e1e1e1; border: 3px solid #9D9D9D; border-radius: 5px; position: absolute;\">\n",
       "    </div>\n",
       "    <div style=\"margin-left: 48px;\">\n",
       "        <h3 style=\"margin-bottom: 0px; margin-top: 0px;\">SLURMCluster</h3>\n",
       "        <p style=\"color: #9D9D9D; margin-bottom: 0px;\">4d7986e2</p>\n",
       "        <table style=\"width: 100%; text-align: left;\">\n",
       "            <tr>\n",
       "                <td style=\"text-align: left;\">\n",
       "                    <strong>Dashboard:</strong> <a href=\"http://10.8.10.12:8787/status\" target=\"_blank\">http://10.8.10.12:8787/status</a>\n",
       "                </td>\n",
       "                <td style=\"text-align: left;\">\n",
       "                    <strong>Workers:</strong> 0\n",
       "                </td>\n",
       "            </tr>\n",
       "            <tr>\n",
       "                <td style=\"text-align: left;\">\n",
       "                    <strong>Total threads:</strong> 0\n",
       "                </td>\n",
       "                <td style=\"text-align: left;\">\n",
       "                    <strong>Total memory:</strong> 0 B\n",
       "                </td>\n",
       "            </tr>\n",
       "            \n",
       "        </table>\n",
       "\n",
       "        <details>\n",
       "            <summary style=\"margin-bottom: 20px;\">\n",
       "                <h3 style=\"display: inline;\">Scheduler Info</h3>\n",
       "            </summary>\n",
       "\n",
       "            <div style=\"\">\n",
       "    <div>\n",
       "        <div style=\"width: 24px; height: 24px; background-color: #FFF7E5; border: 3px solid #FF6132; border-radius: 5px; position: absolute;\"> </div>\n",
       "        <div style=\"margin-left: 48px;\">\n",
       "            <h3 style=\"margin-bottom: 0px;\">Scheduler</h3>\n",
       "            <p style=\"color: #9D9D9D; margin-bottom: 0px;\">Scheduler-cfa3353e-6a5d-44aa-8d38-4da4e6403948</p>\n",
       "            <table style=\"width: 100%; text-align: left;\">\n",
       "                <tr>\n",
       "                    <td style=\"text-align: left;\">\n",
       "                        <strong>Comm:</strong> tcp://10.8.10.12:41693\n",
       "                    </td>\n",
       "                    <td style=\"text-align: left;\">\n",
       "                        <strong>Workers:</strong> 0\n",
       "                    </td>\n",
       "                </tr>\n",
       "                <tr>\n",
       "                    <td style=\"text-align: left;\">\n",
       "                        <strong>Dashboard:</strong> <a href=\"http://10.8.10.12:8787/status\" target=\"_blank\">http://10.8.10.12:8787/status</a>\n",
       "                    </td>\n",
       "                    <td style=\"text-align: left;\">\n",
       "                        <strong>Total threads:</strong> 0\n",
       "                    </td>\n",
       "                </tr>\n",
       "                <tr>\n",
       "                    <td style=\"text-align: left;\">\n",
       "                        <strong>Started:</strong> Just now\n",
       "                    </td>\n",
       "                    <td style=\"text-align: left;\">\n",
       "                        <strong>Total memory:</strong> 0 B\n",
       "                    </td>\n",
       "                </tr>\n",
       "            </table>\n",
       "        </div>\n",
       "    </div>\n",
       "\n",
       "    <details style=\"margin-left: 48px;\">\n",
       "        <summary style=\"margin-bottom: 20px;\">\n",
       "            <h3 style=\"display: inline;\">Workers</h3>\n",
       "        </summary>\n",
       "\n",
       "        \n",
       "\n",
       "    </details>\n",
       "</div>\n",
       "\n",
       "        </details>\n",
       "    </div>\n",
       "</div>\n",
       "            </details>\n",
       "        \n",
       "\n",
       "    </div>\n",
       "</div>"
      ],
      "text/plain": [
       "<Client: 'tcp://10.8.10.12:41693' processes=0 threads=0, memory=0 B>"
      ]
     },
     "execution_count": 2,
     "metadata": {},
     "output_type": "execute_result"
    }
   ],
   "source": [
    "cluster = SLURMCluster(\n",
    "    # Number of Dask workers per node\n",
    "    processes=1,\n",
    "    # Regular memory node type on PSC bridges2\n",
    "    queue=\"RM\",\n",
    "    # dask_jobqueue requires cores and memory to be specified\n",
    "    # We set them to match RM specs\n",
    "    cores=128,\n",
    "    memory=\"256GB\",\n",
    "    walltime=\"12:00:00\",\n",
    ")\n",
    "# Run multiple jobs\n",
    "cluster.scale(jobs=10)\n",
    "# Allow to run more jobs\n",
    "cluster.adapt(maximum_jobs=100)\n",
    "\n",
    "client = Client(cluster)\n",
    "client"
   ]
  },
  {
   "cell_type": "code",
   "execution_count": 3,
   "id": "55a06c5a-f97a-4dc4-9f6f-18eff5c7c4df",
   "metadata": {},
   "outputs": [
    {
     "name": "stdout",
     "output_type": "stream",
     "text": [
      "\n",
      "Copy-paste and run in your terminal:\n",
      "\n",
      "ssh -N -L 127.0.0.1:8787:10.8.10.12:8787 malanche@bridges2.psc.edu\n",
      "\n",
      "And open this URL in your browser to see the dashboard:\n",
      "http://127.0.0.1:8787/\n",
      "\n"
     ]
    }
   ],
   "source": [
    "# Make a command for dashboard ssh-tunneling\n",
    "\n",
    "import socket\n",
    "from getpass import getuser\n",
    "from urllib.parse import urlparse\n",
    "\n",
    "local_addr = '127.0.0.1:8787'\n",
    "remote_host = 'bridges2.psc.edu'\n",
    "\n",
    "with socket.socket(socket.AF_INET, socket.SOCK_DGRAM) as s:\n",
    "    s.connect(('1.1.1.1', 53))\n",
    "    ip = s.getsockname()[0]\n",
    "username = getuser()\n",
    "dashboard_port = urlparse(client.dashboard_link).port\n",
    "\n",
    "print(f'''\n",
    "Copy-paste and run in your terminal:\n",
    "\n",
    "ssh -N -L {local_addr}:{ip}:{dashboard_port} {username}@{remote_host}\n",
    "\n",
    "And open this URL in your browser to see the dashboard:\n",
    "http://{local_addr}/\n",
    "''')"
   ]
  },
  {
   "cell_type": "code",
   "execution_count": 4,
   "id": "475f4078-5a1a-46be-a682-1cc4ec478dd5",
   "metadata": {},
   "outputs": [],
   "source": [
    "start_time = time.monotonic()"
   ]
  },
  {
   "cell_type": "code",
   "execution_count": 5,
   "id": "3becf805-d615-42f0-be08-f5b570265046",
   "metadata": {},
   "outputs": [
    {
     "name": "stderr",
     "output_type": "stream",
     "text": [
      "/jet/home/malanche/.virtualenvs/tape/lib/python3.9/site-packages/distributed/client.py:3163: UserWarning: Sending large graph of size 33.25 MiB.\n",
      "This may cause some slowdown.\n",
      "Consider scattering data ahead of time and using futures.\n",
      "  warnings.warn(\n"
     ]
    },
    {
     "name": "stdout",
     "output_type": "stream",
     "text": [
      "CPU times: user 23.6 s, sys: 21.2 s, total: 44.8 s\n",
      "Wall time: 15min 26s\n"
     ]
    },
    {
     "name": "stderr",
     "output_type": "stream",
     "text": [
      "/jet/home/malanche/.virtualenvs/tape/lib/python3.9/site-packages/dask/dataframe/core.py:5400: UserWarning: New index has same name as existing, this is a no-op.\n",
      "  warnings.warn(\n",
      "/jet/home/malanche/.virtualenvs/tape/lib/python3.9/site-packages/dask/dataframe/core.py:5400: UserWarning: New index has same name as existing, this is a no-op.\n",
      "  warnings.warn(\n"
     ]
    },
    {
     "data": {
      "text/plain": [
       "<tape.ensemble.Ensemble at 0x14e89596c5e0>"
      ]
     },
     "execution_count": 5,
     "metadata": {},
     "output_type": "execute_result"
    }
   ],
   "source": [
    "%%time\n",
    "\n",
    "root_dir = '/ocean/projects/phy210048p/shared/hipscat/catalogs/ztf_axs'\n",
    "\n",
    "ens = Ensemble(client=client)\n",
    "ens.from_hipscat(\n",
    "    dir=root_dir,\n",
    "    source_subdir='ztf_source',\n",
    "    object_subdir='ztf_dr14',\n",
    "    sync_tables=False,\n",
    "    column_mapper=ColumnMapper(\n",
    "        id_col='ps1_objid',\n",
    "        time_col='mjd',\n",
    "        band_col='band',\n",
    "        flux_col='mag',\n",
    "        err_col='magerr',\n",
    "    ),\n",
    ")"
   ]
  },
  {
   "cell_type": "code",
   "execution_count": 6,
   "id": "a919a1e1-ac17-448f-8de9-cbaeabe4fa61",
   "metadata": {},
   "outputs": [
    {
     "name": "stderr",
     "output_type": "stream",
     "text": [
      "/jet/home/malanche/.virtualenvs/tape/lib/python3.9/site-packages/distributed/client.py:3163: UserWarning: Sending large graph of size 40.22 MiB.\n",
      "This may cause some slowdown.\n",
      "Consider scattering data ahead of time and using futures.\n",
      "  warnings.warn(\n",
      "/jet/home/malanche/.virtualenvs/tape/lib/python3.9/site-packages/distributed/client.py:3163: UserWarning: Sending large graph of size 10.57 GiB.\n",
      "This may cause some slowdown.\n",
      "Consider scattering data ahead of time and using futures.\n",
      "  warnings.warn(\n",
      "2023-11-09 15:47:42,330 - distributed.protocol.core - CRITICAL - Failed to Serialize\n",
      "Traceback (most recent call last):\n",
      "  File \"/jet/home/malanche/.virtualenvs/tape/lib/python3.9/site-packages/distributed/protocol/core.py\", line 109, in dumps\n",
      "    frames[0] = msgpack.dumps(msg, default=_encode_default, use_bin_type=True)\n",
      "  File \"/jet/home/malanche/.virtualenvs/tape/lib/python3.9/site-packages/msgpack/__init__.py\", line 36, in packb\n",
      "    return Packer(**kwargs).pack(o)\n",
      "  File \"msgpack/_packer.pyx\", line 294, in msgpack._cmsgpack.Packer.pack\n",
      "  File \"msgpack/_packer.pyx\", line 300, in msgpack._cmsgpack.Packer.pack\n",
      "  File \"msgpack/_packer.pyx\", line 297, in msgpack._cmsgpack.Packer.pack\n",
      "  File \"msgpack/_packer.pyx\", line 264, in msgpack._cmsgpack.Packer._pack\n",
      "  File \"msgpack/_packer.pyx\", line 231, in msgpack._cmsgpack.Packer._pack\n",
      "  File \"msgpack/_packer.pyx\", line 264, in msgpack._cmsgpack.Packer._pack\n",
      "  File \"msgpack/_packer.pyx\", line 202, in msgpack._cmsgpack.Packer._pack\n",
      "ValueError: bytes object is too large\n",
      "2023-11-09 15:47:42,339 - distributed.comm.utils - ERROR - bytes object is too large\n",
      "Traceback (most recent call last):\n",
      "  File \"/jet/home/malanche/.virtualenvs/tape/lib/python3.9/site-packages/distributed/comm/utils.py\", line 54, in _to_frames\n",
      "    return list(protocol.dumps(msg, **kwargs))\n",
      "  File \"/jet/home/malanche/.virtualenvs/tape/lib/python3.9/site-packages/distributed/protocol/core.py\", line 109, in dumps\n",
      "    frames[0] = msgpack.dumps(msg, default=_encode_default, use_bin_type=True)\n",
      "  File \"/jet/home/malanche/.virtualenvs/tape/lib/python3.9/site-packages/msgpack/__init__.py\", line 36, in packb\n",
      "    return Packer(**kwargs).pack(o)\n",
      "  File \"msgpack/_packer.pyx\", line 294, in msgpack._cmsgpack.Packer.pack\n",
      "  File \"msgpack/_packer.pyx\", line 300, in msgpack._cmsgpack.Packer.pack\n",
      "  File \"msgpack/_packer.pyx\", line 297, in msgpack._cmsgpack.Packer.pack\n",
      "  File \"msgpack/_packer.pyx\", line 264, in msgpack._cmsgpack.Packer._pack\n",
      "  File \"msgpack/_packer.pyx\", line 231, in msgpack._cmsgpack.Packer._pack\n",
      "  File \"msgpack/_packer.pyx\", line 264, in msgpack._cmsgpack.Packer._pack\n",
      "  File \"msgpack/_packer.pyx\", line 202, in msgpack._cmsgpack.Packer._pack\n",
      "ValueError: bytes object is too large\n",
      "2023-11-09 15:47:42,356 - distributed.batched - ERROR - Error in batched write\n",
      "Traceback (most recent call last):\n",
      "  File \"/jet/home/malanche/.virtualenvs/tape/lib/python3.9/site-packages/distributed/batched.py\", line 115, in _background_send\n",
      "    nbytes = yield coro\n",
      "  File \"/jet/home/malanche/.virtualenvs/tape/lib/python3.9/site-packages/tornado/gen.py\", line 767, in run\n",
      "    value = future.result()\n",
      "  File \"/jet/home/malanche/.virtualenvs/tape/lib/python3.9/site-packages/distributed/comm/tcp.py\", line 270, in write\n",
      "    frames = await to_frames(\n",
      "  File \"/jet/home/malanche/.virtualenvs/tape/lib/python3.9/site-packages/distributed/comm/utils.py\", line 70, in to_frames\n",
      "    return _to_frames()\n",
      "  File \"/jet/home/malanche/.virtualenvs/tape/lib/python3.9/site-packages/distributed/comm/utils.py\", line 54, in _to_frames\n",
      "    return list(protocol.dumps(msg, **kwargs))\n",
      "  File \"/jet/home/malanche/.virtualenvs/tape/lib/python3.9/site-packages/distributed/protocol/core.py\", line 109, in dumps\n",
      "    frames[0] = msgpack.dumps(msg, default=_encode_default, use_bin_type=True)\n",
      "  File \"/jet/home/malanche/.virtualenvs/tape/lib/python3.9/site-packages/msgpack/__init__.py\", line 36, in packb\n",
      "    return Packer(**kwargs).pack(o)\n",
      "  File \"msgpack/_packer.pyx\", line 294, in msgpack._cmsgpack.Packer.pack\n",
      "  File \"msgpack/_packer.pyx\", line 300, in msgpack._cmsgpack.Packer.pack\n",
      "  File \"msgpack/_packer.pyx\", line 297, in msgpack._cmsgpack.Packer.pack\n",
      "  File \"msgpack/_packer.pyx\", line 264, in msgpack._cmsgpack.Packer._pack\n",
      "  File \"msgpack/_packer.pyx\", line 231, in msgpack._cmsgpack.Packer._pack\n",
      "  File \"msgpack/_packer.pyx\", line 264, in msgpack._cmsgpack.Packer._pack\n",
      "  File \"msgpack/_packer.pyx\", line 202, in msgpack._cmsgpack.Packer._pack\n",
      "ValueError: bytes object is too large\n"
     ]
    },
    {
     "ename": "CancelledError",
     "evalue": "('query-index-dc155bc4e0b5b6ec2fe2e05d43c28f57', 1006)",
     "output_type": "error",
     "traceback": [
      "\u001b[0;31m---------------------------------------------------------------------------\u001b[0m",
      "\u001b[0;31mCancelledError\u001b[0m                            Traceback (most recent call last)",
      "File \u001b[0;32m<timed exec>:6\u001b[0m\n",
      "File \u001b[0;32m~/tape/src/tape/ensemble.py:905\u001b[0m, in \u001b[0;36mEnsemble.batch\u001b[0;34m(self, func, meta, use_map, compute, on, *args, **kwargs)\u001b[0m\n\u001b[1;32m    831\u001b[0m \u001b[38;5;28;01mdef\u001b[39;00m \u001b[38;5;21mbatch\u001b[39m(\u001b[38;5;28mself\u001b[39m, func, \u001b[38;5;241m*\u001b[39margs, meta\u001b[38;5;241m=\u001b[39m\u001b[38;5;28;01mNone\u001b[39;00m, use_map\u001b[38;5;241m=\u001b[39m\u001b[38;5;28;01mTrue\u001b[39;00m, compute\u001b[38;5;241m=\u001b[39m\u001b[38;5;28;01mTrue\u001b[39;00m, on\u001b[38;5;241m=\u001b[39m\u001b[38;5;28;01mNone\u001b[39;00m, \u001b[38;5;241m*\u001b[39m\u001b[38;5;241m*\u001b[39mkwargs):\n\u001b[1;32m    832\u001b[0m \u001b[38;5;250m    \u001b[39m\u001b[38;5;124;03m\"\"\"Run a function from tape.TimeSeries on the available ids\u001b[39;00m\n\u001b[1;32m    833\u001b[0m \n\u001b[1;32m    834\u001b[0m \u001b[38;5;124;03m    Parameters\u001b[39;00m\n\u001b[0;32m   (...)\u001b[0m\n\u001b[1;32m    903\u001b[0m \u001b[38;5;124;03m    ```\u001b[39;00m\n\u001b[1;32m    904\u001b[0m \u001b[38;5;124;03m    \"\"\"\u001b[39;00m\n\u001b[0;32m--> 905\u001b[0m     \u001b[38;5;28;43mself\u001b[39;49m\u001b[38;5;241;43m.\u001b[39;49m\u001b[43m_lazy_sync_tables\u001b[49m\u001b[43m(\u001b[49m\u001b[43mtable\u001b[49m\u001b[38;5;241;43m=\u001b[39;49m\u001b[38;5;124;43m\"\u001b[39;49m\u001b[38;5;124;43mall\u001b[39;49m\u001b[38;5;124;43m\"\u001b[39;49m\u001b[43m)\u001b[49m\n\u001b[1;32m    907\u001b[0m     \u001b[38;5;66;03m# Convert light-curve package feature into analysis function\u001b[39;00m\n\u001b[1;32m    908\u001b[0m     \u001b[38;5;28;01mif\u001b[39;00m \u001b[38;5;28misinstance\u001b[39m(func, BaseLightCurveFeature):\n",
      "File \u001b[0;32m~/tape/src/tape/ensemble.py:1494\u001b[0m, in \u001b[0;36mEnsemble._lazy_sync_tables\u001b[0;34m(self, table)\u001b[0m\n\u001b[1;32m   1492\u001b[0m     \u001b[38;5;28mself\u001b[39m\u001b[38;5;241m.\u001b[39m_sync_tables()\n\u001b[1;32m   1493\u001b[0m \u001b[38;5;28;01melif\u001b[39;00m table \u001b[38;5;241m==\u001b[39m \u001b[38;5;124m\"\u001b[39m\u001b[38;5;124mall\u001b[39m\u001b[38;5;124m\"\u001b[39m \u001b[38;5;129;01mand\u001b[39;00m (\u001b[38;5;28mself\u001b[39m\u001b[38;5;241m.\u001b[39m_source_dirty \u001b[38;5;129;01mor\u001b[39;00m \u001b[38;5;28mself\u001b[39m\u001b[38;5;241m.\u001b[39m_object_dirty):\n\u001b[0;32m-> 1494\u001b[0m     \u001b[38;5;28;43mself\u001b[39;49m\u001b[38;5;241;43m.\u001b[39;49m\u001b[43m_sync_tables\u001b[49m\u001b[43m(\u001b[49m\u001b[43m)\u001b[49m\n\u001b[1;32m   1495\u001b[0m \u001b[38;5;28;01mreturn\u001b[39;00m \u001b[38;5;28mself\u001b[39m\n",
      "File \u001b[0;32m~/tape/src/tape/ensemble.py:1507\u001b[0m, in \u001b[0;36mEnsemble._sync_tables\u001b[0;34m(self)\u001b[0m\n\u001b[1;32m   1498\u001b[0m \u001b[38;5;250m\u001b[39m\u001b[38;5;124;03m\"\"\"Sync operation to align both tables.\u001b[39;00m\n\u001b[1;32m   1499\u001b[0m \n\u001b[1;32m   1500\u001b[0m \u001b[38;5;124;03mFiltered objects are always removed from the source. But filtered\u001b[39;00m\n\u001b[1;32m   1501\u001b[0m \u001b[38;5;124;03msources may be kept in the object table is the Ensemble's\u001b[39;00m\n\u001b[1;32m   1502\u001b[0m \u001b[38;5;124;03mkeep_empty_objects attribute is set to True.\u001b[39;00m\n\u001b[1;32m   1503\u001b[0m \u001b[38;5;124;03m\"\"\"\u001b[39;00m\n\u001b[1;32m   1505\u001b[0m \u001b[38;5;28;01mif\u001b[39;00m \u001b[38;5;28mself\u001b[39m\u001b[38;5;241m.\u001b[39m_object_dirty:\n\u001b[1;32m   1506\u001b[0m     \u001b[38;5;66;03m# Sync Object to Source; remove any missing objects from source\u001b[39;00m\n\u001b[0;32m-> 1507\u001b[0m     obj_idx \u001b[38;5;241m=\u001b[39m \u001b[38;5;28mlist\u001b[39m(\u001b[38;5;28;43mself\u001b[39;49m\u001b[38;5;241;43m.\u001b[39;49m\u001b[43m_object\u001b[49m\u001b[38;5;241;43m.\u001b[39;49m\u001b[43mindex\u001b[49m\u001b[38;5;241;43m.\u001b[39;49m\u001b[43mcompute\u001b[49m\u001b[43m(\u001b[49m\u001b[43m)\u001b[49m)\n\u001b[1;32m   1508\u001b[0m     \u001b[38;5;28mself\u001b[39m\u001b[38;5;241m.\u001b[39m_source \u001b[38;5;241m=\u001b[39m \u001b[38;5;28mself\u001b[39m\u001b[38;5;241m.\u001b[39m_source\u001b[38;5;241m.\u001b[39mmap_partitions(\u001b[38;5;28;01mlambda\u001b[39;00m x: x[x\u001b[38;5;241m.\u001b[39mindex\u001b[38;5;241m.\u001b[39misin(obj_idx)])\n\u001b[1;32m   1509\u001b[0m     \u001b[38;5;28mself\u001b[39m\u001b[38;5;241m.\u001b[39m_source \u001b[38;5;241m=\u001b[39m \u001b[38;5;28mself\u001b[39m\u001b[38;5;241m.\u001b[39m_source\u001b[38;5;241m.\u001b[39mpersist()  \u001b[38;5;66;03m# persist the source frame\u001b[39;00m\n",
      "File \u001b[0;32m~/.virtualenvs/tape/lib/python3.9/site-packages/dask/base.py:342\u001b[0m, in \u001b[0;36mDaskMethodsMixin.compute\u001b[0;34m(self, **kwargs)\u001b[0m\n\u001b[1;32m    318\u001b[0m \u001b[38;5;28;01mdef\u001b[39;00m \u001b[38;5;21mcompute\u001b[39m(\u001b[38;5;28mself\u001b[39m, \u001b[38;5;241m*\u001b[39m\u001b[38;5;241m*\u001b[39mkwargs):\n\u001b[1;32m    319\u001b[0m \u001b[38;5;250m    \u001b[39m\u001b[38;5;124;03m\"\"\"Compute this dask collection\u001b[39;00m\n\u001b[1;32m    320\u001b[0m \n\u001b[1;32m    321\u001b[0m \u001b[38;5;124;03m    This turns a lazy Dask collection into its in-memory equivalent.\u001b[39;00m\n\u001b[0;32m   (...)\u001b[0m\n\u001b[1;32m    340\u001b[0m \u001b[38;5;124;03m    dask.compute\u001b[39;00m\n\u001b[1;32m    341\u001b[0m \u001b[38;5;124;03m    \"\"\"\u001b[39;00m\n\u001b[0;32m--> 342\u001b[0m     (result,) \u001b[38;5;241m=\u001b[39m \u001b[43mcompute\u001b[49m\u001b[43m(\u001b[49m\u001b[38;5;28;43mself\u001b[39;49m\u001b[43m,\u001b[49m\u001b[43m \u001b[49m\u001b[43mtraverse\u001b[49m\u001b[38;5;241;43m=\u001b[39;49m\u001b[38;5;28;43;01mFalse\u001b[39;49;00m\u001b[43m,\u001b[49m\u001b[43m \u001b[49m\u001b[38;5;241;43m*\u001b[39;49m\u001b[38;5;241;43m*\u001b[39;49m\u001b[43mkwargs\u001b[49m\u001b[43m)\u001b[49m\n\u001b[1;32m    343\u001b[0m     \u001b[38;5;28;01mreturn\u001b[39;00m result\n",
      "File \u001b[0;32m~/.virtualenvs/tape/lib/python3.9/site-packages/dask/base.py:628\u001b[0m, in \u001b[0;36mcompute\u001b[0;34m(traverse, optimize_graph, scheduler, get, *args, **kwargs)\u001b[0m\n\u001b[1;32m    625\u001b[0m     postcomputes\u001b[38;5;241m.\u001b[39mappend(x\u001b[38;5;241m.\u001b[39m__dask_postcompute__())\n\u001b[1;32m    627\u001b[0m \u001b[38;5;28;01mwith\u001b[39;00m shorten_traceback():\n\u001b[0;32m--> 628\u001b[0m     results \u001b[38;5;241m=\u001b[39m \u001b[43mschedule\u001b[49m\u001b[43m(\u001b[49m\u001b[43mdsk\u001b[49m\u001b[43m,\u001b[49m\u001b[43m \u001b[49m\u001b[43mkeys\u001b[49m\u001b[43m,\u001b[49m\u001b[43m \u001b[49m\u001b[38;5;241;43m*\u001b[39;49m\u001b[38;5;241;43m*\u001b[39;49m\u001b[43mkwargs\u001b[49m\u001b[43m)\u001b[49m\n\u001b[1;32m    630\u001b[0m \u001b[38;5;28;01mreturn\u001b[39;00m repack([f(r, \u001b[38;5;241m*\u001b[39ma) \u001b[38;5;28;01mfor\u001b[39;00m r, (f, a) \u001b[38;5;129;01min\u001b[39;00m \u001b[38;5;28mzip\u001b[39m(results, postcomputes)])\n",
      "File \u001b[0;32m~/.virtualenvs/tape/lib/python3.9/site-packages/distributed/client.py:2245\u001b[0m, in \u001b[0;36mClient._gather\u001b[0;34m(self, futures, errors, direct, local_worker)\u001b[0m\n\u001b[1;32m   2243\u001b[0m     \u001b[38;5;28;01melse\u001b[39;00m:\n\u001b[1;32m   2244\u001b[0m         \u001b[38;5;28;01mraise\u001b[39;00m exception\u001b[38;5;241m.\u001b[39mwith_traceback(traceback)\n\u001b[0;32m-> 2245\u001b[0m     \u001b[38;5;28;01mraise\u001b[39;00m exc\n\u001b[1;32m   2246\u001b[0m \u001b[38;5;28;01mif\u001b[39;00m errors \u001b[38;5;241m==\u001b[39m \u001b[38;5;124m\"\u001b[39m\u001b[38;5;124mskip\u001b[39m\u001b[38;5;124m\"\u001b[39m:\n\u001b[1;32m   2247\u001b[0m     bad_keys\u001b[38;5;241m.\u001b[39madd(key)\n",
      "\u001b[0;31mCancelledError\u001b[0m: ('query-index-dc155bc4e0b5b6ec2fe2e05d43c28f57', 1006)"
     ]
    }
   ],
   "source": [
    "%%time \n",
    "\n",
    "ens.query('band == \"r\" and catflags == 0', table='source')\n",
    "\n",
    "ens.calc_nobs(by_band=False, temporary=False, label=\"ngoodobs\")\n",
    "ens.query('ngoodobs_total >= 100', table='object')\n",
    "\n",
    "duration = ens.batch(np.ptp, ens._time_col, schema={'duration': float})\n",
    "ens.assign(table='object', duration=duration, temporary=False)\n",
    "ens.query('duration >= 50.0', table='object')\n",
    "\n",
    "reduced_chi2_extractor = licu.ReducedChi2()\n",
    "rchi2 = ens.batch(reduced_chi2_extractor, ens._time_col, ens._mag_col, ens._err_col,\n",
    "                  fill_value=-1.0, check=False, sorted=True,\n",
    "                  schema={'rchi2': float})\n",
    "ens.assign(table='object', rchi2=rchi2, temporary=False)\n",
    "ens.query('rchi2 >= 10.0', table='object')\n",
    "\n",
    "size = ens._object.shape[0].compute()"
   ]
  },
  {
   "cell_type": "code",
   "execution_count": 7,
   "id": "fe8b2440-5a3b-485d-824d-ec7334f6b96e",
   "metadata": {},
   "outputs": [
    {
     "ename": "NameError",
     "evalue": "name 'size' is not defined",
     "output_type": "error",
     "traceback": [
      "\u001b[0;31m---------------------------------------------------------------------------\u001b[0m",
      "\u001b[0;31mNameError\u001b[0m                                 Traceback (most recent call last)",
      "Cell \u001b[0;32mIn[7], line 6\u001b[0m\n\u001b[1;32m      4\u001b[0m path \u001b[38;5;241m=\u001b[39m Path(os\u001b[38;5;241m.\u001b[39menviron[\u001b[38;5;124m'\u001b[39m\u001b[38;5;124mHOME\u001b[39m\u001b[38;5;124m'\u001b[39m]) \u001b[38;5;241m/\u001b[39m \u001b[38;5;124m'\u001b[39m\u001b[38;5;124mresult.txt\u001b[39m\u001b[38;5;124m'\u001b[39m\n\u001b[1;32m      5\u001b[0m \u001b[38;5;28;01mwith\u001b[39;00m \u001b[38;5;28mopen\u001b[39m(path, \u001b[38;5;124m'\u001b[39m\u001b[38;5;124ma\u001b[39m\u001b[38;5;124m'\u001b[39m) \u001b[38;5;28;01mas\u001b[39;00m f:\n\u001b[0;32m----> 6\u001b[0m     f\u001b[38;5;241m.\u001b[39mwrite(\u001b[38;5;124mf\u001b[39m\u001b[38;5;124m'''\u001b[39m\u001b[38;5;124mFinal object table size: \u001b[39m\u001b[38;5;132;01m{\u001b[39;00msize\u001b[38;5;132;01m}\u001b[39;00m\n\u001b[1;32m      7\u001b[0m \u001b[38;5;124mTime spent: \u001b[39m\u001b[38;5;132;01m{\u001b[39;00mtime\u001b[38;5;241m.\u001b[39mmonotonic()\u001b[38;5;250m \u001b[39m\u001b[38;5;241m-\u001b[39m\u001b[38;5;250m \u001b[39mstart_time\u001b[38;5;132;01m}\u001b[39;00m\n\u001b[1;32m      8\u001b[0m \u001b[38;5;124m'''\u001b[39m)\n",
      "\u001b[0;31mNameError\u001b[0m: name 'size' is not defined"
     ]
    }
   ],
   "source": [
    "import os\n",
    "from pathlib import Path\n",
    "\n",
    "path = Path(os.environ['HOME']) / 'result.txt'\n",
    "with open(path, 'a') as f:\n",
    "    f.write(f'''Final object table size: {size}\n",
    "Time spent: {time.monotonic() - start_time}\n",
    "''')"
   ]
  },
  {
   "cell_type": "code",
   "execution_count": 9,
   "id": "c99777ca-cdce-48f7-a3b4-e8a585364a57",
   "metadata": {},
   "outputs": [
    {
     "name": "stderr",
     "output_type": "stream",
     "text": [
      "2023-11-09 16:00:02,369 - distributed.deploy.adaptive_core - INFO - Adaptive stop\n"
     ]
    }
   ],
   "source": [
    "cluster.close()"
   ]
  },
  {
   "cell_type": "code",
   "execution_count": null,
   "id": "2e312553-9a2b-49a0-813a-dde60e43aa94",
   "metadata": {},
   "outputs": [],
   "source": [
    "1"
   ]
  },
  {
   "cell_type": "code",
   "execution_count": 8,
   "id": "b20132ff-4811-4460-bf5a-ca674dad34d2",
   "metadata": {},
   "outputs": [
    {
     "data": {
      "text/plain": [
       "1"
      ]
     },
     "execution_count": 8,
     "metadata": {},
     "output_type": "execute_result"
    }
   ],
   "source": [
    "1"
   ]
  },
  {
   "cell_type": "code",
   "execution_count": null,
   "id": "4bb947d7-587e-4202-8683-daa3a6112fbf",
   "metadata": {},
   "outputs": [],
   "source": []
  }
 ],
 "metadata": {
  "kernelspec": {
   "display_name": "tape-venv-python3.9",
   "language": "python",
   "name": "tape-venv-python3.9"
  },
  "language_info": {
   "codemirror_mode": {
    "name": "ipython",
    "version": 3
   },
   "file_extension": ".py",
   "mimetype": "text/x-python",
   "name": "python",
   "nbconvert_exporter": "python",
   "pygments_lexer": "ipython3",
   "version": "3.9.13"
  }
 },
 "nbformat": 4,
 "nbformat_minor": 5
}
