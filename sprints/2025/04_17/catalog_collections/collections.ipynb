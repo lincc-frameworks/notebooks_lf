{
 "cells": [
  {
   "cell_type": "markdown",
   "id": "5f407ebd",
   "metadata": {},
   "source": [
    "## Catalog collections\n",
    "\n",
    "This notebook showcases the use of HATS catalog collections and how the row retrieval works using ID search.\n",
    "\n",
    "**Note:** These changes have not been merged yet, but they are implemented and under review."
   ]
  },
  {
   "cell_type": "code",
   "execution_count": 1,
   "id": "d2e5769b",
   "metadata": {},
   "outputs": [
    {
     "name": "stdout",
     "output_type": "stream",
     "text": [
      "Note: you may need to restart the kernel to use updated packages.\n"
     ]
    }
   ],
   "source": [
    "%pip install -q git+https://github.com/astronomy-commons/lsdb.git@issue/689/id-search"
   ]
  },
  {
   "cell_type": "code",
   "execution_count": 2,
   "id": "c2e9a9b3",
   "metadata": {},
   "outputs": [],
   "source": [
    "import lsdb\n",
    "import hats\n",
    "from upath import UPath"
   ]
  },
  {
   "cell_type": "code",
   "execution_count": 3,
   "id": "5912d6dc",
   "metadata": {},
   "outputs": [
    {
     "data": {
      "text/html": [
       "<div><strong>lsdb Catalog small_sky_order1:</strong></div><div>\n",
       "<style scoped>\n",
       "    .dataframe tbody tr th:only-of-type {\n",
       "        vertical-align: middle;\n",
       "    }\n",
       "\n",
       "    .dataframe tbody tr th {\n",
       "        vertical-align: top;\n",
       "    }\n",
       "\n",
       "    .dataframe thead th {\n",
       "        text-align: right;\n",
       "    }\n",
       "</style>\n",
       "<table border=\"1\" class=\"dataframe\">\n",
       "  <thead>\n",
       "    <tr style=\"text-align: right;\">\n",
       "      <th></th>\n",
       "      <th>id</th>\n",
       "      <th>ra</th>\n",
       "      <th>dec</th>\n",
       "      <th>ra_error</th>\n",
       "      <th>dec_error</th>\n",
       "    </tr>\n",
       "    <tr>\n",
       "      <th>npartitions=4</th>\n",
       "      <th></th>\n",
       "      <th></th>\n",
       "      <th></th>\n",
       "      <th></th>\n",
       "      <th></th>\n",
       "    </tr>\n",
       "  </thead>\n",
       "  <tbody>\n",
       "    <tr>\n",
       "      <th>Order: 1, Pixel: 44</th>\n",
       "      <td>int64[pyarrow]</td>\n",
       "      <td>double[pyarrow]</td>\n",
       "      <td>double[pyarrow]</td>\n",
       "      <td>int64[pyarrow]</td>\n",
       "      <td>int64[pyarrow]</td>\n",
       "    </tr>\n",
       "    <tr>\n",
       "      <th>Order: 1, Pixel: 45</th>\n",
       "      <td>...</td>\n",
       "      <td>...</td>\n",
       "      <td>...</td>\n",
       "      <td>...</td>\n",
       "      <td>...</td>\n",
       "    </tr>\n",
       "    <tr>\n",
       "      <th>Order: 1, Pixel: 46</th>\n",
       "      <td>...</td>\n",
       "      <td>...</td>\n",
       "      <td>...</td>\n",
       "      <td>...</td>\n",
       "      <td>...</td>\n",
       "    </tr>\n",
       "    <tr>\n",
       "      <th>Order: 1, Pixel: 47</th>\n",
       "      <td>...</td>\n",
       "      <td>...</td>\n",
       "      <td>...</td>\n",
       "      <td>...</td>\n",
       "      <td>...</td>\n",
       "    </tr>\n",
       "  </tbody>\n",
       "</table>\n",
       "</div><div>The catalog has been loaded <strong>lazily</strong>, meaning no data has been read, only the catalog schema</div>"
      ],
      "text/plain": [
       "Dask NestedFrame Structure:\n",
       "                                 id               ra              dec        ra_error       dec_error\n",
       "npartitions=4                                                                                        \n",
       "3170534137668829184  int64[pyarrow]  double[pyarrow]  double[pyarrow]  int64[pyarrow]  int64[pyarrow]\n",
       "3242591731706757120             ...              ...              ...             ...             ...\n",
       "3314649325744685056             ...              ...              ...             ...             ...\n",
       "3386706919782612992             ...              ...              ...             ...             ...\n",
       "3458764513820540928             ...              ...              ...             ...             ...\n",
       "Dask Name: nestedframe, 3 expressions\n",
       "Expr=MapPartitions(NestedFrame)"
      ]
     },
     "execution_count": 3,
     "metadata": {},
     "output_type": "execute_result"
    }
   ],
   "source": [
    "small_sky_collection = lsdb.read_hats(\"small_sky_order1_collection\")\n",
    "small_sky_collection"
   ]
  },
  {
   "cell_type": "code",
   "execution_count": 4,
   "id": "0c1d9135",
   "metadata": {},
   "outputs": [
    {
     "name": "stdout",
     "output_type": "stream",
     "text": [
      "\u001b[0;31mType:\u001b[0m        CatalogCollection\n",
      "\u001b[0;31mString form:\u001b[0m <hats.catalog.catalog_collection.CatalogCollection object at 0x16044dad0>\n",
      "\u001b[0;31mFile:\u001b[0m        ~/hats/src/hats/catalog/catalog_collection.py\n",
      "\u001b[0;31mDocstring:\u001b[0m  \n",
      "A collection of HATS Catalog with data stored in a HEALPix Hive partitioned structure\n",
      "\n",
      "Catalogs of this type are described by a `collection.properties` file which specifies\n",
      "the underlying main catalog, margin catalog and index catalog paths. These catalogs are\n",
      "stored at the root of the collection, each in its separate directory::\n",
      "\n",
      "    catalog_collection/\n",
      "    ├── main_catalog/\n",
      "    ├── margin_catalog/\n",
      "    ├── index_catalog/\n",
      "    ├── collection.properties\n",
      "\n",
      "Margin and index catalogs are optional but there could also be multiple of them. The\n",
      "catalogs used by default are specified in the `collection.properties` file in the\n",
      "`default_margin` and `default_index` keywords."
     ]
    }
   ],
   "source": [
    "small_sky_collection.hc_collection?"
   ]
  },
  {
   "cell_type": "code",
   "execution_count": 5,
   "id": "6f5495c4",
   "metadata": {},
   "outputs": [
    {
     "data": {
      "text/plain": [
       "PosixUPath('small_sky_order1_collection/small_sky_order1')"
      ]
     },
     "execution_count": 5,
     "metadata": {},
     "output_type": "execute_result"
    }
   ],
   "source": [
    "small_sky_collection.hc_structure.catalog_path"
   ]
  },
  {
   "cell_type": "markdown",
   "id": "0ecd4e66",
   "metadata": {},
   "source": [
    "The default margin was loaded automatically:"
   ]
  },
  {
   "cell_type": "code",
   "execution_count": 6,
   "id": "3f679633",
   "metadata": {},
   "outputs": [
    {
     "data": {
      "text/plain": [
       "PosixUPath('small_sky_order1_collection/small_sky_order1_margin_1deg')"
      ]
     },
     "execution_count": 6,
     "metadata": {},
     "output_type": "execute_result"
    }
   ],
   "source": [
    "small_sky_collection.margin.hc_structure.catalog_path"
   ]
  },
  {
   "cell_type": "code",
   "execution_count": 7,
   "id": "c11e98cf",
   "metadata": {},
   "outputs": [
    {
     "data": {
      "text/plain": [
       "'small_sky_order1_margin_1deg'"
      ]
     },
     "execution_count": 7,
     "metadata": {},
     "output_type": "execute_result"
    }
   ],
   "source": [
    "small_sky_collection.hc_collection.default_margin"
   ]
  },
  {
   "cell_type": "markdown",
   "id": "43811cb8",
   "metadata": {},
   "source": [
    "We can also load a non-default margin using:\n",
    "- A single identifier. It needs to exist in the *collection.properties* `all_margins`.\n",
    "- An absolute path to the margin, hosted locally or in remote."
   ]
  },
  {
   "cell_type": "code",
   "execution_count": 8,
   "id": "0242b990",
   "metadata": {},
   "outputs": [
    {
     "data": {
      "text/plain": [
       "PosixUPath('small_sky_order1_collection/small_sky_order1_margin_2deg')"
      ]
     },
     "execution_count": 8,
     "metadata": {},
     "output_type": "execute_result"
    }
   ],
   "source": [
    "small_sky_collection = lsdb.read_hats(\"small_sky_order1_collection\", margin_cache=\"small_sky_order1_margin_2deg\")\n",
    "small_sky_collection.margin.hc_structure.catalog_path"
   ]
  },
  {
   "cell_type": "code",
   "execution_count": 9,
   "id": "ac94b00a",
   "metadata": {},
   "outputs": [
    {
     "data": {
      "text/plain": [
       "PosixUPath('/Users/scampos/notebooks_lf/sprints/2025/04_17/catalog_collections/small_sky_order1_collection/small_sky_order1_margin_2deg')"
      ]
     },
     "execution_count": 9,
     "metadata": {},
     "output_type": "execute_result"
    }
   ],
   "source": [
    "pwd = %pwd\n",
    "margin_absolute_path = f\"{pwd}/small_sky_order1_collection/small_sky_order1_margin_2deg\"\n",
    "small_sky_collection = lsdb.read_hats(\"small_sky_order1_collection\", margin_cache=margin_absolute_path)\n",
    "small_sky_collection.margin.hc_structure.catalog_path"
   ]
  },
  {
   "cell_type": "markdown",
   "id": "92a48d02",
   "metadata": {},
   "source": [
    "Loading from remote, we can give it a string or a UPath, in case we need to specify credentials:"
   ]
  },
  {
   "cell_type": "code",
   "execution_count": 10,
   "id": "93ea36d7",
   "metadata": {},
   "outputs": [
    {
     "data": {
      "text/plain": [
       "HTTPPath('https://epyc.astro.washington.edu/~lincc-frameworks/other_degree_surveys/small_sky_order1_margin_2deg')"
      ]
     },
     "execution_count": 10,
     "metadata": {},
     "output_type": "execute_result"
    }
   ],
   "source": [
    "remote_margin = UPath(\"https://epyc.astro.washington.edu/~lincc-frameworks/other_degree_surveys/small_sky_order1_margin_2deg\")\n",
    "small_sky_collection = lsdb.read_hats(\"small_sky_order1_collection\", margin_cache=remote_margin)\n",
    "small_sky_collection.margin.hc_structure.catalog_path"
   ]
  },
  {
   "cell_type": "markdown",
   "id": "0e82aa4f",
   "metadata": {},
   "source": [
    "We still validate that the provided margin schema is compatible:"
   ]
  },
  {
   "cell_type": "code",
   "execution_count": 11,
   "id": "105e2106",
   "metadata": {},
   "outputs": [
    {
     "ename": "ValueError",
     "evalue": "The margin catalog and the main catalog must have the same schema.",
     "output_type": "error",
     "traceback": [
      "\u001b[0;31m---------------------------------------------------------------------------\u001b[0m",
      "\u001b[0;31mValueError\u001b[0m                                Traceback (most recent call last)",
      "Cell \u001b[0;32mIn[11], line 2\u001b[0m\n\u001b[1;32m      1\u001b[0m euclid_margin \u001b[38;5;241m=\u001b[39m \u001b[38;5;124m\"\u001b[39m\u001b[38;5;124mhttps://data.lsdb.io/hats/euclid_q1/euclid_q1_merFinalCatalog_10arcs\u001b[39m\u001b[38;5;124m\"\u001b[39m\n\u001b[0;32m----> 2\u001b[0m small_sky_collection \u001b[38;5;241m=\u001b[39m \u001b[43mlsdb\u001b[49m\u001b[38;5;241;43m.\u001b[39;49m\u001b[43mread_hats\u001b[49m\u001b[43m(\u001b[49m\u001b[38;5;124;43m\"\u001b[39;49m\u001b[38;5;124;43msmall_sky_order1_collection\u001b[39;49m\u001b[38;5;124;43m\"\u001b[39;49m\u001b[43m,\u001b[49m\u001b[43m \u001b[49m\u001b[43mmargin_cache\u001b[49m\u001b[38;5;241;43m=\u001b[39;49m\u001b[43meuclid_margin\u001b[49m\u001b[43m)\u001b[49m\n",
      "File \u001b[0;32m~/anaconda3/envs/lsdb/lib/python3.11/site-packages/lsdb/loaders/hats/read_hats.py:104\u001b[0m, in \u001b[0;36mread_hats\u001b[0;34m(path, search_filter, columns, margin_cache, dtype_backend, **kwargs)\u001b[0m\n\u001b[1;32m    102\u001b[0m \u001b[38;5;28;01mif\u001b[39;00m \u001b[38;5;28misinstance\u001b[39m(hc_catalog, CatalogCollection):\n\u001b[1;32m    103\u001b[0m     margin_cache \u001b[38;5;241m=\u001b[39m _get_collection_margin(hc_catalog, margin_cache)\n\u001b[0;32m--> 104\u001b[0m     catalog \u001b[38;5;241m=\u001b[39m \u001b[43m_load_catalog\u001b[49m\u001b[43m(\u001b[49m\n\u001b[1;32m    105\u001b[0m \u001b[43m        \u001b[49m\u001b[43mhc_catalog\u001b[49m\u001b[38;5;241;43m.\u001b[39;49m\u001b[43mmain_catalog\u001b[49m\u001b[43m,\u001b[49m\n\u001b[1;32m    106\u001b[0m \u001b[43m        \u001b[49m\u001b[43msearch_filter\u001b[49m\u001b[38;5;241;43m=\u001b[39;49m\u001b[43msearch_filter\u001b[49m\u001b[43m,\u001b[49m\n\u001b[1;32m    107\u001b[0m \u001b[43m        \u001b[49m\u001b[43mcolumns\u001b[49m\u001b[38;5;241;43m=\u001b[39;49m\u001b[43mcolumns\u001b[49m\u001b[43m,\u001b[49m\n\u001b[1;32m    108\u001b[0m \u001b[43m        \u001b[49m\u001b[43mmargin_cache\u001b[49m\u001b[38;5;241;43m=\u001b[39;49m\u001b[43mmargin_cache\u001b[49m\u001b[43m,\u001b[49m\n\u001b[1;32m    109\u001b[0m \u001b[43m        \u001b[49m\u001b[43mdtype_backend\u001b[49m\u001b[38;5;241;43m=\u001b[39;49m\u001b[43mdtype_backend\u001b[49m\u001b[43m,\u001b[49m\n\u001b[1;32m    110\u001b[0m \u001b[43m        \u001b[49m\u001b[38;5;241;43m*\u001b[39;49m\u001b[38;5;241;43m*\u001b[39;49m\u001b[43mkwargs\u001b[49m\u001b[43m,\u001b[49m\n\u001b[1;32m    111\u001b[0m \u001b[43m    \u001b[49m\u001b[43m)\u001b[49m\n\u001b[1;32m    112\u001b[0m     catalog\u001b[38;5;241m.\u001b[39mhc_collection \u001b[38;5;241m=\u001b[39m hc_catalog  \u001b[38;5;66;03m# type: ignore[attr-defined]\u001b[39;00m\n\u001b[1;32m    113\u001b[0m \u001b[38;5;28;01melse\u001b[39;00m:\n",
      "File \u001b[0;32m~/anaconda3/envs/lsdb/lib/python3.11/site-packages/lsdb/loaders/hats/read_hats.py:181\u001b[0m, in \u001b[0;36m_load_catalog\u001b[0;34m(hc_catalog, search_filter, columns, margin_cache, dtype_backend, **kwargs)\u001b[0m\n\u001b[1;32m    178\u001b[0m catalog_type \u001b[38;5;241m=\u001b[39m hc_catalog\u001b[38;5;241m.\u001b[39mcatalog_info\u001b[38;5;241m.\u001b[39mcatalog_type\n\u001b[1;32m    180\u001b[0m \u001b[38;5;28;01mif\u001b[39;00m catalog_type \u001b[38;5;129;01min\u001b[39;00m (CatalogType\u001b[38;5;241m.\u001b[39mOBJECT, CatalogType\u001b[38;5;241m.\u001b[39mSOURCE):\n\u001b[0;32m--> 181\u001b[0m     catalog \u001b[38;5;241m=\u001b[39m \u001b[43m_load_object_catalog\u001b[49m\u001b[43m(\u001b[49m\u001b[43mhc_catalog\u001b[49m\u001b[43m,\u001b[49m\u001b[43m \u001b[49m\u001b[43mconfig\u001b[49m\u001b[43m)\u001b[49m\n\u001b[1;32m    182\u001b[0m \u001b[38;5;28;01melif\u001b[39;00m catalog_type \u001b[38;5;241m==\u001b[39m CatalogType\u001b[38;5;241m.\u001b[39mMARGIN:\n\u001b[1;32m    183\u001b[0m     catalog \u001b[38;5;241m=\u001b[39m _load_margin_catalog(hc_catalog, config)\n",
      "File \u001b[0;32m~/anaconda3/envs/lsdb/lib/python3.11/site-packages/lsdb/loaders/hats/read_hats.py:272\u001b[0m, in \u001b[0;36m_load_object_catalog\u001b[0;34m(hc_catalog, config)\u001b[0m\n\u001b[1;32m    270\u001b[0m     margin_hc_catalog \u001b[38;5;241m=\u001b[39m hc\u001b[38;5;241m.\u001b[39mread_hats(config\u001b[38;5;241m.\u001b[39mmargin_cache)\n\u001b[1;32m    271\u001b[0m     margin \u001b[38;5;241m=\u001b[39m _load_margin_catalog(margin_hc_catalog, config)\n\u001b[0;32m--> 272\u001b[0m     \u001b[43m_validate_margin_catalog\u001b[49m\u001b[43m(\u001b[49m\u001b[43mmargin_hc_catalog\u001b[49m\u001b[43m,\u001b[49m\u001b[43m \u001b[49m\u001b[43mhc_catalog\u001b[49m\u001b[43m)\u001b[49m\n\u001b[1;32m    273\u001b[0m     catalog\u001b[38;5;241m.\u001b[39mmargin \u001b[38;5;241m=\u001b[39m margin\n\u001b[1;32m    274\u001b[0m \u001b[38;5;28;01mreturn\u001b[39;00m catalog\n",
      "File \u001b[0;32m~/anaconda3/envs/lsdb/lib/python3.11/site-packages/lsdb/catalog/margin_catalog.py:42\u001b[0m, in \u001b[0;36m_validate_margin_catalog\u001b[0;34m(margin_hc_catalog, hc_catalog)\u001b[0m\n\u001b[1;32m     39\u001b[0m added_fields \u001b[38;5;241m=\u001b[39m [f \u001b[38;5;28;01mfor\u001b[39;00m f \u001b[38;5;129;01min\u001b[39;00m added_fields \u001b[38;5;28;01mif\u001b[39;00m f[\u001b[38;5;241m0\u001b[39m] \u001b[38;5;129;01mnot\u001b[39;00m \u001b[38;5;129;01min\u001b[39;00m paths\u001b[38;5;241m.\u001b[39mHIVE_COLUMNS]\n\u001b[1;32m     41\u001b[0m \u001b[38;5;28;01mif\u001b[39;00m \u001b[38;5;28mlen\u001b[39m(dropped_fields) \u001b[38;5;129;01mor\u001b[39;00m \u001b[38;5;28mlen\u001b[39m(added_fields):\n\u001b[0;32m---> 42\u001b[0m     \u001b[38;5;28;01mraise\u001b[39;00m \u001b[38;5;167;01mValueError\u001b[39;00m(\u001b[38;5;124m\"\u001b[39m\u001b[38;5;124mThe margin catalog and the main catalog must have the same schema.\u001b[39m\u001b[38;5;124m\"\u001b[39m)\n",
      "\u001b[0;31mValueError\u001b[0m: The margin catalog and the main catalog must have the same schema."
     ]
    }
   ],
   "source": [
    "euclid_margin = \"https://data.lsdb.io/hats/euclid_q1/euclid_q1_merFinalCatalog_10arcs\"\n",
    "small_sky_collection = lsdb.read_hats(\"small_sky_order1_collection\", margin_cache=euclid_margin)"
   ]
  },
  {
   "cell_type": "markdown",
   "id": "c8516474",
   "metadata": {
    "vscode": {
     "languageId": "plaintext"
    }
   },
   "source": [
    "### `id_search` \n",
    "\n",
    "(Preliminary implementation, but still under discussion [here](https://github.com/astronomy-commons/lsdb/issues/689#issuecomment-2813285589))\n",
    "\n",
    "```\n",
    "def id_search(self, ids: list, id_column: str | None = None, fine: bool = True) -> Catalog\n",
    "```"
   ]
  },
  {
   "cell_type": "code",
   "execution_count": null,
   "id": "b10a62cc",
   "metadata": {},
   "outputs": [],
   "source": [
    "small_sky_collection.hc_collection.default_index_field"
   ]
  },
  {
   "cell_type": "code",
   "execution_count": 12,
   "id": "b1a0c55b",
   "metadata": {},
   "outputs": [
    {
     "data": {
      "text/plain": [
       "PosixUPath('small_sky_order1_collection/small_sky_order1_id_index')"
      ]
     },
     "execution_count": 12,
     "metadata": {},
     "output_type": "execute_result"
    }
   ],
   "source": [
    "small_sky_collection.hc_collection.default_index_catalog_dir"
   ]
  },
  {
   "cell_type": "code",
   "execution_count": 13,
   "id": "f086276b",
   "metadata": {},
   "outputs": [
    {
     "data": {
      "text/html": [
       "<table border=\"1\" class=\"dataframe\">\n",
       "  <thead>\n",
       "    <tr style=\"text-align: right;\">\n",
       "      <th></th>\n",
       "      <th>id</th>\n",
       "      <th>ra</th>\n",
       "      <th>dec</th>\n",
       "      <th>ra_error</th>\n",
       "      <th>dec_error</th>\n",
       "    </tr>\n",
       "    <tr>\n",
       "      <th>_healpix_29</th>\n",
       "      <th></th>\n",
       "      <th></th>\n",
       "      <th></th>\n",
       "      <th></th>\n",
       "      <th></th>\n",
       "    </tr>\n",
       "  </thead>\n",
       "  <tbody>\n",
       "    <tr>\n",
       "      <th>3318157971331423954</th>\n",
       "      <td>700</td>\n",
       "      <td>282.5</td>\n",
       "      <td>-58.5</td>\n",
       "      <td>0</td>\n",
       "      <td>0</td>\n",
       "    </tr>\n",
       "  </tbody>\n",
       "</table>\n",
       "<p>1 rows × 5 columns</p>"
      ],
      "text/plain": [
       "                      id     ra   dec  ra_error  dec_error\n",
       "_healpix_29                                               \n",
       "3318157971331423954  700  282.5 -58.5         0          0"
      ]
     },
     "execution_count": 13,
     "metadata": {},
     "output_type": "execute_result"
    }
   ],
   "source": [
    "# Specifying a single value\n",
    "small_sky_collection.id_search(700).compute()"
   ]
  },
  {
   "cell_type": "code",
   "execution_count": 14,
   "id": "3fee45aa",
   "metadata": {},
   "outputs": [
    {
     "data": {
      "text/html": [
       "<table border=\"1\" class=\"dataframe\">\n",
       "  <thead>\n",
       "    <tr style=\"text-align: right;\">\n",
       "      <th></th>\n",
       "      <th>id</th>\n",
       "      <th>ra</th>\n",
       "      <th>dec</th>\n",
       "      <th>ra_error</th>\n",
       "      <th>dec_error</th>\n",
       "    </tr>\n",
       "    <tr>\n",
       "      <th>_healpix_29</th>\n",
       "      <th></th>\n",
       "      <th></th>\n",
       "      <th></th>\n",
       "      <th></th>\n",
       "      <th></th>\n",
       "    </tr>\n",
       "  </thead>\n",
       "  <tbody>\n",
       "    <tr>\n",
       "      <th>3318157971331423954</th>\n",
       "      <td>700</td>\n",
       "      <td>282.5</td>\n",
       "      <td>-58.5</td>\n",
       "      <td>0</td>\n",
       "      <td>0</td>\n",
       "    </tr>\n",
       "    <tr>\n",
       "      <th>3399532867186255393</th>\n",
       "      <td>702</td>\n",
       "      <td>310.5</td>\n",
       "      <td>-27.5</td>\n",
       "      <td>0</td>\n",
       "      <td>0</td>\n",
       "    </tr>\n",
       "  </tbody>\n",
       "</table>\n",
       "<p>2 rows × 5 columns</p>"
      ],
      "text/plain": [
       "                      id     ra   dec  ra_error  dec_error\n",
       "_healpix_29                                               \n",
       "3318157971331423954  700  282.5 -58.5         0          0\n",
       "3399532867186255393  702  310.5 -27.5         0          0"
      ]
     },
     "execution_count": 14,
     "metadata": {},
     "output_type": "execute_result"
    }
   ],
   "source": [
    "# Or a list of values\n",
    "small_sky_collection.id_search([700,702]).compute()"
   ]
  },
  {
   "cell_type": "markdown",
   "id": "d85b9faf",
   "metadata": {},
   "source": [
    "We can also specify any other indexing field, as long as the collection properties have an indexing catalog for it:"
   ]
  },
  {
   "cell_type": "code",
   "execution_count": 15,
   "id": "2c271bfc",
   "metadata": {},
   "outputs": [
    {
     "data": {
      "text/html": [
       "<table border=\"1\" class=\"dataframe\">\n",
       "  <thead>\n",
       "    <tr style=\"text-align: right;\">\n",
       "      <th></th>\n",
       "      <th>id</th>\n",
       "      <th>ra</th>\n",
       "      <th>dec</th>\n",
       "      <th>ra_error</th>\n",
       "      <th>dec_error</th>\n",
       "    </tr>\n",
       "    <tr>\n",
       "      <th>_healpix_29</th>\n",
       "      <th></th>\n",
       "      <th></th>\n",
       "      <th></th>\n",
       "      <th></th>\n",
       "      <th></th>\n",
       "    </tr>\n",
       "  </thead>\n",
       "  <tbody>\n",
       "    <tr>\n",
       "      <th>3225326185519392324</th>\n",
       "      <td>766</td>\n",
       "      <td>310.5</td>\n",
       "      <td>-63.5</td>\n",
       "      <td>0</td>\n",
       "      <td>0</td>\n",
       "    </tr>\n",
       "    <tr>\n",
       "      <th>3318157971331423954</th>\n",
       "      <td>700</td>\n",
       "      <td>282.5</td>\n",
       "      <td>-58.5</td>\n",
       "      <td>0</td>\n",
       "      <td>0</td>\n",
       "    </tr>\n",
       "    <tr>\n",
       "      <th>3340634127750683939</th>\n",
       "      <td>827</td>\n",
       "      <td>310.5</td>\n",
       "      <td>-40.5</td>\n",
       "      <td>0</td>\n",
       "      <td>0</td>\n",
       "    </tr>\n",
       "    <tr>\n",
       "      <th>3399532867186255393</th>\n",
       "      <td>702</td>\n",
       "      <td>310.5</td>\n",
       "      <td>-27.5</td>\n",
       "      <td>0</td>\n",
       "      <td>0</td>\n",
       "    </tr>\n",
       "  </tbody>\n",
       "</table>\n",
       "<p>4 rows × 5 columns</p>"
      ],
      "text/plain": [
       "                      id     ra   dec  ra_error  dec_error\n",
       "_healpix_29                                               \n",
       "3225326185519392324  766  310.5 -63.5         0          0\n",
       "3318157971331423954  700  282.5 -58.5         0          0\n",
       "3340634127750683939  827  310.5 -40.5         0          0\n",
       "3399532867186255393  702  310.5 -27.5         0          0"
      ]
     },
     "execution_count": 15,
     "metadata": {},
     "output_type": "execute_result"
    }
   ],
   "source": [
    "small_sky_collection.id_search([310.5,282.5], id_column=\"ra\").compute()"
   ]
  },
  {
   "cell_type": "code",
   "execution_count": 16,
   "id": "b4389153",
   "metadata": {},
   "outputs": [
    {
     "ename": "ValueError",
     "evalue": "Index for field `dec` is not specified in all_indexes",
     "output_type": "error",
     "traceback": [
      "\u001b[0;31m---------------------------------------------------------------------------\u001b[0m",
      "\u001b[0;31mValueError\u001b[0m                                Traceback (most recent call last)",
      "Cell \u001b[0;32mIn[16], line 2\u001b[0m\n\u001b[1;32m      1\u001b[0m \u001b[38;5;66;03m# No indexing catalog in properties for field \"dec\"\u001b[39;00m\n\u001b[0;32m----> 2\u001b[0m \u001b[43msmall_sky_collection\u001b[49m\u001b[38;5;241;43m.\u001b[39;49m\u001b[43mid_search\u001b[49m\u001b[43m(\u001b[49m\u001b[43m[\u001b[49m\u001b[38;5;241;43m310.5\u001b[39;49m\u001b[43m,\u001b[49m\u001b[38;5;241;43m282.5\u001b[39;49m\u001b[43m]\u001b[49m\u001b[43m,\u001b[49m\u001b[43m \u001b[49m\u001b[43mid_column\u001b[49m\u001b[38;5;241;43m=\u001b[39;49m\u001b[38;5;124;43m\"\u001b[39;49m\u001b[38;5;124;43mdec\u001b[39;49m\u001b[38;5;124;43m\"\u001b[39;49m\u001b[43m)\u001b[49m\u001b[38;5;241m.\u001b[39mcompute()\n",
      "File \u001b[0;32m~/anaconda3/envs/lsdb/lib/python3.11/site-packages/lsdb/catalog/catalog.py:381\u001b[0m, in \u001b[0;36mCatalog.id_search\u001b[0;34m(self, ids, id_column, fine)\u001b[0m\n\u001b[1;32m    376\u001b[0m \u001b[38;5;28;01mif\u001b[39;00m \u001b[38;5;28mself\u001b[39m\u001b[38;5;241m.\u001b[39mhc_collection \u001b[38;5;129;01mis\u001b[39;00m \u001b[38;5;28;01mNone\u001b[39;00m:\n\u001b[1;32m    377\u001b[0m     \u001b[38;5;28;01mraise\u001b[39;00m \u001b[38;5;167;01mNotImplementedError\u001b[39;00m(\n\u001b[1;32m    378\u001b[0m         \u001b[38;5;124m\"\u001b[39m\u001b[38;5;124m`Catalog.id_search` is only available in the context of Catalog collections.\u001b[39m\u001b[38;5;124m\"\u001b[39m\n\u001b[1;32m    379\u001b[0m         \u001b[38;5;124m\"\u001b[39m\u001b[38;5;124m Use `Catalog.index_search` with an instance of `HCIndexCatalog` instead.\u001b[39m\u001b[38;5;124m\"\u001b[39m\n\u001b[1;32m    380\u001b[0m     )\n\u001b[0;32m--> 381\u001b[0m index_dir \u001b[38;5;241m=\u001b[39m \u001b[38;5;28;43mself\u001b[39;49m\u001b[38;5;241;43m.\u001b[39;49m\u001b[43mhc_collection\u001b[49m\u001b[38;5;241;43m.\u001b[39;49m\u001b[43mget_index_dir_for_field\u001b[49m\u001b[43m(\u001b[49m\u001b[43mid_column\u001b[49m\u001b[43m)\u001b[49m\n\u001b[1;32m    382\u001b[0m \u001b[38;5;28;01mif\u001b[39;00m index_dir \u001b[38;5;129;01mis\u001b[39;00m \u001b[38;5;28;01mNone\u001b[39;00m:\n\u001b[1;32m    383\u001b[0m     \u001b[38;5;28;01mraise\u001b[39;00m \u001b[38;5;167;01mValueError\u001b[39;00m(\n\u001b[1;32m    384\u001b[0m         \u001b[38;5;124m\"\u001b[39m\u001b[38;5;124mThe id_column requested does not have a matching index catalog,\u001b[39m\u001b[38;5;124m\"\u001b[39m\n\u001b[1;32m    385\u001b[0m         \u001b[38;5;124m\"\u001b[39m\u001b[38;5;124m and there is no default index field set.\u001b[39m\u001b[38;5;124m\"\u001b[39m\n\u001b[1;32m    386\u001b[0m     )\n",
      "File \u001b[0;32m~/hats/src/hats/catalog/catalog_collection.py:86\u001b[0m, in \u001b[0;36mCatalogCollection.get_index_dir_for_field\u001b[0;34m(self, field_name)\u001b[0m\n\u001b[1;32m     84\u001b[0m     \u001b[38;5;28;01mreturn\u001b[39;00m \u001b[38;5;28mself\u001b[39m\u001b[38;5;241m.\u001b[39mdefault_index_catalog_dir\n\u001b[1;32m     85\u001b[0m \u001b[38;5;28;01mif\u001b[39;00m \u001b[38;5;28mself\u001b[39m\u001b[38;5;241m.\u001b[39mall_indexes \u001b[38;5;129;01mis\u001b[39;00m \u001b[38;5;28;01mNone\u001b[39;00m \u001b[38;5;129;01mor\u001b[39;00m field_name \u001b[38;5;129;01mnot\u001b[39;00m \u001b[38;5;129;01min\u001b[39;00m \u001b[38;5;28mself\u001b[39m\u001b[38;5;241m.\u001b[39mall_indexes:\n\u001b[0;32m---> 86\u001b[0m     \u001b[38;5;28;01mraise\u001b[39;00m \u001b[38;5;167;01mValueError\u001b[39;00m(\u001b[38;5;124mf\u001b[39m\u001b[38;5;124m\"\u001b[39m\u001b[38;5;124mIndex for field `\u001b[39m\u001b[38;5;132;01m{\u001b[39;00mfield_name\u001b[38;5;132;01m}\u001b[39;00m\u001b[38;5;124m` is not specified in all_indexes\u001b[39m\u001b[38;5;124m\"\u001b[39m)\n\u001b[1;32m     87\u001b[0m index_dir \u001b[38;5;241m=\u001b[39m \u001b[38;5;28mself\u001b[39m\u001b[38;5;241m.\u001b[39mall_indexes[field_name]\n\u001b[1;32m     88\u001b[0m \u001b[38;5;28;01mreturn\u001b[39;00m \u001b[38;5;28mself\u001b[39m\u001b[38;5;241m.\u001b[39mcollection_path \u001b[38;5;241m/\u001b[39m index_dir\n",
      "\u001b[0;31mValueError\u001b[0m: Index for field `dec` is not specified in all_indexes"
     ]
    }
   ],
   "source": [
    "# No indexing catalog in properties for field \"dec\"\n",
    "small_sky_collection.id_search([310.5,282.5], id_column=\"dec\").compute()"
   ]
  },
  {
   "cell_type": "markdown",
   "id": "1c7688df",
   "metadata": {},
   "source": [
    "This method is only available on catalog collections:"
   ]
  },
  {
   "cell_type": "code",
   "execution_count": 17,
   "id": "b9de056d",
   "metadata": {},
   "outputs": [
    {
     "ename": "NotImplementedError",
     "evalue": "`Catalog.id_search` is only available in the context of Catalog collections. Use `Catalog.index_search` with an instance of `HCIndexCatalog` instead.",
     "output_type": "error",
     "traceback": [
      "\u001b[0;31m---------------------------------------------------------------------------\u001b[0m",
      "\u001b[0;31mNotImplementedError\u001b[0m                       Traceback (most recent call last)",
      "Cell \u001b[0;32mIn[17], line 2\u001b[0m\n\u001b[1;32m      1\u001b[0m \u001b[38;5;66;03m# Going for `id_search` on the small_sky_order1 catalog will not work\u001b[39;00m\n\u001b[0;32m----> 2\u001b[0m \u001b[43mlsdb\u001b[49m\u001b[38;5;241;43m.\u001b[39;49m\u001b[43mread_hats\u001b[49m\u001b[43m(\u001b[49m\u001b[38;5;124;43m\"\u001b[39;49m\u001b[38;5;124;43msmall_sky_order1_collection/small_sky_order1\u001b[39;49m\u001b[38;5;124;43m\"\u001b[39;49m\u001b[43m)\u001b[49m\u001b[38;5;241;43m.\u001b[39;49m\u001b[43mid_search\u001b[49m\u001b[43m(\u001b[49m\u001b[43m[\u001b[49m\u001b[38;5;241;43m700\u001b[39;49m\u001b[43m]\u001b[49m\u001b[43m)\u001b[49m\n",
      "File \u001b[0;32m~/anaconda3/envs/lsdb/lib/python3.11/site-packages/lsdb/catalog/catalog.py:377\u001b[0m, in \u001b[0;36mCatalog.id_search\u001b[0;34m(self, ids, id_column, fine)\u001b[0m\n\u001b[1;32m    358\u001b[0m \u001b[38;5;250m\u001b[39m\u001b[38;5;124;03m\"\"\"Query rows by `id_column`.\u001b[39;00m\n\u001b[1;32m    359\u001b[0m \n\u001b[1;32m    360\u001b[0m \u001b[38;5;124;03mThis method can only be used within the context of Catalog collections because\u001b[39;00m\n\u001b[0;32m   (...)\u001b[0m\n\u001b[1;32m    374\u001b[0m \u001b[38;5;124;03m    A new Catalog containing the points filtered to those matching the ids.\u001b[39;00m\n\u001b[1;32m    375\u001b[0m \u001b[38;5;124;03m\"\"\"\u001b[39;00m\n\u001b[1;32m    376\u001b[0m \u001b[38;5;28;01mif\u001b[39;00m \u001b[38;5;28mself\u001b[39m\u001b[38;5;241m.\u001b[39mhc_collection \u001b[38;5;129;01mis\u001b[39;00m \u001b[38;5;28;01mNone\u001b[39;00m:\n\u001b[0;32m--> 377\u001b[0m     \u001b[38;5;28;01mraise\u001b[39;00m \u001b[38;5;167;01mNotImplementedError\u001b[39;00m(\n\u001b[1;32m    378\u001b[0m         \u001b[38;5;124m\"\u001b[39m\u001b[38;5;124m`Catalog.id_search` is only available in the context of Catalog collections.\u001b[39m\u001b[38;5;124m\"\u001b[39m\n\u001b[1;32m    379\u001b[0m         \u001b[38;5;124m\"\u001b[39m\u001b[38;5;124m Use `Catalog.index_search` with an instance of `HCIndexCatalog` instead.\u001b[39m\u001b[38;5;124m\"\u001b[39m\n\u001b[1;32m    380\u001b[0m     )\n\u001b[1;32m    381\u001b[0m index_dir \u001b[38;5;241m=\u001b[39m \u001b[38;5;28mself\u001b[39m\u001b[38;5;241m.\u001b[39mhc_collection\u001b[38;5;241m.\u001b[39mget_index_dir_for_field(id_column)\n\u001b[1;32m    382\u001b[0m \u001b[38;5;28;01mif\u001b[39;00m index_dir \u001b[38;5;129;01mis\u001b[39;00m \u001b[38;5;28;01mNone\u001b[39;00m:\n",
      "\u001b[0;31mNotImplementedError\u001b[0m: `Catalog.id_search` is only available in the context of Catalog collections. Use `Catalog.index_search` with an instance of `HCIndexCatalog` instead."
     ]
    }
   ],
   "source": [
    "# Going for `id_search` on the small_sky_order1 catalog will not work\n",
    "lsdb.read_hats(\"small_sky_order1_collection/small_sky_order1\").id_search([700])"
   ]
  },
  {
   "cell_type": "markdown",
   "id": "687ba357",
   "metadata": {},
   "source": [
    "But users can still use the `index_search` with their own HATS index catalogs:"
   ]
  },
  {
   "cell_type": "code",
   "execution_count": 18,
   "id": "fe463547",
   "metadata": {},
   "outputs": [
    {
     "data": {
      "text/html": [
       "<table border=\"1\" class=\"dataframe\">\n",
       "  <thead>\n",
       "    <tr style=\"text-align: right;\">\n",
       "      <th></th>\n",
       "      <th>id</th>\n",
       "      <th>ra</th>\n",
       "      <th>dec</th>\n",
       "      <th>ra_error</th>\n",
       "      <th>dec_error</th>\n",
       "    </tr>\n",
       "    <tr>\n",
       "      <th>_healpix_29</th>\n",
       "      <th></th>\n",
       "      <th></th>\n",
       "      <th></th>\n",
       "      <th></th>\n",
       "      <th></th>\n",
       "    </tr>\n",
       "  </thead>\n",
       "  <tbody>\n",
       "    <tr>\n",
       "      <th>3318157971331423954</th>\n",
       "      <td>700</td>\n",
       "      <td>282.5</td>\n",
       "      <td>-58.5</td>\n",
       "      <td>0</td>\n",
       "      <td>0</td>\n",
       "    </tr>\n",
       "  </tbody>\n",
       "</table>\n",
       "<p>1 rows × 5 columns</p>"
      ],
      "text/plain": [
       "                      id     ra   dec  ra_error  dec_error\n",
       "_healpix_29                                               \n",
       "3318157971331423954  700  282.5 -58.5         0          0"
      ]
     },
     "execution_count": 18,
     "metadata": {},
     "output_type": "execute_result"
    }
   ],
   "source": [
    "index_catalog = hats.read_hats(\"small_sky_order1_collection/small_sky_order1_id_index\")\n",
    "small_sky_collection.index_search([700,900], index_catalog).compute()"
   ]
  },
  {
   "cell_type": "markdown",
   "id": "c35bdeed",
   "metadata": {},
   "source": [
    "### Needing feedback\n",
    "\n",
    "Some questions arose:\n",
    "\n",
    "1. Should we allow queries for lists of values instead of a single value? \n",
    "  - This is the behavior on `index_search`, and it looks useful\n",
    "\n",
    "2. How do we feel about the `default_index`? \n",
    "  - Is it too implicit?\n",
    "\n",
    "3. Fwd discussion with Kostya, Sean:\n",
    "  - Would `Catalog.match_values(col1=val1, col2=val2)` be of higher value to the users? \n",
    "  - We don't support composite indices. Keep 1 index catalog per field and add more logic for retrieval?\n",
    "  - Any other alternatives?"
   ]
  }
 ],
 "metadata": {
  "kernelspec": {
   "display_name": "lsdb",
   "language": "python",
   "name": "python3"
  },
  "language_info": {
   "codemirror_mode": {
    "name": "ipython",
    "version": 3
   },
   "file_extension": ".py",
   "mimetype": "text/x-python",
   "name": "python",
   "nbconvert_exporter": "python",
   "pygments_lexer": "ipython3",
   "version": "3.11.11"
  }
 },
 "nbformat": 4,
 "nbformat_minor": 5
}
