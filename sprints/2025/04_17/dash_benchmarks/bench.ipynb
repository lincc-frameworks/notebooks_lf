{
 "cells": [
  {
   "cell_type": "markdown",
   "id": "f7d6d27f",
   "metadata": {},
   "source": [
    "## DASH pipeline benchmarking\n",
    "\n",
    "Let's obtain a Dask performance report for the most time-consuming dataset import (*object_forced_source*). \n",
    "\n",
    "The goal is to assess how long the I/O operations take in the **hats-import** pipeline:\n",
    "\n",
    "1. Mapping: Read ra/dec\n",
    "2. Splitting: Read every input parquet\n",
    "3. Splitting: Write shards\n",
    "4. Reducing: Read shards\n",
    "5. Reducing: Write every output parquet"
   ]
  },
  {
   "cell_type": "code",
   "execution_count": 1,
   "id": "bf4b68de",
   "metadata": {},
   "outputs": [],
   "source": [
    "import tempfile\n",
    "import hats_import.pipeline as runner\n",
    "\n",
    "from dask.distributed import performance_report, Client\n",
    "from dimension_reader import DimensionParquetReader\n",
    "from hats_import.catalog.arguments import ImportArguments\n",
    "from pathlib import Path"
   ]
  },
  {
   "cell_type": "code",
   "execution_count": 2,
   "id": "0fc60b48",
   "metadata": {},
   "outputs": [],
   "source": [
    "raw_dir = Path(f\"/sdf/data/rubin/shared/lsdb_commissioning/raw/v29_0_0_rc5\")\n",
    "hats_dir = Path(f\"/sdf/data/rubin/shared/lsdb_commissioning/sandro_test\")"
   ]
  },
  {
   "cell_type": "code",
   "execution_count": 3,
   "id": "d019e29e",
   "metadata": {},
   "outputs": [],
   "source": [
    "tmp_path = tempfile.TemporaryDirectory()\n",
    "client = Client(n_workers=16, threads_per_worker=1, local_directory=tmp_path.name)"
   ]
  },
  {
   "cell_type": "code",
   "execution_count": 4,
   "id": "0c560c38",
   "metadata": {},
   "outputs": [],
   "source": [
    "def get_paths(dataset_type):\n",
    "    index_dir = raw_dir / \"index\" / dataset_type\n",
    "    return list(index_dir.glob(\"*.csv\"))\n",
    "\n",
    "def get_common_import_args():\n",
    "    return {\n",
    "        \"output_path\": hats_dir,\n",
    "        \"simple_progress_bar\": True,\n",
    "        \"resume\": False,\n",
    "        \"delete_intermediate_parquet_files\": False,\n",
    "        \"delete_resume_log_files\": False,\n",
    "    }"
   ]
  },
  {
   "cell_type": "code",
   "execution_count": 5,
   "id": "e1784b70",
   "metadata": {},
   "outputs": [],
   "source": [
    "def profile_import(args):\n",
    "    \"\"\"Profiles performance for each Rubin data product\"\"\"\n",
    "    catalog_name = args.output_artifact_name\n",
    "    report_filepath = f\"{catalog_name}.html\"\n",
    "    with performance_report(filename=report_filepath):\n",
    "        runner.pipeline_with_client(args, client)\n",
    "    # Gather statistics on the number of files\n",
    "    get_num_input(catalog_name)\n",
    "    get_num_shards(catalog_name)\n",
    "    get_num_output(catalog_name)\n",
    "    save_intermediate_filetree(catalog_name)\n",
    "\n",
    "def get_num_input(catalog_name):\n",
    "    # Number of input parquet files read for mapping is not 25, those are the grouped indexed ones\n",
    "    index_dir = raw_dir / \"index\" / catalog_name\n",
    "    num_input_files = !find {index_dir} -type f -name \"*.csv\" | xargs awk 'FNR > 1' | wc -l\n",
    "    print(f\"Num of input parquet files: {num_input_files}\")\n",
    "\n",
    "def get_num_shards(catalog_name):\n",
    "    catalog_dir = hats_dir / catalog_name\n",
    "    num_shards = !find {catalog_dir}/\"intermediate\" -type f | grep '/order_[^/]\\+' | wc -l\n",
    "    print(f\"Num of generated shards: {num_shards}\")\n",
    "\n",
    "def get_num_output(catalog_name):\n",
    "    catalog_dir = hats_dir / catalog_name\n",
    "    num_output_files = !find {catalog_dir} -type f | grep '/Norder=[^/]\\+' | wc -l \n",
    "    print(f\"Num of output parquet: {num_output_files}\")\n",
    "\n",
    "def save_intermediate_filetree(catalog_name):\n",
    "    intermediate_dir = hats_dir / catalog_name / \"intermediate\"\n",
    "    !tree {intermediate_dir} > {catalog_name}.txt"
   ]
  },
  {
   "cell_type": "markdown",
   "id": "f2db3032",
   "metadata": {},
   "source": [
    "#### dia_object"
   ]
  },
  {
   "cell_type": "code",
   "execution_count": 6,
   "id": "6190c36a",
   "metadata": {},
   "outputs": [
    {
     "name": "stderr",
     "output_type": "stream",
     "text": [
      "Planning  : 100%|████████████████████████████████████████████████████████████| 4/4 [00:00<00:00, 257.25it/s]\n",
      "Mapping   : 100%|███████████████████████████████████████████████████████████| 25/25 [00:04<00:00,  5.70it/s]\n",
      "Binning   : 100%|█████████████████████████████████████████████████████████████| 2/2 [00:00<00:00, 62.48it/s]\n",
      "Splitting : 100%|███████████████████████████████████████████████████████████| 25/25 [00:00<00:00, 89.73it/s]\n",
      "Reducing  : 100%|█████████████████████████████████████████████████████████████| 4/4 [00:00<00:00, 14.53it/s]\n",
      "Finishing : 100%|█████████████████████████████████████████████████████████████| 5/5 [00:00<00:00, 59.97it/s]\n"
     ]
    },
    {
     "name": "stdout",
     "output_type": "stream",
     "text": [
      "Num of input parquet files: ['25']\n",
      "Num of generated shards: ['26']\n",
      "Num of output parquet: ['4']\n"
     ]
    }
   ],
   "source": [
    "dia_obj_default_columns = [\"diaObjectId\", \"ra\", \"dec\", \"nDiaSources\", \"radecMjdTai\"]\n",
    "\n",
    "args = ImportArguments(\n",
    "    output_artifact_name=\"dia_object\",\n",
    "    input_file_list=get_paths(\"dia_object\"),\n",
    "    file_reader=DimensionParquetReader(column_names=dia_obj_default_columns),\n",
    "    ra_column=\"ra\",\n",
    "    dec_column=\"dec\",\n",
    "    catalog_type=\"object\",\n",
    "    highest_healpix_order=0,\n",
    "    pixel_threshold=5_000_000,\n",
    "    **get_common_import_args()\n",
    ")\n",
    "profile_import(args)"
   ]
  },
  {
   "cell_type": "markdown",
   "id": "adc3f16a",
   "metadata": {},
   "source": [
    "#### dia_source"
   ]
  },
  {
   "cell_type": "code",
   "execution_count": 7,
   "id": "ed814aad",
   "metadata": {},
   "outputs": [
    {
     "name": "stderr",
     "output_type": "stream",
     "text": [
      "Planning  : 100%|████████████████████████████████████████████████████████████| 4/4 [00:00<00:00, 566.89it/s]\n",
      "Mapping   : 100%|██████████████████████████████████████████████████████████| 25/25 [00:00<00:00, 111.66it/s]\n",
      "Binning   : 100%|█████████████████████████████████████████████████████████████| 2/2 [00:00<00:00, 61.45it/s]\n",
      "Splitting : 100%|███████████████████████████████████████████████████████████| 25/25 [00:02<00:00, 11.86it/s]\n",
      "Reducing  : 100%|█████████████████████████████████████████████████████████████| 4/4 [00:04<00:00,  1.12s/it]\n",
      "Finishing : 100%|█████████████████████████████████████████████████████████████| 5/5 [00:00<00:00, 48.36it/s]\n"
     ]
    },
    {
     "name": "stdout",
     "output_type": "stream",
     "text": [
      "Num of input parquet files: ['25']\n",
      "Num of generated shards: ['27']\n",
      "Num of output parquet: ['4']\n"
     ]
    }
   ],
   "source": [
    "args = ImportArguments(\n",
    "    output_artifact_name=\"dia_source\",\n",
    "    input_file_list=get_paths(\"dia_source\"),\n",
    "    file_reader=DimensionParquetReader(),\n",
    "    ra_column=\"ra\",\n",
    "    dec_column=\"dec\",\n",
    "    catalog_type=\"source\",\n",
    "    highest_healpix_order=0,\n",
    "    pixel_threshold=4_000_000,\n",
    "    **get_common_import_args()\n",
    ")\n",
    "profile_import(args)"
   ]
  },
  {
   "cell_type": "markdown",
   "id": "df925b10",
   "metadata": {},
   "source": [
    "#### dia_object_forced_source"
   ]
  },
  {
   "cell_type": "code",
   "execution_count": 8,
   "id": "2d27035b",
   "metadata": {},
   "outputs": [
    {
     "name": "stderr",
     "output_type": "stream",
     "text": [
      "Planning  : 100%|████████████████████████████████████████████████████████████| 4/4 [00:00<00:00, 207.56it/s]\n",
      "Mapping   : 100%|███████████████████████████████████████████████████████████| 25/25 [00:07<00:00,  3.14it/s]\n",
      "Binning   : 100%|█████████████████████████████████████████████████████████████| 2/2 [00:02<00:00,  1.32s/it]\n",
      "Splitting : 100%|███████████████████████████████████████████████████████████| 25/25 [01:42<00:00,  4.10s/it]\n",
      "Reducing  : 100%|███████████████████████████████████████████████████████████| 28/28 [00:21<00:00,  1.32it/s]\n",
      "Finishing : 100%|█████████████████████████████████████████████████████████████| 5/5 [00:00<00:00, 15.43it/s]\n"
     ]
    },
    {
     "name": "stdout",
     "output_type": "stream",
     "text": [
      "Num of input parquet files: ['596']\n",
      "Num of generated shards: ['1006']\n",
      "Num of output parquet: ['28']\n"
     ]
    }
   ],
   "source": [
    "args = ImportArguments(\n",
    "    output_artifact_name=\"dia_object_forced_source\",\n",
    "    input_file_list=get_paths(\"dia_object_forced_source\"),\n",
    "    file_reader=DimensionParquetReader(),\n",
    "    ra_column=\"coord_ra\",\n",
    "    dec_column=\"coord_dec\",\n",
    "    catalog_type=\"source\",\n",
    "    pixel_threshold=25_000_000,\n",
    "    highest_healpix_order=9,\n",
    "    **get_common_import_args()\n",
    ")\n",
    "profile_import(args)"
   ]
  },
  {
   "cell_type": "markdown",
   "id": "151806dd",
   "metadata": {},
   "source": [
    "#### object"
   ]
  },
  {
   "cell_type": "code",
   "execution_count": 9,
   "id": "820dcde1",
   "metadata": {},
   "outputs": [
    {
     "name": "stderr",
     "output_type": "stream",
     "text": [
      "Planning  : 100%|█████████████████████████████████████████████████████████████| 4/4 [00:00<00:00, 61.46it/s]\n",
      "Mapping   : 100%|██████████████████████████████████████████████████████████| 29/29 [00:00<00:00, 109.67it/s]\n",
      "Binning   : 100%|█████████████████████████████████████████████████████████████| 2/2 [00:00<00:00, 10.39it/s]\n",
      "Splitting : 100%|███████████████████████████████████████████████████████████| 29/29 [00:01<00:00, 19.05it/s]\n",
      "Reducing  : 100%|███████████████████████████████████████████████████████████| 21/21 [00:01<00:00, 15.93it/s]\n",
      "Finishing : 100%|█████████████████████████████████████████████████████████████| 5/5 [00:00<00:00, 31.98it/s]\n"
     ]
    },
    {
     "name": "stdout",
     "output_type": "stream",
     "text": [
      "Num of input parquet files: ['29']\n",
      "Num of generated shards: ['56']\n",
      "Num of output parquet: ['21']\n"
     ]
    }
   ],
   "source": [
    "cols_per_band = []\n",
    "for band in list(\"ugrizy\"):\n",
    "    for flux_type in [\"psf\", \"kron\"]:\n",
    "        prefix = f\"{band}_{flux_type}\"\n",
    "        cols_per_band.extend([f\"{prefix}Flux\", f\"{prefix}FluxErr\"])\n",
    "    cols_per_band.append(f\"{band}_kronRad\")\n",
    "\n",
    "obj_default_columns = [\n",
    "    \"objectId\",\n",
    "    \"refFwhm\",\n",
    "    \"shape_flag\",\n",
    "    \"sky_object\",\n",
    "    \"parentObjectId\",\n",
    "    \"x\",\n",
    "    \"y\",\n",
    "    \"xErr\",\n",
    "    \"yErr\",\n",
    "    \"shape_yy\",\n",
    "    \"shape_xx\",\n",
    "    \"shape_xy\",\n",
    "    \"coord_ra\",\n",
    "    \"coord_dec\",\n",
    "    \"coord_raErr\",\n",
    "    \"coord_decErr\",\n",
    "    \"tract\",\n",
    "    \"patch\",\n",
    "    \"detect_isIsolated\",\n",
    "] + cols_per_band\n",
    "\n",
    "args = ImportArguments(\n",
    "    output_artifact_name=\"object\",\n",
    "    input_file_list=get_paths(\"object\"),\n",
    "    file_reader=DimensionParquetReader(\n",
    "        column_names=obj_default_columns, chunksize=250_000\n",
    "    ),\n",
    "    ra_column=\"coord_ra\",\n",
    "    dec_column=\"coord_dec\",\n",
    "    catalog_type=\"object\",\n",
    "    highest_healpix_order=7,\n",
    "    pixel_threshold=300_000,\n",
    "    **get_common_import_args()\n",
    ")\n",
    "profile_import(args)"
   ]
  },
  {
   "cell_type": "markdown",
   "id": "399a739e",
   "metadata": {},
   "source": [
    "#### source"
   ]
  },
  {
   "cell_type": "code",
   "execution_count": 10,
   "id": "ce06f9be",
   "metadata": {},
   "outputs": [
    {
     "name": "stderr",
     "output_type": "stream",
     "text": [
      "Planning  : 100%|████████████████████████████████████████████████████████████| 4/4 [00:00<00:00, 241.35it/s]\n",
      "Mapping   : 100%|███████████████████████████████████████████████████████████| 75/75 [00:02<00:00, 36.86it/s]\n",
      "Binning   : 100%|█████████████████████████████████████████████████████████████| 2/2 [00:02<00:00,  1.20s/it]\n",
      "Splitting : 100%|███████████████████████████████████████████████████████████| 75/75 [00:38<00:00,  1.93it/s]\n",
      "Reducing  : 100%|█████████████████████████████████████████████████████████| 127/127 [00:20<00:00,  6.31it/s]\n",
      "Finishing : 100%|█████████████████████████████████████████████████████████████| 5/5 [00:01<00:00,  4.13it/s]\n"
     ]
    },
    {
     "name": "stdout",
     "output_type": "stream",
     "text": [
      "Num of input parquet files: ['1786']\n",
      "Num of generated shards: ['4846']\n",
      "Num of output parquet: ['127']\n"
     ]
    }
   ],
   "source": [
    "args = ImportArguments(\n",
    "    output_artifact_name=\"source\",\n",
    "    input_file_list=get_paths(\"source\"),\n",
    "    file_reader=DimensionParquetReader(),\n",
    "    ra_column=\"ra\",\n",
    "    dec_column=\"dec\",\n",
    "    catalog_type=\"source\",\n",
    "    highest_healpix_order=9,\n",
    "    pixel_threshold=1_000_000,\n",
    "    **get_common_import_args()\n",
    ")\n",
    "profile_import(args)"
   ]
  },
  {
   "cell_type": "markdown",
   "id": "e35b6c9d",
   "metadata": {},
   "source": [
    "#### object_forced_source"
   ]
  },
  {
   "cell_type": "code",
   "execution_count": 11,
   "id": "8a56dab1",
   "metadata": {},
   "outputs": [
    {
     "name": "stderr",
     "output_type": "stream",
     "text": [
      "Planning  : 100%|████████████████████████████████████████████████████████████| 4/4 [00:00<00:00, 262.01it/s]\n",
      "Mapping   : 100%|███████████████████████████████████████████████████████████| 29/29 [00:12<00:00,  2.35it/s]\n",
      "Binning   : 100%|█████████████████████████████████████████████████████████████| 2/2 [00:02<00:00,  1.29s/it]\n",
      "Splitting : 100%|███████████████████████████████████████████████████████████| 29/29 [02:37<00:00,  5.43s/it]\n",
      "Reducing  : 100%|███████████████████████████████████████████████████████████| 34/34 [00:22<00:00,  1.49it/s]\n",
      "Finishing : 100%|█████████████████████████████████████████████████████████████| 5/5 [00:00<00:00,  8.13it/s]\n"
     ]
    },
    {
     "name": "stdout",
     "output_type": "stream",
     "text": [
      "Num of input parquet files: ['635']\n",
      "Num of generated shards: ['1469']\n",
      "Num of output parquet: ['34']\n"
     ]
    }
   ],
   "source": [
    "args = ImportArguments(\n",
    "    output_artifact_name=\"object_forced_source\",\n",
    "    input_file_list=get_paths(\"object_forced_source\"),\n",
    "    file_reader=DimensionParquetReader(),\n",
    "    ra_column=\"coord_ra\",\n",
    "    dec_column=\"coord_dec\",\n",
    "    catalog_type=\"source\",\n",
    "    highest_healpix_order=9,\n",
    "    pixel_threshold=25_000_000,\n",
    "    **get_common_import_args()\n",
    ")\n",
    "profile_import(args)"
   ]
  },
  {
   "cell_type": "markdown",
   "id": "06200533",
   "metadata": {},
   "source": [
    "### Read vs write on each stage\n",
    "\n",
    "To help with visualization of these benchmarks I extracted the following timings from each Dask report. These do not represent duration, but total \"compute time\"."
   ]
  },
  {
   "cell_type": "code",
   "execution_count": null,
   "id": "ea5f60ab",
   "metadata": {},
   "outputs": [],
   "source": [
    "import numpy as np\n",
    "import matplotlib.pyplot as plt"
   ]
  },
  {
   "cell_type": "code",
   "execution_count": 1,
   "id": "fdb051cc",
   "metadata": {},
   "outputs": [],
   "source": [
    "stages = [\"Mapping+Binning\", \"Splitting\", \"Reducing\"]\n",
    "\n",
    "read_times = {\n",
    "    \"dia_object\": [1.13, 0.4, 0.05],\n",
    "    \"dia_source\": [0.79, 2.24, 1.27],\n",
    "    \"dia_object_forced_source\": [17.28, 32.23, 21.42],\n",
    "    \"object\": [1.3, 1.32, 0.8],\n",
    "    \"source\": [15.61, 60.72, 49.87],\n",
    "    \"object_forced_source\": [25.26, 45.36, 31.92]\n",
    "}\n",
    "write_times = {\n",
    "    \"dia_object\": [0.5, 0.44, 0.22],\n",
    "    \"dia_source\": [0.04, 7.83, 5.63],\n",
    "    \"dia_object_forced_source\": [0.05, 103.36, 78.86],\n",
    "    \"object\": [0.22, 5.51, 5.74],\n",
    "    \"source\": [0.25, 278.36, 187.02],\n",
    "    \"object_forced_source\": [0.18, 142.89, 109.97]\n",
    "}"
   ]
  },
  {
   "cell_type": "code",
   "execution_count": 11,
   "id": "65bb4a50",
   "metadata": {},
   "outputs": [
    {
     "data": {
      "image/png": "[encoded data removed]",
      "text/plain": [
       "<Figure size 1200x800 with 6 Axes>"
      ]
     },
     "metadata": {},
     "output_type": "display_data"
    }
   ],
   "source": [
    "fig, axes = plt.subplots(2, 3, figsize=(12, 8))\n",
    "axes = axes.flatten()\n",
    "x = np.arange(3)\n",
    "\n",
    "for i, key in enumerate(read_times.keys()):\n",
    "    axes[i].bar(x - 0.2, read_times[key], width=0.4, label='Read')\n",
    "    axes[i].bar(x + 0.2, write_times[key], width=0.4, label='Write')\n",
    "    axes[i].set_title(key)\n",
    "    axes[i].set_ylabel('Time (s)')\n",
    "    axes[i].set_xticks(x)\n",
    "    axes[i].set_xticklabels([stages[j] for j in range(3)])\n",
    "    axes[i].legend()\n",
    "\n",
    "plt.tight_layout()\n",
    "plt.show()"
   ]
  },
  {
   "cell_type": "markdown",
   "id": "de61c5e7",
   "metadata": {},
   "source": [
    "### Cleanup"
   ]
  },
  {
   "cell_type": "code",
   "execution_count": 12,
   "id": "e8c50d23",
   "metadata": {},
   "outputs": [],
   "source": [
    "client.close()\n",
    "tmp_path.cleanup()"
   ]
  }
 ],
 "metadata": {
  "kernelspec": {
   "display_name": "Python 3 (ipykernel)",
   "language": "python",
   "name": "python3"
  },
  "language_info": {
   "codemirror_mode": {
    "name": "ipython",
    "version": 3
   },
   "file_extension": ".py",
   "mimetype": "text/x-python",
   "name": "python",
   "nbconvert_exporter": "python",
   "pygments_lexer": "ipython3",
   "version": "3.12.9"
  }
 },
 "nbformat": 4,
 "nbformat_minor": 5
}
