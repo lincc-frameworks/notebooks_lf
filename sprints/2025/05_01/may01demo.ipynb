{
 "cells": [
  {
   "cell_type": "code",
   "execution_count": 21,
   "id": "8b8fe5b6",
   "metadata": {},
   "outputs": [
    {
     "name": "stdout",
     "output_type": "stream",
     "text": [
      "Note: you may need to restart the kernel to use updated packages.\n"
     ]
    }
   ],
   "source": [
    "%pip install -q git+https://github.com/astronomy-commons/hats.git@main"
   ]
  },
  {
   "cell_type": "code",
   "execution_count": 22,
   "id": "329d06d9",
   "metadata": {},
   "outputs": [
    {
     "name": "stdout",
     "output_type": "stream",
     "text": [
      "Note: you may need to restart the kernel to use updated packages.\n"
     ]
    }
   ],
   "source": [
    "%pip install -q git+https://github.com/astronomy-commons/lsdb.git@main"
   ]
  },
  {
   "cell_type": "code",
   "execution_count": 23,
   "id": "c5db6176",
   "metadata": {},
   "outputs": [
    {
     "name": "stdout",
     "output_type": "stream",
     "text": [
      "collection.properties  gaia_edr3_distances\t   gaia_source_id_index\r\n",
      "gaia\t\t       gaia_edr3_distances_10arcs\r\n",
      "gaia_10arcs\t       gaia_id_radec_index\r\n"
     ]
    }
   ],
   "source": [
    "! ls /data3/epyc/data3/hats/catalogs/gaia_dr3"
   ]
  },
  {
   "cell_type": "code",
   "execution_count": 24,
   "id": "dcfebc05",
   "metadata": {},
   "outputs": [],
   "source": [
    "import lsdb"
   ]
  },
  {
   "cell_type": "code",
   "execution_count": 25,
   "id": "c3dd3030",
   "metadata": {},
   "outputs": [],
   "source": [
    "## Uses the collection path, not the catalog path! Isn't that cool?\n",
    "\n",
    "gaia = lsdb.read_hats(\"/data3/epyc/data3/hats/catalogs/gaia_dr3\")"
   ]
  },
  {
   "cell_type": "code",
   "execution_count": 26,
   "id": "83bbc145",
   "metadata": {},
   "outputs": [
    {
     "data": {
      "text/plain": [
       "'gaia'"
      ]
     },
     "execution_count": 26,
     "metadata": {},
     "output_type": "execute_result"
    }
   ],
   "source": [
    "gaia.name"
   ]
  },
  {
   "cell_type": "code",
   "execution_count": 27,
   "id": "efbebd81",
   "metadata": {},
   "outputs": [
    {
     "data": {
      "text/plain": [
       "'gaia_10arcs'"
      ]
     },
     "execution_count": 27,
     "metadata": {},
     "output_type": "execute_result"
    }
   ],
   "source": [
    "gaia.margin.name"
   ]
  },
  {
   "cell_type": "markdown",
   "id": "b8895570",
   "metadata": {},
   "source": [
    "This is borrowing some of the IDs and functionality from the existing index search tutorial (that still needs to be updated)."
   ]
  },
  {
   "cell_type": "code",
   "execution_count": 28,
   "id": "be90a3cb",
   "metadata": {},
   "outputs": [],
   "source": [
    "ids = [\n",
    "    6350084614282952448,\n",
    "    4684296460655809408,\n",
    "    4684296460655681280,\n",
    "    6350084408124522368,\n",
    "    6379030430412267264,\n",
    "    6397962092201358080,\n",
    "    999999988604363776,\n",
    "]"
   ]
  },
  {
   "cell_type": "code",
   "execution_count": 29,
   "id": "5e176635",
   "metadata": {},
   "outputs": [],
   "source": [
    "target_sources = gaia.id_search(values={\"source_id\": ids})"
   ]
  },
  {
   "cell_type": "code",
   "execution_count": 30,
   "id": "796074a3",
   "metadata": {},
   "outputs": [
    {
     "ename": "ArrowTypeError",
     "evalue": "Array type doesn't match type of values set: int64 vs list<item: int64>",
     "output_type": "error",
     "traceback": [
      "\u001b[31m---------------------------------------------------------------------------\u001b[39m",
      "\u001b[31mArrowTypeError\u001b[39m                            Traceback (most recent call last)",
      "\u001b[36mCell\u001b[39m\u001b[36m \u001b[39m\u001b[32mIn[30]\u001b[39m\u001b[32m, line 1\u001b[39m\n\u001b[32m----> \u001b[39m\u001b[32m1\u001b[39m target_sources = \u001b[43mtarget_sources\u001b[49m\u001b[43m.\u001b[49m\u001b[43mcompute\u001b[49m\u001b[43m(\u001b[49m\u001b[43m)\u001b[49m\n\u001b[32m      2\u001b[39m \u001b[38;5;28mlen\u001b[39m(target_sources)\n",
      "\u001b[36mFile \u001b[39m\u001b[32m~/.conda/envs/hatsenv/lib/python3.12/site-packages/lsdb/catalog/dataset/dataset.py:47\u001b[39m, in \u001b[36mDataset.compute\u001b[39m\u001b[34m(self)\u001b[39m\n\u001b[32m     45\u001b[39m \u001b[38;5;28;01mdef\u001b[39;00m\u001b[38;5;250m \u001b[39m\u001b[34mcompute\u001b[39m(\u001b[38;5;28mself\u001b[39m) -> npd.NestedFrame:\n\u001b[32m     46\u001b[39m \u001b[38;5;250m    \u001b[39m\u001b[33;03m\"\"\"Compute dask distributed dataframe to pandas dataframe\"\"\"\u001b[39;00m\n\u001b[32m---> \u001b[39m\u001b[32m47\u001b[39m     \u001b[38;5;28;01mreturn\u001b[39;00m \u001b[38;5;28;43mself\u001b[39;49m\u001b[43m.\u001b[49m\u001b[43m_ddf\u001b[49m\u001b[43m.\u001b[49m\u001b[43mcompute\u001b[49m\u001b[43m(\u001b[49m\u001b[43m)\u001b[49m\n",
      "\u001b[36mFile \u001b[39m\u001b[32m~/.conda/envs/hatsenv/lib/python3.12/site-packages/lsdb/nested/core.py:437\u001b[39m, in \u001b[36mNestedFrame.compute\u001b[39m\u001b[34m(self, **kwargs)\u001b[39m\n\u001b[32m    435\u001b[39m \u001b[38;5;28;01mdef\u001b[39;00m\u001b[38;5;250m \u001b[39m\u001b[34mcompute\u001b[39m(\u001b[38;5;28mself\u001b[39m, **kwargs):\n\u001b[32m    436\u001b[39m \u001b[38;5;250m    \u001b[39m\u001b[33;03m\"\"\"Compute this Dask collection, returning the underlying dataframe or series.\"\"\"\u001b[39;00m\n\u001b[32m--> \u001b[39m\u001b[32m437\u001b[39m     \u001b[38;5;28;01mreturn\u001b[39;00m npd.NestedFrame(\u001b[38;5;28;43msuper\u001b[39;49m\u001b[43m(\u001b[49m\u001b[43m)\u001b[49m\u001b[43m.\u001b[49m\u001b[43mcompute\u001b[49m\u001b[43m(\u001b[49m\u001b[43m*\u001b[49m\u001b[43m*\u001b[49m\u001b[43mkwargs\u001b[49m\u001b[43m)\u001b[49m)\n",
      "\u001b[36mFile \u001b[39m\u001b[32m~/.conda/envs/hatsenv/lib/python3.12/site-packages/dask/dataframe/dask_expr/_collection.py:491\u001b[39m, in \u001b[36mFrameBase.compute\u001b[39m\u001b[34m(self, fuse, concatenate, **kwargs)\u001b[39m\n\u001b[32m    489\u001b[39m     out = out.repartition(npartitions=\u001b[32m1\u001b[39m)\n\u001b[32m    490\u001b[39m out = out.optimize(fuse=fuse)\n\u001b[32m--> \u001b[39m\u001b[32m491\u001b[39m \u001b[38;5;28;01mreturn\u001b[39;00m \u001b[43mDaskMethodsMixin\u001b[49m\u001b[43m.\u001b[49m\u001b[43mcompute\u001b[49m\u001b[43m(\u001b[49m\u001b[43mout\u001b[49m\u001b[43m,\u001b[49m\u001b[43m \u001b[49m\u001b[43m*\u001b[49m\u001b[43m*\u001b[49m\u001b[43mkwargs\u001b[49m\u001b[43m)\u001b[49m\n",
      "\u001b[36mFile \u001b[39m\u001b[32m~/.conda/envs/hatsenv/lib/python3.12/site-packages/dask/base.py:370\u001b[39m, in \u001b[36mDaskMethodsMixin.compute\u001b[39m\u001b[34m(self, **kwargs)\u001b[39m\n\u001b[32m    346\u001b[39m \u001b[38;5;28;01mdef\u001b[39;00m\u001b[38;5;250m \u001b[39m\u001b[34mcompute\u001b[39m(\u001b[38;5;28mself\u001b[39m, **kwargs):\n\u001b[32m    347\u001b[39m \u001b[38;5;250m    \u001b[39m\u001b[33;03m\"\"\"Compute this dask collection\u001b[39;00m\n\u001b[32m    348\u001b[39m \n\u001b[32m    349\u001b[39m \u001b[33;03m    This turns a lazy Dask collection into its in-memory equivalent.\u001b[39;00m\n\u001b[32m   (...)\u001b[39m\u001b[32m    368\u001b[39m \u001b[33;03m    dask.compute\u001b[39;00m\n\u001b[32m    369\u001b[39m \u001b[33;03m    \"\"\"\u001b[39;00m\n\u001b[32m--> \u001b[39m\u001b[32m370\u001b[39m     (result,) = \u001b[43mcompute\u001b[49m\u001b[43m(\u001b[49m\u001b[38;5;28;43mself\u001b[39;49m\u001b[43m,\u001b[49m\u001b[43m \u001b[49m\u001b[43mtraverse\u001b[49m\u001b[43m=\u001b[49m\u001b[38;5;28;43;01mFalse\u001b[39;49;00m\u001b[43m,\u001b[49m\u001b[43m \u001b[49m\u001b[43m*\u001b[49m\u001b[43m*\u001b[49m\u001b[43mkwargs\u001b[49m\u001b[43m)\u001b[49m\n\u001b[32m    371\u001b[39m     \u001b[38;5;28;01mreturn\u001b[39;00m result\n",
      "\u001b[36mFile \u001b[39m\u001b[32m~/.conda/envs/hatsenv/lib/python3.12/site-packages/dask/base.py:656\u001b[39m, in \u001b[36mcompute\u001b[39m\u001b[34m(traverse, optimize_graph, scheduler, get, *args, **kwargs)\u001b[39m\n\u001b[32m    653\u001b[39m     postcomputes.append(x.__dask_postcompute__())\n\u001b[32m    655\u001b[39m \u001b[38;5;28;01mwith\u001b[39;00m shorten_traceback():\n\u001b[32m--> \u001b[39m\u001b[32m656\u001b[39m     results = \u001b[43mschedule\u001b[49m\u001b[43m(\u001b[49m\u001b[43mdsk\u001b[49m\u001b[43m,\u001b[49m\u001b[43m \u001b[49m\u001b[43mkeys\u001b[49m\u001b[43m,\u001b[49m\u001b[43m \u001b[49m\u001b[43m*\u001b[49m\u001b[43m*\u001b[49m\u001b[43mkwargs\u001b[49m\u001b[43m)\u001b[49m\n\u001b[32m    658\u001b[39m \u001b[38;5;28;01mreturn\u001b[39;00m repack([f(r, *a) \u001b[38;5;28;01mfor\u001b[39;00m r, (f, a) \u001b[38;5;129;01min\u001b[39;00m \u001b[38;5;28mzip\u001b[39m(results, postcomputes)])\n",
      "\u001b[36mFile \u001b[39m\u001b[32m~/.conda/envs/hatsenv/lib/python3.12/site-packages/lsdb/core/search/index_search.py:47\u001b[39m, in \u001b[36mIndexSearch.search_points\u001b[39m\u001b[34m(self, frame, _)\u001b[39m\n\u001b[32m     45\u001b[39m \u001b[38;5;28;01mfor\u001b[39;00m field_name, field_index_catalog \u001b[38;5;129;01min\u001b[39;00m \u001b[38;5;28mself\u001b[39m.index_catalogs.items():\n\u001b[32m     46\u001b[39m     index_column = field_index_catalog.catalog_info.indexing_column\n\u001b[32m---> \u001b[39m\u001b[32m47\u001b[39m     mask = \u001b[43mframe\u001b[49m\u001b[43m[\u001b[49m\u001b[43mindex_column\u001b[49m\u001b[43m]\u001b[49m\u001b[43m.\u001b[49m\u001b[43misin\u001b[49m\u001b[43m(\u001b[49m\u001b[43m[\u001b[49m\u001b[38;5;28;43mself\u001b[39;49m\u001b[43m.\u001b[49m\u001b[43mvalues\u001b[49m\u001b[43m[\u001b[49m\u001b[43mfield_name\u001b[49m\u001b[43m]\u001b[49m\u001b[43m]\u001b[49m\u001b[43m)\u001b[49m\n\u001b[32m     48\u001b[39m     filter_mask = filter_mask & mask\n\u001b[32m     49\u001b[39m \u001b[38;5;28;01mreturn\u001b[39;00m frame[filter_mask]\n",
      "\u001b[36mFile \u001b[39m\u001b[32m~/.conda/envs/hatsenv/lib/python3.12/site-packages/pyarrow/compute.py:264\u001b[39m, in \u001b[36m_make_generic_wrapper.<locals>.wrapper\u001b[39m\u001b[34m(memory_pool, options, *args, **kwargs)\u001b[39m\n\u001b[32m    262\u001b[39m \u001b[38;5;28;01mif\u001b[39;00m args \u001b[38;5;129;01mand\u001b[39;00m \u001b[38;5;28misinstance\u001b[39m(args[\u001b[32m0\u001b[39m], Expression):\n\u001b[32m    263\u001b[39m     \u001b[38;5;28;01mreturn\u001b[39;00m Expression._call(func_name, \u001b[38;5;28mlist\u001b[39m(args), options)\n\u001b[32m--> \u001b[39m\u001b[32m264\u001b[39m \u001b[38;5;28;01mreturn\u001b[39;00m \u001b[43mfunc\u001b[49m\u001b[43m.\u001b[49m\u001b[43mcall\u001b[49m\u001b[43m(\u001b[49m\u001b[43margs\u001b[49m\u001b[43m,\u001b[49m\u001b[43m \u001b[49m\u001b[43moptions\u001b[49m\u001b[43m,\u001b[49m\u001b[43m \u001b[49m\u001b[43mmemory_pool\u001b[49m\u001b[43m)\u001b[49m\n",
      "\u001b[36mFile \u001b[39m\u001b[32m~/.conda/envs/hatsenv/lib/python3.12/site-packages/pyarrow/_compute.pyx:393\u001b[39m, in \u001b[36mpyarrow._compute.Function.call\u001b[39m\u001b[34m()\u001b[39m\n",
      "\u001b[36mFile \u001b[39m\u001b[32m~/.conda/envs/hatsenv/lib/python3.12/site-packages/pyarrow/error.pxi:155\u001b[39m, in \u001b[36mpyarrow.lib.pyarrow_internal_check_status\u001b[39m\u001b[34m()\u001b[39m\n",
      "\u001b[36mFile \u001b[39m\u001b[32m~/.conda/envs/hatsenv/lib/python3.12/site-packages/pyarrow/error.pxi:92\u001b[39m, in \u001b[36mpyarrow.lib.check_status\u001b[39m\u001b[34m()\u001b[39m\n",
      "\u001b[31mArrowTypeError\u001b[39m: Array type doesn't match type of values set: int64 vs list<item: int64>"
     ]
    }
   ],
   "source": [
    "target_sources = target_sources.compute()\n",
    "len(target_sources)"
   ]
  },
  {
   "cell_type": "code",
   "execution_count": null,
   "id": "0403c201",
   "metadata": {},
   "outputs": [],
   "source": []
  }
 ],
 "metadata": {
  "kernelspec": {
   "display_name": "DeLucchi HATS",
   "language": "python",
   "name": "hatsenv"
  },
  "language_info": {
   "codemirror_mode": {
    "name": "ipython",
    "version": 3
   },
   "file_extension": ".py",
   "mimetype": "text/x-python",
   "name": "python",
   "nbconvert_exporter": "python",
   "pygments_lexer": "ipython3",
   "version": "3.12.9"
  }
 },
 "nbformat": 4,
 "nbformat_minor": 5
}
