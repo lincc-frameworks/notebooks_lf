{
 "cells": [
  {
   "cell_type": "markdown",
   "id": "ffcce36c",
   "metadata": {},
   "source": [
    "## Row-group splitting\n",
    "\n",
    "This notebook demonstrates an initial implementation of the row-group splitting strategies discussed in recent meetings."
   ]
  },
  {
   "cell_type": "code",
   "execution_count": 1,
   "id": "f9db2957",
   "metadata": {},
   "outputs": [],
   "source": [
    "import os\n",
    "import tempfile\n",
    "import pyarrow.parquet as pq\n",
    "import hats_import.catalog.run_import as runner\n",
    "\n",
    "from dask.distributed import Client\n",
    "from hats.pixel_math import HealpixPixel\n",
    "from hats.pixel_math.spatial_index import spatial_index_to_healpix\n",
    "from hats_import.catalog.arguments import ImportArguments"
   ]
  },
  {
   "cell_type": "code",
   "execution_count": 2,
   "id": "040eec00",
   "metadata": {},
   "outputs": [],
   "source": [
    "tmp_dir = tempfile.TemporaryDirectory()\n",
    "tmp_path = tmp_dir.name\n",
    "client = Client(n_workers=16, threads_per_worker=1, local_directory=tmp_path)"
   ]
  },
  {
   "cell_type": "markdown",
   "id": "fa182494",
   "metadata": {
    "vscode": {
     "languageId": "plaintext"
    }
   },
   "source": [
    "### Split by `num_rows`\n",
    "\n",
    "Let's split into row groups of size 100."
   ]
  },
  {
   "cell_type": "code",
   "execution_count": 3,
   "id": "da1970ef",
   "metadata": {},
   "outputs": [
    {
     "name": "stderr",
     "output_type": "stream",
     "text": [
      "Planning  : 100%|██████████| 4/4 [00:00<00:00, 1195.72it/s]\n",
      "Mapping   : 100%|██████████| 1/1 [00:01<00:00,  1.04s/it]\n",
      "Binning   : 100%|██████████| 2/2 [00:00<00:00, 418.84it/s]\n",
      "Splitting : 100%|██████████| 1/1 [00:00<00:00,  1.19it/s]\n",
      "Reducing  : 100%|██████████| 14/14 [00:04<00:00,  2.90it/s]\n",
      "Finishing : 100%|██████████| 5/5 [00:00<00:00, 95.80it/s]\n"
     ]
    }
   ],
   "source": [
    "args = ImportArguments(\n",
    "    output_artifact_name=\"small_sky_source_catalog\",\n",
    "    input_file_list=[\"small_sky_source.csv\"],\n",
    "    file_reader=\"csv\",\n",
    "    catalog_type=\"source\",\n",
    "    ra_column=\"source_ra\",\n",
    "    dec_column=\"source_dec\",\n",
    "    # Specify a sorting column\n",
    "    sort_columns=\"source_id\",\n",
    "    output_path=tmp_path,\n",
    "    dask_tmp=tmp_path,\n",
    "    highest_healpix_order=2,\n",
    "    pixel_threshold=3_000,\n",
    "    simple_progress_bar=True,\n",
    "    # Specify a custom row group size\n",
    "    row_group_kwargs={\"num_rows\": 100},\n",
    ")\n",
    "runner.run(args, client)"
   ]
  },
  {
   "cell_type": "code",
   "execution_count": 4,
   "id": "f1612d5d",
   "metadata": {},
   "outputs": [],
   "source": [
    "# Grab a single partition file\n",
    "output_file = os.path.join(args.catalog_path, \"dataset\", \"Norder=1\", \"Dir=0\", \"Npix=47.parquet\")\n",
    "pixel = pq.ParquetFile(output_file)\n",
    "data = pixel.read()\n",
    "metadata = pixel.metadata"
   ]
  },
  {
   "cell_type": "code",
   "execution_count": 5,
   "id": "807c4ae0",
   "metadata": {},
   "outputs": [],
   "source": [
    "# The metadata num_rows matches the actual data size\n",
    "assert metadata.num_rows == len(data) == 2397\n",
    "\n",
    "# We expect having 2397 / 100 number of row_groups\n",
    "assert metadata.num_row_groups == pixel.num_row_groups == 24\n",
    "\n",
    "for i in range(metadata.num_row_groups):\n",
    "    num_rows_metadata = metadata.row_group(i).num_rows\n",
    "    num_actual_rows = len(pixel.read_row_group(i))\n",
    "    assert num_rows_metadata == num_actual_rows\n",
    "    # The last row group has only 97 rows, which is fine\n",
    "    expected_num_rows = 100 if i < metadata.num_row_groups - 1 else 97\n",
    "    assert num_rows_metadata == expected_num_rows"
   ]
  },
  {
   "cell_type": "markdown",
   "id": "65cf8aad",
   "metadata": {},
   "source": [
    "Let's also check that the sorting columns were applied and saved to the parquet metadata:"
   ]
  },
  {
   "cell_type": "code",
   "execution_count": 6,
   "id": "d6919d62",
   "metadata": {},
   "outputs": [
    {
     "data": {
      "text/plain": [
       "(('_healpix_29', 'ascending'), ('source_id', 'ascending'))"
      ]
     },
     "execution_count": 6,
     "metadata": {},
     "output_type": "execute_result"
    }
   ],
   "source": [
    "sorting_columns = metadata.row_group(0).sorting_columns\n",
    "sorting_columns = pq.SortingColumn.to_ordering(data.schema, sorting_columns)[0]\n",
    "sorting_columns"
   ]
  },
  {
   "cell_type": "code",
   "execution_count": 7,
   "id": "f92e863c",
   "metadata": {},
   "outputs": [
    {
     "data": {
      "text/html": [
       "<div>\n",
       "<style scoped>\n",
       "    .dataframe tbody tr th:only-of-type {\n",
       "        vertical-align: middle;\n",
       "    }\n",
       "\n",
       "    .dataframe tbody tr th {\n",
       "        vertical-align: top;\n",
       "    }\n",
       "\n",
       "    .dataframe thead th {\n",
       "        text-align: right;\n",
       "    }\n",
       "</style>\n",
       "<table border=\"1\" class=\"dataframe\">\n",
       "  <thead>\n",
       "    <tr style=\"text-align: right;\">\n",
       "      <th></th>\n",
       "      <th>_healpix_29</th>\n",
       "      <th>source_id</th>\n",
       "      <th>source_ra</th>\n",
       "      <th>source_dec</th>\n",
       "      <th>mjd</th>\n",
       "      <th>mag</th>\n",
       "      <th>band</th>\n",
       "      <th>object_id</th>\n",
       "      <th>object_ra</th>\n",
       "      <th>object_dec</th>\n",
       "    </tr>\n",
       "  </thead>\n",
       "  <tbody>\n",
       "    <tr>\n",
       "      <th>0</th>\n",
       "      <td>3388234672763677299</td>\n",
       "      <td>79057</td>\n",
       "      <td>319.689276</td>\n",
       "      <td>-35.471646</td>\n",
       "      <td>58994.729122</td>\n",
       "      <td>19.275708</td>\n",
       "      <td>u</td>\n",
       "      <td>756</td>\n",
       "      <td>319.5</td>\n",
       "      <td>-35.5</td>\n",
       "    </tr>\n",
       "    <tr>\n",
       "      <th>1</th>\n",
       "      <td>3388234672763677299</td>\n",
       "      <td>99998</td>\n",
       "      <td>319.689276</td>\n",
       "      <td>-35.471646</td>\n",
       "      <td>58994.729122</td>\n",
       "      <td>19.275708</td>\n",
       "      <td>u</td>\n",
       "      <td>756</td>\n",
       "      <td>319.5</td>\n",
       "      <td>-35.5</td>\n",
       "    </tr>\n",
       "    <tr>\n",
       "      <th>2</th>\n",
       "      <td>3388234672763677299</td>\n",
       "      <td>99999</td>\n",
       "      <td>319.689276</td>\n",
       "      <td>-35.471646</td>\n",
       "      <td>58994.729122</td>\n",
       "      <td>19.275708</td>\n",
       "      <td>u</td>\n",
       "      <td>756</td>\n",
       "      <td>319.5</td>\n",
       "      <td>-35.5</td>\n",
       "    </tr>\n",
       "    <tr>\n",
       "      <th>3</th>\n",
       "      <td>3388234896379895635</td>\n",
       "      <td>73886</td>\n",
       "      <td>319.592796</td>\n",
       "      <td>-35.483273</td>\n",
       "      <td>58633.906487</td>\n",
       "      <td>20.147505</td>\n",
       "      <td>y</td>\n",
       "      <td>756</td>\n",
       "      <td>319.5</td>\n",
       "      <td>-35.5</td>\n",
       "    </tr>\n",
       "    <tr>\n",
       "      <th>4</th>\n",
       "      <td>3388235099832987970</td>\n",
       "      <td>71841</td>\n",
       "      <td>319.679813</td>\n",
       "      <td>-35.441961</td>\n",
       "      <td>58489.957445</td>\n",
       "      <td>15.386864</td>\n",
       "      <td>r</td>\n",
       "      <td>756</td>\n",
       "      <td>319.5</td>\n",
       "      <td>-35.5</td>\n",
       "    </tr>\n",
       "    <tr>\n",
       "      <th>...</th>\n",
       "      <td>...</td>\n",
       "      <td>...</td>\n",
       "      <td>...</td>\n",
       "      <td>...</td>\n",
       "      <td>...</td>\n",
       "      <td>...</td>\n",
       "      <td>...</td>\n",
       "      <td>...</td>\n",
       "      <td>...</td>\n",
       "      <td>...</td>\n",
       "    </tr>\n",
       "    <tr>\n",
       "      <th>2392</th>\n",
       "      <td>3424208044572750931</td>\n",
       "      <td>82429</td>\n",
       "      <td>307.815932</td>\n",
       "      <td>-24.920788</td>\n",
       "      <td>59233.671893</td>\n",
       "      <td>20.213820</td>\n",
       "      <td>r</td>\n",
       "      <td>743</td>\n",
       "      <td>307.5</td>\n",
       "      <td>-25.5</td>\n",
       "    </tr>\n",
       "    <tr>\n",
       "      <th>2393</th>\n",
       "      <td>3424209168946108787</td>\n",
       "      <td>77865</td>\n",
       "      <td>307.979441</td>\n",
       "      <td>-24.914767</td>\n",
       "      <td>58912.155282</td>\n",
       "      <td>16.821213</td>\n",
       "      <td>z</td>\n",
       "      <td>743</td>\n",
       "      <td>307.5</td>\n",
       "      <td>-25.5</td>\n",
       "    </tr>\n",
       "    <tr>\n",
       "      <th>2394</th>\n",
       "      <td>3424289351527689270</td>\n",
       "      <td>85500</td>\n",
       "      <td>307.546865</td>\n",
       "      <td>-25.013211</td>\n",
       "      <td>59448.830181</td>\n",
       "      <td>17.698490</td>\n",
       "      <td>z</td>\n",
       "      <td>743</td>\n",
       "      <td>307.5</td>\n",
       "      <td>-25.5</td>\n",
       "    </tr>\n",
       "    <tr>\n",
       "      <th>2395</th>\n",
       "      <td>3424289397526654168</td>\n",
       "      <td>70604</td>\n",
       "      <td>307.553185</td>\n",
       "      <td>-25.007915</td>\n",
       "      <td>58406.843975</td>\n",
       "      <td>16.936253</td>\n",
       "      <td>u</td>\n",
       "      <td>743</td>\n",
       "      <td>307.5</td>\n",
       "      <td>-25.5</td>\n",
       "    </tr>\n",
       "    <tr>\n",
       "      <th>2396</th>\n",
       "      <td>3424301471875806021</td>\n",
       "      <td>86081</td>\n",
       "      <td>307.606224</td>\n",
       "      <td>-24.926633</td>\n",
       "      <td>59488.818985</td>\n",
       "      <td>16.745674</td>\n",
       "      <td>i</td>\n",
       "      <td>743</td>\n",
       "      <td>307.5</td>\n",
       "      <td>-25.5</td>\n",
       "    </tr>\n",
       "  </tbody>\n",
       "</table>\n",
       "<p>2397 rows × 10 columns</p>\n",
       "</div>"
      ],
      "text/plain": [
       "              _healpix_29  source_id   source_ra  source_dec           mjd  \\\n",
       "0     3388234672763677299      79057  319.689276  -35.471646  58994.729122   \n",
       "1     3388234672763677299      99998  319.689276  -35.471646  58994.729122   \n",
       "2     3388234672763677299      99999  319.689276  -35.471646  58994.729122   \n",
       "3     3388234896379895635      73886  319.592796  -35.483273  58633.906487   \n",
       "4     3388235099832987970      71841  319.679813  -35.441961  58489.957445   \n",
       "...                   ...        ...         ...         ...           ...   \n",
       "2392  3424208044572750931      82429  307.815932  -24.920788  59233.671893   \n",
       "2393  3424209168946108787      77865  307.979441  -24.914767  58912.155282   \n",
       "2394  3424289351527689270      85500  307.546865  -25.013211  59448.830181   \n",
       "2395  3424289397526654168      70604  307.553185  -25.007915  58406.843975   \n",
       "2396  3424301471875806021      86081  307.606224  -24.926633  59488.818985   \n",
       "\n",
       "            mag band  object_id  object_ra  object_dec  \n",
       "0     19.275708    u        756      319.5       -35.5  \n",
       "1     19.275708    u        756      319.5       -35.5  \n",
       "2     19.275708    u        756      319.5       -35.5  \n",
       "3     20.147505    y        756      319.5       -35.5  \n",
       "4     15.386864    r        756      319.5       -35.5  \n",
       "...         ...  ...        ...        ...         ...  \n",
       "2392  20.213820    r        743      307.5       -25.5  \n",
       "2393  16.821213    z        743      307.5       -25.5  \n",
       "2394  17.698490    z        743      307.5       -25.5  \n",
       "2395  16.936253    u        743      307.5       -25.5  \n",
       "2396  16.745674    i        743      307.5       -25.5  \n",
       "\n",
       "[2397 rows x 10 columns]"
      ]
     },
     "execution_count": 7,
     "metadata": {},
     "output_type": "execute_result"
    }
   ],
   "source": [
    "pixel_df = data.to_pandas()\n",
    "pixel_df"
   ]
  },
  {
   "cell_type": "code",
   "execution_count": 8,
   "id": "f1384bff",
   "metadata": {},
   "outputs": [],
   "source": [
    "# The first key used for sorting is _healpix_29\n",
    "assert pixel_df[\"_healpix_29\"].is_monotonic_increasing\n",
    "# Rows with the same _healpix_29 are sorted by `source_id` next (also in ascending order)\n",
    "assert data.equals(data.sort_by(sorting_columns))"
   ]
  },
  {
   "cell_type": "code",
   "execution_count": 9,
   "id": "82f9565d",
   "metadata": {},
   "outputs": [],
   "source": [
    "tmp_dir.cleanup()"
   ]
  },
  {
   "cell_type": "markdown",
   "id": "88b9cb34",
   "metadata": {},
   "source": [
    "### Split by `sub-tiling`\n",
    "\n",
    "Let's split the target pixels into HEALPix row groups of higher order (delta=2)."
   ]
  },
  {
   "cell_type": "code",
   "execution_count": 10,
   "id": "a1a7717e",
   "metadata": {},
   "outputs": [
    {
     "name": "stderr",
     "output_type": "stream",
     "text": [
      "Planning  : 100%|██████████| 4/4 [00:00<00:00, 1139.60it/s]\n",
      "Mapping   : 100%|██████████| 1/1 [00:00<00:00, 14.65it/s]\n",
      "Binning   : 100%|██████████| 2/2 [00:00<00:00, 444.43it/s]\n",
      "Splitting : 100%|██████████| 1/1 [00:00<00:00,  9.29it/s]\n",
      "Reducing  : 100%|██████████| 14/14 [00:01<00:00, 13.06it/s]\n",
      "Finishing : 100%|██████████| 5/5 [00:00<00:00, 279.03it/s]\n"
     ]
    }
   ],
   "source": [
    "args = ImportArguments(\n",
    "    output_artifact_name=\"small_sky_source_catalog\",\n",
    "    input_file_list=[\"small_sky_source.csv\"],\n",
    "    file_reader=\"csv\",\n",
    "    catalog_type=\"source\",\n",
    "    ra_column=\"source_ra\",\n",
    "    dec_column=\"source_dec\",\n",
    "    sort_columns=\"source_id\",\n",
    "    output_path=tmp_path,\n",
    "    dask_tmp=tmp_path,\n",
    "    highest_healpix_order=2,\n",
    "    pixel_threshold=3_000,\n",
    "    simple_progress_bar=True,\n",
    "    # Specify a custom row group delta split\n",
    "    row_group_kwargs={\"subtile_order_delta\": 2},\n",
    ")\n",
    "runner.run(args, client)"
   ]
  },
  {
   "cell_type": "code",
   "execution_count": 11,
   "id": "f1426df7",
   "metadata": {},
   "outputs": [],
   "source": [
    "# Grab a single partition file\n",
    "output_file = os.path.join(args.catalog_path, \"dataset\", \"Norder=1\", \"Dir=0\", \"Npix=47.parquet\")\n",
    "pixel = pq.ParquetFile(output_file)\n",
    "data = pixel.read()\n",
    "metadata = pixel.metadata\n",
    "assert metadata.num_rows == len(data) == 2397"
   ]
  },
  {
   "cell_type": "markdown",
   "id": "bbca8a83",
   "metadata": {},
   "source": [
    "With this splitting strategy this pixel will have **non-empty** row groups of order 3:"
   ]
  },
  {
   "cell_type": "code",
   "execution_count": 12,
   "id": "8cb58621",
   "metadata": {},
   "outputs": [
    {
     "name": "stdout",
     "output_type": "stream",
     "text": [
      "Possible 16 child pixels:\n"
     ]
    },
    {
     "data": {
      "text/plain": [
       "[Order: 3, Pixel: 752,\n",
       " Order: 3, Pixel: 753,\n",
       " Order: 3, Pixel: 754,\n",
       " Order: 3, Pixel: 755,\n",
       " Order: 3, Pixel: 756,\n",
       " Order: 3, Pixel: 757,\n",
       " Order: 3, Pixel: 758,\n",
       " Order: 3, Pixel: 759,\n",
       " Order: 3, Pixel: 760,\n",
       " Order: 3, Pixel: 761,\n",
       " Order: 3, Pixel: 762,\n",
       " Order: 3, Pixel: 763,\n",
       " Order: 3, Pixel: 764,\n",
       " Order: 3, Pixel: 765,\n",
       " Order: 3, Pixel: 766,\n",
       " Order: 3, Pixel: 767]"
      ]
     },
     "execution_count": 12,
     "metadata": {},
     "output_type": "execute_result"
    }
   ],
   "source": [
    "child_pixels = HealpixPixel(1, 47).convert_to_higher_order(delta_order=2)\n",
    "print(f\"Possible {len(child_pixels)} child pixels:\")\n",
    "child_pixels"
   ]
  },
  {
   "cell_type": "code",
   "execution_count": 13,
   "id": "b5bbf728",
   "metadata": {},
   "outputs": [],
   "source": [
    "# The empty sub-tiles are not kept\n",
    "assert pixel.num_row_groups == 5"
   ]
  },
  {
   "cell_type": "markdown",
   "id": "037df802",
   "metadata": {},
   "source": [
    "Let's confirm that the data was correctly partitioned:"
   ]
  },
  {
   "cell_type": "code",
   "execution_count": 14,
   "id": "9c5c15e5",
   "metadata": {},
   "outputs": [],
   "source": [
    "seen_pixels = []\n",
    "\n",
    "for i in range(metadata.num_row_groups):\n",
    "    row_group = metadata.row_group(i)\n",
    "\n",
    "    # The row group is not empty\n",
    "    assert row_group.num_rows > 0\n",
    "    min_healpix29 = row_group.column(0).statistics.min\n",
    "    max_healpix29 = row_group.column(0).statistics.max\n",
    "\n",
    "    # The data in this row group only belongs to one pixel at order 3\n",
    "    pixel_min, pixel_max = spatial_index_to_healpix([min_healpix29, max_healpix29], target_order=3)\n",
    "    assert pixel_min == pixel_max\n",
    "    assert HealpixPixel(3, pixel_min) in child_pixels\n",
    "\n",
    "    # The row group contains data that does in fact belong to the pixel\n",
    "    row_group_healpix29 = pixel.read_row_group(i)[\"_healpix_29\"].to_numpy()\n",
    "    assert all(row_group_healpix29 >= min_healpix29)\n",
    "    assert all(row_group_healpix29 <= max_healpix29)\n",
    "    \n",
    "    seen_pixels.append(int(pixel_min))"
   ]
  },
  {
   "cell_type": "code",
   "execution_count": 15,
   "id": "8fef6745",
   "metadata": {},
   "outputs": [
    {
     "data": {
      "text/plain": [
       "[752, 753, 754, 755, 760]"
      ]
     },
     "execution_count": 15,
     "metadata": {},
     "output_type": "execute_result"
    }
   ],
   "source": [
    "# There is no overlap between row group pixels\n",
    "seen_pixels"
   ]
  },
  {
   "cell_type": "markdown",
   "id": "a9ca5be5",
   "metadata": {},
   "source": [
    "#### WIP: Default behavior (when no strategy is specified)\n",
    "\n",
    "For files >=100MB we should split each pixel into row groups of 100MB each. The row group size needs to be calculated dinamically according to the size per row."
   ]
  },
  {
   "cell_type": "code",
   "execution_count": null,
   "id": "19c546f8",
   "metadata": {},
   "outputs": [],
   "source": [
    "client.close()\n",
    "tmp_dir.cleanup()"
   ]
  }
 ],
 "metadata": {
  "kernelspec": {
   "display_name": "lsdb",
   "language": "python",
   "name": "python3"
  },
  "language_info": {
   "codemirror_mode": {
    "name": "ipython",
    "version": 3
   },
   "file_extension": ".py",
   "mimetype": "text/x-python",
   "name": "python",
   "nbconvert_exporter": "python",
   "pygments_lexer": "ipython3",
   "version": "3.11.11"
  }
 },
 "nbformat": 4,
 "nbformat_minor": 5
}
