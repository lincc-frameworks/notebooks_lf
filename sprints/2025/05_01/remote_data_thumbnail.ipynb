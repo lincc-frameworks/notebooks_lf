{
 "cells": [
  {
   "cell_type": "code",
   "execution_count": 1,
   "id": "612d5bd8-7930-4ba7-afa2-619c5270f7a6",
   "metadata": {
    "execution": {
     "iopub.execute_input": "2025-05-01T01:11:06.411296Z",
     "iopub.status.busy": "2025-05-01T01:11:06.410839Z",
     "iopub.status.idle": "2025-05-01T01:11:13.312683Z",
     "shell.execute_reply": "2025-05-01T01:11:13.311591Z",
     "shell.execute_reply.started": "2025-05-01T01:11:06.411257Z"
    }
   },
   "outputs": [],
   "source": [
    "import lsdb"
   ]
  },
  {
   "cell_type": "code",
   "execution_count": 2,
   "id": "e82a550a-cc2f-4ffc-b10e-cab37fad37e6",
   "metadata": {
    "execution": {
     "iopub.execute_input": "2025-05-01T01:11:13.378690Z",
     "iopub.status.busy": "2025-05-01T01:11:13.378399Z",
     "iopub.status.idle": "2025-05-01T01:50:09.893184Z",
     "shell.execute_reply": "2025-05-01T01:50:09.892160Z",
     "shell.execute_reply.started": "2025-05-01T01:11:13.378658Z"
    }
   },
   "outputs": [
    {
     "data": {
      "text/html": [
       "<pre style=\"margin: 0.1em;\n",
       "padding-left: 0.25em;\n",
       "border-left-style: solid;\n",
       "font-family: var(--jp-code-font-family);\n",
       "font-size: var(--jp-code-font-size);\n",
       "line-height: var(--jp-code-line-height);\n",
       "\"><span style=\"color: var(--jp-warn-color2)\">distributed.scheduler</span> <span style=\"color: var(--jp-info-color0)\">INFO</span>: State start</pre>"
      ],
      "text/plain": [
       "<IPython.core.display.HTML object>"
      ]
     },
     "metadata": {},
     "output_type": "display_data"
    },
    {
     "data": {
      "text/html": [
       "<pre style=\"margin: 0.1em;\n",
       "padding-left: 0.25em;\n",
       "border-left-style: solid;\n",
       "font-family: var(--jp-code-font-family);\n",
       "font-size: var(--jp-code-font-size);\n",
       "line-height: var(--jp-code-line-height);\n",
       "\"><span style=\"color: var(--jp-warn-color2)\">distributed.diskutils</span> <span style=\"color: var(--jp-info-color0)\">INFO</span>: Found stale lock file and directory &#x27;/tmp/dask-scratch-space/scheduler-shkauu3q&#x27;, purging</pre>"
      ],
      "text/plain": [
       "<IPython.core.display.HTML object>"
      ]
     },
     "metadata": {},
     "output_type": "display_data"
    },
    {
     "data": {
      "text/html": [
       "<pre style=\"margin: 0.1em;\n",
       "padding-left: 0.25em;\n",
       "border-left-style: solid;\n",
       "font-family: var(--jp-code-font-family);\n",
       "font-size: var(--jp-code-font-size);\n",
       "line-height: var(--jp-code-line-height);\n",
       "\"><span style=\"color: var(--jp-warn-color2)\">distributed.diskutils</span> <span style=\"color: var(--jp-info-color0)\">INFO</span>: Found stale lock file and directory &#x27;/tmp/dask-scratch-space/worker-v5a2o7_h&#x27;, purging</pre>"
      ],
      "text/plain": [
       "<IPython.core.display.HTML object>"
      ]
     },
     "metadata": {},
     "output_type": "display_data"
    },
    {
     "data": {
      "text/html": [
       "<pre style=\"margin: 0.1em;\n",
       "padding-left: 0.25em;\n",
       "border-left-style: solid;\n",
       "font-family: var(--jp-code-font-family);\n",
       "font-size: var(--jp-code-font-size);\n",
       "line-height: var(--jp-code-line-height);\n",
       "\"><span style=\"color: var(--jp-warn-color2)\">distributed.diskutils</span> <span style=\"color: var(--jp-info-color0)\">INFO</span>: Found stale lock file and directory &#x27;/tmp/dask-scratch-space/worker-5ih6t6v0&#x27;, purging</pre>"
      ],
      "text/plain": [
       "<IPython.core.display.HTML object>"
      ]
     },
     "metadata": {},
     "output_type": "display_data"
    },
    {
     "data": {
      "text/html": [
       "<pre style=\"margin: 0.1em;\n",
       "padding-left: 0.25em;\n",
       "border-left-style: solid;\n",
       "font-family: var(--jp-code-font-family);\n",
       "font-size: var(--jp-code-font-size);\n",
       "line-height: var(--jp-code-line-height);\n",
       "\"><span style=\"color: var(--jp-warn-color2)\">distributed.diskutils</span> <span style=\"color: var(--jp-info-color0)\">INFO</span>: Found stale lock file and directory &#x27;/tmp/dask-scratch-space/worker-7zvvpbhe&#x27;, purging</pre>"
      ],
      "text/plain": [
       "<IPython.core.display.HTML object>"
      ]
     },
     "metadata": {},
     "output_type": "display_data"
    },
    {
     "data": {
      "text/html": [
       "<pre style=\"margin: 0.1em;\n",
       "padding-left: 0.25em;\n",
       "border-left-style: solid;\n",
       "font-family: var(--jp-code-font-family);\n",
       "font-size: var(--jp-code-font-size);\n",
       "line-height: var(--jp-code-line-height);\n",
       "\"><span style=\"color: var(--jp-warn-color2)\">distributed.diskutils</span> <span style=\"color: var(--jp-info-color0)\">INFO</span>: Found stale lock file and directory &#x27;/tmp/dask-scratch-space/worker-37wbvo29&#x27;, purging</pre>"
      ],
      "text/plain": [
       "<IPython.core.display.HTML object>"
      ]
     },
     "metadata": {},
     "output_type": "display_data"
    },
    {
     "data": {
      "text/html": [
       "<pre style=\"margin: 0.1em;\n",
       "padding-left: 0.25em;\n",
       "border-left-style: solid;\n",
       "font-family: var(--jp-code-font-family);\n",
       "font-size: var(--jp-code-font-size);\n",
       "line-height: var(--jp-code-line-height);\n",
       "\"><span style=\"color: var(--jp-warn-color2)\">distributed.diskutils</span> <span style=\"color: var(--jp-info-color0)\">INFO</span>: Found stale lock file and directory &#x27;/tmp/dask-scratch-space/worker-9b23aybg&#x27;, purging</pre>"
      ],
      "text/plain": [
       "<IPython.core.display.HTML object>"
      ]
     },
     "metadata": {},
     "output_type": "display_data"
    },
    {
     "data": {
      "text/html": [
       "<pre style=\"margin: 0.1em;\n",
       "padding-left: 0.25em;\n",
       "border-left-style: solid;\n",
       "font-family: var(--jp-code-font-family);\n",
       "font-size: var(--jp-code-font-size);\n",
       "line-height: var(--jp-code-line-height);\n",
       "\"><span style=\"color: var(--jp-warn-color2)\">distributed.diskutils</span> <span style=\"color: var(--jp-info-color0)\">INFO</span>: Found stale lock file and directory &#x27;/tmp/dask-scratch-space/worker-jedn_b23&#x27;, purging</pre>"
      ],
      "text/plain": [
       "<IPython.core.display.HTML object>"
      ]
     },
     "metadata": {},
     "output_type": "display_data"
    },
    {
     "data": {
      "text/html": [
       "<pre style=\"margin: 0.1em;\n",
       "padding-left: 0.25em;\n",
       "border-left-style: solid;\n",
       "font-family: var(--jp-code-font-family);\n",
       "font-size: var(--jp-code-font-size);\n",
       "line-height: var(--jp-code-line-height);\n",
       "\"><span style=\"color: var(--jp-warn-color2)\">distributed.diskutils</span> <span style=\"color: var(--jp-info-color0)\">INFO</span>: Found stale lock file and directory &#x27;/tmp/dask-scratch-space/worker-e_216v34&#x27;, purging</pre>"
      ],
      "text/plain": [
       "<IPython.core.display.HTML object>"
      ]
     },
     "metadata": {},
     "output_type": "display_data"
    },
    {
     "data": {
      "text/html": [
       "<pre style=\"margin: 0.1em;\n",
       "padding-left: 0.25em;\n",
       "border-left-style: solid;\n",
       "font-family: var(--jp-code-font-family);\n",
       "font-size: var(--jp-code-font-size);\n",
       "line-height: var(--jp-code-line-height);\n",
       "\"><span style=\"color: var(--jp-warn-color2)\">distributed.diskutils</span> <span style=\"color: var(--jp-info-color0)\">INFO</span>: Found stale lock file and directory &#x27;/tmp/dask-scratch-space/worker-7urqxmcg&#x27;, purging</pre>"
      ],
      "text/plain": [
       "<IPython.core.display.HTML object>"
      ]
     },
     "metadata": {},
     "output_type": "display_data"
    },
    {
     "data": {
      "text/html": [
       "<pre style=\"margin: 0.1em;\n",
       "padding-left: 0.25em;\n",
       "border-left-style: solid;\n",
       "font-family: var(--jp-code-font-family);\n",
       "font-size: var(--jp-code-font-size);\n",
       "line-height: var(--jp-code-line-height);\n",
       "\"><span style=\"color: var(--jp-warn-color2)\">distributed.scheduler</span> <span style=\"color: var(--jp-info-color0)\">INFO</span>:   Scheduler at:     tcp://127.0.0.1:45567</pre>"
      ],
      "text/plain": [
       "<IPython.core.display.HTML object>"
      ]
     },
     "metadata": {},
     "output_type": "display_data"
    },
    {
     "data": {
      "text/html": [
       "<pre style=\"margin: 0.1em;\n",
       "padding-left: 0.25em;\n",
       "border-left-style: solid;\n",
       "font-family: var(--jp-code-font-family);\n",
       "font-size: var(--jp-code-font-size);\n",
       "line-height: var(--jp-code-line-height);\n",
       "\"><span style=\"color: var(--jp-warn-color2)\">distributed.scheduler</span> <span style=\"color: var(--jp-info-color0)\">INFO</span>:   dashboard at:  http://127.0.0.1:8787/status</pre>"
      ],
      "text/plain": [
       "<IPython.core.display.HTML object>"
      ]
     },
     "metadata": {},
     "output_type": "display_data"
    },
    {
     "data": {
      "text/html": [
       "<pre style=\"margin: 0.1em;\n",
       "padding-left: 0.25em;\n",
       "border-left-style: solid;\n",
       "font-family: var(--jp-code-font-family);\n",
       "font-size: var(--jp-code-font-size);\n",
       "line-height: var(--jp-code-line-height);\n",
       "\"><span style=\"color: var(--jp-warn-color2)\">distributed.scheduler</span> <span style=\"color: var(--jp-info-color0)\">INFO</span>: Registering Worker plugin shuffle</pre>"
      ],
      "text/plain": [
       "<IPython.core.display.HTML object>"
      ]
     },
     "metadata": {},
     "output_type": "display_data"
    },
    {
     "data": {
      "text/html": [
       "<pre style=\"margin: 0.1em;\n",
       "padding-left: 0.25em;\n",
       "border-left-style: solid;\n",
       "font-family: var(--jp-code-font-family);\n",
       "font-size: var(--jp-code-font-size);\n",
       "line-height: var(--jp-code-line-height);\n",
       "\"><span style=\"color: var(--jp-warn-color2)\">distributed.nanny</span> <span style=\"color: var(--jp-info-color0)\">INFO</span>:         Start Nanny at: &#x27;tcp://127.0.0.1:43299&#x27;</pre>"
      ],
      "text/plain": [
       "<IPython.core.display.HTML object>"
      ]
     },
     "metadata": {},
     "output_type": "display_data"
    },
    {
     "data": {
      "text/html": [
       "<pre style=\"margin: 0.1em;\n",
       "padding-left: 0.25em;\n",
       "border-left-style: solid;\n",
       "font-family: var(--jp-code-font-family);\n",
       "font-size: var(--jp-code-font-size);\n",
       "line-height: var(--jp-code-line-height);\n",
       "\"><span style=\"color: var(--jp-warn-color2)\">distributed.nanny</span> <span style=\"color: var(--jp-info-color0)\">INFO</span>:         Start Nanny at: &#x27;tcp://127.0.0.1:39085&#x27;</pre>"
      ],
      "text/plain": [
       "<IPython.core.display.HTML object>"
      ]
     },
     "metadata": {},
     "output_type": "display_data"
    },
    {
     "data": {
      "text/html": [
       "<pre style=\"margin: 0.1em;\n",
       "padding-left: 0.25em;\n",
       "border-left-style: solid;\n",
       "font-family: var(--jp-code-font-family);\n",
       "font-size: var(--jp-code-font-size);\n",
       "line-height: var(--jp-code-line-height);\n",
       "\"><span style=\"color: var(--jp-warn-color2)\">distributed.nanny</span> <span style=\"color: var(--jp-info-color0)\">INFO</span>:         Start Nanny at: &#x27;tcp://127.0.0.1:38929&#x27;</pre>"
      ],
      "text/plain": [
       "<IPython.core.display.HTML object>"
      ]
     },
     "metadata": {},
     "output_type": "display_data"
    },
    {
     "data": {
      "text/html": [
       "<pre style=\"margin: 0.1em;\n",
       "padding-left: 0.25em;\n",
       "border-left-style: solid;\n",
       "font-family: var(--jp-code-font-family);\n",
       "font-size: var(--jp-code-font-size);\n",
       "line-height: var(--jp-code-line-height);\n",
       "\"><span style=\"color: var(--jp-warn-color2)\">distributed.nanny</span> <span style=\"color: var(--jp-info-color0)\">INFO</span>:         Start Nanny at: &#x27;tcp://127.0.0.1:41605&#x27;</pre>"
      ],
      "text/plain": [
       "<IPython.core.display.HTML object>"
      ]
     },
     "metadata": {},
     "output_type": "display_data"
    },
    {
     "data": {
      "text/html": [
       "<pre style=\"margin: 0.1em;\n",
       "padding-left: 0.25em;\n",
       "border-left-style: solid;\n",
       "font-family: var(--jp-code-font-family);\n",
       "font-size: var(--jp-code-font-size);\n",
       "line-height: var(--jp-code-line-height);\n",
       "\"><span style=\"color: var(--jp-warn-color2)\">distributed.nanny</span> <span style=\"color: var(--jp-info-color0)\">INFO</span>:         Start Nanny at: &#x27;tcp://127.0.0.1:44457&#x27;</pre>"
      ],
      "text/plain": [
       "<IPython.core.display.HTML object>"
      ]
     },
     "metadata": {},
     "output_type": "display_data"
    },
    {
     "data": {
      "text/html": [
       "<pre style=\"margin: 0.1em;\n",
       "padding-left: 0.25em;\n",
       "border-left-style: solid;\n",
       "font-family: var(--jp-code-font-family);\n",
       "font-size: var(--jp-code-font-size);\n",
       "line-height: var(--jp-code-line-height);\n",
       "\"><span style=\"color: var(--jp-warn-color2)\">distributed.scheduler</span> <span style=\"color: var(--jp-info-color0)\">INFO</span>: Register worker addr: tcp://127.0.0.1:45933 name: 1</pre>"
      ],
      "text/plain": [
       "<IPython.core.display.HTML object>"
      ]
     },
     "metadata": {},
     "output_type": "display_data"
    },
    {
     "data": {
      "text/html": [
       "<pre style=\"margin: 0.1em;\n",
       "padding-left: 0.25em;\n",
       "border-left-style: solid;\n",
       "font-family: var(--jp-code-font-family);\n",
       "font-size: var(--jp-code-font-size);\n",
       "line-height: var(--jp-code-line-height);\n",
       "\"><span style=\"color: var(--jp-warn-color2)\">distributed.scheduler</span> <span style=\"color: var(--jp-info-color0)\">INFO</span>: Starting worker compute stream, tcp://127.0.0.1:45933</pre>"
      ],
      "text/plain": [
       "<IPython.core.display.HTML object>"
      ]
     },
     "metadata": {},
     "output_type": "display_data"
    },
    {
     "data": {
      "text/html": [
       "<pre style=\"margin: 0.1em;\n",
       "padding-left: 0.25em;\n",
       "border-left-style: solid;\n",
       "font-family: var(--jp-code-font-family);\n",
       "font-size: var(--jp-code-font-size);\n",
       "line-height: var(--jp-code-line-height);\n",
       "\"><span style=\"color: var(--jp-warn-color2)\">distributed.core</span> <span style=\"color: var(--jp-info-color0)\">INFO</span>: Starting established connection to tcp://127.0.0.1:52568</pre>"
      ],
      "text/plain": [
       "<IPython.core.display.HTML object>"
      ]
     },
     "metadata": {},
     "output_type": "display_data"
    },
    {
     "data": {
      "text/html": [
       "<pre style=\"margin: 0.1em;\n",
       "padding-left: 0.25em;\n",
       "border-left-style: solid;\n",
       "font-family: var(--jp-code-font-family);\n",
       "font-size: var(--jp-code-font-size);\n",
       "line-height: var(--jp-code-line-height);\n",
       "\"><span style=\"color: var(--jp-warn-color2)\">distributed.scheduler</span> <span style=\"color: var(--jp-info-color0)\">INFO</span>: Register worker addr: tcp://127.0.0.1:34461 name: 4</pre>"
      ],
      "text/plain": [
       "<IPython.core.display.HTML object>"
      ]
     },
     "metadata": {},
     "output_type": "display_data"
    },
    {
     "data": {
      "text/html": [
       "<pre style=\"margin: 0.1em;\n",
       "padding-left: 0.25em;\n",
       "border-left-style: solid;\n",
       "font-family: var(--jp-code-font-family);\n",
       "font-size: var(--jp-code-font-size);\n",
       "line-height: var(--jp-code-line-height);\n",
       "\"><span style=\"color: var(--jp-warn-color2)\">distributed.scheduler</span> <span style=\"color: var(--jp-info-color0)\">INFO</span>: Starting worker compute stream, tcp://127.0.0.1:34461</pre>"
      ],
      "text/plain": [
       "<IPython.core.display.HTML object>"
      ]
     },
     "metadata": {},
     "output_type": "display_data"
    },
    {
     "data": {
      "text/html": [
       "<pre style=\"margin: 0.1em;\n",
       "padding-left: 0.25em;\n",
       "border-left-style: solid;\n",
       "font-family: var(--jp-code-font-family);\n",
       "font-size: var(--jp-code-font-size);\n",
       "line-height: var(--jp-code-line-height);\n",
       "\"><span style=\"color: var(--jp-warn-color2)\">distributed.core</span> <span style=\"color: var(--jp-info-color0)\">INFO</span>: Starting established connection to tcp://127.0.0.1:52548</pre>"
      ],
      "text/plain": [
       "<IPython.core.display.HTML object>"
      ]
     },
     "metadata": {},
     "output_type": "display_data"
    },
    {
     "data": {
      "text/html": [
       "<pre style=\"margin: 0.1em;\n",
       "padding-left: 0.25em;\n",
       "border-left-style: solid;\n",
       "font-family: var(--jp-code-font-family);\n",
       "font-size: var(--jp-code-font-size);\n",
       "line-height: var(--jp-code-line-height);\n",
       "\"><span style=\"color: var(--jp-warn-color2)\">distributed.scheduler</span> <span style=\"color: var(--jp-info-color0)\">INFO</span>: Register worker addr: tcp://127.0.0.1:45633 name: 3</pre>"
      ],
      "text/plain": [
       "<IPython.core.display.HTML object>"
      ]
     },
     "metadata": {},
     "output_type": "display_data"
    },
    {
     "data": {
      "text/html": [
       "<pre style=\"margin: 0.1em;\n",
       "padding-left: 0.25em;\n",
       "border-left-style: solid;\n",
       "font-family: var(--jp-code-font-family);\n",
       "font-size: var(--jp-code-font-size);\n",
       "line-height: var(--jp-code-line-height);\n",
       "\"><span style=\"color: var(--jp-warn-color2)\">distributed.scheduler</span> <span style=\"color: var(--jp-info-color0)\">INFO</span>: Starting worker compute stream, tcp://127.0.0.1:45633</pre>"
      ],
      "text/plain": [
       "<IPython.core.display.HTML object>"
      ]
     },
     "metadata": {},
     "output_type": "display_data"
    },
    {
     "data": {
      "text/html": [
       "<pre style=\"margin: 0.1em;\n",
       "padding-left: 0.25em;\n",
       "border-left-style: solid;\n",
       "font-family: var(--jp-code-font-family);\n",
       "font-size: var(--jp-code-font-size);\n",
       "line-height: var(--jp-code-line-height);\n",
       "\"><span style=\"color: var(--jp-warn-color2)\">distributed.core</span> <span style=\"color: var(--jp-info-color0)\">INFO</span>: Starting established connection to tcp://127.0.0.1:52572</pre>"
      ],
      "text/plain": [
       "<IPython.core.display.HTML object>"
      ]
     },
     "metadata": {},
     "output_type": "display_data"
    },
    {
     "data": {
      "text/html": [
       "<pre style=\"margin: 0.1em;\n",
       "padding-left: 0.25em;\n",
       "border-left-style: solid;\n",
       "font-family: var(--jp-code-font-family);\n",
       "font-size: var(--jp-code-font-size);\n",
       "line-height: var(--jp-code-line-height);\n",
       "\"><span style=\"color: var(--jp-warn-color2)\">distributed.scheduler</span> <span style=\"color: var(--jp-info-color0)\">INFO</span>: Register worker addr: tcp://127.0.0.1:42511 name: 0</pre>"
      ],
      "text/plain": [
       "<IPython.core.display.HTML object>"
      ]
     },
     "metadata": {},
     "output_type": "display_data"
    },
    {
     "data": {
      "text/html": [
       "<pre style=\"margin: 0.1em;\n",
       "padding-left: 0.25em;\n",
       "border-left-style: solid;\n",
       "font-family: var(--jp-code-font-family);\n",
       "font-size: var(--jp-code-font-size);\n",
       "line-height: var(--jp-code-line-height);\n",
       "\"><span style=\"color: var(--jp-warn-color2)\">distributed.scheduler</span> <span style=\"color: var(--jp-info-color0)\">INFO</span>: Starting worker compute stream, tcp://127.0.0.1:42511</pre>"
      ],
      "text/plain": [
       "<IPython.core.display.HTML object>"
      ]
     },
     "metadata": {},
     "output_type": "display_data"
    },
    {
     "data": {
      "text/html": [
       "<pre style=\"margin: 0.1em;\n",
       "padding-left: 0.25em;\n",
       "border-left-style: solid;\n",
       "font-family: var(--jp-code-font-family);\n",
       "font-size: var(--jp-code-font-size);\n",
       "line-height: var(--jp-code-line-height);\n",
       "\"><span style=\"color: var(--jp-warn-color2)\">distributed.core</span> <span style=\"color: var(--jp-info-color0)\">INFO</span>: Starting established connection to tcp://127.0.0.1:52586</pre>"
      ],
      "text/plain": [
       "<IPython.core.display.HTML object>"
      ]
     },
     "metadata": {},
     "output_type": "display_data"
    },
    {
     "data": {
      "text/html": [
       "<pre style=\"margin: 0.1em;\n",
       "padding-left: 0.25em;\n",
       "border-left-style: solid;\n",
       "font-family: var(--jp-code-font-family);\n",
       "font-size: var(--jp-code-font-size);\n",
       "line-height: var(--jp-code-line-height);\n",
       "\"><span style=\"color: var(--jp-warn-color2)\">distributed.scheduler</span> <span style=\"color: var(--jp-info-color0)\">INFO</span>: Register worker addr: tcp://127.0.0.1:46259 name: 2</pre>"
      ],
      "text/plain": [
       "<IPython.core.display.HTML object>"
      ]
     },
     "metadata": {},
     "output_type": "display_data"
    },
    {
     "data": {
      "text/html": [
       "<pre style=\"margin: 0.1em;\n",
       "padding-left: 0.25em;\n",
       "border-left-style: solid;\n",
       "font-family: var(--jp-code-font-family);\n",
       "font-size: var(--jp-code-font-size);\n",
       "line-height: var(--jp-code-line-height);\n",
       "\"><span style=\"color: var(--jp-warn-color2)\">distributed.scheduler</span> <span style=\"color: var(--jp-info-color0)\">INFO</span>: Starting worker compute stream, tcp://127.0.0.1:46259</pre>"
      ],
      "text/plain": [
       "<IPython.core.display.HTML object>"
      ]
     },
     "metadata": {},
     "output_type": "display_data"
    },
    {
     "data": {
      "text/html": [
       "<pre style=\"margin: 0.1em;\n",
       "padding-left: 0.25em;\n",
       "border-left-style: solid;\n",
       "font-family: var(--jp-code-font-family);\n",
       "font-size: var(--jp-code-font-size);\n",
       "line-height: var(--jp-code-line-height);\n",
       "\"><span style=\"color: var(--jp-warn-color2)\">distributed.core</span> <span style=\"color: var(--jp-info-color0)\">INFO</span>: Starting established connection to tcp://127.0.0.1:52552</pre>"
      ],
      "text/plain": [
       "<IPython.core.display.HTML object>"
      ]
     },
     "metadata": {},
     "output_type": "display_data"
    },
    {
     "data": {
      "text/html": [
       "<pre style=\"margin: 0.1em;\n",
       "padding-left: 0.25em;\n",
       "border-left-style: solid;\n",
       "font-family: var(--jp-code-font-family);\n",
       "font-size: var(--jp-code-font-size);\n",
       "line-height: var(--jp-code-line-height);\n",
       "\"><span style=\"color: var(--jp-warn-color2)\">distributed.scheduler</span> <span style=\"color: var(--jp-info-color0)\">INFO</span>: Receive client connection: Client-2ea13a88-2629-11f0-96bc-7afc468137ec</pre>"
      ],
      "text/plain": [
       "<IPython.core.display.HTML object>"
      ]
     },
     "metadata": {},
     "output_type": "display_data"
    },
    {
     "data": {
      "text/html": [
       "<pre style=\"margin: 0.1em;\n",
       "padding-left: 0.25em;\n",
       "border-left-style: solid;\n",
       "font-family: var(--jp-code-font-family);\n",
       "font-size: var(--jp-code-font-size);\n",
       "line-height: var(--jp-code-line-height);\n",
       "\"><span style=\"color: var(--jp-warn-color2)\">distributed.core</span> <span style=\"color: var(--jp-info-color0)\">INFO</span>: Starting established connection to tcp://127.0.0.1:52600</pre>"
      ],
      "text/plain": [
       "<IPython.core.display.HTML object>"
      ]
     },
     "metadata": {},
     "output_type": "display_data"
    },
    {
     "name": "stderr",
     "output_type": "stream",
     "text": [
      "2025-05-01 01:12:20,271 - distributed.worker.memory - WARNING - Unmanaged memory use is high. This may indicate a memory leak or the memory may not be released to the OS; see https://distributed.dask.org/en/latest/worker-memory.html#memory-not-released-back-to-the-os for more information. -- Unmanaged memory: 2.43 GiB -- Worker memory limit: 3.73 GiB\n",
      "2025-05-01 01:12:23,513 - distributed.worker.memory - WARNING - Unmanaged memory use is high. This may indicate a memory leak or the memory may not be released to the OS; see https://distributed.dask.org/en/latest/worker-memory.html#memory-not-released-back-to-the-os for more information. -- Unmanaged memory: 2.46 GiB -- Worker memory limit: 3.73 GiB\n",
      "2025-05-01 01:12:25,631 - distributed.worker.memory - WARNING - Unmanaged memory use is high. This may indicate a memory leak or the memory may not be released to the OS; see https://distributed.dask.org/en/latest/worker-memory.html#memory-not-released-back-to-the-os for more information. -- Unmanaged memory: 2.52 GiB -- Worker memory limit: 3.73 GiB\n",
      "2025-05-01 01:12:26,310 - distributed.worker.memory - WARNING - Unmanaged memory use is high. This may indicate a memory leak or the memory may not be released to the OS; see https://distributed.dask.org/en/latest/worker-memory.html#memory-not-released-back-to-the-os for more information. -- Unmanaged memory: 2.48 GiB -- Worker memory limit: 3.73 GiB\n",
      "2025-05-01 01:12:35,031 - distributed.worker.memory - WARNING - Unmanaged memory use is high. This may indicate a memory leak or the memory may not be released to the OS; see https://distributed.dask.org/en/latest/worker-memory.html#memory-not-released-back-to-the-os for more information. -- Unmanaged memory: 2.45 GiB -- Worker memory limit: 3.73 GiB\n",
      "2025-05-01 01:16:52,096 - distributed.worker.memory - WARNING - Worker is at 80% memory usage. Pausing worker.  Process memory: 2.98 GiB -- Worker memory limit: 3.73 GiB\n",
      "2025-05-01 01:16:52,874 - distributed.worker.memory - WARNING - Worker is at 76% memory usage. Resuming worker. Process memory: 2.85 GiB -- Worker memory limit: 3.73 GiB\n",
      "2025-05-01 01:17:20,592 - distributed.worker.memory - WARNING - Unmanaged memory use is high. This may indicate a memory leak or the memory may not be released to the OS; see https://distributed.dask.org/en/latest/worker-memory.html#memory-not-released-back-to-the-os for more information. -- Unmanaged memory: 2.62 GiB -- Worker memory limit: 3.73 GiB\n",
      "2025-05-01 01:17:23,569 - distributed.worker.memory - WARNING - Unmanaged memory use is high. This may indicate a memory leak or the memory may not be released to the OS; see https://distributed.dask.org/en/latest/worker-memory.html#memory-not-released-back-to-the-os for more information. -- Unmanaged memory: 2.63 GiB -- Worker memory limit: 3.73 GiB\n",
      "2025-05-01 01:17:26,374 - distributed.worker.memory - WARNING - Unmanaged memory use is high. This may indicate a memory leak or the memory may not be released to the OS; see https://distributed.dask.org/en/latest/worker-memory.html#memory-not-released-back-to-the-os for more information. -- Unmanaged memory: 2.78 GiB -- Worker memory limit: 3.73 GiB\n",
      "2025-05-01 01:17:35,058 - distributed.worker.memory - WARNING - Unmanaged memory use is high. This may indicate a memory leak or the memory may not be released to the OS; see https://distributed.dask.org/en/latest/worker-memory.html#memory-not-released-back-to-the-os for more information. -- Unmanaged memory: 2.69 GiB -- Worker memory limit: 3.73 GiB\n",
      "2025-05-01 01:17:43,804 - distributed.worker.memory - WARNING - Unmanaged memory use is high. This may indicate a memory leak or the memory may not be released to the OS; see https://distributed.dask.org/en/latest/worker-memory.html#memory-not-released-back-to-the-os for more information. -- Unmanaged memory: 2.61 GiB -- Worker memory limit: 3.73 GiB\n",
      "2025-05-01 01:18:06,974 - distributed.worker.memory - WARNING - Worker is at 80% memory usage. Pausing worker.  Process memory: 2.98 GiB -- Worker memory limit: 3.73 GiB\n",
      "2025-05-01 01:18:07,172 - distributed.worker.memory - WARNING - Worker is at 76% memory usage. Resuming worker. Process memory: 2.86 GiB -- Worker memory limit: 3.73 GiB\n",
      "2025-05-01 01:20:26,591 - distributed.worker.memory - WARNING - Worker is at 80% memory usage. Pausing worker.  Process memory: 2.98 GiB -- Worker memory limit: 3.73 GiB\n",
      "2025-05-01 01:20:26,672 - distributed.worker.memory - WARNING - Worker is at 77% memory usage. Resuming worker. Process memory: 2.88 GiB -- Worker memory limit: 3.73 GiB\n",
      "2025-05-01 01:21:04,689 - distributed.worker.memory - WARNING - Worker is at 80% memory usage. Pausing worker.  Process memory: 2.99 GiB -- Worker memory limit: 3.73 GiB\n",
      "2025-05-01 01:21:04,772 - distributed.worker.memory - WARNING - Worker is at 75% memory usage. Resuming worker. Process memory: 2.83 GiB -- Worker memory limit: 3.73 GiB\n",
      "2025-05-01 01:21:40,471 - distributed.worker.memory - WARNING - Worker is at 80% memory usage. Pausing worker.  Process memory: 2.98 GiB -- Worker memory limit: 3.73 GiB\n",
      "2025-05-01 01:21:40,689 - distributed.worker.memory - WARNING - Worker is at 76% memory usage. Resuming worker. Process memory: 2.86 GiB -- Worker memory limit: 3.73 GiB\n",
      "2025-05-01 01:22:05,372 - distributed.worker.memory - WARNING - Worker is at 80% memory usage. Pausing worker.  Process memory: 2.99 GiB -- Worker memory limit: 3.73 GiB\n",
      "2025-05-01 01:22:07,372 - distributed.worker.memory - WARNING - Worker is at 79% memory usage. Resuming worker. Process memory: 2.98 GiB -- Worker memory limit: 3.73 GiB\n",
      "2025-05-01 01:22:20,678 - distributed.worker.memory - WARNING - Unmanaged memory use is high. This may indicate a memory leak or the memory may not be released to the OS; see https://distributed.dask.org/en/latest/worker-memory.html#memory-not-released-back-to-the-os for more information. -- Unmanaged memory: 2.64 GiB -- Worker memory limit: 3.73 GiB\n",
      "2025-05-01 01:22:23,570 - distributed.worker.memory - WARNING - Unmanaged memory use is high. This may indicate a memory leak or the memory may not be released to the OS; see https://distributed.dask.org/en/latest/worker-memory.html#memory-not-released-back-to-the-os for more information. -- Unmanaged memory: 2.61 GiB -- Worker memory limit: 3.73 GiB\n",
      "2025-05-01 01:22:35,880 - distributed.worker.memory - WARNING - Unmanaged memory use is high. This may indicate a memory leak or the memory may not be released to the OS; see https://distributed.dask.org/en/latest/worker-memory.html#memory-not-released-back-to-the-os for more information. -- Unmanaged memory: 2.59 GiB -- Worker memory limit: 3.73 GiB\n",
      "2025-05-01 01:22:39,183 - distributed.worker.memory - WARNING - Unmanaged memory use is high. This may indicate a memory leak or the memory may not be released to the OS; see https://distributed.dask.org/en/latest/worker-memory.html#memory-not-released-back-to-the-os for more information. -- Unmanaged memory: 2.58 GiB -- Worker memory limit: 3.73 GiB\n",
      "2025-05-01 01:22:43,859 - distributed.worker.memory - WARNING - Unmanaged memory use is high. This may indicate a memory leak or the memory may not be released to the OS; see https://distributed.dask.org/en/latest/worker-memory.html#memory-not-released-back-to-the-os for more information. -- Unmanaged memory: 2.63 GiB -- Worker memory limit: 3.73 GiB\n",
      "2025-05-01 01:27:20,778 - distributed.worker.memory - WARNING - Unmanaged memory use is high. This may indicate a memory leak or the memory may not be released to the OS; see https://distributed.dask.org/en/latest/worker-memory.html#memory-not-released-back-to-the-os for more information. -- Unmanaged memory: 2.77 GiB -- Worker memory limit: 3.73 GiB\n",
      "2025-05-01 01:27:23,667 - distributed.worker.memory - WARNING - Unmanaged memory use is high. This may indicate a memory leak or the memory may not be released to the OS; see https://distributed.dask.org/en/latest/worker-memory.html#memory-not-released-back-to-the-os for more information. -- Unmanaged memory: 2.82 GiB -- Worker memory limit: 3.73 GiB\n",
      "2025-05-01 01:27:35,953 - distributed.worker.memory - WARNING - Unmanaged memory use is high. This may indicate a memory leak or the memory may not be released to the OS; see https://distributed.dask.org/en/latest/worker-memory.html#memory-not-released-back-to-the-os for more information. -- Unmanaged memory: 2.73 GiB -- Worker memory limit: 3.73 GiB\n",
      "2025-05-01 01:27:39,271 - distributed.worker.memory - WARNING - Unmanaged memory use is high. This may indicate a memory leak or the memory may not be released to the OS; see https://distributed.dask.org/en/latest/worker-memory.html#memory-not-released-back-to-the-os for more information. -- Unmanaged memory: 2.62 GiB -- Worker memory limit: 3.73 GiB\n",
      "2025-05-01 01:27:43,966 - distributed.worker.memory - WARNING - Unmanaged memory use is high. This may indicate a memory leak or the memory may not be released to the OS; see https://distributed.dask.org/en/latest/worker-memory.html#memory-not-released-back-to-the-os for more information. -- Unmanaged memory: 2.61 GiB -- Worker memory limit: 3.73 GiB\n",
      "2025-05-01 01:32:20,878 - distributed.worker.memory - WARNING - Unmanaged memory use is high. This may indicate a memory leak or the memory may not be released to the OS; see https://distributed.dask.org/en/latest/worker-memory.html#memory-not-released-back-to-the-os for more information. -- Unmanaged memory: 2.79 GiB -- Worker memory limit: 3.73 GiB\n",
      "2025-05-01 01:32:23,765 - distributed.worker.memory - WARNING - Unmanaged memory use is high. This may indicate a memory leak or the memory may not be released to the OS; see https://distributed.dask.org/en/latest/worker-memory.html#memory-not-released-back-to-the-os for more information. -- Unmanaged memory: 2.83 GiB -- Worker memory limit: 3.73 GiB\n",
      "2025-05-01 01:32:33,787 - distributed.worker.memory - WARNING - gc.collect() took 1.190s. This is usually a sign that some tasks handle too many Python objects at the same time. Rechunking the work into smaller tasks might help.\n",
      "2025-05-01 01:32:33,788 - distributed.worker.memory - WARNING - Worker is at 80% memory usage. Pausing worker.  Process memory: 2.99 GiB -- Worker memory limit: 3.73 GiB\n",
      "2025-05-01 01:32:33,854 - distributed.worker.memory - WARNING - Worker is at 75% memory usage. Resuming worker. Process memory: 2.82 GiB -- Worker memory limit: 3.73 GiB\n",
      "2025-05-01 01:32:35,954 - distributed.worker.memory - WARNING - Unmanaged memory use is high. This may indicate a memory leak or the memory may not be released to the OS; see https://distributed.dask.org/en/latest/worker-memory.html#memory-not-released-back-to-the-os for more information. -- Unmanaged memory: 2.77 GiB -- Worker memory limit: 3.73 GiB\n",
      "2025-05-01 01:32:39,271 - distributed.worker.memory - WARNING - Unmanaged memory use is high. This may indicate a memory leak or the memory may not be released to the OS; see https://distributed.dask.org/en/latest/worker-memory.html#memory-not-released-back-to-the-os for more information. -- Unmanaged memory: 2.69 GiB -- Worker memory limit: 3.73 GiB\n",
      "2025-05-01 01:32:43,354 - distributed.worker.memory - WARNING - Worker is at 80% memory usage. Pausing worker.  Process memory: 2.98 GiB -- Worker memory limit: 3.73 GiB\n",
      "2025-05-01 01:32:43,853 - distributed.worker.memory - WARNING - Worker is at 75% memory usage. Resuming worker. Process memory: 2.83 GiB -- Worker memory limit: 3.73 GiB\n",
      "2025-05-01 01:32:44,063 - distributed.worker.memory - WARNING - Unmanaged memory use is high. This may indicate a memory leak or the memory may not be released to the OS; see https://distributed.dask.org/en/latest/worker-memory.html#memory-not-released-back-to-the-os for more information. -- Unmanaged memory: 2.67 GiB -- Worker memory limit: 3.73 GiB\n",
      "2025-05-01 01:36:37,595 - distributed.worker.memory - WARNING - gc.collect() took 1.338s. This is usually a sign that some tasks handle too many Python objects at the same time. Rechunking the work into smaller tasks might help.\n",
      "2025-05-01 01:36:37,596 - distributed.worker.memory - WARNING - Worker is at 80% memory usage. Pausing worker.  Process memory: 2.98 GiB -- Worker memory limit: 3.73 GiB\n",
      "2025-05-01 01:36:37,665 - distributed.worker.memory - WARNING - Worker is at 74% memory usage. Resuming worker. Process memory: 2.77 GiB -- Worker memory limit: 3.73 GiB\n",
      "2025-05-01 01:37:00,589 - distributed.worker.memory - WARNING - Worker is at 80% memory usage. Pausing worker.  Process memory: 2.99 GiB -- Worker memory limit: 3.73 GiB\n",
      "2025-05-01 01:37:00,705 - distributed.worker.memory - WARNING - Worker is at 76% memory usage. Resuming worker. Process memory: 2.85 GiB -- Worker memory limit: 3.73 GiB\n",
      "2025-05-01 01:37:20,266 - distributed.worker.memory - WARNING - Worker is at 80% memory usage. Pausing worker.  Process memory: 2.99 GiB -- Worker memory limit: 3.73 GiB\n",
      "2025-05-01 01:37:20,366 - distributed.worker.memory - WARNING - Worker is at 76% memory usage. Resuming worker. Process memory: 2.84 GiB -- Worker memory limit: 3.73 GiB\n",
      "2025-05-01 01:37:20,976 - distributed.worker.memory - WARNING - Unmanaged memory use is high. This may indicate a memory leak or the memory may not be released to the OS; see https://distributed.dask.org/en/latest/worker-memory.html#memory-not-released-back-to-the-os for more information. -- Unmanaged memory: 2.61 GiB -- Worker memory limit: 3.73 GiB\n",
      "2025-05-01 01:37:23,868 - distributed.worker.memory - WARNING - Unmanaged memory use is high. This may indicate a memory leak or the memory may not be released to the OS; see https://distributed.dask.org/en/latest/worker-memory.html#memory-not-released-back-to-the-os for more information. -- Unmanaged memory: 2.94 GiB -- Worker memory limit: 3.73 GiB\n",
      "2025-05-01 01:37:39,563 - distributed.worker.memory - WARNING - Unmanaged memory use is high. This may indicate a memory leak or the memory may not be released to the OS; see https://distributed.dask.org/en/latest/worker-memory.html#memory-not-released-back-to-the-os for more information. -- Unmanaged memory: 2.63 GiB -- Worker memory limit: 3.73 GiB\n",
      "2025-05-01 01:37:43,045 - distributed.worker.memory - WARNING - Unmanaged memory use is high. This may indicate a memory leak or the memory may not be released to the OS; see https://distributed.dask.org/en/latest/worker-memory.html#memory-not-released-back-to-the-os for more information. -- Unmanaged memory: 2.61 GiB -- Worker memory limit: 3.73 GiB\n",
      "2025-05-01 01:37:44,169 - distributed.worker.memory - WARNING - Unmanaged memory use is high. This may indicate a memory leak or the memory may not be released to the OS; see https://distributed.dask.org/en/latest/worker-memory.html#memory-not-released-back-to-the-os for more information. -- Unmanaged memory: 2.70 GiB -- Worker memory limit: 3.73 GiB\n",
      "2025-05-01 01:38:00,967 - distributed.worker.memory - WARNING - Worker is at 80% memory usage. Pausing worker.  Process memory: 2.99 GiB -- Worker memory limit: 3.73 GiB\n",
      "2025-05-01 01:38:01,265 - distributed.worker.memory - WARNING - Worker is at 78% memory usage. Resuming worker. Process memory: 2.92 GiB -- Worker memory limit: 3.73 GiB\n",
      "2025-05-01 01:38:02,765 - distributed.worker.memory - WARNING - Worker is at 80% memory usage. Pausing worker.  Process memory: 3.00 GiB -- Worker memory limit: 3.73 GiB\n",
      "2025-05-01 01:38:02,904 - distributed.worker.memory - WARNING - Worker is at 76% memory usage. Resuming worker. Process memory: 2.85 GiB -- Worker memory limit: 3.73 GiB\n",
      "2025-05-01 01:42:23,873 - distributed.worker.memory - WARNING - Unmanaged memory use is high. This may indicate a memory leak or the memory may not be released to the OS; see https://distributed.dask.org/en/latest/worker-memory.html#memory-not-released-back-to-the-os for more information. -- Unmanaged memory: 2.62 GiB -- Worker memory limit: 3.73 GiB\n",
      "2025-05-01 01:42:24,409 - distributed.worker.memory - WARNING - Unmanaged memory use is high. This may indicate a memory leak or the memory may not be released to the OS; see https://distributed.dask.org/en/latest/worker-memory.html#memory-not-released-back-to-the-os for more information. -- Unmanaged memory: 2.59 GiB -- Worker memory limit: 3.73 GiB\n",
      "2025-05-01 01:42:42,580 - distributed.worker.memory - WARNING - Unmanaged memory use is high. This may indicate a memory leak or the memory may not be released to the OS; see https://distributed.dask.org/en/latest/worker-memory.html#memory-not-released-back-to-the-os for more information. -- Unmanaged memory: 2.61 GiB -- Worker memory limit: 3.73 GiB\n",
      "2025-05-01 01:42:43,071 - distributed.worker.memory - WARNING - Unmanaged memory use is high. This may indicate a memory leak or the memory may not be released to the OS; see https://distributed.dask.org/en/latest/worker-memory.html#memory-not-released-back-to-the-os for more information. -- Unmanaged memory: 2.67 GiB -- Worker memory limit: 3.73 GiB\n",
      "2025-05-01 01:42:44,665 - distributed.worker.memory - WARNING - Unmanaged memory use is high. This may indicate a memory leak or the memory may not be released to the OS; see https://distributed.dask.org/en/latest/worker-memory.html#memory-not-released-back-to-the-os for more information. -- Unmanaged memory: 2.61 GiB -- Worker memory limit: 3.73 GiB\n",
      "2025-05-01 01:47:24,483 - distributed.worker.memory - WARNING - Unmanaged memory use is high. This may indicate a memory leak or the memory may not be released to the OS; see https://distributed.dask.org/en/latest/worker-memory.html#memory-not-released-back-to-the-os for more information. -- Unmanaged memory: 2.62 GiB -- Worker memory limit: 3.73 GiB\n",
      "2025-05-01 01:47:28,061 - distributed.worker.memory - WARNING - Unmanaged memory use is high. This may indicate a memory leak or the memory may not be released to the OS; see https://distributed.dask.org/en/latest/worker-memory.html#memory-not-released-back-to-the-os for more information. -- Unmanaged memory: 2.47 GiB -- Worker memory limit: 3.73 GiB\n",
      "2025-05-01 01:47:42,652 - distributed.worker.memory - WARNING - Unmanaged memory use is high. This may indicate a memory leak or the memory may not be released to the OS; see https://distributed.dask.org/en/latest/worker-memory.html#memory-not-released-back-to-the-os for more information. -- Unmanaged memory: 2.75 GiB -- Worker memory limit: 3.73 GiB\n",
      "2025-05-01 01:47:44,079 - distributed.worker.memory - WARNING - Unmanaged memory use is high. This may indicate a memory leak or the memory may not be released to the OS; see https://distributed.dask.org/en/latest/worker-memory.html#memory-not-released-back-to-the-os for more information. -- Unmanaged memory: 2.61 GiB -- Worker memory limit: 3.73 GiB\n",
      "2025-05-01 01:47:44,759 - distributed.worker.memory - WARNING - Unmanaged memory use is high. This may indicate a memory leak or the memory may not be released to the OS; see https://distributed.dask.org/en/latest/worker-memory.html#memory-not-released-back-to-the-os for more information. -- Unmanaged memory: 2.78 GiB -- Worker memory limit: 3.73 GiB\n"
     ]
    },
    {
     "data": {
      "text/html": [
       "<pre style=\"margin: 0.1em;\n",
       "padding-left: 0.25em;\n",
       "border-left-style: solid;\n",
       "font-family: var(--jp-code-font-family);\n",
       "font-size: var(--jp-code-font-size);\n",
       "line-height: var(--jp-code-line-height);\n",
       "\"><span style=\"color: var(--jp-warn-color2)\">distributed.scheduler</span> <span style=\"color: var(--jp-info-color0)\">INFO</span>: Remove client Client-2ea13a88-2629-11f0-96bc-7afc468137ec</pre>"
      ],
      "text/plain": [
       "<IPython.core.display.HTML object>"
      ]
     },
     "metadata": {},
     "output_type": "display_data"
    },
    {
     "data": {
      "text/html": [
       "<pre style=\"margin: 0.1em;\n",
       "padding-left: 0.25em;\n",
       "border-left-style: solid;\n",
       "font-family: var(--jp-code-font-family);\n",
       "font-size: var(--jp-code-font-size);\n",
       "line-height: var(--jp-code-line-height);\n",
       "\"><span style=\"color: var(--jp-warn-color2)\">distributed.core</span> <span style=\"color: var(--jp-info-color0)\">INFO</span>: Received &#x27;close-stream&#x27; from tcp://127.0.0.1:52600; closing.</pre>"
      ],
      "text/plain": [
       "<IPython.core.display.HTML object>"
      ]
     },
     "metadata": {},
     "output_type": "display_data"
    },
    {
     "data": {
      "text/html": [
       "<pre style=\"margin: 0.1em;\n",
       "padding-left: 0.25em;\n",
       "border-left-style: solid;\n",
       "font-family: var(--jp-code-font-family);\n",
       "font-size: var(--jp-code-font-size);\n",
       "line-height: var(--jp-code-line-height);\n",
       "\"><span style=\"color: var(--jp-warn-color2)\">distributed.scheduler</span> <span style=\"color: var(--jp-info-color0)\">INFO</span>: Remove client Client-2ea13a88-2629-11f0-96bc-7afc468137ec</pre>"
      ],
      "text/plain": [
       "<IPython.core.display.HTML object>"
      ]
     },
     "metadata": {},
     "output_type": "display_data"
    },
    {
     "data": {
      "text/html": [
       "<pre style=\"margin: 0.1em;\n",
       "padding-left: 0.25em;\n",
       "border-left-style: solid;\n",
       "font-family: var(--jp-code-font-family);\n",
       "font-size: var(--jp-code-font-size);\n",
       "line-height: var(--jp-code-line-height);\n",
       "\"><span style=\"color: var(--jp-warn-color2)\">distributed.scheduler</span> <span style=\"color: var(--jp-info-color0)\">INFO</span>: Close client connection: Client-2ea13a88-2629-11f0-96bc-7afc468137ec</pre>"
      ],
      "text/plain": [
       "<IPython.core.display.HTML object>"
      ]
     },
     "metadata": {},
     "output_type": "display_data"
    },
    {
     "data": {
      "text/html": [
       "<pre style=\"margin: 0.1em;\n",
       "padding-left: 0.25em;\n",
       "border-left-style: solid;\n",
       "font-family: var(--jp-code-font-family);\n",
       "font-size: var(--jp-code-font-size);\n",
       "line-height: var(--jp-code-line-height);\n",
       "\"><span style=\"color: var(--jp-warn-color2)\">distributed.scheduler</span> <span style=\"color: var(--jp-info-color0)\">INFO</span>: Retire worker addresses (stimulus_id=&#x27;retire-workers-1746064205.3941255&#x27;) (0, 1, 2, 3, 4)</pre>"
      ],
      "text/plain": [
       "<IPython.core.display.HTML object>"
      ]
     },
     "metadata": {},
     "output_type": "display_data"
    },
    {
     "data": {
      "text/html": [
       "<pre style=\"margin: 0.1em;\n",
       "padding-left: 0.25em;\n",
       "border-left-style: solid;\n",
       "font-family: var(--jp-code-font-family);\n",
       "font-size: var(--jp-code-font-size);\n",
       "line-height: var(--jp-code-line-height);\n",
       "\"><span style=\"color: var(--jp-warn-color2)\">distributed.nanny</span> <span style=\"color: var(--jp-info-color0)\">INFO</span>: Closing Nanny at &#x27;tcp://127.0.0.1:43299&#x27;. Reason: nanny-close</pre>"
      ],
      "text/plain": [
       "<IPython.core.display.HTML object>"
      ]
     },
     "metadata": {},
     "output_type": "display_data"
    },
    {
     "data": {
      "text/html": [
       "<pre style=\"margin: 0.1em;\n",
       "padding-left: 0.25em;\n",
       "border-left-style: solid;\n",
       "font-family: var(--jp-code-font-family);\n",
       "font-size: var(--jp-code-font-size);\n",
       "line-height: var(--jp-code-line-height);\n",
       "\"><span style=\"color: var(--jp-warn-color2)\">distributed.nanny</span> <span style=\"color: var(--jp-info-color0)\">INFO</span>: Nanny asking worker to close. Reason: nanny-close</pre>"
      ],
      "text/plain": [
       "<IPython.core.display.HTML object>"
      ]
     },
     "metadata": {},
     "output_type": "display_data"
    },
    {
     "data": {
      "text/html": [
       "<pre style=\"margin: 0.1em;\n",
       "padding-left: 0.25em;\n",
       "border-left-style: solid;\n",
       "font-family: var(--jp-code-font-family);\n",
       "font-size: var(--jp-code-font-size);\n",
       "line-height: var(--jp-code-line-height);\n",
       "\"><span style=\"color: var(--jp-warn-color2)\">distributed.nanny</span> <span style=\"color: var(--jp-info-color0)\">INFO</span>: Closing Nanny at &#x27;tcp://127.0.0.1:39085&#x27;. Reason: nanny-close</pre>"
      ],
      "text/plain": [
       "<IPython.core.display.HTML object>"
      ]
     },
     "metadata": {},
     "output_type": "display_data"
    },
    {
     "data": {
      "text/html": [
       "<pre style=\"margin: 0.1em;\n",
       "padding-left: 0.25em;\n",
       "border-left-style: solid;\n",
       "font-family: var(--jp-code-font-family);\n",
       "font-size: var(--jp-code-font-size);\n",
       "line-height: var(--jp-code-line-height);\n",
       "\"><span style=\"color: var(--jp-warn-color2)\">distributed.nanny</span> <span style=\"color: var(--jp-info-color0)\">INFO</span>: Nanny asking worker to close. Reason: nanny-close</pre>"
      ],
      "text/plain": [
       "<IPython.core.display.HTML object>"
      ]
     },
     "metadata": {},
     "output_type": "display_data"
    },
    {
     "data": {
      "text/html": [
       "<pre style=\"margin: 0.1em;\n",
       "padding-left: 0.25em;\n",
       "border-left-style: solid;\n",
       "font-family: var(--jp-code-font-family);\n",
       "font-size: var(--jp-code-font-size);\n",
       "line-height: var(--jp-code-line-height);\n",
       "\"><span style=\"color: var(--jp-warn-color2)\">distributed.nanny</span> <span style=\"color: var(--jp-info-color0)\">INFO</span>: Closing Nanny at &#x27;tcp://127.0.0.1:38929&#x27;. Reason: nanny-close</pre>"
      ],
      "text/plain": [
       "<IPython.core.display.HTML object>"
      ]
     },
     "metadata": {},
     "output_type": "display_data"
    },
    {
     "data": {
      "text/html": [
       "<pre style=\"margin: 0.1em;\n",
       "padding-left: 0.25em;\n",
       "border-left-style: solid;\n",
       "font-family: var(--jp-code-font-family);\n",
       "font-size: var(--jp-code-font-size);\n",
       "line-height: var(--jp-code-line-height);\n",
       "\"><span style=\"color: var(--jp-warn-color2)\">distributed.nanny</span> <span style=\"color: var(--jp-info-color0)\">INFO</span>: Nanny asking worker to close. Reason: nanny-close</pre>"
      ],
      "text/plain": [
       "<IPython.core.display.HTML object>"
      ]
     },
     "metadata": {},
     "output_type": "display_data"
    },
    {
     "data": {
      "text/html": [
       "<pre style=\"margin: 0.1em;\n",
       "padding-left: 0.25em;\n",
       "border-left-style: solid;\n",
       "font-family: var(--jp-code-font-family);\n",
       "font-size: var(--jp-code-font-size);\n",
       "line-height: var(--jp-code-line-height);\n",
       "\"><span style=\"color: var(--jp-warn-color2)\">distributed.nanny</span> <span style=\"color: var(--jp-info-color0)\">INFO</span>: Closing Nanny at &#x27;tcp://127.0.0.1:41605&#x27;. Reason: nanny-close</pre>"
      ],
      "text/plain": [
       "<IPython.core.display.HTML object>"
      ]
     },
     "metadata": {},
     "output_type": "display_data"
    },
    {
     "data": {
      "text/html": [
       "<pre style=\"margin: 0.1em;\n",
       "padding-left: 0.25em;\n",
       "border-left-style: solid;\n",
       "font-family: var(--jp-code-font-family);\n",
       "font-size: var(--jp-code-font-size);\n",
       "line-height: var(--jp-code-line-height);\n",
       "\"><span style=\"color: var(--jp-warn-color2)\">distributed.nanny</span> <span style=\"color: var(--jp-info-color0)\">INFO</span>: Nanny asking worker to close. Reason: nanny-close</pre>"
      ],
      "text/plain": [
       "<IPython.core.display.HTML object>"
      ]
     },
     "metadata": {},
     "output_type": "display_data"
    },
    {
     "data": {
      "text/html": [
       "<pre style=\"margin: 0.1em;\n",
       "padding-left: 0.25em;\n",
       "border-left-style: solid;\n",
       "font-family: var(--jp-code-font-family);\n",
       "font-size: var(--jp-code-font-size);\n",
       "line-height: var(--jp-code-line-height);\n",
       "\"><span style=\"color: var(--jp-warn-color2)\">distributed.nanny</span> <span style=\"color: var(--jp-info-color0)\">INFO</span>: Closing Nanny at &#x27;tcp://127.0.0.1:44457&#x27;. Reason: nanny-close</pre>"
      ],
      "text/plain": [
       "<IPython.core.display.HTML object>"
      ]
     },
     "metadata": {},
     "output_type": "display_data"
    },
    {
     "data": {
      "text/html": [
       "<pre style=\"margin: 0.1em;\n",
       "padding-left: 0.25em;\n",
       "border-left-style: solid;\n",
       "font-family: var(--jp-code-font-family);\n",
       "font-size: var(--jp-code-font-size);\n",
       "line-height: var(--jp-code-line-height);\n",
       "\"><span style=\"color: var(--jp-warn-color2)\">distributed.nanny</span> <span style=\"color: var(--jp-info-color0)\">INFO</span>: Nanny asking worker to close. Reason: nanny-close</pre>"
      ],
      "text/plain": [
       "<IPython.core.display.HTML object>"
      ]
     },
     "metadata": {},
     "output_type": "display_data"
    },
    {
     "data": {
      "text/html": [
       "<pre style=\"margin: 0.1em;\n",
       "padding-left: 0.25em;\n",
       "border-left-style: solid;\n",
       "font-family: var(--jp-code-font-family);\n",
       "font-size: var(--jp-code-font-size);\n",
       "line-height: var(--jp-code-line-height);\n",
       "\"><span style=\"color: var(--jp-warn-color2)\">distributed.core</span> <span style=\"color: var(--jp-info-color0)\">INFO</span>: Received &#x27;close-stream&#x27; from tcp://127.0.0.1:52586; closing.</pre>"
      ],
      "text/plain": [
       "<IPython.core.display.HTML object>"
      ]
     },
     "metadata": {},
     "output_type": "display_data"
    },
    {
     "data": {
      "text/html": [
       "<pre style=\"margin: 0.1em;\n",
       "padding-left: 0.25em;\n",
       "border-left-style: solid;\n",
       "font-family: var(--jp-code-font-family);\n",
       "font-size: var(--jp-code-font-size);\n",
       "line-height: var(--jp-code-line-height);\n",
       "\"><span style=\"color: var(--jp-warn-color2)\">distributed.core</span> <span style=\"color: var(--jp-info-color0)\">INFO</span>: Received &#x27;close-stream&#x27; from tcp://127.0.0.1:52568; closing.</pre>"
      ],
      "text/plain": [
       "<IPython.core.display.HTML object>"
      ]
     },
     "metadata": {},
     "output_type": "display_data"
    },
    {
     "data": {
      "text/html": [
       "<pre style=\"margin: 0.1em;\n",
       "padding-left: 0.25em;\n",
       "border-left-style: solid;\n",
       "font-family: var(--jp-code-font-family);\n",
       "font-size: var(--jp-code-font-size);\n",
       "line-height: var(--jp-code-line-height);\n",
       "\"><span style=\"color: var(--jp-warn-color2)\">distributed.core</span> <span style=\"color: var(--jp-info-color0)\">INFO</span>: Received &#x27;close-stream&#x27; from tcp://127.0.0.1:52552; closing.</pre>"
      ],
      "text/plain": [
       "<IPython.core.display.HTML object>"
      ]
     },
     "metadata": {},
     "output_type": "display_data"
    },
    {
     "data": {
      "text/html": [
       "<pre style=\"margin: 0.1em;\n",
       "padding-left: 0.25em;\n",
       "border-left-style: solid;\n",
       "font-family: var(--jp-code-font-family);\n",
       "font-size: var(--jp-code-font-size);\n",
       "line-height: var(--jp-code-line-height);\n",
       "\"><span style=\"color: var(--jp-warn-color2)\">distributed.scheduler</span> <span style=\"color: var(--jp-info-color0)\">INFO</span>: Remove worker addr: tcp://127.0.0.1:42511 name: 0 (stimulus_id=&#x27;handle-worker-cleanup-1746064205.4298742&#x27;)</pre>"
      ],
      "text/plain": [
       "<IPython.core.display.HTML object>"
      ]
     },
     "metadata": {},
     "output_type": "display_data"
    },
    {
     "data": {
      "text/html": [
       "<pre style=\"margin: 0.1em;\n",
       "padding-left: 0.25em;\n",
       "border-left-style: solid;\n",
       "font-family: var(--jp-code-font-family);\n",
       "font-size: var(--jp-code-font-size);\n",
       "line-height: var(--jp-code-line-height);\n",
       "\"><span style=\"color: var(--jp-warn-color2)\">distributed.scheduler</span> <span style=\"color: var(--jp-info-color0)\">INFO</span>: Remove worker addr: tcp://127.0.0.1:45933 name: 1 (stimulus_id=&#x27;handle-worker-cleanup-1746064205.432364&#x27;)</pre>"
      ],
      "text/plain": [
       "<IPython.core.display.HTML object>"
      ]
     },
     "metadata": {},
     "output_type": "display_data"
    },
    {
     "data": {
      "text/html": [
       "<pre style=\"margin: 0.1em;\n",
       "padding-left: 0.25em;\n",
       "border-left-style: solid;\n",
       "font-family: var(--jp-code-font-family);\n",
       "font-size: var(--jp-code-font-size);\n",
       "line-height: var(--jp-code-line-height);\n",
       "\"><span style=\"color: var(--jp-warn-color2)\">distributed.scheduler</span> <span style=\"color: var(--jp-info-color0)\">INFO</span>: Remove worker addr: tcp://127.0.0.1:46259 name: 2 (stimulus_id=&#x27;handle-worker-cleanup-1746064205.4353359&#x27;)</pre>"
      ],
      "text/plain": [
       "<IPython.core.display.HTML object>"
      ]
     },
     "metadata": {},
     "output_type": "display_data"
    },
    {
     "data": {
      "text/html": [
       "<pre style=\"margin: 0.1em;\n",
       "padding-left: 0.25em;\n",
       "border-left-style: solid;\n",
       "font-family: var(--jp-code-font-family);\n",
       "font-size: var(--jp-code-font-size);\n",
       "line-height: var(--jp-code-line-height);\n",
       "\"><span style=\"color: var(--jp-warn-color2)\">distributed.core</span> <span style=\"color: var(--jp-info-color0)\">INFO</span>: Received &#x27;close-stream&#x27; from tcp://127.0.0.1:52572; closing.</pre>"
      ],
      "text/plain": [
       "<IPython.core.display.HTML object>"
      ]
     },
     "metadata": {},
     "output_type": "display_data"
    },
    {
     "data": {
      "text/html": [
       "<pre style=\"margin: 0.1em;\n",
       "padding-left: 0.25em;\n",
       "border-left-style: solid;\n",
       "font-family: var(--jp-code-font-family);\n",
       "font-size: var(--jp-code-font-size);\n",
       "line-height: var(--jp-code-line-height);\n",
       "\"><span style=\"color: var(--jp-warn-color2)\">distributed.scheduler</span> <span style=\"color: var(--jp-info-color0)\">INFO</span>: Remove worker addr: tcp://127.0.0.1:45633 name: 3 (stimulus_id=&#x27;handle-worker-cleanup-1746064205.494687&#x27;)</pre>"
      ],
      "text/plain": [
       "<IPython.core.display.HTML object>"
      ]
     },
     "metadata": {},
     "output_type": "display_data"
    },
    {
     "name": "stderr",
     "output_type": "stream",
     "text": [
      "2025-05-01 01:50:07,249 - distributed.worker - ERROR - Failed to communicate with scheduler during heartbeat.\n",
      "Traceback (most recent call last):\n",
      "  File \"/opt/lsst/software/stack/conda/envs/lsst-scipipe-10.0.0/lib/python3.12/site-packages/distributed/comm/tcp.py\", line 226, in read\n",
      "    frames_nosplit_nbytes_bin = await stream.read_bytes(fmt_size)\n",
      "                                ^^^^^^^^^^^^^^^^^^^^^^^^^^^^^^^^^\n",
      "tornado.iostream.StreamClosedError: Stream is closed\n",
      "\n",
      "The above exception was the direct cause of the following exception:\n",
      "\n",
      "Traceback (most recent call last):\n",
      "  File \"/opt/lsst/software/stack/conda/envs/lsst-scipipe-10.0.0/lib/python3.12/site-packages/distributed/worker.py\", line 1269, in heartbeat\n",
      "    response = await retry_operation(\n",
      "               ^^^^^^^^^^^^^^^^^^^^^^\n",
      "  File \"/opt/lsst/software/stack/conda/envs/lsst-scipipe-10.0.0/lib/python3.12/site-packages/distributed/utils_comm.py\", line 416, in retry_operation\n",
      "    return await retry(\n",
      "           ^^^^^^^^^^^^\n",
      "  File \"/opt/lsst/software/stack/conda/envs/lsst-scipipe-10.0.0/lib/python3.12/site-packages/distributed/utils_comm.py\", line 395, in retry\n",
      "    return await coro()\n",
      "           ^^^^^^^^^^^^\n",
      "  File \"/opt/lsst/software/stack/conda/envs/lsst-scipipe-10.0.0/lib/python3.12/site-packages/distributed/core.py\", line 1259, in send_recv_from_rpc\n",
      "    return await send_recv(comm=comm, op=key, **kwargs)\n",
      "           ^^^^^^^^^^^^^^^^^^^^^^^^^^^^^^^^^^^^^^^^^^^^\n",
      "  File \"/opt/lsst/software/stack/conda/envs/lsst-scipipe-10.0.0/lib/python3.12/site-packages/distributed/core.py\", line 1018, in send_recv\n",
      "    response = await comm.read(deserializers=deserializers)\n",
      "               ^^^^^^^^^^^^^^^^^^^^^^^^^^^^^^^^^^^^^^^^^^^^\n",
      "  File \"/opt/lsst/software/stack/conda/envs/lsst-scipipe-10.0.0/lib/python3.12/site-packages/distributed/comm/tcp.py\", line 237, in read\n",
      "    convert_stream_closed_error(self, e)\n",
      "  File \"/opt/lsst/software/stack/conda/envs/lsst-scipipe-10.0.0/lib/python3.12/site-packages/distributed/comm/tcp.py\", line 137, in convert_stream_closed_error\n",
      "    raise CommClosedError(f\"in {obj}: {exc}\") from exc\n",
      "distributed.comm.core.CommClosedError: in <TCP (closed) ConnectionPool.heartbeat_worker local=tcp://127.0.0.1:52630 remote=tcp://127.0.0.1:45567>: Stream is closed\n"
     ]
    },
    {
     "data": {
      "text/html": [
       "<pre style=\"margin: 0.1em;\n",
       "padding-left: 0.25em;\n",
       "border-left-style: solid;\n",
       "font-family: var(--jp-code-font-family);\n",
       "font-size: var(--jp-code-font-size);\n",
       "line-height: var(--jp-code-line-height);\n",
       "\"><span style=\"color: var(--jp-warn-color2)\">distributed.core</span> <span style=\"color: var(--jp-info-color0)\">INFO</span>: Received &#x27;close-stream&#x27; from tcp://127.0.0.1:52548; closing.</pre>"
      ],
      "text/plain": [
       "<IPython.core.display.HTML object>"
      ]
     },
     "metadata": {},
     "output_type": "display_data"
    },
    {
     "data": {
      "text/html": [
       "<pre style=\"margin: 0.1em;\n",
       "padding-left: 0.25em;\n",
       "border-left-style: solid;\n",
       "font-family: var(--jp-code-font-family);\n",
       "font-size: var(--jp-code-font-size);\n",
       "line-height: var(--jp-code-line-height);\n",
       "\"><span style=\"color: var(--jp-warn-color2)\">distributed.scheduler</span> <span style=\"color: var(--jp-info-color0)\">INFO</span>: Remove worker addr: tcp://127.0.0.1:34461 name: 4 (stimulus_id=&#x27;handle-worker-cleanup-1746064207.2564504&#x27;)</pre>"
      ],
      "text/plain": [
       "<IPython.core.display.HTML object>"
      ]
     },
     "metadata": {},
     "output_type": "display_data"
    },
    {
     "data": {
      "text/html": [
       "<pre style=\"margin: 0.1em;\n",
       "padding-left: 0.25em;\n",
       "border-left-style: solid;\n",
       "font-family: var(--jp-code-font-family);\n",
       "font-size: var(--jp-code-font-size);\n",
       "line-height: var(--jp-code-line-height);\n",
       "\"><span style=\"color: var(--jp-warn-color2)\">distributed.scheduler</span> <span style=\"color: var(--jp-info-color0)\">INFO</span>: Lost all workers</pre>"
      ],
      "text/plain": [
       "<IPython.core.display.HTML object>"
      ]
     },
     "metadata": {},
     "output_type": "display_data"
    },
    {
     "data": {
      "text/html": [
       "<pre style=\"margin: 0.1em;\n",
       "padding-left: 0.25em;\n",
       "border-left-style: solid;\n",
       "font-family: var(--jp-code-font-family);\n",
       "font-size: var(--jp-code-font-size);\n",
       "line-height: var(--jp-code-line-height);\n",
       "\"><span style=\"color: var(--jp-warn-color2)\">distributed.nanny</span> <span style=\"color: var(--jp-info-color0)\">INFO</span>: Nanny at &#x27;tcp://127.0.0.1:43299&#x27; closed.</pre>"
      ],
      "text/plain": [
       "<IPython.core.display.HTML object>"
      ]
     },
     "metadata": {},
     "output_type": "display_data"
    },
    {
     "data": {
      "text/html": [
       "<pre style=\"margin: 0.1em;\n",
       "padding-left: 0.25em;\n",
       "border-left-style: solid;\n",
       "font-family: var(--jp-code-font-family);\n",
       "font-size: var(--jp-code-font-size);\n",
       "line-height: var(--jp-code-line-height);\n",
       "\"><span style=\"color: var(--jp-warn-color2)\">distributed.nanny</span> <span style=\"color: var(--jp-info-color0)\">INFO</span>: Nanny at &#x27;tcp://127.0.0.1:38929&#x27; closed.</pre>"
      ],
      "text/plain": [
       "<IPython.core.display.HTML object>"
      ]
     },
     "metadata": {},
     "output_type": "display_data"
    },
    {
     "data": {
      "text/html": [
       "<pre style=\"margin: 0.1em;\n",
       "padding-left: 0.25em;\n",
       "border-left-style: solid;\n",
       "font-family: var(--jp-code-font-family);\n",
       "font-size: var(--jp-code-font-size);\n",
       "line-height: var(--jp-code-line-height);\n",
       "\"><span style=\"color: var(--jp-warn-color2)\">distributed.nanny</span> <span style=\"color: var(--jp-info-color0)\">INFO</span>: Nanny at &#x27;tcp://127.0.0.1:41605&#x27; closed.</pre>"
      ],
      "text/plain": [
       "<IPython.core.display.HTML object>"
      ]
     },
     "metadata": {},
     "output_type": "display_data"
    },
    {
     "data": {
      "text/html": [
       "<pre style=\"margin: 0.1em;\n",
       "padding-left: 0.25em;\n",
       "border-left-style: solid;\n",
       "font-family: var(--jp-code-font-family);\n",
       "font-size: var(--jp-code-font-size);\n",
       "line-height: var(--jp-code-line-height);\n",
       "\"><span style=\"color: var(--jp-warn-color2)\">distributed.nanny</span> <span style=\"color: var(--jp-info-color0)\">INFO</span>: Nanny at &#x27;tcp://127.0.0.1:39085&#x27; closed.</pre>"
      ],
      "text/plain": [
       "<IPython.core.display.HTML object>"
      ]
     },
     "metadata": {},
     "output_type": "display_data"
    },
    {
     "data": {
      "text/html": [
       "<pre style=\"margin: 0.1em;\n",
       "padding-left: 0.25em;\n",
       "border-left-style: solid;\n",
       "font-family: var(--jp-code-font-family);\n",
       "font-size: var(--jp-code-font-size);\n",
       "line-height: var(--jp-code-line-height);\n",
       "\"><span style=\"color: var(--jp-warn-color2)\">distributed.nanny</span> <span style=\"color: var(--jp-warn-color0)\">WARNING</span>: Worker process still alive after 4.0 seconds, killing</pre>"
      ],
      "text/plain": [
       "<IPython.core.display.HTML object>"
      ]
     },
     "metadata": {},
     "output_type": "display_data"
    },
    {
     "data": {
      "text/html": [
       "<pre style=\"margin: 0.1em;\n",
       "padding-left: 0.25em;\n",
       "border-left-style: solid;\n",
       "font-family: var(--jp-code-font-family);\n",
       "font-size: var(--jp-code-font-size);\n",
       "line-height: var(--jp-code-line-height);\n",
       "\"><span style=\"color: var(--jp-warn-color2)\">distributed.nanny</span> <span style=\"color: var(--jp-info-color0)\">INFO</span>: Worker process 6963 was killed by signal 9</pre>"
      ],
      "text/plain": [
       "<IPython.core.display.HTML object>"
      ]
     },
     "metadata": {},
     "output_type": "display_data"
    },
    {
     "data": {
      "text/html": [
       "<pre style=\"margin: 0.1em;\n",
       "padding-left: 0.25em;\n",
       "border-left-style: solid;\n",
       "font-family: var(--jp-code-font-family);\n",
       "font-size: var(--jp-code-font-size);\n",
       "line-height: var(--jp-code-line-height);\n",
       "\"><span style=\"color: var(--jp-warn-color2)\">distributed.nanny</span> <span style=\"color: var(--jp-info-color0)\">INFO</span>: Nanny at &#x27;tcp://127.0.0.1:44457&#x27; closed.</pre>"
      ],
      "text/plain": [
       "<IPython.core.display.HTML object>"
      ]
     },
     "metadata": {},
     "output_type": "display_data"
    },
    {
     "data": {
      "text/html": [
       "<pre style=\"margin: 0.1em;\n",
       "padding-left: 0.25em;\n",
       "border-left-style: solid;\n",
       "font-family: var(--jp-code-font-family);\n",
       "font-size: var(--jp-code-font-size);\n",
       "line-height: var(--jp-code-line-height);\n",
       "\"><span style=\"color: var(--jp-warn-color2)\">distributed.scheduler</span> <span style=\"color: var(--jp-info-color0)\">INFO</span>: Closing scheduler. Reason: unknown</pre>"
      ],
      "text/plain": [
       "<IPython.core.display.HTML object>"
      ]
     },
     "metadata": {},
     "output_type": "display_data"
    },
    {
     "data": {
      "text/html": [
       "<pre style=\"margin: 0.1em;\n",
       "padding-left: 0.25em;\n",
       "border-left-style: solid;\n",
       "font-family: var(--jp-code-font-family);\n",
       "font-size: var(--jp-code-font-size);\n",
       "line-height: var(--jp-code-line-height);\n",
       "\"><span style=\"color: var(--jp-warn-color2)\">distributed.scheduler</span> <span style=\"color: var(--jp-info-color0)\">INFO</span>: Scheduler closing all comms</pre>"
      ],
      "text/plain": [
       "<IPython.core.display.HTML object>"
      ]
     },
     "metadata": {},
     "output_type": "display_data"
    },
    {
     "data": {
      "text/html": [
       "<table border=\"1\" class=\"dataframe\">\n",
       "  <thead>\n",
       "    <tr style=\"text-align: right;\">\n",
       "      <th></th>\n",
       "      <th>solution_id</th>\n",
       "      <th>designation</th>\n",
       "      <th>source_id</th>\n",
       "      <th>ref_epoch</th>\n",
       "      <th>ra</th>\n",
       "      <th>ra_error</th>\n",
       "      <th>dec</th>\n",
       "      <th>dec_error</th>\n",
       "      <th>parallax</th>\n",
       "      <th>parallax_error</th>\n",
       "      <th>pm</th>\n",
       "      <th>pmra</th>\n",
       "      <th>pmra_error</th>\n",
       "      <th>pmdec</th>\n",
       "      <th>pmdec_error</th>\n",
       "      <th>phot_g_n_obs</th>\n",
       "      <th>phot_g_mean_flux</th>\n",
       "      <th>phot_g_mean_flux_error</th>\n",
       "      <th>phot_g_mean_mag</th>\n",
       "      <th>phot_bp_n_obs</th>\n",
       "      <th>phot_bp_mean_flux</th>\n",
       "      <th>phot_bp_mean_flux_error</th>\n",
       "      <th>phot_bp_mean_mag</th>\n",
       "      <th>phot_rp_n_obs</th>\n",
       "      <th>phot_rp_mean_flux</th>\n",
       "      <th>phot_rp_mean_flux_error</th>\n",
       "      <th>phot_rp_mean_mag</th>\n",
       "    </tr>\n",
       "    <tr>\n",
       "      <th>_healpix_29</th>\n",
       "      <th></th>\n",
       "      <th></th>\n",
       "      <th></th>\n",
       "      <th></th>\n",
       "      <th></th>\n",
       "      <th></th>\n",
       "      <th></th>\n",
       "      <th></th>\n",
       "      <th></th>\n",
       "      <th></th>\n",
       "      <th></th>\n",
       "      <th></th>\n",
       "      <th></th>\n",
       "      <th></th>\n",
       "      <th></th>\n",
       "      <th></th>\n",
       "      <th></th>\n",
       "      <th></th>\n",
       "      <th></th>\n",
       "      <th></th>\n",
       "      <th></th>\n",
       "      <th></th>\n",
       "      <th></th>\n",
       "      <th></th>\n",
       "      <th></th>\n",
       "      <th></th>\n",
       "      <th></th>\n",
       "    </tr>\n",
       "  </thead>\n",
       "  <tbody>\n",
       "    <tr>\n",
       "      <th>3121269471</th>\n",
       "      <td>1636148068921376768</td>\n",
       "      <td>Gaia DR3 4295806720</td>\n",
       "      <td>4295806720</td>\n",
       "      <td>2016.0</td>\n",
       "      <td>44.996155</td>\n",
       "      <td>0.101618</td>\n",
       "      <td>0.005615</td>\n",
       "      <td>0.101334</td>\n",
       "      <td>0.354331</td>\n",
       "      <td>0.122664</td>\n",
       "      <td>12.616485</td>\n",
       "      <td>11.938352</td>\n",
       "      <td>0.137942</td>\n",
       "      <td>-4.080619</td>\n",
       "      <td>0.13317</td>\n",
       "      <td>182</td>\n",
       "      <td>1653.394716</td>\n",
       "      <td>2.075764</td>\n",
       "      <td>17.641426</td>\n",
       "      <td>18</td>\n",
       "      <td>800.429546</td>\n",
       "      <td>12.601409</td>\n",
       "      <td>18.080235</td>\n",
       "      <td>20</td>\n",
       "      <td>1187.588004</td>\n",
       "      <td>15.823832</td>\n",
       "      <td>17.061232</td>\n",
       "    </tr>\n",
       "    <tr>\n",
       "      <th>18014401558649217</th>\n",
       "      <td>1636148068921376768</td>\n",
       "      <td>Gaia DR3 36028797018966528</td>\n",
       "      <td>36028797018966528</td>\n",
       "      <td>2016.0</td>\n",
       "      <td>56.248083</td>\n",
       "      <td>0.190219</td>\n",
       "      <td>9.60009</td>\n",
       "      <td>0.153946</td>\n",
       "      <td>0.203331</td>\n",
       "      <td>0.20873</td>\n",
       "      <td>9.853841</td>\n",
       "      <td>6.164395</td>\n",
       "      <td>0.241878</td>\n",
       "      <td>-7.687549</td>\n",
       "      <td>0.184837</td>\n",
       "      <td>340</td>\n",
       "      <td>570.352008</td>\n",
       "      <td>1.03883</td>\n",
       "      <td>18.797009</td>\n",
       "      <td>33</td>\n",
       "      <td>207.824779</td>\n",
       "      <td>10.098119</td>\n",
       "      <td>19.544298</td>\n",
       "      <td>32</td>\n",
       "      <td>480.320994</td>\n",
       "      <td>12.984775</td>\n",
       "      <td>18.044067</td>\n",
       "    </tr>\n",
       "    <tr>\n",
       "      <th>...</th>\n",
       "      <td>...</td>\n",
       "      <td>...</td>\n",
       "      <td>...</td>\n",
       "      <td>...</td>\n",
       "      <td>...</td>\n",
       "      <td>...</td>\n",
       "      <td>...</td>\n",
       "      <td>...</td>\n",
       "      <td>...</td>\n",
       "      <td>...</td>\n",
       "      <td>...</td>\n",
       "      <td>...</td>\n",
       "      <td>...</td>\n",
       "      <td>...</td>\n",
       "      <td>...</td>\n",
       "      <td>...</td>\n",
       "      <td>...</td>\n",
       "      <td>...</td>\n",
       "      <td>...</td>\n",
       "      <td>...</td>\n",
       "      <td>...</td>\n",
       "      <td>...</td>\n",
       "      <td>...</td>\n",
       "      <td>...</td>\n",
       "      <td>...</td>\n",
       "      <td>...</td>\n",
       "      <td>...</td>\n",
       "    </tr>\n",
       "    <tr>\n",
       "      <th>3453135014493309081</th>\n",
       "      <td>1636148068921376768</td>\n",
       "      <td>Gaia DR3 6906270028574385792</td>\n",
       "      <td>6906270028574385792</td>\n",
       "      <td>2016.0</td>\n",
       "      <td>309.375287</td>\n",
       "      <td>0.032238</td>\n",
       "      <td>-9.592596</td>\n",
       "      <td>0.018626</td>\n",
       "      <td>2.081528</td>\n",
       "      <td>0.038573</td>\n",
       "      <td>33.460625</td>\n",
       "      <td>32.530285</td>\n",
       "      <td>0.038634</td>\n",
       "      <td>-7.835431</td>\n",
       "      <td>0.03069</td>\n",
       "      <td>371</td>\n",
       "      <td>11509.551788</td>\n",
       "      <td>3.560854</td>\n",
       "      <td>15.53472</td>\n",
       "      <td>41</td>\n",
       "      <td>4519.443822</td>\n",
       "      <td>10.750568</td>\n",
       "      <td>16.20083</td>\n",
       "      <td>41</td>\n",
       "      <td>10035.165556</td>\n",
       "      <td>10.749033</td>\n",
       "      <td>14.744084</td>\n",
       "    </tr>\n",
       "    <tr>\n",
       "      <th>3454260917827819642</th>\n",
       "      <td>1636148068921376768</td>\n",
       "      <td>Gaia DR3 6908521832682371200</td>\n",
       "      <td>6908521832682371200</td>\n",
       "      <td>2016.0</td>\n",
       "      <td>315.000486</td>\n",
       "      <td>0.016624</td>\n",
       "      <td>-9.58729</td>\n",
       "      <td>0.011438</td>\n",
       "      <td>1.545488</td>\n",
       "      <td>0.021977</td>\n",
       "      <td>8.631162</td>\n",
       "      <td>8.629604</td>\n",
       "      <td>0.022408</td>\n",
       "      <td>0.163993</td>\n",
       "      <td>0.015286</td>\n",
       "      <td>375</td>\n",
       "      <td>129828.265017</td>\n",
       "      <td>23.448559</td>\n",
       "      <td>12.903944</td>\n",
       "      <td>41</td>\n",
       "      <td>67246.815608</td>\n",
       "      <td>43.79986</td>\n",
       "      <td>13.269362</td>\n",
       "      <td>41</td>\n",
       "      <td>88484.429158</td>\n",
       "      <td>28.165754</td>\n",
       "      <td>12.380729</td>\n",
       "    </tr>\n",
       "  </tbody>\n",
       "</table>\n",
       "<p>3933 rows × 27 columns</p>"
      ],
      "text/plain": [
       "                             solution_id                   designation  \\\n",
       "_healpix_29                                                              \n",
       "3121269471           1636148068921376768           Gaia DR3 4295806720   \n",
       "18014401558649217    1636148068921376768    Gaia DR3 36028797018966528   \n",
       "...                                  ...                           ...   \n",
       "3453135014493309081  1636148068921376768  Gaia DR3 6906270028574385792   \n",
       "3454260917827819642  1636148068921376768  Gaia DR3 6908521832682371200   \n",
       "\n",
       "                               source_id  ref_epoch          ra  ra_error  \\\n",
       "_healpix_29                                                                 \n",
       "3121269471                    4295806720     2016.0   44.996155  0.101618   \n",
       "18014401558649217      36028797018966528     2016.0   56.248083  0.190219   \n",
       "...                                  ...        ...         ...       ...   \n",
       "3453135014493309081  6906270028574385792     2016.0  309.375287  0.032238   \n",
       "3454260917827819642  6908521832682371200     2016.0  315.000486  0.016624   \n",
       "\n",
       "                          dec  dec_error  parallax  parallax_error  ...  \\\n",
       "_healpix_29                                                         ...   \n",
       "3121269471           0.005615   0.101334  0.354331        0.122664  ...   \n",
       "18014401558649217     9.60009   0.153946  0.203331         0.20873  ...   \n",
       "...                       ...        ...       ...             ...  ...   \n",
       "3453135014493309081 -9.592596   0.018626  2.081528        0.038573  ...   \n",
       "3454260917827819642  -9.58729   0.011438  1.545488        0.021977  ...   \n",
       "\n",
       "                     phot_g_mean_flux_error  phot_g_mean_mag  phot_bp_n_obs  \\\n",
       "_healpix_29                                                                   \n",
       "3121269471                         2.075764        17.641426             18   \n",
       "18014401558649217                   1.03883        18.797009             33   \n",
       "...                                     ...              ...            ...   \n",
       "3453135014493309081                3.560854         15.53472             41   \n",
       "3454260917827819642               23.448559        12.903944             41   \n",
       "\n",
       "                     phot_bp_mean_flux  phot_bp_mean_flux_error  \\\n",
       "_healpix_29                                                       \n",
       "3121269471                  800.429546                12.601409   \n",
       "18014401558649217           207.824779                10.098119   \n",
       "...                                ...                      ...   \n",
       "3453135014493309081        4519.443822                10.750568   \n",
       "3454260917827819642       67246.815608                 43.79986   \n",
       "\n",
       "                     phot_bp_mean_mag  phot_rp_n_obs  phot_rp_mean_flux  \\\n",
       "_healpix_29                                                               \n",
       "3121269471                  18.080235             20        1187.588004   \n",
       "18014401558649217           19.544298             32         480.320994   \n",
       "...                               ...            ...                ...   \n",
       "3453135014493309081          16.20083             41       10035.165556   \n",
       "3454260917827819642         13.269362             41       88484.429158   \n",
       "\n",
       "                     phot_rp_mean_flux_error  phot_rp_mean_mag  \n",
       "_healpix_29                                                     \n",
       "3121269471                         15.823832         17.061232  \n",
       "18014401558649217                  12.984775         18.044067  \n",
       "...                                      ...               ...  \n",
       "3453135014493309081                10.749033         14.744084  \n",
       "3454260917827819642                28.165754         12.380729  \n",
       "\n",
       "[3933 rows x 27 columns]"
      ]
     },
     "execution_count": 2,
     "metadata": {},
     "output_type": "execute_result"
    }
   ],
   "source": [
    "path_to_catalog = \"https://data.lsdb.io/hats/gaia_dr3/gaia\"\n",
    "catalog = lsdb.read_hats(path_to_catalog)\n",
    "top_rows_all = catalog.map_partitions(lambda df: df.head(1))\n",
    "from dask.distributed import Client\n",
    "with Client(n_workers=5, memory_limit=\"4GB\", threads_per_worker=2) as client:\n",
    "    top_rows_all_df = top_rows_all.compute()\n",
    "top_rows_all_df"
   ]
  },
  {
   "cell_type": "code",
   "execution_count": 4,
   "id": "aa153e69-6629-4b57-9f4a-e93e163b94a5",
   "metadata": {
    "execution": {
     "iopub.execute_input": "2025-05-01T02:00:03.073740Z",
     "iopub.status.busy": "2025-05-01T02:00:03.073263Z",
     "iopub.status.idle": "2025-05-01T02:00:03.082468Z",
     "shell.execute_reply": "2025-05-01T02:00:03.081608Z",
     "shell.execute_reply.started": "2025-05-01T02:00:03.073701Z"
    }
   },
   "outputs": [
    {
     "data": {
      "text/plain": [
       "PosixPath('/home/dtj1s/DATA')"
      ]
     },
     "execution_count": 4,
     "metadata": {},
     "output_type": "execute_result"
    }
   ],
   "source": [
    "from pathlib import Path\n",
    "data = Path('~/DATA').expanduser()\n",
    "data"
   ]
  },
  {
   "cell_type": "code",
   "execution_count": 5,
   "id": "53f17359-193f-49a4-bac4-4598c477d170",
   "metadata": {
    "execution": {
     "iopub.execute_input": "2025-05-01T02:00:37.612225Z",
     "iopub.status.busy": "2025-05-01T02:00:37.611723Z",
     "iopub.status.idle": "2025-05-01T02:00:37.670966Z",
     "shell.execute_reply": "2025-05-01T02:00:37.669943Z",
     "shell.execute_reply.started": "2025-05-01T02:00:37.612183Z"
    }
   },
   "outputs": [],
   "source": [
    "top_rows_all_df.to_parquet(data / 'thumbnail.parquet')"
   ]
  }
 ],
 "metadata": {
  "kernelspec": {
   "display_name": "LSST",
   "language": "python",
   "name": "lsst"
  },
  "language_info": {
   "codemirror_mode": {
    "name": "ipython",
    "version": 3
   },
   "file_extension": ".py",
   "mimetype": "text/x-python",
   "name": "python",
   "nbconvert_exporter": "python",
   "pygments_lexer": "ipython3",
   "version": "3.12.9"
  }
 },
 "nbformat": 4,
 "nbformat_minor": 5
}
