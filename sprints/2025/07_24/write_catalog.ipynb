{
 "cells": [
  {
   "cell_type": "markdown",
   "id": "0398c865",
   "metadata": {},
   "source": [
    "## Writing catalogs to disk\n",
    "\n",
    "There's a new method to save catalogs to disk:\n",
    "\n",
    "```python\n",
    "class Catalog:\n",
    "    ...\n",
    "\n",
    "    def write_catalog(\n",
    "        self,\n",
    "        base_catalog_path: str | Path | UPath,\n",
    "        *,\n",
    "        catalog_name: str | None = None,\n",
    "        default_columns: list[str] | None = None,\n",
    "        as_collection: bool = True,\n",
    "        overwrite: bool = False,\n",
    "        **kwargs, # kwargs for `NestedFrame.to_parquet`\n",
    "    )\n",
    "```\n",
    "\n",
    "We can write:\n",
    "- Collections (main catalog, margin, and appropriate properties).\n",
    "- Standalone catalogs, providing `as_collection=False`."
   ]
  },
  {
   "cell_type": "code",
   "execution_count": 1,
   "id": "2792b48d",
   "metadata": {},
   "outputs": [
    {
     "data": {
      "text/html": [
       "<div><strong>lsdb Catalog small_sky_order1:</strong></div><div>\n",
       "<style scoped>\n",
       "    .dataframe tbody tr th:only-of-type {\n",
       "        vertical-align: middle;\n",
       "    }\n",
       "\n",
       "    .dataframe tbody tr th {\n",
       "        vertical-align: top;\n",
       "    }\n",
       "\n",
       "    .dataframe thead th {\n",
       "        text-align: right;\n",
       "    }\n",
       "</style>\n",
       "<table border=\"1\" class=\"dataframe\">\n",
       "  <thead>\n",
       "    <tr style=\"text-align: right;\">\n",
       "      <th></th>\n",
       "      <th>id</th>\n",
       "      <th>ra</th>\n",
       "      <th>dec</th>\n",
       "      <th>ra_error</th>\n",
       "      <th>dec_error</th>\n",
       "    </tr>\n",
       "    <tr>\n",
       "      <th>npartitions=4</th>\n",
       "      <th></th>\n",
       "      <th></th>\n",
       "      <th></th>\n",
       "      <th></th>\n",
       "      <th></th>\n",
       "    </tr>\n",
       "  </thead>\n",
       "  <tbody>\n",
       "    <tr>\n",
       "      <th>Order: 1, Pixel: 44</th>\n",
       "      <td>int64[pyarrow]</td>\n",
       "      <td>double[pyarrow]</td>\n",
       "      <td>double[pyarrow]</td>\n",
       "      <td>int64[pyarrow]</td>\n",
       "      <td>int64[pyarrow]</td>\n",
       "    </tr>\n",
       "    <tr>\n",
       "      <th>Order: 1, Pixel: 45</th>\n",
       "      <td>...</td>\n",
       "      <td>...</td>\n",
       "      <td>...</td>\n",
       "      <td>...</td>\n",
       "      <td>...</td>\n",
       "    </tr>\n",
       "    <tr>\n",
       "      <th>Order: 1, Pixel: 46</th>\n",
       "      <td>...</td>\n",
       "      <td>...</td>\n",
       "      <td>...</td>\n",
       "      <td>...</td>\n",
       "      <td>...</td>\n",
       "    </tr>\n",
       "    <tr>\n",
       "      <th>Order: 1, Pixel: 47</th>\n",
       "      <td>...</td>\n",
       "      <td>...</td>\n",
       "      <td>...</td>\n",
       "      <td>...</td>\n",
       "      <td>...</td>\n",
       "    </tr>\n",
       "  </tbody>\n",
       "</table>\n",
       "</div><div>5 out of 5 available columns in the catalog have been loaded <strong>lazily</strong>, meaning no data has been read, only the catalog schema</div>"
      ],
      "text/plain": [
       "Dask NestedFrame Structure:\n",
       "                                 id               ra              dec        ra_error       dec_error\n",
       "npartitions=4                                                                                        \n",
       "3170534137668829184  int64[pyarrow]  double[pyarrow]  double[pyarrow]  int64[pyarrow]  int64[pyarrow]\n",
       "3242591731706757120             ...              ...              ...             ...             ...\n",
       "3314649325744685056             ...              ...              ...             ...             ...\n",
       "3386706919782612992             ...              ...              ...             ...             ...\n",
       "3458764513820540928             ...              ...              ...             ...             ...\n",
       "Dask Name: nestedframe, 3 expressions\n",
       "Expr=MapPartitions(NestedFrame)"
      ]
     },
     "execution_count": 1,
     "metadata": {},
     "output_type": "execute_result"
    }
   ],
   "source": [
    "import lsdb\n",
    "\n",
    "small_sky_collection = lsdb.open_catalog(\"../tests/data/small_sky_order1_collection\")\n",
    "small_sky_collection"
   ]
  },
  {
   "cell_type": "markdown",
   "id": "1f861659",
   "metadata": {},
   "source": [
    "By default a catalog is saved as a collection:"
   ]
  },
  {
   "cell_type": "code",
   "execution_count": 2,
   "id": "c1217b1e",
   "metadata": {},
   "outputs": [],
   "source": [
    "small_sky_collection.write_catalog(\n",
    "    \"my_small_sky_collection\",\n",
    "    catalog_name=\"my_small_sky\",\n",
    "    default_columns=[\"id\",\"ra\",\"dec\"],\n",
    ")"
   ]
  },
  {
   "cell_type": "code",
   "execution_count": 3,
   "id": "8904bae6",
   "metadata": {},
   "outputs": [
    {
     "name": "stdout",
     "output_type": "stream",
     "text": [
      "collection.properties  \u001b[1m\u001b[36mmy_small_sky\u001b[m\u001b[m/          \u001b[1m\u001b[36mmy_small_sky_3600arcs\u001b[m\u001b[m/\n"
     ]
    }
   ],
   "source": [
    "%ls my_small_sky_collection/"
   ]
  },
  {
   "cell_type": "markdown",
   "id": "46dd1443",
   "metadata": {},
   "source": [
    "Writing the main catalog only:"
   ]
  },
  {
   "cell_type": "code",
   "execution_count": 4,
   "id": "bfda207c",
   "metadata": {},
   "outputs": [],
   "source": [
    "small_sky_collection.write_catalog(\n",
    "    \"my_small_sky\",\n",
    "    catalog_name=\"my_small_sky\",\n",
    "    default_columns=[\"id\",\"ra\",\"dec\"],\n",
    "    as_collection=False, # added this flag\n",
    ")"
   ]
  },
  {
   "cell_type": "code",
   "execution_count": 5,
   "id": "a406a7bc",
   "metadata": {},
   "outputs": [
    {
     "name": "stdout",
     "output_type": "stream",
     "text": [
      "\u001b[1m\u001b[36mdataset\u001b[m\u001b[m/            partition_info.csv  properties\n",
      "hats.properties     point_map.fits      skymap.fits\n"
     ]
    }
   ],
   "source": [
    "%ls my_small_sky/"
   ]
  },
  {
   "cell_type": "markdown",
   "id": "deffee3c",
   "metadata": {},
   "source": [
    "### Updates to HATS creation properties\n",
    "\n",
    "These properties, often carried over from hats-import, were not being updated after processing with LSDB.\n",
    "\n",
    "```plain\n",
    "hats_builder=lsdb v0.6.2.dev26+ga9279dbe.d20250721, hats v0.6.2.dev3+ge7fdab4e\n",
    "hats_creation_date=2025-07-24T13\\:42UTC\n",
    "hats_estsize=33\n",
    "```"
   ]
  },
  {
   "cell_type": "code",
   "execution_count": 6,
   "id": "8730e5fe",
   "metadata": {},
   "outputs": [
    {
     "name": "stdout",
     "output_type": "stream",
     "text": [
      "#HATS catalog\n",
      "obs_collection=my_small_sky\n",
      "dataproduct_type=object\n",
      "hats_nrows=131\n",
      "hats_col_ra=ra\n",
      "hats_col_dec=dec\n",
      "hats_cols_default=id ra dec\n",
      "hats_npix_suffix=.parquet\n",
      "hats_skymap_order=1\n",
      "obs_regime=Optical\n",
      "default_index=id\n",
      "hats_builder=lsdb v0.6.2.dev26+ga9279dbe.d20250721, hats v0.6.2.dev3+ge7fdab4e\n",
      "hats_creation_date=2025-07-24T14\\:17UTC\n",
      "hats_estsize=33\n",
      "hats_release_date=2024-09-18\n",
      "hats_version=v0.1\n",
      "hats_max_rows=42\n",
      "hats_order=1\n",
      "moc_sky_fraction=0.08333\n"
     ]
    }
   ],
   "source": [
    "%cat my_small_sky_collection/my_small_sky/hats.properties"
   ]
  },
  {
   "cell_type": "code",
   "execution_count": 7,
   "id": "d54c6596",
   "metadata": {},
   "outputs": [
    {
     "name": "stdout",
     "output_type": "stream",
     "text": [
      "2c2\n",
      "< obs_collection=small_sky_order1\n",
      "---\n",
      "> obs_collection=my_small_sky\n",
      "6a7\n",
      "> hats_cols_default=id ra dec\n",
      "11,12c12,13\n",
      "< hats_builder=hats-import v0.6.1.dev1+gd082cb2, hats v0.7.dev0+g8d490830.d20250613\n",
      "< hats_creation_date=2025-06-16T18\\:06UTC\n",
      "---\n",
      "> hats_builder=lsdb v0.6.2.dev26+ga9279dbe.d20250721, hats v0.6.2.dev3+ge7fdab4e\n",
      "> hats_creation_date=2025-07-24T14\\:17UTC\n",
      "16c17\n",
      "< hats_max_rows=1000000\n",
      "---\n",
      "> hats_max_rows=42\n"
     ]
    }
   ],
   "source": [
    "!diff \\\n",
    "../tests/data/small_sky_order1_collection/small_sky_order1/hats.properties \\\n",
    "my_small_sky_collection/my_small_sky/hats.properties"
   ]
  }
 ],
 "metadata": {
  "kernelspec": {
   "display_name": "lsdb",
   "language": "python",
   "name": "python3"
  },
  "language_info": {
   "codemirror_mode": {
    "name": "ipython",
    "version": 3
   },
   "file_extension": ".py",
   "mimetype": "text/x-python",
   "name": "python",
   "nbconvert_exporter": "python",
   "pygments_lexer": "ipython3",
   "version": "3.11.11"
  }
 },
 "nbformat": 4,
 "nbformat_minor": 5
}
