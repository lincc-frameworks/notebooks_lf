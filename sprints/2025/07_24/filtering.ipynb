{
 "cells": [
  {
   "cell_type": "code",
   "id": "initial_id",
   "metadata": {
    "collapsed": true,
    "ExecuteTime": {
     "end_time": "2025-07-24T18:48:23.557276Z",
     "start_time": "2025-07-24T18:48:21.306124Z"
    }
   },
   "source": "import lsdb",
   "outputs": [],
   "execution_count": 1
  },
  {
   "metadata": {
    "ExecuteTime": {
     "end_time": "2025-07-24T18:49:10.484830Z",
     "start_time": "2025-07-24T18:49:03.030753Z"
    }
   },
   "cell_type": "code",
   "source": [
    "normal_cat = lsdb.open_catalog('https://data.lsdb.io/hats/ztf_dr22/ztf_lc')\n",
    "normal_cat"
   ],
   "id": "98ddf31d49195bda",
   "outputs": [
    {
     "data": {
      "text/plain": [
       "Dask NestedFrame Structure:\n",
       "                           objectid       filterid           objra          objdec         nepochs                            hmjd                            mag                         magerr                       clrcoeff                       catflags\n",
       "npartitions=10839                                                                                                                                                                                                                                             \n",
       "0                    int64[pyarrow]  int8[pyarrow]  float[pyarrow]  float[pyarrow]  int64[pyarrow]  list<element: double>[pyarrow]  list<element: float>[pyarrow]  list<element: float>[pyarrow]  list<element: float>[pyarrow]  list<element: int32>[pyarrow]\n",
       "1125899906842624                ...            ...             ...             ...             ...                             ...                            ...                            ...                            ...                            ...\n",
       "...                             ...            ...             ...             ...             ...                             ...                            ...                            ...                            ...                            ...\n",
       "3458483038843830272             ...            ...             ...             ...             ...                             ...                            ...                            ...                            ...                            ...\n",
       "3458764513820540928             ...            ...             ...             ...             ...                             ...                            ...                            ...                            ...                            ...\n",
       "Dask Name: nestedframe, 3 expressions\n",
       "Expr=MapPartitions(NestedFrame)"
      ],
      "text/html": [
       "<div><strong>lsdb Catalog ztf_lc:</strong></div><div>\n",
       "<style scoped>\n",
       "    .dataframe tbody tr th:only-of-type {\n",
       "        vertical-align: middle;\n",
       "    }\n",
       "\n",
       "    .dataframe tbody tr th {\n",
       "        vertical-align: top;\n",
       "    }\n",
       "\n",
       "    .dataframe thead th {\n",
       "        text-align: right;\n",
       "    }\n",
       "</style>\n",
       "<table border=\"1\" class=\"dataframe\">\n",
       "  <thead>\n",
       "    <tr style=\"text-align: right;\">\n",
       "      <th></th>\n",
       "      <th>objectid</th>\n",
       "      <th>filterid</th>\n",
       "      <th>objra</th>\n",
       "      <th>objdec</th>\n",
       "      <th>nepochs</th>\n",
       "      <th>hmjd</th>\n",
       "      <th>mag</th>\n",
       "      <th>magerr</th>\n",
       "      <th>clrcoeff</th>\n",
       "      <th>catflags</th>\n",
       "    </tr>\n",
       "    <tr>\n",
       "      <th>npartitions=10839</th>\n",
       "      <th></th>\n",
       "      <th></th>\n",
       "      <th></th>\n",
       "      <th></th>\n",
       "      <th></th>\n",
       "      <th></th>\n",
       "      <th></th>\n",
       "      <th></th>\n",
       "      <th></th>\n",
       "      <th></th>\n",
       "    </tr>\n",
       "  </thead>\n",
       "  <tbody>\n",
       "    <tr>\n",
       "      <th>Order: 4, Pixel: 0</th>\n",
       "      <td>int64[pyarrow]</td>\n",
       "      <td>int8[pyarrow]</td>\n",
       "      <td>float[pyarrow]</td>\n",
       "      <td>float[pyarrow]</td>\n",
       "      <td>int64[pyarrow]</td>\n",
       "      <td>list&lt;element: double&gt;[pyarrow]</td>\n",
       "      <td>list&lt;element: float&gt;[pyarrow]</td>\n",
       "      <td>list&lt;element: float&gt;[pyarrow]</td>\n",
       "      <td>list&lt;element: float&gt;[pyarrow]</td>\n",
       "      <td>list&lt;element: int32&gt;[pyarrow]</td>\n",
       "    </tr>\n",
       "    <tr>\n",
       "      <th>Order: 4, Pixel: 1</th>\n",
       "      <td>...</td>\n",
       "      <td>...</td>\n",
       "      <td>...</td>\n",
       "      <td>...</td>\n",
       "      <td>...</td>\n",
       "      <td>...</td>\n",
       "      <td>...</td>\n",
       "      <td>...</td>\n",
       "      <td>...</td>\n",
       "      <td>...</td>\n",
       "    </tr>\n",
       "    <tr>\n",
       "      <th>...</th>\n",
       "      <td>...</td>\n",
       "      <td>...</td>\n",
       "      <td>...</td>\n",
       "      <td>...</td>\n",
       "      <td>...</td>\n",
       "      <td>...</td>\n",
       "      <td>...</td>\n",
       "      <td>...</td>\n",
       "      <td>...</td>\n",
       "      <td>...</td>\n",
       "    </tr>\n",
       "    <tr>\n",
       "      <th>Order: 5, Pixel: 12286</th>\n",
       "      <td>...</td>\n",
       "      <td>...</td>\n",
       "      <td>...</td>\n",
       "      <td>...</td>\n",
       "      <td>...</td>\n",
       "      <td>...</td>\n",
       "      <td>...</td>\n",
       "      <td>...</td>\n",
       "      <td>...</td>\n",
       "      <td>...</td>\n",
       "    </tr>\n",
       "    <tr>\n",
       "      <th>Order: 5, Pixel: 12287</th>\n",
       "      <td>...</td>\n",
       "      <td>...</td>\n",
       "      <td>...</td>\n",
       "      <td>...</td>\n",
       "      <td>...</td>\n",
       "      <td>...</td>\n",
       "      <td>...</td>\n",
       "      <td>...</td>\n",
       "      <td>...</td>\n",
       "      <td>...</td>\n",
       "    </tr>\n",
       "  </tbody>\n",
       "</table>\n",
       "</div><div>10 out of 15 available columns in the catalog have been loaded <strong>lazily</strong>, meaning no data has been read, only the catalog schema</div>"
      ]
     },
     "execution_count": 2,
     "metadata": {},
     "output_type": "execute_result"
    }
   ],
   "execution_count": 2
  },
  {
   "metadata": {
    "ExecuteTime": {
     "end_time": "2025-07-24T18:56:10.995018Z",
     "start_time": "2025-07-24T18:54:38.488057Z"
    }
   },
   "cell_type": "code",
   "source": [
    "%%timeit\n",
    "normal_cat.cone_search(10, 10, 100).compute()"
   ],
   "id": "7397b6b124478c5a",
   "outputs": [
    {
     "name": "stdout",
     "output_type": "stream",
     "text": [
      "11.4 s ± 743 ms per loop (mean ± std. dev. of 7 runs, 1 loop each)\n"
     ]
    }
   ],
   "execution_count": 9
  },
  {
   "metadata": {
    "ExecuteTime": {
     "end_time": "2025-07-24T18:51:19.375656Z",
     "start_time": "2025-07-24T18:50:31.174876Z"
    }
   },
   "cell_type": "code",
   "source": [
    "server_cat = lsdb.open_catalog('http://epyc.astro.washington.edu:43210/hats/ztf_dr22/ztf_lc')\n",
    "server_cat"
   ],
   "id": "86c418c5bab3434a",
   "outputs": [
    {
     "data": {
      "text/plain": [
       "Dask NestedFrame Structure:\n",
       "                           objectid       filterid           objra          objdec         nepochs                            hmjd                            mag                         magerr                       clrcoeff                       catflags\n",
       "npartitions=10839                                                                                                                                                                                                                                             \n",
       "0                    int64[pyarrow]  int8[pyarrow]  float[pyarrow]  float[pyarrow]  int64[pyarrow]  list<element: double>[pyarrow]  list<element: float>[pyarrow]  list<element: float>[pyarrow]  list<element: float>[pyarrow]  list<element: int32>[pyarrow]\n",
       "1125899906842624                ...            ...             ...             ...             ...                             ...                            ...                            ...                            ...                            ...\n",
       "...                             ...            ...             ...             ...             ...                             ...                            ...                            ...                            ...                            ...\n",
       "3458483038843830272             ...            ...             ...             ...             ...                             ...                            ...                            ...                            ...                            ...\n",
       "3458764513820540928             ...            ...             ...             ...             ...                             ...                            ...                            ...                            ...                            ...\n",
       "Dask Name: nestedframe, 3 expressions\n",
       "Expr=MapPartitions(NestedFrame)"
      ],
      "text/html": [
       "<div><strong>lsdb Catalog ztf_lc:</strong></div><div>\n",
       "<style scoped>\n",
       "    .dataframe tbody tr th:only-of-type {\n",
       "        vertical-align: middle;\n",
       "    }\n",
       "\n",
       "    .dataframe tbody tr th {\n",
       "        vertical-align: top;\n",
       "    }\n",
       "\n",
       "    .dataframe thead th {\n",
       "        text-align: right;\n",
       "    }\n",
       "</style>\n",
       "<table border=\"1\" class=\"dataframe\">\n",
       "  <thead>\n",
       "    <tr style=\"text-align: right;\">\n",
       "      <th></th>\n",
       "      <th>objectid</th>\n",
       "      <th>filterid</th>\n",
       "      <th>objra</th>\n",
       "      <th>objdec</th>\n",
       "      <th>nepochs</th>\n",
       "      <th>hmjd</th>\n",
       "      <th>mag</th>\n",
       "      <th>magerr</th>\n",
       "      <th>clrcoeff</th>\n",
       "      <th>catflags</th>\n",
       "    </tr>\n",
       "    <tr>\n",
       "      <th>npartitions=10839</th>\n",
       "      <th></th>\n",
       "      <th></th>\n",
       "      <th></th>\n",
       "      <th></th>\n",
       "      <th></th>\n",
       "      <th></th>\n",
       "      <th></th>\n",
       "      <th></th>\n",
       "      <th></th>\n",
       "      <th></th>\n",
       "    </tr>\n",
       "  </thead>\n",
       "  <tbody>\n",
       "    <tr>\n",
       "      <th>Order: 4, Pixel: 0</th>\n",
       "      <td>int64[pyarrow]</td>\n",
       "      <td>int8[pyarrow]</td>\n",
       "      <td>float[pyarrow]</td>\n",
       "      <td>float[pyarrow]</td>\n",
       "      <td>int64[pyarrow]</td>\n",
       "      <td>list&lt;element: double&gt;[pyarrow]</td>\n",
       "      <td>list&lt;element: float&gt;[pyarrow]</td>\n",
       "      <td>list&lt;element: float&gt;[pyarrow]</td>\n",
       "      <td>list&lt;element: float&gt;[pyarrow]</td>\n",
       "      <td>list&lt;element: int32&gt;[pyarrow]</td>\n",
       "    </tr>\n",
       "    <tr>\n",
       "      <th>Order: 4, Pixel: 1</th>\n",
       "      <td>...</td>\n",
       "      <td>...</td>\n",
       "      <td>...</td>\n",
       "      <td>...</td>\n",
       "      <td>...</td>\n",
       "      <td>...</td>\n",
       "      <td>...</td>\n",
       "      <td>...</td>\n",
       "      <td>...</td>\n",
       "      <td>...</td>\n",
       "    </tr>\n",
       "    <tr>\n",
       "      <th>...</th>\n",
       "      <td>...</td>\n",
       "      <td>...</td>\n",
       "      <td>...</td>\n",
       "      <td>...</td>\n",
       "      <td>...</td>\n",
       "      <td>...</td>\n",
       "      <td>...</td>\n",
       "      <td>...</td>\n",
       "      <td>...</td>\n",
       "      <td>...</td>\n",
       "    </tr>\n",
       "    <tr>\n",
       "      <th>Order: 5, Pixel: 12286</th>\n",
       "      <td>...</td>\n",
       "      <td>...</td>\n",
       "      <td>...</td>\n",
       "      <td>...</td>\n",
       "      <td>...</td>\n",
       "      <td>...</td>\n",
       "      <td>...</td>\n",
       "      <td>...</td>\n",
       "      <td>...</td>\n",
       "      <td>...</td>\n",
       "    </tr>\n",
       "    <tr>\n",
       "      <th>Order: 5, Pixel: 12287</th>\n",
       "      <td>...</td>\n",
       "      <td>...</td>\n",
       "      <td>...</td>\n",
       "      <td>...</td>\n",
       "      <td>...</td>\n",
       "      <td>...</td>\n",
       "      <td>...</td>\n",
       "      <td>...</td>\n",
       "      <td>...</td>\n",
       "      <td>...</td>\n",
       "    </tr>\n",
       "  </tbody>\n",
       "</table>\n",
       "</div><div>10 out of 15 available columns in the catalog have been loaded <strong>lazily</strong>, meaning no data has been read, only the catalog schema</div>"
      ]
     },
     "execution_count": 4,
     "metadata": {},
     "output_type": "execute_result"
    }
   ],
   "execution_count": 4
  },
  {
   "metadata": {
    "ExecuteTime": {
     "end_time": "2025-07-24T18:57:18.329496Z",
     "start_time": "2025-07-24T18:56:11.175721Z"
    }
   },
   "cell_type": "code",
   "source": [
    "%%timeit\n",
    "server_cat.cone_search(10, 10, 100).compute()"
   ],
   "id": "fc39a7ba5589d8e5",
   "outputs": [
    {
     "name": "stdout",
     "output_type": "stream",
     "text": [
      "8.33 s ± 139 ms per loop (mean ± std. dev. of 7 runs, 1 loop each)\n"
     ]
    }
   ],
   "execution_count": 10
  },
  {
   "metadata": {
    "ExecuteTime": {
     "end_time": "2025-07-24T19:00:18.901853Z",
     "start_time": "2025-07-24T19:00:18.850472Z"
    }
   },
   "cell_type": "code",
   "source": "server_cat.cone_search(10, 10, 100)._ddf.pprint()",
   "id": "4edae14789c15c1f",
   "outputs": [
    {
     "name": "stdout",
     "output_type": "stream",
     "text": [
      "MapPartitions: func=<bound method ConeSearch.search_points of <lsdb.core.search.cone_search.ConeSearch object at 0x28c749890>> meta='<pandas>' enforce_metadata=True transform_divisions=False clear_divisions=False align_dataframes=False kwargs={}TableProperties(catalog_name='ztf_lc', catalog_type='object', total_rows=0, ra_column='objra', dec_column='objdec', default_columns=['objectid', 'filterid', 'objra', 'objdec', 'nepochs', 'hmjd', 'mag', 'magerr', 'clrcoeff', 'catflags'], primary_catalog=None, margin_threshold=None, primary_column=None, primary_column_association=None, join_catalog=None, join_column=None, join_column_association=None, contains_leaf_files=None, indexing_column=None, extra_columns=None, npix_suffix='.parquet', skymap_order=None, skymap_alt_orders=None, hats_cols_sort='objectid', hats_max_rows='1000000', hats_order='7', moc_sky_fraction='0.78125', hats_builder='hats-import v0.4.2', hats_creation_date='2024-12-13T02:53UTC', hats_estsize='7719289875', hats_release_date='2024-09-18', hats_version='v0.1')\n",
      "  Partitions: partitions=[0]\n",
      "    MapPartitions: func=<class 'nested_pandas.nestedframe.core.NestedFrame'> meta='<pandas>' enforce_metadata=True transform_divisions=True clear_divisions=False align_dataframes=False kwargs={}\n",
      "      ArrowStringConversion:\n",
      "        FromMapProjectable: func=<function read_pixel at 0x130e9a8e0> iterables=[array([Order: 5, Pixel: 4885], dtype=object)] columns=['objectid', 'filterid', 'objra', 'objdec', 'nepochs', 'hmjd', 'mag', 'magerr', 'clrcoeff', 'catflags'] args=[] kwargs={'catalog': <hats.catalog.catalog.Catalog object at 0x1374abe90>, 'query_url_params': {'columns': ['objectid', 'filterid', 'objra', 'objdec', 'nepochs', 'hmjd', 'mag', 'magerr', 'clrcoeff', 'catflags'], 'filters': '_healpix_29>=1375224613801295872,_healpix_29<1375225163557109760;_healpix_29>=1375230661115248640,_healpix_29<1375231210871062528'}, 'schema': _healpix_29: int64\n",
      "objectid: int64\n",
      "filterid: int8\n",
      "fieldid: int16\n",
      "rcid: int8\n",
      "objra: float\n",
      "objdec: float\n",
      "nepochs: int64\n",
      "hmjd: list<element: double>\n",
      "  child 0, element: double\n",
      "mag: list<element: float>\n",
      "  child 0, element: float\n",
      "magerr: list<element: float>\n",
      "  child 0, element: float\n",
      "clrcoeff: list<element: float>\n",
      "  child 0, element: float\n",
      "catflags: list<element: int32>\n",
      "  child 0, element: int32\n",
      "Norder: uint8\n",
      "Dir: uint64\n",
      "Npix: uint64, 'filters': [[('_healpix_29', '>=', np.uint64(1375224613801295872)), ('_healpix_29', '<', np.uint64(1375225163557109760))], [('_healpix_29', '>=', np.uint64(1375230661115248640)), ('_healpix_29', '<', np.uint64(1375231210871062528))]]} columns_arg_required=False user_meta='<pandas>' enforce_metadata=True user_divisions=(np.int64(1375005261231554560), np.int64(1375286736208265216))\n"
     ]
    }
   ],
   "execution_count": 14
  },
  {
   "metadata": {},
   "cell_type": "code",
   "outputs": [],
   "execution_count": null,
   "source": "",
   "id": "32e77f5f9c86ec3a"
  }
 ],
 "metadata": {
  "kernelspec": {
   "display_name": "Python 3",
   "language": "python",
   "name": "python3"
  },
  "language_info": {
   "codemirror_mode": {
    "name": "ipython",
    "version": 2
   },
   "file_extension": ".py",
   "mimetype": "text/x-python",
   "name": "python",
   "nbconvert_exporter": "python",
   "pygments_lexer": "ipython2",
   "version": "2.7.6"
  }
 },
 "nbformat": 4,
 "nbformat_minor": 5
}
