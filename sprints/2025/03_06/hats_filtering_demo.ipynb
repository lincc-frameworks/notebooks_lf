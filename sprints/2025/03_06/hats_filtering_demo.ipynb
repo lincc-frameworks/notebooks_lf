{
 "cells": [
  {
   "cell_type": "markdown",
   "id": "d36b0701-f67e-4c4e-bee8-14a30bec6f93",
   "metadata": {},
   "source": [
    "# General Filtering with LSDB/HATS"
   ]
  },
  {
   "cell_type": "code",
   "execution_count": 1,
   "id": "7e228a15-d907-4594-a0df-5e67df14990a",
   "metadata": {
    "execution": {
     "iopub.execute_input": "2025-02-25T22:09:46.656403Z",
     "iopub.status.busy": "2025-02-25T22:09:46.656132Z",
     "iopub.status.idle": "2025-02-25T22:09:54.114858Z",
     "shell.execute_reply": "2025-02-25T22:09:54.114184Z",
     "shell.execute_reply.started": "2025-02-25T22:09:46.656385Z"
    }
   },
   "outputs": [],
   "source": [
    "import lsdb\n",
    "from lsdb.core.search.box_search import BoxSearch\n",
    "gaia_dr3_host = \"https://data.lsdb.io\"\n",
    "# gaia_dr3_host = \"http://localhost:6500\"\n",
    "\n",
    "columns_of_interest = ['source_id', 'ra', 'dec', 'phot_g_mean_mag']\n",
    "gaia_dr3 = lsdb.read_hats(\n",
    "    gaia_dr3_host + \"/hats/gaia_dr3/gaia\",\n",
    "    columns=columns_of_interest,\n",
    "    filters=[ [\"phot_g_mean_mag\", \">\", 16] ],\n",
    "    # NOTE: remove this search_filter to filter the whole sky\n",
    "    search_filter=BoxSearch(ra=(280-0.5, 280+0.5), dec=(-60-0.5, -60+0.5)),\n",
    ")"
   ]
  },
  {
   "cell_type": "code",
   "execution_count": 3,
   "id": "2736484c-fddb-4265-8476-2418195c6160",
   "metadata": {
    "execution": {
     "iopub.execute_input": "2025-02-25T22:10:28.721499Z",
     "iopub.status.busy": "2025-02-25T22:10:28.720837Z",
     "iopub.status.idle": "2025-02-25T22:10:40.145743Z",
     "shell.execute_reply": "2025-02-25T22:10:40.145149Z",
     "shell.execute_reply.started": "2025-02-25T22:10:28.721475Z"
    }
   },
   "outputs": [
    {
     "name": "stdout",
     "output_type": "stream",
     "text": [
      "1.34 s ± 16 ms per loop (mean ± std. dev. of 7 runs, 1 loop each)\n"
     ]
    }
   ],
   "source": [
    "%%timeit\n",
    "small_square = gaia_dr3.compute()\n",
    "small_square"
   ]
  },
  {
   "cell_type": "code",
   "execution_count": null,
   "id": "97545880-a310-4ffb-8eaf-74197e26c5cb",
   "metadata": {},
   "outputs": [],
   "source": []
  }
 ],
 "metadata": {
  "kernelspec": {
   "display_name": "LSST",
   "language": "python",
   "name": "lsst"
  },
  "language_info": {
   "codemirror_mode": {
    "name": "ipython",
    "version": 3
   },
   "file_extension": ".py",
   "mimetype": "text/x-python",
   "name": "python",
   "nbconvert_exporter": "python",
   "pygments_lexer": "ipython3",
   "version": "3.11.9"
  }
 },
 "nbformat": 4,
 "nbformat_minor": 5
}
