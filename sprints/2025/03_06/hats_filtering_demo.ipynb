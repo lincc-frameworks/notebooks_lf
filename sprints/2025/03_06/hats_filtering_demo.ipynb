{
 "cells": [
  {
   "cell_type": "markdown",
   "id": "d36b0701-f67e-4c4e-bee8-14a30bec6f93",
   "metadata": {},
   "source": [
    "# General Filtering with LSDB/HATS"
   ]
  },
  {
   "cell_type": "code",
   "execution_count": 33,
   "id": "7e228a15-d907-4594-a0df-5e67df14990a",
   "metadata": {
    "execution": {
     "iopub.execute_input": "2025-02-25T20:38:46.310212Z",
     "iopub.status.busy": "2025-02-25T20:38:46.309948Z",
     "iopub.status.idle": "2025-02-25T20:38:48.940446Z",
     "shell.execute_reply": "2025-02-25T20:38:48.939882Z",
     "shell.execute_reply.started": "2025-02-25T20:38:46.310191Z"
    }
   },
   "outputs": [],
   "source": [
    "import lsdb\n",
    "from lsdb.core.search.box_search import BoxSearch\n",
    "gaia_dr3_host = \"https://data.lsdb.io\"\n",
    "# gaia_dr3_host = \"http://localhost:6500\"\n",
    "\n",
    "columns_of_interest = ['source_id', 'ra', 'dec', 'phot_g_mean_mag']\n",
    "gaia_dr3 = lsdb.read_hats(\n",
    "    gaia_dr3_host + \"/hats/gaia_dr3/gaia\",\n",
    "    columns=columns_of_interest,\n",
    "    filters=[ [\"phot_g_mean_mag\", \">\", 16] ],\n",
    "    # NOTE: remove this search_filter to filter the whole sky\n",
    "    search_filter=BoxSearch(ra=(280-0.5, 280+0.5), dec=(-60-0.5, -60+0.5)),\n",
    ")"
   ]
  },
  {
   "cell_type": "code",
   "execution_count": 34,
   "id": "2736484c-fddb-4265-8476-2418195c6160",
   "metadata": {
    "execution": {
     "iopub.execute_input": "2025-02-25T20:38:50.015378Z",
     "iopub.status.busy": "2025-02-25T20:38:50.014671Z",
     "iopub.status.idle": "2025-02-25T20:38:51.635597Z",
     "shell.execute_reply": "2025-02-25T20:38:51.634925Z",
     "shell.execute_reply.started": "2025-02-25T20:38:50.015326Z"
    }
   },
   "outputs": [
    {
     "data": {
      "text/html": [
       "<div>\n",
       "<style scoped>\n",
       "    .dataframe tbody tr th:only-of-type {\n",
       "        vertical-align: middle;\n",
       "    }\n",
       "\n",
       "    .dataframe tbody tr th {\n",
       "        vertical-align: top;\n",
       "    }\n",
       "\n",
       "    .dataframe thead th {\n",
       "        text-align: right;\n",
       "    }\n",
       "</style>\n",
       "<table border=\"1\" class=\"dataframe\">\n",
       "  <thead>\n",
       "    <tr style=\"text-align: right;\">\n",
       "      <th></th>\n",
       "      <th>source_id</th>\n",
       "      <th>ra</th>\n",
       "      <th>dec</th>\n",
       "      <th>phot_g_mean_mag</th>\n",
       "    </tr>\n",
       "    <tr>\n",
       "      <th>_healpix_29</th>\n",
       "      <th></th>\n",
       "      <th></th>\n",
       "      <th></th>\n",
       "      <th></th>\n",
       "    </tr>\n",
       "  </thead>\n",
       "  <tbody>\n",
       "    <tr>\n",
       "      <th>3316495939410683951</th>\n",
       "      <td>6632991876687604864</td>\n",
       "      <td>280.119779</td>\n",
       "      <td>-60.499773</td>\n",
       "      <td>19.920464</td>\n",
       "    </tr>\n",
       "    <tr>\n",
       "      <th>3316495946648235626</th>\n",
       "      <td>6632991880986511744</td>\n",
       "      <td>280.137903</td>\n",
       "      <td>-60.48948</td>\n",
       "      <td>16.64279</td>\n",
       "    </tr>\n",
       "    <tr>\n",
       "      <th>3316495949444149996</th>\n",
       "      <td>6632991880986512256</td>\n",
       "      <td>280.11742</td>\n",
       "      <td>-60.493504</td>\n",
       "      <td>18.895765</td>\n",
       "    </tr>\n",
       "    <tr>\n",
       "      <th>3316495952162173500</th>\n",
       "      <td>6632991876687623168</td>\n",
       "      <td>280.13352</td>\n",
       "      <td>-60.488696</td>\n",
       "      <td>20.488722</td>\n",
       "    </tr>\n",
       "    <tr>\n",
       "      <th>3316495952614338213</th>\n",
       "      <td>6632991876691801856</td>\n",
       "      <td>280.139031</td>\n",
       "      <td>-60.488338</td>\n",
       "      <td>18.65181</td>\n",
       "    </tr>\n",
       "  </tbody>\n",
       "</table>\n",
       "</div>"
      ],
      "text/plain": [
       "                               source_id          ra        dec  \\\n",
       "_healpix_29                                                       \n",
       "3316495939410683951  6632991876687604864  280.119779 -60.499773   \n",
       "3316495946648235626  6632991880986511744  280.137903  -60.48948   \n",
       "3316495949444149996  6632991880986512256   280.11742 -60.493504   \n",
       "3316495952162173500  6632991876687623168   280.13352 -60.488696   \n",
       "3316495952614338213  6632991876691801856  280.139031 -60.488338   \n",
       "\n",
       "                     phot_g_mean_mag  \n",
       "_healpix_29                           \n",
       "3316495939410683951        19.920464  \n",
       "3316495946648235626         16.64279  \n",
       "3316495949444149996        18.895765  \n",
       "3316495952162173500        20.488722  \n",
       "3316495952614338213         18.65181  "
      ]
     },
     "execution_count": 34,
     "metadata": {},
     "output_type": "execute_result"
    }
   ],
   "source": [
    "gaia_dr3.head()"
   ]
  },
  {
   "cell_type": "code",
   "execution_count": 36,
   "id": "68b4f996-168d-4fcc-9cd7-57074738f08f",
   "metadata": {
    "execution": {
     "iopub.execute_input": "2025-02-25T20:40:11.927545Z",
     "iopub.status.busy": "2025-02-25T20:40:11.927035Z",
     "iopub.status.idle": "2025-02-25T20:40:16.699023Z",
     "shell.execute_reply": "2025-02-25T20:40:16.698031Z",
     "shell.execute_reply.started": "2025-02-25T20:40:11.927511Z"
    }
   },
   "outputs": [
    {
     "name": "stdout",
     "output_type": "stream",
     "text": [
      "CPU times: user 462 ms, sys: 137 ms, total: 600 ms\n",
      "Wall time: 4.77 s\n"
     ]
    }
   ],
   "source": [
    "%%time\n",
    "small_square = 'DATA/small_square'\n",
    "gaia_dr3.to_hats(small_square, overwrite=True)"
   ]
  },
  {
   "cell_type": "code",
   "execution_count": 39,
   "id": "62b8b058-da8f-4326-9274-c7fa606d48dc",
   "metadata": {
    "execution": {
     "iopub.execute_input": "2025-02-25T20:41:42.548157Z",
     "iopub.status.busy": "2025-02-25T20:41:42.547451Z",
     "iopub.status.idle": "2025-02-25T20:41:42.556109Z",
     "shell.execute_reply": "2025-02-25T20:41:42.555555Z",
     "shell.execute_reply.started": "2025-02-25T20:41:42.548130Z"
    }
   },
   "outputs": [],
   "source": [
    "# Until https://github.com/astronomy-commons/lsdb/issues/566 is fixed, update the default columns\n",
    "from jproperties import Properties\n",
    "prop_file = small_square + '/properties'\n",
    "prop = Properties()\n",
    "with open(prop_file, 'rb') as f_in:\n",
    "    prop.load(f_in)\n",
    "prop['hats_cols_default'] = ' '.join(columns_of_interest)\n",
    "with open(prop_file, 'wb') as f_out:\n",
    "    prop.store(f_out)"
   ]
  },
  {
   "cell_type": "code",
   "execution_count": 40,
   "id": "7cc264e4-9199-429d-873b-baf94c66dcbc",
   "metadata": {
    "execution": {
     "iopub.execute_input": "2025-02-25T20:41:45.755629Z",
     "iopub.status.busy": "2025-02-25T20:41:45.754986Z",
     "iopub.status.idle": "2025-02-25T20:41:45.813008Z",
     "shell.execute_reply": "2025-02-25T20:41:45.812486Z",
     "shell.execute_reply.started": "2025-02-25T20:41:45.755600Z"
    }
   },
   "outputs": [
    {
     "data": {
      "text/html": [
       "<div><strong>lsdb Catalog gaia:</strong></div><div>\n",
       "<style scoped>\n",
       "    .dataframe tbody tr th:only-of-type {\n",
       "        vertical-align: middle;\n",
       "    }\n",
       "\n",
       "    .dataframe tbody tr th {\n",
       "        vertical-align: top;\n",
       "    }\n",
       "\n",
       "    .dataframe thead th {\n",
       "        text-align: right;\n",
       "    }\n",
       "</style>\n",
       "<table border=\"1\" class=\"dataframe\">\n",
       "  <thead>\n",
       "    <tr style=\"text-align: right;\">\n",
       "      <th></th>\n",
       "      <th>source_id</th>\n",
       "      <th>ra</th>\n",
       "      <th>dec</th>\n",
       "      <th>phot_g_mean_mag</th>\n",
       "    </tr>\n",
       "    <tr>\n",
       "      <th>npartitions=2</th>\n",
       "      <th></th>\n",
       "      <th></th>\n",
       "      <th></th>\n",
       "      <th></th>\n",
       "    </tr>\n",
       "  </thead>\n",
       "  <tbody>\n",
       "    <tr>\n",
       "      <th>Order: 4, Pixel: 2945</th>\n",
       "      <td>int64[pyarrow]</td>\n",
       "      <td>double[pyarrow]</td>\n",
       "      <td>double[pyarrow]</td>\n",
       "      <td>double[pyarrow]</td>\n",
       "    </tr>\n",
       "    <tr>\n",
       "      <th>Order: 4, Pixel: 2947</th>\n",
       "      <td>...</td>\n",
       "      <td>...</td>\n",
       "      <td>...</td>\n",
       "      <td>...</td>\n",
       "    </tr>\n",
       "  </tbody>\n",
       "</table>\n",
       "</div><div>The catalog has been loaded <strong>lazily</strong>, meaning no data has been read, only the catalog schema</div>"
      ],
      "text/plain": [
       "Dask NestedFrame Structure:\n",
       "                          source_id               ra              dec  phot_g_mean_mag\n",
       "npartitions=2                                                                         \n",
       "3315775225651527680  int64[pyarrow]  double[pyarrow]  double[pyarrow]  double[pyarrow]\n",
       "3318027025465212928             ...              ...              ...              ...\n",
       "3319152925372055552             ...              ...              ...              ...\n",
       "Dask Name: nestedframe, 3 expressions\n",
       "Expr=MapPartitions(NestedFrame)"
      ]
     },
     "execution_count": 40,
     "metadata": {},
     "output_type": "execute_result"
    }
   ],
   "source": [
    "lsdb.read_hats(small_square)"
   ]
  },
  {
   "cell_type": "code",
   "execution_count": null,
   "id": "97545880-a310-4ffb-8eaf-74197e26c5cb",
   "metadata": {},
   "outputs": [],
   "source": []
  }
 ],
 "metadata": {
  "kernelspec": {
   "display_name": "LSST",
   "language": "python",
   "name": "lsst"
  },
  "language_info": {
   "codemirror_mode": {
    "name": "ipython",
    "version": 3
   },
   "file_extension": ".py",
   "mimetype": "text/x-python",
   "name": "python",
   "nbconvert_exporter": "python",
   "pygments_lexer": "ipython3",
   "version": "3.11.9"
  }
 },
 "nbformat": 4,
 "nbformat_minor": 5
}
