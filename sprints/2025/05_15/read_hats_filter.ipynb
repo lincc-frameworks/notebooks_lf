{
 "cells": [
  {
   "cell_type": "code",
   "id": "initial_id",
   "metadata": {
    "collapsed": true,
    "ExecuteTime": {
     "end_time": "2025-05-15T19:17:40.228999Z",
     "start_time": "2025-05-15T19:17:38.323218Z"
    }
   },
   "source": "import lsdb",
   "outputs": [],
   "execution_count": 1
  },
  {
   "metadata": {
    "ExecuteTime": {
     "end_time": "2025-05-15T19:17:46.072364Z",
     "start_time": "2025-05-15T19:17:40.241560Z"
    }
   },
   "cell_type": "code",
   "source": [
    "cat = lsdb.read_hats('https://data.lsdb.io/hats/ztf_dr14/ztf_object', margin_cache='https://data.lsdb.io/hats/ztf_dr14/ztf_object_10arcs')\n",
    "cat"
   ],
   "id": "2761e59b69389152",
   "outputs": [
    {
     "data": {
      "text/plain": [
       "Dask NestedFrame Structure:\n",
       "                          ps1_objid               ra              dec  ps1_gMeanPSFMag  ps1_rMeanPSFMag  ps1_iMeanPSFMag          nobs_g          nobs_r          nobs_i       mean_mag_g       mean_mag_r       mean_mag_i\n",
       "npartitions=2352                                                                                                                                                                                                           \n",
       "0                    int64[pyarrow]  double[pyarrow]  double[pyarrow]  double[pyarrow]  double[pyarrow]  double[pyarrow]  int32[pyarrow]  int32[pyarrow]  int32[pyarrow]  double[pyarrow]  double[pyarrow]  double[pyarrow]\n",
       "4503599627370496                ...              ...              ...              ...              ...              ...             ...             ...             ...              ...              ...              ...\n",
       "...                             ...              ...              ...              ...              ...              ...             ...             ...             ...              ...              ...              ...\n",
       "3457638613913698304             ...              ...              ...              ...              ...              ...             ...             ...             ...              ...              ...              ...\n",
       "3458764513820540928             ...              ...              ...              ...              ...              ...             ...             ...             ...              ...              ...              ...\n",
       "Dask Name: nestedframe, 3 expressions\n",
       "Expr=MapPartitions(NestedFrame)"
      ],
      "text/html": [
       "<div><strong>lsdb Catalog ztf_dr14:</strong></div><div>\n",
       "<style scoped>\n",
       "    .dataframe tbody tr th:only-of-type {\n",
       "        vertical-align: middle;\n",
       "    }\n",
       "\n",
       "    .dataframe tbody tr th {\n",
       "        vertical-align: top;\n",
       "    }\n",
       "\n",
       "    .dataframe thead th {\n",
       "        text-align: right;\n",
       "    }\n",
       "</style>\n",
       "<table border=\"1\" class=\"dataframe\">\n",
       "  <thead>\n",
       "    <tr style=\"text-align: right;\">\n",
       "      <th></th>\n",
       "      <th>ps1_objid</th>\n",
       "      <th>ra</th>\n",
       "      <th>dec</th>\n",
       "      <th>ps1_gMeanPSFMag</th>\n",
       "      <th>ps1_rMeanPSFMag</th>\n",
       "      <th>ps1_iMeanPSFMag</th>\n",
       "      <th>nobs_g</th>\n",
       "      <th>nobs_r</th>\n",
       "      <th>nobs_i</th>\n",
       "      <th>mean_mag_g</th>\n",
       "      <th>mean_mag_r</th>\n",
       "      <th>mean_mag_i</th>\n",
       "    </tr>\n",
       "    <tr>\n",
       "      <th>npartitions=2352</th>\n",
       "      <th></th>\n",
       "      <th></th>\n",
       "      <th></th>\n",
       "      <th></th>\n",
       "      <th></th>\n",
       "      <th></th>\n",
       "      <th></th>\n",
       "      <th></th>\n",
       "      <th></th>\n",
       "      <th></th>\n",
       "      <th></th>\n",
       "      <th></th>\n",
       "    </tr>\n",
       "  </thead>\n",
       "  <tbody>\n",
       "    <tr>\n",
       "      <th>Order: 3, Pixel: 0</th>\n",
       "      <td>int64[pyarrow]</td>\n",
       "      <td>double[pyarrow]</td>\n",
       "      <td>double[pyarrow]</td>\n",
       "      <td>double[pyarrow]</td>\n",
       "      <td>double[pyarrow]</td>\n",
       "      <td>double[pyarrow]</td>\n",
       "      <td>int32[pyarrow]</td>\n",
       "      <td>int32[pyarrow]</td>\n",
       "      <td>int32[pyarrow]</td>\n",
       "      <td>double[pyarrow]</td>\n",
       "      <td>double[pyarrow]</td>\n",
       "      <td>double[pyarrow]</td>\n",
       "    </tr>\n",
       "    <tr>\n",
       "      <th>Order: 3, Pixel: 1</th>\n",
       "      <td>...</td>\n",
       "      <td>...</td>\n",
       "      <td>...</td>\n",
       "      <td>...</td>\n",
       "      <td>...</td>\n",
       "      <td>...</td>\n",
       "      <td>...</td>\n",
       "      <td>...</td>\n",
       "      <td>...</td>\n",
       "      <td>...</td>\n",
       "      <td>...</td>\n",
       "      <td>...</td>\n",
       "    </tr>\n",
       "    <tr>\n",
       "      <th>...</th>\n",
       "      <td>...</td>\n",
       "      <td>...</td>\n",
       "      <td>...</td>\n",
       "      <td>...</td>\n",
       "      <td>...</td>\n",
       "      <td>...</td>\n",
       "      <td>...</td>\n",
       "      <td>...</td>\n",
       "      <td>...</td>\n",
       "      <td>...</td>\n",
       "      <td>...</td>\n",
       "      <td>...</td>\n",
       "    </tr>\n",
       "    <tr>\n",
       "      <th>Order: 4, Pixel: 3070</th>\n",
       "      <td>...</td>\n",
       "      <td>...</td>\n",
       "      <td>...</td>\n",
       "      <td>...</td>\n",
       "      <td>...</td>\n",
       "      <td>...</td>\n",
       "      <td>...</td>\n",
       "      <td>...</td>\n",
       "      <td>...</td>\n",
       "      <td>...</td>\n",
       "      <td>...</td>\n",
       "      <td>...</td>\n",
       "    </tr>\n",
       "    <tr>\n",
       "      <th>Order: 4, Pixel: 3071</th>\n",
       "      <td>...</td>\n",
       "      <td>...</td>\n",
       "      <td>...</td>\n",
       "      <td>...</td>\n",
       "      <td>...</td>\n",
       "      <td>...</td>\n",
       "      <td>...</td>\n",
       "      <td>...</td>\n",
       "      <td>...</td>\n",
       "      <td>...</td>\n",
       "      <td>...</td>\n",
       "      <td>...</td>\n",
       "    </tr>\n",
       "  </tbody>\n",
       "</table>\n",
       "</div><div>12 out of 15 columns in the catalog have been loaded <strong>lazily</strong>, meaning no data has been read, only the catalog schema</div>"
      ]
     },
     "execution_count": 2,
     "metadata": {},
     "output_type": "execute_result"
    }
   ],
   "execution_count": 2
  },
  {
   "metadata": {
    "ExecuteTime": {
     "end_time": "2025-05-15T19:17:47.052947Z",
     "start_time": "2025-05-15T19:17:46.249399Z"
    }
   },
   "cell_type": "code",
   "source": "cat.cone_search(0, 0, 100)._ddf.expr.visualize()",
   "id": "efd5bd5aa9533f15",
   "outputs": [
    {
     "data": {
      "image/svg+xml": "<?xml version=\"1.0\" encoding=\"UTF-8\" standalone=\"no\"?>\n<!DOCTYPE svg PUBLIC \"-//W3C//DTD SVG 1.1//EN\"\n \"http://www.w3.org/Graphics/SVG/1.1/DTD/svg11.dtd\">\n<!-- Generated by graphviz version 8.0.1 (20230327.1645)\n -->\n<!-- Pages: 1 -->\n<svg width=\"430pt\" height=\"332pt\"\n viewBox=\"0.00 0.00 430.00 332.00\" xmlns=\"http://www.w3.org/2000/svg\" xmlns:xlink=\"http://www.w3.org/1999/xlink\">\n<g id=\"graph0\" class=\"graph\" transform=\"scale(1 1) rotate(0) translate(4 328)\">\n<polygon fill=\"white\" stroke=\"none\" points=\"-4,4 -4,-328 426,-328 426,4 -4,4\"/>\n<!-- &#45;6380275584409240913 -->\n<g id=\"node1\" class=\"node\">\n<title>&#45;6380275584409240913</title>\n<polygon fill=\"none\" stroke=\"black\" points=\"329,-324 93,-324 93,-288 329,-288 329,-324\"/>\n<text text-anchor=\"middle\" x=\"211\" y=\"-301\" font-family=\"Helvetica,sans-Serif\" font-size=\"20.00\">MapPartitions(Partitions)</text>\n</g>\n<!-- &#45;5304364022458143478 -->\n<g id=\"node2\" class=\"node\">\n<title>&#45;5304364022458143478</title>\n<polygon fill=\"none\" stroke=\"black\" points=\"377.5,-252 44.5,-252 44.5,-216 377.5,-216 377.5,-252\"/>\n<text text-anchor=\"middle\" x=\"211\" y=\"-229\" font-family=\"Helvetica,sans-Serif\" font-size=\"20.00\">Partitions(MapPartitions, [0, 1, 2, 3])</text>\n</g>\n<!-- &#45;5304364022458143478&#45;&gt;&#45;6380275584409240913 -->\n<g id=\"edge1\" class=\"edge\">\n<title>&#45;5304364022458143478&#45;&gt;&#45;6380275584409240913</title>\n<path fill=\"none\" stroke=\"black\" d=\"M211,-252.3C211,-259.76 211,-268.68 211,-277.03\"/>\n<polygon fill=\"black\" stroke=\"black\" points=\"207.5,-276.9 211,-286.9 214.5,-276.9 207.5,-276.9\"/>\n</g>\n<!-- 1949368989358643446 -->\n<g id=\"node3\" class=\"node\">\n<title>1949368989358643446</title>\n<polygon fill=\"none\" stroke=\"black\" points=\"390.5,-180 31.5,-180 31.5,-144 390.5,-144 390.5,-180\"/>\n<text text-anchor=\"middle\" x=\"211\" y=\"-157\" font-family=\"Helvetica,sans-Serif\" font-size=\"20.00\">MapPartitions(ArrowStringConversion)</text>\n</g>\n<!-- 1949368989358643446&#45;&gt;&#45;5304364022458143478 -->\n<g id=\"edge2\" class=\"edge\">\n<title>1949368989358643446&#45;&gt;&#45;5304364022458143478</title>\n<path fill=\"none\" stroke=\"black\" d=\"M211,-180.3C211,-187.76 211,-196.68 211,-205.03\"/>\n<polygon fill=\"black\" stroke=\"black\" points=\"207.5,-204.9 211,-214.9 214.5,-204.9 207.5,-204.9\"/>\n</g>\n<!-- 8275183475282000586 -->\n<g id=\"node4\" class=\"node\">\n<title>8275183475282000586</title>\n<polygon fill=\"none\" stroke=\"black\" points=\"422,-108 0,-108 0,-72 422,-72 422,-108\"/>\n<text text-anchor=\"middle\" x=\"211\" y=\"-85\" font-family=\"Helvetica,sans-Serif\" font-size=\"20.00\">ArrowStringConversion(FromMapProjectable)</text>\n</g>\n<!-- 8275183475282000586&#45;&gt;1949368989358643446 -->\n<g id=\"edge3\" class=\"edge\">\n<title>8275183475282000586&#45;&gt;1949368989358643446</title>\n<path fill=\"none\" stroke=\"black\" d=\"M211,-108.3C211,-115.76 211,-124.68 211,-133.03\"/>\n<polygon fill=\"black\" stroke=\"black\" points=\"207.5,-132.9 211,-142.9 214.5,-132.9 207.5,-132.9\"/>\n</g>\n<!-- 4796921497263552428 -->\n<g id=\"node5\" class=\"node\">\n<title>4796921497263552428</title>\n<polygon fill=\"none\" stroke=\"black\" points=\"312.5,-36 109.5,-36 109.5,0 312.5,0 312.5,-36\"/>\n<text text-anchor=\"middle\" x=\"211\" y=\"-13\" font-family=\"Helvetica,sans-Serif\" font-size=\"20.00\">FromMapProjectable</text>\n</g>\n<!-- 4796921497263552428&#45;&gt;8275183475282000586 -->\n<g id=\"edge4\" class=\"edge\">\n<title>4796921497263552428&#45;&gt;8275183475282000586</title>\n<path fill=\"none\" stroke=\"black\" d=\"M211,-36.3C211,-43.76 211,-52.68 211,-61.03\"/>\n<polygon fill=\"black\" stroke=\"black\" points=\"207.5,-60.9 211,-70.9 214.5,-60.9 207.5,-60.9\"/>\n</g>\n</g>\n</svg>\n",
      "text/plain": [
       "<graphviz.graphs.Digraph at 0x142595710>"
      ]
     },
     "execution_count": 3,
     "metadata": {},
     "output_type": "execute_result"
    }
   ],
   "execution_count": 3
  },
  {
   "metadata": {
    "ExecuteTime": {
     "end_time": "2025-05-15T19:18:02.942953Z",
     "start_time": "2025-05-15T19:17:47.059884Z"
    }
   },
   "cell_type": "code",
   "source": [
    "%%timeit\n",
    "cat.cone_search(0, 0, 100)"
   ],
   "id": "d6dce4a012144489",
   "outputs": [
    {
     "name": "stdout",
     "output_type": "stream",
     "text": [
      "19.5 ms ± 286 μs per loop (mean ± std. dev. of 7 runs, 100 loops each)\n"
     ]
    }
   ],
   "execution_count": 4
  },
  {
   "metadata": {},
   "cell_type": "code",
   "outputs": [],
   "execution_count": null,
   "source": "",
   "id": "46668b89191bfe62"
  }
 ],
 "metadata": {
  "kernelspec": {
   "display_name": "Python 3",
   "language": "python",
   "name": "python3"
  },
  "language_info": {
   "codemirror_mode": {
    "name": "ipython",
    "version": 2
   },
   "file_extension": ".py",
   "mimetype": "text/x-python",
   "name": "python",
   "nbconvert_exporter": "python",
   "pygments_lexer": "ipython2",
   "version": "2.7.6"
  }
 },
 "nbformat": 4,
 "nbformat_minor": 5
}
