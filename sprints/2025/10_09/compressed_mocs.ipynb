{
 "cells": [
  {
   "cell_type": "code",
   "id": "initial_id",
   "metadata": {
    "collapsed": true,
    "ExecuteTime": {
     "end_time": "2025-10-09T19:14:04.548940Z",
     "start_time": "2025-10-09T19:14:02.636220Z"
    }
   },
   "source": "import lsdb",
   "outputs": [],
   "execution_count": 1
  },
  {
   "metadata": {
    "ExecuteTime": {
     "end_time": "2025-10-09T19:14:07.118549Z",
     "start_time": "2025-10-09T19:14:04.554723Z"
    }
   },
   "cell_type": "code",
   "source": [
    "cat = lsdb.generate_catalog(3, 1)\n",
    "len(cat)"
   ],
   "id": "81b0cff78025e1be",
   "outputs": [
    {
     "data": {
      "text/plain": [
       "3"
      ]
     },
     "execution_count": 2,
     "metadata": {},
     "output_type": "execute_result"
    }
   ],
   "execution_count": 2
  },
  {
   "metadata": {
    "ExecuteTime": {
     "end_time": "2025-10-09T18:59:26.977665Z",
     "start_time": "2025-10-09T18:59:26.624550Z"
    }
   },
   "cell_type": "code",
   "source": "cat.to_hats(\"/tmp/test_cat\", histogram_order=10, overwrite=True)",
   "id": "da1d53a47ce87739",
   "outputs": [],
   "execution_count": 4
  },
  {
   "metadata": {
    "ExecuteTime": {
     "end_time": "2025-10-09T18:59:39.456726Z",
     "start_time": "2025-10-09T18:59:39.305551Z"
    }
   },
   "cell_type": "code",
   "source": "!tree -L 2 /tmp/test_cat",
   "id": "517f1f3189b2524c",
   "outputs": [
    {
     "name": "stdout",
     "output_type": "stream",
     "text": [
      "\u001B[1;36m/tmp/test_cat\u001B[0m\r\n",
      "├── collection.properties\r\n",
      "├── \u001B[1;36mgenerated_catalog\u001B[0m\r\n",
      "│   ├── \u001B[1;36mdataset\u001B[0m\r\n",
      "│   ├── hats.properties\r\n",
      "│   ├── partition_info.csv\r\n",
      "│   ├── point_map.fits\r\n",
      "│   ├── properties\r\n",
      "│   └── skymap.fits\r\n",
      "└── \u001B[1;36mgenerated_catalog_5arcs\u001B[0m\r\n",
      "    ├── \u001B[1;36mdataset\u001B[0m\r\n",
      "    ├── hats.properties\r\n",
      "    ├── partition_info.csv\r\n",
      "    └── properties\r\n",
      "\r\n",
      "5 directories, 9 files\r\n"
     ]
    }
   ],
   "execution_count": 8
  },
  {
   "metadata": {
    "ExecuteTime": {
     "end_time": "2025-10-09T19:13:29.215632Z",
     "start_time": "2025-10-09T19:13:28.895125Z"
    }
   },
   "cell_type": "code",
   "source": "read_cat = lsdb.open_catalog(\"/tmp/test_cat\")",
   "id": "2a031a8f44b6334b",
   "outputs": [],
   "execution_count": 4
  },
  {
   "metadata": {
    "ExecuteTime": {
     "end_time": "2025-10-09T19:13:36.856574Z",
     "start_time": "2025-10-09T19:13:36.846946Z"
    }
   },
   "cell_type": "code",
   "source": "read_cat.margin",
   "id": "e6cb2a537335254f",
   "outputs": [
    {
     "data": {
      "text/plain": [
       "Dask NestedFrame Structure:\n",
       "                            ra              dec              id                a                b                                                                   nested\n",
       "npartitions=1                                                                                                                                                             \n",
       "               double[pyarrow]  double[pyarrow]  int64[pyarrow]  double[pyarrow]  double[pyarrow]  nested<t: [double], flux: [double], band: [string], flux_err: [double]>\n",
       "                           ...              ...             ...              ...              ...                                                                      ...\n",
       "Dask Name: nestedframe, 2 expressions\n",
       "Expr=MapPartitions(NestedFrame)"
      ],
      "text/html": [
       "<div><strong>lsdb Catalog generated_catalog_5arcs:</strong></div><div>\n",
       "<style scoped>\n",
       "    .dataframe tbody tr th:only-of-type {\n",
       "        vertical-align: middle;\n",
       "    }\n",
       "\n",
       "    .dataframe tbody tr th {\n",
       "        vertical-align: top;\n",
       "    }\n",
       "\n",
       "    .dataframe thead th {\n",
       "        text-align: right;\n",
       "    }\n",
       "</style>\n",
       "<table border=\"1\" class=\"dataframe\">\n",
       "  <thead>\n",
       "    <tr style=\"text-align: right;\">\n",
       "      <th></th>\n",
       "      <th>ra</th>\n",
       "      <th>dec</th>\n",
       "      <th>id</th>\n",
       "      <th>a</th>\n",
       "      <th>b</th>\n",
       "      <th>nested</th>\n",
       "    </tr>\n",
       "    <tr>\n",
       "      <th>npartitions=0</th>\n",
       "      <th></th>\n",
       "      <th></th>\n",
       "      <th></th>\n",
       "      <th></th>\n",
       "      <th></th>\n",
       "      <th></th>\n",
       "    </tr>\n",
       "  </thead>\n",
       "  <tbody>\n",
       "    <tr>\n",
       "      <th>Empty Catalog</th>\n",
       "      <td>double[pyarrow]</td>\n",
       "      <td>double[pyarrow]</td>\n",
       "      <td>int64[pyarrow]</td>\n",
       "      <td>double[pyarrow]</td>\n",
       "      <td>double[pyarrow]</td>\n",
       "      <td>nested&lt;t: [double], flux: [double], band: [str...</td>\n",
       "    </tr>\n",
       "  </tbody>\n",
       "</table>\n",
       "</div><div>6 out of 6 available columns in the catalog have been loaded <strong>lazily</strong>, meaning no data has been read, only the catalog schema</div>"
      ]
     },
     "execution_count": 5,
     "metadata": {},
     "output_type": "execute_result"
    }
   ],
   "execution_count": 5
  },
  {
   "metadata": {
    "ExecuteTime": {
     "end_time": "2025-10-09T18:59:40.042581Z",
     "start_time": "2025-10-09T18:59:39.910074Z"
    }
   },
   "cell_type": "code",
   "source": "!du -h /tmp/test_cat/generated_catalog/skymap.fits\n",
   "id": "bd71c9012a33fb0f",
   "outputs": [
    {
     "name": "stdout",
     "output_type": "stream",
     "text": [
      " 96M\t/tmp/test_cat/generated_catalog/skymap.fits\r\n"
     ]
    }
   ],
   "execution_count": 9
  },
  {
   "metadata": {
    "ExecuteTime": {
     "end_time": "2025-10-09T18:59:49.423191Z",
     "start_time": "2025-10-09T18:59:49.419310Z"
    }
   },
   "cell_type": "code",
   "source": [
    "import os\n",
    "from astropy.io import fits\n",
    "import shutil\n",
    "\n",
    "def to_compressed_skymap_fits(in_path, out_path, catalog_name, overwrite=True):\n",
    "    shutil.copytree(in_path, out_path, dirs_exist_ok=overwrite)\n",
    "    skymap_path = os.path.join(out_path, catalog_name, \"skymap.fits\")\n",
    "    with fits.open(skymap_path) as hdul:\n",
    "        comp_hdu = fits.CompImageHDU(\n",
    "            data=hdul[0].data,\n",
    "            header=hdul[0].header,\n",
    "            compression_type='GZIP_1'\n",
    "        )\n",
    "    new_hdul = fits.HDUList([\n",
    "        fits.PrimaryHDU(),  # empty primary\n",
    "        comp_hdu\n",
    "    ])\n",
    "    new_hdul.writeto(skymap_path, overwrite=True)"
   ],
   "id": "d2d4215242a40281",
   "outputs": [],
   "execution_count": 12
  },
  {
   "metadata": {
    "ExecuteTime": {
     "end_time": "2025-10-09T18:59:53.351268Z",
     "start_time": "2025-10-09T18:59:53.147839Z"
    }
   },
   "cell_type": "code",
   "source": "to_compressed_skymap_fits(\"/tmp/test_cat\", \"/tmp/test_cat_compressed_fits\", \"generated_catalog\", overwrite=True)",
   "id": "6d2a2fc4153354b8",
   "outputs": [],
   "execution_count": 13
  },
  {
   "metadata": {
    "ExecuteTime": {
     "end_time": "2025-10-09T18:59:53.591831Z",
     "start_time": "2025-10-09T18:59:53.467313Z"
    }
   },
   "cell_type": "code",
   "source": "!tree -L 2 /tmp/test_cat_compressed_fits",
   "id": "208b155a0b9a4335",
   "outputs": [
    {
     "name": "stdout",
     "output_type": "stream",
     "text": [
      "\u001B[1;36m/tmp/test_cat_compressed_fits\u001B[0m\r\n",
      "├── collection.properties\r\n",
      "├── \u001B[1;36mgenerated_catalog\u001B[0m\r\n",
      "│   ├── \u001B[1;36mdataset\u001B[0m\r\n",
      "│   ├── hats.properties\r\n",
      "│   ├── partition_info.csv\r\n",
      "│   ├── point_map.fits\r\n",
      "│   ├── properties\r\n",
      "│   └── skymap.fits\r\n",
      "└── \u001B[1;36mgenerated_catalog_5arcs\u001B[0m\r\n",
      "    ├── \u001B[1;36mdataset\u001B[0m\r\n",
      "    ├── hats.properties\r\n",
      "    ├── partition_info.csv\r\n",
      "    └── properties\r\n",
      "\r\n",
      "5 directories, 9 files\r\n"
     ]
    }
   ],
   "execution_count": 14
  },
  {
   "metadata": {
    "ExecuteTime": {
     "end_time": "2025-10-09T18:59:54.449059Z",
     "start_time": "2025-10-09T18:59:54.316072Z"
    }
   },
   "cell_type": "code",
   "source": "!du -h /tmp/test_cat_compressed_fits/generated_catalog/skymap.fits",
   "id": "f0e934056a4e902b",
   "outputs": [
    {
     "name": "stdout",
     "output_type": "stream",
     "text": [
      "8.0K\t/tmp/test_cat_compressed_fits/generated_catalog/skymap.fits\r\n"
     ]
    }
   ],
   "execution_count": 15
  },
  {
   "metadata": {
    "ExecuteTime": {
     "end_time": "2025-10-09T19:00:00.269059Z",
     "start_time": "2025-10-09T19:00:00.012844Z"
    }
   },
   "cell_type": "code",
   "source": "new_cat = lsdb.open_catalog(\"/tmp/test_cat_compressed_fits\")",
   "id": "6a735ef91f53565a",
   "outputs": [],
   "execution_count": 18
  },
  {
   "metadata": {
    "ExecuteTime": {
     "end_time": "2025-10-09T19:00:00.690623Z",
     "start_time": "2025-10-09T19:00:00.684129Z"
    }
   },
   "cell_type": "code",
   "source": "new_cat",
   "id": "829d592a161f547a",
   "outputs": [
    {
     "data": {
      "text/plain": [
       "Dask NestedFrame Structure:\n",
       "                                  ra              dec              id                a                b                                                                   nested\n",
       "npartitions=2                                                                                                                                                                   \n",
       "0                    double[pyarrow]  double[pyarrow]  int64[pyarrow]  double[pyarrow]  double[pyarrow]  nested<t: [double], flux: [double], band: [string], flux_err: [double]>\n",
       "1898513533541285888              ...              ...             ...              ...              ...                                                                      ...\n",
       "1898531125727330304              ...              ...             ...              ...              ...                                                                      ...\n",
       "Dask Name: nestedframe, 3 expressions\n",
       "Expr=MapPartitions(NestedFrame)"
      ],
      "text/html": [
       "<div><strong>lsdb Catalog generated_catalog:</strong></div><div>\n",
       "<style scoped>\n",
       "    .dataframe tbody tr th:only-of-type {\n",
       "        vertical-align: middle;\n",
       "    }\n",
       "\n",
       "    .dataframe tbody tr th {\n",
       "        vertical-align: top;\n",
       "    }\n",
       "\n",
       "    .dataframe thead th {\n",
       "        text-align: right;\n",
       "    }\n",
       "</style>\n",
       "<table border=\"1\" class=\"dataframe\">\n",
       "  <thead>\n",
       "    <tr style=\"text-align: right;\">\n",
       "      <th></th>\n",
       "      <th>ra</th>\n",
       "      <th>dec</th>\n",
       "      <th>id</th>\n",
       "      <th>a</th>\n",
       "      <th>b</th>\n",
       "      <th>nested</th>\n",
       "    </tr>\n",
       "    <tr>\n",
       "      <th>npartitions=2</th>\n",
       "      <th></th>\n",
       "      <th></th>\n",
       "      <th></th>\n",
       "      <th></th>\n",
       "      <th></th>\n",
       "      <th></th>\n",
       "    </tr>\n",
       "  </thead>\n",
       "  <tbody>\n",
       "    <tr>\n",
       "      <th>Order: 0, Pixel: 0</th>\n",
       "      <td>double[pyarrow]</td>\n",
       "      <td>double[pyarrow]</td>\n",
       "      <td>int64[pyarrow]</td>\n",
       "      <td>double[pyarrow]</td>\n",
       "      <td>double[pyarrow]</td>\n",
       "      <td>nested&lt;t: [double], flux: [double], band: [str...</td>\n",
       "    </tr>\n",
       "    <tr>\n",
       "      <th>Order: 7, Pixel: 107918</th>\n",
       "      <td>...</td>\n",
       "      <td>...</td>\n",
       "      <td>...</td>\n",
       "      <td>...</td>\n",
       "      <td>...</td>\n",
       "      <td>...</td>\n",
       "    </tr>\n",
       "  </tbody>\n",
       "</table>\n",
       "</div><div>6 out of 6 available columns in the catalog have been loaded <strong>lazily</strong>, meaning no data has been read, only the catalog schema</div>"
      ]
     },
     "execution_count": 19,
     "metadata": {},
     "output_type": "execute_result"
    }
   ],
   "execution_count": 19
  },
  {
   "metadata": {
    "ExecuteTime": {
     "end_time": "2025-10-09T19:00:18.252266Z",
     "start_time": "2025-10-09T19:00:18.061283Z"
    }
   },
   "cell_type": "code",
   "source": "new_cat.plot_coverage()",
   "id": "23fb8fbdcbf441b1",
   "outputs": [
    {
     "data": {
      "text/plain": [
       "(<Figure size 900x500 with 1 Axes>,\n",
       " <WCSAxes: title={'center': 'Coverage MOC of generated_catalog'}>)"
      ]
     },
     "execution_count": 20,
     "metadata": {},
     "output_type": "execute_result"
    },
    {
     "data": {
      "text/plain": [
       "<Figure size 900x500 with 1 Axes>"
      ],
      "image/png": "[encoded data removed]"
     },
     "metadata": {},
     "output_type": "display_data"
    }
   ],
   "execution_count": 20
  },
  {
   "metadata": {},
   "cell_type": "code",
   "outputs": [],
   "execution_count": null,
   "source": "",
   "id": "7b0a6f972a5a39fd"
  }
 ],
 "metadata": {
  "kernelspec": {
   "display_name": "Python 3",
   "language": "python",
   "name": "python3"
  },
  "language_info": {
   "codemirror_mode": {
    "name": "ipython",
    "version": 2
   },
   "file_extension": ".py",
   "mimetype": "text/x-python",
   "name": "python",
   "nbconvert_exporter": "python",
   "pygments_lexer": "ipython2",
   "version": "2.7.6"
  }
 },
 "nbformat": 4,
 "nbformat_minor": 5
}
