{
 "cells": [
  {
   "cell_type": "markdown",
   "id": "b09aab0d",
   "metadata": {},
   "source": [
    "# Catalog Import Verification\n",
    "\n",
    "Author: Melissa\n",
    "\n",
    "In this notebook, we demonstrate basic usage of the newly-added Verification pipeline, authored by Troy Raen.\n",
    "\n",
    "The purpose of the pipeline is to make exhaustive checks of the expected length of the catalog, and that all metadata is self-consistent. This pipeline can take a while to run on catalogs, with the total number of rows and the total number of columns being the largest factors in the time spent."
   ]
  },
  {
   "cell_type": "code",
   "execution_count": 1,
   "id": "ed7b488b",
   "metadata": {},
   "outputs": [],
   "source": [
    "import hats_import.verification.run_verification as runner\n",
    "import pandas as pd\n",
    "from hats_import.verification.arguments import VerificationArguments\n",
    "from time import perf_counter\n",
    "from pathlib import Path\n",
    "import hats"
   ]
  },
  {
   "cell_type": "markdown",
   "id": "c1fcdac3",
   "metadata": {},
   "source": [
    "## Smaller catalogs, Verbose=False\n",
    "\n",
    "This cell runs the pipeline for a number of smaller catalogs, and only outputs in the event of a failure. There should be no cell output!\n",
    "\n",
    "Note that the pipeline itself returns an object with rich interaction with the individual test results (the `verifier` object). We use it here just to determine if all of the tests have passed."
   ]
  },
  {
   "cell_type": "code",
   "execution_count": 2,
   "id": "4c3918db",
   "metadata": {},
   "outputs": [
    {
     "name": "stdout",
     "output_type": "stream",
     "text": [
      "Processed alerce_nested in: 0.52 (seconds)\n",
      "Processed erosita_dr1_erass1 in: 0.50 (seconds)\n",
      "Processed sdss_dr18_specphotoall in: 1.93 (seconds)\n",
      "Processed ztf_object in: 47.90 (seconds)\n",
      "Processed gaia_edr3_distances in: 7.86 (seconds)\n",
      "Processed two_mass in: 82.16 (seconds)\n"
     ]
    }
   ],
   "source": [
    "SMALL_CATALOGS = [\n",
    "    \"/epyc/data3/hats/catalogs/alerce/alerce_nested/\",# 3.16\n",
    "    \"/epyc/data3/hats/catalogs/erosita/erosita_dr1_erass1\",# 0.86\n",
    "    \"/epyc/data3/hats/catalogs/sdss_dr18_specphotoall/\", #2.52\n",
    "    \"/epyc/data3/hats/catalogs/ztf_dr14/ztf_object\",# 49.08\n",
    "    \"/epyc/data3/hats/catalogs/gaia_dr3/gaia_edr3_distances\",# 69.59\n",
    "    \"/epyc/data3/hats/catalogs/two_mass\",# 83.11\n",
    "]\n",
    "\n",
    "for catalog_path in SMALL_CATALOGS:\n",
    "    t1_start = perf_counter()\n",
    "    short_name = Path(catalog_path).stem\n",
    "    output_path = \"./results/\" + short_name\n",
    "    \n",
    "    args = VerificationArguments(input_catalog_path=catalog_path, \n",
    "                                 output_path=output_path, \n",
    "                                 verbose=False)\n",
    "    verifier = runner.run(args, write_mode=\"w\")\n",
    "    if not verifier.all_tests_passed:\n",
    "        print(f\"FAILED Catalog {short_name}\")\n",
    "    \n",
    "    print(f\"Processed {short_name} in: {perf_counter()-t1_start:.2f} (seconds)\")"
   ]
  },
  {
   "cell_type": "markdown",
   "id": "1641abb9",
   "metadata": {},
   "source": [
    "## Large catalog, verbose\n",
    "\n",
    "In the following cell, we operate over a larger catalog. This takes a little longer, and it's nice to see all of the progress reporting that goes by."
   ]
  },
  {
   "cell_type": "code",
   "execution_count": 4,
   "id": "ed973ac6",
   "metadata": {},
   "outputs": [
    {
     "name": "stdout",
     "output_type": "stream",
     "text": [
      "Loading dataset and schema.\n",
      "\n",
      "Starting: Test hats.io.validation.is_valid_catalog (hats version 0.4.6.dev6+gfeedc15).\n",
      "Validating catalog at path /epyc/data3/hats/catalogs/ztf_dr22/ztf_lc ... \n",
      "Found 10839 partitions.\n",
      "Approximate coverage is 78.13 % of the sky.\n",
      "Result: PASSED\n",
      "\n",
      "Starting: Test that files in _metadata match the data files on disk.\n",
      "Result: PASSED\n",
      "\n",
      "Starting: Test that number of rows are equal.\n",
      "\tfile footers vs catalog properties\n",
      "\tfile footers vs _metadata\n",
      "Result: PASSED\n",
      "\n",
      "Starting: Test that schemas are equal, excluding metadata.\n",
      "\t_common_metadata vs truth\n",
      "\t_metadata vs truth\n",
      "\tfile footers vs truth\n",
      "Result: PASSED\n",
      "\n",
      "Verifier results written to results/ztf_dr22_lc/verifier_results.csv\n",
      " Elapsed time (seconds) :26.33\n"
     ]
    }
   ],
   "source": [
    "catalog_path = \"/epyc/data3/hats/catalogs/ztf_dr22/ztf_lc\"\n",
    "short_name = \"ztf_dr22_lc\"\n",
    "output_path = \"./results/\" + short_name\n",
    "\n",
    "args = VerificationArguments(input_catalog_path=catalog_path, \n",
    "                             output_path=output_path, \n",
    "                             verbose=True)\n",
    "verifier = runner.run(args, write_mode=\"w\")"
   ]
  },
  {
   "cell_type": "markdown",
   "id": "67a66670",
   "metadata": {},
   "source": [
    "## Additional manual verification\n",
    "\n",
    "Based on [this tutorial notebook](https://docs.lsdb.io/en/stable/tutorials/manual_verification.html)\n",
    "\n"
   ]
  },
  {
   "cell_type": "code",
   "execution_count": 5,
   "id": "f48b3bbd",
   "metadata": {},
   "outputs": [
    {
     "data": {
      "text/plain": [
       "_healpix_29: int64\n",
       "objectid: int64\n",
       "filterid: int8\n",
       "fieldid: int16\n",
       "rcid: int8\n",
       "objra: float\n",
       "objdec: float\n",
       "nepochs: int64\n",
       "hmjd: list<element: double>\n",
       "  child 0, element: double\n",
       "mag: list<element: float>\n",
       "  child 0, element: float\n",
       "magerr: list<element: float>\n",
       "  child 0, element: float\n",
       "clrcoeff: list<element: float>\n",
       "  child 0, element: float\n",
       "catflags: list<element: int32>\n",
       "  child 0, element: int32\n",
       "Norder: uint8\n",
       "Dir: uint64\n",
       "Npix: uint64"
      ]
     },
     "execution_count": 5,
     "metadata": {},
     "output_type": "execute_result"
    }
   ],
   "source": [
    "catalog_object = hats.read_hats(catalog_path)\n",
    "catalog_object.schema"
   ]
  },
  {
   "cell_type": "code",
   "execution_count": 6,
   "id": "a9e27d09",
   "metadata": {},
   "outputs": [
    {
     "data": {
      "text/html": [
       "<div>\n",
       "<style scoped>\n",
       "    .dataframe tbody tr th:only-of-type {\n",
       "        vertical-align: middle;\n",
       "    }\n",
       "\n",
       "    .dataframe tbody tr th {\n",
       "        vertical-align: top;\n",
       "    }\n",
       "\n",
       "    .dataframe thead th {\n",
       "        text-align: right;\n",
       "    }\n",
       "</style>\n",
       "<table border=\"1\" class=\"dataframe\">\n",
       "  <thead>\n",
       "    <tr style=\"text-align: right;\">\n",
       "      <th></th>\n",
       "      <th>min_value</th>\n",
       "      <th>max_value</th>\n",
       "      <th>null_count</th>\n",
       "    </tr>\n",
       "    <tr>\n",
       "      <th>column_names</th>\n",
       "      <th></th>\n",
       "      <th></th>\n",
       "      <th></th>\n",
       "    </tr>\n",
       "  </thead>\n",
       "  <tbody>\n",
       "    <tr>\n",
       "      <th>objectid</th>\n",
       "      <td>202110100000000.00</td>\n",
       "      <td>1896211400028221.00</td>\n",
       "      <td>0.00</td>\n",
       "    </tr>\n",
       "    <tr>\n",
       "      <th>filterid</th>\n",
       "      <td>1.00</td>\n",
       "      <td>3.00</td>\n",
       "      <td>0.00</td>\n",
       "    </tr>\n",
       "    <tr>\n",
       "      <th>fieldid</th>\n",
       "      <td>202.00</td>\n",
       "      <td>1896.00</td>\n",
       "      <td>0.00</td>\n",
       "    </tr>\n",
       "    <tr>\n",
       "      <th>rcid</th>\n",
       "      <td>0.00</td>\n",
       "      <td>63.00</td>\n",
       "      <td>0.00</td>\n",
       "    </tr>\n",
       "    <tr>\n",
       "      <th>objra</th>\n",
       "      <td>0.00</td>\n",
       "      <td>360.00</td>\n",
       "      <td>0.00</td>\n",
       "    </tr>\n",
       "    <tr>\n",
       "      <th>objdec</th>\n",
       "      <td>-30.70</td>\n",
       "      <td>89.21</td>\n",
       "      <td>0.00</td>\n",
       "    </tr>\n",
       "    <tr>\n",
       "      <th>nepochs</th>\n",
       "      <td>1.00</td>\n",
       "      <td>1884.00</td>\n",
       "      <td>0.00</td>\n",
       "    </tr>\n",
       "    <tr>\n",
       "      <th>hmjd.list.element</th>\n",
       "      <td>58197.12</td>\n",
       "      <td>60491.42</td>\n",
       "      <td>0.00</td>\n",
       "    </tr>\n",
       "    <tr>\n",
       "      <th>mag.list.element</th>\n",
       "      <td>-2.52</td>\n",
       "      <td>32.44</td>\n",
       "      <td>0.00</td>\n",
       "    </tr>\n",
       "    <tr>\n",
       "      <th>magerr.list.element</th>\n",
       "      <td>-1.46</td>\n",
       "      <td>1.14</td>\n",
       "      <td>0.00</td>\n",
       "    </tr>\n",
       "    <tr>\n",
       "      <th>clrcoeff.list.element</th>\n",
       "      <td>-15.36</td>\n",
       "      <td>21.95</td>\n",
       "      <td>0.00</td>\n",
       "    </tr>\n",
       "    <tr>\n",
       "      <th>catflags.list.element</th>\n",
       "      <td>0.00</td>\n",
       "      <td>65535.00</td>\n",
       "      <td>0.00</td>\n",
       "    </tr>\n",
       "  </tbody>\n",
       "</table>\n",
       "</div>"
      ],
      "text/plain": [
       "                               min_value           max_value  null_count\n",
       "column_names                                                            \n",
       "objectid              202110100000000.00 1896211400028221.00        0.00\n",
       "filterid                            1.00                3.00        0.00\n",
       "fieldid                           202.00             1896.00        0.00\n",
       "rcid                                0.00               63.00        0.00\n",
       "objra                               0.00              360.00        0.00\n",
       "objdec                            -30.70               89.21        0.00\n",
       "nepochs                             1.00             1884.00        0.00\n",
       "hmjd.list.element               58197.12            60491.42        0.00\n",
       "mag.list.element                   -2.52               32.44        0.00\n",
       "magerr.list.element                -1.46                1.14        0.00\n",
       "clrcoeff.list.element             -15.36               21.95        0.00\n",
       "catflags.list.element               0.00            65535.00        0.00"
      ]
     },
     "execution_count": 6,
     "metadata": {},
     "output_type": "execute_result"
    }
   ],
   "source": [
    "pd.set_option('display.float_format', '{:.2f}'.format)\n",
    "\n",
    "catalog_object.aggregate_column_statistics()"
   ]
  }
 ],
 "metadata": {
  "kernelspec": {
   "display_name": "DeLucchi HATS",
   "language": "python",
   "name": "hatsenv"
  },
  "language_info": {
   "codemirror_mode": {
    "name": "ipython",
    "version": 3
   },
   "file_extension": ".py",
   "mimetype": "text/x-python",
   "name": "python",
   "nbconvert_exporter": "python",
   "pygments_lexer": "ipython3",
   "version": "3.10.15"
  }
 },
 "nbformat": 4,
 "nbformat_minor": 5
}
