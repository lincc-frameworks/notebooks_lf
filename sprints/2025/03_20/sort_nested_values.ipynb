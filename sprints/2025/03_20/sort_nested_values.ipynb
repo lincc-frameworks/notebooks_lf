{
 "cells": [
  {
   "cell_type": "markdown",
   "metadata": {},
   "source": [
    "# Demo Mar 19, 2025"
   ]
  },
  {
   "cell_type": "code",
   "execution_count": 1,
   "metadata": {},
   "outputs": [],
   "source": [
    "import lsdb\n",
    "from nested_pandas import NestedDtype"
   ]
  },
  {
   "cell_type": "markdown",
   "metadata": {},
   "source": [
    "Reading the small sky nested sources catalog:"
   ]
  },
  {
   "cell_type": "code",
   "execution_count": 2,
   "metadata": {},
   "outputs": [],
   "source": [
    "nested_catalog_dir = 'tests/data/small_sky_order1_nested_sources'\n",
    "nested_margin_dir = 'tests/data/small_sky_order1_nested_sources_margin'\n",
    "nested_catalog = lsdb.read_hats(nested_catalog_dir, margin_cache=nested_margin_dir)"
   ]
  },
  {
   "cell_type": "markdown",
   "metadata": {},
   "source": [
    "#### `map_partitions` also updates margins\n",
    "\n",
    "We currently need to cast nested columns to the appropriate type after invoking `read_hats´:"
   ]
  },
  {
   "cell_type": "code",
   "execution_count": 3,
   "metadata": {},
   "outputs": [
    {
     "data": {
      "text/plain": [
       "struct<source_id: list<element: int64>, source_ra: list<element: double>, source_dec: list<element: double>, mjd: list<element: double>, mag: list<element: double>, band: list<element: string>, object_ra: list<element: double>, object_dec: list<element: double>>[pyarrow]"
      ]
     },
     "execution_count": 3,
     "metadata": {},
     "output_type": "execute_result"
    }
   ],
   "source": [
    "nested_catalog.margin[\"sources\"].dtype"
   ]
  },
  {
   "cell_type": "code",
   "execution_count": 4,
   "metadata": {},
   "outputs": [
    {
     "data": {
      "text/html": [
       "<div><strong>lsdb Catalog small_sky_order1_nested_sources:</strong></div><div>\n",
       "<style scoped>\n",
       "    .dataframe tbody tr th:only-of-type {\n",
       "        vertical-align: middle;\n",
       "    }\n",
       "\n",
       "    .dataframe tbody tr th {\n",
       "        vertical-align: top;\n",
       "    }\n",
       "\n",
       "    .dataframe thead th {\n",
       "        text-align: right;\n",
       "    }\n",
       "</style>\n",
       "<table border=\"1\" class=\"dataframe\">\n",
       "  <thead>\n",
       "    <tr style=\"text-align: right;\">\n",
       "      <th></th>\n",
       "      <th>id</th>\n",
       "      <th>ra</th>\n",
       "      <th>dec</th>\n",
       "      <th>ra_error</th>\n",
       "      <th>dec_error</th>\n",
       "      <th>sources</th>\n",
       "    </tr>\n",
       "    <tr>\n",
       "      <th>npartitions=4</th>\n",
       "      <th></th>\n",
       "      <th></th>\n",
       "      <th></th>\n",
       "      <th></th>\n",
       "      <th></th>\n",
       "      <th></th>\n",
       "    </tr>\n",
       "  </thead>\n",
       "  <tbody>\n",
       "    <tr>\n",
       "      <th>Order: 1, Pixel: 44</th>\n",
       "      <td>int64[pyarrow]</td>\n",
       "      <td>double[pyarrow]</td>\n",
       "      <td>double[pyarrow]</td>\n",
       "      <td>int64[pyarrow]</td>\n",
       "      <td>int64[pyarrow]</td>\n",
       "      <td>nested&lt;source_id: [int64], source_ra: [double]...</td>\n",
       "    </tr>\n",
       "    <tr>\n",
       "      <th>Order: 1, Pixel: 45</th>\n",
       "      <td>...</td>\n",
       "      <td>...</td>\n",
       "      <td>...</td>\n",
       "      <td>...</td>\n",
       "      <td>...</td>\n",
       "      <td>...</td>\n",
       "    </tr>\n",
       "    <tr>\n",
       "      <th>Order: 1, Pixel: 46</th>\n",
       "      <td>...</td>\n",
       "      <td>...</td>\n",
       "      <td>...</td>\n",
       "      <td>...</td>\n",
       "      <td>...</td>\n",
       "      <td>...</td>\n",
       "    </tr>\n",
       "    <tr>\n",
       "      <th>Order: 1, Pixel: 47</th>\n",
       "      <td>...</td>\n",
       "      <td>...</td>\n",
       "      <td>...</td>\n",
       "      <td>...</td>\n",
       "      <td>...</td>\n",
       "      <td>...</td>\n",
       "    </tr>\n",
       "  </tbody>\n",
       "</table>\n",
       "</div><div>The catalog has been loaded <strong>lazily</strong>, meaning no data has been read, only the catalog schema</div>"
      ],
      "text/plain": [
       "Dask NestedFrame Structure:\n",
       "                                 id               ra              dec        ra_error       dec_error                                                                                                                                                         sources\n",
       "npartitions=4                                                                                                                                                                                                                                                        \n",
       "3170534137668829184  int64[pyarrow]  double[pyarrow]  double[pyarrow]  int64[pyarrow]  int64[pyarrow]  nested<source_id: [int64], source_ra: [double], source_dec: [double], mjd: [double], mag: [double], band: [string], object_ra: [double], object_dec: [double]>\n",
       "3242591731706757120             ...              ...              ...             ...             ...                                                                                                                                                             ...\n",
       "3314649325744685056             ...              ...              ...             ...             ...                                                                                                                                                             ...\n",
       "3386706919782612992             ...              ...              ...             ...             ...                                                                                                                                                             ...\n",
       "3458764513820540928             ...              ...              ...             ...             ...                                                                                                                                                             ...\n",
       "Dask Name: nestedframe, 5 expressions\n",
       "Expr=MapPartitions(NestedFrame)"
      ]
     },
     "execution_count": 4,
     "metadata": {},
     "output_type": "execute_result"
    }
   ],
   "source": [
    "def cast_nested(df, columns):\n",
    "    \"\"\"Helper function to cast nested columns to the correct type.\"\"\"\n",
    "    return df.assign(\n",
    "        **{col: df[col].astype(NestedDtype.from_pandas_arrow_dtype(df.dtypes[col])) for col in columns},\n",
    "    )\n",
    "\n",
    "nested_catalog = nested_catalog.map_partitions(cast_nested, columns=[\"sources\"])\n",
    "nested_catalog"
   ]
  },
  {
   "cell_type": "markdown",
   "metadata": {},
   "source": [
    "Now `map_partitions` applies the custom user function to the margins as well:"
   ]
  },
  {
   "cell_type": "code",
   "execution_count": 5,
   "metadata": {},
   "outputs": [
    {
     "data": {
      "text/plain": [
       "<nested_pandas.series.dtype.NestedDtype at 0x127142ea0>"
      ]
     },
     "execution_count": 5,
     "metadata": {},
     "output_type": "execute_result"
    }
   ],
   "source": [
    "nested_catalog.margin[\"sources\"].dtype"
   ]
  },
  {
   "cell_type": "markdown",
   "metadata": {},
   "source": [
    "#### `sort_nested_values`\n",
    "\n",
    "We can also sort the nested data of a catalog according to one of its columns (powered by *nested-pandas*)."
   ]
  },
  {
   "cell_type": "code",
   "execution_count": 6,
   "metadata": {},
   "outputs": [],
   "source": [
    "head = nested_catalog.head()"
   ]
  },
  {
   "cell_type": "code",
   "execution_count": 7,
   "metadata": {},
   "outputs": [
    {
     "data": {
      "text/html": [
       "<div>\n",
       "<style scoped>\n",
       "    .dataframe tbody tr th:only-of-type {\n",
       "        vertical-align: middle;\n",
       "    }\n",
       "\n",
       "    .dataframe tbody tr th {\n",
       "        vertical-align: top;\n",
       "    }\n",
       "\n",
       "    .dataframe thead th {\n",
       "        text-align: right;\n",
       "    }\n",
       "</style>\n",
       "<table border=\"1\" class=\"dataframe\">\n",
       "  <thead>\n",
       "    <tr style=\"text-align: right;\">\n",
       "      <th></th>\n",
       "      <th>source_id</th>\n",
       "      <th>source_ra</th>\n",
       "      <th>source_dec</th>\n",
       "      <th>mjd</th>\n",
       "      <th>mag</th>\n",
       "      <th>band</th>\n",
       "      <th>object_ra</th>\n",
       "      <th>object_dec</th>\n",
       "    </tr>\n",
       "  </thead>\n",
       "  <tbody>\n",
       "    <tr>\n",
       "      <th>0</th>\n",
       "      <td>74859</td>\n",
       "      <td>308.584555</td>\n",
       "      <td>-69.462753</td>\n",
       "      <td>58702.504576</td>\n",
       "      <td>16.338498</td>\n",
       "      <td>i</td>\n",
       "      <td>308.5</td>\n",
       "      <td>-69.5</td>\n",
       "    </tr>\n",
       "    <tr>\n",
       "      <th>1</th>\n",
       "      <td>77874</td>\n",
       "      <td>309.001417</td>\n",
       "      <td>-69.498428</td>\n",
       "      <td>58912.758183</td>\n",
       "      <td>19.832633</td>\n",
       "      <td>y</td>\n",
       "      <td>308.5</td>\n",
       "      <td>-69.5</td>\n",
       "    </tr>\n",
       "    <tr>\n",
       "      <th>...</th>\n",
       "      <td>...</td>\n",
       "      <td>...</td>\n",
       "      <td>...</td>\n",
       "      <td>...</td>\n",
       "      <td>...</td>\n",
       "      <td>...</td>\n",
       "      <td>...</td>\n",
       "      <td>...</td>\n",
       "    </tr>\n",
       "    <tr>\n",
       "      <th>129</th>\n",
       "      <td>85947</td>\n",
       "      <td>308.863222</td>\n",
       "      <td>-68.916876</td>\n",
       "      <td>59480.071192</td>\n",
       "      <td>16.105387</td>\n",
       "      <td>i</td>\n",
       "      <td>308.5</td>\n",
       "      <td>-69.5</td>\n",
       "    </tr>\n",
       "    <tr>\n",
       "      <th>130</th>\n",
       "      <td>77334</td>\n",
       "      <td>308.912122</td>\n",
       "      <td>-68.909644</td>\n",
       "      <td>58873.975676</td>\n",
       "      <td>18.780901</td>\n",
       "      <td>i</td>\n",
       "      <td>308.5</td>\n",
       "      <td>-69.5</td>\n",
       "    </tr>\n",
       "  </tbody>\n",
       "</table>\n",
       "<p>131 rows × 8 columns</p>\n",
       "</div>"
      ],
      "text/plain": [
       "     source_id   source_ra  source_dec           mjd        mag band  \\\n",
       "0        74859  308.584555  -69.462753  58702.504576  16.338498    i   \n",
       "1        77874  309.001417  -69.498428  58912.758183  19.832633    y   \n",
       "..         ...         ...         ...           ...        ...  ...   \n",
       "129      85947  308.863222  -68.916876  59480.071192  16.105387    i   \n",
       "130      77334  308.912122  -68.909644  58873.975676  18.780901    i   \n",
       "\n",
       "     object_ra  object_dec  \n",
       "0        308.5       -69.5  \n",
       "1        308.5       -69.5  \n",
       "..         ...         ...  \n",
       "129      308.5       -69.5  \n",
       "130      308.5       -69.5  \n",
       "\n",
       "[131 rows x 8 columns]"
      ]
     },
     "execution_count": 7,
     "metadata": {},
     "output_type": "execute_result"
    }
   ],
   "source": [
    "# selecting the light curve for the first object\n",
    "head[\"sources\"].iloc[0]"
   ]
  },
  {
   "cell_type": "code",
   "execution_count": 8,
   "metadata": {},
   "outputs": [
    {
     "data": {
      "text/plain": [
       "False"
      ]
     },
     "execution_count": 8,
     "metadata": {},
     "output_type": "execute_result"
    }
   ],
   "source": [
    "# it is not ordered by mjd\n",
    "head[\"sources\"].iloc[0][\"mjd\"].is_monotonic_increasing"
   ]
  },
  {
   "cell_type": "markdown",
   "metadata": {},
   "source": [
    "Let's sort all object light curves by mjd and compute again:"
   ]
  },
  {
   "cell_type": "code",
   "execution_count": 9,
   "metadata": {},
   "outputs": [],
   "source": [
    "nested_catalog = nested_catalog.sort_nested_values(by=\"sources.mjd\")\n",
    "head = nested_catalog.head()"
   ]
  },
  {
   "cell_type": "code",
   "execution_count": 10,
   "metadata": {},
   "outputs": [
    {
     "data": {
      "text/html": [
       "<div>\n",
       "<style scoped>\n",
       "    .dataframe tbody tr th:only-of-type {\n",
       "        vertical-align: middle;\n",
       "    }\n",
       "\n",
       "    .dataframe tbody tr th {\n",
       "        vertical-align: top;\n",
       "    }\n",
       "\n",
       "    .dataframe thead th {\n",
       "        text-align: right;\n",
       "    }\n",
       "</style>\n",
       "<table border=\"1\" class=\"dataframe\">\n",
       "  <thead>\n",
       "    <tr style=\"text-align: right;\">\n",
       "      <th></th>\n",
       "      <th>source_id</th>\n",
       "      <th>source_ra</th>\n",
       "      <th>source_dec</th>\n",
       "      <th>mjd</th>\n",
       "      <th>mag</th>\n",
       "      <th>band</th>\n",
       "      <th>object_ra</th>\n",
       "      <th>object_dec</th>\n",
       "    </tr>\n",
       "  </thead>\n",
       "  <tbody>\n",
       "    <tr>\n",
       "      <th>0</th>\n",
       "      <td>70083</td>\n",
       "      <td>308.886403</td>\n",
       "      <td>-69.096314</td>\n",
       "      <td>58369.631492</td>\n",
       "      <td>16.274146</td>\n",
       "      <td>u</td>\n",
       "      <td>308.5</td>\n",
       "      <td>-69.5</td>\n",
       "    </tr>\n",
       "    <tr>\n",
       "      <th>1</th>\n",
       "      <td>70684</td>\n",
       "      <td>308.931966</td>\n",
       "      <td>-69.360047</td>\n",
       "      <td>58413.642635</td>\n",
       "      <td>16.703503</td>\n",
       "      <td>i</td>\n",
       "      <td>308.5</td>\n",
       "      <td>-69.5</td>\n",
       "    </tr>\n",
       "    <tr>\n",
       "      <th>...</th>\n",
       "      <td>...</td>\n",
       "      <td>...</td>\n",
       "      <td>...</td>\n",
       "      <td>...</td>\n",
       "      <td>...</td>\n",
       "      <td>...</td>\n",
       "      <td>...</td>\n",
       "      <td>...</td>\n",
       "    </tr>\n",
       "    <tr>\n",
       "      <th>129</th>\n",
       "      <td>86609</td>\n",
       "      <td>308.766311</td>\n",
       "      <td>-69.345622</td>\n",
       "      <td>59525.228143</td>\n",
       "      <td>20.708147</td>\n",
       "      <td>r</td>\n",
       "      <td>308.5</td>\n",
       "      <td>-69.5</td>\n",
       "    </tr>\n",
       "    <tr>\n",
       "      <th>130</th>\n",
       "      <td>87095</td>\n",
       "      <td>308.901041</td>\n",
       "      <td>-69.495312</td>\n",
       "      <td>59557.673848</td>\n",
       "      <td>20.886599</td>\n",
       "      <td>u</td>\n",
       "      <td>308.5</td>\n",
       "      <td>-69.5</td>\n",
       "    </tr>\n",
       "  </tbody>\n",
       "</table>\n",
       "<p>131 rows × 8 columns</p>\n",
       "</div>"
      ],
      "text/plain": [
       "     source_id   source_ra  source_dec           mjd        mag band  \\\n",
       "0        70083  308.886403  -69.096314  58369.631492  16.274146    u   \n",
       "1        70684  308.931966  -69.360047  58413.642635  16.703503    i   \n",
       "..         ...         ...         ...           ...        ...  ...   \n",
       "129      86609  308.766311  -69.345622  59525.228143  20.708147    r   \n",
       "130      87095  308.901041  -69.495312  59557.673848  20.886599    u   \n",
       "\n",
       "     object_ra  object_dec  \n",
       "0        308.5       -69.5  \n",
       "1        308.5       -69.5  \n",
       "..         ...         ...  \n",
       "129      308.5       -69.5  \n",
       "130      308.5       -69.5  \n",
       "\n",
       "[131 rows x 8 columns]"
      ]
     },
     "execution_count": 10,
     "metadata": {},
     "output_type": "execute_result"
    }
   ],
   "source": [
    "# selecting the light curve for the first object\n",
    "head[\"sources\"].iloc[0]"
   ]
  },
  {
   "cell_type": "code",
   "execution_count": 11,
   "metadata": {},
   "outputs": [
    {
     "data": {
      "text/plain": [
       "True"
      ]
     },
     "execution_count": 11,
     "metadata": {},
     "output_type": "execute_result"
    }
   ],
   "source": [
    "# confirm that they are now ordered by mjd\n",
    "head[\"sources\"].iloc[0][\"mjd\"].is_monotonic_increasing"
   ]
  },
  {
   "cell_type": "markdown",
   "metadata": {},
   "source": [
    "We do not allow sorting on base columns so that will raise an error:"
   ]
  },
  {
   "cell_type": "code",
   "execution_count": 12,
   "metadata": {},
   "outputs": [
    {
     "ename": "ValueError",
     "evalue": "id not found in nested columns",
     "output_type": "error",
     "traceback": [
      "\u001b[0;31m---------------------------------------------------------------------------\u001b[0m",
      "\u001b[0;31mValueError\u001b[0m                                Traceback (most recent call last)",
      "Cell \u001b[0;32mIn[12], line 1\u001b[0m\n\u001b[0;32m----> 1\u001b[0m \u001b[43mnested_catalog\u001b[49m\u001b[38;5;241;43m.\u001b[39;49m\u001b[43msort_nested_values\u001b[49m\u001b[43m(\u001b[49m\u001b[43mby\u001b[49m\u001b[38;5;241;43m=\u001b[39;49m\u001b[38;5;124;43m\"\u001b[39;49m\u001b[38;5;124;43mid\u001b[39;49m\u001b[38;5;124;43m\"\u001b[39;49m\u001b[43m)\u001b[49m\n",
      "File \u001b[0;32m~/lsdb/src/lsdb/catalog/catalog.py:953\u001b[0m, in \u001b[0;36mCatalog.sort_nested_values\u001b[0;34m(self, by, ascending, na_position, ignore_index, **options)\u001b[0m\n\u001b[1;32m    921\u001b[0m \u001b[38;5;28;01mdef\u001b[39;00m\u001b[38;5;250m \u001b[39m\u001b[38;5;21msort_nested_values\u001b[39m(\n\u001b[1;32m    922\u001b[0m     \u001b[38;5;28mself\u001b[39m,\n\u001b[1;32m    923\u001b[0m     by: \u001b[38;5;28mstr\u001b[39m \u001b[38;5;241m|\u001b[39m \u001b[38;5;28mlist\u001b[39m[\u001b[38;5;28mstr\u001b[39m],\n\u001b[0;32m   (...)\u001b[0m\n\u001b[1;32m    928\u001b[0m ) \u001b[38;5;241m-\u001b[39m\u001b[38;5;241m>\u001b[39m Catalog:\n\u001b[1;32m    929\u001b[0m     \u001b[38;5;66;03m# pylint: disable=duplicate-code\u001b[39;00m\n\u001b[1;32m    930\u001b[0m \u001b[38;5;250m    \u001b[39m\u001b[38;5;124;03m\"\"\"Sort nested columns for each row in the catalog.\u001b[39;00m\n\u001b[1;32m    931\u001b[0m \n\u001b[1;32m    932\u001b[0m \u001b[38;5;124;03m    Note that this does NOT sort rows, only nested values within rows.\u001b[39;00m\n\u001b[0;32m   (...)\u001b[0m\n\u001b[1;32m    951\u001b[0m \u001b[38;5;124;03m        A new catalog where the specified nested columns are sorted.\u001b[39;00m\n\u001b[1;32m    952\u001b[0m \u001b[38;5;124;03m    \"\"\"\u001b[39;00m\n\u001b[0;32m--> 953\u001b[0m     catalog \u001b[38;5;241m=\u001b[39m \u001b[38;5;28;43msuper\u001b[39;49m\u001b[43m(\u001b[49m\u001b[43m)\u001b[49m\u001b[38;5;241;43m.\u001b[39;49m\u001b[43msort_nested_values\u001b[49m\u001b[43m(\u001b[49m\n\u001b[1;32m    954\u001b[0m \u001b[43m        \u001b[49m\u001b[43mby\u001b[49m\u001b[38;5;241;43m=\u001b[39;49m\u001b[43mby\u001b[49m\u001b[43m,\u001b[49m\n\u001b[1;32m    955\u001b[0m \u001b[43m        \u001b[49m\u001b[43mascending\u001b[49m\u001b[38;5;241;43m=\u001b[39;49m\u001b[43mascending\u001b[49m\u001b[43m,\u001b[49m\n\u001b[1;32m    956\u001b[0m \u001b[43m        \u001b[49m\u001b[43mna_position\u001b[49m\u001b[38;5;241;43m=\u001b[39;49m\u001b[43mna_position\u001b[49m\u001b[43m,\u001b[49m\n\u001b[1;32m    957\u001b[0m \u001b[43m        \u001b[49m\u001b[43mignore_index\u001b[49m\u001b[38;5;241;43m=\u001b[39;49m\u001b[43mignore_index\u001b[49m\u001b[43m,\u001b[49m\n\u001b[1;32m    958\u001b[0m \u001b[43m        \u001b[49m\u001b[38;5;241;43m*\u001b[39;49m\u001b[38;5;241;43m*\u001b[39;49m\u001b[43moptions\u001b[49m\u001b[43m,\u001b[49m\n\u001b[1;32m    959\u001b[0m \u001b[43m    \u001b[49m\u001b[43m)\u001b[49m\n\u001b[1;32m    960\u001b[0m     \u001b[38;5;28;01mif\u001b[39;00m \u001b[38;5;28mself\u001b[39m\u001b[38;5;241m.\u001b[39mmargin \u001b[38;5;129;01mis\u001b[39;00m \u001b[38;5;129;01mnot\u001b[39;00m \u001b[38;5;28;01mNone\u001b[39;00m:\n\u001b[1;32m    961\u001b[0m         catalog\u001b[38;5;241m.\u001b[39mmargin \u001b[38;5;241m=\u001b[39m \u001b[38;5;28mself\u001b[39m\u001b[38;5;241m.\u001b[39mmargin\u001b[38;5;241m.\u001b[39msort_nested_values(\n\u001b[1;32m    962\u001b[0m             by\u001b[38;5;241m=\u001b[39mby,\n\u001b[1;32m    963\u001b[0m             ascending\u001b[38;5;241m=\u001b[39mascending,\n\u001b[0;32m   (...)\u001b[0m\n\u001b[1;32m    966\u001b[0m             \u001b[38;5;241m*\u001b[39m\u001b[38;5;241m*\u001b[39moptions,\n\u001b[1;32m    967\u001b[0m         )\n",
      "File \u001b[0;32m~/lsdb/src/lsdb/catalog/dataset/healpix_dataset.py:927\u001b[0m, in \u001b[0;36mHealpixDataset.sort_nested_values\u001b[0;34m(self, by, ascending, na_position, ignore_index, **options)\u001b[0m\n\u001b[1;32m    925\u001b[0m \u001b[38;5;28;01mfor\u001b[39;00m col \u001b[38;5;129;01min\u001b[39;00m by:\n\u001b[1;32m    926\u001b[0m     \u001b[38;5;28;01mif\u001b[39;00m \u001b[38;5;129;01mnot\u001b[39;00m \u001b[38;5;28mself\u001b[39m\u001b[38;5;241m.\u001b[39m_ddf\u001b[38;5;241m.\u001b[39m_is_known_hierarchical_column(col):\n\u001b[0;32m--> 927\u001b[0m         \u001b[38;5;28;01mraise\u001b[39;00m \u001b[38;5;167;01mValueError\u001b[39;00m(\u001b[38;5;124mf\u001b[39m\u001b[38;5;124m\"\u001b[39m\u001b[38;5;132;01m{\u001b[39;00mcol\u001b[38;5;132;01m}\u001b[39;00m\u001b[38;5;124m not found in nested columns\u001b[39m\u001b[38;5;124m\"\u001b[39m)\n\u001b[1;32m    928\u001b[0m ndf \u001b[38;5;241m=\u001b[39m \u001b[38;5;28mself\u001b[39m\u001b[38;5;241m.\u001b[39m_ddf\u001b[38;5;241m.\u001b[39msort_values(\n\u001b[1;32m    929\u001b[0m     by\u001b[38;5;241m=\u001b[39mby,\n\u001b[1;32m    930\u001b[0m     ascending\u001b[38;5;241m=\u001b[39mascending,\n\u001b[0;32m   (...)\u001b[0m\n\u001b[1;32m    933\u001b[0m     \u001b[38;5;241m*\u001b[39m\u001b[38;5;241m*\u001b[39moptions,\n\u001b[1;32m    934\u001b[0m )\n\u001b[1;32m    935\u001b[0m \u001b[38;5;28;01mreturn\u001b[39;00m \u001b[38;5;28mself\u001b[39m\u001b[38;5;241m.\u001b[39m_create_updated_dataset(ddf\u001b[38;5;241m=\u001b[39mndf)\n",
      "\u001b[0;31mValueError\u001b[0m: id not found in nested columns"
     ]
    }
   ],
   "source": [
    "nested_catalog.sort_nested_values(by=\"id\")"
   ]
  }
 ],
 "metadata": {
  "kernelspec": {
   "display_name": "lsdb-py312",
   "language": "python",
   "name": "python3"
  },
  "language_info": {
   "codemirror_mode": {
    "name": "ipython",
    "version": 3
   },
   "file_extension": ".py",
   "mimetype": "text/x-python",
   "name": "python",
   "nbconvert_exporter": "python",
   "pygments_lexer": "ipython3",
   "version": "3.12.9"
  }
 },
 "nbformat": 4,
 "nbformat_minor": 2
}
