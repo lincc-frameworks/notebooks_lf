{
 "cells": [
  {
   "cell_type": "markdown",
   "id": "712dbe7f-4e54-4598-b748-ab195566837d",
   "metadata": {},
   "source": [
    "# Nested-Pandas: Creating nested `reduce` results with \"Nesting Inference\""
   ]
  },
  {
   "cell_type": "code",
   "execution_count": 17,
   "id": "489eb4c1-ba54-44d7-ac53-3bd7c4875676",
   "metadata": {},
   "outputs": [
    {
     "name": "stdout",
     "output_type": "stream",
     "text": [
      "0.3.8\n"
     ]
    }
   ],
   "source": [
    "import nested_pandas as npd\n",
    "import pandas as pd\n",
    "from nested_pandas.datasets import generate_data\n",
    "import numpy as np\n",
    "import pyarrow as pa\n",
    "# Added in nested-pandas v0.3.8\n",
    "print(npd.__version__)"
   ]
  },
  {
   "cell_type": "code",
   "execution_count": 18,
   "id": "82247e76-1684-4a11-8c02-1b1962b8fa0b",
   "metadata": {},
   "outputs": [],
   "source": [
    "# Generate some dummy data\n",
    "ndf = generate_data(3,20, seed=1)"
   ]
  },
  {
   "cell_type": "markdown",
   "id": "e7f358bc-d1d9-4161-bd7f-78e438482c68",
   "metadata": {},
   "source": [
    "### Normal `reduce` Behavior"
   ]
  },
  {
   "cell_type": "code",
   "execution_count": 19,
   "id": "07a7381f-7e8e-442f-b234-1f2849280245",
   "metadata": {},
   "outputs": [
    {
     "data": {
      "text/html": [
       "<table border=\"1\" class=\"dataframe\">\n",
       "  <thead>\n",
       "    <tr style=\"text-align: right;\">\n",
       "      <th></th>\n",
       "      <th>max_flux</th>\n",
       "      <th>flux_quantiles</th>\n",
       "      <th>labels</th>\n",
       "    </tr>\n",
       "  </thead>\n",
       "  <tbody>\n",
       "    <tr>\n",
       "      <th>0</th>\n",
       "      <td>96.484005</td>\n",
       "      <td>[10.987139293024393, 13.88482277263824, 22.195400645721197, 45.50049253382897, 60.18499770613584]</td>\n",
       "      <td>[0.1, 0.2, 0.3, 0.4, 0.5]</td>\n",
       "    </tr>\n",
       "    <tr>\n",
       "      <th>1</th>\n",
       "      <td>99.732285</td>\n",
       "      <td>[29.66015102826585, 39.79633942095249, 55.60423742880927, 69.22914543044622, 73.84702096888944]</td>\n",
       "      <td>[0.1, 0.2, 0.3, 0.4, 0.5]</td>\n",
       "    </tr>\n",
       "    <tr>\n",
       "      <th>2</th>\n",
       "      <td>94.459476</td>\n",
       "      <td>[11.46745145770277, 16.536734750551034, 31.45441958947629, 37.81654389824572, 43.90016616756178]</td>\n",
       "      <td>[0.1, 0.2, 0.3, 0.4, 0.5]</td>\n",
       "    </tr>\n",
       "  </tbody>\n",
       "</table>\n",
       "<p>3 rows × 3 columns</p>"
      ],
      "text/plain": [
       "    max_flux                                     flux_quantiles  \\\n",
       "0  96.484005  [10.987139293024393, 13.88482277263824, 22.195...   \n",
       "1  99.732285  [29.66015102826585, 39.79633942095249, 55.6042...   \n",
       "2  94.459476  [11.46745145770277, 16.536734750551034, 31.454...   \n",
       "\n",
       "                      labels  \n",
       "0  [0.1, 0.2, 0.3, 0.4, 0.5]  \n",
       "1  [0.1, 0.2, 0.3, 0.4, 0.5]  \n",
       "2  [0.1, 0.2, 0.3, 0.4, 0.5]  "
      ]
     },
     "execution_count": 19,
     "metadata": {},
     "output_type": "execute_result"
    }
   ],
   "source": [
    "# Normal Behavior of reduce\n",
    "def complex_output(flux):\n",
    "    return {\"max_flux\":np.max(flux), \"flux_quantiles\":np.quantile(flux, [0.1,0.2,0.3,0.4,0.5]), \"labels\":[0.1,0.2,0.3,0.4,0.5]}\n",
    "\n",
    "ndf.reduce(complex_output, \"nested.flux\")"
   ]
  },
  {
   "cell_type": "markdown",
   "id": "4501bf61-ce23-4642-ad60-a68b36bbbaed",
   "metadata": {},
   "source": [
    "### Using Nesting Inference to create nested structure"
   ]
  },
  {
   "cell_type": "code",
   "execution_count": 20,
   "id": "9d66f8f9-6063-4e9c-a029-02c8e6f99f4e",
   "metadata": {},
   "outputs": [
    {
     "data": {
      "text/html": [
       "<style type=\"text/css\">\n",
       "</style>\n",
       "<table id=\"T_c481e\">\n",
       "  <thead>\n",
       "    <tr>\n",
       "      <th class=\"blank level0\" >&nbsp;</th>\n",
       "      <th id=\"T_c481e_level0_col0\" class=\"col_heading level0 col0\" >max_flux</th>\n",
       "      <th id=\"T_c481e_level0_col1\" class=\"col_heading level0 col1\" >lc</th>\n",
       "    </tr>\n",
       "  </thead>\n",
       "  <tbody>\n",
       "    <tr>\n",
       "      <th id=\"T_c481e_level0_row0\" class=\"row_heading level0 row0\" >0</th>\n",
       "      <td id=\"T_c481e_row0_col0\" class=\"data row0 col0\" >96.484005</td>\n",
       "      <td id=\"T_c481e_row0_col1\" class=\"data row0 col1\" ><table border=\"1\" class=\"dataframe\">\n",
       "  <thead>\n",
       "    <tr style=\"text-align: right;\">\n",
       "      <th>flux_quantiles</th>\n",
       "      <th>labels</th>\n",
       "    </tr>\n",
       "  </thead>\n",
       "  <tbody>\n",
       "  </tbody>\n",
       "</table><table border=\"1\" class=\"dataframe\">\n",
       "  <tbody>\n",
       "    <tr>\n",
       "      <td>10.987139</td>\n",
       "      <td>0.1</td>\n",
       "    </tr>\n",
       "  </tbody>\n",
       "</table>\n",
       "<p>5 rows × 2 columns</p></td>\n",
       "    </tr>\n",
       "    <tr>\n",
       "      <th id=\"T_c481e_level0_row1\" class=\"row_heading level0 row1\" >1</th>\n",
       "      <td id=\"T_c481e_row1_col0\" class=\"data row1 col0\" >99.732285</td>\n",
       "      <td id=\"T_c481e_row1_col1\" class=\"data row1 col1\" ><table border=\"1\" class=\"dataframe\">\n",
       "  <tbody>\n",
       "    <tr>\n",
       "      <td>29.660151</td>\n",
       "      <td>0.1</td>\n",
       "    </tr>\n",
       "  </tbody>\n",
       "</table>\n",
       "<p>5 rows × 2 columns</p></td>\n",
       "    </tr>\n",
       "    <tr>\n",
       "      <th id=\"T_c481e_level0_row2\" class=\"row_heading level0 row2\" >2</th>\n",
       "      <td id=\"T_c481e_row2_col0\" class=\"data row2 col0\" >94.459476</td>\n",
       "      <td id=\"T_c481e_row2_col1\" class=\"data row2 col1\" ><table border=\"1\" class=\"dataframe\">\n",
       "  <tbody>\n",
       "    <tr>\n",
       "      <td>11.467451</td>\n",
       "      <td>0.1</td>\n",
       "    </tr>\n",
       "  </tbody>\n",
       "</table>\n",
       "<p>5 rows × 2 columns</p></td>\n",
       "    </tr>\n",
       "  </tbody>\n",
       "</table>\n",
       "3 rows x 2 columns"
      ],
      "text/plain": [
       "    max_flux                                                 lc\n",
       "0  96.484005  [{flux_quantiles: 10.987139, labels: 0.1}; …] ...\n",
       "1  99.732285  [{flux_quantiles: 29.660151, labels: 0.1}; …] ...\n",
       "2  94.459476  [{flux_quantiles: 11.467451, labels: 0.1}; …] ..."
      ]
     },
     "execution_count": 20,
     "metadata": {},
     "output_type": "execute_result"
    }
   ],
   "source": [
    "# Normal Behavior of reduce\n",
    "ndf = generate_data(3,20, seed=1)\n",
    "\n",
    "# Use nested column naming to signal nested structure\n",
    "def complex_output(flux):\n",
    "    return {\"max_flux\":np.max(flux), \"lc.flux_quantiles\":np.quantile(flux, [0.1,0.2,0.3,0.4,0.5]), \"lc.labels\":[0.1,0.2,0.3,0.4,0.5]}\n",
    "\n",
    "ndf.reduce(complex_output, \"nested.flux\")"
   ]
  },
  {
   "cell_type": "markdown",
   "id": "b091d663-da7e-4d21-a9a7-89b42045b104",
   "metadata": {},
   "source": [
    "### On by default, but can be turned off"
   ]
  },
  {
   "cell_type": "code",
   "execution_count": 21,
   "id": "2312e55a-7bb6-4d2d-ae61-35b6fefbbf08",
   "metadata": {},
   "outputs": [
    {
     "data": {
      "text/html": [
       "<table border=\"1\" class=\"dataframe\">\n",
       "  <thead>\n",
       "    <tr style=\"text-align: right;\">\n",
       "      <th></th>\n",
       "      <th>max_flux</th>\n",
       "      <th>lc.flux_quantiles</th>\n",
       "      <th>lc.labels</th>\n",
       "    </tr>\n",
       "  </thead>\n",
       "  <tbody>\n",
       "    <tr>\n",
       "      <th>0</th>\n",
       "      <td>96.484005</td>\n",
       "      <td>[10.987139293024393, 13.88482277263824, 22.195400645721197, 45.50049253382897, 60.18499770613584]</td>\n",
       "      <td>[0.1, 0.2, 0.3, 0.4, 0.5]</td>\n",
       "    </tr>\n",
       "    <tr>\n",
       "      <th>1</th>\n",
       "      <td>99.732285</td>\n",
       "      <td>[29.66015102826585, 39.79633942095249, 55.60423742880927, 69.22914543044622, 73.84702096888944]</td>\n",
       "      <td>[0.1, 0.2, 0.3, 0.4, 0.5]</td>\n",
       "    </tr>\n",
       "    <tr>\n",
       "      <th>2</th>\n",
       "      <td>94.459476</td>\n",
       "      <td>[11.46745145770277, 16.536734750551034, 31.45441958947629, 37.81654389824572, 43.90016616756178]</td>\n",
       "      <td>[0.1, 0.2, 0.3, 0.4, 0.5]</td>\n",
       "    </tr>\n",
       "  </tbody>\n",
       "</table>\n",
       "<p>3 rows × 3 columns</p>"
      ],
      "text/plain": [
       "    max_flux                                  lc.flux_quantiles  \\\n",
       "0  96.484005  [10.987139293024393, 13.88482277263824, 22.195...   \n",
       "1  99.732285  [29.66015102826585, 39.79633942095249, 55.6042...   \n",
       "2  94.459476  [11.46745145770277, 16.536734750551034, 31.454...   \n",
       "\n",
       "                   lc.labels  \n",
       "0  [0.1, 0.2, 0.3, 0.4, 0.5]  \n",
       "1  [0.1, 0.2, 0.3, 0.4, 0.5]  \n",
       "2  [0.1, 0.2, 0.3, 0.4, 0.5]  "
      ]
     },
     "execution_count": 21,
     "metadata": {},
     "output_type": "execute_result"
    }
   ],
   "source": [
    "# Use nested column naming to signal nested structure\n",
    "def complex_output(flux):\n",
    "    return {\"max_flux\":np.max(flux), \"lc.flux_quantiles\":np.quantile(flux, [0.1,0.2,0.3,0.4,0.5]), \"lc.labels\":[0.1,0.2,0.3,0.4,0.5]}\n",
    "\n",
    "ndf.reduce(complex_output, \"nested.flux\", infer_nesting=False)"
   ]
  },
  {
   "cell_type": "markdown",
   "id": "2b928735-fb93-4883-a863-96ec567fd70e",
   "metadata": {},
   "source": [
    "## Dask-side: Almost the same, but have to deal with meta"
   ]
  },
  {
   "cell_type": "code",
   "execution_count": 22,
   "id": "7f9479fb-a9a0-4e64-93b2-4f23e59a3658",
   "metadata": {},
   "outputs": [
    {
     "name": "stdout",
     "output_type": "stream",
     "text": [
      "0.3.4\n"
     ]
    }
   ],
   "source": [
    "import nested_dask as nd\n",
    "# Added in nested-dask v0.3.8\n",
    "print(nd.__version__)"
   ]
  },
  {
   "cell_type": "code",
   "execution_count": 23,
   "id": "00544406-04bd-443f-8cd1-d4698bde21cd",
   "metadata": {},
   "outputs": [],
   "source": [
    "from nested_dask.datasets import generate_data\n",
    "ndd = generate_data(20,20, npartitions=2, seed=1)"
   ]
  },
  {
   "cell_type": "code",
   "execution_count": 27,
   "id": "4e11b336-2480-4ddc-b0ac-000c88c7cf82",
   "metadata": {},
   "outputs": [
    {
     "data": {
      "text/html": [
       "<div><strong>Nested-Dask NestedFrame Structure:</strong></div>\n",
       "<table border=\"1\" class=\"dataframe\">\n",
       "  <thead>\n",
       "    <tr style=\"text-align: right;\">\n",
       "      <th></th>\n",
       "      <th>max_flux</th>\n",
       "      <th>lc</th>\n",
       "    </tr>\n",
       "    <tr>\n",
       "      <th>npartitions=2</th>\n",
       "      <th></th>\n",
       "      <th></th>\n",
       "    </tr>\n",
       "  </thead>\n",
       "  <tbody>\n",
       "    <tr>\n",
       "      <th>0</th>\n",
       "      <td>float64</td>\n",
       "      <td>nested&lt;flux_quantiles: [double], labels: [double]&gt;</td>\n",
       "    </tr>\n",
       "    <tr>\n",
       "      <th>9</th>\n",
       "      <td>...</td>\n",
       "      <td>...</td>\n",
       "    </tr>\n",
       "    <tr>\n",
       "      <th>19</th>\n",
       "      <td>...</td>\n",
       "      <td>...</td>\n",
       "    </tr>\n",
       "  </tbody>\n",
       "</table>\n",
       "<div>Dask Name: lambda, 4 expressions</div>"
      ],
      "text/plain": [
       "Dask NestedFrame Structure:\n",
       "              max_flux                                                  lc\n",
       "npartitions=2                                                             \n",
       "0              float64  nested<flux_quantiles: [double], labels: [double]>\n",
       "9                  ...                                                 ...\n",
       "19                 ...                                                 ...\n",
       "Dask Name: lambda, 4 expressions\n",
       "Expr=MapPartitions(lambda)"
      ]
     },
     "execution_count": 27,
     "metadata": {},
     "output_type": "execute_result"
    }
   ],
   "source": [
    "def complex_output(flux):\n",
    "    return {\"max_flux\":np.max(flux), \"lc.flux_quantiles\":np.quantile(flux, [0.1,0.2,0.3,0.4,0.5]), \"lc.labels\":[0.1,0.2,0.3,0.4,0.5]}\n",
    "\n",
    "# create a NestedDtype for the nested column \"lc\"\n",
    "from nested_pandas.series.dtype import NestedDtype\n",
    "lc_dtype = NestedDtype(pa.struct([pa.field(\"flux_quantiles\", pa.list_(pa.float64())),\n",
    "                                   pa.field(\"labels\", pa.list_(pa.float64()))]))\n",
    "# use the lc_dtype in meta creation\n",
    "result_meta = npd.NestedFrame({'max_flux':pd.Series([], dtype='float'),\n",
    "                'lc':pd.Series([], dtype=lc_dtype)})\n",
    "\n",
    "ndd.reduce(complex_output, \"nested.flux\", meta=result_meta)"
   ]
  },
  {
   "cell_type": "code",
   "execution_count": null,
   "id": "849ed155-b7c3-423c-8623-4af8160a4893",
   "metadata": {},
   "outputs": [],
   "source": []
  }
 ],
 "metadata": {
  "kernelspec": {
   "display_name": "Python 3 (ipykernel)",
   "language": "python",
   "name": "python3"
  },
  "language_info": {
   "codemirror_mode": {
    "name": "ipython",
    "version": 3
   },
   "file_extension": ".py",
   "mimetype": "text/x-python",
   "name": "python",
   "nbconvert_exporter": "python",
   "pygments_lexer": "ipython3",
   "version": "3.12.8"
  }
 },
 "nbformat": 4,
 "nbformat_minor": 5
}
