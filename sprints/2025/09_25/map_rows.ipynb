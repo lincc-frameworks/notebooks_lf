{
 "cells": [
  {
   "cell_type": "markdown",
   "id": "a26bb5be-12dd-431e-929b-880f2c1fb394",
   "metadata": {},
   "source": [
    "# NestedFrame `map_rows` Demo"
   ]
  },
  {
   "cell_type": "code",
   "execution_count": 4,
   "id": "46052672-2d32-41e2-98c8-e594794c5b06",
   "metadata": {},
   "outputs": [],
   "source": [
    "from nested_pandas.datasets import generate_data\n",
    "import numpy as np"
   ]
  },
  {
   "cell_type": "code",
   "execution_count": 33,
   "id": "43c0ceb2-6b49-4284-a3fe-9001f3fbff9d",
   "metadata": {},
   "outputs": [
    {
     "data": {
      "text/html": [
       "<style type=\"text/css\">\n",
       "</style>\n",
       "<table id=\"T_a3180\">\n",
       "  <thead>\n",
       "    <tr>\n",
       "      <th class=\"blank level0\" >&nbsp;</th>\n",
       "      <th id=\"T_a3180_level0_col0\" class=\"col_heading level0 col0\" >a</th>\n",
       "      <th id=\"T_a3180_level0_col1\" class=\"col_heading level0 col1\" >b</th>\n",
       "      <th id=\"T_a3180_level0_col2\" class=\"col_heading level0 col2\" >nested</th>\n",
       "    </tr>\n",
       "  </thead>\n",
       "  <tbody>\n",
       "    <tr>\n",
       "      <th id=\"T_a3180_level0_row0\" class=\"row_heading level0 row0\" >0</th>\n",
       "      <td id=\"T_a3180_row0_col0\" class=\"data row0 col0\" >0.417022</td>\n",
       "      <td id=\"T_a3180_row0_col1\" class=\"data row0 col1\" >0.604665</td>\n",
       "      <td id=\"T_a3180_row0_col2\" class=\"data row0 col2\" ><table border=\"1\" class=\"dataframe\">\n",
       "  <thead>\n",
       "    <tr style=\"text-align: right;\">\n",
       "      <th>t</th>\n",
       "      <th>flux</th>\n",
       "      <th>band</th>\n",
       "    </tr>\n",
       "  </thead>\n",
       "  <tbody>\n",
       "    <tr>\n",
       "      <td>3.725204</td>\n",
       "      <td>68.650093</td>\n",
       "      <td>r</td>\n",
       "    </tr>\n",
       "    <tr>\n",
       "      <td><i>+9 rows</i></td>\n",
       "      <td>...</td>\n",
       "      <td>...</td>\n",
       "    </tr>\n",
       "  </tbody>\n",
       "</table></td>\n",
       "    </tr>\n",
       "    <tr>\n",
       "      <th id=\"T_a3180_level0_row1\" class=\"row_heading level0 row1\" >1</th>\n",
       "      <td id=\"T_a3180_row1_col0\" class=\"data row1 col0\" >0.720324</td>\n",
       "      <td id=\"T_a3180_row1_col1\" class=\"data row1 col1\" >0.293512</td>\n",
       "      <td id=\"T_a3180_row1_col2\" class=\"data row1 col2\" ><table border=\"1\" class=\"dataframe\">\n",
       "  <thead>\n",
       "    <tr style=\"text-align: right;\">\n",
       "      <th>t</th>\n",
       "      <th>flux</th>\n",
       "      <th>band</th>\n",
       "    </tr>\n",
       "  </thead>\n",
       "  <tbody>\n",
       "    <tr>\n",
       "      <td>6.911215</td>\n",
       "      <td>83.462567</td>\n",
       "      <td>g</td>\n",
       "    </tr>\n",
       "    <tr>\n",
       "      <td><i>+9 rows</i></td>\n",
       "      <td>...</td>\n",
       "      <td>...</td>\n",
       "    </tr>\n",
       "  </tbody>\n",
       "</table></td>\n",
       "    </tr>\n",
       "    <tr>\n",
       "      <th id=\"T_a3180_level0_row2\" class=\"row_heading level0 row2\" >2</th>\n",
       "      <td id=\"T_a3180_row2_col0\" class=\"data row2 col0\" >0.000114</td>\n",
       "      <td id=\"T_a3180_row2_col1\" class=\"data row2 col1\" >0.184677</td>\n",
       "      <td id=\"T_a3180_row2_col2\" class=\"data row2 col2\" ><table border=\"1\" class=\"dataframe\">\n",
       "  <thead>\n",
       "    <tr style=\"text-align: right;\">\n",
       "      <th>t</th>\n",
       "      <th>flux</th>\n",
       "      <th>band</th>\n",
       "    </tr>\n",
       "  </thead>\n",
       "  <tbody>\n",
       "    <tr>\n",
       "      <td>7.935349</td>\n",
       "      <td>1.828828</td>\n",
       "      <td>r</td>\n",
       "    </tr>\n",
       "    <tr>\n",
       "      <td><i>+9 rows</i></td>\n",
       "      <td>...</td>\n",
       "      <td>...</td>\n",
       "    </tr>\n",
       "  </tbody>\n",
       "</table></td>\n",
       "    </tr>\n",
       "  </tbody>\n",
       "</table>\n",
       "3 rows x 3 columns"
      ],
      "text/plain": [
       "          a         b                                             nested\n",
       "0  0.417022  0.604665  [{t: 3.725204, flux: 68.650093, band: 'r'}; …]...\n",
       "1  0.720324  0.293512  [{t: 6.911215, flux: 83.462567, band: 'g'}; …]...\n",
       "2  0.000114  0.184677  [{t: 7.935349, flux: 1.828828, band: 'r'}; …] ..."
      ]
     },
     "execution_count": 33,
     "metadata": {},
     "output_type": "execute_result"
    }
   ],
   "source": [
    "nf = generate_data(3,10, seed=1)\n",
    "nf"
   ]
  },
  {
   "cell_type": "markdown",
   "id": "07ac7013-c37f-43e1-bdab-c092e0acd5ec",
   "metadata": {},
   "source": [
    "## The \"default\" example -- dictionary packaging"
   ]
  },
  {
   "cell_type": "code",
   "execution_count": 34,
   "id": "11782044-b85a-461c-b821-779ee44ff51d",
   "metadata": {},
   "outputs": [
    {
     "data": {
      "text/html": [
       "<table border=\"1\" class=\"dataframe\">\n",
       "  <thead>\n",
       "    <tr style=\"text-align: right;\">\n",
       "      <th></th>\n",
       "      <th>mean</th>\n",
       "      <th>mean_minus_base</th>\n",
       "    </tr>\n",
       "  </thead>\n",
       "  <tbody>\n",
       "    <tr>\n",
       "      <th>0</th>\n",
       "      <td>8.511203</td>\n",
       "      <td>8.094181</td>\n",
       "    </tr>\n",
       "    <tr>\n",
       "      <th>1</th>\n",
       "      <td>9.498250</td>\n",
       "      <td>8.777925</td>\n",
       "    </tr>\n",
       "    <tr>\n",
       "      <th>2</th>\n",
       "      <td>10.795447</td>\n",
       "      <td>10.795333</td>\n",
       "    </tr>\n",
       "  </tbody>\n",
       "</table>\n",
       "<p>3 rows × 2 columns</p>"
      ],
      "text/plain": [
       "        mean  mean_minus_base\n",
       "0   8.511203         8.094181\n",
       "1   9.498250         8.777925\n",
       "2  10.795447        10.795333"
      ]
     },
     "execution_count": 34,
     "metadata": {},
     "output_type": "execute_result"
    }
   ],
   "source": [
    "# row is a dict with keys corresponding to the rows of the nestedframe\n",
    "def example_func(row):\n",
    "    return np.mean(row[\"nested.t\"]), np.mean(row[\"nested.t\"]) - row[\"a\"]\n",
    "\n",
    "nf.map_rows(example_func, output_names=[\"mean\", \"mean_minus_base\"])"
   ]
  },
  {
   "cell_type": "markdown",
   "id": "e58e7434-5444-4958-affa-fe95e584baaa",
   "metadata": {},
   "source": [
    "## Column Selection"
   ]
  },
  {
   "cell_type": "code",
   "execution_count": 35,
   "id": "d7c401db-55f4-4b89-81a3-a91f5def1dce",
   "metadata": {},
   "outputs": [
    {
     "data": {
      "text/html": [
       "<table border=\"1\" class=\"dataframe\">\n",
       "  <thead>\n",
       "    <tr style=\"text-align: right;\">\n",
       "      <th></th>\n",
       "      <th>mean</th>\n",
       "      <th>mean_minus_base</th>\n",
       "    </tr>\n",
       "  </thead>\n",
       "  <tbody>\n",
       "    <tr>\n",
       "      <th>0</th>\n",
       "      <td>8.511203</td>\n",
       "      <td>8.094181</td>\n",
       "    </tr>\n",
       "    <tr>\n",
       "      <th>1</th>\n",
       "      <td>9.498250</td>\n",
       "      <td>8.777925</td>\n",
       "    </tr>\n",
       "    <tr>\n",
       "      <th>2</th>\n",
       "      <td>10.795447</td>\n",
       "      <td>10.795333</td>\n",
       "    </tr>\n",
       "  </tbody>\n",
       "</table>\n",
       "<p>3 rows × 2 columns</p>"
      ],
      "text/plain": [
       "        mean  mean_minus_base\n",
       "0   8.511203         8.094181\n",
       "1   9.498250         8.777925\n",
       "2  10.795447        10.795333"
      ]
     },
     "execution_count": 35,
     "metadata": {},
     "output_type": "execute_result"
    }
   ],
   "source": [
    "# setting columns sub-selects which columns are packaged into the dict\n",
    "nf.map_rows(example_func, columns=[\"a\", \"nested.t\"], output_names=[\"mean\", \"mean_minus_base\"])"
   ]
  },
  {
   "cell_type": "markdown",
   "id": "837e3334-c23e-4dd0-95a3-2256ee23f848",
   "metadata": {},
   "source": [
    "### Performance Impacts of Column Selection"
   ]
  },
  {
   "cell_type": "code",
   "execution_count": 36,
   "id": "7bd308ce-bbe8-42ec-8fd7-abb351a265c2",
   "metadata": {},
   "outputs": [
    {
     "name": "stdout",
     "output_type": "stream",
     "text": [
      "789 μs ± 24.4 μs per loop (mean ± std. dev. of 7 runs, 1,000 loops each)\n"
     ]
    }
   ],
   "source": [
    "%%timeit\n",
    "nf.map_rows(example_func, output_names=[\"mean\", \"mean_minus_base\"])"
   ]
  },
  {
   "cell_type": "code",
   "execution_count": 37,
   "id": "b780c82e-4540-406e-b65e-6f75db4e9730",
   "metadata": {},
   "outputs": [
    {
     "name": "stdout",
     "output_type": "stream",
     "text": [
      "281 μs ± 21.4 μs per loop (mean ± std. dev. of 7 runs, 1,000 loops each)\n"
     ]
    }
   ],
   "source": [
    "%%timeit\n",
    "nf.map_rows(example_func, columns=[\"a\", \"nested.t\"], output_names=[\"mean\", \"mean_minus_base\"])"
   ]
  },
  {
   "cell_type": "markdown",
   "id": "eaf2e8b6-aef6-4bd7-a640-308bda059663",
   "metadata": {},
   "source": [
    "### Selecting one Nested Structure"
   ]
  },
  {
   "cell_type": "code",
   "execution_count": 38,
   "id": "4787a904-ed32-4ad4-b49a-9ee5a8923157",
   "metadata": {},
   "outputs": [
    {
     "data": {
      "text/html": [
       "<table border=\"1\" class=\"dataframe\">\n",
       "  <thead>\n",
       "    <tr style=\"text-align: right;\">\n",
       "      <th></th>\n",
       "      <th>first_t</th>\n",
       "      <th>first_flux</th>\n",
       "      <th>first_band</th>\n",
       "    </tr>\n",
       "  </thead>\n",
       "  <tbody>\n",
       "    <tr>\n",
       "      <th>0</th>\n",
       "      <td>3.725204</td>\n",
       "      <td>68.650093</td>\n",
       "      <td>r</td>\n",
       "    </tr>\n",
       "    <tr>\n",
       "      <th>1</th>\n",
       "      <td>6.911215</td>\n",
       "      <td>83.462567</td>\n",
       "      <td>g</td>\n",
       "    </tr>\n",
       "    <tr>\n",
       "      <th>2</th>\n",
       "      <td>7.935349</td>\n",
       "      <td>1.828828</td>\n",
       "      <td>r</td>\n",
       "    </tr>\n",
       "  </tbody>\n",
       "</table>\n",
       "<p>3 rows × 3 columns</p>"
      ],
      "text/plain": [
       "    first_t  first_flux first_band\n",
       "0  3.725204   68.650093          r\n",
       "1  6.911215   83.462567          g\n",
       "2  7.935349    1.828828          r"
      ]
     },
     "execution_count": 38,
     "metadata": {},
     "output_type": "execute_result"
    }
   ],
   "source": [
    "# Write a function that programmatically returns the first value from each column in the row\n",
    "def first_val(row):\n",
    "    return {\"first_\"+key.split(\".\")[1]:row[key][0] for key in row.keys()}\n",
    "\n",
    "# Can select all nested subcolumns by just passing the name of the nested column\n",
    "nf.map_rows(first_val, columns=\"nested\")"
   ]
  },
  {
   "cell_type": "markdown",
   "id": "94c6371b-1e49-4319-9421-f3896200e098",
   "metadata": {},
   "source": [
    "## `args`-based inputs"
   ]
  },
  {
   "cell_type": "code",
   "execution_count": 39,
   "id": "56a966ba-60f0-4f0e-8e59-c14cbf5d1f2f",
   "metadata": {},
   "outputs": [
    {
     "data": {
      "text/html": [
       "<table border=\"1\" class=\"dataframe\">\n",
       "  <thead>\n",
       "    <tr style=\"text-align: right;\">\n",
       "      <th></th>\n",
       "      <th>mean</th>\n",
       "      <th>mean_minus_base</th>\n",
       "    </tr>\n",
       "  </thead>\n",
       "  <tbody>\n",
       "    <tr>\n",
       "      <th>0</th>\n",
       "      <td>8.511203</td>\n",
       "      <td>8.094181</td>\n",
       "    </tr>\n",
       "    <tr>\n",
       "      <th>1</th>\n",
       "      <td>9.498250</td>\n",
       "      <td>8.777925</td>\n",
       "    </tr>\n",
       "    <tr>\n",
       "      <th>2</th>\n",
       "      <td>10.795447</td>\n",
       "      <td>10.795333</td>\n",
       "    </tr>\n",
       "  </tbody>\n",
       "</table>\n",
       "<p>3 rows × 2 columns</p>"
      ],
      "text/plain": [
       "        mean  mean_minus_base\n",
       "0   8.511203         8.094181\n",
       "1   9.498250         8.777925\n",
       "2  10.795447        10.795333"
      ]
     },
     "execution_count": 39,
     "metadata": {},
     "output_type": "execute_result"
    }
   ],
   "source": [
    "# Write a function that takes in individual arguments\n",
    "def example_func(a, time):\n",
    "    return np.mean(time), np.mean(time) - a\n",
    "\n",
    "# Setting row_container=\"args\" passes the inputs as individual arguments\n",
    "nf.map_rows(example_func,\n",
    "            columns=[\"a\", \"nested.t\"],\n",
    "            output_names=[\"mean\", \"mean_minus_base\"],\n",
    "            row_container=\"args\")"
   ]
  },
  {
   "cell_type": "markdown",
   "id": "28387c4e-c3f4-4f39-8f63-df147c248cd2",
   "metadata": {},
   "source": [
    "## Non-df inputs"
   ]
  },
  {
   "cell_type": "code",
   "execution_count": 40,
   "id": "224f0b9e-844e-42c3-bda8-dc8aa3f9d76d",
   "metadata": {},
   "outputs": [
    {
     "data": {
      "text/html": [
       "<table border=\"1\" class=\"dataframe\">\n",
       "  <thead>\n",
       "    <tr style=\"text-align: right;\">\n",
       "      <th></th>\n",
       "      <th>mean</th>\n",
       "    </tr>\n",
       "  </thead>\n",
       "  <tbody>\n",
       "    <tr>\n",
       "      <th>0</th>\n",
       "      <td>170.224051</td>\n",
       "    </tr>\n",
       "    <tr>\n",
       "      <th>1</th>\n",
       "      <td>189.964999</td>\n",
       "    </tr>\n",
       "    <tr>\n",
       "      <th>2</th>\n",
       "      <td>215.908938</td>\n",
       "    </tr>\n",
       "  </tbody>\n",
       "</table>\n",
       "<p>3 rows × 1 columns</p>"
      ],
      "text/plain": [
       "         mean\n",
       "0  170.224051\n",
       "1  189.964999\n",
       "2  215.908938"
      ]
     },
     "execution_count": 40,
     "metadata": {},
     "output_type": "execute_result"
    }
   ],
   "source": [
    "def example_func(row, scale):\n",
    "    return np.mean(row[\"nested.t\"]) * scale\n",
    "\n",
    "# Arguments that are not tied to a column can be passed separately\n",
    "nf.map_rows(example_func, columns=[\"nested.t\"], output_names=\"mean\", scale=20)"
   ]
  },
  {
   "cell_type": "markdown",
   "id": "54a71680-1fc3-4dec-8663-0141d51078a8",
   "metadata": {},
   "source": [
    "## Returning Nested Structures"
   ]
  },
  {
   "cell_type": "code",
   "execution_count": 42,
   "id": "6cb346bc-d582-45ca-b61f-413663ccfc5e",
   "metadata": {},
   "outputs": [
    {
     "data": {
      "text/html": [
       "<style type=\"text/css\">\n",
       "</style>\n",
       "<table id=\"T_66769\">\n",
       "  <thead>\n",
       "    <tr>\n",
       "      <th class=\"blank level0\" >&nbsp;</th>\n",
       "      <th id=\"T_66769_level0_col0\" class=\"col_heading level0 col0\" >offsets</th>\n",
       "    </tr>\n",
       "  </thead>\n",
       "  <tbody>\n",
       "    <tr>\n",
       "      <th id=\"T_66769_level0_row0\" class=\"row_heading level0 row0\" >0</th>\n",
       "      <td id=\"T_66769_row0_col0\" class=\"data row0 col0\" ><table border=\"1\" class=\"dataframe\">\n",
       "  <thead>\n",
       "    <tr style=\"text-align: right;\">\n",
       "      <th>t_a</th>\n",
       "      <th>t_b</th>\n",
       "    </tr>\n",
       "  </thead>\n",
       "  <tbody>\n",
       "    <tr>\n",
       "      <td>3.308182</td>\n",
       "      <td>3.120539</td>\n",
       "    </tr>\n",
       "    <tr>\n",
       "      <td><i>+9 rows</i></td>\n",
       "      <td>...</td>\n",
       "    </tr>\n",
       "  </tbody>\n",
       "</table></td>\n",
       "    </tr>\n",
       "    <tr>\n",
       "      <th id=\"T_66769_level0_row1\" class=\"row_heading level0 row1\" >1</th>\n",
       "      <td id=\"T_66769_row1_col0\" class=\"data row1 col0\" ><table border=\"1\" class=\"dataframe\">\n",
       "  <thead>\n",
       "    <tr style=\"text-align: right;\">\n",
       "      <th>t_a</th>\n",
       "      <th>t_b</th>\n",
       "    </tr>\n",
       "  </thead>\n",
       "  <tbody>\n",
       "    <tr>\n",
       "      <td>6.19089</td>\n",
       "      <td>6.617703</td>\n",
       "    </tr>\n",
       "    <tr>\n",
       "      <td><i>+9 rows</i></td>\n",
       "      <td>...</td>\n",
       "    </tr>\n",
       "  </tbody>\n",
       "</table></td>\n",
       "    </tr>\n",
       "    <tr>\n",
       "      <th id=\"T_66769_level0_row2\" class=\"row_heading level0 row2\" >2</th>\n",
       "      <td id=\"T_66769_row2_col0\" class=\"data row2 col0\" ><table border=\"1\" class=\"dataframe\">\n",
       "  <thead>\n",
       "    <tr style=\"text-align: right;\">\n",
       "      <th>t_a</th>\n",
       "      <th>t_b</th>\n",
       "    </tr>\n",
       "  </thead>\n",
       "  <tbody>\n",
       "    <tr>\n",
       "      <td>7.935235</td>\n",
       "      <td>7.750672</td>\n",
       "    </tr>\n",
       "    <tr>\n",
       "      <td><i>+9 rows</i></td>\n",
       "      <td>...</td>\n",
       "    </tr>\n",
       "  </tbody>\n",
       "</table></td>\n",
       "    </tr>\n",
       "  </tbody>\n",
       "</table>\n",
       "3 rows x 1 columns"
      ],
      "text/plain": [
       "                                         offsets\n",
       "0  [{t_a: 3.308182, t_b: 3.120539}; …] (10 rows)\n",
       "1   [{t_a: 6.19089, t_b: 6.617703}; …] (10 rows)\n",
       "2  [{t_a: 7.935235, t_b: 7.750672}; …] (10 rows)"
      ]
     },
     "execution_count": 42,
     "metadata": {},
     "output_type": "execute_result"
    }
   ],
   "source": [
    "def example_func(row):\n",
    "    '''map_rows will return a NestedFrame with nested structure'''\n",
    "    return row[\"nested.t\"] - row[\"a\"], row[\"nested.t\"] - row[\"b\"]\n",
    "\n",
    "# behavior controlled by \"infer_nesting\" kwarg, which is true by default\n",
    "nf.map_rows(example_func, output_names=[\"offsets.t_a\", \"offsets.t_b\"])"
   ]
  },
  {
   "cell_type": "code",
   "execution_count": null,
   "id": "f54571d8-9974-4af0-a222-6aaa9e513438",
   "metadata": {},
   "outputs": [],
   "source": []
  }
 ],
 "metadata": {
  "kernelspec": {
   "display_name": "Python 3 (ipykernel)",
   "language": "python",
   "name": "python3"
  },
  "language_info": {
   "codemirror_mode": {
    "name": "ipython",
    "version": 3
   },
   "file_extension": ".py",
   "mimetype": "text/x-python",
   "name": "python",
   "nbconvert_exporter": "python",
   "pygments_lexer": "ipython3",
   "version": "3.12.8"
  }
 },
 "nbformat": 4,
 "nbformat_minor": 5
}
