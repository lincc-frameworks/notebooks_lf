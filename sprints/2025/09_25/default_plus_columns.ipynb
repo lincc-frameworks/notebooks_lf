{
 "cells": [
  {
   "cell_type": "code",
   "id": "initial_id",
   "metadata": {
    "collapsed": true,
    "ExecuteTime": {
     "end_time": "2025-09-25T17:31:39.913087Z",
     "start_time": "2025-09-25T17:31:39.900347Z"
    }
   },
   "source": [
    "import lsdb\n",
    "import hats"
   ],
   "outputs": [],
   "execution_count": 2
  },
  {
   "metadata": {
    "ExecuteTime": {
     "end_time": "2025-09-25T17:53:37.541828Z",
     "start_time": "2025-09-25T17:53:37.531473Z"
    }
   },
   "cell_type": "code",
   "source": [
    "def get_default_columns(path):\n",
    "    hc = hats.read_hats(path)\n",
    "    if isinstance(hc, hats.catalog.Catalog):\n",
    "        default_cols = hc.catalog_info.default_columns\n",
    "    elif isinstance(hc, hats.catalog.CatalogCollection):\n",
    "        default_cols = hc.main_catalog.catalog_info.default_columns\n",
    "    return default_cols\n",
    "\n",
    "def open_catalog_star(path, columns=None, **kwargs):\n",
    "    default_cols = get_default_columns(path)\n",
    "    if columns is not None and \"*\" in columns:\n",
    "        columns = default_cols + [c for c in columns if not c == \"*\"]\n",
    "    return lsdb.open_catalog(path, columns=columns, **kwargs)\n",
    "\n",
    "def open_catalog_keep(path, columns=None, keep_default_columns=False, **kwargs):\n",
    "    if columns is not None and keep_default_columns:\n",
    "        columns = get_default_columns(path) + columns\n",
    "    return lsdb.open_catalog(path, columns=columns, **kwargs)\n",
    "\n",
    "def open_catalog_addl(path, addl_columns, **kwargs):\n",
    "    return lsdb.open_catalog(\n",
    "        path,\n",
    "        columns=get_default_columns(path) + addl_columns,\n",
    "        **kwargs,\n",
    "    )"
   ],
   "id": "54fe6f52e4e47e72",
   "outputs": [],
   "execution_count": 37
  },
  {
   "metadata": {
    "ExecuteTime": {
     "end_time": "2025-09-25T17:49:24.680196Z",
     "start_time": "2025-09-25T17:49:24.640511Z"
    }
   },
   "cell_type": "code",
   "source": [
    "cat_path = \"../../../../lsdb/tests/data/small_sky_order1_default_columns\"\n",
    "cat = lsdb.open_catalog(cat_path)\n",
    "cat"
   ],
   "id": "bd4a8aaec4ef2c34",
   "outputs": [
    {
     "data": {
      "text/plain": [
       "Dask NestedFrame Structure:\n",
       "                                  ra              dec              id\n",
       "npartitions=4                                                        \n",
       "3170534137668829184  double[pyarrow]  double[pyarrow]  int64[pyarrow]\n",
       "3242591731706757120              ...              ...             ...\n",
       "3314649325744685056              ...              ...             ...\n",
       "3386706919782612992              ...              ...             ...\n",
       "3458764513820540928              ...              ...             ...\n",
       "Dask Name: nestedframe, 3 expressions\n",
       "Expr=MapPartitions(NestedFrame)"
      ],
      "text/html": [
       "<div><strong>lsdb Catalog small_sky_order1_default_columns:</strong></div><div>\n",
       "<style scoped>\n",
       "    .dataframe tbody tr th:only-of-type {\n",
       "        vertical-align: middle;\n",
       "    }\n",
       "\n",
       "    .dataframe tbody tr th {\n",
       "        vertical-align: top;\n",
       "    }\n",
       "\n",
       "    .dataframe thead th {\n",
       "        text-align: right;\n",
       "    }\n",
       "</style>\n",
       "<table border=\"1\" class=\"dataframe\">\n",
       "  <thead>\n",
       "    <tr style=\"text-align: right;\">\n",
       "      <th></th>\n",
       "      <th>ra</th>\n",
       "      <th>dec</th>\n",
       "      <th>id</th>\n",
       "    </tr>\n",
       "    <tr>\n",
       "      <th>npartitions=4</th>\n",
       "      <th></th>\n",
       "      <th></th>\n",
       "      <th></th>\n",
       "    </tr>\n",
       "  </thead>\n",
       "  <tbody>\n",
       "    <tr>\n",
       "      <th>Order: 1, Pixel: 44</th>\n",
       "      <td>double[pyarrow]</td>\n",
       "      <td>double[pyarrow]</td>\n",
       "      <td>int64[pyarrow]</td>\n",
       "    </tr>\n",
       "    <tr>\n",
       "      <th>Order: 1, Pixel: 45</th>\n",
       "      <td>...</td>\n",
       "      <td>...</td>\n",
       "      <td>...</td>\n",
       "    </tr>\n",
       "    <tr>\n",
       "      <th>Order: 1, Pixel: 46</th>\n",
       "      <td>...</td>\n",
       "      <td>...</td>\n",
       "      <td>...</td>\n",
       "    </tr>\n",
       "    <tr>\n",
       "      <th>Order: 1, Pixel: 47</th>\n",
       "      <td>...</td>\n",
       "      <td>...</td>\n",
       "      <td>...</td>\n",
       "    </tr>\n",
       "  </tbody>\n",
       "</table>\n",
       "</div><div>3 out of 5 available columns in the catalog have been loaded <strong>lazily</strong>, meaning no data has been read, only the catalog schema</div>"
      ]
     },
     "execution_count": 33,
     "metadata": {},
     "output_type": "execute_result"
    }
   ],
   "execution_count": 33
  },
  {
   "metadata": {
    "ExecuteTime": {
     "end_time": "2025-09-25T17:49:24.880007Z",
     "start_time": "2025-09-25T17:49:24.876164Z"
    }
   },
   "cell_type": "code",
   "source": "cat.hc_structure.",
   "id": "74f9a438306185ba",
   "outputs": [
    {
     "data": {
      "text/plain": [
       "['id', 'ra', 'dec', 'ra_error', 'dec_error']"
      ]
     },
     "execution_count": 34,
     "metadata": {},
     "output_type": "execute_result"
    }
   ],
   "execution_count": 34
  },
  {
   "metadata": {
    "ExecuteTime": {
     "end_time": "2025-09-25T17:53:42.019718Z",
     "start_time": "2025-09-25T17:53:41.926167Z"
    }
   },
   "cell_type": "code",
   "source": [
    "default_cols = get_default_columns(cat_path)\n",
    "cat = lsdb.open_catalog(cat_path, columns=default_cols + [\"ra_error\"])\n",
    "cat"
   ],
   "id": "556ae21c19062f62",
   "outputs": [
    {
     "data": {
      "text/plain": [
       "Dask NestedFrame Structure:\n",
       "                                  ra              dec              id        ra_error\n",
       "npartitions=4                                                                        \n",
       "3170534137668829184  double[pyarrow]  double[pyarrow]  int64[pyarrow]  int64[pyarrow]\n",
       "3242591731706757120              ...              ...             ...             ...\n",
       "3314649325744685056              ...              ...             ...             ...\n",
       "3386706919782612992              ...              ...             ...             ...\n",
       "3458764513820540928              ...              ...             ...             ...\n",
       "Dask Name: nestedframe, 3 expressions\n",
       "Expr=MapPartitions(NestedFrame)"
      ],
      "text/html": [
       "<div><strong>lsdb Catalog small_sky_order1_default_columns:</strong></div><div>\n",
       "<style scoped>\n",
       "    .dataframe tbody tr th:only-of-type {\n",
       "        vertical-align: middle;\n",
       "    }\n",
       "\n",
       "    .dataframe tbody tr th {\n",
       "        vertical-align: top;\n",
       "    }\n",
       "\n",
       "    .dataframe thead th {\n",
       "        text-align: right;\n",
       "    }\n",
       "</style>\n",
       "<table border=\"1\" class=\"dataframe\">\n",
       "  <thead>\n",
       "    <tr style=\"text-align: right;\">\n",
       "      <th></th>\n",
       "      <th>ra</th>\n",
       "      <th>dec</th>\n",
       "      <th>id</th>\n",
       "      <th>ra_error</th>\n",
       "    </tr>\n",
       "    <tr>\n",
       "      <th>npartitions=4</th>\n",
       "      <th></th>\n",
       "      <th></th>\n",
       "      <th></th>\n",
       "      <th></th>\n",
       "    </tr>\n",
       "  </thead>\n",
       "  <tbody>\n",
       "    <tr>\n",
       "      <th>Order: 1, Pixel: 44</th>\n",
       "      <td>double[pyarrow]</td>\n",
       "      <td>double[pyarrow]</td>\n",
       "      <td>int64[pyarrow]</td>\n",
       "      <td>int64[pyarrow]</td>\n",
       "    </tr>\n",
       "    <tr>\n",
       "      <th>Order: 1, Pixel: 45</th>\n",
       "      <td>...</td>\n",
       "      <td>...</td>\n",
       "      <td>...</td>\n",
       "      <td>...</td>\n",
       "    </tr>\n",
       "    <tr>\n",
       "      <th>Order: 1, Pixel: 46</th>\n",
       "      <td>...</td>\n",
       "      <td>...</td>\n",
       "      <td>...</td>\n",
       "      <td>...</td>\n",
       "    </tr>\n",
       "    <tr>\n",
       "      <th>Order: 1, Pixel: 47</th>\n",
       "      <td>...</td>\n",
       "      <td>...</td>\n",
       "      <td>...</td>\n",
       "      <td>...</td>\n",
       "    </tr>\n",
       "  </tbody>\n",
       "</table>\n",
       "</div><div>4 out of 5 available columns in the catalog have been loaded <strong>lazily</strong>, meaning no data has been read, only the catalog schema</div>"
      ]
     },
     "execution_count": 38,
     "metadata": {},
     "output_type": "execute_result"
    }
   ],
   "execution_count": 38
  },
  {
   "metadata": {
    "ExecuteTime": {
     "end_time": "2025-09-25T17:54:02.353213Z",
     "start_time": "2025-09-25T17:54:02.306906Z"
    }
   },
   "cell_type": "code",
   "source": [
    "cat = open_catalog_keep(cat_path, columns=[\"ra_error\"], keep_default_columns=True)\n",
    "cat"
   ],
   "id": "6d6bcf4e8bad1d9c",
   "outputs": [
    {
     "data": {
      "text/plain": [
       "Dask NestedFrame Structure:\n",
       "                                  ra              dec              id        ra_error\n",
       "npartitions=4                                                                        \n",
       "3170534137668829184  double[pyarrow]  double[pyarrow]  int64[pyarrow]  int64[pyarrow]\n",
       "3242591731706757120              ...              ...             ...             ...\n",
       "3314649325744685056              ...              ...             ...             ...\n",
       "3386706919782612992              ...              ...             ...             ...\n",
       "3458764513820540928              ...              ...             ...             ...\n",
       "Dask Name: nestedframe, 3 expressions\n",
       "Expr=MapPartitions(NestedFrame)"
      ],
      "text/html": [
       "<div><strong>lsdb Catalog small_sky_order1_default_columns:</strong></div><div>\n",
       "<style scoped>\n",
       "    .dataframe tbody tr th:only-of-type {\n",
       "        vertical-align: middle;\n",
       "    }\n",
       "\n",
       "    .dataframe tbody tr th {\n",
       "        vertical-align: top;\n",
       "    }\n",
       "\n",
       "    .dataframe thead th {\n",
       "        text-align: right;\n",
       "    }\n",
       "</style>\n",
       "<table border=\"1\" class=\"dataframe\">\n",
       "  <thead>\n",
       "    <tr style=\"text-align: right;\">\n",
       "      <th></th>\n",
       "      <th>ra</th>\n",
       "      <th>dec</th>\n",
       "      <th>id</th>\n",
       "      <th>ra_error</th>\n",
       "    </tr>\n",
       "    <tr>\n",
       "      <th>npartitions=4</th>\n",
       "      <th></th>\n",
       "      <th></th>\n",
       "      <th></th>\n",
       "      <th></th>\n",
       "    </tr>\n",
       "  </thead>\n",
       "  <tbody>\n",
       "    <tr>\n",
       "      <th>Order: 1, Pixel: 44</th>\n",
       "      <td>double[pyarrow]</td>\n",
       "      <td>double[pyarrow]</td>\n",
       "      <td>int64[pyarrow]</td>\n",
       "      <td>int64[pyarrow]</td>\n",
       "    </tr>\n",
       "    <tr>\n",
       "      <th>Order: 1, Pixel: 45</th>\n",
       "      <td>...</td>\n",
       "      <td>...</td>\n",
       "      <td>...</td>\n",
       "      <td>...</td>\n",
       "    </tr>\n",
       "    <tr>\n",
       "      <th>Order: 1, Pixel: 46</th>\n",
       "      <td>...</td>\n",
       "      <td>...</td>\n",
       "      <td>...</td>\n",
       "      <td>...</td>\n",
       "    </tr>\n",
       "    <tr>\n",
       "      <th>Order: 1, Pixel: 47</th>\n",
       "      <td>...</td>\n",
       "      <td>...</td>\n",
       "      <td>...</td>\n",
       "      <td>...</td>\n",
       "    </tr>\n",
       "  </tbody>\n",
       "</table>\n",
       "</div><div>4 out of 5 available columns in the catalog have been loaded <strong>lazily</strong>, meaning no data has been read, only the catalog schema</div>"
      ]
     },
     "execution_count": 39,
     "metadata": {},
     "output_type": "execute_result"
    }
   ],
   "execution_count": 39
  },
  {
   "metadata": {
    "ExecuteTime": {
     "end_time": "2025-09-25T17:54:13.945625Z",
     "start_time": "2025-09-25T17:54:13.893944Z"
    }
   },
   "cell_type": "code",
   "source": [
    "cat = open_catalog_addl(cat_path, addl_columns=[\"ra_error\"])\n",
    "cat"
   ],
   "id": "d7b24c35252344a7",
   "outputs": [
    {
     "data": {
      "text/plain": [
       "Dask NestedFrame Structure:\n",
       "                                  ra              dec              id        ra_error\n",
       "npartitions=4                                                                        \n",
       "3170534137668829184  double[pyarrow]  double[pyarrow]  int64[pyarrow]  int64[pyarrow]\n",
       "3242591731706757120              ...              ...             ...             ...\n",
       "3314649325744685056              ...              ...             ...             ...\n",
       "3386706919782612992              ...              ...             ...             ...\n",
       "3458764513820540928              ...              ...             ...             ...\n",
       "Dask Name: nestedframe, 3 expressions\n",
       "Expr=MapPartitions(NestedFrame)"
      ],
      "text/html": [
       "<div><strong>lsdb Catalog small_sky_order1_default_columns:</strong></div><div>\n",
       "<style scoped>\n",
       "    .dataframe tbody tr th:only-of-type {\n",
       "        vertical-align: middle;\n",
       "    }\n",
       "\n",
       "    .dataframe tbody tr th {\n",
       "        vertical-align: top;\n",
       "    }\n",
       "\n",
       "    .dataframe thead th {\n",
       "        text-align: right;\n",
       "    }\n",
       "</style>\n",
       "<table border=\"1\" class=\"dataframe\">\n",
       "  <thead>\n",
       "    <tr style=\"text-align: right;\">\n",
       "      <th></th>\n",
       "      <th>ra</th>\n",
       "      <th>dec</th>\n",
       "      <th>id</th>\n",
       "      <th>ra_error</th>\n",
       "    </tr>\n",
       "    <tr>\n",
       "      <th>npartitions=4</th>\n",
       "      <th></th>\n",
       "      <th></th>\n",
       "      <th></th>\n",
       "      <th></th>\n",
       "    </tr>\n",
       "  </thead>\n",
       "  <tbody>\n",
       "    <tr>\n",
       "      <th>Order: 1, Pixel: 44</th>\n",
       "      <td>double[pyarrow]</td>\n",
       "      <td>double[pyarrow]</td>\n",
       "      <td>int64[pyarrow]</td>\n",
       "      <td>int64[pyarrow]</td>\n",
       "    </tr>\n",
       "    <tr>\n",
       "      <th>Order: 1, Pixel: 45</th>\n",
       "      <td>...</td>\n",
       "      <td>...</td>\n",
       "      <td>...</td>\n",
       "      <td>...</td>\n",
       "    </tr>\n",
       "    <tr>\n",
       "      <th>Order: 1, Pixel: 46</th>\n",
       "      <td>...</td>\n",
       "      <td>...</td>\n",
       "      <td>...</td>\n",
       "      <td>...</td>\n",
       "    </tr>\n",
       "    <tr>\n",
       "      <th>Order: 1, Pixel: 47</th>\n",
       "      <td>...</td>\n",
       "      <td>...</td>\n",
       "      <td>...</td>\n",
       "      <td>...</td>\n",
       "    </tr>\n",
       "  </tbody>\n",
       "</table>\n",
       "</div><div>4 out of 5 available columns in the catalog have been loaded <strong>lazily</strong>, meaning no data has been read, only the catalog schema</div>"
      ]
     },
     "execution_count": 40,
     "metadata": {},
     "output_type": "execute_result"
    }
   ],
   "execution_count": 40
  },
  {
   "metadata": {
    "ExecuteTime": {
     "end_time": "2025-09-25T17:49:26.790809Z",
     "start_time": "2025-09-25T17:49:26.770755Z"
    }
   },
   "cell_type": "code",
   "source": [
    "cat = open_catalog_star(cat_path, columns=[\"*\", \"ra_error\"])\n",
    "cat"
   ],
   "id": "b69b551653b5c31d",
   "outputs": [
    {
     "data": {
      "text/plain": [
       "Dask NestedFrame Structure:\n",
       "                                  ra              dec              id        ra_error\n",
       "npartitions=4                                                                        \n",
       "3170534137668829184  double[pyarrow]  double[pyarrow]  int64[pyarrow]  int64[pyarrow]\n",
       "3242591731706757120              ...              ...             ...             ...\n",
       "3314649325744685056              ...              ...             ...             ...\n",
       "3386706919782612992              ...              ...             ...             ...\n",
       "3458764513820540928              ...              ...             ...             ...\n",
       "Dask Name: nestedframe, 3 expressions\n",
       "Expr=MapPartitions(NestedFrame)"
      ],
      "text/html": [
       "<div><strong>lsdb Catalog small_sky_order1_default_columns:</strong></div><div>\n",
       "<style scoped>\n",
       "    .dataframe tbody tr th:only-of-type {\n",
       "        vertical-align: middle;\n",
       "    }\n",
       "\n",
       "    .dataframe tbody tr th {\n",
       "        vertical-align: top;\n",
       "    }\n",
       "\n",
       "    .dataframe thead th {\n",
       "        text-align: right;\n",
       "    }\n",
       "</style>\n",
       "<table border=\"1\" class=\"dataframe\">\n",
       "  <thead>\n",
       "    <tr style=\"text-align: right;\">\n",
       "      <th></th>\n",
       "      <th>ra</th>\n",
       "      <th>dec</th>\n",
       "      <th>id</th>\n",
       "      <th>ra_error</th>\n",
       "    </tr>\n",
       "    <tr>\n",
       "      <th>npartitions=4</th>\n",
       "      <th></th>\n",
       "      <th></th>\n",
       "      <th></th>\n",
       "      <th></th>\n",
       "    </tr>\n",
       "  </thead>\n",
       "  <tbody>\n",
       "    <tr>\n",
       "      <th>Order: 1, Pixel: 44</th>\n",
       "      <td>double[pyarrow]</td>\n",
       "      <td>double[pyarrow]</td>\n",
       "      <td>int64[pyarrow]</td>\n",
       "      <td>int64[pyarrow]</td>\n",
       "    </tr>\n",
       "    <tr>\n",
       "      <th>Order: 1, Pixel: 45</th>\n",
       "      <td>...</td>\n",
       "      <td>...</td>\n",
       "      <td>...</td>\n",
       "      <td>...</td>\n",
       "    </tr>\n",
       "    <tr>\n",
       "      <th>Order: 1, Pixel: 46</th>\n",
       "      <td>...</td>\n",
       "      <td>...</td>\n",
       "      <td>...</td>\n",
       "      <td>...</td>\n",
       "    </tr>\n",
       "    <tr>\n",
       "      <th>Order: 1, Pixel: 47</th>\n",
       "      <td>...</td>\n",
       "      <td>...</td>\n",
       "      <td>...</td>\n",
       "      <td>...</td>\n",
       "    </tr>\n",
       "  </tbody>\n",
       "</table>\n",
       "</div><div>4 out of 5 available columns in the catalog have been loaded <strong>lazily</strong>, meaning no data has been read, only the catalog schema</div>"
      ]
     },
     "execution_count": 35,
     "metadata": {},
     "output_type": "execute_result"
    }
   ],
   "execution_count": 35
  },
  {
   "metadata": {},
   "cell_type": "code",
   "outputs": [],
   "execution_count": null,
   "source": "",
   "id": "502a9b816cd5f2a7"
  }
 ],
 "metadata": {
  "kernelspec": {
   "display_name": "Python 3",
   "language": "python",
   "name": "python3"
  },
  "language_info": {
   "codemirror_mode": {
    "name": "ipython",
    "version": 2
   },
   "file_extension": ".py",
   "mimetype": "text/x-python",
   "name": "python",
   "nbconvert_exporter": "python",
   "pygments_lexer": "ipython2",
   "version": "2.7.6"
  }
 },
 "nbformat": 4,
 "nbformat_minor": 5
}
