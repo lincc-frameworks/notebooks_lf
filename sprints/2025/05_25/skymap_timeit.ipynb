{
 "cells": [
  {
   "cell_type": "markdown",
   "id": "a99dc5ab",
   "metadata": {},
   "source": [
    "# Performance improvement with alternative skymaps\n",
    "\n",
    "Feedback from IVOA application working group included recommendation that we include skymaps already down-sampled to some orders less than the original histogram binning order.\n",
    "\n",
    "See also: https://github.com/lincc-frameworks/hats-ivoa/issues/16\n",
    "\n",
    "This should, in theory, speed up rendering of survey preview images.\n",
    "\n",
    "This notebook tests that theory, using a preliminary implementation of downsampled skymap writing, as well as inferring the best skymap to read based on the requested order."
   ]
  },
  {
   "cell_type": "code",
   "execution_count": null,
   "id": "6e1ce56c",
   "metadata": {},
   "outputs": [],
   "source": [
    "from pathlib import Path\n",
    "from hats.io import file_io\n",
    "from matplotlib import pyplot as plt\n",
    "import hats\n",
    "from hats.inspection import plot_density\n",
    "import timeit\n",
    "import warnings\n",
    "\n",
    "## These lines take a basic point map file and create a new catalog with skymap and 2, 4, 6, 8 downsampled skymaps.\n",
    "\n",
    "# catalog_dir = Path(\"/home/delucchi/git/ivoa/skymap/tests/data/small_sky_source skymap\")\n",
    "\n",
    "# point_map = file_io.read_fits_image(catalog_dir/\"point_map.fits\")\n",
    "\n",
    "# file_io.write_skymap(point_map, catalog_dir, orders=[2, 4, 6, 8])"
   ]
  },
  {
   "cell_type": "code",
   "execution_count": 7,
   "id": "6d231409",
   "metadata": {},
   "outputs": [],
   "source": [
    "catalog = hats.read_hats(\"/home/delucchi/git/ivoa/skymap/tests/data/small_sky_source\")"
   ]
  },
  {
   "cell_type": "markdown",
   "id": "7afb3fe5",
   "metadata": {},
   "source": [
    "## Pointmap timings\n",
    "\n",
    "Pretty simple - this is only using the old (existing) code path, that loads the entire skymap from point_map.fits, and down-samples as appropriate.\n",
    "\n",
    "Much of the time is spent in rendering, not in reading, since this is a local file."
   ]
  },
  {
   "cell_type": "code",
   "execution_count": null,
   "id": "2d9f3baf",
   "metadata": {},
   "outputs": [
    {
     "name": "stdout",
     "output_type": "stream",
     "text": [
      "1.87 s ± 34.5 ms per loop (mean ± std. dev. of 7 runs, 1 loop each)\n",
      "10\n",
      "1.87 s ± 34.5 ms per loop (mean ± std. dev. of 7 runs, 1 loop each)\n",
      "1.71 s ± 4.69 ms per loop (mean ± std. dev. of 7 runs, 1 loop each)\n",
      "9\n",
      "1.71 s ± 4.69 ms per loop (mean ± std. dev. of 7 runs, 1 loop each)\n",
      "1.65 s ± 11.2 ms per loop (mean ± std. dev. of 7 runs, 1 loop each)\n",
      "8\n",
      "1.65 s ± 11.2 ms per loop (mean ± std. dev. of 7 runs, 1 loop each)\n",
      "1.63 s ± 3.69 ms per loop (mean ± std. dev. of 7 runs, 1 loop each)\n",
      "7\n",
      "1.63 s ± 3.69 ms per loop (mean ± std. dev. of 7 runs, 1 loop each)\n",
      "614 ms ± 13.8 ms per loop (mean ± std. dev. of 7 runs, 1 loop each)\n",
      "6\n",
      "614 ms ± 13.8 ms per loop (mean ± std. dev. of 7 runs, 1 loop each)\n",
      "369 ms ± 13.4 ms per loop (mean ± std. dev. of 7 runs, 1 loop each)\n",
      "5\n",
      "369 ms ± 13.4 ms per loop (mean ± std. dev. of 7 runs, 1 loop each)\n",
      "297 ms ± 11 ms per loop (mean ± std. dev. of 7 runs, 1 loop each)\n",
      "4\n",
      "297 ms ± 11 ms per loop (mean ± std. dev. of 7 runs, 1 loop each)\n",
      "297 ms ± 5.82 ms per loop (mean ± std. dev. of 7 runs, 1 loop each)\n",
      "3\n",
      "297 ms ± 5.82 ms per loop (mean ± std. dev. of 7 runs, 1 loop each)\n",
      "292 ms ± 6.56 ms per loop (mean ± std. dev. of 7 runs, 1 loop each)\n",
      "2\n",
      "292 ms ± 6.56 ms per loop (mean ± std. dev. of 7 runs, 1 loop each)\n",
      "296 ms ± 6.9 ms per loop (mean ± std. dev. of 7 runs, 1 loop each)\n",
      "1\n",
      "296 ms ± 6.9 ms per loop (mean ± std. dev. of 7 runs, 1 loop each)\n"
     ]
    }
   ],
   "source": [
    "point_map_timings = []\n",
    "with warnings.catch_warnings():\n",
    "    warnings.simplefilter(\"ignore\")\n",
    "    for i in range(10, 0, -1):\n",
    "        %timeit -v timing plot_density(catalog, order=i);\n",
    "        print(i)\n",
    "        print(timing)\n",
    "        point_map_timings.append(timing)\n",
    "        plt.close()"
   ]
  },
  {
   "cell_type": "code",
   "execution_count": 9,
   "id": "7b609887",
   "metadata": {},
   "outputs": [],
   "source": [
    "catalog = hats.read_hats(\"/home/delucchi/git/ivoa/skymap/tests/data/small_sky_source_skymap\")"
   ]
  },
  {
   "cell_type": "markdown",
   "id": "dce433ce",
   "metadata": {},
   "source": [
    "## Skymap timings\n",
    "\n",
    "For order=10, we need to read from the order 10 original resolution skymap.\n",
    "\n",
    "We only have down-sampled skymaps for orders 2, 4, 6, 8, so if we provide an odd number (or 0), the new implementation tries to be a little clever, and fetch just the next highest (e.g. if requesting 5, get the order 6 skymap and downsample)."
   ]
  },
  {
   "cell_type": "code",
   "execution_count": null,
   "id": "fb58bde8",
   "metadata": {},
   "outputs": [
    {
     "name": "stdout",
     "output_type": "stream",
     "text": [
      "1.83 s ± 11.4 ms per loop (mean ± std. dev. of 7 runs, 1 loop each)\n",
      "10\n",
      "1.83 s ± 11.4 ms per loop (mean ± std. dev. of 7 runs, 1 loop each)\n",
      "1.69 s ± 9.15 ms per loop (mean ± std. dev. of 7 runs, 1 loop each)\n",
      "9\n",
      "1.69 s ± 9.15 ms per loop (mean ± std. dev. of 7 runs, 1 loop each)\n",
      "1.43 s ± 12.4 ms per loop (mean ± std. dev. of 7 runs, 1 loop each)\n",
      "8\n",
      "1.43 s ± 12.4 ms per loop (mean ± std. dev. of 7 runs, 1 loop each)\n",
      "1.43 s ± 2.82 ms per loop (mean ± std. dev. of 7 runs, 1 loop each)\n",
      "7\n",
      "1.43 s ± 2.82 ms per loop (mean ± std. dev. of 7 runs, 1 loop each)\n",
      "374 ms ± 3.02 ms per loop (mean ± std. dev. of 7 runs, 1 loop each)\n",
      "6\n",
      "374 ms ± 3.02 ms per loop (mean ± std. dev. of 7 runs, 1 loop each)\n",
      "130 ms ± 1.85 ms per loop (mean ± std. dev. of 7 runs, 10 loops each)\n",
      "5\n",
      "130 ms ± 1.85 ms per loop (mean ± std. dev. of 7 runs, 10 loops each)\n",
      "76.8 ms ± 2.89 ms per loop (mean ± std. dev. of 7 runs, 10 loops each)\n",
      "4\n",
      "76.8 ms ± 2.89 ms per loop (mean ± std. dev. of 7 runs, 10 loops each)\n",
      "68.1 ms ± 2.83 ms per loop (mean ± std. dev. of 7 runs, 10 loops each)\n",
      "3\n",
      "68.1 ms ± 2.83 ms per loop (mean ± std. dev. of 7 runs, 10 loops each)\n",
      "68.7 ms ± 4.55 ms per loop (mean ± std. dev. of 7 runs, 10 loops each)\n",
      "2\n",
      "68.7 ms ± 4.55 ms per loop (mean ± std. dev. of 7 runs, 10 loops each)\n",
      "70.9 ms ± 3.08 ms per loop (mean ± std. dev. of 7 runs, 10 loops each)\n",
      "1\n",
      "70.9 ms ± 3.08 ms per loop (mean ± std. dev. of 7 runs, 10 loops each)\n"
     ]
    }
   ],
   "source": [
    "skymap_timings = []\n",
    "with warnings.catch_warnings():\n",
    "    warnings.simplefilter(\"ignore\")\n",
    "    for i in range(10, 0, -1):\n",
    "        %timeit -v timing plot_density(catalog, order=i);\n",
    "        print(i)\n",
    "        print(timing)\n",
    "        skymap_timings.append(timing)\n",
    "        plt.close()"
   ]
  },
  {
   "cell_type": "code",
   "execution_count": 13,
   "id": "fe4a4d76",
   "metadata": {},
   "outputs": [
    {
     "data": {
      "text/plain": [
       "Text(0.5, 1.0, 'Time to render density plot for point map vs skymap')"
      ]
     },
     "execution_count": 13,
     "metadata": {},
     "output_type": "execute_result"
    },
    {
     "data": {
      "image/png": "[encoded data removed]",
      "text/plain": [
       "<Figure size 640x480 with 1 Axes>"
      ]
     },
     "metadata": {},
     "output_type": "display_data"
    }
   ],
   "source": [
    "means = [time.average for time in point_map_timings]\n",
    "std_err = [time.stdev for time in point_map_timings]\n",
    "orders=range(10, 0, -1)\n",
    "\n",
    "plt.errorbar(orders, means, yerr=std_err, fmt='o--')\n",
    "\n",
    "means = [time.average for time in skymap_timings]\n",
    "std_err = [time.stdev for time in skymap_timings]\n",
    "orders=range(10, 0, -1)\n",
    "\n",
    "plt.errorbar(orders, means, yerr=std_err, fmt='s-')\n",
    "\n",
    "plt.xlabel('Requested Order')\n",
    "plt.ylabel('Average Time (seconds)')\n",
    "plt.title('Time to render density plot for point map vs skymap')"
   ]
  },
  {
   "cell_type": "markdown",
   "id": "e0219ab2",
   "metadata": {},
   "source": [
    "## Discussion\n",
    "\n",
    "We see a very similar trend between the two methods, and much of the time for either is spent in rendering the image.\n",
    "\n",
    "The large jump from order 6 ot 7 is likely due to additional logic required in `_merge_too_small_pixels`.\n",
    "\n",
    "It's fun to see that for the skymap implementation, orders 7 and 8 see a very similar speed improvement."
   ]
  },
  {
   "cell_type": "code",
   "execution_count": null,
   "id": "1d52259b",
   "metadata": {},
   "outputs": [],
   "source": []
  }
 ],
 "metadata": {
  "kernelspec": {
   "display_name": "may",
   "language": "python",
   "name": "python3"
  },
  "language_info": {
   "codemirror_mode": {
    "name": "ipython",
    "version": 3
   },
   "file_extension": ".py",
   "mimetype": "text/x-python",
   "name": "python",
   "nbconvert_exporter": "python",
   "pygments_lexer": "ipython3",
   "version": "3.12.3"
  }
 },
 "nbformat": 4,
 "nbformat_minor": 5
}
