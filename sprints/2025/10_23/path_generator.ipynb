{
 "cells": [
  {
   "cell_type": "markdown",
   "id": "4861062b",
   "metadata": {},
   "source": [
    "## Path Generator (applied to Gaia DR4)\n",
    "\n",
    "This notebook demonstrates how to use custom path generators with LSDB. \n",
    "\n",
    "These generators are useful for HATS-like catalogs with parquet files stored in a different directory structure."
   ]
  },
  {
   "cell_type": "code",
   "execution_count": 1,
   "id": "84f2996c",
   "metadata": {},
   "outputs": [],
   "source": [
    "import os\n",
    "import lsdb\n",
    "import hats.io.file_io as file_io\n",
    "import hats.io.paths as paths\n",
    "import pandas as pd\n",
    "\n",
    "from dask.distributed import Client\n",
    "from glob import glob\n",
    "from hats.catalog import PartitionInfo\n",
    "from hats.catalog.dataset.table_properties import TableProperties\n",
    "from hats.io.file_io import write_parquet_metadata\n",
    "from hats.io.file_io.file_pointer import get_upath\n",
    "from hats.pixel_math.healpix_pixel import HealpixPixel\n",
    "from lsdb import ConeSearch\n",
    "from lsdb.loaders.hats.path_generator import PathGenerator\n",
    "from upath import UPath"
   ]
  },
  {
   "cell_type": "markdown",
   "id": "2c616049",
   "metadata": {},
   "source": [
    "For demonstration purposes we'll use Gaia DR3 formatted in the DR4 directory structure. \n",
    "\n",
    "We'll call it \"Gaia DR4\" even though such statement is not accurate."
   ]
  },
  {
   "cell_type": "code",
   "execution_count": 2,
   "id": "cde4fa15",
   "metadata": {},
   "outputs": [],
   "source": [
    "GAIA_DR4_DIR = \"/Users/scampos/HatsSource\""
   ]
  },
  {
   "cell_type": "code",
   "execution_count": 3,
   "id": "f3b26943",
   "metadata": {},
   "outputs": [],
   "source": [
    "client = Client(n_workers=3)"
   ]
  },
  {
   "cell_type": "markdown",
   "id": "f95bced3",
   "metadata": {},
   "source": [
    "### Gaia helper methods\n",
    "\n",
    "These methods help converting a HEALPix to a Gaia region and vice-versa."
   ]
  },
  {
   "cell_type": "code",
   "execution_count": 4,
   "id": "4927e8f4",
   "metadata": {},
   "outputs": [],
   "source": [
    "def healpix_to_region_id(order, npix):\n",
    "    digits = []\n",
    "    for power in range(order, -1, -1):\n",
    "        factor = 4**power\n",
    "        digit = npix // factor\n",
    "        digits.append(format(digit, \"x\"))\n",
    "        npix %= factor\n",
    "    return \"\".join(digits)\n",
    "\n",
    "\n",
    "def region_id_to_healpix(region_id):\n",
    "    order = len(region_id) - 1\n",
    "    npix = 0\n",
    "    for i in range(0, order + 1):\n",
    "        npix = (npix * 4) + int(region_id[i : i + 1], base=16)\n",
    "    return HealpixPixel(order, npix)\n",
    "\n",
    "\n",
    "def get_region_ids():\n",
    "    pattern = os.path.join(GAIA_DR4_DIR, \"**\", \"region=*\")\n",
    "    region_dirs = [d for d in glob(pattern) if os.path.isdir(d)]\n",
    "    return [os.path.basename(d).split(\"=\", 1)[1] for d in region_dirs]"
   ]
  },
  {
   "cell_type": "markdown",
   "id": "aac5d524",
   "metadata": {},
   "source": [
    "### Create HATS properties and metadata\n",
    "\n",
    "The catalog properties and metadata files should live where HATS expects them."
   ]
  },
  {
   "cell_type": "code",
   "execution_count": 5,
   "id": "3e13937e",
   "metadata": {},
   "outputs": [],
   "source": [
    "def read_pyarrow_dataset():\n",
    "    catalog_path = get_upath(GAIA_DR4_DIR)\n",
    "    dataset_subdir = catalog_path / \"data\"\n",
    "    (_, dataset) = file_io.read_parquet_dataset(dataset_subdir)\n",
    "    return dataset\n",
    "\n",
    "\n",
    "def create_hats_properties(total_rows):\n",
    "    props = TableProperties(\n",
    "        catalog_name=\"Gaia_DR3\",\n",
    "        catalog_type=\"object\",\n",
    "        total_rows=total_rows,\n",
    "        ra_column=\"ra\",\n",
    "        dec_column=\"dec\",\n",
    "        healpix_column=\"healpix29\",\n",
    "        healpix_order=29,\n",
    "    )\n",
    "    props.to_properties_file(GAIA_DR4_DIR)\n",
    "\n",
    "\n",
    "def write_partition_info():\n",
    "    pixels = [region_id_to_healpix(region_id) for region_id in get_region_ids()]\n",
    "    PartitionInfo(pixels).write_to_file(f\"{GAIA_DR4_DIR}/partition_info.csv\")\n",
    "\n",
    "\n",
    "def write_common_metadata(schema):\n",
    "    common_metadata_file_pointer = paths.get_common_metadata_pointer(GAIA_DR4_DIR)\n",
    "    common_metadata_file_pointer.parent.mkdir(exist_ok=True)\n",
    "    write_parquet_metadata(schema, common_metadata_file_pointer)\n",
    "\n",
    "\n",
    "dataset = read_pyarrow_dataset()\n",
    "create_hats_properties(total_rows=dataset.count_rows())\n",
    "write_partition_info()\n",
    "write_common_metadata(dataset.schema)"
   ]
  },
  {
   "cell_type": "markdown",
   "id": "e170ca61",
   "metadata": {},
   "source": [
    "### Read the catalogs and crossmatch\n",
    "\n",
    "A very small cone search:"
   ]
  },
  {
   "cell_type": "code",
   "execution_count": 6,
   "id": "cee3457e",
   "metadata": {},
   "outputs": [],
   "source": [
    "cone = ConeSearch(ra=270, dec=30, radius_arcsec=2 * 3600)\n",
    "columns = [\"source_id\", \"ra\", \"dec\"]"
   ]
  },
  {
   "cell_type": "markdown",
   "id": "d8ff5c0a",
   "metadata": {},
   "source": [
    "Reading Gaia DR3 in HATS using the default PathGenerator:"
   ]
  },
  {
   "cell_type": "code",
   "execution_count": 7,
   "id": "53ffa221",
   "metadata": {},
   "outputs": [],
   "source": [
    "gaia_dr3 = lsdb.open_catalog(\n",
    "    \"s3://stpubdata/gaia/gaia_dr3/public/hats\", search_filter=cone, columns=columns\n",
    ")"
   ]
  },
  {
   "cell_type": "code",
   "execution_count": 8,
   "id": "c92e5c2b",
   "metadata": {},
   "outputs": [
    {
     "data": {
      "text/plain": [
       "{'catalog_base_dir': S3Path('s3://stpubdata/gaia/gaia_dr3/public/hats/gaia_10arcs'),\n",
       " 'npix_suffix': '.parquet',\n",
       " 'query_url_params': None}"
      ]
     },
     "execution_count": 8,
     "metadata": {},
     "output_type": "execute_result"
    }
   ],
   "source": [
    "assert isinstance(gaia_dr3.loading_config.path_generator, PathGenerator)\n",
    "gaia_dr3.loading_config.path_generator.__dict__"
   ]
  },
  {
   "cell_type": "markdown",
   "id": "132041b5",
   "metadata": {},
   "source": [
    "Gaia DR4 requires a custom path generator:"
   ]
  },
  {
   "cell_type": "code",
   "execution_count": 9,
   "id": "256092e6",
   "metadata": {},
   "outputs": [],
   "source": [
    "class GaiaPathGenerator(PathGenerator):\n",
    "    \"\"\"Reads files in the Gaia DR4 format.\"\"\"\n",
    "\n",
    "    def __init__(self, data_dir: str):\n",
    "        super().__init__()\n",
    "        self.data_dir = data_dir\n",
    "\n",
    "    def __call__(self, pixel: HealpixPixel) -> UPath:\n",
    "        region_id = healpix_to_region_id(pixel.order, pixel.pixel)\n",
    "        return self.catalog_base_dir / self.data_dir / f\"region={region_id}\"\n",
    "\n",
    "gaia_dr4 = lsdb.open_catalog(\n",
    "    GAIA_DR4_DIR,\n",
    "    search_filter=cone,\n",
    "    columns=columns,\n",
    "    path_generator=GaiaPathGenerator(data_dir=\"data\"),\n",
    ")"
   ]
  },
  {
   "cell_type": "markdown",
   "id": "947fc71b",
   "metadata": {},
   "source": [
    "Having a look at the loading config:"
   ]
  },
  {
   "cell_type": "code",
   "execution_count": 10,
   "id": "c1aa42ab",
   "metadata": {},
   "outputs": [
    {
     "data": {
      "text/plain": [
       "{'data_dir': 'data',\n",
       " 'catalog_base_dir': PosixUPath('/Users/scampos/HatsSource'),\n",
       " 'npix_suffix': '.parquet',\n",
       " 'query_url_params': None}"
      ]
     },
     "execution_count": 10,
     "metadata": {},
     "output_type": "execute_result"
    }
   ],
   "source": [
    "assert isinstance(gaia_dr4.loading_config.path_generator, GaiaPathGenerator)\n",
    "gaia_dr4.loading_config.path_generator.__dict__"
   ]
  },
  {
   "cell_type": "markdown",
   "id": "db9e8669",
   "metadata": {},
   "source": [
    "- The columns are not present in the query_params since we're not accessing via HTTP.\n",
    "\n",
    "- **[TODO]**: We should still generate the filters using the moc when the healpix column != \"_healpix29\"."
   ]
  },
  {
   "cell_type": "markdown",
   "id": "6d32c0b6",
   "metadata": {},
   "source": [
    "Quick sanity check to make sure we can reach the parquet files:"
   ]
  },
  {
   "cell_type": "code",
   "execution_count": 11,
   "id": "446aef5d",
   "metadata": {},
   "outputs": [],
   "source": [
    "cone_df = gaia_dr4.compute()"
   ]
  },
  {
   "cell_type": "markdown",
   "id": "e6006d7c",
   "metadata": {},
   "source": [
    "Let's also crossmatch with the existing Gaia DR3 HATS:"
   ]
  },
  {
   "cell_type": "code",
   "execution_count": 12,
   "id": "ac47dc87",
   "metadata": {},
   "outputs": [
    {
     "name": "stderr",
     "output_type": "stream",
     "text": [
      "/Users/scampos/lsdb/src/lsdb/catalog/catalog.py:257: FutureWarning: The default suffix behavior will change from applying suffixes to all columns to only applying suffixes to overlapping columns in a future release.To maintain the current behavior, explicitly set `suffix_method='all_columns'`. To change to the new behavior, set `suffix_method='overlapping_columns'`.\n",
      "  warnings.warn(\n"
     ]
    }
   ],
   "source": [
    "xmatch_cat = gaia_dr4.crossmatch(gaia_dr3, radius_arcsec=0.1, suffixes=(\"_left\", \"_right\"))"
   ]
  },
  {
   "cell_type": "markdown",
   "id": "86683601",
   "metadata": {},
   "source": [
    "We have exactly one match and their `source_id` match:"
   ]
  },
  {
   "cell_type": "code",
   "execution_count": 13,
   "id": "e4e4b7de",
   "metadata": {},
   "outputs": [],
   "source": [
    "xmatch_result = xmatch_cat.compute()\n",
    "assert len(xmatch_result) == len(cone_df)\n",
    "assert all(xmatch_result[\"source_id_left\"] == xmatch_result[\"source_id_right\"])"
   ]
  },
  {
   "cell_type": "code",
   "execution_count": 14,
   "id": "2f59d178",
   "metadata": {},
   "outputs": [],
   "source": [
    "client.close()"
   ]
  }
 ],
 "metadata": {
  "kernelspec": {
   "display_name": "lsdb",
   "language": "python",
   "name": "python3"
  },
  "language_info": {
   "codemirror_mode": {
    "name": "ipython",
    "version": 3
   },
   "file_extension": ".py",
   "mimetype": "text/x-python",
   "name": "python",
   "nbconvert_exporter": "python",
   "pygments_lexer": "ipython3",
   "version": "3.11.13"
  }
 },
 "nbformat": 4,
 "nbformat_minor": 5
}
