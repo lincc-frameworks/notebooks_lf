{
    "cells": [
     {
      "cell_type": "markdown",
      "id": "952c0365",
      "metadata": {},
      "source": [
       "# Loading margin catalog with Almanac\n",
       "\n",
       "**Author**: Melissa DeLucchi\n",
       "\n",
       "This notebook is a proof-of-concept for loading a catalog in lsdb, with its associated margin catalog. This uses catalog path, links, and other metadata stored in the hipscat `Almanac`.\n"
      ]
     },
     {
      "cell_type": "code",
      "execution_count": 1,
      "id": "92463597",
      "metadata": {},
      "outputs": [],
      "source": [
       "from hipscat.inspection.almanac import Almanac\n",
       "import lsdb"
      ]
     },
     {
      "cell_type": "markdown",
      "id": "b50a4ea2",
      "metadata": {},
      "source": [
       "Environment variables are hard with jupyter (and in shared compute environments), and I'm just coercing the almanac environment variable here."
      ]
     },
     {
      "cell_type": "code",
      "execution_count": 2,
      "id": "09e68e09",
      "metadata": {},
      "outputs": [
       {
        "name": "stdout",
        "output_type": "stream",
        "text": [
         "env: HIPSCAT_ALMANAC_DIR=/data3/epyc/data3/hipscat/almanac\n"
        ]
       }
      ],
      "source": [
       "%env HIPSCAT_ALMANAC_DIR=/data3/epyc/data3/hipscat/almanac"
      ]
     },
     {
      "cell_type": "markdown",
      "id": "27318176",
      "metadata": {},
      "source": [
       "What follows is a simple demonstration of a method to fetch the margin catalog of the primary catalog. \n",
       "\n",
       "- if the user provides a name of a margin, use that\n",
       "- if the catalog has a single margin catalog registered, use that\n",
       "- if there are 0 margins, print a warning\n",
       "- if there are >1 marings, print a warning with the name of the catalogs to pick from"
      ]
     },
     {
      "cell_type": "code",
      "execution_count": 3,
      "id": "f6804e33",
      "metadata": {},
      "outputs": [],
      "source": [
       "def load_catalog_and_margin(catalog_name, margin_name=None):\n",
       "    almanac = Almanac()\n",
       "    catalog = almanac.get_almanac_info(catalog_name)\n",
       "    print(catalog.catalog_path)\n",
       "    if len(catalog.margins) == 1 or margin_name is not None:\n",
       "        if margin_name is None:\n",
       "            margin_name = catalog.margins[0].catalog_name\n",
       "        print(\"using margin\", margin_name)\n",
       "        margin_path = almanac.get_almanac_info(margin_name).catalog_path\n",
       "        margin_catalog = lsdb.read_hipscat(margin_path)\n",
       "\n",
       "        primary_catalog = lsdb.read_hipscat(catalog.catalog_path, margin_cache=margin_catalog)\n",
       "        return primary_catalog\n",
       "    \n",
       "    if len(catalog.margins) == 0:\n",
       "        print(\"could not find a margin for\", catalog_name)\n",
       "    elif len(catalog.margins) > 1:\n",
       "        print(\"multiple margins - pick one\")\n",
       "        for margin in catalog.margins:\n",
       "            print(\"  -\", margin.catalog_name)\n",
       "    return lsdb.read_hipscat(catalog.catalog_path)\n",
       "    "
      ]
     },
     {
      "cell_type": "code",
      "execution_count": 4,
      "id": "e9b2250a",
      "metadata": {},
      "outputs": [
       {
        "name": "stdout",
        "output_type": "stream",
        "text": [
         "/data3/epyc/data3/hipscat/catalogs/gaia_dr3/gaia\n",
         "using margin gaia_10arcs\n"
        ]
       }
      ],
      "source": [
       "gaia = load_catalog_and_margin(\"gaia\")"
      ]
     },
     {
      "cell_type": "code",
      "execution_count": 5,
      "id": "cbadefd2",
      "metadata": {},
      "outputs": [
       {
        "name": "stdout",
        "output_type": "stream",
        "text": [
         "/data3/epyc/data3/hipscat/catalogs/allwise/allwise\n",
         "using margin allwise_10arcs\n"
        ]
       }
      ],
      "source": [
       "allwise = load_catalog_and_margin(\"allwise\")"
      ]
     },
     {
      "cell_type": "code",
      "execution_count": 6,
      "id": "fe56dd3b",
      "metadata": {},
      "outputs": [
       {
        "name": "stdout",
        "output_type": "stream",
        "text": [
         "/data3/epyc/data3/hipscat/catalogs/dr16q_constant\n",
         "multiple margins - pick one\n",
         "  - mq_15arcs\n",
         "  - mq_5arcs\n"
        ]
       }
      ],
      "source": [
       "milliquas = load_catalog_and_margin(\"dr16q_constant\")"
      ]
     },
     {
      "cell_type": "markdown",
      "id": "134bebd6",
      "metadata": {},
      "source": [
       "**Discussion**:\n",
       "\n",
       "I like the idea of making margin selection painless for users. I think we'd want to go a few steps further in our implementation within lsdb:\n",
       "\n",
       "```\n",
       "lsdb.read_hipscat(\n",
       "    catalog_path:str\n",
       "    use_margin:\n",
       "        bool - if True, seek out a single margin in the almanac\n",
       "             - if False (default?) do nothing\n",
       "        string - if this is a path, load a margin at the provided path\n",
       "               - else, use the almanac to find a margin with the indicated name associated with this catalog\n",
       "        MarginCatalog - a pre-loaded margin_catalog\n",
       "    **kwargs, etc\n",
       "```"
      ]
     }
    ],
    "metadata": {
     "kernelspec": {
      "display_name": "Melissa LSDB",
      "language": "python",
      "name": "mmd11_lsdb"
     },
     "language_info": {
      "codemirror_mode": {
       "name": "ipython",
       "version": 3
      },
      "file_extension": ".py",
      "mimetype": "text/x-python",
      "name": "python",
      "nbconvert_exporter": "python",
      "pygments_lexer": "ipython3",
      "version": "3.10.13"
     }
    },
    "nbformat": 4,
    "nbformat_minor": 5
   }