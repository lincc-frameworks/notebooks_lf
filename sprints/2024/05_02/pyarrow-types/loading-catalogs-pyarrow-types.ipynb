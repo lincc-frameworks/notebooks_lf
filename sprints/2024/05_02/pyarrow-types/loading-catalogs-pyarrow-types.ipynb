{
    "cells": [
        {
            "cell_type": "markdown",
            "id": "899ddfce",
            "metadata": {},
            "source": [
                "# Loading catalogs with pyarrow types"
            ]
        },
        {
            "cell_type": "code",
            "execution_count": 1,
            "id": "9a84ca9f",
            "metadata": {},
            "outputs": [],
            "source": [
                "%reload_ext autoreload\n",
                "%autoreload 2\n",
                "\n",
                "import dask\n",
                "import logging\n",
                "\n",
                "from dask.distributed import Client\n",
                "\n",
                "client = Client(n_workers=1, memory_limit=\"30G\", dashboard_address=':38766', silence_logs=logging.ERROR)"
            ]
        },
        {
            "cell_type": "code",
            "execution_count": 2,
            "id": "d098e118",
            "metadata": {},
            "outputs": [
                {
                    "name": "stdout",
                    "output_type": "stream",
                    "text": [
                        "Note: you may need to restart the kernel to use updated packages.\n"
                    ]
                }
            ],
            "source": [
                "%pip install -q git+https://github.com/astronomy-commons/lsdb.git@main"
            ]
        },
        {
            "cell_type": "code",
            "execution_count": 3,
            "id": "307c1807",
            "metadata": {},
            "outputs": [
                {
                    "name": "stdout",
                    "output_type": "stream",
                    "text": [
                        "0.2.2.dev8+g1609fe7\n"
                    ]
                }
            ],
            "source": [
                "import lsdb\n",
                "print(lsdb.__version__)"
            ]
        },
        {
            "cell_type": "code",
            "execution_count": 4,
            "id": "0cd1f890",
            "metadata": {},
            "outputs": [],
            "source": [
                "from dask.distributed import performance_report\n",
                "from IPython.display import IFrame, display\n",
                "\n",
                "from lsdb.core.search import ConeSearch\n",
                "\n",
                "def bottleneck_workflow():\n",
                "    ztf_source = \"/epyc/data3/hipscat/catalogs/ztf_axs/ztf_zource\"\n",
                "    search_filter = ConeSearch(ra=20, dec=-20, radius_arcsec=5*3600)\n",
                "    catalog = lsdb.read_hipscat(ztf_source, columns=[\"band\", \"mag\"], search_filter=search_filter)\n",
                "    print(catalog.dtypes)\n",
                "    print(catalog.compute())\n",
                "    \n",
                "def compute_performance(filename):\n",
                "    file = f\"{filename}.html\"\n",
                "    with performance_report(file):\n",
                "        bottleneck_workflow()\n",
                "    display(IFrame(file, 950, 500))"
            ]
        },
        {
            "cell_type": "markdown",
            "id": "c3b5d6ba",
            "metadata": {},
            "source": [
                "We have been using whatever data types the user imported the catalogs with. Internally, performing operations on string columns with Dask has been expensive, in large part due to the fact that Python strings were being converted to pyarrow strings via `to_pyarrow_str` tasks."
            ]
        },
        {
            "cell_type": "code",
            "execution_count": 5,
            "id": "845cb1ef",
            "metadata": {},
            "outputs": [
                {
                    "name": "stdout",
                    "output_type": "stream",
                    "text": [
                        "band    string[pyarrow]\n",
                        "mag             float32\n",
                        "dtype: object\n",
                        "                     band        mag\n",
                        "_hipscat_index                      \n",
                        "4701758013566877696     r  20.654202\n",
                        "4701758013566877697     r  20.231649\n",
                        "4701758013566877698     r  19.789747\n",
                        "4701758013566877699     r  20.559649\n",
                        "4701758013566877700     r  20.640318\n",
                        "...                   ...        ...\n",
                        "10281717893410324481    r  21.176765\n",
                        "10281717893410324482    r  21.047438\n",
                        "10281717893410324483    r  20.985826\n",
                        "10281717926935396352    r  21.149563\n",
                        "10281717926935396353    r  20.556887\n",
                        "\n",
                        "[144178423 rows x 2 columns]\n"
                    ]
                },
                {
                    "name": "stdout",
                    "output_type": "stream",
                    "text": [
                        "CPU times: user 4.65 s, sys: 7.34 s, total: 12 s\n",
                        "Wall time: 1min 8s\n"
                    ]
                }
            ],
            "source": [
                "# Computing with pyarrow string conversion active\n",
                "dask.config.set({\"dataframe.convert-string\": True})\n",
                "compute_performance(\"with_conversion\")\n",
                "# Compute time: 181.35 s"
            ]
        },
        {
            "cell_type": "code",
            "execution_count": 6,
            "id": "eced525a",
            "metadata": {},
            "outputs": [
                {
                    "name": "stdout",
                    "output_type": "stream",
                    "text": [
                        "band     object\n",
                        "mag     float32\n",
                        "dtype: object\n",
                        "                     band        mag\n",
                        "_hipscat_index                      \n",
                        "4701758013566877696     r  20.654202\n",
                        "4701758013566877697     r  20.231649\n",
                        "4701758013566877698     r  19.789747\n",
                        "4701758013566877699     r  20.559649\n",
                        "4701758013566877700     r  20.640318\n",
                        "...                   ...        ...\n",
                        "10281717893410324481    r  21.176765\n",
                        "10281717893410324482    r  21.047438\n",
                        "10281717893410324483    r  20.985826\n",
                        "10281717926935396352    r  21.149563\n",
                        "10281717926935396353    r  20.556887\n",
                        "\n",
                        "[144178423 rows x 2 columns]\n"
                    ]
                },
                {
                    "name": "stdout",
                    "output_type": "stream",
                    "text": [
                        "CPU times: user 6.92 s, sys: 6.37 s, total: 13.3 s\n",
                        "Wall time: 32.3 s\n"
                    ]
                }
            ],
            "source": [
                "# Computing with pyarrow string conversion inactive\n",
                "dask.config.set({\"dataframe.convert-string\": False})\n",
                "%time compute_performance(\"with_conversion_disabled\")\n",
                "# Compute time: 88.31 s"
            ]
        },
        {
            "cell_type": "markdown",
            "id": "9650a796",
            "metadata": {},
            "source": [
                "This was clearly a performance bottleneck so we decided to update the code to read data using pyarrow types by default. We get rid of the string conversion tasks and it has additional benefits (e.g. support for nullable types)!"
            ]
        },
        {
            "cell_type": "code",
            "execution_count": 7,
            "id": "f09581f8",
            "metadata": {},
            "outputs": [
                {
                    "name": "stdout",
                    "output_type": "stream",
                    "text": [
                        "Note: you may need to restart the kernel to use updated packages.\n"
                    ]
                }
            ],
            "source": [
                "%pip install -q git+https://github.com/astronomy-commons/lsdb.git@issue/279/default-pyarrow-backend"
            ]
        },
        {
            "cell_type": "code",
            "execution_count": 8,
            "id": "e0e23143",
            "metadata": {},
            "outputs": [
                {
                    "name": "stdout",
                    "output_type": "stream",
                    "text": [
                        "0.2.2.dev18+g513e5df\n"
                    ]
                }
            ],
            "source": [
                "import lsdb\n",
                "print(lsdb.__version__)"
            ]
        },
        {
            "cell_type": "code",
            "execution_count": 9,
            "id": "432bd394",
            "metadata": {},
            "outputs": [
                {
                    "name": "stdout",
                    "output_type": "stream",
                    "text": [
                        "band    string[pyarrow]\n",
                        "mag      float[pyarrow]\n",
                        "dtype: object\n",
                        "                     band        mag\n",
                        "_hipscat_index                      \n",
                        "4701758013566877696     r  20.654202\n",
                        "4701758013566877697     r  20.231649\n",
                        "4701758013566877698     r  19.789747\n",
                        "4701758013566877699     r  20.559649\n",
                        "4701758013566877700     r  20.640318\n",
                        "...                   ...        ...\n",
                        "10281717893410324481    r  21.176765\n",
                        "10281717893410324482    r  21.047438\n",
                        "10281717893410324483    r  20.985826\n",
                        "10281717926935396352    r  21.149563\n",
                        "10281717926935396353    r  20.556887\n",
                        "\n",
                        "[144178423 rows x 2 columns]\n"
                    ]
                },
                {
                    "name": "stdout",
                    "output_type": "stream",
                    "text": [
                        "CPU times: user 4.44 s, sys: 12.1 s, total: 16.5 s\n",
                        "Wall time: 34.1 s\n"
                    ]
                }
            ],
            "source": [
                "compute_performance(\"with_pyarrow_types\")\n",
                "# Compute time: 83.81 s"
            ]
        },
        {
            "cell_type": "code",
            "execution_count": 10,
            "id": "bdb1ae30",
            "metadata": {},
            "outputs": [],
            "source": [
                "client.close()"
            ]
        }
    ],
    "metadata": {
        "kernelspec": {
            "display_name": "Sandro's Python 3.10",
            "language": "python",
            "name": "sandro_py310"
        },
        "language_info": {
            "codemirror_mode": {
                "name": "ipython",
                "version": 3
            },
            "file_extension": ".py",
            "mimetype": "text/x-python",
            "name": "python",
            "nbconvert_exporter": "python",
            "pygments_lexer": "ipython3",
            "version": "3.10.13"
        }
    },
    "nbformat": 4,
    "nbformat_minor": 5
}