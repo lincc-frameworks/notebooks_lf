{
 "cells": [
  {
   "cell_type": "code",
   "execution_count": 4,
   "id": "bd96f5b0-62fe-4fae-a7f8-e3a469bbb30d",
   "metadata": {},
   "outputs": [],
   "source": [
    "import subprocess\n",
    "import sys\n",
    "import time\n",
    "from itertools import count, product\n",
    "from pathlib import Path"
   ]
  },
  {
   "cell_type": "code",
   "execution_count": 9,
   "id": "21db165a-ec4d-4b0f-b086-1ca00a8450ae",
   "metadata": {},
   "outputs": [],
   "source": [
    "# CONE_RADIUS_DEG = [1.0, 5.0, 10.0, 20.0, 50.0]  # 45.0, 90.0, 180.0\n",
    "CONE_RADIUS_SEC = [1.0, 5.0, 10.0, 30.0]\n",
    "CONE_RADIUS_DEG = [sec / 60.0 for sec in CONE_RADIUS_SEC]\n",
    "\n",
    "DASK_N_WORKERS = [1, 4, 16]\n",
    "ALGOS = ['lsdb']\n",
    "\n",
    "# DASK_N_WORKERS = [1]\n",
    "# ALGOS = ['astropy']\n",
    "# ALGOS = ['smatch']\n",
    "\n",
    "MAX_DURATION = 3 * 60\n",
    "MIN_ITERATIONS = 2\n",
    "MAX_ITERATIONS = 3\n",
    "\n",
    "ALL_ALGOS = ['lsdb', 'astropy', 'smatch']\n",
    "ALGOS_PREFIX = '' if ALGOS == ALL_ALGOS else '_'.join(ALGOS) + '_'"
   ]
  },
  {
   "cell_type": "code",
   "execution_count": null,
   "id": "bc719eca-fa91-4a24-8dc7-c188a127ca9b",
   "metadata": {},
   "outputs": [
    {
     "name": "stdout",
     "output_type": "stream",
     "text": [
      "bench_data/lsdb_001_001_000.017_01_000.json\n",
      "bench_data/lsdb_001_001_000.017_01_001.json\n",
      "bench_data/lsdb_001_001_000.017_01_002.json\n",
      "Stopping after 3 iterations and 0.0s\n",
      "bench_data/lsdb_001_001_000.017_04_000.json\n",
      "bench_data/lsdb_001_001_000.017_04_001.json\n",
      "bench_data/lsdb_001_001_000.017_04_002.json\n",
      "Stopping after 3 iterations and 0.0s\n",
      "bench_data/lsdb_001_001_000.017_16_000.json\n",
      "bench_data/lsdb_001_001_000.017_16_001.json\n",
      "bench_data/lsdb_001_001_000.017_16_002.json\n",
      "Stopping after 3 iterations and 0.0s\n",
      "bench_data/lsdb_001_001_000.083_01_000.json\n",
      "bench_data/lsdb_001_001_000.083_01_001.json\n",
      "bench_data/lsdb_001_001_000.083_01_002.json\n",
      "Stopping after 3 iterations and 0.0s\n",
      "bench_data/lsdb_001_001_000.083_04_000.json\n"
     ]
    },
    {
     "name": "stderr",
     "output_type": "stream",
     "text": [
      "INFO:root:Got LSDB catalogs\n",
      "INFO:root:Catalogs are persisted and converted to frames\n",
      "INFO:root:LSDB cross=matcing is done\n"
     ]
    },
    {
     "name": "stdout",
     "output_type": "stream",
     "text": [
      "bench_data/lsdb_001_001_000.083_04_001.json\n"
     ]
    },
    {
     "name": "stderr",
     "output_type": "stream",
     "text": [
      "INFO:root:Got LSDB catalogs\n",
      "INFO:root:Catalogs are persisted and converted to frames\n",
      "INFO:root:LSDB cross=matcing is done\n"
     ]
    },
    {
     "name": "stdout",
     "output_type": "stream",
     "text": [
      "bench_data/lsdb_001_001_000.083_04_002.json\n"
     ]
    },
    {
     "name": "stderr",
     "output_type": "stream",
     "text": [
      "INFO:root:Got LSDB catalogs\n",
      "INFO:root:LSDB cross=matcing is done\n"
     ]
    },
    {
     "name": "stdout",
     "output_type": "stream",
     "text": [
      "Stopping after 3 iterations and 81.8s\n",
      "bench_data/lsdb_001_001_000.083_16_000.json\n"
     ]
    },
    {
     "name": "stderr",
     "output_type": "stream",
     "text": [
      "INFO:root:Got LSDB catalogs\n",
      "INFO:root:LSDB cross=matcing is done\n"
     ]
    },
    {
     "name": "stdout",
     "output_type": "stream",
     "text": [
      "bench_data/lsdb_001_001_000.083_16_001.json\n"
     ]
    },
    {
     "name": "stderr",
     "output_type": "stream",
     "text": [
      "INFO:root:Got LSDB catalogs\n",
      "INFO:root:LSDB cross=matcing is done\n"
     ]
    },
    {
     "name": "stdout",
     "output_type": "stream",
     "text": [
      "bench_data/lsdb_001_001_000.083_16_002.json\n"
     ]
    },
    {
     "name": "stderr",
     "output_type": "stream",
     "text": [
      "INFO:root:Got LSDB catalogs\n",
      "INFO:root:LSDB cross=matcing is done\n"
     ]
    },
    {
     "name": "stdout",
     "output_type": "stream",
     "text": [
      "Stopping after 3 iterations and 66.6s\n",
      "bench_data/lsdb_001_001_000.167_01_000.json\n",
      "bench_data/lsdb_001_001_000.167_01_001.json\n",
      "bench_data/lsdb_001_001_000.167_01_002.json\n",
      "Stopping after 3 iterations and 0.0s\n",
      "bench_data/lsdb_001_001_000.167_04_000.json\n",
      "bench_data/lsdb_001_001_000.167_04_001.json\n",
      "bench_data/lsdb_001_001_000.167_04_002.json\n",
      "Stopping after 3 iterations and 0.0s\n",
      "bench_data/lsdb_001_001_000.167_16_000.json\n",
      "bench_data/lsdb_001_001_000.167_16_001.json\n",
      "bench_data/lsdb_001_001_000.167_16_002.json\n",
      "Stopping after 3 iterations and 0.0s\n",
      "bench_data/lsdb_001_001_000.500_01_000.json\n",
      "bench_data/lsdb_001_001_000.500_01_001.json\n",
      "bench_data/lsdb_001_001_000.500_01_002.json\n",
      "Stopping after 3 iterations and 0.0s\n",
      "bench_data/lsdb_001_001_000.500_04_000.json\n"
     ]
    },
    {
     "name": "stderr",
     "output_type": "stream",
     "text": [
      "INFO:root:Got LSDB catalogs\n",
      "INFO:root:LSDB cross=matcing is done\n"
     ]
    },
    {
     "name": "stdout",
     "output_type": "stream",
     "text": [
      "bench_data/lsdb_001_001_000.500_04_001.json\n"
     ]
    },
    {
     "name": "stderr",
     "output_type": "stream",
     "text": [
      "INFO:root:Got LSDB catalogs\n",
      "INFO:root:LSDB cross=matcing is done\n"
     ]
    },
    {
     "name": "stdout",
     "output_type": "stream",
     "text": [
      "bench_data/lsdb_001_001_000.500_04_002.json\n"
     ]
    },
    {
     "name": "stderr",
     "output_type": "stream",
     "text": [
      "INFO:root:Got LSDB catalogs\n",
      "INFO:root:LSDB cross=matcing is done\n"
     ]
    },
    {
     "name": "stdout",
     "output_type": "stream",
     "text": [
      "Stopping after 3 iterations and 79.3s\n",
      "bench_data/lsdb_001_001_000.500_16_000.json\n"
     ]
    },
    {
     "name": "stderr",
     "output_type": "stream",
     "text": [
      "INFO:root:Got LSDB catalogs\n"
     ]
    }
   ],
   "source": [
    "json_path = Path(\"bench_data\")\n",
    "json_path.mkdir(exist_ok=True, parents=True)\n",
    "\n",
    "for (\n",
    "        cone_radius_deg,\n",
    "        dask_n_workers\n",
    ") in product(CONE_RADIUS_DEG, DASK_N_WORKERS):\n",
    "    first_iteration_time = time.monotonic()\n",
    "    for iteration in count():\n",
    "        iterations_duration = time.monotonic() - first_iteration_time\n",
    "        if (iteration >= MIN_ITERATIONS and iterations_duration > MAX_DURATION) or iteration >= MAX_ITERATIONS:\n",
    "            print(f\"Stopping after {iteration} iterations and {iterations_duration:.1f}s\")\n",
    "            break\n",
    "        filename = f\"{ALGOS_PREFIX}001_001_{cone_radius_deg:07.3f}_{dask_n_workers:02d}_{iteration:03d}.json\"\n",
    "        filepath = json_path / filename\n",
    "\n",
    "        print(filepath)\n",
    "\n",
    "        if filepath.exists():\n",
    "            continue\n",
    "\n",
    "        command = [\n",
    "            sys.executable,\n",
    "            \"./xmatch.py\",\n",
    "            f\"--xmatch-radius-arcsec=1.0\",\n",
    "            f\"--xmatch-n-neighbors=1\",\n",
    "            f\"--cone-radius-deg={cone_radius_deg}\",\n",
    "            f\"--dask-n-workers={dask_n_workers}\",\n",
    "#             \"--verbose\",\n",
    "        ] + ALGOS\n",
    "\n",
    "        try:\n",
    "            with open(filepath, \"w\") as outfile:\n",
    "                subprocess.run(command, check=True, stdout=outfile)\n",
    "        except subprocess.CalledProcessError as e:\n",
    "            print(f\"Command '{command}' failed with error code {e.returncode}\")\n",
    "            filepath.unlink()\n",
    "            raise e\n",
    "        except KeyboardInterrupt as e:\n",
    "            filepath.unlink()\n",
    "            raise e"
   ]
  },
  {
   "cell_type": "code",
   "execution_count": null,
   "id": "25bd6965-f635-4111-b43b-251f7b10b7b2",
   "metadata": {},
   "outputs": [],
   "source": []
  }
 ],
 "metadata": {
  "kernelspec": {
   "display_name": "DeLucchi HATS",
   "language": "python",
   "name": "hatsenv"
  },
  "language_info": {
   "codemirror_mode": {
    "name": "ipython",
    "version": 3
   },
   "file_extension": ".py",
   "mimetype": "text/x-python",
   "name": "python",
   "nbconvert_exporter": "python",
   "pygments_lexer": "ipython3",
   "version": "3.10.15"
  }
 },
 "nbformat": 4,
 "nbformat_minor": 5
}
