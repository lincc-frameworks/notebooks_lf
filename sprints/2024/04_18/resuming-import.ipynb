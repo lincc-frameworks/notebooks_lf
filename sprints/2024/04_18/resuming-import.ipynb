{
 "cells": [
  {
   "cell_type": "markdown",
   "metadata": {},
   "source": [
    "# Resuming import with different HEALPix order\n",
    "\n",
    "**Author:** Sandro Campos | [GitHub Issue](https://github.com/astronomy-commons/hipscat-import/issues/261)\n",
    "\n",
    "**Context:** When importing a catalog, the pipeline might be pre-empted while the histogram binaries are generated and stored into disk. If for some reason we decide to resume the pipeline with a different HEALPix order it will fail because the histograms that were written to disk will have an incompatible size.\n",
    "\n",
    "This issue first appeared in a [workflow](https://github.com/lincc-frameworks/notebooks_lf/blob/main/DELVE_gaia_xmatch/Spectroscopy_failed.ipynb) by Julie Xue. In this notebook we will demonstrate how LSDB behaves in this scenario."
   ]
  },
  {
   "cell_type": "code",
   "execution_count": 1,
   "metadata": {},
   "outputs": [],
   "source": [
    "import os\n",
    "import healpy as hp\n",
    "import numpy as np\n",
    "\n",
    "from dask.distributed import Client\n",
    "from hipscat_import.catalog.arguments import ImportArguments\n",
    "from hipscat_import.pipeline import pipeline_with_client"
   ]
  },
  {
   "cell_type": "code",
   "execution_count": 2,
   "metadata": {},
   "outputs": [
    {
     "name": "stderr",
     "output_type": "stream",
     "text": [
      "/astro/users/smcampos/.conda/envs/py310/lib/python3.10/site-packages/distributed/node.py:182: UserWarning: Port 8787 is already in use.\n",
      "Perhaps you already have a cluster running?\n",
      "Hosting the HTTP server on port 44207 instead\n",
      "  warnings.warn(\n"
     ]
    }
   ],
   "source": [
    "client = Client(n_workers=4)"
   ]
  },
  {
   "cell_type": "markdown",
   "metadata": {},
   "source": [
    "We first ran the pipeline with a maximum HEALPix order of 2, and stopped the importing process before it finished. We were left with the intermediate files.\n",
    "\n",
    "```python\n",
    "args = ImportArguments(\n",
    "    output_artifact_name=\"MagE_hipscat\",\n",
    "    file_reader=\"fits\",\n",
    "    input_file_list=[\"mage_bonaca_rcat_V0.05.fits\"],\n",
    "    ra_column=\"GAIAEDR3_RA\",\n",
    "    dec_column=\"GAIAEDR3_DEC\",\n",
    "    output_path=\".\",\n",
    "    pixel_threshold=500_000,\n",
    "    highest_healpix_order=2,\n",
    ")\n",
    "pipeline_with_client(args, client)\n",
    "```"
   ]
  },
  {
   "cell_type": "code",
   "execution_count": 3,
   "metadata": {},
   "outputs": [
    {
     "data": {
      "text/plain": [
       "['input_paths.txt',\n",
       " 'splitting',\n",
       " 'reducing',\n",
       " 'mapping_done',\n",
       " 'mapping_histogram.binary',\n",
       " 'order_0',\n",
       " 'splitting_done']"
      ]
     },
     "execution_count": 3,
     "metadata": {},
     "output_type": "execute_result"
    }
   ],
   "source": [
    "os.listdir(\"resume_catalog/intermediate\")"
   ]
  },
  {
   "cell_type": "code",
   "execution_count": 4,
   "metadata": {},
   "outputs": [
    {
     "data": {
      "text/plain": [
       "['Npix=10.parquet', 'Npix=4.parquet']"
      ]
     },
     "execution_count": 4,
     "metadata": {},
     "output_type": "execute_result"
    }
   ],
   "source": [
    "os.listdir(\"resume_catalog/Norder=0/Dir=0\")"
   ]
  },
  {
   "cell_type": "markdown",
   "metadata": {},
   "source": [
    "Importing stopped at the reducing stage. We know that since the catalog's `Norder_0` directory is already present and contains 2 partition files. Notice that, because we only specified a highest order, the catalog was imported at the lowest possible order, which in the case of this extremely small catalog was 0. However, our `mapping histogram` is always generated for the highest order (in this case, 2)! The size of an histogram for order 2 is 192, for order 3 it is 768. These values correspond to the number of pixels at the given highest pixel order."
   ]
  },
  {
   "cell_type": "code",
   "execution_count": 5,
   "metadata": {},
   "outputs": [
    {
     "name": "stdout",
     "output_type": "stream",
     "text": [
      "Histogram size (order 2): 192\n",
      "Histogram size (order 3): 768\n"
     ]
    }
   ],
   "source": [
    "print(f\"Histogram size (order 2): {hp.order2npix(2)}\")\n",
    "print(f\"Histogram size (order 3): {hp.order2npix(3)}\")"
   ]
  },
  {
   "cell_type": "markdown",
   "metadata": {},
   "source": [
    "Loading our previously generated `mapping_histogram` we confirm it:"
   ]
  },
  {
   "cell_type": "code",
   "execution_count": 6,
   "metadata": {},
   "outputs": [
    {
     "name": "stdout",
     "output_type": "stream",
     "text": [
      "192\n"
     ]
    }
   ],
   "source": [
    "with open(\"resume_catalog/intermediate/mapping_histogram.binary\", \"rb\") as file_handle:\n",
    "    print(len(np.frombuffer(file_handle.read(), dtype=np.int64)))"
   ]
  },
  {
   "cell_type": "markdown",
   "metadata": {},
   "source": [
    "This means that resuming the previous pipeline with a higher pixel order will not work. In order to resume a pipeline, the histograms size (and therefore, the highest pixel order) must match!"
   ]
  },
  {
   "cell_type": "code",
   "execution_count": 7,
   "metadata": {},
   "outputs": [
    {
     "data": {
      "application/vnd.jupyter.widget-view+json": {
       "model_id": "e1f7dc3bb97646c8af218c37a043e077",
       "version_major": 2,
       "version_minor": 0
      },
      "text/plain": [
       "Planning  :   0%|          | 0/5 [00:00<?, ?it/s]"
      ]
     },
     "metadata": {},
     "output_type": "display_data"
    },
    {
     "name": "stderr",
     "output_type": "stream",
     "text": [
      "/astro/users/smcampos/.conda/envs/py310/lib/python3.10/site-packages/hipscat_import/pipeline_resume_plan.py:41: UserWarning: tmp_path (./MagE_hipscat/intermediate) contains intermediate files; resuming prior progress.\n",
      "  warnings.warn(\n"
     ]
    },
    {
     "data": {
      "application/vnd.jupyter.widget-view+json": {
       "model_id": "aa7a5b17ad4d4d8198dbeaf286fe5ea9",
       "version_major": 2,
       "version_minor": 0
      },
      "text/plain": [
       "Binning   :   0%|          | 0/2 [00:00<?, ?it/s]"
      ]
     },
     "metadata": {},
     "output_type": "display_data"
    },
    {
     "ename": "ValueError",
     "evalue": "The histogram from the previous execution is incompatible with the current healpix order. To run with a different configuration set `resume` to False",
     "output_type": "error",
     "traceback": [
      "\u001b[0;31m---------------------------------------------------------------------------\u001b[0m",
      "\u001b[0;31mValueError\u001b[0m                                Traceback (most recent call last)",
      "Cell \u001b[0;32mIn[7], line 11\u001b[0m\n\u001b[1;32m      1\u001b[0m args \u001b[38;5;241m=\u001b[39m ImportArguments(\n\u001b[1;32m      2\u001b[0m     output_artifact_name\u001b[38;5;241m=\u001b[39m\u001b[38;5;124m\"\u001b[39m\u001b[38;5;124mMagE_hipscat\u001b[39m\u001b[38;5;124m\"\u001b[39m,\n\u001b[1;32m      3\u001b[0m     file_reader\u001b[38;5;241m=\u001b[39m\u001b[38;5;124m\"\u001b[39m\u001b[38;5;124mfits\u001b[39m\u001b[38;5;124m\"\u001b[39m,\n\u001b[0;32m   (...)\u001b[0m\n\u001b[1;32m      9\u001b[0m     highest_healpix_order\u001b[38;5;241m=\u001b[39m\u001b[38;5;241m3\u001b[39m,\n\u001b[1;32m     10\u001b[0m )\n\u001b[0;32m---> 11\u001b[0m \u001b[43mpipeline_with_client\u001b[49m\u001b[43m(\u001b[49m\u001b[43margs\u001b[49m\u001b[43m,\u001b[49m\u001b[43m \u001b[49m\u001b[43mclient\u001b[49m\u001b[43m)\u001b[49m\n",
      "File \u001b[0;32m~/.conda/envs/py310/lib/python3.10/site-packages/hipscat_import/pipeline.py:60\u001b[0m, in \u001b[0;36mpipeline_with_client\u001b[0;34m(args, client)\u001b[0m\n\u001b[1;32m     58\u001b[0m \u001b[38;5;28;01mif\u001b[39;00m args\u001b[38;5;241m.\u001b[39mcompletion_email_address:\n\u001b[1;32m     59\u001b[0m     _send_failure_email(args, exception)\n\u001b[0;32m---> 60\u001b[0m \u001b[38;5;28;01mraise\u001b[39;00m exception\n",
      "File \u001b[0;32m~/.conda/envs/py310/lib/python3.10/site-packages/hipscat_import/pipeline.py:44\u001b[0m, in \u001b[0;36mpipeline_with_client\u001b[0;34m(args, client)\u001b[0m\n\u001b[1;32m     41\u001b[0m     \u001b[38;5;28;01mraise\u001b[39;00m \u001b[38;5;167;01mValueError\u001b[39;00m(\u001b[38;5;124m\"\u001b[39m\u001b[38;5;124margs is required and should be subclass of RuntimeArguments\u001b[39m\u001b[38;5;124m\"\u001b[39m)\n\u001b[1;32m     43\u001b[0m \u001b[38;5;28;01mif\u001b[39;00m \u001b[38;5;28misinstance\u001b[39m(args, ImportArguments):\n\u001b[0;32m---> 44\u001b[0m     \u001b[43mcatalog_runner\u001b[49m\u001b[38;5;241;43m.\u001b[39;49m\u001b[43mrun\u001b[49m\u001b[43m(\u001b[49m\u001b[43margs\u001b[49m\u001b[43m,\u001b[49m\u001b[43m \u001b[49m\u001b[43mclient\u001b[49m\u001b[43m)\u001b[49m\n\u001b[1;32m     45\u001b[0m \u001b[38;5;28;01melif\u001b[39;00m \u001b[38;5;28misinstance\u001b[39m(args, IndexArguments):\n\u001b[1;32m     46\u001b[0m     index_runner\u001b[38;5;241m.\u001b[39mrun(args, client)\n",
      "File \u001b[0;32m~/.conda/envs/py310/lib/python3.10/site-packages/hipscat_import/catalog/run_import.py:119\u001b[0m, in \u001b[0;36mrun\u001b[0;34m(args, client)\u001b[0m\n\u001b[1;32m    114\u001b[0m _map_pixels(args, client)\n\u001b[1;32m    116\u001b[0m \u001b[38;5;28;01mwith\u001b[39;00m tqdm(\n\u001b[1;32m    117\u001b[0m     total\u001b[38;5;241m=\u001b[39m\u001b[38;5;241m2\u001b[39m, desc\u001b[38;5;241m=\u001b[39mPipelineResumePlan\u001b[38;5;241m.\u001b[39mget_formatted_stage_name(\u001b[38;5;124m\"\u001b[39m\u001b[38;5;124mBinning\u001b[39m\u001b[38;5;124m\"\u001b[39m), disable\u001b[38;5;241m=\u001b[39m\u001b[38;5;129;01mnot\u001b[39;00m args\u001b[38;5;241m.\u001b[39mprogress_bar\n\u001b[1;32m    118\u001b[0m ) \u001b[38;5;28;01mas\u001b[39;00m step_progress:\n\u001b[0;32m--> 119\u001b[0m     raw_histogram \u001b[38;5;241m=\u001b[39m \u001b[43margs\u001b[49m\u001b[38;5;241;43m.\u001b[39;49m\u001b[43mresume_plan\u001b[49m\u001b[38;5;241;43m.\u001b[39;49m\u001b[43mread_histogram\u001b[49m\u001b[43m(\u001b[49m\u001b[43margs\u001b[49m\u001b[38;5;241;43m.\u001b[39;49m\u001b[43mmapping_healpix_order\u001b[49m\u001b[43m)\u001b[49m\n\u001b[1;32m    120\u001b[0m     step_progress\u001b[38;5;241m.\u001b[39mupdate(\u001b[38;5;241m1\u001b[39m)\n\u001b[1;32m    121\u001b[0m     \u001b[38;5;28;01mif\u001b[39;00m args\u001b[38;5;241m.\u001b[39mconstant_healpix_order \u001b[38;5;241m>\u001b[39m\u001b[38;5;241m=\u001b[39m \u001b[38;5;241m0\u001b[39m:\n",
      "File \u001b[0;32m~/.conda/envs/py310/lib/python3.10/site-packages/hipscat_import/catalog/resume_plan.py:121\u001b[0m, in \u001b[0;36mResumePlan.read_histogram\u001b[0;34m(self, healpix_order)\u001b[0m\n\u001b[1;32m    119\u001b[0m     full_histogram \u001b[38;5;241m=\u001b[39m \u001b[38;5;28mself\u001b[39m\u001b[38;5;241m.\u001b[39mread_histogram_from_partials(healpix_order)\n\u001b[1;32m    120\u001b[0m \u001b[38;5;28;01mif\u001b[39;00m \u001b[38;5;28mlen\u001b[39m(full_histogram) \u001b[38;5;241m!=\u001b[39m hp\u001b[38;5;241m.\u001b[39morder2npix(healpix_order):\n\u001b[0;32m--> 121\u001b[0m     \u001b[38;5;28;01mraise\u001b[39;00m \u001b[38;5;167;01mValueError\u001b[39;00m(\n\u001b[1;32m    122\u001b[0m         \u001b[38;5;124m\"\u001b[39m\u001b[38;5;124mThe histogram from the previous execution is incompatible \u001b[39m\u001b[38;5;124m\"\u001b[39m\n\u001b[1;32m    123\u001b[0m         \u001b[38;5;241m+\u001b[39m \u001b[38;5;124m\"\u001b[39m\u001b[38;5;124mwith the current healpix order. To run with a different \u001b[39m\u001b[38;5;124m\"\u001b[39m\n\u001b[1;32m    124\u001b[0m         \u001b[38;5;241m+\u001b[39m \u001b[38;5;124m\"\u001b[39m\u001b[38;5;124mconfiguration set `resume` to False\u001b[39m\u001b[38;5;124m\"\u001b[39m\n\u001b[1;32m    125\u001b[0m     )\n\u001b[1;32m    126\u001b[0m \u001b[38;5;28;01mreturn\u001b[39;00m full_histogram\n",
      "\u001b[0;31mValueError\u001b[0m: The histogram from the previous execution is incompatible with the current healpix order. To run with a different configuration set `resume` to False"
     ]
    }
   ],
   "source": [
    "args = ImportArguments(\n",
    "    output_artifact_name=\"MagE_hipscat\",\n",
    "    file_reader=\"fits\",\n",
    "    input_file_list=[\"mage_bonaca_rcat_V0.05.fits\"],\n",
    "    ra_column=\"GAIAEDR3_RA\",\n",
    "    dec_column=\"GAIAEDR3_DEC\",\n",
    "    output_path=\".\",\n",
    "    pixel_threshold=500_000,\n",
    "    highest_healpix_order=3,\n",
    ")\n",
    "pipeline_with_client(args, client)"
   ]
  },
  {
   "cell_type": "markdown",
   "metadata": {},
   "source": [
    "We have updated this error message. Whoever is running the pipeline is now aware that they need to restore the highest healpix order or set the `resume` to False to restart the pipeline with the new running configuration."
   ]
  },
  {
   "cell_type": "code",
   "execution_count": 8,
   "metadata": {},
   "outputs": [
    {
     "data": {
      "application/vnd.jupyter.widget-view+json": {
       "model_id": "5f32ae2e8dc048279cbc9febdf69d09c",
       "version_major": 2,
       "version_minor": 0
      },
      "text/plain": [
       "Planning  :   0%|          | 0/5 [00:00<?, ?it/s]"
      ]
     },
     "metadata": {},
     "output_type": "display_data"
    },
    {
     "data": {
      "application/vnd.jupyter.widget-view+json": {
       "model_id": "4021bfc6069541359af76cbe9d31238b",
       "version_major": 2,
       "version_minor": 0
      },
      "text/plain": [
       "Mapping   :   0%|          | 0/1 [00:00<?, ?it/s]"
      ]
     },
     "metadata": {},
     "output_type": "display_data"
    },
    {
     "data": {
      "application/vnd.jupyter.widget-view+json": {
       "model_id": "4502c968675a43a49e89bddc8e2eafc2",
       "version_major": 2,
       "version_minor": 0
      },
      "text/plain": [
       "Binning   :   0%|          | 0/2 [00:00<?, ?it/s]"
      ]
     },
     "metadata": {},
     "output_type": "display_data"
    },
    {
     "data": {
      "application/vnd.jupyter.widget-view+json": {
       "model_id": "22f025bc95a64e70844a4bae23e89729",
       "version_major": 2,
       "version_minor": 0
      },
      "text/plain": [
       "Splitting :   0%|          | 0/1 [00:00<?, ?it/s]"
      ]
     },
     "metadata": {},
     "output_type": "display_data"
    },
    {
     "data": {
      "application/vnd.jupyter.widget-view+json": {
       "model_id": "57e46d3be5404b9994856b340e2c46f2",
       "version_major": 2,
       "version_minor": 0
      },
      "text/plain": [
       "Reducing  :   0%|          | 0/66 [00:00<?, ?it/s]"
      ]
     },
     "metadata": {},
     "output_type": "display_data"
    },
    {
     "data": {
      "application/vnd.jupyter.widget-view+json": {
       "model_id": "7f8f9a0f516744c7aec34990e29890d7",
       "version_major": 2,
       "version_minor": 0
      },
      "text/plain": [
       "Finishing :   0%|          | 0/5 [00:00<?, ?it/s]"
      ]
     },
     "metadata": {},
     "output_type": "display_data"
    }
   ],
   "source": [
    "args = ImportArguments(\n",
    "    output_artifact_name=\"MagE_hipscat\",\n",
    "    file_reader=\"fits\",\n",
    "    input_file_list=[\"mage_bonaca_rcat_V0.05.fits\"],\n",
    "    ra_column=\"GAIAEDR3_RA\",\n",
    "    dec_column=\"GAIAEDR3_DEC\",\n",
    "    output_path=\".\",\n",
    "    pixel_threshold=500_000,\n",
    "    constant_healpix_order=3,\n",
    "    resume=False,\n",
    ")\n",
    "pipeline_with_client(args, client)"
   ]
  },
  {
   "cell_type": "code",
   "execution_count": 9,
   "metadata": {},
   "outputs": [
    {
     "data": {
      "text/plain": [
       "['Npix=297.parquet',\n",
       " 'Npix=322.parquet',\n",
       " 'Npix=266.parquet',\n",
       " 'Npix=393.parquet',\n",
       " 'Npix=525.parquet',\n",
       " 'Npix=331.parquet',\n",
       " 'Npix=358.parquet',\n",
       " 'Npix=618.parquet',\n",
       " 'Npix=556.parquet',\n",
       " 'Npix=468.parquet',\n",
       " 'Npix=366.parquet',\n",
       " 'Npix=534.parquet',\n",
       " 'Npix=646.parquet',\n",
       " 'Npix=763.parquet',\n",
       " 'Npix=627.parquet',\n",
       " 'Npix=541.parquet',\n",
       " 'Npix=757.parquet',\n",
       " 'Npix=323.parquet',\n",
       " 'Npix=355.parquet',\n",
       " 'Npix=353.parquet',\n",
       " 'Npix=260.parquet',\n",
       " 'Npix=558.parquet',\n",
       " 'Npix=542.parquet',\n",
       " 'Npix=299.parquet',\n",
       " 'Npix=387.parquet',\n",
       " 'Npix=298.parquet',\n",
       " 'Npix=289.parquet',\n",
       " 'Npix=523.parquet',\n",
       " 'Npix=324.parquet',\n",
       " 'Npix=361.parquet',\n",
       " 'Npix=465.parquet',\n",
       " 'Npix=386.parquet',\n",
       " 'Npix=531.parquet',\n",
       " 'Npix=535.parquet',\n",
       " 'Npix=539.parquet',\n",
       " 'Npix=456.parquet',\n",
       " 'Npix=363.parquet',\n",
       " 'Npix=619.parquet',\n",
       " 'Npix=620.parquet',\n",
       " 'Npix=669.parquet',\n",
       " 'Npix=761.parquet',\n",
       " 'Npix=564.parquet',\n",
       " 'Npix=546.parquet',\n",
       " 'Npix=522.parquet',\n",
       " 'Npix=526.parquet',\n",
       " 'Npix=630.parquet',\n",
       " 'Npix=631.parquet',\n",
       " 'Npix=743.parquet',\n",
       " 'Npix=767.parquet',\n",
       " 'Npix=760.parquet',\n",
       " 'Npix=262.parquet',\n",
       " 'Npix=320.parquet',\n",
       " 'Npix=329.parquet',\n",
       " 'Npix=364.parquet',\n",
       " 'Npix=356.parquet',\n",
       " 'Npix=466.parquet',\n",
       " 'Npix=626.parquet',\n",
       " 'Npix=633.parquet',\n",
       " 'Npix=751.parquet',\n",
       " 'Npix=554.parquet',\n",
       " 'Npix=540.parquet',\n",
       " 'Npix=617.parquet',\n",
       " 'Npix=524.parquet',\n",
       " 'Npix=533.parquet',\n",
       " 'Npix=762.parquet',\n",
       " 'Npix=392.parquet']"
      ]
     },
     "execution_count": 9,
     "metadata": {},
     "output_type": "execute_result"
    }
   ],
   "source": [
    "os.listdir(\"MagE_hipscat/Norder=3/Dir=0\")"
   ]
  },
  {
   "cell_type": "code",
   "execution_count": 10,
   "metadata": {},
   "outputs": [],
   "source": [
    "client.shutdown()"
   ]
  },
  {
   "cell_type": "code",
   "execution_count": null,
   "metadata": {},
   "outputs": [],
   "source": []
  }
 ],
 "metadata": {
  "kernelspec": {
   "display_name": "Sandro's Python 3.10",
   "language": "python",
   "name": "sandro_py310"
  },
  "language_info": {
   "codemirror_mode": {
    "name": "ipython",
    "version": 3
   },
   "file_extension": ".py",
   "mimetype": "text/x-python",
   "name": "python",
   "nbconvert_exporter": "python",
   "pygments_lexer": "ipython3",
   "version": "3.10.13"
  }
 },
 "nbformat": 4,
 "nbformat_minor": 2
}
