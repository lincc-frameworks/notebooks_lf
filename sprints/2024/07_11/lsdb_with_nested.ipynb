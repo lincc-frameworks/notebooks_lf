{
 "cells": [
  {
   "cell_type": "code",
   "execution_count": 1,
   "id": "72cbae76-7061-4dca-aa1f-394ce1af187a",
   "metadata": {},
   "outputs": [
    {
     "data": {
      "text/plain": [
       "'0.2.7.dev32+g71a99a2'"
      ]
     },
     "execution_count": 1,
     "metadata": {},
     "output_type": "execute_result"
    }
   ],
   "source": [
    "import lsdb\n",
    "lsdb.__version__"
   ]
  },
  {
   "cell_type": "markdown",
   "id": "a7bf674f-5cb6-4820-a0e5-97d89bc253a0",
   "metadata": {},
   "source": [
    "# Demo: LSDB with Nested-Dask Integration\n",
    "\n",
    "Uses the \"nested\" branch of LSDB."
   ]
  },
  {
   "cell_type": "markdown",
   "id": "c5dc4052-a770-4b8e-8331-e8119b420d8f",
   "metadata": {},
   "source": [
    "Let's start by loading in from the Half Degree Survey datasets. We'll grab ZTF Object+Source, and PS1 Source."
   ]
  },
  {
   "cell_type": "code",
   "execution_count": 2,
   "id": "fd3c9605-94a2-471e-9071-b828f2277716",
   "metadata": {},
   "outputs": [],
   "source": [
    "path = \"https://epyc.astro.washington.edu/~lincc-frameworks/half_degree_surveys\"\n",
    "\n",
    "ztf_obj = lsdb.read_hipscat(path + \"/ztf/ztf_object/\", columns=[\"ps1_objid\", \"ra\", \"dec\"]) # ztf objects\n",
    "ztf_src = lsdb.read_hipscat(path + \"/ztf/ztf_source/\") # ztf sources\n",
    "ps1_src = lsdb.read_hipscat(path + \"/ps1/ps1_source/\") # panstarrs sources"
   ]
  },
  {
   "cell_type": "markdown",
   "id": "b044cc61-0967-4771-9aae-fa22a04e2d47",
   "metadata": {},
   "source": [
    "We then can use `join_nested` to nest both ZTF and PS1 sources within ZTF Object.\n",
    "\n",
    "> **_TODO:_**  We need to set suffixes to be empty strings here to avoid the default join behavior of appending suffixes to the column names. We should have empty suffixes be the default."
   ]
  },
  {
   "cell_type": "code",
   "execution_count": 3,
   "id": "3a35b67e-df58-4b46-a51f-54f55655619a",
   "metadata": {},
   "outputs": [
    {
     "name": "stderr",
     "output_type": "stream",
     "text": [
      "/Users/dbranton/lincc/lsdb/src/lsdb/dask/join_catalog_data.py:298: RuntimeWarning: Right catalog does not have a margin cache. Results may be incomplete and/or inaccurate.\n",
      "  warnings.warn(\n",
      "/Users/dbranton/lincc/lsdb/src/lsdb/dask/join_catalog_data.py:298: RuntimeWarning: Right catalog does not have a margin cache. Results may be incomplete and/or inaccurate.\n",
      "  warnings.warn(\n"
     ]
    },
    {
     "data": {
      "text/html": [
       "<div><strong>lsdb Catalog ztf_object_halfdegree:</strong></div><div>\n",
       "<style scoped>\n",
       "    .dataframe tbody tr th:only-of-type {\n",
       "        vertical-align: middle;\n",
       "    }\n",
       "\n",
       "    .dataframe tbody tr th {\n",
       "        vertical-align: top;\n",
       "    }\n",
       "\n",
       "    .dataframe thead th {\n",
       "        text-align: right;\n",
       "    }\n",
       "</style>\n",
       "<table border=\"1\" class=\"dataframe\">\n",
       "  <thead>\n",
       "    <tr style=\"text-align: right;\">\n",
       "      <th></th>\n",
       "      <th>ps1_objid</th>\n",
       "      <th>ra</th>\n",
       "      <th>dec</th>\n",
       "      <th>ztf_sources</th>\n",
       "      <th>ps1_sources</th>\n",
       "    </tr>\n",
       "    <tr>\n",
       "      <th>npartitions=4</th>\n",
       "      <th></th>\n",
       "      <th></th>\n",
       "      <th></th>\n",
       "      <th></th>\n",
       "      <th></th>\n",
       "    </tr>\n",
       "  </thead>\n",
       "  <tbody>\n",
       "    <tr>\n",
       "      <th>7799953079628988416</th>\n",
       "      <td>int64[pyarrow]</td>\n",
       "      <td>double[pyarrow]</td>\n",
       "      <td>double[pyarrow]</td>\n",
       "      <td>nested&lt;index: [int64], ra: [double], dec: [dou...</td>\n",
       "      <td>nested&lt;uniquePspsP2id: [int64], detectID: [int...</td>\n",
       "    </tr>\n",
       "    <tr>\n",
       "      <th>7812056503627546624</th>\n",
       "      <td>...</td>\n",
       "      <td>...</td>\n",
       "      <td>...</td>\n",
       "      <td>...</td>\n",
       "      <td>...</td>\n",
       "    </tr>\n",
       "    <tr>\n",
       "      <th>7824159927626104832</th>\n",
       "      <td>...</td>\n",
       "      <td>...</td>\n",
       "      <td>...</td>\n",
       "      <td>...</td>\n",
       "      <td>...</td>\n",
       "    </tr>\n",
       "    <tr>\n",
       "      <th>7836263351624663040</th>\n",
       "      <td>...</td>\n",
       "      <td>...</td>\n",
       "      <td>...</td>\n",
       "      <td>...</td>\n",
       "      <td>...</td>\n",
       "    </tr>\n",
       "    <tr>\n",
       "      <th>18446744073709551615</th>\n",
       "      <td>...</td>\n",
       "      <td>...</td>\n",
       "      <td>...</td>\n",
       "      <td>...</td>\n",
       "      <td>...</td>\n",
       "    </tr>\n",
       "  </tbody>\n",
       "</table>\n",
       "</div>"
      ],
      "text/plain": [
       "Dask NestedFrame Structure:\n",
       "                           ps1_objid               ra              dec                                                                                                                                                                                                                                                                                                                                                                                                                ztf_sources                                                                                                                                                                                                                                                                                                                                                                                                                    ps1_sources\n",
       "npartitions=4                                                                                                                                                                                                                                                                                                                                                                                                                                                                                                                                                                                                                                                                                                                                                                                                                                                                                                                   \n",
       "7799953079628988416   int64[pyarrow]  double[pyarrow]  double[pyarrow]  nested<index: [int64], ra: [double], dec: [double], ps1_gMeanPSFMag: [double], ps1_rMeanPSFMag: [double], ps1_iMeanPSFMag: [double], nobs_g: [int32], nobs_r: [int32], nobs_i: [int32], mean_mag_g: [double], mean_mag_r: [double], mean_mag_i: [double], catflags: [int16], fieldID: [int16], mag: [float], magerr: [float], mjd: [double], rcID: [int16], band: [string], Norder: [int32], Dir: [int32], Npix: [int32]>  nested<uniquePspsP2id: [int64], detectID: [int64], filterID: [int16], obsTime: [double], ra: [double], dec: [double], raErr: [double], decErr: [double], zp: [double], expTime: [double], psfFlux: [double], psfFluxErr: [double], apFlux: [double], apFluxErr: [double], kronFlux: [double], kronFluxErr: [double], infoFlag: [int64], infoFlag2: [int32], infoFlag3: [int32], Norder: [int32], Dir: [int32], Npix: [int32]>\n",
       "7812056503627546624              ...              ...              ...                                                                                                                                                                                                                                                                                                                                                                                                                        ...                                                                                                                                                                                                                                                                                                                                                                                                                            ...\n",
       "7824159927626104832              ...              ...              ...                                                                                                                                                                                                                                                                                                                                                                                                                        ...                                                                                                                                                                                                                                                                                                                                                                                                                            ...\n",
       "7836263351624663040              ...              ...              ...                                                                                                                                                                                                                                                                                                                                                                                                                        ...                                                                                                                                                                                                                                                                                                                                                                                                                            ...\n",
       "18446744073709551615             ...              ...              ...                                                                                                                                                                                                                                                                                                                                                                                                                        ...                                                                                                                                                                                                                                                                                                                                                                                                                            ...\n",
       "Dask Name: nestedframe, 6 expressions\n",
       "Expr=MapPartitions(NestedFrame)"
      ]
     },
     "execution_count": 3,
     "metadata": {},
     "output_type": "execute_result"
    }
   ],
   "source": [
    "# Nesting Sources into Object\n",
    "ndf = ztf_obj.join_nested(ztf_src, left_on=\"ps1_objid\", right_on=\"ps1_objid\", nested_column_name=\"ztf_sources\", suffixes=(\"\",\"\"))\n",
    "ndf = ndf.join_nested(ps1_src, left_on=\"ps1_objid\", right_on=\"objID\", nested_column_name=\"ps1_sources\", suffixes=(\"\",\"\"))\n",
    "ndf"
   ]
  },
  {
   "cell_type": "markdown",
   "id": "d1145627-a5b5-44d6-8ade-f7b14a1a68b5",
   "metadata": {},
   "source": [
    "Let's do some mock analysis that will only work with g-band data."
   ]
  },
  {
   "cell_type": "code",
   "execution_count": 4,
   "id": "61294657-6b0d-4667-b765-41f17e533b1f",
   "metadata": {},
   "outputs": [],
   "source": [
    "# Query down to just g-band\n",
    "ndf_g = ndf.query(\"ztf_sources.band == 'g'\")\n",
    "ndf_g = ndf_g.query(\"ps1_sources.filterID == 1\") # 1=g in panstarrs\n",
    "\n",
    "# We'll also filter out any non-positive fluxes for our upcoming analysis\n",
    "ndf_g = ndf_g.query(\"ps1_sources.psfFlux > 0\")"
   ]
  },
  {
   "cell_type": "markdown",
   "id": "ce3ad19e-9e1a-41c5-93b1-7601ddcd584e",
   "metadata": {},
   "source": [
    "The queries above do not remove any top-level rows, so any objects without g-band information will still be present with `None` values in the Nested Columns."
   ]
  },
  {
   "cell_type": "code",
   "execution_count": 5,
   "id": "6ea01718-28e9-47b9-a3a0-f169a177f665",
   "metadata": {},
   "outputs": [
    {
     "data": {
      "text/html": [
       "<div>\n",
       "<style scoped>\n",
       "    .dataframe tbody tr th:only-of-type {\n",
       "        vertical-align: middle;\n",
       "    }\n",
       "\n",
       "    .dataframe tbody tr th {\n",
       "        vertical-align: top;\n",
       "    }\n",
       "\n",
       "    .dataframe thead th {\n",
       "        text-align: right;\n",
       "    }\n",
       "</style>\n",
       "<table border=\"1\" class=\"dataframe\">\n",
       "  <thead>\n",
       "    <tr style=\"text-align: right;\">\n",
       "      <th></th>\n",
       "      <th>ps1_objid</th>\n",
       "      <th>ra</th>\n",
       "      <th>dec</th>\n",
       "      <th>ztf_sources</th>\n",
       "      <th>ps1_sources</th>\n",
       "    </tr>\n",
       "    <tr>\n",
       "      <th>_hipscat_index</th>\n",
       "      <th></th>\n",
       "      <th></th>\n",
       "      <th></th>\n",
       "      <th></th>\n",
       "      <th></th>\n",
       "    </tr>\n",
       "  </thead>\n",
       "  <tbody>\n",
       "    <tr>\n",
       "      <th>7800225727302860800</th>\n",
       "      <td>119401800806389297</td>\n",
       "      <td>180.080612</td>\n",
       "      <td>9.507394</td>\n",
       "      <td>index          ra       dec  ps1_gMeanPSFMa...</td>\n",
       "      <td>uniquePspsP2id            detectID  filte...</td>\n",
       "    </tr>\n",
       "    <tr>\n",
       "      <th>7800225745451614208</th>\n",
       "      <td>119411800883926241</td>\n",
       "      <td>180.088298</td>\n",
       "      <td>9.513106</td>\n",
       "      <td>index          ra       dec  ps1_gMeanPSFMa...</td>\n",
       "      <td>uniquePspsP2id            detectID  filte...</td>\n",
       "    </tr>\n",
       "    <tr>\n",
       "      <th>7800225756323250176</th>\n",
       "      <td>119421800896420844</td>\n",
       "      <td>180.089417</td>\n",
       "      <td>9.516941</td>\n",
       "      <td>None</td>\n",
       "      <td>None</td>\n",
       "    </tr>\n",
       "    <tr>\n",
       "      <th>7800231075577331712</th>\n",
       "      <td>119401800190982050</td>\n",
       "      <td>180.019073</td>\n",
       "      <td>9.501332</td>\n",
       "      <td>None</td>\n",
       "      <td>None</td>\n",
       "    </tr>\n",
       "    <tr>\n",
       "      <th>7800231096259444736</th>\n",
       "      <td>119401800023320772</td>\n",
       "      <td>180.002162</td>\n",
       "      <td>9.500095</td>\n",
       "      <td>index          ra       dec  ps1_gMeanPSFMa...</td>\n",
       "      <td>uniquePspsP2id            detectID  filte...</td>\n",
       "    </tr>\n",
       "  </tbody>\n",
       "</table>\n",
       "</div>"
      ],
      "text/plain": [
       "                              ps1_objid          ra       dec  \\\n",
       "_hipscat_index                                                  \n",
       "7800225727302860800  119401800806389297  180.080612  9.507394   \n",
       "7800225745451614208  119411800883926241  180.088298  9.513106   \n",
       "7800225756323250176  119421800896420844  180.089417  9.516941   \n",
       "7800231075577331712  119401800190982050  180.019073  9.501332   \n",
       "7800231096259444736  119401800023320772  180.002162  9.500095   \n",
       "\n",
       "                                                           ztf_sources  \\\n",
       "_hipscat_index                                                           \n",
       "7800225727302860800     index          ra       dec  ps1_gMeanPSFMa...   \n",
       "7800225745451614208     index          ra       dec  ps1_gMeanPSFMa...   \n",
       "7800225756323250176                                               None   \n",
       "7800231075577331712                                               None   \n",
       "7800231096259444736     index          ra       dec  ps1_gMeanPSFMa...   \n",
       "\n",
       "                                                           ps1_sources  \n",
       "_hipscat_index                                                          \n",
       "7800225727302860800       uniquePspsP2id            detectID  filte...  \n",
       "7800225745451614208       uniquePspsP2id            detectID  filte...  \n",
       "7800225756323250176                                               None  \n",
       "7800231075577331712                                               None  \n",
       "7800231096259444736       uniquePspsP2id            detectID  filte...  "
      ]
     },
     "execution_count": 5,
     "metadata": {},
     "output_type": "execute_result"
    }
   ],
   "source": [
    "ndf_g.head(5)"
   ]
  },
  {
   "cell_type": "markdown",
   "id": "e590a53c-5e78-4bb4-9556-8f9ddb7c4985",
   "metadata": {},
   "source": [
    "We can remove these using `dropna`.\n",
    "\n",
    "> **_TODO:_** These functions have yet to have been wrapped in the LSDB API, so we need to go through `_ddf` until these wrappers are in."
   ]
  },
  {
   "cell_type": "code",
   "execution_count": 6,
   "id": "3d7e3d2c-1003-4c49-b523-e418a3b5a868",
   "metadata": {},
   "outputs": [],
   "source": [
    "ndf_g._ddf = ndf_g._ddf.dropna(subset=[\"ztf_sources\", \"ps1_sources\"])"
   ]
  },
  {
   "cell_type": "code",
   "execution_count": 7,
   "id": "756819c1-2fce-4784-b2b8-1722ab0cb4d3",
   "metadata": {},
   "outputs": [
    {
     "data": {
      "text/html": [
       "<div>\n",
       "<style scoped>\n",
       "    .dataframe tbody tr th:only-of-type {\n",
       "        vertical-align: middle;\n",
       "    }\n",
       "\n",
       "    .dataframe tbody tr th {\n",
       "        vertical-align: top;\n",
       "    }\n",
       "\n",
       "    .dataframe thead th {\n",
       "        text-align: right;\n",
       "    }\n",
       "</style>\n",
       "<table border=\"1\" class=\"dataframe\">\n",
       "  <thead>\n",
       "    <tr style=\"text-align: right;\">\n",
       "      <th></th>\n",
       "      <th>ps1_objid</th>\n",
       "      <th>ra</th>\n",
       "      <th>dec</th>\n",
       "      <th>ztf_sources</th>\n",
       "      <th>ps1_sources</th>\n",
       "    </tr>\n",
       "    <tr>\n",
       "      <th>_hipscat_index</th>\n",
       "      <th></th>\n",
       "      <th></th>\n",
       "      <th></th>\n",
       "      <th></th>\n",
       "      <th></th>\n",
       "    </tr>\n",
       "  </thead>\n",
       "  <tbody>\n",
       "    <tr>\n",
       "      <th>7800225727302860800</th>\n",
       "      <td>119401800806389297</td>\n",
       "      <td>180.080612</td>\n",
       "      <td>9.507394</td>\n",
       "      <td>index          ra       dec  ps1_gMeanPSFMa...</td>\n",
       "      <td>uniquePspsP2id            detectID  filte...</td>\n",
       "    </tr>\n",
       "    <tr>\n",
       "      <th>7800225745451614208</th>\n",
       "      <td>119411800883926241</td>\n",
       "      <td>180.088298</td>\n",
       "      <td>9.513106</td>\n",
       "      <td>index          ra       dec  ps1_gMeanPSFMa...</td>\n",
       "      <td>uniquePspsP2id            detectID  filte...</td>\n",
       "    </tr>\n",
       "    <tr>\n",
       "      <th>7800231096259444736</th>\n",
       "      <td>119401800023320772</td>\n",
       "      <td>180.002162</td>\n",
       "      <td>9.500095</td>\n",
       "      <td>index          ra       dec  ps1_gMeanPSFMa...</td>\n",
       "      <td>uniquePspsP2id            detectID  filte...</td>\n",
       "    </tr>\n",
       "    <tr>\n",
       "      <th>7800231189779841024</th>\n",
       "      <td>119401799992372336</td>\n",
       "      <td>179.999252</td>\n",
       "      <td>9.501494</td>\n",
       "      <td>index          ra       dec  ps1_gMeanPSFM...</td>\n",
       "      <td>uniquePspsP2id            detectID  filte...</td>\n",
       "    </tr>\n",
       "    <tr>\n",
       "      <th>7800231189779841025</th>\n",
       "      <td>119401799996412316</td>\n",
       "      <td>179.99929</td>\n",
       "      <td>9.501476</td>\n",
       "      <td>index         ra       dec  ps1_gMeanPSFMa...</td>\n",
       "      <td>uniquePspsP2id            detectID  filte...</td>\n",
       "    </tr>\n",
       "  </tbody>\n",
       "</table>\n",
       "</div>"
      ],
      "text/plain": [
       "                              ps1_objid          ra       dec  \\\n",
       "_hipscat_index                                                  \n",
       "7800225727302860800  119401800806389297  180.080612  9.507394   \n",
       "7800225745451614208  119411800883926241  180.088298  9.513106   \n",
       "7800231096259444736  119401800023320772  180.002162  9.500095   \n",
       "7800231189779841024  119401799992372336  179.999252  9.501494   \n",
       "7800231189779841025  119401799996412316   179.99929  9.501476   \n",
       "\n",
       "                                                           ztf_sources  \\\n",
       "_hipscat_index                                                           \n",
       "7800225727302860800     index          ra       dec  ps1_gMeanPSFMa...   \n",
       "7800225745451614208     index          ra       dec  ps1_gMeanPSFMa...   \n",
       "7800231096259444736     index          ra       dec  ps1_gMeanPSFMa...   \n",
       "7800231189779841024      index          ra       dec  ps1_gMeanPSFM...   \n",
       "7800231189779841025      index         ra       dec  ps1_gMeanPSFMa...   \n",
       "\n",
       "                                                           ps1_sources  \n",
       "_hipscat_index                                                          \n",
       "7800225727302860800       uniquePspsP2id            detectID  filte...  \n",
       "7800225745451614208       uniquePspsP2id            detectID  filte...  \n",
       "7800231096259444736       uniquePspsP2id            detectID  filte...  \n",
       "7800231189779841024       uniquePspsP2id            detectID  filte...  \n",
       "7800231189779841025       uniquePspsP2id            detectID  filte...  "
      ]
     },
     "execution_count": 7,
     "metadata": {},
     "output_type": "execute_result"
    }
   ],
   "source": [
    "ndf_g.head(5)"
   ]
  },
  {
   "cell_type": "markdown",
   "id": "ff846790-54e1-4c21-9769-e4f5924a1686",
   "metadata": {},
   "source": [
    "For our \"analysis\", we'd like to simply compare the average magnitude values in g for both ZTF and PS1. We can write a function to do this, and apply it via the Nested-Dask `reduce` function. PS1 unfortunately only has fluxes, so we do a conversion to magnitudes in our functions with a poorly derived zero-point value."
   ]
  },
  {
   "cell_type": "code",
   "execution_count": 8,
   "id": "c220d33b-8dfa-4699-98e7-be6054b5e629",
   "metadata": {},
   "outputs": [],
   "source": [
    "import nested_pandas as npd\n",
    "import numpy as np\n",
    "\n",
    "def meandiff(ztf_mag, ps1_flux):\n",
    "    \"\"\"returns the difference between the means of ztf_mag and ps1_flux\"\"\"\n",
    "    ps1_mag = -2.5*np.log10(ps1_flux) + 8.569 # derived from values at c=0\n",
    "    return {\"meandiff\": np.mean(ztf_mag) - np.mean(ps1_mag)}\n",
    "\n",
    "# todo: make typos fail\n",
    "meandiff = ndf_g._ddf.reduce(meandiff, \"ztf_sources.mag\", \"ps1_sources.psfFlux\", meta=npd.NestedFrame(columns=[\"meandiff\"], dtype=float)).persist()"
   ]
  },
  {
   "cell_type": "code",
   "execution_count": 9,
   "id": "17ea8d5f-875f-489c-85a7-aa077fa12612",
   "metadata": {},
   "outputs": [
    {
     "data": {
      "text/html": [
       "<div>\n",
       "<style scoped>\n",
       "    .dataframe tbody tr th:only-of-type {\n",
       "        vertical-align: middle;\n",
       "    }\n",
       "\n",
       "    .dataframe tbody tr th {\n",
       "        vertical-align: top;\n",
       "    }\n",
       "\n",
       "    .dataframe thead th {\n",
       "        text-align: right;\n",
       "    }\n",
       "</style>\n",
       "<table border=\"1\" class=\"dataframe\">\n",
       "  <thead>\n",
       "    <tr style=\"text-align: right;\">\n",
       "      <th></th>\n",
       "      <th>meandiff</th>\n",
       "    </tr>\n",
       "    <tr>\n",
       "      <th>_hipscat_index</th>\n",
       "      <th></th>\n",
       "    </tr>\n",
       "  </thead>\n",
       "  <tbody>\n",
       "    <tr>\n",
       "      <th>7800225727302860800</th>\n",
       "      <td>-0.370400</td>\n",
       "    </tr>\n",
       "    <tr>\n",
       "      <th>7800225745451614208</th>\n",
       "      <td>-0.114943</td>\n",
       "    </tr>\n",
       "    <tr>\n",
       "      <th>7800231096259444736</th>\n",
       "      <td>-0.588025</td>\n",
       "    </tr>\n",
       "    <tr>\n",
       "      <th>7800231189779841024</th>\n",
       "      <td>-0.060370</td>\n",
       "    </tr>\n",
       "    <tr>\n",
       "      <th>7800231189779841025</th>\n",
       "      <td>-0.362611</td>\n",
       "    </tr>\n",
       "    <tr>\n",
       "      <th>7800231210621337600</th>\n",
       "      <td>-0.038925</td>\n",
       "    </tr>\n",
       "    <tr>\n",
       "      <th>7800231224164745216</th>\n",
       "      <td>0.342991</td>\n",
       "    </tr>\n",
       "    <tr>\n",
       "      <th>7800231386677248000</th>\n",
       "      <td>0.397584</td>\n",
       "    </tr>\n",
       "    <tr>\n",
       "      <th>7800231452909502464</th>\n",
       "      <td>-0.470169</td>\n",
       "    </tr>\n",
       "    <tr>\n",
       "      <th>7800231482529677312</th>\n",
       "      <td>-0.035022</td>\n",
       "    </tr>\n",
       "  </tbody>\n",
       "</table>\n",
       "</div>"
      ],
      "text/plain": [
       "                     meandiff\n",
       "_hipscat_index               \n",
       "7800225727302860800 -0.370400\n",
       "7800225745451614208 -0.114943\n",
       "7800231096259444736 -0.588025\n",
       "7800231189779841024 -0.060370\n",
       "7800231189779841025 -0.362611\n",
       "7800231210621337600 -0.038925\n",
       "7800231224164745216  0.342991\n",
       "7800231386677248000  0.397584\n",
       "7800231452909502464 -0.470169\n",
       "7800231482529677312 -0.035022"
      ]
     },
     "execution_count": 9,
     "metadata": {},
     "output_type": "execute_result"
    }
   ],
   "source": [
    "meandiff.head(10)"
   ]
  },
  {
   "cell_type": "markdown",
   "id": "e9384c80-3eab-441e-9e95-001773107081",
   "metadata": {},
   "source": [
    "Finally, let's plot the distribution of differences."
   ]
  },
  {
   "cell_type": "code",
   "execution_count": 26,
   "id": "df3aa916-1b6b-473b-a279-276ca10af8ea",
   "metadata": {},
   "outputs": [
    {
     "data": {
      "text/plain": [
       "(-4.0, 4.0)"
      ]
     },
     "execution_count": 26,
     "metadata": {},
     "output_type": "execute_result"
    },
    {
     "data": {
      "image/png": "[encoded data removed]",
      "text/plain": [
       "<Figure size 800x600 with 1 Axes>"
      ]
     },
     "metadata": {},
     "output_type": "display_data"
    }
   ],
   "source": [
    "import matplotlib.pyplot as plt\n",
    "\n",
    "plt.figure(dpi=125)\n",
    "plt.hist(meandiff[\"meandiff\"], bins=50, alpha=0.7, edgecolor=\"k\")\n",
    "\n",
    "plt.title(\"Mean(ZTF-gmag) - Mean(PS1-gmag)\")\n",
    "plt.ylabel(\"Frequency\")\n",
    "plt.xlabel(\"Delta Magnitude\")\n",
    "plt.xlim(-4,4)"
   ]
  },
  {
   "cell_type": "code",
   "execution_count": null,
   "id": "d0c74922-41ea-4bf0-98a2-beebbe02de4f",
   "metadata": {},
   "outputs": [],
   "source": []
  }
 ],
 "metadata": {
  "kernelspec": {
   "display_name": "Python 3 (ipykernel)",
   "language": "python",
   "name": "python3"
  },
  "language_info": {
   "codemirror_mode": {
    "name": "ipython",
    "version": 3
   },
   "file_extension": ".py",
   "mimetype": "text/x-python",
   "name": "python",
   "nbconvert_exporter": "python",
   "pygments_lexer": "ipython3",
   "version": "3.10.11"
  }
 },
 "nbformat": 4,
 "nbformat_minor": 5
}
