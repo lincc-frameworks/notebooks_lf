{
    "cells": [
     {
      "cell_type": "markdown",
      "id": "df583173",
      "metadata": {},
      "source": [
       "# The state of the Almanac\n",
       "\n",
       "**Author**: Melissa DeLucchi\n",
       "\n",
       "This is a brief notebook to demonstrate some current functionality (and current gaps) for the hipscat almanac.\n",
       "\n",
       "The almanac is NOT intended as a replacement for any kind of IVOA registry - it's just a quick way to find out more information about a catalog and its linked catalogs (both quick in terms of run time, and development time)."
      ]
     },
     {
      "cell_type": "markdown",
      "id": "a53ad44e",
      "metadata": {},
      "source": [
       "First, let's set the environment variable for the default almanac directory. This is something we'd need to be able to set on a root-level."
      ]
     },
     {
      "cell_type": "code",
      "execution_count": 10,
      "id": "63d73e5f",
      "metadata": {},
      "outputs": [
       {
        "name": "stdout",
        "output_type": "stream",
        "text": [
         "env: HIPSCAT_ALMANAC_DIR=/data3/epyc/data3/hipscat/almanac\n"
        ]
       }
      ],
      "source": [
       "%env HIPSCAT_ALMANAC_DIR=/data3/epyc/data3/hipscat/almanac"
      ]
     },
     {
      "cell_type": "code",
      "execution_count": 11,
      "id": "0ef15983",
      "metadata": {},
      "outputs": [
       {
        "name": "stdout",
        "output_type": "stream",
        "text": [
         "CPU times: user 0 ns, sys: 67 µs, total: 67 µs\n",
         "Wall time: 86.1 µs\n"
        ]
       }
      ],
      "source": [
       "%%time\n",
       "from hipscat.catalog import Catalog\n",
       "import os\n",
       "import tempfile\n",
       "import shutil\n",
       "from hipscat.catalog import AssociationCatalog\n",
       "from hipscat.loaders import read_from_hipscat\n",
       "\n",
       "from hipscat.inspection.almanac import Almanac\n",
       "from hipscat.inspection.almanac_info import AlmanacInfo"
      ]
     },
     {
      "cell_type": "markdown",
      "id": "9af5e0e8",
      "metadata": {},
      "source": [
       "Below is a list of the \"active\" catalogs in the almanac. This suppresses any \"deprecated\" catalogs."
      ]
     },
     {
      "cell_type": "code",
      "execution_count": 21,
      "id": "dbc36fbe",
      "metadata": {},
      "outputs": [
       {
        "name": "stdout",
        "output_type": "stream",
        "text": [
         "CPU times: user 82.3 ms, sys: 1.86 ms, total: 84.2 ms\n",
         "Wall time: 81.9 ms\n"
        ]
       },
       {
        "data": {
         "text/plain": [
          "['allwise',\n",
          " 'catwise2020',\n",
          " 'dr16q_constant',\n",
          " 'gaia',\n",
          " 'ps1_otmo',\n",
          " 'tic_1',\n",
          " 'ztf_dr14',\n",
          " 'ztf_zource']"
         ]
        },
        "execution_count": 21,
        "metadata": {},
        "output_type": "execute_result"
       }
      ],
      "source": [
       "%%time\n",
       "almanac = Almanac()\n",
       "almanac.catalogs(types=['object'])"
      ]
     },
     {
      "cell_type": "markdown",
      "id": "969602b1",
      "metadata": {},
      "source": [
       "By including the deprecated catalogs, we now see the \"ztf_source\" catalog."
      ]
     },
     {
      "cell_type": "code",
      "execution_count": 13,
      "id": "cc444e15",
      "metadata": {},
      "outputs": [
       {
        "name": "stdout",
        "output_type": "stream",
        "text": [
         "CPU times: user 13 µs, sys: 26 µs, total: 39 µs\n",
         "Wall time: 59.6 µs\n"
        ]
       },
       {
        "data": {
         "text/plain": [
          "['allwise',\n",
          " 'allwise_10arcs',\n",
          " 'catwise2020',\n",
          " 'dr16q_constant',\n",
          " 'gaia',\n",
          " 'gaia_10arcs',\n",
          " 'gaia_source_id_index',\n",
          " 'macauff_association',\n",
          " 'neowise_yr8',\n",
          " 'ps1_10arcs',\n",
          " 'ps1_detection',\n",
          " 'ps1_otmo',\n",
          " 'tic_1',\n",
          " 'tic_10arcs',\n",
          " 'ztf_dr14',\n",
          " 'ztf_dr14_10arcs',\n",
          " 'ztf_source',\n",
          " 'ztf_zource',\n",
          " 'zubercal']"
         ]
        },
        "execution_count": 13,
        "metadata": {},
        "output_type": "execute_result"
       }
      ],
      "source": [
       "%%time\n",
       "almanac.catalogs(include_deprecated=True)"
      ]
     },
     {
      "cell_type": "markdown",
      "id": "04b1a6cc",
      "metadata": {},
      "source": [
       "The almanac is a graph of the catalogs, and their linked catalogs (e.g. a margin catalog has a primary catalog).\n",
       "\n",
       "We need to improve the `__repr__` of the almanac info to display just the relevant parts, and maybe suggest a link to linked catalog info."
      ]
     },
     {
      "cell_type": "code",
      "execution_count": 14,
      "id": "f7a4d41b",
      "metadata": {},
      "outputs": [
       {
        "name": "stdout",
        "output_type": "stream",
        "text": [
         "CPU times: user 8 µs, sys: 17 µs, total: 25 µs\n",
         "Wall time: 43.9 µs\n"
        ]
       },
       {
        "data": {
         "text/plain": [
          "AlmanacInfo(file_path='', storage_options={}, namespace='', catalog_path='/data3/epyc/data3/hipscat/catalogs/ztf_axs/ztf_source', catalog_name='ztf_source', catalog_type='source', primary='/data3/epyc/data3/hipscat/catalogs/ztf_axs/ztf_dr14', join=None, primary_link=AlmanacInfo(file_path='', storage_options={}, namespace='', catalog_path='/data3/epyc/data3/hipscat/catalogs/ztf_axs/ztf_dr14', catalog_name='ztf_dr14', catalog_type='object', primary=None, join=None, primary_link=None, join_link=None, sources=[...], objects=[], margins=[AlmanacInfo(file_path='', storage_options={}, namespace='', catalog_path='/data3/epyc/data3/hipscat/catalogs/ztf_dr14_10arcs', catalog_name='ztf_dr14_10arcs', catalog_type='margin', primary='/data3/epyc/data3/hipscat/catalogs/ztf_axs/ztf_dr14', join=None, primary_link=..., join_link=None, sources=[], objects=[], margins=[], associations=[], associations_right=[], indexes=[], creators=['Melissa DeLucchi'], description='10 arcsecond margin catalog to ZTX AXS DR 14', version='', deprecated='', catalog_info={'catalog_name': 'ztf_dr14_10arcs', 'catalog_type': 'margin', 'total_rows': 5220930, 'primary_catalog': '/data3/epyc/data3/hipscat/catalogs/ztf_axs/ztf_dr14', 'margin_threshold': 10}, catalog_info_object=MarginCacheCatalogInfo(catalog_name='ztf_dr14_10arcs', catalog_type='margin', total_rows=5220930, primary_catalog='/data3/epyc/data3/hipscat/catalogs/ztf_axs/ztf_dr14', margin_threshold=10))], associations=[], associations_right=[], indexes=[], creators=['Melissa DeLucchi'], description='ZTF catalog, using data originally matched/calibrated with AXS. Object/reference catalog only.', version='', deprecated='', catalog_info={'catalog_name': 'ztf_dr14', 'catalog_type': 'object', 'total_rows': 1234463018, 'epoch': 'J2000', 'ra_column': 'ra', 'dec_column': 'dec'}, catalog_info_object=CatalogInfo(catalog_name='ztf_dr14', catalog_type='object', total_rows=1234463018, epoch='J2000', ra_column='ra', dec_column='dec')), join_link=None, sources=[], objects=[AlmanacInfo(file_path='', storage_options={}, namespace='', catalog_path='/data3/epyc/data3/hipscat/catalogs/ztf_axs/ztf_dr14', catalog_name='ztf_dr14', catalog_type='object', primary=None, join=None, primary_link=None, join_link=None, sources=[...], objects=[], margins=[AlmanacInfo(file_path='', storage_options={}, namespace='', catalog_path='/data3/epyc/data3/hipscat/catalogs/ztf_dr14_10arcs', catalog_name='ztf_dr14_10arcs', catalog_type='margin', primary='/data3/epyc/data3/hipscat/catalogs/ztf_axs/ztf_dr14', join=None, primary_link=..., join_link=None, sources=[], objects=[], margins=[], associations=[], associations_right=[], indexes=[], creators=['Melissa DeLucchi'], description='10 arcsecond margin catalog to ZTX AXS DR 14', version='', deprecated='', catalog_info={'catalog_name': 'ztf_dr14_10arcs', 'catalog_type': 'margin', 'total_rows': 5220930, 'primary_catalog': '/data3/epyc/data3/hipscat/catalogs/ztf_axs/ztf_dr14', 'margin_threshold': 10}, catalog_info_object=MarginCacheCatalogInfo(catalog_name='ztf_dr14_10arcs', catalog_type='margin', total_rows=5220930, primary_catalog='/data3/epyc/data3/hipscat/catalogs/ztf_axs/ztf_dr14', margin_threshold=10))], associations=[], associations_right=[], indexes=[], creators=['Melissa DeLucchi'], description='ZTF catalog, using data originally matched/calibrated with AXS. Object/reference catalog only.', version='', deprecated='', catalog_info={'catalog_name': 'ztf_dr14', 'catalog_type': 'object', 'total_rows': 1234463018, 'epoch': 'J2000', 'ra_column': 'ra', 'dec_column': 'dec'}, catalog_info_object=CatalogInfo(catalog_name='ztf_dr14', catalog_type='object', total_rows=1234463018, epoch='J2000', ra_column='ra', dec_column='dec'))], margins=[], associations=[], associations_right=[], indexes=[], creators=['Melissa DeLucchi'], description='ZTF catalog, using data originally matched/calibrated with AXS. Individual detections.', version='', deprecated='Use `ztf_zource` for significantly better performance', catalog_info={'catalog_name': 'ztf_source', 'catalog_type': 'source', 'total_rows': 570809800013, 'epoch': 'J2000', 'ra_column': 'ra', 'dec_column': 'dec'}, catalog_info_object=SourceCatalogInfo(catalog_name='ztf_source', catalog_type='source', total_rows=570809800013, epoch='J2000', ra_column='ra', dec_column='dec', primary_catalog=None, mjd_column='', band_column='', mag_column='', mag_err_column=''))"
         ]
        },
        "execution_count": 14,
        "metadata": {},
        "output_type": "execute_result"
       }
      ],
      "source": [
       "%%time\n",
       "almanac.get_almanac_info(\"ztf_source\")"
      ]
     },
     {
      "cell_type": "markdown",
      "id": "f684fb9a",
      "metadata": {},
      "source": [
       "If you know where to look, you can find out why this catalog has been deprecated, and maybe even a hint about what to use instead:"
      ]
     },
     {
      "cell_type": "code",
      "execution_count": 15,
      "id": "888c7193",
      "metadata": {},
      "outputs": [
       {
        "name": "stdout",
        "output_type": "stream",
        "text": [
         "CPU times: user 26 µs, sys: 0 ns, total: 26 µs\n",
         "Wall time: 45.8 µs\n"
        ]
       },
       {
        "data": {
         "text/plain": [
          "'Use `ztf_zource` for significantly better performance'"
         ]
        },
        "execution_count": 15,
        "metadata": {},
        "output_type": "execute_result"
       }
      ],
      "source": [
       "%%time\n",
       "almanac.get_almanac_info(\"ztf_source\").deprecated"
      ]
     },
     {
      "cell_type": "markdown",
      "id": "51e4ad97",
      "metadata": {},
      "source": [
       "## Linked catalogs\n",
       "\n",
       "GAIA has a nice amount of supplemental tables. Let's look more:"
      ]
     },
     {
      "cell_type": "code",
      "execution_count": 16,
      "id": "ab953694",
      "metadata": {},
      "outputs": [
       {
        "name": "stdout",
        "output_type": "stream",
        "text": [
         "CPU times: user 22 µs, sys: 43 µs, total: 65 µs\n",
         "Wall time: 85.6 µs\n"
        ]
       },
       {
        "data": {
         "text/plain": [
          "'gaia_source_id_index'"
         ]
        },
        "execution_count": 16,
        "metadata": {},
        "output_type": "execute_result"
       }
      ],
      "source": [
       "%%time\n",
       "gaia_info = almanac.get_almanac_info(\"gaia\")\n",
       "gaia_info.indexes[0].catalog_name"
      ]
     },
     {
      "cell_type": "code",
      "execution_count": 17,
      "id": "e78c08eb",
      "metadata": {},
      "outputs": [
       {
        "name": "stdout",
        "output_type": "stream",
        "text": [
         "CPU times: user 8 µs, sys: 16 µs, total: 24 µs\n",
         "Wall time: 43.9 µs\n"
        ]
       },
       {
        "data": {
         "text/plain": [
          "'gaia_10arcs'"
         ]
        },
        "execution_count": 17,
        "metadata": {},
        "output_type": "execute_result"
       }
      ],
      "source": [
       "%%time\n",
       "gaia_info.margins[0].catalog_name"
      ]
     },
     {
      "cell_type": "code",
      "execution_count": 18,
      "id": "f1bc32c7",
      "metadata": {},
      "outputs": [
       {
        "name": "stdout",
        "output_type": "stream",
        "text": [
         "CPU times: user 104 ms, sys: 6.78 ms, total: 111 ms\n",
         "Wall time: 109 ms\n"
        ]
       },
       {
        "data": {
         "text/plain": [
          "10"
         ]
        },
        "execution_count": 18,
        "metadata": {},
        "output_type": "execute_result"
       }
      ],
      "source": [
       "%%time\n",
       "gaia_margin = read_from_hipscat(gaia_info.margins[0].catalog_path)\n",
       "gaia_margin.catalog_info.margin_threshold"
      ]
     },
     {
      "cell_type": "markdown",
      "id": "78028018",
      "metadata": {},
      "source": [
       "See a more in-depth discussion of the possibilities for fetching margin data for a primary catalog in [this notebook](https://github.com/lincc-frameworks/notebooks_lf/blob/main/sprints/2024/02_22/almanac_margins.ipynb)"
      ]
     },
     {
      "cell_type": "code",
      "execution_count": null,
      "id": "f100c9c7",
      "metadata": {},
      "outputs": [],
      "source": []
     }
    ],
    "metadata": {
     "kernelspec": {
      "display_name": "Melissa LSDB",
      "language": "python",
      "name": "mmd11_lsdb"
     },
     "language_info": {
      "codemirror_mode": {
       "name": "ipython",
       "version": 3
      },
      "file_extension": ".py",
      "mimetype": "text/x-python",
      "name": "python",
      "nbconvert_exporter": "python",
      "pygments_lexer": "ipython3",
      "version": "3.10.13"
     }
    },
    "nbformat": 4,
    "nbformat_minor": 5
   }