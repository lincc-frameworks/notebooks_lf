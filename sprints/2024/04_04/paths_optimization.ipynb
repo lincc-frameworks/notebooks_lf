{
 "cells": [
  {
   "cell_type": "markdown",
   "source": [
    "# Optimizing `get_pixel_paths`\n",
    "\n",
    "Sean\n",
    "\n",
    "Here we show how the method to get the hive paths of the partition files was improved\n",
    "\n",
    "Before:"
   ],
   "metadata": {
    "collapsed": false
   },
   "id": "8bf70593f7154a37"
  },
  {
   "cell_type": "code",
   "execution_count": 5,
   "outputs": [],
   "source": [
    "from hipscat.pixel_math import HealpixPixel\n",
    "import hipscat as hc\n",
    "from hipscat.io.file_io.file_pointer import get_fs"
   ],
   "metadata": {
    "collapsed": false,
    "ExecuteTime": {
     "end_time": "2024-04-04T19:03:03.866960Z",
     "start_time": "2024-04-04T19:03:03.862790Z"
    }
   },
   "id": "753078446d02f2e6"
  },
  {
   "cell_type": "code",
   "execution_count": 8,
   "id": "initial_id",
   "metadata": {
    "collapsed": true,
    "ExecuteTime": {
     "end_time": "2024-04-04T19:03:49.534459Z",
     "start_time": "2024-04-04T19:03:49.527418Z"
    }
   },
   "outputs": [
    {
     "data": {
      "text/plain": "['/test/base_dir/Norder=0/Dir=0/Npix=0.parquet',\n '/test/base_dir/Norder=0/Dir=0/Npix=1.parquet',\n '/test/base_dir/Norder=3/Dir=0/Npix=100.parquet']"
     },
     "execution_count": 8,
     "metadata": {},
     "output_type": "execute_result"
    }
   ],
   "source": [
    "base_dir = \"/test/base_dir\"\n",
    "pixels = [HealpixPixel(0, 0), HealpixPixel(0, 1), HealpixPixel(3, 100)]\n",
    "\n",
    "paths = [\n",
    "    hc.io.paths.pixel_catalog_file(\n",
    "        catalog_base_dir=base_dir,\n",
    "        pixel_order=pixel.order,\n",
    "        pixel_number=pixel.pixel,\n",
    "    )\n",
    "    for pixel in pixels\n",
    "]\n",
    "paths"
   ]
  },
  {
   "cell_type": "markdown",
   "source": [
    "`pixel_catalog_files` computes pixel_dir and calls os.path.join\n",
    "\n",
    "Profiling shows it's slow:\n",
    "\n",
    "![thing](images/Screenshot%202024-04-04%20at%202.36.36%E2%80%AFPM.png)\n",
    "\n",
    "New method:"
   ],
   "metadata": {
    "collapsed": false
   },
   "id": "f27159c2049b60b6"
  },
  {
   "cell_type": "code",
   "execution_count": 6,
   "outputs": [],
   "source": [
    "from hipscat.io.paths import ORDER_DIRECTORY_PREFIX, DIR_DIRECTORY_PREFIX, PIXEL_DIRECTORY_PREFIX\n",
    "\n",
    "\n",
    "def pixel_catalog_files(catalog_base_dir, pixels, storage_options):\n",
    "    fs, _ = get_fs(catalog_base_dir, storage_options)\n",
    "    base_path_stripped = catalog_base_dir.removesuffix(fs.sep)\n",
    "    return [fs.sep.join([base_path_stripped,\n",
    "                         f\"{ORDER_DIRECTORY_PREFIX}={pixel.order}\",\n",
    "                         f\"{DIR_DIRECTORY_PREFIX}={pixel.pixel // 10000 * 10000}\",\n",
    "                         f\"{PIXEL_DIRECTORY_PREFIX}={pixel.pixel}.parquet\"\n",
    "                         ]) for pixel in pixels]"
   ],
   "metadata": {
    "collapsed": false,
    "ExecuteTime": {
     "end_time": "2024-04-04T19:03:12.730416Z",
     "start_time": "2024-04-04T19:03:12.729805Z"
    }
   },
   "id": "8f1e5b1b3e1a360b"
  },
  {
   "cell_type": "code",
   "execution_count": 9,
   "outputs": [
    {
     "data": {
      "text/plain": "['/test/base_dir/Norder=0/Dir=0/Npix=0.parquet',\n '/test/base_dir/Norder=0/Dir=0/Npix=1.parquet',\n '/test/base_dir/Norder=3/Dir=0/Npix=100.parquet']"
     },
     "execution_count": 9,
     "metadata": {},
     "output_type": "execute_result"
    }
   ],
   "source": [
    "pixel_catalog_files(base_dir, pixels, None)"
   ],
   "metadata": {
    "collapsed": false,
    "ExecuteTime": {
     "end_time": "2024-04-04T19:03:54.685596Z",
     "start_time": "2024-04-04T19:03:54.677113Z"
    }
   },
   "id": "1a9e5cf7138e9330"
  },
  {
   "cell_type": "markdown",
   "source": [
    "new profiling:\n",
    "\n",
    "![thing](images/Screenshot%202024-04-04%20at%203.10.22%E2%80%AFPM.png)"
   ],
   "metadata": {
    "collapsed": false
   },
   "id": "648061330eed2242"
  },
  {
   "cell_type": "code",
   "execution_count": null,
   "outputs": [],
   "source": [],
   "metadata": {
    "collapsed": false
   },
   "id": "24dff180de98f206"
  }
 ],
 "metadata": {
  "kernelspec": {
   "name": "lsdb",
   "language": "python",
   "display_name": "lsdb-sean"
  },
  "language_info": {
   "codemirror_mode": {
    "name": "ipython",
    "version": 2
   },
   "file_extension": ".py",
   "mimetype": "text/x-python",
   "name": "python",
   "nbconvert_exporter": "python",
   "pygments_lexer": "ipython2",
   "version": "2.7.6"
  }
 },
 "nbformat": 4,
 "nbformat_minor": 5
}
