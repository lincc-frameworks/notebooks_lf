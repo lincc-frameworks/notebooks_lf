{
 "cells": [
  {
   "cell_type": "code",
   "execution_count": 2,
   "id": "d0e4106a",
   "metadata": {},
   "outputs": [],
   "source": [
    "import pyarrow.parquet as pq\n",
    "import pandas as pd\n",
    "\n",
    "## You're gonna want to change this file name!!\n",
    "\n",
    "file_name = \"/data3/epyc/data3/hipscat/catalogs/ztf_axs/ztf_zource/Norder=7/Dir=130000/Npix=130932.parquet\"\n",
    "parquet_file = pq.ParquetFile(file_name)"
   ]
  },
  {
   "cell_type": "code",
   "execution_count": 4,
   "id": "584c3716",
   "metadata": {},
   "outputs": [
    {
     "name": "stdout",
     "output_type": "stream",
     "text": [
      "cols 24\n",
      "row groups 11\n"
     ]
    }
   ],
   "source": [
    "print(\"cols\", parquet_file.metadata.num_columns)\n",
    "cols = parquet_file.metadata.num_columns\n",
    "print(\"row groups\", parquet_file.metadata.num_row_groups)\n",
    "row_groups = parquet_file.metadata.num_row_groups"
   ]
  },
  {
   "cell_type": "code",
   "execution_count": 5,
   "id": "6abb7ed4",
   "metadata": {},
   "outputs": [
    {
     "name": "stdout",
     "output_type": "stream",
     "text": [
      "               name        size    percent\n",
      "16           magerr  51229547.0  28.834308\n",
      "15              mag  51087570.0  28.754397\n",
      "23   _hipscat_index  47775080.0  26.889978\n",
      "17              mjd  20399453.0  11.481736\n",
      "18             rcID   2182980.0   1.228680\n",
      "14          fieldID   2170056.0   1.221406\n",
      "13         catflags    925820.0   0.521093\n",
      "19             band    797339.0   0.448778\n",
      "6   ps1_iMeanPSFMag    113222.0   0.063726\n",
      "1         ps1_objid    108600.0   0.061125\n",
      "11       mean_mag_r    108176.0   0.060886\n",
      "5   ps1_rMeanPSFMag    100396.0   0.056507\n",
      "12       mean_mag_i     99673.0   0.056100\n",
      "3               dec     90643.0   0.051018\n",
      "2                ra     89644.0   0.050456\n",
      "10       mean_mag_g     81530.0   0.045889\n",
      "0             index     80393.0   0.045249\n",
      "4   ps1_gMeanPSFMag     79198.0   0.044576\n",
      "8            nobs_r     62346.0   0.035091\n",
      "7            nobs_g     48939.0   0.027545\n",
      "9            nobs_i     35452.0   0.019954\n",
      "21              Dir       932.0   0.000525\n",
      "22             Npix       932.0   0.000525\n",
      "20           Norder       800.0   0.000450\n"
     ]
    }
   ],
   "source": [
    "## Size on disk of each column\n",
    "\n",
    "import numpy as np\n",
    "import pandas as pd\n",
    "\n",
    "sizes = np.zeros(cols)\n",
    "\n",
    "for rg in range(row_groups):\n",
    "    for col in range (cols):\n",
    "        sizes[col] += parquet_file.metadata.row_group(rg).column(col).total_compressed_size\n",
    "        \n",
    "frame = pd.DataFrame({\"name\":parquet_file.schema.names, \"size\":sizes})\n",
    "frame['percent'] = frame['size'] / frame['size'].sum() *100\n",
    "frame = frame.sort_values(\"size\", ascending=False)\n",
    "frame.to_csv(\"/data3/epyc/data3/hipscat/raw/ztf_zource_col_size.csv\")\n",
    "print(frame)"
   ]
  },
  {
   "cell_type": "code",
   "execution_count": 7,
   "id": "a78eb1cb",
   "metadata": {},
   "outputs": [],
   "source": [
    "file_name = \"/data3/epyc/data3/hats/catalogs/ztf_dr14/ztf_source/dataset/Norder=7/Dir=130000/Npix=130932.parquet\"\n",
    "parquet_file = pq.ParquetFile(file_name)"
   ]
  },
  {
   "cell_type": "code",
   "execution_count": 8,
   "id": "ab5a37cf",
   "metadata": {},
   "outputs": [
    {
     "name": "stdout",
     "output_type": "stream",
     "text": [
      "cols 24\n",
      "row groups 11\n"
     ]
    }
   ],
   "source": [
    "print(\"cols\", parquet_file.metadata.num_columns)\n",
    "cols = parquet_file.metadata.num_columns\n",
    "print(\"row groups\", parquet_file.metadata.num_row_groups)\n",
    "row_groups = parquet_file.metadata.num_row_groups"
   ]
  },
  {
   "cell_type": "code",
   "execution_count": 9,
   "id": "b48d86f5",
   "metadata": {},
   "outputs": [
    {
     "name": "stdout",
     "output_type": "stream",
     "text": [
      "               name        size    percent\n",
      "17           magerr  51229547.0  39.405598\n",
      "16              mag  51087570.0  39.296389\n",
      "18              mjd  20399453.0  15.691192\n",
      "19             rcID   2182980.0   1.679141\n",
      "15          fieldID   2170056.0   1.669200\n",
      "14         catflags    925820.0   0.712138\n",
      "20             band    797339.0   0.613311\n",
      "7   ps1_iMeanPSFMag    113222.0   0.087090\n",
      "0       _healpix_29    111548.0   0.085802\n",
      "2         ps1_objid    108600.0   0.083535\n",
      "12       mean_mag_r    108176.0   0.083209\n",
      "6   ps1_rMeanPSFMag    100396.0   0.077224\n",
      "13       mean_mag_i     99673.0   0.076668\n",
      "4               dec     90643.0   0.069722\n",
      "3                ra     89644.0   0.068954\n",
      "11       mean_mag_g     81530.0   0.062713\n",
      "1             index     80393.0   0.061838\n",
      "5   ps1_gMeanPSFMag     79198.0   0.060919\n",
      "9            nobs_r     62346.0   0.047956\n",
      "8            nobs_g     48939.0   0.037644\n",
      "10           nobs_i     35452.0   0.027270\n",
      "22              Dir      1152.0   0.000886\n",
      "23             Npix      1152.0   0.000886\n",
      "21           Norder       932.0   0.000717\n"
     ]
    }
   ],
   "source": [
    "## Size on disk of each column\n",
    "\n",
    "import numpy as np\n",
    "import pandas as pd\n",
    "\n",
    "sizes = np.zeros(cols)\n",
    "\n",
    "for rg in range(row_groups):\n",
    "    for col in range (cols):\n",
    "        sizes[col] += parquet_file.metadata.row_group(rg).column(col).total_compressed_size\n",
    "        \n",
    "frame = pd.DataFrame({\"name\":parquet_file.schema.names, \"size\":sizes})\n",
    "frame['percent'] = frame['size'] / frame['size'].sum() *100\n",
    "frame = frame.sort_values(\"size\", ascending=False)\n",
    "frame.to_csv(\"/data3/epyc/data3/hipscat/raw/ztf_zource_col_size.csv\")\n",
    "print(frame)"
   ]
  },
  {
   "cell_type": "code",
   "execution_count": null,
   "id": "1cdabf7e",
   "metadata": {},
   "outputs": [],
   "source": []
  }
 ],
 "metadata": {
  "kernelspec": {
   "display_name": "Melissa HATS",
   "language": "python",
   "name": "hatsenv"
  },
  "language_info": {
   "codemirror_mode": {
    "name": "ipython",
    "version": 3
   },
   "file_extension": ".py",
   "mimetype": "text/x-python",
   "name": "python",
   "nbconvert_exporter": "python",
   "pygments_lexer": "ipython3",
   "version": "3.10.15"
  }
 },
 "nbformat": 4,
 "nbformat_minor": 5
}
