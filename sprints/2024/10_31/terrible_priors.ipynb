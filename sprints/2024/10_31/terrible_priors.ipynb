{
 "cells": [
  {
   "cell_type": "markdown",
   "id": "f3817da5",
   "metadata": {},
   "source": [
    "# Generating terrible priors\n",
    "\n",
    "Author: Melissa\n",
    "\n",
    "To support work on PhotoD incubator, I was not able to reach the priors files I wanted. So I figured I would make my own. It went weirdly, so I'm showing my work.\n",
    "\n",
    "This creates a simple \"map\" table dataset that is a map of `{order 3 pixel -> sum of objects in all child pixels}`. This is an appropriate proxy for a kernel density estimate."
   ]
  },
  {
   "cell_type": "code",
   "execution_count": 1,
   "id": "7cb80961",
   "metadata": {},
   "outputs": [],
   "source": [
    "import lsdb\n",
    "import healpy as hp"
   ]
  },
  {
   "cell_type": "code",
   "execution_count": 2,
   "id": "2e36091b",
   "metadata": {},
   "outputs": [],
   "source": [
    "target_pixels = [40, 42, 43, 46, 47, 58, 59, 62, 63]"
   ]
  },
  {
   "cell_type": "code",
   "execution_count": 3,
   "id": "3ab7cce6",
   "metadata": {},
   "outputs": [],
   "source": [
    "from lsdb.core.search.pixel_search import PixelSearch\n",
    "\n",
    "pixel_search = PixelSearch(pixels=[(3, pix) for pix in target_pixels])"
   ]
  },
  {
   "cell_type": "code",
   "execution_count": 4,
   "id": "c90381ee",
   "metadata": {},
   "outputs": [],
   "source": [
    "gaia = lsdb.read_hats(\"/data3/epyc/data3/hats/catalogs/gaia_dr3/gaia\", search_filter=pixel_search)"
   ]
  },
  {
   "cell_type": "code",
   "execution_count": 5,
   "id": "7e4971cf",
   "metadata": {},
   "outputs": [],
   "source": [
    "gaia_pixel_list = gaia.get_healpix_pixels()"
   ]
  },
  {
   "cell_type": "code",
   "execution_count": 6,
   "id": "a9d7a64f",
   "metadata": {},
   "outputs": [
    {
     "data": {
      "image/png": "[encoded data removed]",
      "text/plain": [
       "<Figure size 850x540 with 2 Axes>"
      ]
     },
     "metadata": {},
     "output_type": "display_data"
    }
   ],
   "source": [
    "gaia.plot_pixels()"
   ]
  },
  {
   "cell_type": "markdown",
   "id": "099cda4e",
   "metadata": {},
   "source": [
    "From the 9 order 3 pixels above, we have 25 pixels of mixed order, between 3 and 5."
   ]
  },
  {
   "cell_type": "code",
   "execution_count": 7,
   "id": "ab165432",
   "metadata": {},
   "outputs": [
    {
     "data": {
      "text/plain": [
       "[Order: 3, Pixel: 40,\n",
       " Order: 3, Pixel: 42,\n",
       " Order: 4, Pixel: 172,\n",
       " Order: 4, Pixel: 173,\n",
       " Order: 4, Pixel: 174,\n",
       " Order: 4, Pixel: 175,\n",
       " Order: 4, Pixel: 184,\n",
       " Order: 4, Pixel: 185,\n",
       " Order: 4, Pixel: 186,\n",
       " Order: 4, Pixel: 187,\n",
       " Order: 4, Pixel: 188,\n",
       " Order: 4, Pixel: 189,\n",
       " Order: 5, Pixel: 760,\n",
       " Order: 5, Pixel: 761,\n",
       " Order: 5, Pixel: 762,\n",
       " Order: 5, Pixel: 763,\n",
       " Order: 5, Pixel: 764,\n",
       " Order: 5, Pixel: 765,\n",
       " Order: 5, Pixel: 766,\n",
       " Order: 5, Pixel: 767,\n",
       " Order: 4, Pixel: 232,\n",
       " Order: 4, Pixel: 233,\n",
       " Order: 4, Pixel: 234,\n",
       " Order: 4, Pixel: 235,\n",
       " Order: 4, Pixel: 236,\n",
       " Order: 4, Pixel: 237,\n",
       " Order: 4, Pixel: 238,\n",
       " Order: 4, Pixel: 239,\n",
       " Order: 3, Pixel: 62,\n",
       " Order: 3, Pixel: 63]"
      ]
     },
     "execution_count": 7,
     "metadata": {},
     "output_type": "execute_result"
    }
   ],
   "source": [
    "gaia_pixel_list"
   ]
  },
  {
   "cell_type": "code",
   "execution_count": 8,
   "id": "774f7d98",
   "metadata": {},
   "outputs": [],
   "source": [
    "hist = gaia.skymap_histogram(lambda x, p: len(x))"
   ]
  },
  {
   "cell_type": "code",
   "execution_count": 9,
   "id": "d8d24b90",
   "metadata": {},
   "outputs": [
    {
     "name": "stdout",
     "output_type": "stream",
     "text": [
      "15722625\n"
     ]
    }
   ],
   "source": [
    "big_sum = 0\n",
    "vals = []\n",
    "for pix in target_pixels:\n",
    "    ## This is a HACK and it's bad.\n",
    "    little_sum = int(sum(set(hist[pix*16: (pix+1)*16])))\n",
    "    vals.append(little_sum)\n",
    "    big_sum += little_sum\n",
    "    \n",
    "print(big_sum)"
   ]
  },
  {
   "cell_type": "code",
   "execution_count": 10,
   "id": "835bca24",
   "metadata": {},
   "outputs": [
    {
     "data": {
      "text/plain": [
       "15722625"
      ]
     },
     "execution_count": 10,
     "metadata": {},
     "output_type": "execute_result"
    }
   ],
   "source": [
    "## Confirm that the totals are the same.\n",
    "len(gaia.compute())"
   ]
  },
  {
   "cell_type": "code",
   "execution_count": 11,
   "id": "714c7082",
   "metadata": {},
   "outputs": [],
   "source": [
    "from hats.pixel_math.spatial_index import healpix_to_spatial_index\n",
    "\n",
    "healpix_29 = healpix_to_spatial_index(3, target_pixels)"
   ]
  },
  {
   "cell_type": "markdown",
   "id": "68cf87a8",
   "metadata": {},
   "source": [
    "Create a simple dataframe with `healpix_29` of the order 3 pixel and the count of objects. This will include galaxies and other non-star things, but I'm being lazy and calling it `\"star_count\"`."
   ]
  },
  {
   "cell_type": "code",
   "execution_count": 12,
   "id": "ef4528df",
   "metadata": {},
   "outputs": [
    {
     "data": {
      "text/html": [
       "<div>\n",
       "<style scoped>\n",
       "    .dataframe tbody tr th:only-of-type {\n",
       "        vertical-align: middle;\n",
       "    }\n",
       "\n",
       "    .dataframe tbody tr th {\n",
       "        vertical-align: top;\n",
       "    }\n",
       "\n",
       "    .dataframe thead th {\n",
       "        text-align: right;\n",
       "    }\n",
       "</style>\n",
       "<table border=\"1\" class=\"dataframe\">\n",
       "  <thead>\n",
       "    <tr style=\"text-align: right;\">\n",
       "      <th></th>\n",
       "      <th>_healpix_29</th>\n",
       "      <th>star_count</th>\n",
       "    </tr>\n",
       "  </thead>\n",
       "  <tbody>\n",
       "    <tr>\n",
       "      <th>0</th>\n",
       "      <td>180143985094819840</td>\n",
       "      <td>462369</td>\n",
       "    </tr>\n",
       "    <tr>\n",
       "      <th>1</th>\n",
       "      <td>189151184349560832</td>\n",
       "      <td>785367</td>\n",
       "    </tr>\n",
       "    <tr>\n",
       "      <th>2</th>\n",
       "      <td>193654783976931328</td>\n",
       "      <td>1355242</td>\n",
       "    </tr>\n",
       "    <tr>\n",
       "      <th>3</th>\n",
       "      <td>207165582859042816</td>\n",
       "      <td>2482194</td>\n",
       "    </tr>\n",
       "    <tr>\n",
       "      <th>4</th>\n",
       "      <td>211669182486413312</td>\n",
       "      <td>3957394</td>\n",
       "    </tr>\n",
       "    <tr>\n",
       "      <th>5</th>\n",
       "      <td>261208778387488768</td>\n",
       "      <td>3014816</td>\n",
       "    </tr>\n",
       "    <tr>\n",
       "      <th>6</th>\n",
       "      <td>265712378014859264</td>\n",
       "      <td>2112621</td>\n",
       "    </tr>\n",
       "    <tr>\n",
       "      <th>7</th>\n",
       "      <td>279223176896970752</td>\n",
       "      <td>977035</td>\n",
       "    </tr>\n",
       "    <tr>\n",
       "      <th>8</th>\n",
       "      <td>283726776524341248</td>\n",
       "      <td>575587</td>\n",
       "    </tr>\n",
       "  </tbody>\n",
       "</table>\n",
       "</div>"
      ],
      "text/plain": [
       "          _healpix_29  star_count\n",
       "0  180143985094819840      462369\n",
       "1  189151184349560832      785367\n",
       "2  193654783976931328     1355242\n",
       "3  207165582859042816     2482194\n",
       "4  211669182486413312     3957394\n",
       "5  261208778387488768     3014816\n",
       "6  265712378014859264     2112621\n",
       "7  279223176896970752      977035\n",
       "8  283726776524341248      575587"
      ]
     },
     "execution_count": 12,
     "metadata": {},
     "output_type": "execute_result"
    }
   ],
   "source": [
    "import pandas as pd\n",
    "\n",
    "value_frame = pd.DataFrame({\"_healpix_29\": healpix_29, \"star_count\": vals})\n",
    "value_frame"
   ]
  },
  {
   "cell_type": "code",
   "execution_count": 13,
   "id": "de28759e",
   "metadata": {},
   "outputs": [],
   "source": [
    "value_frame.to_csv(\"value_frame.csv\", index=False)"
   ]
  },
  {
   "cell_type": "code",
   "execution_count": 14,
   "id": "b6129208",
   "metadata": {},
   "outputs": [
    {
     "name": "stderr",
     "output_type": "stream",
     "text": [
      "/astro/users/mmd11/.conda/envs/hatsenv/lib/python3.10/site-packages/distributed/node.py:187: UserWarning: Port 8787 is already in use.\n",
      "Perhaps you already have a cluster running?\n",
      "Hosting the HTTP server on port 39133 instead\n",
      "  warnings.warn(\n"
     ]
    },
    {
     "data": {
      "application/vnd.jupyter.widget-view+json": {
       "model_id": "9c21404c9d5545dcb6b14f524d6fec23",
       "version_major": 2,
       "version_minor": 0
      },
      "text/plain": [
       "Planning  :   0%|          | 0/4 [00:00<?, ?it/s]"
      ]
     },
     "metadata": {},
     "output_type": "display_data"
    },
    {
     "data": {
      "application/vnd.jupyter.widget-view+json": {
       "model_id": "46a87cd415fe46b980a43e175d65a038",
       "version_major": 2,
       "version_minor": 0
      },
      "text/plain": [
       "Mapping   :   0%|          | 0/1 [00:00<?, ?it/s]"
      ]
     },
     "metadata": {},
     "output_type": "display_data"
    },
    {
     "data": {
      "application/vnd.jupyter.widget-view+json": {
       "model_id": "0dc78fe163df45dd864b9d784fb00c14",
       "version_major": 2,
       "version_minor": 0
      },
      "text/plain": [
       "Binning   :   0%|          | 0/2 [00:00<?, ?it/s]"
      ]
     },
     "metadata": {},
     "output_type": "display_data"
    },
    {
     "data": {
      "application/vnd.jupyter.widget-view+json": {
       "model_id": "8cf254852ac0446eb6d1e90558e6ce2a",
       "version_major": 2,
       "version_minor": 0
      },
      "text/plain": [
       "Splitting :   0%|          | 0/1 [00:00<?, ?it/s]"
      ]
     },
     "metadata": {},
     "output_type": "display_data"
    },
    {
     "data": {
      "application/vnd.jupyter.widget-view+json": {
       "model_id": "2a7ee3adcc2e4236b0245ea07f60df6f",
       "version_major": 2,
       "version_minor": 0
      },
      "text/plain": [
       "Reducing  :   0%|          | 0/9 [00:00<?, ?it/s]"
      ]
     },
     "metadata": {},
     "output_type": "display_data"
    },
    {
     "data": {
      "application/vnd.jupyter.widget-view+json": {
       "model_id": "6e267fd5ddf946409d0eb9c74c52f739",
       "version_major": 2,
       "version_minor": 0
      },
      "text/plain": [
       "Finishing :   0%|          | 0/4 [00:00<?, ?it/s]"
      ]
     },
     "metadata": {},
     "output_type": "display_data"
    }
   ],
   "source": [
    "## Import it into a \"catalog\". This is a HACK as well, and could be done better, later.\n",
    "\n",
    "from dask.distributed import Client\n",
    "from hats_import.catalog.arguments import ImportArguments\n",
    "from hats_import.pipeline import pipeline_with_client\n",
    "\n",
    "args = ImportArguments(\n",
    "    constant_healpix_order=3,\n",
    "    use_healpix_29=True,\n",
    "    file_reader=\"csv\",\n",
    "    input_file_list=[\"value_frame.csv\"],\n",
    "    output_artifact_name=\"star_counts\",\n",
    "    output_path=\"/astro/users/mmd11/data\",\n",
    "    resume=False,\n",
    ")\n",
    "\n",
    "with Client(n_workers=1) as client:\n",
    "    pipeline_with_client(args, client)"
   ]
  },
  {
   "cell_type": "code",
   "execution_count": 15,
   "id": "56efe603",
   "metadata": {},
   "outputs": [
    {
     "data": {
      "text/plain": [
       "9"
      ]
     },
     "execution_count": 15,
     "metadata": {},
     "output_type": "execute_result"
    }
   ],
   "source": [
    "star_count_map = lsdb.read_hats(\"/astro/users/mmd11/data/star_counts\")\n",
    "len(star_count_map)"
   ]
  },
  {
   "cell_type": "markdown",
   "id": "daae1b08",
   "metadata": {},
   "source": [
    "PERFECT!!! Moving on to **using** the data in some interesting way!"
   ]
  },
  {
   "cell_type": "code",
   "execution_count": null,
   "id": "63daffa7",
   "metadata": {},
   "outputs": [],
   "source": []
  }
 ],
 "metadata": {
  "kernelspec": {
   "display_name": "Melissa HATS",
   "language": "python",
   "name": "hatsenv"
  },
  "language_info": {
   "codemirror_mode": {
    "name": "ipython",
    "version": 3
   },
   "file_extension": ".py",
   "mimetype": "text/x-python",
   "name": "python",
   "nbconvert_exporter": "python",
   "pygments_lexer": "ipython3",
   "version": "3.10.15"
  }
 },
 "nbformat": 4,
 "nbformat_minor": 5
}
