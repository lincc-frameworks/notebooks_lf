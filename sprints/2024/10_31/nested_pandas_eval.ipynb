{
 "cells": [
  {
   "cell_type": "code",
   "execution_count": 4,
   "id": "671452a2-16e6-4712-90e0-411c755080ce",
   "metadata": {},
   "outputs": [],
   "source": [
    "import random\n",
    "random.seed(0)  # reproducibility"
   ]
  },
  {
   "cell_type": "code",
   "execution_count": 5,
   "id": "497bed8e-0b55-4a6d-bfad-1407eea6e8a3",
   "metadata": {},
   "outputs": [
    {
     "data": {
      "text/html": [
       "<div>\n",
       "<style scoped>\n",
       "    .dataframe tbody tr th:only-of-type {\n",
       "        vertical-align: middle;\n",
       "    }\n",
       "\n",
       "    .dataframe tbody tr th {\n",
       "        vertical-align: top;\n",
       "    }\n",
       "\n",
       "    .dataframe thead th {\n",
       "        text-align: right;\n",
       "    }\n",
       "</style>\n",
       "<table border=\"1\" class=\"dataframe\">\n",
       "  <thead>\n",
       "    <tr style=\"text-align: right;\">\n",
       "      <th></th>\n",
       "      <th>a</th>\n",
       "      <th>b</th>\n",
       "      <th>nested</th>\n",
       "    </tr>\n",
       "  </thead>\n",
       "  <tbody>\n",
       "    <tr>\n",
       "      <th>0</th>\n",
       "      <td>0.497468</td>\n",
       "      <td>0.213846</td>\n",
       "      <td>t       flux band\n",
       "0   19.168439  7...</td>\n",
       "    </tr>\n",
       "    <tr>\n",
       "      <th>1</th>\n",
       "      <td>0.080885</td>\n",
       "      <td>1.677626</td>\n",
       "      <td>t       flux band\n",
       "0    3.670942  3...</td>\n",
       "    </tr>\n",
       "    <tr>\n",
       "      <th>2</th>\n",
       "      <td>0.598974</td>\n",
       "      <td>1.929117</td>\n",
       "      <td>t       flux band\n",
       "0    4.472565  3...</td>\n",
       "    </tr>\n",
       "    <tr>\n",
       "      <th>3</th>\n",
       "      <td>0.265504</td>\n",
       "      <td>0.654886</td>\n",
       "      <td>t       flux band\n",
       "0    6.047763  4...</td>\n",
       "    </tr>\n",
       "    <tr>\n",
       "      <th>4</th>\n",
       "      <td>0.430084</td>\n",
       "      <td>0.867972</td>\n",
       "      <td>t       flux band\n",
       "0    3.085544  7...</td>\n",
       "    </tr>\n",
       "    <tr>\n",
       "      <th>5</th>\n",
       "      <td>0.229539</td>\n",
       "      <td>0.119194</td>\n",
       "      <td>t       flux band\n",
       "0    5.281058  3...</td>\n",
       "    </tr>\n",
       "    <tr>\n",
       "      <th>6</th>\n",
       "      <td>0.372890</td>\n",
       "      <td>0.203122</td>\n",
       "      <td>t       flux band\n",
       "0    7.933723  9...</td>\n",
       "    </tr>\n",
       "    <tr>\n",
       "      <th>7</th>\n",
       "      <td>0.542007</td>\n",
       "      <td>1.169242</td>\n",
       "      <td>t       flux band\n",
       "0   17.323921  3...</td>\n",
       "    </tr>\n",
       "    <tr>\n",
       "      <th>8</th>\n",
       "      <td>0.583941</td>\n",
       "      <td>1.711632</td>\n",
       "      <td>t       flux band\n",
       "0    3.251722  9...</td>\n",
       "    </tr>\n",
       "    <tr>\n",
       "      <th>9</th>\n",
       "      <td>0.907824</td>\n",
       "      <td>0.520125</td>\n",
       "      <td>t       flux band\n",
       "0    4.126267  3...</td>\n",
       "    </tr>\n",
       "  </tbody>\n",
       "</table>\n",
       "</div>"
      ],
      "text/plain": [
       "          a         b                                             nested\n",
       "0  0.497468  0.213846              t       flux band\n",
       "0   19.168439  7...\n",
       "1  0.080885  1.677626              t       flux band\n",
       "0    3.670942  3...\n",
       "2  0.598974  1.929117              t       flux band\n",
       "0    4.472565  3...\n",
       "3  0.265504  0.654886              t       flux band\n",
       "0    6.047763  4...\n",
       "4  0.430084  0.867972              t       flux band\n",
       "0    3.085544  7...\n",
       "5  0.229539  0.119194              t       flux band\n",
       "0    5.281058  3...\n",
       "6  0.372890  0.203122              t       flux band\n",
       "0    7.933723  9...\n",
       "7  0.542007  1.169242              t       flux band\n",
       "0   17.323921  3...\n",
       "8  0.583941  1.711632              t       flux band\n",
       "0    3.251722  9...\n",
       "9  0.907824  0.520125              t       flux band\n",
       "0    4.126267  3..."
      ]
     },
     "execution_count": 5,
     "metadata": {},
     "output_type": "execute_result"
    }
   ],
   "source": [
    "from nested_pandas.datasets import generate_data\n",
    "\n",
    "nf = generate_data(10, 100)\n",
    "nf"
   ]
  },
  {
   "cell_type": "code",
   "execution_count": 36,
   "id": "82e73f60-d9d2-418f-bd27-4706d37e8c8b",
   "metadata": {},
   "outputs": [
    {
     "data": {
      "text/plain": [
       "((10, 3), (6, 3))"
      ]
     },
     "execution_count": 36,
     "metadata": {},
     "output_type": "execute_result"
    }
   ],
   "source": [
    "# The incorrect parsing of some scientific notation was the original motivation;\n",
    "# by leaving query() mostly alone and extending the underlying NestedFrame.eval()\n",
    "# method, all parsing issues are gone.\n",
    "nf_s = nf.query(\"a < 5e-1\")\n",
    "nf.shape, nf_s.shape"
   ]
  },
  {
   "cell_type": "code",
   "execution_count": 13,
   "id": "e3c0555c-9f8f-412c-bc9e-09efcf479a7f",
   "metadata": {},
   "outputs": [
    {
     "data": {
      "text/plain": [
       "0    5.296883\n",
       "1    4.880300\n",
       "2    5.398389\n",
       "3    5.064918\n",
       "4    5.229499\n",
       "5    5.028954\n",
       "6    5.172305\n",
       "7    5.341422\n",
       "8    5.383356\n",
       "9    5.707239\n",
       "Name: a, dtype: float64"
      ]
     },
     "execution_count": 13,
     "metadata": {},
     "output_type": "execute_result"
    }
   ],
   "source": [
    "# We can also use all the other Pandas features of eval() on nested columns\n",
    "# and even on a mix of nested and base columns.  This includes calling\n",
    "# numeric methods:\n",
    "nf.eval(\"a + nested.flux.mean() / nested.t.median()\")"
   ]
  },
  {
   "cell_type": "code",
   "execution_count": 14,
   "id": "01e4d3b0-e16c-4cb4-9893-a58d1ecd8727",
   "metadata": {},
   "outputs": [
    {
     "data": {
      "text/plain": [
       "Index(['a', 'b', 'nested', 'd'], dtype='object')"
      ]
     },
     "execution_count": 14,
     "metadata": {},
     "output_type": "execute_result"
    }
   ],
   "source": [
    "# You can also use assignment to create not only new base columns...\n",
    "nf_b = nf.eval(\"d = a + b\")\n",
    "nf_b.columns"
   ]
  },
  {
   "cell_type": "code",
   "execution_count": 20,
   "id": "7db92e59-bb84-4dd0-879f-ba2743b72910",
   "metadata": {},
   "outputs": [
    {
     "data": {
      "text/plain": [
       "['t', 'flux', 'band', 'f2']"
      ]
     },
     "execution_count": 20,
     "metadata": {},
     "output_type": "execute_result"
    }
   ],
   "source": [
    "# ...but also new nested columns...\n",
    "nf_n = nf.eval(\"nested.f2 = nested.flux * 2\")\n",
    "nf_n.nested.nest.fields"
   ]
  },
  {
   "cell_type": "code",
   "execution_count": 25,
   "id": "ca295c37-2d5a-4264-99c1-50a64fb4d9bd",
   "metadata": {},
   "outputs": [
    {
     "data": {
      "text/plain": [
       "0    145.865779\n",
       "0      61.82493\n",
       "0    118.180083\n",
       "0    106.113991\n",
       "0    144.867418\n",
       "        ...    \n",
       "9      4.856042\n",
       "9    111.532587\n",
       "9     90.839491\n",
       "9    136.551176\n",
       "9    124.248486\n",
       "Name: g, Length: 1000, dtype: double[pyarrow]"
      ]
     },
     "execution_count": 25,
     "metadata": {},
     "output_type": "execute_result"
    }
   ],
   "source": [
    "# ...and even new nests!\n",
    "# Note that you can mix base columns into these expressions, too.\n",
    "nf_n2 = nf.eval(\"packed.g = nested.flux * 2 + a\")\n",
    "nf_n2.packed.nest[\"g\"]"
   ]
  },
  {
   "cell_type": "code",
   "execution_count": 32,
   "id": "170103e1-c6d9-4a83-8d8b-94c15eeaf9da",
   "metadata": {},
   "outputs": [
    {
     "data": {
      "text/plain": [
       "Index(['a', 'b', 'nested', 'd', 'p2'], dtype='object')"
      ]
     },
     "metadata": {},
     "output_type": "display_data"
    },
    {
     "data": {
      "text/plain": [
       "['g']"
      ]
     },
     "metadata": {},
     "output_type": "display_data"
    },
    {
     "data": {
      "text/plain": [
       "['t', 'flux', 'band', 'f2']"
      ]
     },
     "metadata": {},
     "output_type": "display_data"
    },
    {
     "data": {
      "text/html": [
       "<div>\n",
       "<style scoped>\n",
       "    .dataframe tbody tr th:only-of-type {\n",
       "        vertical-align: middle;\n",
       "    }\n",
       "\n",
       "    .dataframe tbody tr th {\n",
       "        vertical-align: top;\n",
       "    }\n",
       "\n",
       "    .dataframe thead th {\n",
       "        text-align: right;\n",
       "    }\n",
       "</style>\n",
       "<table border=\"1\" class=\"dataframe\">\n",
       "  <thead>\n",
       "    <tr style=\"text-align: right;\">\n",
       "      <th></th>\n",
       "      <th>a</th>\n",
       "      <th>b</th>\n",
       "      <th>nested</th>\n",
       "      <th>d</th>\n",
       "      <th>p2</th>\n",
       "    </tr>\n",
       "  </thead>\n",
       "  <tbody>\n",
       "    <tr>\n",
       "      <th>0</th>\n",
       "      <td>0.497468</td>\n",
       "      <td>0.213846</td>\n",
       "      <td>t       flux band          f2\n",
       "0   ...</td>\n",
       "      <td>0.925160</td>\n",
       "      <td>g\n",
       "0   36.839546\n",
       "1   15.829333\n",
       "2   ...</td>\n",
       "    </tr>\n",
       "    <tr>\n",
       "      <th>1</th>\n",
       "      <td>0.080885</td>\n",
       "      <td>1.677626</td>\n",
       "      <td>t       flux band          f2\n",
       "0   ...</td>\n",
       "      <td>3.436136</td>\n",
       "      <td>g\n",
       "0   16.888618\n",
       "1    4.874770\n",
       "2   ...</td>\n",
       "    </tr>\n",
       "    <tr>\n",
       "      <th>2</th>\n",
       "      <td>0.598974</td>\n",
       "      <td>1.929117</td>\n",
       "      <td>t       flux band          f2\n",
       "0   ...</td>\n",
       "      <td>4.457208</td>\n",
       "      <td>g\n",
       "0   19.830519\n",
       "1   30.668843\n",
       "2   ...</td>\n",
       "    </tr>\n",
       "    <tr>\n",
       "      <th>3</th>\n",
       "      <td>0.265504</td>\n",
       "      <td>0.654886</td>\n",
       "      <td>t       flux band          f2\n",
       "0   ...</td>\n",
       "      <td>1.575276</td>\n",
       "      <td>g\n",
       "0   22.886778\n",
       "1    4.881611\n",
       "2   ...</td>\n",
       "    </tr>\n",
       "    <tr>\n",
       "      <th>4</th>\n",
       "      <td>0.430084</td>\n",
       "      <td>0.867972</td>\n",
       "      <td>t       flux band          f2\n",
       "0   ...</td>\n",
       "      <td>2.166027</td>\n",
       "      <td>g\n",
       "0   39.739070\n",
       "1   40.990789\n",
       "2   ...</td>\n",
       "    </tr>\n",
       "    <tr>\n",
       "      <th>5</th>\n",
       "      <td>0.229539</td>\n",
       "      <td>0.119194</td>\n",
       "      <td>t       flux band          f2\n",
       "0   ...</td>\n",
       "      <td>0.467927</td>\n",
       "      <td>g\n",
       "0   16.277913\n",
       "1    8.316289\n",
       "2   ...</td>\n",
       "    </tr>\n",
       "    <tr>\n",
       "      <th>6</th>\n",
       "      <td>0.372890</td>\n",
       "      <td>0.203122</td>\n",
       "      <td>t       flux band          f2\n",
       "0   ...</td>\n",
       "      <td>0.779134</td>\n",
       "      <td>g\n",
       "0   45.534103\n",
       "1    5.589673\n",
       "2   ...</td>\n",
       "    </tr>\n",
       "    <tr>\n",
       "      <th>7</th>\n",
       "      <td>0.542007</td>\n",
       "      <td>1.169242</td>\n",
       "      <td>t       flux band          f2\n",
       "0   ...</td>\n",
       "      <td>2.880491</td>\n",
       "      <td>g\n",
       "0   19.324947\n",
       "1    5.110645\n",
       "2   ...</td>\n",
       "    </tr>\n",
       "    <tr>\n",
       "      <th>8</th>\n",
       "      <td>0.583941</td>\n",
       "      <td>1.711632</td>\n",
       "      <td>t       flux band          f2\n",
       "0   ...</td>\n",
       "      <td>4.007204</td>\n",
       "      <td>g\n",
       "0   47.816739\n",
       "1   11.572494\n",
       "2   ...</td>\n",
       "    </tr>\n",
       "    <tr>\n",
       "      <th>9</th>\n",
       "      <td>0.907824</td>\n",
       "      <td>0.520125</td>\n",
       "      <td>t       flux band          f2\n",
       "0   ...</td>\n",
       "      <td>1.948073</td>\n",
       "      <td>g\n",
       "0   17.354108\n",
       "1   49.114442\n",
       "2   ...</td>\n",
       "    </tr>\n",
       "  </tbody>\n",
       "</table>\n",
       "</div>"
      ],
      "text/plain": [
       "          a         b                                             nested  \\\n",
       "0  0.497468  0.213846              t       flux band          f2\n",
       "0   ...   \n",
       "1  0.080885  1.677626              t       flux band          f2\n",
       "0   ...   \n",
       "2  0.598974  1.929117              t       flux band          f2\n",
       "0   ...   \n",
       "3  0.265504  0.654886              t       flux band          f2\n",
       "0   ...   \n",
       "4  0.430084  0.867972              t       flux band          f2\n",
       "0   ...   \n",
       "5  0.229539  0.119194              t       flux band          f2\n",
       "0   ...   \n",
       "6  0.372890  0.203122              t       flux band          f2\n",
       "0   ...   \n",
       "7  0.542007  1.169242              t       flux band          f2\n",
       "0   ...   \n",
       "8  0.583941  1.711632              t       flux band          f2\n",
       "0   ...   \n",
       "9  0.907824  0.520125              t       flux band          f2\n",
       "0   ...   \n",
       "\n",
       "          d                                                 p2  \n",
       "0  0.925160              g\n",
       "0   36.839546\n",
       "1   15.829333\n",
       "2   ...  \n",
       "1  3.436136              g\n",
       "0   16.888618\n",
       "1    4.874770\n",
       "2   ...  \n",
       "2  4.457208              g\n",
       "0   19.830519\n",
       "1   30.668843\n",
       "2   ...  \n",
       "3  1.575276              g\n",
       "0   22.886778\n",
       "1    4.881611\n",
       "2   ...  \n",
       "4  2.166027              g\n",
       "0   39.739070\n",
       "1   40.990789\n",
       "2   ...  \n",
       "5  0.467927              g\n",
       "0   16.277913\n",
       "1    8.316289\n",
       "2   ...  \n",
       "6  0.779134              g\n",
       "0   45.534103\n",
       "1    5.589673\n",
       "2   ...  \n",
       "7  2.880491              g\n",
       "0   19.324947\n",
       "1    5.110645\n",
       "2   ...  \n",
       "8  4.007204              g\n",
       "0   47.816739\n",
       "1   11.572494\n",
       "2   ...  \n",
       "9  1.948073              g\n",
       "0   17.354108\n",
       "1   49.114442\n",
       "2   ...  "
      ]
     },
     "execution_count": 32,
     "metadata": {},
     "output_type": "execute_result"
    }
   ],
   "source": [
    "# You can also now use the multi-line assignment feature of\n",
    "# eval() across nested and base columns:\n",
    "nf_x = nf.eval(\"\"\"\n",
    "   d = a + b * 2\n",
    "   p2.g = nested.flux * 0.5 + a\n",
    "   nested.f2 = nested.flux * 2\n",
    "   \"\"\")\n",
    "display(nf_x.columns)\n",
    "display(nf_x.p2.nest.fields)\n",
    "display(nf_x.nested.nest.fields)\n",
    "nf_x"
   ]
  },
  {
   "cell_type": "code",
   "execution_count": 27,
   "id": "9d2160c8-d685-4cb6-93c8-7b00a2310e45",
   "metadata": {},
   "outputs": [
    {
     "data": {
      "text/plain": [
       "0    36.839546\n",
       "0    15.829333\n",
       "0    29.918122\n",
       "0    26.901599\n",
       "0    36.589956\n",
       "       ...    \n",
       "9     1.894878\n",
       "9    28.564015\n",
       "9    23.390741\n",
       "9    34.818662\n",
       "9    31.742989\n",
       "Name: g, Length: 1000, dtype: double[pyarrow]"
      ]
     },
     "execution_count": 27,
     "metadata": {},
     "output_type": "execute_result"
    }
   ],
   "source": [
    "nf_x.p2.nest[\"g\"]"
   ]
  },
  {
   "cell_type": "code",
   "execution_count": 41,
   "id": "112008d8-c6f2-4587-a10d-326ab4b0aab6",
   "metadata": {},
   "outputs": [
    {
     "data": {
      "text/plain": [
       "0    19.168439\n",
       "0     3.913644\n",
       "0    10.513982\n",
       "0    16.397308\n",
       "0     3.151468\n",
       "       ...    \n",
       "9    11.313674\n",
       "9    15.501648\n",
       "9     11.32539\n",
       "9    17.268869\n",
       "9      4.09131\n",
       "Name: t, Length: 1000, dtype: double[pyarrow]"
      ]
     },
     "execution_count": 41,
     "metadata": {},
     "output_type": "execute_result"
    }
   ],
   "source": [
    "nf_x.nested.nest[\"t\"]"
   ]
  },
  {
   "cell_type": "code",
   "execution_count": 58,
   "id": "a50f73e8-a0a9-47c4-9b6f-9b4c0ef47975",
   "metadata": {},
   "outputs": [
    {
     "data": {
      "text/plain": [
       "0    False\n",
       "0    False\n",
       "0    False\n",
       "0     True\n",
       "0     True\n",
       "     ...  \n",
       "9    False\n",
       "9    False\n",
       "9    False\n",
       "9     True\n",
       "9    False\n",
       "Name: band, Length: 1000, dtype: bool[pyarrow]"
      ]
     },
     "execution_count": 58,
     "metadata": {},
     "output_type": "execute_result"
    }
   ],
   "source": [
    "nf_x.nested.nest[\"band\"] == \"r\""
   ]
  },
  {
   "cell_type": "code",
   "execution_count": 59,
   "id": "51617015-be6a-4718-a271-b67ed14157bc",
   "metadata": {},
   "outputs": [
    {
     "name": "stdout",
     "output_type": "stream",
     "text": [
      "nested.band before: 1000 nested band after: 252\n"
     ]
    }
   ],
   "source": [
    "# The fact that NestedFrame.query depends on this improved eval() function\n",
    "# means that more sophisticated queries are possible, too.  But do note\n",
    "# that querying across base and nested columns remains an unsolved problem,\n",
    "# one that the user has to resolve themselves.\n",
    "nf_x2 = nf_x.query(\"nested.band == 'r' and nested.t > 10.5\")\n",
    "print(\"nested rows before:\", nf_x.nested.nest[\"band\"].size, \"nested rows after:\", nf_x2.nested.nest[\"band\"].size)"
   ]
  },
  {
   "cell_type": "code",
   "execution_count": 64,
   "id": "c3ba9f3f-a2ac-4ec8-ba42-2e7a37468a56",
   "metadata": {},
   "outputs": [
    {
     "name": "stdout",
     "output_type": "stream",
     "text": [
      "base rows before: 50 base rows after: 20\n"
     ]
    }
   ],
   "source": [
    "# So within a nest is fine, and among base columns is fine:\n",
    "nf_x3 = nf_x.query(\"a > 0.5 and b > 0.2\")\n",
    "print(\"base rows before:\", nf_x.size, \"base rows after:\", nf_x3.size)"
   ]
  },
  {
   "cell_type": "code",
   "execution_count": 65,
   "id": "93981d26-f962-4250-b12e-71e8ec06c1ff",
   "metadata": {},
   "outputs": [
    {
     "ename": "ValueError",
     "evalue": "Queries cannot target multiple structs/layers, write a separate query for each",
     "output_type": "error",
     "traceback": [
      "\u001b[0;31m---------------------------------------------------------------------------\u001b[0m",
      "\u001b[0;31mValueError\u001b[0m                                Traceback (most recent call last)",
      "Cell \u001b[0;32mIn[65], line 2\u001b[0m\n\u001b[1;32m      1\u001b[0m \u001b[38;5;66;03m# ...but across base and nested columns is not doable yet\u001b[39;00m\n\u001b[0;32m----> 2\u001b[0m \u001b[43mnf_x\u001b[49m\u001b[38;5;241;43m.\u001b[39;49m\u001b[43mquery\u001b[49m\u001b[43m(\u001b[49m\u001b[38;5;124;43m\"\u001b[39;49m\u001b[38;5;124;43ma > 0.5 and nested.t > 10.5\u001b[39;49m\u001b[38;5;124;43m\"\u001b[39;49m\u001b[43m)\u001b[49m\n",
      "File \u001b[0;32m~/code/nested-pandas/src/nested_pandas/nestedframe/core.py:508\u001b[0m, in \u001b[0;36mNestedFrame.query\u001b[0;34m(self, expr, inplace, **kwargs)\u001b[0m\n\u001b[1;32m    506\u001b[0m nesting_types \u001b[38;5;241m=\u001b[39m check_expr_nesting(expr)\n\u001b[1;32m    507\u001b[0m \u001b[38;5;28;01mif\u001b[39;00m NestingType\u001b[38;5;241m.\u001b[39mNESTED \u001b[38;5;129;01min\u001b[39;00m nesting_types \u001b[38;5;129;01mand\u001b[39;00m NestingType\u001b[38;5;241m.\u001b[39mBASE \u001b[38;5;129;01min\u001b[39;00m nesting_types:\n\u001b[0;32m--> 508\u001b[0m     \u001b[38;5;28;01mraise\u001b[39;00m \u001b[38;5;167;01mValueError\u001b[39;00m(\u001b[38;5;124m\"\u001b[39m\u001b[38;5;124mQueries cannot target multiple structs/layers, write a separate query for each\u001b[39m\u001b[38;5;124m\"\u001b[39m)\n\u001b[1;32m    509\u001b[0m result \u001b[38;5;241m=\u001b[39m \u001b[38;5;28mself\u001b[39m\u001b[38;5;241m.\u001b[39meval(expr, \u001b[38;5;241m*\u001b[39m\u001b[38;5;241m*\u001b[39mkwargs)\n\u001b[1;32m    510\u001b[0m \u001b[38;5;66;03m# If the result is a _SeriesFromNest, then the evaluation has caused unpacking,\u001b[39;00m\n\u001b[1;32m    511\u001b[0m \u001b[38;5;66;03m# which means that a nested attribute was referenced.  Apply this result\u001b[39;00m\n\u001b[1;32m    512\u001b[0m \u001b[38;5;66;03m# to the nest and repack.  Otherwise, apply it to this instance as usual,\u001b[39;00m\n\u001b[1;32m    513\u001b[0m \u001b[38;5;66;03m# since it operated on the base attributes.\u001b[39;00m\n",
      "\u001b[0;31mValueError\u001b[0m: Queries cannot target multiple structs/layers, write a separate query for each"
     ]
    }
   ],
   "source": [
    "# ...but across base and nested columns is not doable yet\n",
    "nf_x.query(\"a > 0.5 and nested.t > 10.5\")"
   ]
  },
  {
   "cell_type": "code",
   "execution_count": 104,
   "id": "c7df0200-4a3f-4eff-9b58-3c81411bc06f",
   "metadata": {},
   "outputs": [
    {
     "data": {
      "text/html": [
       "<div>\n",
       "<style scoped>\n",
       "    .dataframe tbody tr th:only-of-type {\n",
       "        vertical-align: middle;\n",
       "    }\n",
       "\n",
       "    .dataframe tbody tr th {\n",
       "        vertical-align: top;\n",
       "    }\n",
       "\n",
       "    .dataframe thead th {\n",
       "        text-align: right;\n",
       "    }\n",
       "</style>\n",
       "<table border=\"1\" class=\"dataframe\">\n",
       "  <thead>\n",
       "    <tr style=\"text-align: right;\">\n",
       "      <th></th>\n",
       "      <th>a</th>\n",
       "      <th>b</th>\n",
       "      <th>nested</th>\n",
       "      <th>d</th>\n",
       "      <th>p2</th>\n",
       "    </tr>\n",
       "  </thead>\n",
       "  <tbody>\n",
       "    <tr>\n",
       "      <th>2</th>\n",
       "      <td>0.598974</td>\n",
       "      <td>1.929117</td>\n",
       "      <td>t       flux band          f2\n",
       "0   ...</td>\n",
       "      <td>4.457208</td>\n",
       "      <td>g\n",
       "0   19.830519\n",
       "1   30.668843\n",
       "2   ...</td>\n",
       "    </tr>\n",
       "    <tr>\n",
       "      <th>7</th>\n",
       "      <td>0.542007</td>\n",
       "      <td>1.169242</td>\n",
       "      <td>t       flux band          f2\n",
       "0   ...</td>\n",
       "      <td>2.880491</td>\n",
       "      <td>g\n",
       "0   19.324947\n",
       "1    5.110645\n",
       "2   ...</td>\n",
       "    </tr>\n",
       "    <tr>\n",
       "      <th>8</th>\n",
       "      <td>0.583941</td>\n",
       "      <td>1.711632</td>\n",
       "      <td>t       flux band          f2\n",
       "0   ...</td>\n",
       "      <td>4.007204</td>\n",
       "      <td>g\n",
       "0   47.816739\n",
       "1   11.572494\n",
       "2   ...</td>\n",
       "    </tr>\n",
       "    <tr>\n",
       "      <th>9</th>\n",
       "      <td>0.907824</td>\n",
       "      <td>0.520125</td>\n",
       "      <td>t       flux band          f2\n",
       "0   ...</td>\n",
       "      <td>1.948073</td>\n",
       "      <td>g\n",
       "0   17.354108\n",
       "1   49.114442\n",
       "2   ...</td>\n",
       "    </tr>\n",
       "  </tbody>\n",
       "</table>\n",
       "</div>"
      ],
      "text/plain": [
       "          a         b                                             nested  \\\n",
       "2  0.598974  1.929117              t       flux band          f2\n",
       "0   ...   \n",
       "7  0.542007  1.169242              t       flux band          f2\n",
       "0   ...   \n",
       "8  0.583941  1.711632              t       flux band          f2\n",
       "0   ...   \n",
       "9  0.907824  0.520125              t       flux band          f2\n",
       "0   ...   \n",
       "\n",
       "          d                                                 p2  \n",
       "2  4.457208              g\n",
       "0   19.830519\n",
       "1   30.668843\n",
       "2   ...  \n",
       "7  2.880491              g\n",
       "0   19.324947\n",
       "1    5.110645\n",
       "2   ...  \n",
       "8  4.007204              g\n",
       "0   47.816739\n",
       "1   11.572494\n",
       "2   ...  \n",
       "9  1.948073              g\n",
       "0   17.354108\n",
       "1   49.114442\n",
       "2   ...  "
      ]
     },
     "execution_count": 104,
     "metadata": {},
     "output_type": "execute_result"
    }
   ],
   "source": [
    "# Unless, of course, you reduce those nests first to a single value!\n",
    "# But a word of CAUTION: note that this is equivalent to\n",
    "#   nf_x.a > 0.5 and nf_x.nested.nest[\"t\"].max() > 10.5\n",
    "# that is, the max of the entire unpacked column, NOT:\n",
    "#   nf_x.a > 0.5 and nf_x.reduce(max, 'nested.t') > 10.5\n",
    "nf_x.query(\"a > 0.5 and nested.t.max() > 10.5\")"
   ]
  }
 ],
 "metadata": {
  "kernelspec": {
   "display_name": "Python 3 (ipykernel)",
   "language": "python",
   "name": "python3"
  },
  "language_info": {
   "codemirror_mode": {
    "name": "ipython",
    "version": 3
   },
   "file_extension": ".py",
   "mimetype": "text/x-python",
   "name": "python",
   "nbconvert_exporter": "python",
   "pygments_lexer": "ipython3",
   "version": "3.12.6"
  }
 },
 "nbformat": 4,
 "nbformat_minor": 5
}
