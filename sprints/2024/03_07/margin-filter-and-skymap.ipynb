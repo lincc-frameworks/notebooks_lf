{
 "cells": [
  {
   "cell_type": "markdown",
   "id": "d55f50b49202efde",
   "metadata": {
    "collapsed": false
   },
   "source": [
    "# Filtering Margin Catalogs and Skymaps\n",
    "\n",
    "By Sean McGuire\n",
    "In this notebook, we demonstrate how spatial filters work when being performed on margin catalogs, and the skymap feature."
   ]
  },
  {
   "cell_type": "code",
   "execution_count": 1,
   "id": "869f84f0fea3d7b6",
   "metadata": {
    "ExecuteTime": {
     "end_time": "2024-03-13T22:21:59.200908Z",
     "start_time": "2024-03-13T22:21:59.136824Z"
    },
    "collapsed": false
   },
   "outputs": [],
   "source": [
    "import lsdb\n",
    "import numpy as np\n",
    "import hipscat as hc\n",
    "from hipscat.pixel_math import HealpixPixel\n",
    "from hipscat.pixel_math.filter import get_filtered_pixel_list\n",
    "from hipscat.inspection import plot_pixel_list\n",
    "from hipscat.pixel_tree.pixel_tree_builder import PixelTreeBuilder\n",
    "from lsdb.core.search import ConeSearch\n",
    "from matplotlib import pyplot as plt\n",
    "from matplotlib.patches import Polygon\n",
    "import healpy as hp"
   ]
  },
  {
   "cell_type": "code",
   "execution_count": 5,
   "id": "590ff8dead4e724a",
   "metadata": {
    "ExecuteTime": {
     "end_time": "2024-03-13T22:22:05.129066Z",
     "start_time": "2024-03-13T22:21:59.186631Z"
    },
    "collapsed": false
   },
   "outputs": [
    {
     "name": "stderr",
     "output_type": "stream",
     "text": [
      "/astro/users/ncaplar/.conda/envs/tape_static/lib/python3.10/site-packages/distributed/node.py:182: UserWarning: Port 39948 is already in use.\n",
      "Perhaps you already have a cluster running?\n",
      "Hosting the HTTP server on port 32926 instead\n",
      "  warnings.warn(\n"
     ]
    },
    {
     "data": {
      "text/html": [
       "<div>\n",
       "    <div style=\"width: 24px; height: 24px; background-color: #e1e1e1; border: 3px solid #9D9D9D; border-radius: 5px; position: absolute;\"> </div>\n",
       "    <div style=\"margin-left: 48px;\">\n",
       "        <h3 style=\"margin-bottom: 0px;\">Client</h3>\n",
       "        <p style=\"color: #9D9D9D; margin-bottom: 0px;\">Client-c6ed54c6-e232-11ee-b1d1-98039b62373c</p>\n",
       "        <table style=\"width: 100%; text-align: left;\">\n",
       "\n",
       "        <tr>\n",
       "        \n",
       "            <td style=\"text-align: left;\"><strong>Connection method:</strong> Cluster object</td>\n",
       "            <td style=\"text-align: left;\"><strong>Cluster type:</strong> distributed.LocalCluster</td>\n",
       "        \n",
       "        </tr>\n",
       "\n",
       "        \n",
       "            <tr>\n",
       "                <td style=\"text-align: left;\">\n",
       "                    <strong>Dashboard: </strong> <a href=\"http://127.0.0.1:32926/status\" target=\"_blank\">http://127.0.0.1:32926/status</a>\n",
       "                </td>\n",
       "                <td style=\"text-align: left;\"></td>\n",
       "            </tr>\n",
       "        \n",
       "\n",
       "        </table>\n",
       "\n",
       "        \n",
       "\n",
       "        \n",
       "            <details>\n",
       "            <summary style=\"margin-bottom: 20px;\"><h3 style=\"display: inline;\">Cluster Info</h3></summary>\n",
       "            <div class=\"jp-RenderedHTMLCommon jp-RenderedHTML jp-mod-trusted jp-OutputArea-output\">\n",
       "    <div style=\"width: 24px; height: 24px; background-color: #e1e1e1; border: 3px solid #9D9D9D; border-radius: 5px; position: absolute;\">\n",
       "    </div>\n",
       "    <div style=\"margin-left: 48px;\">\n",
       "        <h3 style=\"margin-bottom: 0px; margin-top: 0px;\">LocalCluster</h3>\n",
       "        <p style=\"color: #9D9D9D; margin-bottom: 0px;\">5d4f49e9</p>\n",
       "        <table style=\"width: 100%; text-align: left;\">\n",
       "            <tr>\n",
       "                <td style=\"text-align: left;\">\n",
       "                    <strong>Dashboard:</strong> <a href=\"http://127.0.0.1:32926/status\" target=\"_blank\">http://127.0.0.1:32926/status</a>\n",
       "                </td>\n",
       "                <td style=\"text-align: left;\">\n",
       "                    <strong>Workers:</strong> 6\n",
       "                </td>\n",
       "            </tr>\n",
       "            <tr>\n",
       "                <td style=\"text-align: left;\">\n",
       "                    <strong>Total threads:</strong> 6\n",
       "                </td>\n",
       "                <td style=\"text-align: left;\">\n",
       "                    <strong>Total memory:</strong> 55.88 GiB\n",
       "                </td>\n",
       "            </tr>\n",
       "            \n",
       "            <tr>\n",
       "    <td style=\"text-align: left;\"><strong>Status:</strong> running</td>\n",
       "    <td style=\"text-align: left;\"><strong>Using processes:</strong> True</td>\n",
       "</tr>\n",
       "\n",
       "            \n",
       "        </table>\n",
       "\n",
       "        <details>\n",
       "            <summary style=\"margin-bottom: 20px;\">\n",
       "                <h3 style=\"display: inline;\">Scheduler Info</h3>\n",
       "            </summary>\n",
       "\n",
       "            <div style=\"\">\n",
       "    <div>\n",
       "        <div style=\"width: 24px; height: 24px; background-color: #FFF7E5; border: 3px solid #FF6132; border-radius: 5px; position: absolute;\"> </div>\n",
       "        <div style=\"margin-left: 48px;\">\n",
       "            <h3 style=\"margin-bottom: 0px;\">Scheduler</h3>\n",
       "            <p style=\"color: #9D9D9D; margin-bottom: 0px;\">Scheduler-65adff05-c3fa-40c2-8570-96c542fafe09</p>\n",
       "            <table style=\"width: 100%; text-align: left;\">\n",
       "                <tr>\n",
       "                    <td style=\"text-align: left;\">\n",
       "                        <strong>Comm:</strong> tcp://127.0.0.1:35641\n",
       "                    </td>\n",
       "                    <td style=\"text-align: left;\">\n",
       "                        <strong>Workers:</strong> 6\n",
       "                    </td>\n",
       "                </tr>\n",
       "                <tr>\n",
       "                    <td style=\"text-align: left;\">\n",
       "                        <strong>Dashboard:</strong> <a href=\"http://127.0.0.1:32926/status\" target=\"_blank\">http://127.0.0.1:32926/status</a>\n",
       "                    </td>\n",
       "                    <td style=\"text-align: left;\">\n",
       "                        <strong>Total threads:</strong> 6\n",
       "                    </td>\n",
       "                </tr>\n",
       "                <tr>\n",
       "                    <td style=\"text-align: left;\">\n",
       "                        <strong>Started:</strong> Just now\n",
       "                    </td>\n",
       "                    <td style=\"text-align: left;\">\n",
       "                        <strong>Total memory:</strong> 55.88 GiB\n",
       "                    </td>\n",
       "                </tr>\n",
       "            </table>\n",
       "        </div>\n",
       "    </div>\n",
       "\n",
       "    <details style=\"margin-left: 48px;\">\n",
       "        <summary style=\"margin-bottom: 20px;\">\n",
       "            <h3 style=\"display: inline;\">Workers</h3>\n",
       "        </summary>\n",
       "\n",
       "        \n",
       "        <div style=\"margin-bottom: 20px;\">\n",
       "            <div style=\"width: 24px; height: 24px; background-color: #DBF5FF; border: 3px solid #4CC9FF; border-radius: 5px; position: absolute;\"> </div>\n",
       "            <div style=\"margin-left: 48px;\">\n",
       "            <details>\n",
       "                <summary>\n",
       "                    <h4 style=\"margin-bottom: 0px; display: inline;\">Worker: 0</h4>\n",
       "                </summary>\n",
       "                <table style=\"width: 100%; text-align: left;\">\n",
       "                    <tr>\n",
       "                        <td style=\"text-align: left;\">\n",
       "                            <strong>Comm: </strong> tcp://127.0.0.1:37003\n",
       "                        </td>\n",
       "                        <td style=\"text-align: left;\">\n",
       "                            <strong>Total threads: </strong> 1\n",
       "                        </td>\n",
       "                    </tr>\n",
       "                    <tr>\n",
       "                        <td style=\"text-align: left;\">\n",
       "                            <strong>Dashboard: </strong> <a href=\"http://127.0.0.1:33450/status\" target=\"_blank\">http://127.0.0.1:33450/status</a>\n",
       "                        </td>\n",
       "                        <td style=\"text-align: left;\">\n",
       "                            <strong>Memory: </strong> 9.31 GiB\n",
       "                        </td>\n",
       "                    </tr>\n",
       "                    <tr>\n",
       "                        <td style=\"text-align: left;\">\n",
       "                            <strong>Nanny: </strong> tcp://127.0.0.1:37244\n",
       "                        </td>\n",
       "                        <td style=\"text-align: left;\"></td>\n",
       "                    </tr>\n",
       "                    <tr>\n",
       "                        <td colspan=\"2\" style=\"text-align: left;\">\n",
       "                            <strong>Local directory: </strong> /epyc/users/ncaplar/data/dask-scratch-space/worker-n66npwxd\n",
       "                        </td>\n",
       "                    </tr>\n",
       "\n",
       "                    \n",
       "\n",
       "                    \n",
       "\n",
       "                </table>\n",
       "            </details>\n",
       "            </div>\n",
       "        </div>\n",
       "        \n",
       "        <div style=\"margin-bottom: 20px;\">\n",
       "            <div style=\"width: 24px; height: 24px; background-color: #DBF5FF; border: 3px solid #4CC9FF; border-radius: 5px; position: absolute;\"> </div>\n",
       "            <div style=\"margin-left: 48px;\">\n",
       "            <details>\n",
       "                <summary>\n",
       "                    <h4 style=\"margin-bottom: 0px; display: inline;\">Worker: 1</h4>\n",
       "                </summary>\n",
       "                <table style=\"width: 100%; text-align: left;\">\n",
       "                    <tr>\n",
       "                        <td style=\"text-align: left;\">\n",
       "                            <strong>Comm: </strong> tcp://127.0.0.1:41458\n",
       "                        </td>\n",
       "                        <td style=\"text-align: left;\">\n",
       "                            <strong>Total threads: </strong> 1\n",
       "                        </td>\n",
       "                    </tr>\n",
       "                    <tr>\n",
       "                        <td style=\"text-align: left;\">\n",
       "                            <strong>Dashboard: </strong> <a href=\"http://127.0.0.1:33603/status\" target=\"_blank\">http://127.0.0.1:33603/status</a>\n",
       "                        </td>\n",
       "                        <td style=\"text-align: left;\">\n",
       "                            <strong>Memory: </strong> 9.31 GiB\n",
       "                        </td>\n",
       "                    </tr>\n",
       "                    <tr>\n",
       "                        <td style=\"text-align: left;\">\n",
       "                            <strong>Nanny: </strong> tcp://127.0.0.1:34668\n",
       "                        </td>\n",
       "                        <td style=\"text-align: left;\"></td>\n",
       "                    </tr>\n",
       "                    <tr>\n",
       "                        <td colspan=\"2\" style=\"text-align: left;\">\n",
       "                            <strong>Local directory: </strong> /epyc/users/ncaplar/data/dask-scratch-space/worker-zglhe84k\n",
       "                        </td>\n",
       "                    </tr>\n",
       "\n",
       "                    \n",
       "\n",
       "                    \n",
       "\n",
       "                </table>\n",
       "            </details>\n",
       "            </div>\n",
       "        </div>\n",
       "        \n",
       "        <div style=\"margin-bottom: 20px;\">\n",
       "            <div style=\"width: 24px; height: 24px; background-color: #DBF5FF; border: 3px solid #4CC9FF; border-radius: 5px; position: absolute;\"> </div>\n",
       "            <div style=\"margin-left: 48px;\">\n",
       "            <details>\n",
       "                <summary>\n",
       "                    <h4 style=\"margin-bottom: 0px; display: inline;\">Worker: 2</h4>\n",
       "                </summary>\n",
       "                <table style=\"width: 100%; text-align: left;\">\n",
       "                    <tr>\n",
       "                        <td style=\"text-align: left;\">\n",
       "                            <strong>Comm: </strong> tcp://127.0.0.1:40535\n",
       "                        </td>\n",
       "                        <td style=\"text-align: left;\">\n",
       "                            <strong>Total threads: </strong> 1\n",
       "                        </td>\n",
       "                    </tr>\n",
       "                    <tr>\n",
       "                        <td style=\"text-align: left;\">\n",
       "                            <strong>Dashboard: </strong> <a href=\"http://127.0.0.1:46512/status\" target=\"_blank\">http://127.0.0.1:46512/status</a>\n",
       "                        </td>\n",
       "                        <td style=\"text-align: left;\">\n",
       "                            <strong>Memory: </strong> 9.31 GiB\n",
       "                        </td>\n",
       "                    </tr>\n",
       "                    <tr>\n",
       "                        <td style=\"text-align: left;\">\n",
       "                            <strong>Nanny: </strong> tcp://127.0.0.1:37070\n",
       "                        </td>\n",
       "                        <td style=\"text-align: left;\"></td>\n",
       "                    </tr>\n",
       "                    <tr>\n",
       "                        <td colspan=\"2\" style=\"text-align: left;\">\n",
       "                            <strong>Local directory: </strong> /epyc/users/ncaplar/data/dask-scratch-space/worker-s2042umj\n",
       "                        </td>\n",
       "                    </tr>\n",
       "\n",
       "                    \n",
       "\n",
       "                    \n",
       "\n",
       "                </table>\n",
       "            </details>\n",
       "            </div>\n",
       "        </div>\n",
       "        \n",
       "        <div style=\"margin-bottom: 20px;\">\n",
       "            <div style=\"width: 24px; height: 24px; background-color: #DBF5FF; border: 3px solid #4CC9FF; border-radius: 5px; position: absolute;\"> </div>\n",
       "            <div style=\"margin-left: 48px;\">\n",
       "            <details>\n",
       "                <summary>\n",
       "                    <h4 style=\"margin-bottom: 0px; display: inline;\">Worker: 3</h4>\n",
       "                </summary>\n",
       "                <table style=\"width: 100%; text-align: left;\">\n",
       "                    <tr>\n",
       "                        <td style=\"text-align: left;\">\n",
       "                            <strong>Comm: </strong> tcp://127.0.0.1:45016\n",
       "                        </td>\n",
       "                        <td style=\"text-align: left;\">\n",
       "                            <strong>Total threads: </strong> 1\n",
       "                        </td>\n",
       "                    </tr>\n",
       "                    <tr>\n",
       "                        <td style=\"text-align: left;\">\n",
       "                            <strong>Dashboard: </strong> <a href=\"http://127.0.0.1:37311/status\" target=\"_blank\">http://127.0.0.1:37311/status</a>\n",
       "                        </td>\n",
       "                        <td style=\"text-align: left;\">\n",
       "                            <strong>Memory: </strong> 9.31 GiB\n",
       "                        </td>\n",
       "                    </tr>\n",
       "                    <tr>\n",
       "                        <td style=\"text-align: left;\">\n",
       "                            <strong>Nanny: </strong> tcp://127.0.0.1:43620\n",
       "                        </td>\n",
       "                        <td style=\"text-align: left;\"></td>\n",
       "                    </tr>\n",
       "                    <tr>\n",
       "                        <td colspan=\"2\" style=\"text-align: left;\">\n",
       "                            <strong>Local directory: </strong> /epyc/users/ncaplar/data/dask-scratch-space/worker-6v_3sg0o\n",
       "                        </td>\n",
       "                    </tr>\n",
       "\n",
       "                    \n",
       "\n",
       "                    \n",
       "\n",
       "                </table>\n",
       "            </details>\n",
       "            </div>\n",
       "        </div>\n",
       "        \n",
       "        <div style=\"margin-bottom: 20px;\">\n",
       "            <div style=\"width: 24px; height: 24px; background-color: #DBF5FF; border: 3px solid #4CC9FF; border-radius: 5px; position: absolute;\"> </div>\n",
       "            <div style=\"margin-left: 48px;\">\n",
       "            <details>\n",
       "                <summary>\n",
       "                    <h4 style=\"margin-bottom: 0px; display: inline;\">Worker: 4</h4>\n",
       "                </summary>\n",
       "                <table style=\"width: 100%; text-align: left;\">\n",
       "                    <tr>\n",
       "                        <td style=\"text-align: left;\">\n",
       "                            <strong>Comm: </strong> tcp://127.0.0.1:34583\n",
       "                        </td>\n",
       "                        <td style=\"text-align: left;\">\n",
       "                            <strong>Total threads: </strong> 1\n",
       "                        </td>\n",
       "                    </tr>\n",
       "                    <tr>\n",
       "                        <td style=\"text-align: left;\">\n",
       "                            <strong>Dashboard: </strong> <a href=\"http://127.0.0.1:35676/status\" target=\"_blank\">http://127.0.0.1:35676/status</a>\n",
       "                        </td>\n",
       "                        <td style=\"text-align: left;\">\n",
       "                            <strong>Memory: </strong> 9.31 GiB\n",
       "                        </td>\n",
       "                    </tr>\n",
       "                    <tr>\n",
       "                        <td style=\"text-align: left;\">\n",
       "                            <strong>Nanny: </strong> tcp://127.0.0.1:42221\n",
       "                        </td>\n",
       "                        <td style=\"text-align: left;\"></td>\n",
       "                    </tr>\n",
       "                    <tr>\n",
       "                        <td colspan=\"2\" style=\"text-align: left;\">\n",
       "                            <strong>Local directory: </strong> /epyc/users/ncaplar/data/dask-scratch-space/worker-9dpwbbzs\n",
       "                        </td>\n",
       "                    </tr>\n",
       "\n",
       "                    \n",
       "\n",
       "                    \n",
       "\n",
       "                </table>\n",
       "            </details>\n",
       "            </div>\n",
       "        </div>\n",
       "        \n",
       "        <div style=\"margin-bottom: 20px;\">\n",
       "            <div style=\"width: 24px; height: 24px; background-color: #DBF5FF; border: 3px solid #4CC9FF; border-radius: 5px; position: absolute;\"> </div>\n",
       "            <div style=\"margin-left: 48px;\">\n",
       "            <details>\n",
       "                <summary>\n",
       "                    <h4 style=\"margin-bottom: 0px; display: inline;\">Worker: 5</h4>\n",
       "                </summary>\n",
       "                <table style=\"width: 100%; text-align: left;\">\n",
       "                    <tr>\n",
       "                        <td style=\"text-align: left;\">\n",
       "                            <strong>Comm: </strong> tcp://127.0.0.1:42435\n",
       "                        </td>\n",
       "                        <td style=\"text-align: left;\">\n",
       "                            <strong>Total threads: </strong> 1\n",
       "                        </td>\n",
       "                    </tr>\n",
       "                    <tr>\n",
       "                        <td style=\"text-align: left;\">\n",
       "                            <strong>Dashboard: </strong> <a href=\"http://127.0.0.1:45121/status\" target=\"_blank\">http://127.0.0.1:45121/status</a>\n",
       "                        </td>\n",
       "                        <td style=\"text-align: left;\">\n",
       "                            <strong>Memory: </strong> 9.31 GiB\n",
       "                        </td>\n",
       "                    </tr>\n",
       "                    <tr>\n",
       "                        <td style=\"text-align: left;\">\n",
       "                            <strong>Nanny: </strong> tcp://127.0.0.1:38604\n",
       "                        </td>\n",
       "                        <td style=\"text-align: left;\"></td>\n",
       "                    </tr>\n",
       "                    <tr>\n",
       "                        <td colspan=\"2\" style=\"text-align: left;\">\n",
       "                            <strong>Local directory: </strong> /epyc/users/ncaplar/data/dask-scratch-space/worker-tgnbj8qk\n",
       "                        </td>\n",
       "                    </tr>\n",
       "\n",
       "                    \n",
       "\n",
       "                    \n",
       "\n",
       "                </table>\n",
       "            </details>\n",
       "            </div>\n",
       "        </div>\n",
       "        \n",
       "\n",
       "    </details>\n",
       "</div>\n",
       "\n",
       "        </details>\n",
       "    </div>\n",
       "</div>\n",
       "            </details>\n",
       "        \n",
       "\n",
       "    </div>\n",
       "</div>"
      ],
      "text/plain": [
       "<Client: 'tcp://127.0.0.1:35641' processes=6 threads=6, memory=55.88 GiB>"
      ]
     },
     "execution_count": 5,
     "metadata": {},
     "output_type": "execute_result"
    }
   ],
   "source": [
    "from distributed import Client\n",
    "\n",
    "client = Client(n_workers=6, memory_limit='10GB', local_directory=\"/epyc/users/ncaplar/data/\", dashboard_address=':39948', threads_per_worker=1)\n",
    "client"
   ]
  },
  {
   "cell_type": "markdown",
   "id": "5261ec403f33a22c",
   "metadata": {
    "collapsed": false
   },
   "source": [
    "### Reading Catalogs"
   ]
  },
  {
   "cell_type": "code",
   "execution_count": 6,
   "id": "d73246f23ea646be",
   "metadata": {
    "ExecuteTime": {
     "end_time": "2024-03-13T22:22:05.147580Z",
     "start_time": "2024-03-13T22:22:05.126381Z"
    },
    "collapsed": false
   },
   "outputs": [
    {
     "data": {
      "text/html": [
       "<div><strong>Dask DataFrame Structure:</strong></div>\n",
       "<div>\n",
       "<style scoped>\n",
       "    .dataframe tbody tr th:only-of-type {\n",
       "        vertical-align: middle;\n",
       "    }\n",
       "\n",
       "    .dataframe tbody tr th {\n",
       "        vertical-align: top;\n",
       "    }\n",
       "\n",
       "    .dataframe thead th {\n",
       "        text-align: right;\n",
       "    }\n",
       "</style>\n",
       "<table border=\"1\" class=\"dataframe\">\n",
       "  <thead>\n",
       "    <tr style=\"text-align: right;\">\n",
       "      <th></th>\n",
       "      <th>id</th>\n",
       "      <th>ra</th>\n",
       "      <th>dec</th>\n",
       "      <th>ra_error</th>\n",
       "      <th>dec_error</th>\n",
       "      <th>calculated_dist</th>\n",
       "      <th>Norder</th>\n",
       "      <th>Dir</th>\n",
       "      <th>Npix</th>\n",
       "      <th>margin_Norder</th>\n",
       "      <th>margin_Dir</th>\n",
       "      <th>margin_Npix</th>\n",
       "    </tr>\n",
       "    <tr>\n",
       "      <th>npartitions=5</th>\n",
       "      <th></th>\n",
       "      <th></th>\n",
       "      <th></th>\n",
       "      <th></th>\n",
       "      <th></th>\n",
       "      <th></th>\n",
       "      <th></th>\n",
       "      <th></th>\n",
       "      <th></th>\n",
       "      <th></th>\n",
       "      <th></th>\n",
       "      <th></th>\n",
       "    </tr>\n",
       "  </thead>\n",
       "  <tbody>\n",
       "    <tr>\n",
       "      <th>4611686018427387904</th>\n",
       "      <td>int64</td>\n",
       "      <td>float64</td>\n",
       "      <td>float64</td>\n",
       "      <td>float64</td>\n",
       "      <td>float64</td>\n",
       "      <td>float64</td>\n",
       "      <td>uint8</td>\n",
       "      <td>uint64</td>\n",
       "      <td>uint64</td>\n",
       "      <td>uint8</td>\n",
       "      <td>uint64</td>\n",
       "      <td>uint64</td>\n",
       "    </tr>\n",
       "    <tr>\n",
       "      <th>12682136550675316736</th>\n",
       "      <td>...</td>\n",
       "      <td>...</td>\n",
       "      <td>...</td>\n",
       "      <td>...</td>\n",
       "      <td>...</td>\n",
       "      <td>...</td>\n",
       "      <td>...</td>\n",
       "      <td>...</td>\n",
       "      <td>...</td>\n",
       "      <td>...</td>\n",
       "      <td>...</td>\n",
       "      <td>...</td>\n",
       "    </tr>\n",
       "    <tr>\n",
       "      <th>...</th>\n",
       "      <td>...</td>\n",
       "      <td>...</td>\n",
       "      <td>...</td>\n",
       "      <td>...</td>\n",
       "      <td>...</td>\n",
       "      <td>...</td>\n",
       "      <td>...</td>\n",
       "      <td>...</td>\n",
       "      <td>...</td>\n",
       "      <td>...</td>\n",
       "      <td>...</td>\n",
       "      <td>...</td>\n",
       "    </tr>\n",
       "    <tr>\n",
       "      <th>13546827679130451968</th>\n",
       "      <td>...</td>\n",
       "      <td>...</td>\n",
       "      <td>...</td>\n",
       "      <td>...</td>\n",
       "      <td>...</td>\n",
       "      <td>...</td>\n",
       "      <td>...</td>\n",
       "      <td>...</td>\n",
       "      <td>...</td>\n",
       "      <td>...</td>\n",
       "      <td>...</td>\n",
       "      <td>...</td>\n",
       "    </tr>\n",
       "    <tr>\n",
       "      <th>18446744073709551615</th>\n",
       "      <td>...</td>\n",
       "      <td>...</td>\n",
       "      <td>...</td>\n",
       "      <td>...</td>\n",
       "      <td>...</td>\n",
       "      <td>...</td>\n",
       "      <td>...</td>\n",
       "      <td>...</td>\n",
       "      <td>...</td>\n",
       "      <td>...</td>\n",
       "      <td>...</td>\n",
       "      <td>...</td>\n",
       "    </tr>\n",
       "  </tbody>\n",
       "</table>\n",
       "</div>\n",
       "<div>Dask Name: read_parquet_file_to_pandas, 1 graph layer</div>"
      ],
      "text/plain": [
       "Dask DataFrame Structure:\n",
       "                         id       ra      dec ra_error dec_error calculated_dist Norder     Dir    Npix margin_Norder margin_Dir margin_Npix\n",
       "npartitions=5                                                                                                                               \n",
       "4611686018427387904   int64  float64  float64  float64   float64         float64  uint8  uint64  uint64         uint8     uint64      uint64\n",
       "12682136550675316736    ...      ...      ...      ...       ...             ...    ...     ...     ...           ...        ...         ...\n",
       "...                     ...      ...      ...      ...       ...             ...    ...     ...     ...           ...        ...         ...\n",
       "13546827679130451968    ...      ...      ...      ...       ...             ...    ...     ...     ...           ...        ...         ...\n",
       "18446744073709551615    ...      ...      ...      ...       ...             ...    ...     ...     ...           ...        ...         ...\n",
       "Dask Name: read_parquet_file_to_pandas, 1 graph layer"
      ]
     },
     "execution_count": 6,
     "metadata": {},
     "output_type": "execute_result"
    }
   ],
   "source": [
    "ssm = lsdb.read_hipscat(\"/data3/epyc/projects3/sean_hipscat/data/small_sky_xmatch_margin\")\n",
    "ssm"
   ]
  },
  {
   "cell_type": "code",
   "execution_count": 7,
   "id": "813fd3e4c5cd868a",
   "metadata": {
    "ExecuteTime": {
     "end_time": "2024-03-13T22:22:05.167828Z",
     "start_time": "2024-03-13T22:22:05.133367Z"
    },
    "collapsed": false
   },
   "outputs": [
    {
     "data": {
      "text/html": [
       "<div><strong>Dask DataFrame Structure:</strong></div>\n",
       "<div>\n",
       "<style scoped>\n",
       "    .dataframe tbody tr th:only-of-type {\n",
       "        vertical-align: middle;\n",
       "    }\n",
       "\n",
       "    .dataframe tbody tr th {\n",
       "        vertical-align: top;\n",
       "    }\n",
       "\n",
       "    .dataframe thead th {\n",
       "        text-align: right;\n",
       "    }\n",
       "</style>\n",
       "<table border=\"1\" class=\"dataframe\">\n",
       "  <thead>\n",
       "    <tr style=\"text-align: right;\">\n",
       "      <th></th>\n",
       "      <th>id</th>\n",
       "      <th>ra</th>\n",
       "      <th>dec</th>\n",
       "      <th>ra_error</th>\n",
       "      <th>dec_error</th>\n",
       "      <th>calculated_dist</th>\n",
       "      <th>Norder</th>\n",
       "      <th>Dir</th>\n",
       "      <th>Npix</th>\n",
       "    </tr>\n",
       "    <tr>\n",
       "      <th>npartitions=3</th>\n",
       "      <th></th>\n",
       "      <th></th>\n",
       "      <th></th>\n",
       "      <th></th>\n",
       "      <th></th>\n",
       "      <th></th>\n",
       "      <th></th>\n",
       "      <th></th>\n",
       "      <th></th>\n",
       "    </tr>\n",
       "  </thead>\n",
       "  <tbody>\n",
       "    <tr>\n",
       "      <th>12682136550675316736</th>\n",
       "      <td>int64</td>\n",
       "      <td>float64</td>\n",
       "      <td>float64</td>\n",
       "      <td>float64</td>\n",
       "      <td>float64</td>\n",
       "      <td>float64</td>\n",
       "      <td>uint8</td>\n",
       "      <td>uint64</td>\n",
       "      <td>uint64</td>\n",
       "    </tr>\n",
       "    <tr>\n",
       "      <th>12970366926827028480</th>\n",
       "      <td>...</td>\n",
       "      <td>...</td>\n",
       "      <td>...</td>\n",
       "      <td>...</td>\n",
       "      <td>...</td>\n",
       "      <td>...</td>\n",
       "      <td>...</td>\n",
       "      <td>...</td>\n",
       "      <td>...</td>\n",
       "    </tr>\n",
       "    <tr>\n",
       "      <th>13258597302978740224</th>\n",
       "      <td>...</td>\n",
       "      <td>...</td>\n",
       "      <td>...</td>\n",
       "      <td>...</td>\n",
       "      <td>...</td>\n",
       "      <td>...</td>\n",
       "      <td>...</td>\n",
       "      <td>...</td>\n",
       "      <td>...</td>\n",
       "    </tr>\n",
       "    <tr>\n",
       "      <th>18446744073709551615</th>\n",
       "      <td>...</td>\n",
       "      <td>...</td>\n",
       "      <td>...</td>\n",
       "      <td>...</td>\n",
       "      <td>...</td>\n",
       "      <td>...</td>\n",
       "      <td>...</td>\n",
       "      <td>...</td>\n",
       "      <td>...</td>\n",
       "    </tr>\n",
       "  </tbody>\n",
       "</table>\n",
       "</div>\n",
       "<div>Dask Name: read_parquet_file_to_pandas, 1 graph layer</div>"
      ],
      "text/plain": [
       "Dask DataFrame Structure:\n",
       "                         id       ra      dec ra_error dec_error calculated_dist Norder     Dir    Npix\n",
       "npartitions=3                                                                                          \n",
       "12682136550675316736  int64  float64  float64  float64   float64         float64  uint8  uint64  uint64\n",
       "12970366926827028480    ...      ...      ...      ...       ...             ...    ...     ...     ...\n",
       "13258597302978740224    ...      ...      ...      ...       ...             ...    ...     ...     ...\n",
       "18446744073709551615    ...      ...      ...      ...       ...             ...    ...     ...     ...\n",
       "Dask Name: read_parquet_file_to_pandas, 1 graph layer"
      ]
     },
     "execution_count": 7,
     "metadata": {},
     "output_type": "execute_result"
    }
   ],
   "source": [
    "ss = lsdb.read_hipscat(\"/data3/epyc/projects3/sean_hipscat/data/small_sky_xmatch\", margin_cache=ssm)\n",
    "ss"
   ]
  },
  {
   "cell_type": "code",
   "execution_count": 8,
   "id": "52162b6dbb5d31f0",
   "metadata": {
    "ExecuteTime": {
     "end_time": "2024-03-13T22:22:05.414486Z",
     "start_time": "2024-03-13T22:22:05.159952Z"
    },
    "collapsed": false
   },
   "outputs": [
    {
     "data": {
      "text/html": [
       "<div><strong>Dask DataFrame Structure:</strong></div>\n",
       "<div>\n",
       "<style scoped>\n",
       "    .dataframe tbody tr th:only-of-type {\n",
       "        vertical-align: middle;\n",
       "    }\n",
       "\n",
       "    .dataframe tbody tr th {\n",
       "        vertical-align: top;\n",
       "    }\n",
       "\n",
       "    .dataframe thead th {\n",
       "        text-align: right;\n",
       "    }\n",
       "</style>\n",
       "<table border=\"1\" class=\"dataframe\">\n",
       "  <thead>\n",
       "    <tr style=\"text-align: right;\">\n",
       "      <th></th>\n",
       "      <th>ps1_objid</th>\n",
       "      <th>ra</th>\n",
       "      <th>dec</th>\n",
       "      <th>ps1_gMeanPSFMag</th>\n",
       "      <th>ps1_rMeanPSFMag</th>\n",
       "      <th>ps1_iMeanPSFMag</th>\n",
       "      <th>nobs_g</th>\n",
       "      <th>nobs_r</th>\n",
       "      <th>nobs_i</th>\n",
       "      <th>mean_mag_g</th>\n",
       "      <th>mean_mag_r</th>\n",
       "      <th>mean_mag_i</th>\n",
       "      <th>Norder</th>\n",
       "      <th>Dir</th>\n",
       "      <th>Npix</th>\n",
       "    </tr>\n",
       "    <tr>\n",
       "      <th>npartitions=2352</th>\n",
       "      <th></th>\n",
       "      <th></th>\n",
       "      <th></th>\n",
       "      <th></th>\n",
       "      <th></th>\n",
       "      <th></th>\n",
       "      <th></th>\n",
       "      <th></th>\n",
       "      <th></th>\n",
       "      <th></th>\n",
       "      <th></th>\n",
       "      <th></th>\n",
       "      <th></th>\n",
       "      <th></th>\n",
       "      <th></th>\n",
       "    </tr>\n",
       "  </thead>\n",
       "  <tbody>\n",
       "    <tr>\n",
       "      <th>0</th>\n",
       "      <td>int64</td>\n",
       "      <td>float64</td>\n",
       "      <td>float64</td>\n",
       "      <td>float64</td>\n",
       "      <td>float64</td>\n",
       "      <td>float64</td>\n",
       "      <td>int32</td>\n",
       "      <td>int32</td>\n",
       "      <td>int32</td>\n",
       "      <td>float64</td>\n",
       "      <td>float64</td>\n",
       "      <td>float64</td>\n",
       "      <td>int32</td>\n",
       "      <td>int32</td>\n",
       "      <td>int32</td>\n",
       "    </tr>\n",
       "    <tr>\n",
       "      <th>18014398509481984</th>\n",
       "      <td>...</td>\n",
       "      <td>...</td>\n",
       "      <td>...</td>\n",
       "      <td>...</td>\n",
       "      <td>...</td>\n",
       "      <td>...</td>\n",
       "      <td>...</td>\n",
       "      <td>...</td>\n",
       "      <td>...</td>\n",
       "      <td>...</td>\n",
       "      <td>...</td>\n",
       "      <td>...</td>\n",
       "      <td>...</td>\n",
       "      <td>...</td>\n",
       "      <td>...</td>\n",
       "    </tr>\n",
       "    <tr>\n",
       "      <th>...</th>\n",
       "      <td>...</td>\n",
       "      <td>...</td>\n",
       "      <td>...</td>\n",
       "      <td>...</td>\n",
       "      <td>...</td>\n",
       "      <td>...</td>\n",
       "      <td>...</td>\n",
       "      <td>...</td>\n",
       "      <td>...</td>\n",
       "      <td>...</td>\n",
       "      <td>...</td>\n",
       "      <td>...</td>\n",
       "      <td>...</td>\n",
       "      <td>...</td>\n",
       "      <td>...</td>\n",
       "    </tr>\n",
       "    <tr>\n",
       "      <th>13830554455654793216</th>\n",
       "      <td>...</td>\n",
       "      <td>...</td>\n",
       "      <td>...</td>\n",
       "      <td>...</td>\n",
       "      <td>...</td>\n",
       "      <td>...</td>\n",
       "      <td>...</td>\n",
       "      <td>...</td>\n",
       "      <td>...</td>\n",
       "      <td>...</td>\n",
       "      <td>...</td>\n",
       "      <td>...</td>\n",
       "      <td>...</td>\n",
       "      <td>...</td>\n",
       "      <td>...</td>\n",
       "    </tr>\n",
       "    <tr>\n",
       "      <th>18446744073709551615</th>\n",
       "      <td>...</td>\n",
       "      <td>...</td>\n",
       "      <td>...</td>\n",
       "      <td>...</td>\n",
       "      <td>...</td>\n",
       "      <td>...</td>\n",
       "      <td>...</td>\n",
       "      <td>...</td>\n",
       "      <td>...</td>\n",
       "      <td>...</td>\n",
       "      <td>...</td>\n",
       "      <td>...</td>\n",
       "      <td>...</td>\n",
       "      <td>...</td>\n",
       "      <td>...</td>\n",
       "    </tr>\n",
       "  </tbody>\n",
       "</table>\n",
       "</div>\n",
       "<div>Dask Name: read_parquet_file_to_pandas, 1 graph layer</div>"
      ],
      "text/plain": [
       "Dask DataFrame Structure:\n",
       "                     ps1_objid       ra      dec ps1_gMeanPSFMag ps1_rMeanPSFMag ps1_iMeanPSFMag nobs_g nobs_r nobs_i mean_mag_g mean_mag_r mean_mag_i Norder    Dir   Npix\n",
       "npartitions=2352                                                                                                                                                           \n",
       "0                        int64  float64  float64         float64         float64         float64  int32  int32  int32    float64    float64    float64  int32  int32  int32\n",
       "18014398509481984          ...      ...      ...             ...             ...             ...    ...    ...    ...        ...        ...        ...    ...    ...    ...\n",
       "...                        ...      ...      ...             ...             ...             ...    ...    ...    ...        ...        ...        ...    ...    ...    ...\n",
       "13830554455654793216       ...      ...      ...             ...             ...             ...    ...    ...    ...        ...        ...        ...    ...    ...    ...\n",
       "18446744073709551615       ...      ...      ...             ...             ...             ...    ...    ...    ...        ...        ...        ...    ...    ...    ...\n",
       "Dask Name: read_parquet_file_to_pandas, 1 graph layer"
      ]
     },
     "execution_count": 8,
     "metadata": {},
     "output_type": "execute_result"
    }
   ],
   "source": [
    "ztf = lsdb.read_hipscat(\"/data3/epyc/data3/hipscat/catalogs/ztf_axs/ztf_dr14\")\n",
    "ztf"
   ]
  },
  {
   "cell_type": "markdown",
   "id": "55ed1f545ea94400",
   "metadata": {
    "collapsed": false
   },
   "source": [
    "## Margin Spatial Filters\n",
    "\n",
    "The problem with spatial filters on a margin catalog is that the filter may include points in the margin of a pixel even though the filter does not intersect with the pixel itself. This would mean the current way we do the coarse part of the spatial filtering of using only the partitions that intersect with the filter region would not work."
   ]
  },
  {
   "cell_type": "code",
   "execution_count": 9,
   "id": "d04371632d3770e1",
   "metadata": {
    "ExecuteTime": {
     "end_time": "2024-03-13T22:22:05.414605Z",
     "start_time": "2024-03-13T22:22:05.388356Z"
    },
    "collapsed": false
   },
   "outputs": [],
   "source": [
    "order = 1\n",
    "pixel = 45\n",
    "\n",
    "cra = -38\n",
    "cdec = -60\n",
    "radius = 8"
   ]
  },
  {
   "cell_type": "code",
   "execution_count": 10,
   "id": "initial_id",
   "metadata": {
    "ExecuteTime": {
     "end_time": "2024-03-13T22:22:15.354351Z",
     "start_time": "2024-03-13T22:22:05.407679Z"
    },
    "collapsed": true
   },
   "outputs": [
    {
     "data": {
      "image/png": "[encoded data removed]",
      "text/plain": [
       "<Figure size 640x480 with 1 Axes>"
      ]
     },
     "metadata": {},
     "output_type": "display_data"
    }
   ],
   "source": [
    "def plot_points(pixel_dfs, order, pixel, colors, ra_columns, dec_columns, xlim=None, ylim=None, alpha=1, circle=False):\n",
    "    ax = plt.subplot()\n",
    "\n",
    "    # Plot hp pixel bounds\n",
    "    nsides = hp.order2nside(order)\n",
    "    pix0_bounds = hp.vec2dir(hp.boundaries(nsides, pixel, step=100, nest=True), lonlat=True)\n",
    "    lon = pix0_bounds[0]\n",
    "    lat = pix0_bounds[1]\n",
    "    vertices = np.vstack([lon.ravel(), lat.ravel()]).transpose()\n",
    "    p = Polygon(vertices, closed=True, edgecolor='blue', facecolor='none')\n",
    "\n",
    "    for pixel_df, color, ra_column, dec_column in zip(pixel_dfs, colors, ra_columns, dec_columns):\n",
    "        ax.scatter(pixel_df[ra_column].values - 360, pixel_df[dec_column].values, c=color, marker='+', linewidths=1, alpha=alpha)\n",
    "    ax.add_patch(p)\n",
    "\n",
    "    if circle:\n",
    "        circle = plt.Circle((cra, cdec), radius, color='red', fill=False)\n",
    "        ax.add_artist(circle)\n",
    "\n",
    "    VIEW_MARGIN = 2\n",
    "\n",
    "    xlim_low = np.min(lon) - VIEW_MARGIN if xlim is None else xlim[0]\n",
    "    xlim_high = np.max(lon) + VIEW_MARGIN if xlim is None else xlim[1]\n",
    "    ylim_low = np.min(lat) - VIEW_MARGIN if ylim is None else ylim[0]\n",
    "    ylim_high = np.max(lat) + VIEW_MARGIN if ylim is None else ylim[1]\n",
    "\n",
    "    plt.xlim(xlim_low, xlim_high)\n",
    "    plt.ylim(ylim_low, ylim_high)\n",
    "    plt.show()\n",
    "\n",
    "plot_points([ss.get_partition(order, pixel).compute(), ss.margin.get_partition(order, pixel).compute()], order, pixel, ['green', 'red'], ['ra', 'ra'], ['dec', 'dec'], circle=True)"
   ]
  },
  {
   "cell_type": "markdown",
   "id": "b8dd8f1719c05a20",
   "metadata": {
    "collapsed": false
   },
   "source": [
    "This example of a cone search shows the issue. The pixel and its margin cache are plotted above, along with an example of a cone search that would capture some of the margin points. However, since the cone does not intersect with the pixel itself, the pixel and these margin points would normally not be included in the resulting catalog."
   ]
  },
  {
   "cell_type": "markdown",
   "id": "4e5663e6e8afa439",
   "metadata": {
    "collapsed": false
   },
   "source": [
    "### The solution\n",
    "\n",
    "To solve this, we need to include not only the pixels that overlap with the filter region, but also any pixels that neighbor those pixels. We can reuse the code from the margin cache generation to find these pixels.\n",
    "\n",
    "First, let's plot the pixels that would normally be filtered by a search"
   ]
  },
  {
   "cell_type": "code",
   "execution_count": 11,
   "id": "b0c6f533309ea6d1",
   "metadata": {
    "ExecuteTime": {
     "end_time": "2024-03-13T22:22:15.553905Z",
     "start_time": "2024-03-13T22:22:15.353377Z"
    },
    "collapsed": false
   },
   "outputs": [
    {
     "data": {
      "image/png": "[encoded data removed]",
      "text/plain": [
       "<Figure size 850x540 with 2 Axes>"
      ]
     },
     "metadata": {},
     "output_type": "display_data"
    }
   ],
   "source": [
    "search = ConeSearch(cra, cdec, radius * 3600, ss.margin.hc_structure) # Get the pixels that match the search pixels\n",
    "filtered_search_pixels = search.search_partitions(ss.margin.hc_structure.get_healpix_pixels())\n",
    "plot_pixel_list(filtered_search_pixels)"
   ]
  },
  {
   "cell_type": "markdown",
   "id": "e3d43974ea92dfcb",
   "metadata": {
    "collapsed": false
   },
   "source": [
    "Now let's get the set of pixels that border all of the pixels in this region"
   ]
  },
  {
   "cell_type": "code",
   "execution_count": 12,
   "id": "99f3688408b1ba79",
   "metadata": {
    "ExecuteTime": {
     "end_time": "2024-03-13T22:22:15.858963Z",
     "start_time": "2024-03-13T22:22:15.560181Z"
    },
    "collapsed": false
   },
   "outputs": [
    {
     "data": {
      "image/png": "[encoded data removed]",
      "text/plain": [
       "<Figure size 850x540 with 2 Axes>"
      ]
     },
     "metadata": {},
     "output_type": "display_data"
    }
   ],
   "source": [
    "# Get the margin pixels at the max order + 1 from the search pixels\n",
    "# the get_margin function requires a higher order than the given pixel\n",
    "margin_order = max(pixel.order for pixel in filtered_search_pixels) + 1\n",
    "margin_pixels = [\n",
    "    hc.pixel_math.get_margin(pixel.order, pixel.pixel, margin_order - pixel.order)\n",
    "    for pixel in filtered_search_pixels\n",
    "]\n",
    "\n",
    "# Remove duplicate margin pixels and construct HealpixPixel objects\n",
    "margin_pixels = list(set(np.concatenate(margin_pixels)))\n",
    "margin_pixels = [HealpixPixel(margin_order, pixel) for pixel in margin_pixels]\n",
    "plot_pixel_list(margin_pixels)"
   ]
  },
  {
   "cell_type": "markdown",
   "id": "60a6f49f7da61a3b",
   "metadata": {
    "collapsed": false
   },
   "source": [
    "Finally, we combine these pixels and the regular pixels and align them to the catalog we want to filter"
   ]
  },
  {
   "cell_type": "code",
   "execution_count": 13,
   "id": "8c8e4fcde31462cd",
   "metadata": {
    "ExecuteTime": {
     "end_time": "2024-03-13T22:22:16.173224Z",
     "start_time": "2024-03-13T22:22:15.866759Z"
    },
    "collapsed": false
   },
   "outputs": [
    {
     "data": {
      "image/png": "[encoded data removed]",
      "text/plain": [
       "<Figure size 850x540 with 2 Axes>"
      ]
     },
     "metadata": {},
     "output_type": "display_data"
    }
   ],
   "source": [
    "# Align the margin pixels with the catalog pixels and combine with the search pixels\n",
    "margin_pixel_tree = PixelTreeBuilder.from_healpix(margin_pixels)\n",
    "filtered_margin_pixels = get_filtered_pixel_list(ss.margin.hc_structure.pixel_tree, margin_pixel_tree)\n",
    "filtered_pixels = list(set(filtered_search_pixels + filtered_margin_pixels))\n",
    "\n",
    "plot_pixel_list(filtered_pixels)"
   ]
  },
  {
   "cell_type": "markdown",
   "id": "d0f0d2297f26ebc4",
   "metadata": {
    "collapsed": false
   },
   "source": [
    "With this implemented in the margin catalog's search method, we can now correctly perform spatial filters on the margin. When a catalog with a margin has a spatial filter called, the resulting catalog will include the filtered maragin catalog"
   ]
  },
  {
   "cell_type": "code",
   "execution_count": 14,
   "id": "f0cbd10ac7971807",
   "metadata": {
    "ExecuteTime": {
     "end_time": "2024-03-13T22:22:16.210342Z",
     "start_time": "2024-03-13T22:22:16.173028Z"
    },
    "collapsed": false
   },
   "outputs": [
    {
     "data": {
      "text/html": [
       "<div><strong>Dask DataFrame Structure:</strong></div>\n",
       "<div>\n",
       "<style scoped>\n",
       "    .dataframe tbody tr th:only-of-type {\n",
       "        vertical-align: middle;\n",
       "    }\n",
       "\n",
       "    .dataframe tbody tr th {\n",
       "        vertical-align: top;\n",
       "    }\n",
       "\n",
       "    .dataframe thead th {\n",
       "        text-align: right;\n",
       "    }\n",
       "</style>\n",
       "<table border=\"1\" class=\"dataframe\">\n",
       "  <thead>\n",
       "    <tr style=\"text-align: right;\">\n",
       "      <th></th>\n",
       "      <th>id</th>\n",
       "      <th>ra</th>\n",
       "      <th>dec</th>\n",
       "      <th>ra_error</th>\n",
       "      <th>dec_error</th>\n",
       "      <th>calculated_dist</th>\n",
       "      <th>Norder</th>\n",
       "      <th>Dir</th>\n",
       "      <th>Npix</th>\n",
       "      <th>margin_Norder</th>\n",
       "      <th>margin_Dir</th>\n",
       "      <th>margin_Npix</th>\n",
       "    </tr>\n",
       "    <tr>\n",
       "      <th>npartitions=5</th>\n",
       "      <th></th>\n",
       "      <th></th>\n",
       "      <th></th>\n",
       "      <th></th>\n",
       "      <th></th>\n",
       "      <th></th>\n",
       "      <th></th>\n",
       "      <th></th>\n",
       "      <th></th>\n",
       "      <th></th>\n",
       "      <th></th>\n",
       "      <th></th>\n",
       "    </tr>\n",
       "  </thead>\n",
       "  <tbody>\n",
       "    <tr>\n",
       "      <th>4611686018427387904</th>\n",
       "      <td>int64</td>\n",
       "      <td>float64</td>\n",
       "      <td>float64</td>\n",
       "      <td>float64</td>\n",
       "      <td>float64</td>\n",
       "      <td>float64</td>\n",
       "      <td>uint8</td>\n",
       "      <td>uint64</td>\n",
       "      <td>uint64</td>\n",
       "      <td>uint8</td>\n",
       "      <td>uint64</td>\n",
       "      <td>uint64</td>\n",
       "    </tr>\n",
       "    <tr>\n",
       "      <th>12682136550675316736</th>\n",
       "      <td>...</td>\n",
       "      <td>...</td>\n",
       "      <td>...</td>\n",
       "      <td>...</td>\n",
       "      <td>...</td>\n",
       "      <td>...</td>\n",
       "      <td>...</td>\n",
       "      <td>...</td>\n",
       "      <td>...</td>\n",
       "      <td>...</td>\n",
       "      <td>...</td>\n",
       "      <td>...</td>\n",
       "    </tr>\n",
       "    <tr>\n",
       "      <th>...</th>\n",
       "      <td>...</td>\n",
       "      <td>...</td>\n",
       "      <td>...</td>\n",
       "      <td>...</td>\n",
       "      <td>...</td>\n",
       "      <td>...</td>\n",
       "      <td>...</td>\n",
       "      <td>...</td>\n",
       "      <td>...</td>\n",
       "      <td>...</td>\n",
       "      <td>...</td>\n",
       "      <td>...</td>\n",
       "    </tr>\n",
       "    <tr>\n",
       "      <th>13546827679130451968</th>\n",
       "      <td>...</td>\n",
       "      <td>...</td>\n",
       "      <td>...</td>\n",
       "      <td>...</td>\n",
       "      <td>...</td>\n",
       "      <td>...</td>\n",
       "      <td>...</td>\n",
       "      <td>...</td>\n",
       "      <td>...</td>\n",
       "      <td>...</td>\n",
       "      <td>...</td>\n",
       "      <td>...</td>\n",
       "    </tr>\n",
       "    <tr>\n",
       "      <th>18446744073709551615</th>\n",
       "      <td>...</td>\n",
       "      <td>...</td>\n",
       "      <td>...</td>\n",
       "      <td>...</td>\n",
       "      <td>...</td>\n",
       "      <td>...</td>\n",
       "      <td>...</td>\n",
       "      <td>...</td>\n",
       "      <td>...</td>\n",
       "      <td>...</td>\n",
       "      <td>...</td>\n",
       "      <td>...</td>\n",
       "    </tr>\n",
       "  </tbody>\n",
       "</table>\n",
       "</div>\n",
       "<div>Dask Name: from-delayed, 7 graph layers</div>"
      ],
      "text/plain": [
       "Dask DataFrame Structure:\n",
       "                         id       ra      dec ra_error dec_error calculated_dist Norder     Dir    Npix margin_Norder margin_Dir margin_Npix\n",
       "npartitions=5                                                                                                                               \n",
       "4611686018427387904   int64  float64  float64  float64   float64         float64  uint8  uint64  uint64         uint8     uint64      uint64\n",
       "12682136550675316736    ...      ...      ...      ...       ...             ...    ...     ...     ...           ...        ...         ...\n",
       "...                     ...      ...      ...      ...       ...             ...    ...     ...     ...           ...        ...         ...\n",
       "13546827679130451968    ...      ...      ...      ...       ...             ...    ...     ...     ...           ...        ...         ...\n",
       "18446744073709551615    ...      ...      ...      ...       ...             ...    ...     ...     ...           ...        ...         ...\n",
       "Dask Name: from-delayed, 7 graph layers"
      ]
     },
     "execution_count": 14,
     "metadata": {},
     "output_type": "execute_result"
    }
   ],
   "source": [
    "searched_ss = ss.cone_search(cra, cdec, radius*3600)\n",
    "searched_ss.margin"
   ]
  },
  {
   "cell_type": "code",
   "execution_count": 15,
   "id": "dbf5896d5582781",
   "metadata": {
    "ExecuteTime": {
     "end_time": "2024-03-13T22:22:19.969120Z",
     "start_time": "2024-03-13T22:22:16.215207Z"
    },
    "collapsed": false
   },
   "outputs": [
    {
     "data": {
      "image/png": "[encoded data removed]",
      "text/plain": [
       "<Figure size 640x480 with 1 Axes>"
      ]
     },
     "metadata": {},
     "output_type": "display_data"
    }
   ],
   "source": [
    "plot_points([searched_ss.get_partition(order, pixel).compute(), searched_ss.margin.get_partition(order, pixel).compute()], order, pixel, ['green', 'red'], ['ra', 'ra'], ['dec', 'dec'], circle=True)"
   ]
  },
  {
   "cell_type": "markdown",
   "id": "6143693d06d17d3c",
   "metadata": {
    "collapsed": false
   },
   "source": [
    "We see that we now include the margin points that are within the cone (The diagram isn't perfect and there are extra points because the circle doesn't actually represent the correct cone area on the sphere)"
   ]
  },
  {
   "cell_type": "markdown",
   "id": "1da54f867bbf6228",
   "metadata": {
    "collapsed": false
   },
   "source": [
    "## Skymap\n",
    "\n",
    "The skymap function applies a specified user function to each partition in the dataset, then plots the results for each partition on a Mollweide projection of the pixels coloured by the values"
   ]
  },
  {
   "cell_type": "code",
   "execution_count": 16,
   "id": "7506f85ac853fdcb",
   "metadata": {
    "ExecuteTime": {
     "end_time": "2024-03-13T22:22:19.969285Z",
     "start_time": "2024-03-13T22:22:19.968852Z"
    },
    "collapsed": false
   },
   "outputs": [],
   "source": [
    "def density(df, pixel):\n",
    "    return len(df) / hp.nside2pixarea(2 ** pixel.order)"
   ]
  },
  {
   "cell_type": "code",
   "execution_count": 18,
   "id": "f3fcee95bd42918c",
   "metadata": {
    "ExecuteTime": {
     "end_time": "2024-03-13T22:22:35.701092Z",
     "start_time": "2024-03-13T22:22:19.968943Z"
    },
    "collapsed": false
   },
   "outputs": [
    {
     "name": "stderr",
     "output_type": "stream",
     "text": [
      "2024-03-14 11:44:48,227 - distributed.utils_perf - INFO - full garbage collection released 11.50 MiB from 62550 reference cycles (threshold: 9.54 MiB)\n"
     ]
    },
    {
     "name": "stdout",
     "output_type": "stream",
     "text": [
      "CPU times: user 12.8 s, sys: 1.53 s, total: 14.3 s\n",
      "Wall time: 19.8 s\n"
     ]
    },
    {
     "data": {
      "image/png": "[encoded data removed]",
      "text/plain": [
       "<Figure size 850x540 with 2 Axes>"
      ]
     },
     "metadata": {},
     "output_type": "display_data"
    }
   ],
   "source": [
    "%%time \n",
    "ztf.cone_search(0, 20, 100000).skymap(density)"
   ]
  },
  {
   "cell_type": "code",
   "execution_count": 19,
   "id": "8c1576832d0ca2c9",
   "metadata": {
    "ExecuteTime": {
     "end_time": "2024-03-13T22:22:35.709132Z",
     "start_time": "2024-03-13T22:22:35.702274Z"
    },
    "collapsed": false
   },
   "outputs": [],
   "source": [
    "def length(df, _):\n",
    "    return len(df)"
   ]
  },
  {
   "cell_type": "code",
   "execution_count": 20,
   "id": "bda275b323ab8dc8",
   "metadata": {
    "ExecuteTime": {
     "end_time": "2024-03-13T22:24:48.575353Z",
     "start_time": "2024-03-13T22:22:35.703058Z"
    },
    "collapsed": false
   },
   "outputs": [],
   "source": [
    "%%time \n",
    "ztf.cone_search(0, 20, 200000).skymap(length)"
   ]
  },
  {
   "cell_type": "code",
   "execution_count": 18,
   "id": "ffc81a76af23a403",
   "metadata": {
    "ExecuteTime": {
     "end_time": "2024-03-13T22:24:48.590746Z",
     "start_time": "2024-03-13T22:24:48.571729Z"
    },
    "collapsed": false
   },
   "outputs": [],
   "source": [
    "def brightness(df, pixel):\n",
    "    return df[\"mean_mag_r\"].sum() / hp.nside2pixarea(2 ** pixel.order) "
   ]
  },
  {
   "cell_type": "code",
   "execution_count": 19,
   "id": "2ed544b650a8a9c3",
   "metadata": {
    "ExecuteTime": {
     "end_time": "2024-03-13T22:25:22.966Z",
     "start_time": "2024-03-13T22:24:48.573780Z"
    },
    "collapsed": false
   },
   "outputs": [
    {
     "data": {
      "image/png": "[encoded data removed]",
      "text/plain": [
       "<Figure size 850x540 with 2 Axes>"
      ]
     },
     "metadata": {},
     "output_type": "display_data"
    }
   ],
   "source": [
    "%%time\n",
    "ztf.box(ra=[-50, 30], dec=[20, 90]).skymap(brightness)"
   ]
  },
  {
   "cell_type": "code",
   "execution_count": 19,
   "id": "d495e1bca3e33fc7",
   "metadata": {
    "ExecuteTime": {
     "end_time": "2024-03-13T22:25:22.969507Z",
     "start_time": "2024-03-13T22:25:22.965423Z"
    },
    "collapsed": false
   },
   "outputs": [],
   "source": []
  }
 ],
 "metadata": {
  "kernelspec": {
   "display_name": "tape_static",
   "language": "python",
   "name": "python3"
  },
  "language_info": {
   "codemirror_mode": {
    "name": "ipython",
    "version": 3
   },
   "file_extension": ".py",
   "mimetype": "text/x-python",
   "name": "python",
   "nbconvert_exporter": "python",
   "pygments_lexer": "ipython3",
   "version": "3.10.13"
  }
 },
 "nbformat": 4,
 "nbformat_minor": 5
}
