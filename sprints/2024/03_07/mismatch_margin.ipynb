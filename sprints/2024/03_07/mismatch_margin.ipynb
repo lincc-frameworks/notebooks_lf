{
 "cells": [
  {
   "cell_type": "markdown",
   "metadata": {},
   "source": [
    "# Mismatch Margin Demonstration\n",
    "\n",
    "**Author**: Melissa DeLucchi\n",
    "\n",
    "This notebook demonstrates the behavior when attempting cross match with and without margin catalogs for the right catalog.\n",
    "\n",
    "For this demonstration, the actual cross-match results aren't that meaningful, so I'm using the unit test data for speed."
   ]
  },
  {
   "cell_type": "code",
   "execution_count": 18,
   "metadata": {},
   "outputs": [],
   "source": [
    "import lsdb\n",
    "from pathlib import Path\n",
    "\n",
    "data_dir = \"/home/delucchi/git/lsdb/tests/data\"\n",
    "\n",
    "small_sky_catalog = lsdb.read_hipscat(Path(data_dir) / \"small_sky\")\n",
    "small_sky_xmatch_catalog = lsdb.read_hipscat(Path(data_dir) / \"small_sky_xmatch\")\n",
    "small_sky_xmatch_margin = lsdb.read_hipscat(Path(data_dir) / \"small_sky_xmatch_margin\")\n"
   ]
  },
  {
   "cell_type": "markdown",
   "metadata": {},
   "source": [
    "## Missing right margin\n",
    "\n",
    "Here, we try to perform the cross match without the margin for the *right* catalog. This results in error."
   ]
  },
  {
   "cell_type": "code",
   "execution_count": 19,
   "metadata": {},
   "outputs": [
    {
     "ename": "ValueError",
     "evalue": "Right margin is required for cross-match",
     "output_type": "error",
     "traceback": [
      "\u001b[0;31m---------------------------------------------------------------------------\u001b[0m",
      "\u001b[0;31mValueError\u001b[0m                                Traceback (most recent call last)",
      "\u001b[1;32m/home/delucchi/git/notebooks_lf/sprints/2024/03_07/mismatch_margin.ipynb Cell 4\u001b[0m line \u001b[0;36m1\n\u001b[0;32m----> <a href='vscode-notebook-cell:/home/delucchi/git/notebooks_lf/sprints/2024/03_07/mismatch_margin.ipynb#W1sZmlsZQ%3D%3D?line=0'>1</a>\u001b[0m small_sky_catalog\u001b[39m.\u001b[39;49mcrossmatch(small_sky_xmatch_catalog)\n",
      "File \u001b[0;32m~/git/lsdb/src/lsdb/catalog/catalog.py:177\u001b[0m, in \u001b[0;36mCatalog.crossmatch\u001b[0;34m(self, other, suffixes, algorithm, output_catalog_name, **kwargs)\u001b[0m\n\u001b[1;32m    175\u001b[0m \u001b[39mif\u001b[39;00m output_catalog_name \u001b[39mis\u001b[39;00m \u001b[39mNone\u001b[39;00m:\n\u001b[1;32m    176\u001b[0m     output_catalog_name \u001b[39m=\u001b[39m \u001b[39mf\u001b[39m\u001b[39m\"\u001b[39m\u001b[39m{\u001b[39;00m\u001b[39mself\u001b[39m\u001b[39m.\u001b[39mname\u001b[39m}\u001b[39;00m\u001b[39m_x_\u001b[39m\u001b[39m{\u001b[39;00mother\u001b[39m.\u001b[39mname\u001b[39m}\u001b[39;00m\u001b[39m\"\u001b[39m\n\u001b[0;32m--> 177\u001b[0m ddf, ddf_map, alignment \u001b[39m=\u001b[39m crossmatch_catalog_data(\n\u001b[1;32m    178\u001b[0m     \u001b[39mself\u001b[39;49m, other, suffixes, algorithm\u001b[39m=\u001b[39;49malgorithm, \u001b[39m*\u001b[39;49m\u001b[39m*\u001b[39;49mkwargs\n\u001b[1;32m    179\u001b[0m )\n\u001b[1;32m    180\u001b[0m new_catalog_info \u001b[39m=\u001b[39m dataclasses\u001b[39m.\u001b[39mreplace(\n\u001b[1;32m    181\u001b[0m     \u001b[39mself\u001b[39m\u001b[39m.\u001b[39mhc_structure\u001b[39m.\u001b[39mcatalog_info,\n\u001b[1;32m    182\u001b[0m     catalog_name\u001b[39m=\u001b[39moutput_catalog_name,\n\u001b[1;32m    183\u001b[0m     ra_column\u001b[39m=\u001b[39m\u001b[39mself\u001b[39m\u001b[39m.\u001b[39mhc_structure\u001b[39m.\u001b[39mcatalog_info\u001b[39m.\u001b[39mra_column \u001b[39m+\u001b[39m suffixes[\u001b[39m0\u001b[39m],\n\u001b[1;32m    184\u001b[0m     dec_column\u001b[39m=\u001b[39m\u001b[39mself\u001b[39m\u001b[39m.\u001b[39mhc_structure\u001b[39m.\u001b[39mcatalog_info\u001b[39m.\u001b[39mdec_column \u001b[39m+\u001b[39m suffixes[\u001b[39m0\u001b[39m],\n\u001b[1;32m    185\u001b[0m )\n\u001b[1;32m    186\u001b[0m hc_catalog \u001b[39m=\u001b[39m hc\u001b[39m.\u001b[39mcatalog\u001b[39m.\u001b[39mCatalog(new_catalog_info, alignment\u001b[39m.\u001b[39mpixel_tree)\n",
      "File \u001b[0;32m~/git/lsdb/src/lsdb/dask/crossmatch_catalog_data.py:114\u001b[0m, in \u001b[0;36mcrossmatch_catalog_data\u001b[0;34m(left, right, suffixes, algorithm, **kwargs)\u001b[0m\n\u001b[1;32m     99\u001b[0m \u001b[39m# Create an instance of the crossmatch algorithm, using the metadata dataframes\u001b[39;00m\n\u001b[1;32m    100\u001b[0m \u001b[39m# and the provided kwargs.\u001b[39;00m\n\u001b[1;32m    101\u001b[0m meta_df_crossmatch \u001b[39m=\u001b[39m crossmatch_algorithm(\n\u001b[1;32m    102\u001b[0m     \u001b[39m# pylint: disable=protected-access\u001b[39;00m\n\u001b[1;32m    103\u001b[0m     left\u001b[39m.\u001b[39m_ddf,\n\u001b[0;32m   (...)\u001b[0m\n\u001b[1;32m    112\u001b[0m     suffixes,\n\u001b[1;32m    113\u001b[0m )\n\u001b[0;32m--> 114\u001b[0m meta_df_crossmatch\u001b[39m.\u001b[39;49mvalidate(\u001b[39m*\u001b[39;49m\u001b[39m*\u001b[39;49mkwargs)\n\u001b[1;32m    116\u001b[0m \u001b[39mif\u001b[39;00m right\u001b[39m.\u001b[39mmargin \u001b[39mis\u001b[39;00m \u001b[39mNone\u001b[39;00m:\n\u001b[1;32m    117\u001b[0m     warnings\u001b[39m.\u001b[39mwarn(\u001b[39m\"\u001b[39m\u001b[39mRight catalog does not have a margin cache. Results may be inaccurate\u001b[39m\u001b[39m\"\u001b[39m, \u001b[39mRuntimeWarning\u001b[39;00m)\n",
      "File \u001b[0;32m~/git/lsdb/src/lsdb/core/crossmatch/kdtree_match.py:29\u001b[0m, in \u001b[0;36mKdTreeCrossmatch.validate\u001b[0;34m(self, n_neighbors, radius_arcsec, require_right_margin, **kwargs)\u001b[0m\n\u001b[1;32m     27\u001b[0m \u001b[39mif\u001b[39;00m \u001b[39mself\u001b[39m\u001b[39m.\u001b[39mright_margin_hc_structure \u001b[39mis\u001b[39;00m \u001b[39mNone\u001b[39;00m:\n\u001b[1;32m     28\u001b[0m     \u001b[39mif\u001b[39;00m require_right_margin:\n\u001b[0;32m---> 29\u001b[0m         \u001b[39mraise\u001b[39;00m \u001b[39mValueError\u001b[39;00m(\u001b[39m\"\u001b[39m\u001b[39mRight margin is required for cross-match\u001b[39m\u001b[39m\"\u001b[39m)\n\u001b[1;32m     30\u001b[0m \u001b[39melse\u001b[39;00m:\n\u001b[1;32m     31\u001b[0m     \u001b[39mif\u001b[39;00m \u001b[39mself\u001b[39m\u001b[39m.\u001b[39mright_margin_hc_structure\u001b[39m.\u001b[39mcatalog_info\u001b[39m.\u001b[39mmargin_threshold \u001b[39m<\u001b[39m radius_arcsec:\n",
      "\u001b[0;31mValueError\u001b[0m: Right margin is required for cross-match"
     ]
    }
   ],
   "source": [
    "\n",
    "small_sky_catalog.crossmatch(small_sky_xmatch_catalog)"
   ]
  },
  {
   "cell_type": "markdown",
   "metadata": {},
   "source": [
    "## Allow missing margin\n",
    "\n",
    "Here, we allow a missing margin catalog. This option isn't highly-publicized, because we'd really rather folks use margins for their crossmatches!\n",
    "\n",
    "Even with the flag to allow missing margin, we STILL spit out a warning."
   ]
  },
  {
   "cell_type": "code",
   "execution_count": 20,
   "metadata": {},
   "outputs": [
    {
     "name": "stderr",
     "output_type": "stream",
     "text": [
      "/home/delucchi/git/lsdb/src/lsdb/dask/crossmatch_catalog_data.py:117: RuntimeWarning: Right catalog does not have a margin cache. Results may be inaccurate\n",
      "  warnings.warn(\"Right catalog does not have a margin cache. Results may be inaccurate\", RuntimeWarning)\n"
     ]
    }
   ],
   "source": [
    "results = small_sky_catalog.crossmatch(small_sky_xmatch_catalog, require_right_margin=False)"
   ]
  },
  {
   "cell_type": "markdown",
   "metadata": {},
   "source": [
    "## Bad match width\n",
    "\n",
    "The KDTree cross match algorithm is the default algorithm used, and it has a cross match radius parameter. The cross match radius should be LESS than the margin radius, so we're not missing counterparts. \n",
    "\n",
    "Let's check what the right margin distance is (should be 7_200 arcseconds). We can then attempt a cross match using a larger radius (say, 10_000 arcs)."
   ]
  },
  {
   "cell_type": "code",
   "execution_count": 21,
   "metadata": {},
   "outputs": [
    {
     "data": {
      "text/plain": [
       "7200"
      ]
     },
     "execution_count": 21,
     "metadata": {},
     "output_type": "execute_result"
    }
   ],
   "source": [
    "small_sky_xmatch_margin.hc_structure.catalog_info.margin_threshold"
   ]
  },
  {
   "cell_type": "code",
   "execution_count": 22,
   "metadata": {},
   "outputs": [
    {
     "ename": "ValueError",
     "evalue": "Cross match radius is greater than margin threshold",
     "output_type": "error",
     "traceback": [
      "\u001b[0;31m---------------------------------------------------------------------------\u001b[0m",
      "\u001b[0;31mValueError\u001b[0m                                Traceback (most recent call last)",
      "\u001b[1;32m/home/delucchi/git/notebooks_lf/sprints/2024/03_07/mismatch_margin.ipynb Cell 9\u001b[0m line \u001b[0;36m2\n\u001b[1;32m      <a href='vscode-notebook-cell:/home/delucchi/git/notebooks_lf/sprints/2024/03_07/mismatch_margin.ipynb#X12sZmlsZQ%3D%3D?line=0'>1</a>\u001b[0m small_sky_xmatch_catalog\u001b[39m.\u001b[39mmargin \u001b[39m=\u001b[39m small_sky_xmatch_margin\n\u001b[0;32m----> <a href='vscode-notebook-cell:/home/delucchi/git/notebooks_lf/sprints/2024/03_07/mismatch_margin.ipynb#X12sZmlsZQ%3D%3D?line=1'>2</a>\u001b[0m small_sky_catalog\u001b[39m.\u001b[39;49mcrossmatch(small_sky_xmatch_catalog, radius_arcsec\u001b[39m=\u001b[39;49m\u001b[39m10_000\u001b[39;49m)\n",
      "File \u001b[0;32m~/git/lsdb/src/lsdb/catalog/catalog.py:177\u001b[0m, in \u001b[0;36mCatalog.crossmatch\u001b[0;34m(self, other, suffixes, algorithm, output_catalog_name, **kwargs)\u001b[0m\n\u001b[1;32m    175\u001b[0m \u001b[39mif\u001b[39;00m output_catalog_name \u001b[39mis\u001b[39;00m \u001b[39mNone\u001b[39;00m:\n\u001b[1;32m    176\u001b[0m     output_catalog_name \u001b[39m=\u001b[39m \u001b[39mf\u001b[39m\u001b[39m\"\u001b[39m\u001b[39m{\u001b[39;00m\u001b[39mself\u001b[39m\u001b[39m.\u001b[39mname\u001b[39m}\u001b[39;00m\u001b[39m_x_\u001b[39m\u001b[39m{\u001b[39;00mother\u001b[39m.\u001b[39mname\u001b[39m}\u001b[39;00m\u001b[39m\"\u001b[39m\n\u001b[0;32m--> 177\u001b[0m ddf, ddf_map, alignment \u001b[39m=\u001b[39m crossmatch_catalog_data(\n\u001b[1;32m    178\u001b[0m     \u001b[39mself\u001b[39;49m, other, suffixes, algorithm\u001b[39m=\u001b[39;49malgorithm, \u001b[39m*\u001b[39;49m\u001b[39m*\u001b[39;49mkwargs\n\u001b[1;32m    179\u001b[0m )\n\u001b[1;32m    180\u001b[0m new_catalog_info \u001b[39m=\u001b[39m dataclasses\u001b[39m.\u001b[39mreplace(\n\u001b[1;32m    181\u001b[0m     \u001b[39mself\u001b[39m\u001b[39m.\u001b[39mhc_structure\u001b[39m.\u001b[39mcatalog_info,\n\u001b[1;32m    182\u001b[0m     catalog_name\u001b[39m=\u001b[39moutput_catalog_name,\n\u001b[1;32m    183\u001b[0m     ra_column\u001b[39m=\u001b[39m\u001b[39mself\u001b[39m\u001b[39m.\u001b[39mhc_structure\u001b[39m.\u001b[39mcatalog_info\u001b[39m.\u001b[39mra_column \u001b[39m+\u001b[39m suffixes[\u001b[39m0\u001b[39m],\n\u001b[1;32m    184\u001b[0m     dec_column\u001b[39m=\u001b[39m\u001b[39mself\u001b[39m\u001b[39m.\u001b[39mhc_structure\u001b[39m.\u001b[39mcatalog_info\u001b[39m.\u001b[39mdec_column \u001b[39m+\u001b[39m suffixes[\u001b[39m0\u001b[39m],\n\u001b[1;32m    185\u001b[0m )\n\u001b[1;32m    186\u001b[0m hc_catalog \u001b[39m=\u001b[39m hc\u001b[39m.\u001b[39mcatalog\u001b[39m.\u001b[39mCatalog(new_catalog_info, alignment\u001b[39m.\u001b[39mpixel_tree)\n",
      "File \u001b[0;32m~/git/lsdb/src/lsdb/dask/crossmatch_catalog_data.py:114\u001b[0m, in \u001b[0;36mcrossmatch_catalog_data\u001b[0;34m(left, right, suffixes, algorithm, **kwargs)\u001b[0m\n\u001b[1;32m     99\u001b[0m \u001b[39m# Create an instance of the crossmatch algorithm, using the metadata dataframes\u001b[39;00m\n\u001b[1;32m    100\u001b[0m \u001b[39m# and the provided kwargs.\u001b[39;00m\n\u001b[1;32m    101\u001b[0m meta_df_crossmatch \u001b[39m=\u001b[39m crossmatch_algorithm(\n\u001b[1;32m    102\u001b[0m     \u001b[39m# pylint: disable=protected-access\u001b[39;00m\n\u001b[1;32m    103\u001b[0m     left\u001b[39m.\u001b[39m_ddf,\n\u001b[0;32m   (...)\u001b[0m\n\u001b[1;32m    112\u001b[0m     suffixes,\n\u001b[1;32m    113\u001b[0m )\n\u001b[0;32m--> 114\u001b[0m meta_df_crossmatch\u001b[39m.\u001b[39;49mvalidate(\u001b[39m*\u001b[39;49m\u001b[39m*\u001b[39;49mkwargs)\n\u001b[1;32m    116\u001b[0m \u001b[39mif\u001b[39;00m right\u001b[39m.\u001b[39mmargin \u001b[39mis\u001b[39;00m \u001b[39mNone\u001b[39;00m:\n\u001b[1;32m    117\u001b[0m     warnings\u001b[39m.\u001b[39mwarn(\u001b[39m\"\u001b[39m\u001b[39mRight catalog does not have a margin cache. Results may be inaccurate\u001b[39m\u001b[39m\"\u001b[39m, \u001b[39mRuntimeWarning\u001b[39;00m)\n",
      "File \u001b[0;32m~/git/lsdb/src/lsdb/core/crossmatch/kdtree_match.py:32\u001b[0m, in \u001b[0;36mKdTreeCrossmatch.validate\u001b[0;34m(self, n_neighbors, radius_arcsec, require_right_margin, **kwargs)\u001b[0m\n\u001b[1;32m     30\u001b[0m \u001b[39melse\u001b[39;00m:\n\u001b[1;32m     31\u001b[0m     \u001b[39mif\u001b[39;00m \u001b[39mself\u001b[39m\u001b[39m.\u001b[39mright_margin_hc_structure\u001b[39m.\u001b[39mcatalog_info\u001b[39m.\u001b[39mmargin_threshold \u001b[39m<\u001b[39m radius_arcsec:\n\u001b[0;32m---> 32\u001b[0m         \u001b[39mraise\u001b[39;00m \u001b[39mValueError\u001b[39;00m(\u001b[39m\"\u001b[39m\u001b[39mCross match radius is greater than margin threshold\u001b[39m\u001b[39m\"\u001b[39m)\n",
      "\u001b[0;31mValueError\u001b[0m: Cross match radius is greater than margin threshold"
     ]
    }
   ],
   "source": [
    "small_sky_xmatch_catalog.margin = small_sky_xmatch_margin\n",
    "small_sky_catalog.crossmatch(small_sky_xmatch_catalog, radius_arcsec=10_000)"
   ]
  },
  {
   "cell_type": "markdown",
   "metadata": {},
   "source": [
    "## Everything is ok\n",
    "\n",
    "Bringing it all together, this crossmatch uses the toy \"small sky\" catalog, and the \"small sky xmatch\" catalog. The second catalog has had the radec perturbed, and the perturbed distance recorded as a column. \n",
    "\n",
    "The cross match is successful AND doesn't issue warnings because we have provided a valid margin catalog, and we have provided a radius that is within the margin threshold.\n",
    "\n",
    "Further, we use the `_dist_arcsec` column of the result to check that the match distance matches our expectations from the initial perturbation."
   ]
  },
  {
   "cell_type": "code",
   "execution_count": 23,
   "metadata": {},
   "outputs": [
    {
     "data": {
      "text/html": [
       "<div>\n",
       "<style scoped>\n",
       "    .dataframe tbody tr th:only-of-type {\n",
       "        vertical-align: middle;\n",
       "    }\n",
       "\n",
       "    .dataframe tbody tr th {\n",
       "        vertical-align: top;\n",
       "    }\n",
       "\n",
       "    .dataframe thead th {\n",
       "        text-align: right;\n",
       "    }\n",
       "</style>\n",
       "<table border=\"1\" class=\"dataframe\">\n",
       "  <thead>\n",
       "    <tr style=\"text-align: right;\">\n",
       "      <th></th>\n",
       "      <th>id_small_sky</th>\n",
       "      <th>id_small_sky_xmatch</th>\n",
       "      <th>calculated_dist_small_sky_xmatch</th>\n",
       "      <th>_dist_arcsec</th>\n",
       "      <th>_dist_degrees</th>\n",
       "    </tr>\n",
       "    <tr>\n",
       "      <th>_hipscat_index</th>\n",
       "      <th></th>\n",
       "      <th></th>\n",
       "      <th></th>\n",
       "      <th></th>\n",
       "      <th></th>\n",
       "    </tr>\n",
       "  </thead>\n",
       "  <tbody>\n",
       "    <tr>\n",
       "      <th>12749688880727326720</th>\n",
       "      <td>707</td>\n",
       "      <td>707</td>\n",
       "      <td>0.006712</td>\n",
       "      <td>24.162094</td>\n",
       "      <td>0.006712</td>\n",
       "    </tr>\n",
       "    <tr>\n",
       "      <th>12751184493818150912</th>\n",
       "      <td>792</td>\n",
       "      <td>792</td>\n",
       "      <td>0.010034</td>\n",
       "      <td>36.121268</td>\n",
       "      <td>0.010034</td>\n",
       "    </tr>\n",
       "    <tr>\n",
       "      <th>12753202806647685120</th>\n",
       "      <td>723</td>\n",
       "      <td>723</td>\n",
       "      <td>0.004231</td>\n",
       "      <td>15.231399</td>\n",
       "      <td>0.004231</td>\n",
       "    </tr>\n",
       "    <tr>\n",
       "      <th>12753202806647685121</th>\n",
       "      <td>811</td>\n",
       "      <td>723</td>\n",
       "      <td>0.004231</td>\n",
       "      <td>15.231399</td>\n",
       "      <td>0.004231</td>\n",
       "    </tr>\n",
       "    <tr>\n",
       "      <th>12770681119980912640</th>\n",
       "      <td>826</td>\n",
       "      <td>826</td>\n",
       "      <td>0.003309</td>\n",
       "      <td>11.912542</td>\n",
       "      <td>0.003309</td>\n",
       "    </tr>\n",
       "    <tr>\n",
       "      <th>...</th>\n",
       "      <td>...</td>\n",
       "      <td>...</td>\n",
       "      <td>...</td>\n",
       "      <td>...</td>\n",
       "      <td>...</td>\n",
       "    </tr>\n",
       "    <tr>\n",
       "      <th>13467391906581315584</th>\n",
       "      <td>715</td>\n",
       "      <td>715</td>\n",
       "      <td>0.009322</td>\n",
       "      <td>33.558031</td>\n",
       "      <td>0.009322</td>\n",
       "    </tr>\n",
       "    <tr>\n",
       "      <th>13477206946360590336</th>\n",
       "      <td>782</td>\n",
       "      <td>782</td>\n",
       "      <td>0.004931</td>\n",
       "      <td>17.750196</td>\n",
       "      <td>0.004931</td>\n",
       "    </tr>\n",
       "    <tr>\n",
       "      <th>13488986123334057984</th>\n",
       "      <td>752</td>\n",
       "      <td>752</td>\n",
       "      <td>0.010022</td>\n",
       "      <td>36.080967</td>\n",
       "      <td>0.010022</td>\n",
       "    </tr>\n",
       "    <tr>\n",
       "      <th>13520476867982786560</th>\n",
       "      <td>746</td>\n",
       "      <td>746</td>\n",
       "      <td>0.008176</td>\n",
       "      <td>29.434745</td>\n",
       "      <td>0.008176</td>\n",
       "    </tr>\n",
       "    <tr>\n",
       "      <th>13521835979425447936</th>\n",
       "      <td>770</td>\n",
       "      <td>770</td>\n",
       "      <td>0.008656</td>\n",
       "      <td>31.160400</td>\n",
       "      <td>0.008656</td>\n",
       "    </tr>\n",
       "  </tbody>\n",
       "</table>\n",
       "<p>113 rows × 5 columns</p>\n",
       "</div>"
      ],
      "text/plain": [
       "                      id_small_sky  id_small_sky_xmatch  \\\n",
       "_hipscat_index                                            \n",
       "12749688880727326720           707                  707   \n",
       "12751184493818150912           792                  792   \n",
       "12753202806647685120           723                  723   \n",
       "12753202806647685121           811                  723   \n",
       "12770681119980912640           826                  826   \n",
       "...                            ...                  ...   \n",
       "13467391906581315584           715                  715   \n",
       "13477206946360590336           782                  782   \n",
       "13488986123334057984           752                  752   \n",
       "13520476867982786560           746                  746   \n",
       "13521835979425447936           770                  770   \n",
       "\n",
       "                      calculated_dist_small_sky_xmatch  _dist_arcsec  \\\n",
       "_hipscat_index                                                         \n",
       "12749688880727326720                          0.006712     24.162094   \n",
       "12751184493818150912                          0.010034     36.121268   \n",
       "12753202806647685120                          0.004231     15.231399   \n",
       "12753202806647685121                          0.004231     15.231399   \n",
       "12770681119980912640                          0.003309     11.912542   \n",
       "...                                                ...           ...   \n",
       "13467391906581315584                          0.009322     33.558031   \n",
       "13477206946360590336                          0.004931     17.750196   \n",
       "13488986123334057984                          0.010022     36.080967   \n",
       "13520476867982786560                          0.008176     29.434745   \n",
       "13521835979425447936                          0.008656     31.160400   \n",
       "\n",
       "                      _dist_degrees  \n",
       "_hipscat_index                       \n",
       "12749688880727326720       0.006712  \n",
       "12751184493818150912       0.010034  \n",
       "12753202806647685120       0.004231  \n",
       "12753202806647685121       0.004231  \n",
       "12770681119980912640       0.003309  \n",
       "...                             ...  \n",
       "13467391906581315584       0.009322  \n",
       "13477206946360590336       0.004931  \n",
       "13488986123334057984       0.010022  \n",
       "13520476867982786560       0.008176  \n",
       "13521835979425447936       0.008656  \n",
       "\n",
       "[113 rows x 5 columns]"
      ]
     },
     "execution_count": 23,
     "metadata": {},
     "output_type": "execute_result"
    }
   ],
   "source": [
    "small_sky_xmatch_catalog.margin = small_sky_xmatch_margin\n",
    "results = small_sky_catalog.crossmatch(small_sky_xmatch_catalog, radius_arcsec=1_000).compute()\n",
    "trimmed_results = results[[\"id_small_sky\", \"id_small_sky_xmatch\", \"calculated_dist_small_sky_xmatch\", \"_dist_arcsec\"]]\n",
    "trimmed_results[\"_dist_degrees\"] = trimmed_results[\"_dist_arcsec\"] / 3600\n",
    "trimmed_results"
   ]
  }
 ],
 "metadata": {
  "kernelspec": {
   "display_name": "hipscatenv",
   "language": "python",
   "name": "python3"
  },
  "language_info": {
   "codemirror_mode": {
    "name": "ipython",
    "version": 3
   },
   "file_extension": ".py",
   "mimetype": "text/x-python",
   "name": "python",
   "nbconvert_exporter": "python",
   "pygments_lexer": "ipython3",
   "version": "3.10.13"
  }
 },
 "nbformat": 4,
 "nbformat_minor": 2
}
