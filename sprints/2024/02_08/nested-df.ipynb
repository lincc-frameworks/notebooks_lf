{
 "cells": [
  {
   "cell_type": "markdown",
   "id": "328474e5-f2cd-4996-82d8-b5a763d6825b",
   "metadata": {
    "cell_marker": "\"\"\""
   },
   "source": [
    "# `pandas-ts`\n",
    "\n",
    "**Author**: Konstantin Malanchev\n",
    "\n",
    "- Pack flat source table into a pandas series of light-curves\n",
    "- If source table is sorted by ID, no copy is needed\n",
    "- Getting flat representation back is cheap\n",
    "- Packed series is a `pyarrow` struct-array\n",
    "- Each field of the struct is `pyarrow` list-array, lists are forced to have the same length\n",
    "- From user's persopective each item is a nested pandas dataframe"
   ]
  },
  {
   "cell_type": "code",
   "execution_count": 1,
   "id": "6fcbbe92-e65c-4f7a-b954-595ad0185818",
   "metadata": {},
   "outputs": [
    {
     "name": "stdout",
     "output_type": "stream",
     "text": [
      "Collecting git+https://github.com/lincc-frameworks/pandas-ts@656d3f53131b2870c05beea42709fe439f52f824\n",
      "  Cloning https://github.com/lincc-frameworks/pandas-ts (to revision 656d3f53131b2870c05beea42709fe439f52f824) to /private/var/folders/w1/lh3h4s7d5g10rdlfj4h0mshw0000gn/T/pip-req-build-ss_5j7se\n",
      "  Running command git clone --filter=blob:none --quiet https://github.com/lincc-frameworks/pandas-ts /private/var/folders/w1/lh3h4s7d5g10rdlfj4h0mshw0000gn/T/pip-req-build-ss_5j7se\n",
      "  Running command git rev-parse -q --verify 'sha^656d3f53131b2870c05beea42709fe439f52f824'\n",
      "  Running command git fetch -q https://github.com/lincc-frameworks/pandas-ts 656d3f53131b2870c05beea42709fe439f52f824\n",
      "  Resolved https://github.com/lincc-frameworks/pandas-ts to commit 656d3f53131b2870c05beea42709fe439f52f824\n",
      "  Installing build dependencies ... \u001b[?25ldone\n",
      "\u001b[?25h  Getting requirements to build wheel ... \u001b[?25ldone\n",
      "\u001b[?25h  Installing backend dependencies ... \u001b[?25ldone\n",
      "\u001b[?25h  Preparing metadata (pyproject.toml) ... \u001b[?25ldone\n",
      "\u001b[?25hRequirement already satisfied: pandas<2.3,>=2.2 in /Users/hombit/.virtualenvs/2024_02_08_demo_pandas-ts/lib/python3.11/site-packages (from pandas-ts==0.1.dev48+g656d3f5) (2.2.0)\n",
      "Requirement already satisfied: pyarrow>=15 in /Users/hombit/.virtualenvs/2024_02_08_demo_pandas-ts/lib/python3.11/site-packages (from pandas-ts==0.1.dev48+g656d3f5) (15.0.0)\n",
      "Requirement already satisfied: numpy<2,>=1.23.2 in /Users/hombit/.virtualenvs/2024_02_08_demo_pandas-ts/lib/python3.11/site-packages (from pandas<2.3,>=2.2->pandas-ts==0.1.dev48+g656d3f5) (1.26.4)\n",
      "Requirement already satisfied: python-dateutil>=2.8.2 in /Users/hombit/.virtualenvs/2024_02_08_demo_pandas-ts/lib/python3.11/site-packages (from pandas<2.3,>=2.2->pandas-ts==0.1.dev48+g656d3f5) (2.8.2)\n",
      "Requirement already satisfied: pytz>=2020.1 in /Users/hombit/.virtualenvs/2024_02_08_demo_pandas-ts/lib/python3.11/site-packages (from pandas<2.3,>=2.2->pandas-ts==0.1.dev48+g656d3f5) (2024.1)\n",
      "Requirement already satisfied: tzdata>=2022.7 in /Users/hombit/.virtualenvs/2024_02_08_demo_pandas-ts/lib/python3.11/site-packages (from pandas<2.3,>=2.2->pandas-ts==0.1.dev48+g656d3f5) (2023.4)\n",
      "Requirement already satisfied: six>=1.5 in /Users/hombit/.virtualenvs/2024_02_08_demo_pandas-ts/lib/python3.11/site-packages (from python-dateutil>=2.8.2->pandas<2.3,>=2.2->pandas-ts==0.1.dev48+g656d3f5) (1.16.0)\n"
     ]
    }
   ],
   "source": [
    "! pip install git+https://github.com/lincc-frameworks/pandas-ts@656d3f53131b2870c05beea42709fe439f52f824"
   ]
  },
  {
   "cell_type": "markdown",
   "id": "1c43c9d5-352b-4e92-9b3e-61ea8725243a",
   "metadata": {
    "collapsed": false,
    "jupyter": {
     "outputs_hidden": false
    }
   },
   "source": [
    "# Create a source table and pack it into nested structures and lists"
   ]
  },
  {
   "cell_type": "code",
   "execution_count": 2,
   "id": "165a7a0918b5a866",
   "metadata": {
    "ExecuteTime": {
     "end_time": "2024-02-06T17:39:12.184284Z",
     "start_time": "2024-02-06T17:39:12.170219Z"
    }
   },
   "outputs": [
    {
     "data": {
      "text/html": [
       "<div>\n",
       "<style scoped>\n",
       "    .dataframe tbody tr th:only-of-type {\n",
       "        vertical-align: middle;\n",
       "    }\n",
       "\n",
       "    .dataframe tbody tr th {\n",
       "        vertical-align: top;\n",
       "    }\n",
       "\n",
       "    .dataframe thead th {\n",
       "        text-align: right;\n",
       "    }\n",
       "</style>\n",
       "<table border=\"1\" class=\"dataframe\">\n",
       "  <thead>\n",
       "    <tr style=\"text-align: right;\">\n",
       "      <th></th>\n",
       "      <th>time</th>\n",
       "      <th>flux</th>\n",
       "      <th>band</th>\n",
       "      <th>err</th>\n",
       "      <th>count</th>\n",
       "    </tr>\n",
       "    <tr>\n",
       "      <th>id</th>\n",
       "      <th></th>\n",
       "      <th></th>\n",
       "      <th></th>\n",
       "      <th></th>\n",
       "      <th></th>\n",
       "    </tr>\n",
       "  </thead>\n",
       "  <tbody>\n",
       "    <tr>\n",
       "      <th>8000</th>\n",
       "      <td>0</td>\n",
       "      <td>0</td>\n",
       "      <td>g</td>\n",
       "      <td>0.0</td>\n",
       "      <td>0</td>\n",
       "    </tr>\n",
       "    <tr>\n",
       "      <th>8001</th>\n",
       "      <td>1</td>\n",
       "      <td>1</td>\n",
       "      <td>g</td>\n",
       "      <td>0.1</td>\n",
       "      <td>1</td>\n",
       "    </tr>\n",
       "    <tr>\n",
       "      <th>8002</th>\n",
       "      <td>2</td>\n",
       "      <td>2</td>\n",
       "      <td>g</td>\n",
       "      <td>0.2</td>\n",
       "      <td>2</td>\n",
       "    </tr>\n",
       "    <tr>\n",
       "      <th>8003</th>\n",
       "      <td>3</td>\n",
       "      <td>3</td>\n",
       "      <td>g</td>\n",
       "      <td>0.3</td>\n",
       "      <td>3</td>\n",
       "    </tr>\n",
       "    <tr>\n",
       "      <th>8004</th>\n",
       "      <td>4</td>\n",
       "      <td>0</td>\n",
       "      <td>g</td>\n",
       "      <td>0.4</td>\n",
       "      <td>4</td>\n",
       "    </tr>\n",
       "    <tr>\n",
       "      <th>...</th>\n",
       "      <td>...</td>\n",
       "      <td>...</td>\n",
       "      <td>...</td>\n",
       "      <td>...</td>\n",
       "      <td>...</td>\n",
       "    </tr>\n",
       "    <tr>\n",
       "      <th>8000</th>\n",
       "      <td>995</td>\n",
       "      <td>3</td>\n",
       "      <td>z</td>\n",
       "      <td>0.5</td>\n",
       "      <td>995</td>\n",
       "    </tr>\n",
       "    <tr>\n",
       "      <th>8001</th>\n",
       "      <td>996</td>\n",
       "      <td>0</td>\n",
       "      <td>z</td>\n",
       "      <td>0.6</td>\n",
       "      <td>996</td>\n",
       "    </tr>\n",
       "    <tr>\n",
       "      <th>8002</th>\n",
       "      <td>997</td>\n",
       "      <td>1</td>\n",
       "      <td>z</td>\n",
       "      <td>0.7</td>\n",
       "      <td>997</td>\n",
       "    </tr>\n",
       "    <tr>\n",
       "      <th>8003</th>\n",
       "      <td>998</td>\n",
       "      <td>2</td>\n",
       "      <td>z</td>\n",
       "      <td>0.8</td>\n",
       "      <td>998</td>\n",
       "    </tr>\n",
       "    <tr>\n",
       "      <th>8004</th>\n",
       "      <td>999</td>\n",
       "      <td>3</td>\n",
       "      <td>z</td>\n",
       "      <td>0.9</td>\n",
       "      <td>999</td>\n",
       "    </tr>\n",
       "  </tbody>\n",
       "</table>\n",
       "<p>1000 rows × 5 columns</p>\n",
       "</div>"
      ],
      "text/plain": [
       "      time  flux band  err  count\n",
       "id                               \n",
       "8000     0     0    g  0.0      0\n",
       "8001     1     1    g  0.1      1\n",
       "8002     2     2    g  0.2      2\n",
       "8003     3     3    g  0.3      3\n",
       "8004     4     0    g  0.4      4\n",
       "...    ...   ...  ...  ...    ...\n",
       "8000   995     3    z  0.5    995\n",
       "8001   996     0    z  0.6    996\n",
       "8002   997     1    z  0.7    997\n",
       "8003   998     2    z  0.8    998\n",
       "8004   999     3    z  0.9    999\n",
       "\n",
       "[1000 rows x 5 columns]"
      ]
     },
     "execution_count": 2,
     "metadata": {},
     "output_type": "execute_result"
    }
   ],
   "source": [
    "import numpy as np\n",
    "import pandas as pd\n",
    "from pandas_ts.packer import pack_flat, pack_lists\n",
    "\n",
    "\n",
    "# Adopted from\n",
    "# https://github.com/lincc-frameworks/tape/blob/6a694c4c138aadb1508c2a96de4fa63f90319331/tests/tape_tests/conftest.py#L15\n",
    "def create_test_rows():\n",
    "    num_points = 1000\n",
    "    all_bands = np.array([\"g\", \"r\", \"i\", \"z\"])\n",
    "\n",
    "    rows = {\n",
    "        \"id\": 8000 + (np.arange(num_points) % 5),\n",
    "        \"time\": np.arange(num_points),\n",
    "        \"flux\": np.arange(num_points) % len(all_bands),\n",
    "        \"band\": np.repeat(all_bands, num_points / len(all_bands)),\n",
    "        \"err\": 0.1 * (np.arange(num_points) % 10),\n",
    "        \"count\": np.arange(num_points),\n",
    "        # Not sure that I'm ready for Nones\n",
    "        # \"something_else\": np.full(num_points, None),\n",
    "    }\n",
    "\n",
    "    return rows\n",
    "\n",
    "\n",
    "sources = pd.DataFrame(create_test_rows())\n",
    "sources.set_index(\"id\", inplace=True)\n",
    "sources"
   ]
  },
  {
   "cell_type": "code",
   "execution_count": 3,
   "id": "951dbb53d50f21c3",
   "metadata": {
    "ExecuteTime": {
     "end_time": "2024-02-06T17:39:12.195676Z",
     "start_time": "2024-02-06T17:39:12.182905Z"
    }
   },
   "outputs": [
    {
     "data": {
      "text/plain": [
       "8000         time  flux band  err  count\n",
       "0       0    ...\n",
       "8001         time  flux band  err  count\n",
       "0       1    ...\n",
       "8002         time  flux band  err  count\n",
       "0       2    ...\n",
       "8003         time  flux band  err  count\n",
       "0       3    ...\n",
       "8004         time  flux band  err  count\n",
       "0       4    ...\n",
       "Name: sources, dtype: ts<time: [int64], flux: [int64], band: [string], err: [double], count: [int64]>"
      ]
     },
     "execution_count": 3,
     "metadata": {},
     "output_type": "execute_result"
    }
   ],
   "source": [
    "packed = pack_flat(sources, name=\"sources\")\n",
    "packed"
   ]
  },
  {
   "cell_type": "markdown",
   "id": "b08d49b762877dcb",
   "metadata": {
    "collapsed": false,
    "jupyter": {
     "outputs_hidden": false
    }
   },
   "source": [
    "### Single item of the packed series is returned as a new DataFrame"
   ]
  },
  {
   "cell_type": "code",
   "execution_count": 4,
   "id": "edd0b2714196c9d0",
   "metadata": {
    "ExecuteTime": {
     "end_time": "2024-02-06T17:39:12.205248Z",
     "start_time": "2024-02-06T17:39:12.196528Z"
    }
   },
   "outputs": [
    {
     "data": {
      "text/html": [
       "<div>\n",
       "<style scoped>\n",
       "    .dataframe tbody tr th:only-of-type {\n",
       "        vertical-align: middle;\n",
       "    }\n",
       "\n",
       "    .dataframe tbody tr th {\n",
       "        vertical-align: top;\n",
       "    }\n",
       "\n",
       "    .dataframe thead th {\n",
       "        text-align: right;\n",
       "    }\n",
       "</style>\n",
       "<table border=\"1\" class=\"dataframe\">\n",
       "  <thead>\n",
       "    <tr style=\"text-align: right;\">\n",
       "      <th></th>\n",
       "      <th>time</th>\n",
       "      <th>flux</th>\n",
       "      <th>band</th>\n",
       "      <th>err</th>\n",
       "      <th>count</th>\n",
       "    </tr>\n",
       "  </thead>\n",
       "  <tbody>\n",
       "    <tr>\n",
       "      <th>0</th>\n",
       "      <td>0</td>\n",
       "      <td>0</td>\n",
       "      <td>g</td>\n",
       "      <td>0.0</td>\n",
       "      <td>0</td>\n",
       "    </tr>\n",
       "    <tr>\n",
       "      <th>1</th>\n",
       "      <td>5</td>\n",
       "      <td>1</td>\n",
       "      <td>g</td>\n",
       "      <td>0.5</td>\n",
       "      <td>5</td>\n",
       "    </tr>\n",
       "    <tr>\n",
       "      <th>2</th>\n",
       "      <td>10</td>\n",
       "      <td>2</td>\n",
       "      <td>g</td>\n",
       "      <td>0.0</td>\n",
       "      <td>10</td>\n",
       "    </tr>\n",
       "    <tr>\n",
       "      <th>3</th>\n",
       "      <td>15</td>\n",
       "      <td>3</td>\n",
       "      <td>g</td>\n",
       "      <td>0.5</td>\n",
       "      <td>15</td>\n",
       "    </tr>\n",
       "    <tr>\n",
       "      <th>4</th>\n",
       "      <td>20</td>\n",
       "      <td>0</td>\n",
       "      <td>g</td>\n",
       "      <td>0.0</td>\n",
       "      <td>20</td>\n",
       "    </tr>\n",
       "    <tr>\n",
       "      <th>...</th>\n",
       "      <td>...</td>\n",
       "      <td>...</td>\n",
       "      <td>...</td>\n",
       "      <td>...</td>\n",
       "      <td>...</td>\n",
       "    </tr>\n",
       "    <tr>\n",
       "      <th>195</th>\n",
       "      <td>975</td>\n",
       "      <td>3</td>\n",
       "      <td>z</td>\n",
       "      <td>0.5</td>\n",
       "      <td>975</td>\n",
       "    </tr>\n",
       "    <tr>\n",
       "      <th>196</th>\n",
       "      <td>980</td>\n",
       "      <td>0</td>\n",
       "      <td>z</td>\n",
       "      <td>0.0</td>\n",
       "      <td>980</td>\n",
       "    </tr>\n",
       "    <tr>\n",
       "      <th>197</th>\n",
       "      <td>985</td>\n",
       "      <td>1</td>\n",
       "      <td>z</td>\n",
       "      <td>0.5</td>\n",
       "      <td>985</td>\n",
       "    </tr>\n",
       "    <tr>\n",
       "      <th>198</th>\n",
       "      <td>990</td>\n",
       "      <td>2</td>\n",
       "      <td>z</td>\n",
       "      <td>0.0</td>\n",
       "      <td>990</td>\n",
       "    </tr>\n",
       "    <tr>\n",
       "      <th>199</th>\n",
       "      <td>995</td>\n",
       "      <td>3</td>\n",
       "      <td>z</td>\n",
       "      <td>0.5</td>\n",
       "      <td>995</td>\n",
       "    </tr>\n",
       "  </tbody>\n",
       "</table>\n",
       "<p>200 rows × 5 columns</p>\n",
       "</div>"
      ],
      "text/plain": [
       "     time  flux band  err  count\n",
       "0       0     0    g  0.0      0\n",
       "1       5     1    g  0.5      5\n",
       "2      10     2    g  0.0     10\n",
       "3      15     3    g  0.5     15\n",
       "4      20     0    g  0.0     20\n",
       "..    ...   ...  ...  ...    ...\n",
       "195   975     3    z  0.5    975\n",
       "196   980     0    z  0.0    980\n",
       "197   985     1    z  0.5    985\n",
       "198   990     2    z  0.0    990\n",
       "199   995     3    z  0.5    995\n",
       "\n",
       "[200 rows x 5 columns]"
      ]
     },
     "execution_count": 4,
     "metadata": {},
     "output_type": "execute_result"
    }
   ],
   "source": [
    "packed.iloc[0]"
   ]
  },
  {
   "cell_type": "code",
   "execution_count": 5,
   "id": "3144e1a6c5964ed9",
   "metadata": {
    "ExecuteTime": {
     "end_time": "2024-02-06T17:39:12.209602Z",
     "start_time": "2024-02-06T17:39:12.200870Z"
    }
   },
   "outputs": [
    {
     "data": {
      "text/plain": [
       "8000    2.0\n",
       "8001    2.8\n",
       "8002    1.2\n",
       "8003    0.4\n",
       "8004    1.2\n",
       "Name: sources, dtype: float64"
      ]
     },
     "execution_count": 5,
     "metadata": {},
     "output_type": "execute_result"
    }
   ],
   "source": [
    "# Get the linearly interpolated flux for time=10\n",
    "packed.apply(lambda df: np.interp(10.0, df[\"time\"], df[\"flux\"]))"
   ]
  },
  {
   "cell_type": "markdown",
   "id": "2a7fef0ef94ff597",
   "metadata": {
    "collapsed": false,
    "jupyter": {
     "outputs_hidden": false
    }
   },
   "source": [
    "### Get packed sources series and play with `.ts` accessor\n",
    "This series is a collection of structures, each structure consist of multiple fields, and each field is a \"list\" of values. "
   ]
  },
  {
   "cell_type": "code",
   "execution_count": 6,
   "id": "620ad241f94d3e98",
   "metadata": {
    "ExecuteTime": {
     "end_time": "2024-02-06T17:39:12.222079Z",
     "start_time": "2024-02-06T17:39:12.204054Z"
    }
   },
   "outputs": [
    {
     "data": {
      "text/html": [
       "<div>\n",
       "<style scoped>\n",
       "    .dataframe tbody tr th:only-of-type {\n",
       "        vertical-align: middle;\n",
       "    }\n",
       "\n",
       "    .dataframe tbody tr th {\n",
       "        vertical-align: top;\n",
       "    }\n",
       "\n",
       "    .dataframe thead th {\n",
       "        text-align: right;\n",
       "    }\n",
       "</style>\n",
       "<table border=\"1\" class=\"dataframe\">\n",
       "  <thead>\n",
       "    <tr style=\"text-align: right;\">\n",
       "      <th></th>\n",
       "      <th>time</th>\n",
       "      <th>flux</th>\n",
       "      <th>band</th>\n",
       "      <th>err</th>\n",
       "      <th>count</th>\n",
       "    </tr>\n",
       "  </thead>\n",
       "  <tbody>\n",
       "    <tr>\n",
       "      <th>8000</th>\n",
       "      <td>0</td>\n",
       "      <td>0</td>\n",
       "      <td>g</td>\n",
       "      <td>0.0</td>\n",
       "      <td>0</td>\n",
       "    </tr>\n",
       "    <tr>\n",
       "      <th>8000</th>\n",
       "      <td>5</td>\n",
       "      <td>1</td>\n",
       "      <td>g</td>\n",
       "      <td>0.5</td>\n",
       "      <td>5</td>\n",
       "    </tr>\n",
       "    <tr>\n",
       "      <th>8000</th>\n",
       "      <td>10</td>\n",
       "      <td>2</td>\n",
       "      <td>g</td>\n",
       "      <td>0.0</td>\n",
       "      <td>10</td>\n",
       "    </tr>\n",
       "    <tr>\n",
       "      <th>8000</th>\n",
       "      <td>15</td>\n",
       "      <td>3</td>\n",
       "      <td>g</td>\n",
       "      <td>0.5</td>\n",
       "      <td>15</td>\n",
       "    </tr>\n",
       "    <tr>\n",
       "      <th>8000</th>\n",
       "      <td>20</td>\n",
       "      <td>0</td>\n",
       "      <td>g</td>\n",
       "      <td>0.0</td>\n",
       "      <td>20</td>\n",
       "    </tr>\n",
       "    <tr>\n",
       "      <th>...</th>\n",
       "      <td>...</td>\n",
       "      <td>...</td>\n",
       "      <td>...</td>\n",
       "      <td>...</td>\n",
       "      <td>...</td>\n",
       "    </tr>\n",
       "    <tr>\n",
       "      <th>8004</th>\n",
       "      <td>979</td>\n",
       "      <td>3</td>\n",
       "      <td>z</td>\n",
       "      <td>0.9</td>\n",
       "      <td>979</td>\n",
       "    </tr>\n",
       "    <tr>\n",
       "      <th>8004</th>\n",
       "      <td>984</td>\n",
       "      <td>0</td>\n",
       "      <td>z</td>\n",
       "      <td>0.4</td>\n",
       "      <td>984</td>\n",
       "    </tr>\n",
       "    <tr>\n",
       "      <th>8004</th>\n",
       "      <td>989</td>\n",
       "      <td>1</td>\n",
       "      <td>z</td>\n",
       "      <td>0.9</td>\n",
       "      <td>989</td>\n",
       "    </tr>\n",
       "    <tr>\n",
       "      <th>8004</th>\n",
       "      <td>994</td>\n",
       "      <td>2</td>\n",
       "      <td>z</td>\n",
       "      <td>0.4</td>\n",
       "      <td>994</td>\n",
       "    </tr>\n",
       "    <tr>\n",
       "      <th>8004</th>\n",
       "      <td>999</td>\n",
       "      <td>3</td>\n",
       "      <td>z</td>\n",
       "      <td>0.9</td>\n",
       "      <td>999</td>\n",
       "    </tr>\n",
       "  </tbody>\n",
       "</table>\n",
       "<p>1000 rows × 5 columns</p>\n",
       "</div>"
      ],
      "text/plain": [
       "      time  flux band  err  count\n",
       "8000     0     0    g  0.0      0\n",
       "8000     5     1    g  0.5      5\n",
       "8000    10     2    g  0.0     10\n",
       "8000    15     3    g  0.5     15\n",
       "8000    20     0    g  0.0     20\n",
       "...    ...   ...  ...  ...    ...\n",
       "8004   979     3    z  0.9    979\n",
       "8004   984     0    z  0.4    984\n",
       "8004   989     1    z  0.9    989\n",
       "8004   994     2    z  0.4    994\n",
       "8004   999     3    z  0.9    999\n",
       "\n",
       "[1000 rows x 5 columns]"
      ]
     },
     "execution_count": 6,
     "metadata": {},
     "output_type": "execute_result"
    }
   ],
   "source": [
    "packed.ts.to_flat()"
   ]
  },
  {
   "cell_type": "code",
   "execution_count": 7,
   "id": "63e47b51a269305f",
   "metadata": {
    "ExecuteTime": {
     "end_time": "2024-02-06T17:39:12.252890Z",
     "start_time": "2024-02-06T17:39:12.210171Z"
    }
   },
   "outputs": [
    {
     "data": {
      "text/html": [
       "<div>\n",
       "<style scoped>\n",
       "    .dataframe tbody tr th:only-of-type {\n",
       "        vertical-align: middle;\n",
       "    }\n",
       "\n",
       "    .dataframe tbody tr th {\n",
       "        vertical-align: top;\n",
       "    }\n",
       "\n",
       "    .dataframe thead th {\n",
       "        text-align: right;\n",
       "    }\n",
       "</style>\n",
       "<table border=\"1\" class=\"dataframe\">\n",
       "  <thead>\n",
       "    <tr style=\"text-align: right;\">\n",
       "      <th></th>\n",
       "      <th>time</th>\n",
       "      <th>flux</th>\n",
       "      <th>band</th>\n",
       "      <th>err</th>\n",
       "      <th>count</th>\n",
       "    </tr>\n",
       "  </thead>\n",
       "  <tbody>\n",
       "    <tr>\n",
       "      <th>8000</th>\n",
       "      <td>[  0   5  10  15  20  25  30  35  40  45  50  ...</td>\n",
       "      <td>[0 1 2 3 0 1 2 3 0 1 2 3 0 1 2 3 0 1 2 3 0 1 2...</td>\n",
       "      <td>['g' 'g' 'g' 'g' 'g' 'g' 'g' 'g' 'g' 'g' 'g' '...</td>\n",
       "      <td>[0.  0.5 0.  0.5 0.  0.5 0.  0.5 0.  0.5 0.  0...</td>\n",
       "      <td>[  0   5  10  15  20  25  30  35  40  45  50  ...</td>\n",
       "    </tr>\n",
       "    <tr>\n",
       "      <th>8001</th>\n",
       "      <td>[  1   6  11  16  21  26  31  36  41  46  51  ...</td>\n",
       "      <td>[1 2 3 0 1 2 3 0 1 2 3 0 1 2 3 0 1 2 3 0 1 2 3...</td>\n",
       "      <td>['g' 'g' 'g' 'g' 'g' 'g' 'g' 'g' 'g' 'g' 'g' '...</td>\n",
       "      <td>[0.1 0.6 0.1 0.6 0.1 0.6 0.1 0.6 0.1 0.6 0.1 0...</td>\n",
       "      <td>[  1   6  11  16  21  26  31  36  41  46  51  ...</td>\n",
       "    </tr>\n",
       "    <tr>\n",
       "      <th>8002</th>\n",
       "      <td>[  2   7  12  17  22  27  32  37  42  47  52  ...</td>\n",
       "      <td>[2 3 0 1 2 3 0 1 2 3 0 1 2 3 0 1 2 3 0 1 2 3 0...</td>\n",
       "      <td>['g' 'g' 'g' 'g' 'g' 'g' 'g' 'g' 'g' 'g' 'g' '...</td>\n",
       "      <td>[0.2 0.7 0.2 0.7 0.2 0.7 0.2 0.7 0.2 0.7 0.2 0...</td>\n",
       "      <td>[  2   7  12  17  22  27  32  37  42  47  52  ...</td>\n",
       "    </tr>\n",
       "    <tr>\n",
       "      <th>8003</th>\n",
       "      <td>[  3   8  13  18  23  28  33  38  43  48  53  ...</td>\n",
       "      <td>[3 0 1 2 3 0 1 2 3 0 1 2 3 0 1 2 3 0 1 2 3 0 1...</td>\n",
       "      <td>['g' 'g' 'g' 'g' 'g' 'g' 'g' 'g' 'g' 'g' 'g' '...</td>\n",
       "      <td>[0.3 0.8 0.3 0.8 0.3 0.8 0.3 0.8 0.3 0.8 0.3 0...</td>\n",
       "      <td>[  3   8  13  18  23  28  33  38  43  48  53  ...</td>\n",
       "    </tr>\n",
       "    <tr>\n",
       "      <th>8004</th>\n",
       "      <td>[  4   9  14  19  24  29  34  39  44  49  54  ...</td>\n",
       "      <td>[0 1 2 3 0 1 2 3 0 1 2 3 0 1 2 3 0 1 2 3 0 1 2...</td>\n",
       "      <td>['g' 'g' 'g' 'g' 'g' 'g' 'g' 'g' 'g' 'g' 'g' '...</td>\n",
       "      <td>[0.4 0.9 0.4 0.9 0.4 0.9 0.4 0.9 0.4 0.9 0.4 0...</td>\n",
       "      <td>[  4   9  14  19  24  29  34  39  44  49  54  ...</td>\n",
       "    </tr>\n",
       "  </tbody>\n",
       "</table>\n",
       "</div>"
      ],
      "text/plain": [
       "                                                   time  \\\n",
       "8000  [  0   5  10  15  20  25  30  35  40  45  50  ...   \n",
       "8001  [  1   6  11  16  21  26  31  36  41  46  51  ...   \n",
       "8002  [  2   7  12  17  22  27  32  37  42  47  52  ...   \n",
       "8003  [  3   8  13  18  23  28  33  38  43  48  53  ...   \n",
       "8004  [  4   9  14  19  24  29  34  39  44  49  54  ...   \n",
       "\n",
       "                                                   flux  \\\n",
       "8000  [0 1 2 3 0 1 2 3 0 1 2 3 0 1 2 3 0 1 2 3 0 1 2...   \n",
       "8001  [1 2 3 0 1 2 3 0 1 2 3 0 1 2 3 0 1 2 3 0 1 2 3...   \n",
       "8002  [2 3 0 1 2 3 0 1 2 3 0 1 2 3 0 1 2 3 0 1 2 3 0...   \n",
       "8003  [3 0 1 2 3 0 1 2 3 0 1 2 3 0 1 2 3 0 1 2 3 0 1...   \n",
       "8004  [0 1 2 3 0 1 2 3 0 1 2 3 0 1 2 3 0 1 2 3 0 1 2...   \n",
       "\n",
       "                                                   band  \\\n",
       "8000  ['g' 'g' 'g' 'g' 'g' 'g' 'g' 'g' 'g' 'g' 'g' '...   \n",
       "8001  ['g' 'g' 'g' 'g' 'g' 'g' 'g' 'g' 'g' 'g' 'g' '...   \n",
       "8002  ['g' 'g' 'g' 'g' 'g' 'g' 'g' 'g' 'g' 'g' 'g' '...   \n",
       "8003  ['g' 'g' 'g' 'g' 'g' 'g' 'g' 'g' 'g' 'g' 'g' '...   \n",
       "8004  ['g' 'g' 'g' 'g' 'g' 'g' 'g' 'g' 'g' 'g' 'g' '...   \n",
       "\n",
       "                                                    err  \\\n",
       "8000  [0.  0.5 0.  0.5 0.  0.5 0.  0.5 0.  0.5 0.  0...   \n",
       "8001  [0.1 0.6 0.1 0.6 0.1 0.6 0.1 0.6 0.1 0.6 0.1 0...   \n",
       "8002  [0.2 0.7 0.2 0.7 0.2 0.7 0.2 0.7 0.2 0.7 0.2 0...   \n",
       "8003  [0.3 0.8 0.3 0.8 0.3 0.8 0.3 0.8 0.3 0.8 0.3 0...   \n",
       "8004  [0.4 0.9 0.4 0.9 0.4 0.9 0.4 0.9 0.4 0.9 0.4 0...   \n",
       "\n",
       "                                                  count  \n",
       "8000  [  0   5  10  15  20  25  30  35  40  45  50  ...  \n",
       "8001  [  1   6  11  16  21  26  31  36  41  46  51  ...  \n",
       "8002  [  2   7  12  17  22  27  32  37  42  47  52  ...  \n",
       "8003  [  3   8  13  18  23  28  33  38  43  48  53  ...  \n",
       "8004  [  4   9  14  19  24  29  34  39  44  49  54  ...  "
      ]
     },
     "execution_count": 7,
     "metadata": {},
     "output_type": "execute_result"
    }
   ],
   "source": [
    "packed.ts.to_lists()"
   ]
  },
  {
   "cell_type": "code",
   "execution_count": 8,
   "id": "ac15e872786696ef",
   "metadata": {
    "ExecuteTime": {
     "end_time": "2024-02-06T17:39:12.253906Z",
     "start_time": "2024-02-06T17:39:12.221785Z"
    }
   },
   "outputs": [
    {
     "data": {
      "text/plain": [
       "8000    [0 1 2 3 0 1 2 3 0 1 2 3 0 1 2 3 0 1 2 3 0 1 2...\n",
       "8001    [1 2 3 0 1 2 3 0 1 2 3 0 1 2 3 0 1 2 3 0 1 2 3...\n",
       "8002    [2 3 0 1 2 3 0 1 2 3 0 1 2 3 0 1 2 3 0 1 2 3 0...\n",
       "8003    [3 0 1 2 3 0 1 2 3 0 1 2 3 0 1 2 3 0 1 2 3 0 1...\n",
       "8004    [0 1 2 3 0 1 2 3 0 1 2 3 0 1 2 3 0 1 2 3 0 1 2...\n",
       "Name: flux, dtype: list<item: int64>[pyarrow]"
      ]
     },
     "execution_count": 8,
     "metadata": {},
     "output_type": "execute_result"
    }
   ],
   "source": [
    "packed.ts[\"flux\"]"
   ]
  },
  {
   "cell_type": "code",
   "execution_count": 9,
   "id": "dc7dbd52f1a8407a",
   "metadata": {
    "ExecuteTime": {
     "end_time": "2024-02-06T17:39:12.254279Z",
     "start_time": "2024-02-06T17:39:12.226204Z"
    }
   },
   "outputs": [
    {
     "data": {
      "text/plain": [
       "ts<time: [int64], flux: [int64], band: [string], err: [double], count: [int64]>"
      ]
     },
     "execution_count": 9,
     "metadata": {},
     "output_type": "execute_result"
    }
   ],
   "source": [
    "packed.dtype"
   ]
  },
  {
   "cell_type": "markdown",
   "id": "f5e28c105ad20b65",
   "metadata": {
    "collapsed": false,
    "jupyter": {
     "outputs_hidden": false
    }
   },
   "source": [
    "### Modify underlying fields with `.ts` accessor"
   ]
  },
  {
   "cell_type": "code",
   "execution_count": 10,
   "id": "996f07b4d16e17e5",
   "metadata": {
    "ExecuteTime": {
     "end_time": "2024-02-06T17:39:12.265890Z",
     "start_time": "2024-02-06T17:39:12.228393Z"
    }
   },
   "outputs": [
    {
     "data": {
      "text/plain": [
       "8000    [ 0 -1 -2 -3  0 -1 -2 -3  0 -1 -2 -3  0 -1 -2 ...\n",
       "8001    [-1 -2 -3  0 -1 -2 -3  0 -1 -2 -3  0 -1 -2 -3 ...\n",
       "8002    [-2 -3  0 -1 -2 -3  0 -1 -2 -3  0 -1 -2 -3  0 ...\n",
       "8003    [-3  0 -1 -2 -3  0 -1 -2 -3  0 -1 -2 -3  0 -1 ...\n",
       "8004    [ 0 -1 -2 -3  0 -1 -2 -3  0 -1 -2 -3  0 -1 -2 ...\n",
       "Name: flux, dtype: list<item: int64>[pyarrow]"
      ]
     },
     "execution_count": 10,
     "metadata": {},
     "output_type": "execute_result"
    }
   ],
   "source": [
    "# Change flux in place with flat arrays\n",
    "packed.ts[\"flux\"] = -1 * packed.ts[\"flux\"].list.flatten()\n",
    "packed.ts[\"flux\"]"
   ]
  },
  {
   "cell_type": "code",
   "execution_count": 11,
   "id": "21d5c009ef0990a4",
   "metadata": {
    "ExecuteTime": {
     "end_time": "2024-02-06T17:39:12.271944Z",
     "start_time": "2024-02-06T17:39:12.233991Z"
    }
   },
   "outputs": [
    {
     "data": {
      "text/plain": [
       "8000    [0.  0.5 0.  0.5 0.  0.5 0.  0.5 0.  0.5 0.  0...\n",
       "8001    [0.1 0.6 0.1 0.6 0.1 0.6 0.1 0.6 0.1 0.6 0.1 0...\n",
       "8002    [0.2 0.7 0.2 0.7 0.2 0.7 0.2 0.7 0.2 0.7 0.2 0...\n",
       "8003    [25.3 25.8 25.3 25.8 25.3 25.8 25.3 25.8 25.3 ...\n",
       "8004    [0.4 0.9 0.4 0.9 0.4 0.9 0.4 0.9 0.4 0.9 0.4 0...\n",
       "Name: err, dtype: list<item: double>[pyarrow]"
      ]
     },
     "execution_count": 11,
     "metadata": {},
     "output_type": "execute_result"
    }
   ],
   "source": [
    "# Change errors for object 8003 by replacing the entire nested list series\n",
    "# We need to convert it to Python lists, so we can change them in-place\n",
    "err = pd.Series(packed.ts[\"err\"], dtype=object)\n",
    "err[8003] = [e + 25 for e in err[8003]]\n",
    "assert len(err) == len(packed.ts._series)\n",
    "packed.ts[\"err\"] = err\n",
    "packed.ts[\"err\"]"
   ]
  },
  {
   "cell_type": "code",
   "execution_count": 12,
   "id": "3a713c94897456e1",
   "metadata": {
    "ExecuteTime": {
     "end_time": "2024-02-06T17:39:12.284939Z",
     "start_time": "2024-02-06T17:39:12.239517Z"
    }
   },
   "outputs": [
    {
     "data": {
      "text/plain": [
       "array(['lsst_g', 'lsst_i', 'lsst_r', 'lsst_z'], dtype='<U6')"
      ]
     },
     "execution_count": 12,
     "metadata": {},
     "output_type": "execute_result"
    }
   ],
   "source": [
    "# Delete field and add new one\n",
    "\n",
    "del packed.ts[\"count\"]\n",
    "filters = packed.ts.delete_field(\"band\")\n",
    "filters = \"lsst_\" + filters.list.flatten()\n",
    "packed.ts[\"filters\"] = filters\n",
    "np.unique(packed.ts[\"filters\"].iloc[-1])"
   ]
  },
  {
   "cell_type": "code",
   "execution_count": 13,
   "id": "92e6d69978ae9479",
   "metadata": {
    "ExecuteTime": {
     "end_time": "2024-02-06T17:39:12.309173Z",
     "start_time": "2024-02-06T17:39:12.246921Z"
    }
   },
   "outputs": [
    {
     "data": {
      "text/plain": [
       "8000         time  flux  err filters\n",
       "0       0     0  ...\n",
       "8001         time  flux  err filters\n",
       "0       1    -1  ...\n",
       "8002         time  flux  err filters\n",
       "0       2    -2  ...\n",
       "8003         time  flux   err filters\n",
       "0       3    -3 ...\n",
       "8004         time  flux  err filters\n",
       "0       4     0  ...\n",
       "Name: sources, dtype: ts<time: [int64], flux: [int64], band: [string], err: [double], count: [int64]>"
      ]
     },
     "execution_count": 13,
     "metadata": {},
     "output_type": "execute_result"
    }
   ],
   "source": [
    "packed"
   ]
  }
 ],
 "metadata": {
  "jupytext": {
   "cell_markers": "\"\"\""
  },
  "kernelspec": {
   "display_name": "Python 3 (ipykernel)",
   "language": "python",
   "name": "python3"
  },
  "language_info": {
   "codemirror_mode": {
    "name": "ipython",
    "version": 3
   },
   "file_extension": ".py",
   "mimetype": "text/x-python",
   "name": "python",
   "nbconvert_exporter": "python",
   "pygments_lexer": "ipython3",
   "version": "3.11.7"
  }
 },
 "nbformat": 4,
 "nbformat_minor": 5
}
