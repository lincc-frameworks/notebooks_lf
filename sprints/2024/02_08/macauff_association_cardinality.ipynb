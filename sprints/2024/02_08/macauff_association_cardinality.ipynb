{
 "cells": [
  {
   "cell_type": "markdown",
   "id": "2057e78b",
   "metadata": {},
   "source": [
    "# Association tiling / cardinality\n",
    "\n",
    "**Author**: Melissa DeLucchi\n",
    "\n",
    "This notebook attempts to answer a question from another notebook: \"What percent of counterparts are in the same/nested healpix pixel? vs how many are in neighboring pixels?\"\n",
    "\n",
    "We can get the answer to this (and related questions) just by looking through the `_metadata` file."
   ]
  },
  {
   "cell_type": "code",
   "execution_count": 1,
   "id": "1a0a1f86",
   "metadata": {},
   "outputs": [],
   "source": [
    "import warnings\n",
    "from typing import Dict, List\n",
    "\n",
    "import numpy as np\n",
    "import pandas as pd\n",
    "import pyarrow as pa\n",
    "\n",
    "from hipscat.catalog.partition_info import PartitionInfo\n",
    "from hipscat.io import FilePointer, file_io, paths\n",
    "from hipscat.io.parquet_metadata import (\n",
    "    read_row_group_fragments,\n",
    "    row_group_stat_single_value,\n",
    "    write_parquet_metadata_for_batches,\n",
    ")\n",
    "from hipscat.pixel_math.healpix_pixel import HealpixPixel\n",
    "\n",
    "metadata_path = '/data3/epyc/data3/hipscat/test_catalogs/macauff_association/_metadata'"
   ]
  },
  {
   "cell_type": "code",
   "execution_count": 2,
   "id": "7fca7d20",
   "metadata": {},
   "outputs": [
    {
     "name": "stdout",
     "output_type": "stream",
     "text": [
      "CPU times: user 2min 22s, sys: 3.44 s, total: 2min 25s\n",
      "Wall time: 2min 25s\n"
     ]
    }
   ],
   "source": [
    "%%time\n",
    "\n",
    "pixel_frame = pd.DataFrame(\n",
    "    [\n",
    "        (\n",
    "            row_group_stat_single_value(row_group, \"Norder\"),\n",
    "            row_group_stat_single_value(row_group, \"Npix\"),\n",
    "            row_group_stat_single_value(row_group, \"join_Norder\"),\n",
    "            row_group_stat_single_value(row_group, \"join_Npix\"),\n",
    "            row_group.num_rows,\n",
    "        )\n",
    "        for row_group in read_row_group_fragments(metadata_path)\n",
    "    ],\n",
    "    columns=[\"Norder\",\"Npix\",\"join_Norder\",\"join_Npix\",\"num_rows\" ],\n",
    ")"
   ]
  },
  {
   "cell_type": "markdown",
   "id": "c1642279",
   "metadata": {},
   "source": [
    "This might be the *least* pythonic way to do this, but I don't care. I want to know if the right pixel is the SAME as the left pixel, if one is nested inside the other, or if they're totally non-overlapping."
   ]
  },
  {
   "cell_type": "code",
   "execution_count": 3,
   "id": "d321aca1",
   "metadata": {},
   "outputs": [],
   "source": [
    "tile_type = [None] * len(pixel_frame)\n",
    "\n",
    "for index, row in pixel_frame.iterrows():\n",
    "    row_type = \"huh?\"\n",
    "    if row[\"Norder\"] == row[\"join_Norder\"] and row[\"Npix\"] == row[\"join_Npix\"]:\n",
    "        row_type = \"same_pixel\"\n",
    "    else:\n",
    "        if row[\"Norder\"] == row[\"join_Norder\"]:\n",
    "            row_type = \"non-overlapping\"\n",
    "        elif row[\"Norder\"] < row[\"join_Norder\"]:\n",
    "            order_diff = row[\"join_Norder\"] - row[\"Norder\"]\n",
    "            shifted_j = row[\"join_Npix\"] >> 2*(row[\"join_Norder\"] - row[\"Norder\"])\n",
    "            if shifted_j == row[\"Npix\"]:\n",
    "                row_type = \"join_larger\"\n",
    "            else:\n",
    "                row_type = \"non-overlapping\"\n",
    "        elif row[\"Norder\"] > row[\"join_Norder\"]:\n",
    "            order_diff = row[\"join_Norder\"] - row[\"Norder\"]\n",
    "            shifted_p = row[\"Npix\"] >> 2*(row[\"Norder\"] - row[\"join_Norder\"])\n",
    "            if shifted_p == row[\"join_Npix\"]:\n",
    "                row_type = \"primary_larger\"\n",
    "            else:\n",
    "                row_type = \"non-overlapping\"\n",
    "            \n",
    "    tile_type[index] = row_type\n",
    "pixel_frame[\"tile_type\"] = tile_type"
   ]
  },
  {
   "cell_type": "code",
   "execution_count": 4,
   "id": "859e5d5e",
   "metadata": {},
   "outputs": [
    {
     "data": {
      "text/html": [
       "<div>\n",
       "<style scoped>\n",
       "    .dataframe tbody tr th:only-of-type {\n",
       "        vertical-align: middle;\n",
       "    }\n",
       "\n",
       "    .dataframe tbody tr th {\n",
       "        vertical-align: top;\n",
       "    }\n",
       "\n",
       "    .dataframe thead th {\n",
       "        text-align: right;\n",
       "    }\n",
       "</style>\n",
       "<table border=\"1\" class=\"dataframe\">\n",
       "  <thead>\n",
       "    <tr style=\"text-align: right;\">\n",
       "      <th></th>\n",
       "      <th>tile_type</th>\n",
       "      <th>num_rows</th>\n",
       "      <th>percent</th>\n",
       "    </tr>\n",
       "    <tr>\n",
       "      <th>tile_type</th>\n",
       "      <th></th>\n",
       "      <th></th>\n",
       "      <th></th>\n",
       "    </tr>\n",
       "  </thead>\n",
       "  <tbody>\n",
       "    <tr>\n",
       "      <th>join_larger</th>\n",
       "      <td>2048</td>\n",
       "      <td>172667550</td>\n",
       "      <td>22.908913</td>\n",
       "    </tr>\n",
       "    <tr>\n",
       "      <th>non-overlapping</th>\n",
       "      <td>11746</td>\n",
       "      <td>71717</td>\n",
       "      <td>0.009515</td>\n",
       "    </tr>\n",
       "    <tr>\n",
       "      <th>primary_larger</th>\n",
       "      <td>1967</td>\n",
       "      <td>127014600</td>\n",
       "      <td>16.851843</td>\n",
       "    </tr>\n",
       "    <tr>\n",
       "      <th>same_pixel</th>\n",
       "      <td>1604</td>\n",
       "      <td>453959534</td>\n",
       "      <td>60.229728</td>\n",
       "    </tr>\n",
       "  </tbody>\n",
       "</table>\n",
       "</div>"
      ],
      "text/plain": [
       "                 tile_type   num_rows    percent\n",
       "tile_type                                       \n",
       "join_larger           2048  172667550  22.908913\n",
       "non-overlapping      11746      71717   0.009515\n",
       "primary_larger        1967  127014600  16.851843\n",
       "same_pixel            1604  453959534  60.229728"
      ]
     },
     "execution_count": 4,
     "metadata": {},
     "output_type": "execute_result"
    }
   ],
   "source": [
    "grouped = pixel_frame.groupby('tile_type').agg({'tile_type':'count', 'num_rows': 'sum'})\n",
    "grouped[\"percent\"] = grouped[\"num_rows\"] / grouped[\"num_rows\"].sum() *100\n",
    "grouped"
   ]
  },
  {
   "cell_type": "markdown",
   "id": "4e4ac3c2",
   "metadata": {},
   "source": [
    "## Punch line 1\n",
    "\n",
    "Less than 0.01% of high quality macauff matches are occurring in non-overlapping pixels. They represent a pretty big portion of the total partition_join_info data, but very little of the object matches.\n",
    "\n",
    "I'm curious about the non-overlapping partitions. `71717/11746` suggests that there are only a handful of counterparts identified in what would be each margin."
   ]
  },
  {
   "cell_type": "code",
   "execution_count": 15,
   "id": "d48661b2",
   "metadata": {},
   "outputs": [
    {
     "data": {
      "image/png": "[encoded data removed]",
      "text/plain": [
       "<Figure size 640x480 with 1 Axes>"
      ]
     },
     "metadata": {},
     "output_type": "display_data"
    }
   ],
   "source": [
    "import matplotlib.pyplot as plt\n",
    "\n",
    "non_overlapping = pixel_frame.query(\"tile_type == 'non-overlapping'\")\n",
    "bin_range = np.arange(non_overlapping[\"num_rows\"].min(), non_overlapping[\"num_rows\"].max()+1)\n",
    "_ = plt.hist(non_overlapping[\"num_rows\"], bins=bin_range)\n",
    "plt.show()\n"
   ]
  }
 ],
 "metadata": {
  "kernelspec": {
   "display_name": "Melissa LSDB",
   "language": "python",
   "name": "hipscatenv"
  },
  "language_info": {
   "codemirror_mode": {
    "name": "ipython",
    "version": 3
   },
   "file_extension": ".py",
   "mimetype": "text/x-python",
   "name": "python",
   "nbconvert_exporter": "python",
   "pygments_lexer": "ipython3",
   "version": "3.10.13"
  }
 },
 "nbformat": 4,
 "nbformat_minor": 5
}
