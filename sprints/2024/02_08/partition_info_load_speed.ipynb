{
 "cells": [
  {
   "cell_type": "markdown",
   "id": "37ff3e4b",
   "metadata": {},
   "source": [
    "# Partition info loading speed updates\n",
    "\n",
    "**Author**: Melissa DeLucchi\n",
    "\n",
    "We know that loading some partition info via the `_metadata` file can be really slow, so this notebook shows an attempt to load a catalog without the faster `partition_info.csv` file generated, and how one could generate that file, to improve speed."
   ]
  },
  {
   "cell_type": "code",
   "execution_count": 1,
   "id": "d1f6afd7",
   "metadata": {},
   "outputs": [
    {
     "data": {
      "text/plain": [
       "'/tmp/tmpxlxa5zuf/_metadata'"
      ]
     },
     "execution_count": 1,
     "metadata": {},
     "output_type": "execute_result"
    }
   ],
   "source": [
    "from hipscat.catalog import Catalog\n",
    "import os\n",
    "import tempfile\n",
    "import shutil\n",
    "\n",
    "tmp_dir = tempfile.TemporaryDirectory()\n",
    "tmp_path = tmp_dir.name\n",
    "\n",
    "catalog_path = \"/data3/epyc/data3/hipscat/catalogs/neowise_yr8\"\n",
    "metadata_path = os.path.join(catalog_path, \"_metadata\")\n",
    "\n",
    "shutil.copyfile(os.path.join(catalog_path, \"catalog_info.json\"), os.path.join(tmp_path, \"catalog_info.json\"))\n",
    "shutil.copyfile(os.path.join(catalog_path, \"_metadata\"), os.path.join(tmp_path, \"_metadata\"))"
   ]
  },
  {
   "cell_type": "markdown",
   "id": "17e2bd36",
   "metadata": {},
   "source": [
    "Let's try loading the partition info, using only the `_metadata` file. The `PartitionInfo` API makes the decision about how to load it, but there's no `partition_info.csv` in the directory yet."
   ]
  },
  {
   "cell_type": "code",
   "execution_count": 2,
   "id": "4183b573",
   "metadata": {},
   "outputs": [
    {
     "name": "stderr",
     "output_type": "stream",
     "text": [
      "/astro/users/mmd11/git/hipscat/src/hipscat/catalog/partition_info.py:106: UserWarning: Reading partitions from parquet metadata. This is typically slow.\n",
      "  warnings.warn(\"Reading partitions from parquet metadata. This is typically slow.\")\n"
     ]
    },
    {
     "name": "stdout",
     "output_type": "stream",
     "text": [
      "CPU times: user 10.4 s, sys: 3.54 s, total: 14 s\n",
      "Wall time: 14 s\n"
     ]
    },
    {
     "data": {
      "text/plain": [
       "20010"
      ]
     },
     "execution_count": 2,
     "metadata": {},
     "output_type": "execute_result"
    }
   ],
   "source": [
    "%%time\n",
    "\n",
    "catalog = Catalog.read_from_hipscat(tmp_path)\n",
    "len(catalog.get_healpix_pixels())"
   ]
  },
  {
   "cell_type": "markdown",
   "id": "d6606e73",
   "metadata": {},
   "source": [
    "That was pretty slow, but once we have the partition info loaded, we can save it to a CSV file easily enough.\n",
    "\n",
    "Note that this API isn't ideal. We should consider:\n",
    "- If the `PartitionInfo` was loaded via a `read_from_dir` call (as will be done when loading from the `Catalog.from_hipscat` call, then we know the target catalog directory. We could save this path as a member variable.\n",
    "- In the `write_to_file` call, if the partition_info_file is empty, we can create a path based on the saved catalog directory. "
   ]
  },
  {
   "cell_type": "code",
   "execution_count": 3,
   "id": "c0ef4d44",
   "metadata": {},
   "outputs": [
    {
     "name": "stdout",
     "output_type": "stream",
     "text": [
      "CPU times: user 85.5 ms, sys: 13.3 ms, total: 98.8 ms\n",
      "Wall time: 96.9 ms\n"
     ]
    }
   ],
   "source": [
    "%%time\n",
    "\n",
    "catalog.partition_info.write_to_file(partition_info_file = os.path.join(tmp_path, \"partition_info.csv\"))"
   ]
  },
  {
   "cell_type": "markdown",
   "id": "5b1e2e55",
   "metadata": {},
   "source": [
    "Now that there's a `partition_info.csv` file, the `read_from_dir` method will prefer to use that file, and there is no longer a warning about slowness. And it's very fast!"
   ]
  },
  {
   "cell_type": "code",
   "execution_count": 4,
   "id": "2e17ff48",
   "metadata": {},
   "outputs": [
    {
     "name": "stdout",
     "output_type": "stream",
     "text": [
      "CPU times: user 429 ms, sys: 15.9 ms, total: 445 ms\n",
      "Wall time: 443 ms\n"
     ]
    },
    {
     "data": {
      "text/plain": [
       "20010"
      ]
     },
     "execution_count": 4,
     "metadata": {},
     "output_type": "execute_result"
    }
   ],
   "source": [
    "%%time\n",
    "\n",
    "catalog = Catalog.read_from_hipscat(tmp_path)\n",
    "len(catalog.get_healpix_pixels())"
   ]
  },
  {
   "cell_type": "code",
   "execution_count": 5,
   "id": "460e63e0",
   "metadata": {},
   "outputs": [],
   "source": [
    "tmp_dir.cleanup()"
   ]
  }
 ],
 "metadata": {
  "kernelspec": {
   "display_name": "Melissa LSDB",
   "language": "python",
   "name": "mmd11_lsdb"
  },
  "language_info": {
   "codemirror_mode": {
    "name": "ipython",
    "version": 3
   },
   "file_extension": ".py",
   "mimetype": "text/x-python",
   "name": "python",
   "nbconvert_exporter": "python",
   "pygments_lexer": "ipython3",
   "version": "3.10.13"
  }
 },
 "nbformat": 4,
 "nbformat_minor": 5
}
