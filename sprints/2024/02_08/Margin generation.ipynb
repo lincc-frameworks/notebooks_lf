{
 "cells": [
  {
   "cell_type": "markdown",
   "id": "f0ecc9d1",
   "metadata": {},
   "source": [
    "# Playing around with different margins\n",
    "\n",
    "In building a margin for ZTF, we wanted to generate at 10 arcseconds. But I wanted to also check with the default margin distance of 5 arcseconds. This notebook just looks at comparing the two data sets of margins. \n",
    "\n",
    "Maybe Sean can use both/either margins to see if the cross-match changes much using different margins."
   ]
  },
  {
   "cell_type": "code",
   "execution_count": 1,
   "id": "39b8fa75",
   "metadata": {
    "ExecuteTime": {
     "end_time": "2024-01-31T21:53:09.781157Z",
     "start_time": "2024-01-31T21:52:49.428496Z"
    }
   },
   "outputs": [],
   "source": [
    "import pandas as pd\n",
    "from hipscat.catalog import MarginCatalog\n",
    "from hipscat.io import file_io, paths\n",
    "\n",
    "margin_5arcs = \"/data3/epyc/data3/hipscat/test_catalogs/ztf_dr14_5arcs\"\n",
    "margin_10arcs = \"/data3/epyc/data3/hipscat/catalogs/ztf_dr14_10arcs\"\n",
    "\n",
    "small_margin = MarginCatalog.read_from_hipscat(margin_5arcs)\n",
    "big_margin = MarginCatalog.read_from_hipscat(margin_10arcs)"
   ]
  },
  {
   "cell_type": "code",
   "execution_count": 8,
   "outputs": [
    {
     "data": {
      "text/plain": "5.0"
     },
     "execution_count": 8,
     "metadata": {},
     "output_type": "execute_result"
    }
   ],
   "source": [
    "small_margin.catalog_info.margin_threshold"
   ],
   "metadata": {
    "collapsed": false,
    "ExecuteTime": {
     "end_time": "2024-01-31T21:54:24.127412Z",
     "start_time": "2024-01-31T21:54:24.119746Z"
    }
   },
   "id": "dbefd4b6a5368758"
  },
  {
   "cell_type": "code",
   "execution_count": 9,
   "outputs": [
    {
     "data": {
      "text/plain": "10"
     },
     "execution_count": 9,
     "metadata": {},
     "output_type": "execute_result"
    }
   ],
   "source": [
    "big_margin.catalog_info.margin_threshold"
   ],
   "metadata": {
    "collapsed": false,
    "ExecuteTime": {
     "end_time": "2024-01-31T21:54:29.716732Z",
     "start_time": "2024-01-31T21:54:29.705495Z"
    }
   },
   "id": "f4199b03e8bcc565"
  },
  {
   "cell_type": "code",
   "execution_count": 2,
   "id": "e13bbc81",
   "metadata": {
    "ExecuteTime": {
     "end_time": "2024-01-31T21:53:18.700736Z",
     "start_time": "2024-01-31T21:53:18.696540Z"
    }
   },
   "outputs": [
    {
     "data": {
      "text/plain": "2553574"
     },
     "execution_count": 2,
     "metadata": {},
     "output_type": "execute_result"
    }
   ],
   "source": [
    "small_margin.catalog_info.total_rows"
   ]
  },
  {
   "cell_type": "code",
   "execution_count": 3,
   "id": "0bcd193c",
   "metadata": {
    "ExecuteTime": {
     "end_time": "2024-01-31T21:53:20.193237Z",
     "start_time": "2024-01-31T21:53:20.186074Z"
    }
   },
   "outputs": [
    {
     "data": {
      "text/plain": "5220930"
     },
     "execution_count": 3,
     "metadata": {},
     "output_type": "execute_result"
    }
   ],
   "source": [
    "big_margin.catalog_info.total_rows"
   ]
  },
  {
   "cell_type": "markdown",
   "id": "cddff4b6",
   "metadata": {},
   "source": [
    "The \"small\" margin catalog was generated using a 5 arcsecond margin distance, and the \"big\" margin catalog was generated using a 10 arcsecond distance.\n",
    "\n",
    "Naively, I would expect that the \"big\" one would have a little more than twice as many points as the smaller one.\n",
    "\n",
    "And what do you know:"
   ]
  },
  {
   "cell_type": "code",
   "execution_count": 4,
   "id": "19f044cf",
   "metadata": {
    "ExecuteTime": {
     "end_time": "2024-01-31T21:53:22.332516Z",
     "start_time": "2024-01-31T21:53:22.328989Z"
    }
   },
   "outputs": [
    {
     "data": {
      "text/plain": "2.044557941144451"
     },
     "execution_count": 4,
     "metadata": {},
     "output_type": "execute_result"
    }
   ],
   "source": [
    "big_margin.catalog_info.total_rows / small_margin.catalog_info.total_rows"
   ]
  },
  {
   "cell_type": "markdown",
   "id": "d0330774",
   "metadata": {},
   "source": [
    "I'd also expect that the two catalogs will have the same pixel list."
   ]
  },
  {
   "cell_type": "code",
   "execution_count": 5,
   "id": "4493430a",
   "metadata": {
    "ExecuteTime": {
     "end_time": "2024-01-31T21:53:41.913050Z",
     "start_time": "2024-01-31T21:53:41.911985Z"
    }
   },
   "outputs": [],
   "source": [
    "assert big_margin.partition_info.get_healpix_pixels() == small_margin.partition_info.get_healpix_pixels()"
   ]
  },
  {
   "cell_type": "markdown",
   "id": "a16607f5",
   "metadata": {},
   "source": [
    "And I'd expect each pixel to have more in the \"big\" margin, but otherwise look about the same.\n",
    "\n",
    "So let's pick one:"
   ]
  },
  {
   "cell_type": "code",
   "execution_count": 6,
   "id": "a79acb4b",
   "metadata": {
    "ExecuteTime": {
     "end_time": "2024-01-31T21:53:47.271834Z",
     "start_time": "2024-01-31T21:53:47.270343Z"
    }
   },
   "outputs": [
    {
     "data": {
      "text/plain": "Order: 3, Pixel: 178"
     },
     "execution_count": 6,
     "metadata": {},
     "output_type": "execute_result"
    }
   ],
   "source": [
    "sample_pixel = small_margin.partition_info.get_healpix_pixels()[502]\n",
    "sample_pixel"
   ]
  },
  {
   "cell_type": "code",
   "execution_count": 10,
   "id": "f0febd17",
   "metadata": {
    "ExecuteTime": {
     "end_time": "2024-01-31T21:54:45.663662Z",
     "start_time": "2024-01-31T21:54:45.622443Z"
    }
   },
   "outputs": [
    {
     "data": {
      "text/plain": "2.8181818181818183"
     },
     "execution_count": 10,
     "metadata": {},
     "output_type": "execute_result"
    }
   ],
   "source": [
    "sample_pixel_small = paths.pixel_catalog_file(margin_5arcs, sample_pixel.order, sample_pixel.pixel)\n",
    "small_margin_data = pd.read_parquet(sample_pixel_small)\n",
    "\n",
    "sample_pixel_big = paths.pixel_catalog_file(margin_10arcs, sample_pixel.order, sample_pixel.pixel)\n",
    "big_margin_data = pd.read_parquet(sample_pixel_big)\n",
    "\n",
    "len(big_margin_data) / len(small_margin_data)"
   ]
  },
  {
   "cell_type": "code",
   "execution_count": 11,
   "id": "ac2c92ca",
   "metadata": {
    "ExecuteTime": {
     "end_time": "2024-01-31T21:54:47.011221Z",
     "start_time": "2024-01-31T21:54:46.993408Z"
    }
   },
   "outputs": [
    {
     "data": {
      "text/plain": "   margin_Norder  margin_Npix  size  proportion\n0              3          167    89   23.116883\n1              3          176   120   31.168831\n2              3          179    66   17.142857\n3              3          184   110   28.571429",
      "text/html": "<div>\n<style scoped>\n    .dataframe tbody tr th:only-of-type {\n        vertical-align: middle;\n    }\n\n    .dataframe tbody tr th {\n        vertical-align: top;\n    }\n\n    .dataframe thead th {\n        text-align: right;\n    }\n</style>\n<table border=\"1\" class=\"dataframe\">\n  <thead>\n    <tr style=\"text-align: right;\">\n      <th></th>\n      <th>margin_Norder</th>\n      <th>margin_Npix</th>\n      <th>size</th>\n      <th>proportion</th>\n    </tr>\n  </thead>\n  <tbody>\n    <tr>\n      <th>0</th>\n      <td>3</td>\n      <td>167</td>\n      <td>89</td>\n      <td>23.116883</td>\n    </tr>\n    <tr>\n      <th>1</th>\n      <td>3</td>\n      <td>176</td>\n      <td>120</td>\n      <td>31.168831</td>\n    </tr>\n    <tr>\n      <th>2</th>\n      <td>3</td>\n      <td>179</td>\n      <td>66</td>\n      <td>17.142857</td>\n    </tr>\n    <tr>\n      <th>3</th>\n      <td>3</td>\n      <td>184</td>\n      <td>110</td>\n      <td>28.571429</td>\n    </tr>\n  </tbody>\n</table>\n</div>"
     },
     "execution_count": 11,
     "metadata": {},
     "output_type": "execute_result"
    }
   ],
   "source": [
    "stats = small_margin_data.groupby([\"margin_Norder\", \"margin_Npix\"]).size().to_frame('size').reset_index()\n",
    "stats[\"proportion\"] = stats[\"size\"]/len(small_margin_data)*100\n",
    "stats"
   ]
  },
  {
   "cell_type": "code",
   "execution_count": 12,
   "id": "9976ddb8",
   "metadata": {
    "ExecuteTime": {
     "end_time": "2024-01-31T21:54:49.831395Z",
     "start_time": "2024-01-31T21:54:49.809927Z"
    }
   },
   "outputs": [
    {
     "data": {
      "text/plain": "   margin_Norder  margin_Npix  size  proportion\n0              3          167   255   23.502304\n1              3          176   312   28.755760\n2              3          179   278   25.622120\n3              3          184   240   22.119816",
      "text/html": "<div>\n<style scoped>\n    .dataframe tbody tr th:only-of-type {\n        vertical-align: middle;\n    }\n\n    .dataframe tbody tr th {\n        vertical-align: top;\n    }\n\n    .dataframe thead th {\n        text-align: right;\n    }\n</style>\n<table border=\"1\" class=\"dataframe\">\n  <thead>\n    <tr style=\"text-align: right;\">\n      <th></th>\n      <th>margin_Norder</th>\n      <th>margin_Npix</th>\n      <th>size</th>\n      <th>proportion</th>\n    </tr>\n  </thead>\n  <tbody>\n    <tr>\n      <th>0</th>\n      <td>3</td>\n      <td>167</td>\n      <td>255</td>\n      <td>23.502304</td>\n    </tr>\n    <tr>\n      <th>1</th>\n      <td>3</td>\n      <td>176</td>\n      <td>312</td>\n      <td>28.755760</td>\n    </tr>\n    <tr>\n      <th>2</th>\n      <td>3</td>\n      <td>179</td>\n      <td>278</td>\n      <td>25.622120</td>\n    </tr>\n    <tr>\n      <th>3</th>\n      <td>3</td>\n      <td>184</td>\n      <td>240</td>\n      <td>22.119816</td>\n    </tr>\n  </tbody>\n</table>\n</div>"
     },
     "execution_count": 12,
     "metadata": {},
     "output_type": "execute_result"
    }
   ],
   "source": [
    "stats = big_margin_data.groupby([\"margin_Norder\", \"margin_Npix\"]).size().to_frame('size').reset_index()\n",
    "stats[\"proportion\"] = stats[\"size\"]/len(big_margin_data)*100\n",
    "stats"
   ]
  },
  {
   "cell_type": "code",
   "execution_count": null,
   "outputs": [],
   "source": [],
   "metadata": {
    "collapsed": false
   },
   "id": "6b7e9636c8896973"
  }
 ],
 "metadata": {
  "kernelspec": {
   "name": "sean_lsdb",
   "language": "python",
   "display_name": "Sean lsdb"
  },
  "language_info": {
   "codemirror_mode": {
    "name": "ipython",
    "version": 3
   },
   "file_extension": ".py",
   "mimetype": "text/x-python",
   "name": "python",
   "nbconvert_exporter": "python",
   "pygments_lexer": "ipython3",
   "version": "3.10.13"
  }
 },
 "nbformat": 4,
 "nbformat_minor": 5
}
