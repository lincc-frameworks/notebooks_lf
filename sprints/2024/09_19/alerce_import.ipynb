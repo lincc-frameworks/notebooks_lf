{
 "cells": [
  {
   "cell_type": "markdown",
   "id": "90460a32",
   "metadata": {},
   "source": [
    "# Alerce alert import\n",
    "\n",
    "Start with collating the three different tables into a single table with the three sets of data nested under the object level.\n",
    "\n",
    "Then we hipscat-import."
   ]
  },
  {
   "cell_type": "code",
   "execution_count": null,
   "id": "26567476",
   "metadata": {},
   "outputs": [],
   "source": [
    "import pandas as pd\n",
    "import pickle\n",
    "from tqdm import tqdm\n",
    "\n",
    "\n",
    "import glob\n",
    "import hipscat_import.pipeline as runner\n",
    "from hipscat_import.catalog.arguments import ImportArguments\n"
   ]
  },
  {
   "cell_type": "code",
   "execution_count": null,
   "id": "4a6ef953",
   "metadata": {},
   "outputs": [],
   "source": [
    "for index in tqdm(range(0,182)):\n",
    "    lc_file_name = f\"/data3/epyc/data3/hipscat/raw/alerts/lcs_{index:04}.picklelcs_{index:04}.pickle\"\n",
    "\n",
    "    with open(lc_file_name, \"rb\") as pickle_file:\n",
    "        lightcurves = pickle.load(pickle_file)\n",
    "\n",
    "\n",
    "    lightcurves = lightcurves.groupby(\"oid\").agg({'ra':\"mean\", 'dec':\"mean\",'candid':list, 'mjd':list, 'fid':list, 'pid':list, 'diffmaglim':list, 'isdiffpos':list, 'nid':list,\n",
    "            'magpsf':list, 'sigmapsf':list, 'magap':list, 'sigmagap':list, 'distnr':list, 'rb':list,\n",
    "           'rbversion':list, 'drb':list, 'drbversion':list, 'magapbig':list, 'sigmagapbig':list, 'rfid':list,\n",
    "           'magpsf_corr':list, 'sigmapsf_corr':list, 'sigmapsf_corr_ext':list, 'corrected':list,\n",
    "           'dubious':list, 'parent_candid':list, 'has_stamp':list, 'step_id_corr':list}).rename(columns={\"ra\": \"mean_ra\", \"dec\":\"mean_dec\"})\n",
    "\n",
    "\n",
    "\n",
    "    nondet_file_name = f\"/data3/epyc/data3/hipscat/raw/alerts/nondet_{index:04}.picklenondet_{index:04}.pickle\"\n",
    "\n",
    "    with open(nondet_file_name, \"rb\") as pickle_file:\n",
    "        nondet = pickle.load(pickle_file)\n",
    "\n",
    "\n",
    "    nondet = nondet.groupby(\"oid\").agg({'mjd':list, 'fid':list, 'diffmaglim':list})\n",
    "\n",
    "    ref_file_name = f\"/data3/epyc/data3/hipscat/raw/alerts/ref_{index:04}.pickleref_{index:04}.pickle\"\n",
    "\n",
    "    with open(ref_file_name, \"rb\") as pickle_file:\n",
    "        ref_frame = pickle.load(pickle_file)\n",
    "\n",
    "\n",
    "    ref_frame = ref_frame.groupby(\"oid\").agg({\"rfid\":list,\"candid\":list,\"fid\":list,\"rcid\":list,\"field\":list,\"magnr\":list,\n",
    "                                              \"sigmagnr\":list,\"chinr\":list,\"sharpnr\":list,\"ranr\":list,\"decnr\":list,\n",
    "                                              \"mjdstartref\":list,\"mjdendref\":list,\"nframesref\":list})\n",
    "\n",
    "    agged = pd.merge(pd.merge(lightcurves, nondet, on=\"oid\", suffixes=(\"_lc\", \"_nondet\")), ref_frame, on=\"oid\", suffixes=(None, \"_ref\"))\n",
    "    agged.to_parquet(f\"/data3/epyc/data3/hipscat/raw/alerts/nested_pq/file_{index:04}.pickle\")"
   ]
  },
  {
   "cell_type": "code",
   "execution_count": null,
   "id": "dec39dbe",
   "metadata": {},
   "outputs": [],
   "source": [
    "files = glob.glob(\"/data3/epyc/data3/hipscat/raw/alerts/nested_pq/file_*\")\n",
    "files.sort()\n",
    "print(f\"found {len(files)} files\")\n",
    "\n",
    "args = ImportArguments(\n",
    "    output_artifact_name=\"alerce_sample\",\n",
    "    input_file_list=files,\n",
    "    file_reader=\"parquet\",\n",
    "    ra_column=\"mean_ra\",\n",
    "    dec_column=\"mean_dec\",\n",
    "    pixel_threshold=1_000_000,\n",
    "    tmp_dir=\"/data3/epyc/data3/hipscat/tmp/\",\n",
    "    highest_healpix_order=6,\n",
    "    dask_n_workers=10,\n",
    "    dask_threads_per_worker=1,\n",
    "    dask_tmp=\"/data3/epyc/data3/hipscat/tmp/\",\n",
    "    output_path=\"/data3/epyc/data3/hipscat/test_catalogs/alerce/\",\n",
    "    completion_email_address=\"delucchi@andrew.cmu.edu\",\n",
    "    simple_progress_bar=True,\n",
    ")\n",
    "runner.pipeline(args)\n"
   ]
  },
  {
   "cell_type": "code",
   "execution_count": null,
   "id": "a392210f",
   "metadata": {},
   "outputs": [],
   "source": []
  }
 ],
 "metadata": {
  "kernelspec": {
   "display_name": "Melissa LSDB",
   "language": "python",
   "name": "mmd11_lsdb"
  },
  "language_info": {
   "codemirror_mode": {
    "name": "ipython",
    "version": 3
   },
   "file_extension": ".py",
   "mimetype": "text/x-python",
   "name": "python",
   "nbconvert_exporter": "python",
   "pygments_lexer": "ipython3",
   "version": "3.10.13"
  }
 },
 "nbformat": 4,
 "nbformat_minor": 5
}
