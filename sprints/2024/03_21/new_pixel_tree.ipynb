{
 "cells": [
  {
   "cell_type": "markdown",
   "source": [
    "# New Pixel Tree\n",
    "\n",
    "Sean McGuire\n",
    "\n",
    "Example Tree:\n",
    "![Why we might miss matches without margins](images/tree.png)\n",
    "\n",
    "\n",
    "Old Structure:\n",
    "![Why we might miss matches without margins](images/pixel_tree.png)\n",
    "\n",
    "New Structure:\n",
    "```\n",
    "[\n",
    "[0, 1] // order 2 pixels\n",
    "[1, 2]\n",
    "[2, 3]\n",
    "[3, 4]\n",
    "[4, 8] //order 1 pixels\n",
    "[8, 12]\n",
    "[12, 16]\n",
    "[16, 32] // order 0 pixels\n",
    "]\n",
    "```\n"
   ],
   "metadata": {
    "collapsed": false
   },
   "id": "58e43377d425f87a"
  },
  {
   "cell_type": "code",
   "execution_count": 1,
   "id": "initial_id",
   "metadata": {
    "collapsed": true,
    "ExecuteTime": {
     "end_time": "2024-03-21T18:50:30.904866Z",
     "start_time": "2024-03-21T18:50:24.347840Z"
    }
   },
   "outputs": [],
   "source": [
    "import lsdb"
   ]
  },
  {
   "cell_type": "code",
   "execution_count": 3,
   "outputs": [
    {
     "data": {
      "text/plain": "Dask DataFrame Structure:\n                      index ps1_objid       ra      dec ps1_gMeanPSFMag ps1_rMeanPSFMag ps1_iMeanPSFMag nobs_g nobs_r nobs_i mean_mag_g mean_mag_r mean_mag_i catflags fieldID      mag   magerr      mjd   rcID    band Norder    Dir   Npix\nnpartitions=311037                                                                                                                                                                                                                           \n0                     int64     int64  float64  float64         float64         float64         float64  int32  int32  int32    float64    float64    float64    int16   int16  float32  float32  float64  int16  string  int32  int32  int32\n281474976710656         ...       ...      ...      ...             ...             ...             ...    ...    ...    ...        ...        ...        ...      ...     ...      ...      ...      ...    ...     ...    ...    ...    ...\n...                     ...       ...      ...      ...             ...             ...             ...    ...    ...    ...        ...        ...        ...      ...     ...      ...      ...      ...    ...     ...    ...    ...    ...\n13834987686537986048    ...       ...      ...      ...             ...             ...             ...    ...    ...    ...        ...        ...        ...      ...     ...      ...      ...      ...    ...     ...    ...    ...    ...\n18446744073709551615    ...       ...      ...      ...             ...             ...             ...    ...    ...    ...        ...        ...        ...      ...     ...      ...      ...      ...    ...     ...    ...    ...    ...\nDask Name: to_pyarrow_string, 2 graph layers",
      "text/html": "<div><strong>lsdb Catalog ztf_source:</strong></div><div>\n<style scoped>\n    .dataframe tbody tr th:only-of-type {\n        vertical-align: middle;\n    }\n\n    .dataframe tbody tr th {\n        vertical-align: top;\n    }\n\n    .dataframe thead th {\n        text-align: right;\n    }\n</style>\n<table border=\"1\" class=\"dataframe\">\n  <thead>\n    <tr style=\"text-align: right;\">\n      <th></th>\n      <th>index</th>\n      <th>ps1_objid</th>\n      <th>ra</th>\n      <th>dec</th>\n      <th>ps1_gMeanPSFMag</th>\n      <th>ps1_rMeanPSFMag</th>\n      <th>ps1_iMeanPSFMag</th>\n      <th>nobs_g</th>\n      <th>nobs_r</th>\n      <th>nobs_i</th>\n      <th>mean_mag_g</th>\n      <th>mean_mag_r</th>\n      <th>mean_mag_i</th>\n      <th>catflags</th>\n      <th>fieldID</th>\n      <th>mag</th>\n      <th>magerr</th>\n      <th>mjd</th>\n      <th>rcID</th>\n      <th>band</th>\n      <th>Norder</th>\n      <th>Dir</th>\n      <th>Npix</th>\n    </tr>\n    <tr>\n      <th>npartitions=311037</th>\n      <th></th>\n      <th></th>\n      <th></th>\n      <th></th>\n      <th></th>\n      <th></th>\n      <th></th>\n      <th></th>\n      <th></th>\n      <th></th>\n      <th></th>\n      <th></th>\n      <th></th>\n      <th></th>\n      <th></th>\n      <th></th>\n      <th></th>\n      <th></th>\n      <th></th>\n      <th></th>\n      <th></th>\n      <th></th>\n      <th></th>\n    </tr>\n  </thead>\n  <tbody>\n    <tr>\n      <th>0</th>\n      <td>int64</td>\n      <td>int64</td>\n      <td>float64</td>\n      <td>float64</td>\n      <td>float64</td>\n      <td>float64</td>\n      <td>float64</td>\n      <td>int32</td>\n      <td>int32</td>\n      <td>int32</td>\n      <td>float64</td>\n      <td>float64</td>\n      <td>float64</td>\n      <td>int16</td>\n      <td>int16</td>\n      <td>float32</td>\n      <td>float32</td>\n      <td>float64</td>\n      <td>int16</td>\n      <td>string</td>\n      <td>int32</td>\n      <td>int32</td>\n      <td>int32</td>\n    </tr>\n    <tr>\n      <th>281474976710656</th>\n      <td>...</td>\n      <td>...</td>\n      <td>...</td>\n      <td>...</td>\n      <td>...</td>\n      <td>...</td>\n      <td>...</td>\n      <td>...</td>\n      <td>...</td>\n      <td>...</td>\n      <td>...</td>\n      <td>...</td>\n      <td>...</td>\n      <td>...</td>\n      <td>...</td>\n      <td>...</td>\n      <td>...</td>\n      <td>...</td>\n      <td>...</td>\n      <td>...</td>\n      <td>...</td>\n      <td>...</td>\n      <td>...</td>\n    </tr>\n    <tr>\n      <th>...</th>\n      <td>...</td>\n      <td>...</td>\n      <td>...</td>\n      <td>...</td>\n      <td>...</td>\n      <td>...</td>\n      <td>...</td>\n      <td>...</td>\n      <td>...</td>\n      <td>...</td>\n      <td>...</td>\n      <td>...</td>\n      <td>...</td>\n      <td>...</td>\n      <td>...</td>\n      <td>...</td>\n      <td>...</td>\n      <td>...</td>\n      <td>...</td>\n      <td>...</td>\n      <td>...</td>\n      <td>...</td>\n      <td>...</td>\n    </tr>\n    <tr>\n      <th>13834987686537986048</th>\n      <td>...</td>\n      <td>...</td>\n      <td>...</td>\n      <td>...</td>\n      <td>...</td>\n      <td>...</td>\n      <td>...</td>\n      <td>...</td>\n      <td>...</td>\n      <td>...</td>\n      <td>...</td>\n      <td>...</td>\n      <td>...</td>\n      <td>...</td>\n      <td>...</td>\n      <td>...</td>\n      <td>...</td>\n      <td>...</td>\n      <td>...</td>\n      <td>...</td>\n      <td>...</td>\n      <td>...</td>\n      <td>...</td>\n    </tr>\n    <tr>\n      <th>18446744073709551615</th>\n      <td>...</td>\n      <td>...</td>\n      <td>...</td>\n      <td>...</td>\n      <td>...</td>\n      <td>...</td>\n      <td>...</td>\n      <td>...</td>\n      <td>...</td>\n      <td>...</td>\n      <td>...</td>\n      <td>...</td>\n      <td>...</td>\n      <td>...</td>\n      <td>...</td>\n      <td>...</td>\n      <td>...</td>\n      <td>...</td>\n      <td>...</td>\n      <td>...</td>\n      <td>...</td>\n      <td>...</td>\n      <td>...</td>\n    </tr>\n  </tbody>\n</table>\n</div>"
     },
     "execution_count": 3,
     "metadata": {},
     "output_type": "execute_result"
    }
   ],
   "source": [
    "ztf_source = lsdb.read_hipscat(\"/data3/epyc/data3/hipscat/catalogs/ztf_axs/ztf_source\")\n",
    "ztf_source"
   ],
   "metadata": {
    "collapsed": false,
    "ExecuteTime": {
     "end_time": "2024-03-21T18:53:42.293737Z",
     "start_time": "2024-03-21T18:53:25.385127Z"
    }
   },
   "id": "a09ad732c6e63b54"
  },
  {
   "cell_type": "code",
   "execution_count": 6,
   "outputs": [
    {
     "name": "stdout",
     "output_type": "stream",
     "text": [
      "10\n"
     ]
    },
    {
     "data": {
      "text/plain": "array([[       0,      256],\n       [     256,      512],\n       [     512,      768],\n       ...,\n       [12582720, 12582784],\n       [12582784, 12582848],\n       [12582848, 12582912]])"
     },
     "execution_count": 6,
     "metadata": {},
     "output_type": "execute_result"
    }
   ],
   "source": [
    "print(ztf_source.hc_structure.pixel_tree.tree_order)\n",
    "ztf_source.hc_structure.pixel_tree.tree"
   ],
   "metadata": {
    "collapsed": false,
    "ExecuteTime": {
     "end_time": "2024-03-21T18:55:29.241496Z",
     "start_time": "2024-03-21T18:55:29.230822Z"
    }
   },
   "id": "595f50514a10a8c0"
  },
  {
   "cell_type": "markdown",
   "source": [],
   "metadata": {
    "collapsed": false
   },
   "id": "ff1fcafd8e644ec8"
  },
  {
   "cell_type": "markdown",
   "source": [
    "## Performance\n",
    "\n",
    "### Before improvements\n",
    "![Why we might miss matches without margins](images/profile1.png)\n",
    "\n",
    "### After metadata changes \n",
    "![Why we might miss matches without margins](images/profile2.png)\n",
    "\n",
    "### New Pixel Tree\n",
    "![Why we might miss matches without margins](images/profile3.png)"
   ],
   "metadata": {
    "collapsed": false
   },
   "id": "c5578e5322fabc2b"
  },
  {
   "cell_type": "code",
   "execution_count": null,
   "outputs": [],
   "source": [],
   "metadata": {
    "collapsed": false
   },
   "id": "9639caa2a6b513fd"
  }
 ],
 "metadata": {
  "kernelspec": {
   "name": "lsdb",
   "language": "python",
   "display_name": "lsdb-sean"
  },
  "language_info": {
   "codemirror_mode": {
    "name": "ipython",
    "version": 2
   },
   "file_extension": ".py",
   "mimetype": "text/x-python",
   "name": "python",
   "nbconvert_exporter": "python",
   "pygments_lexer": "ipython2",
   "version": "2.7.6"
  }
 },
 "nbformat": 4,
 "nbformat_minor": 5
}
