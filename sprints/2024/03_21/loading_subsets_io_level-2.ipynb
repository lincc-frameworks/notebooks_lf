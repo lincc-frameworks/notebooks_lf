{
    "cells": [
        {
            "cell_type": "markdown",
            "id": "6b90389e",
            "metadata": {},
            "source": [
                "# Loading subsets at the I/O level"
            ]
        },
        {
            "cell_type": "markdown",
            "id": "e75582d2",
            "metadata": {},
            "source": [
                "For generating subsets of data we used to abide by a workflow structure where we:\n",
                "\n",
                "1. \"Loaded\" all the data lazily using `read_hipscat`\n",
                "2. Filtered the data using a spatial filtering mechanism\n",
                "\n",
                "This type of workflow is reasonable for most use cases as Dask will only actively read data from the partitions that correspond to the filtered region. However, applying a filter does not prevent Dask from constructing an initial layer of the task graph that considers all partitions in the dataset. At a certain number of partitions the task graph will be so large that it may prevent even a subset from being loaded in efficiently.\n",
                "\n",
                "We can now load catalog subsets at the I/O level. This means that we can provide Dask with the partitions that it requires for a specific spatial region instead of letting it sort everything out. `read_hipscat(path, ...)` has been updated to `read_hipscat(path, search_filter, ...)` where search_filter is any instance of AbstractSearch."
            ]
        },
        {
            "cell_type": "code",
            "execution_count": 1,
            "id": "1dac2c1c",
            "metadata": {},
            "outputs": [],
            "source": [
                "import lsdb\n",
                "\n",
                "from lsdb.core.search import BoxSearch, ConeSearch, PolygonSearch"
            ]
        },
        {
            "cell_type": "code",
            "execution_count": 2,
            "id": "e90d2a6e",
            "metadata": {},
            "outputs": [
                {
                    "data": {
                        "text/html": [
                            "<div><strong>lsdb Catalog ztf_object_fivedegree:</strong></div><div>\n",
                            "<style scoped>\n",
                            "    .dataframe tbody tr th:only-of-type {\n",
                            "        vertical-align: middle;\n",
                            "    }\n",
                            "\n",
                            "    .dataframe tbody tr th {\n",
                            "        vertical-align: top;\n",
                            "    }\n",
                            "\n",
                            "    .dataframe thead th {\n",
                            "        text-align: right;\n",
                            "    }\n",
                            "</style>\n",
                            "<table border=\"1\" class=\"dataframe\">\n",
                            "  <thead>\n",
                            "    <tr style=\"text-align: right;\">\n",
                            "      <th></th>\n",
                            "      <th>ps1_objid</th>\n",
                            "      <th>ra</th>\n",
                            "      <th>dec</th>\n",
                            "      <th>ps1_gMeanPSFMag</th>\n",
                            "      <th>ps1_rMeanPSFMag</th>\n",
                            "      <th>ps1_iMeanPSFMag</th>\n",
                            "      <th>nobs_g</th>\n",
                            "      <th>nobs_r</th>\n",
                            "      <th>nobs_i</th>\n",
                            "      <th>mean_mag_g</th>\n",
                            "      <th>mean_mag_r</th>\n",
                            "      <th>mean_mag_i</th>\n",
                            "      <th>Norder</th>\n",
                            "      <th>Dir</th>\n",
                            "      <th>Npix</th>\n",
                            "    </tr>\n",
                            "    <tr>\n",
                            "      <th>npartitions=6</th>\n",
                            "      <th></th>\n",
                            "      <th></th>\n",
                            "      <th></th>\n",
                            "      <th></th>\n",
                            "      <th></th>\n",
                            "      <th></th>\n",
                            "      <th></th>\n",
                            "      <th></th>\n",
                            "      <th></th>\n",
                            "      <th></th>\n",
                            "      <th></th>\n",
                            "      <th></th>\n",
                            "      <th></th>\n",
                            "      <th></th>\n",
                            "      <th></th>\n",
                            "    </tr>\n",
                            "  </thead>\n",
                            "  <tbody>\n",
                            "    <tr>\n",
                            "      <th>3643412098542731264</th>\n",
                            "      <td>int64</td>\n",
                            "      <td>float64</td>\n",
                            "      <td>float64</td>\n",
                            "      <td>float64</td>\n",
                            "      <td>float64</td>\n",
                            "      <td>float64</td>\n",
                            "      <td>int32</td>\n",
                            "      <td>int32</td>\n",
                            "      <td>int32</td>\n",
                            "      <td>float64</td>\n",
                            "      <td>float64</td>\n",
                            "      <td>float64</td>\n",
                            "      <td>int32</td>\n",
                            "      <td>int32</td>\n",
                            "      <td>int32</td>\n",
                            "    </tr>\n",
                            "    <tr>\n",
                            "      <th>3644537998449573888</th>\n",
                            "      <td>...</td>\n",
                            "      <td>...</td>\n",
                            "      <td>...</td>\n",
                            "      <td>...</td>\n",
                            "      <td>...</td>\n",
                            "      <td>...</td>\n",
                            "      <td>...</td>\n",
                            "      <td>...</td>\n",
                            "      <td>...</td>\n",
                            "      <td>...</td>\n",
                            "      <td>...</td>\n",
                            "      <td>...</td>\n",
                            "      <td>...</td>\n",
                            "      <td>...</td>\n",
                            "      <td>...</td>\n",
                            "    </tr>\n",
                            "    <tr>\n",
                            "      <th>...</th>\n",
                            "      <td>...</td>\n",
                            "      <td>...</td>\n",
                            "      <td>...</td>\n",
                            "      <td>...</td>\n",
                            "      <td>...</td>\n",
                            "      <td>...</td>\n",
                            "      <td>...</td>\n",
                            "      <td>...</td>\n",
                            "      <td>...</td>\n",
                            "      <td>...</td>\n",
                            "      <td>...</td>\n",
                            "      <td>...</td>\n",
                            "      <td>...</td>\n",
                            "      <td>...</td>\n",
                            "      <td>...</td>\n",
                            "    </tr>\n",
                            "    <tr>\n",
                            "      <th>3653545197704314880</th>\n",
                            "      <td>...</td>\n",
                            "      <td>...</td>\n",
                            "      <td>...</td>\n",
                            "      <td>...</td>\n",
                            "      <td>...</td>\n",
                            "      <td>...</td>\n",
                            "      <td>...</td>\n",
                            "      <td>...</td>\n",
                            "      <td>...</td>\n",
                            "      <td>...</td>\n",
                            "      <td>...</td>\n",
                            "      <td>...</td>\n",
                            "      <td>...</td>\n",
                            "      <td>...</td>\n",
                            "      <td>...</td>\n",
                            "    </tr>\n",
                            "    <tr>\n",
                            "      <th>18446744073709551615</th>\n",
                            "      <td>...</td>\n",
                            "      <td>...</td>\n",
                            "      <td>...</td>\n",
                            "      <td>...</td>\n",
                            "      <td>...</td>\n",
                            "      <td>...</td>\n",
                            "      <td>...</td>\n",
                            "      <td>...</td>\n",
                            "      <td>...</td>\n",
                            "      <td>...</td>\n",
                            "      <td>...</td>\n",
                            "      <td>...</td>\n",
                            "      <td>...</td>\n",
                            "      <td>...</td>\n",
                            "      <td>...</td>\n",
                            "    </tr>\n",
                            "  </tbody>\n",
                            "</table>\n",
                            "</div>"
                        ],
                        "text/plain": [
                            "Dask DataFrame Structure:\n",
                            "                     ps1_objid       ra      dec ps1_gMeanPSFMag ps1_rMeanPSFMag ps1_iMeanPSFMag nobs_g nobs_r nobs_i mean_mag_g mean_mag_r mean_mag_i Norder    Dir   Npix\n",
                            "npartitions=6                                                                                                                                                              \n",
                            "3643412098542731264      int64  float64  float64         float64         float64         float64  int32  int32  int32    float64    float64    float64  int32  int32  int32\n",
                            "3644537998449573888        ...      ...      ...             ...             ...             ...    ...    ...    ...        ...        ...        ...    ...    ...    ...\n",
                            "...                        ...      ...      ...             ...             ...             ...    ...    ...    ...        ...        ...        ...    ...    ...    ...\n",
                            "3653545197704314880        ...      ...      ...             ...             ...             ...    ...    ...    ...        ...        ...        ...    ...    ...    ...\n",
                            "18446744073709551615       ...      ...      ...             ...             ...             ...    ...    ...    ...        ...        ...        ...    ...    ...    ...\n",
                            "Dask Name: read_parquet_file_to_pandas, 1 graph layer"
                        ]
                    },
                    "execution_count": 2,
                    "metadata": {},
                    "output_type": "execute_result"
                }
            ],
            "source": [
                "# How to use the new API\n",
                "example_catalog = lsdb.read_hipscat(\n",
                "    path=\"https://epyc.astro.washington.edu/~lincc-frameworks/other_degree_surveys/ztf/ztf_object/\",\n",
                "    search_filter=ConeSearch(ra=-60, dec=20, radius_arcsec=1*3600)\n",
                ")\n",
                "example_catalog"
            ]
        },
        {
            "cell_type": "markdown",
            "id": "99af04a8",
            "metadata": {},
            "source": [
                "We will compare the performance of the spatial filters for catalogs of 3 different orders of magnitude:\n",
                "\n",
                "- `ztf_source` of ~311 thousand partitions\n",
                "- `ztf_zource` of ~42 thousand partitions\n",
                "- `gaia_dr3`of ~4 thousand partitions\n",
                "\n",
                "... and see if there is any correlation between the total number of catalog partitions and eventual performance gains."
            ]
        },
        {
            "cell_type": "code",
            "execution_count": 3,
            "id": "3e119b30",
            "metadata": {},
            "outputs": [],
            "source": [
                "catalogs = {\n",
                "    \"ztf_source\": \"/epyc/data3/hipscat/catalogs/ztf_axs/ztf_source\",\n",
                "    \"ztf_zource\": \"/epyc/data3/hipscat/catalogs/ztf_axs/ztf_zource\",\n",
                "    \"gaia\": \"/epyc/data3/hipscat/catalogs/gaia_dr3/gaia\",\n",
                "}"
            ]
        },
        {
            "cell_type": "markdown",
            "id": "48885d67",
            "metadata": {},
            "source": [
                "### Profiling helpers"
            ]
        },
        {
            "cell_type": "code",
            "execution_count": 4,
            "id": "44e06a56",
            "metadata": {},
            "outputs": [],
            "source": [
                "import os\n",
                "import cProfile, pstats\n",
                "\n",
                "from IPython.display import display, IFrame"
            ]
        },
        {
            "cell_type": "code",
            "execution_count": 5,
            "id": "9f0f24ca",
            "metadata": {},
            "outputs": [],
            "source": [
                "def profile(catalog_name, search_type, catalog_path, search, *args):\n",
                "    tuna_path = \"~/.conda/envs/py310/bin/tuna\"\n",
                "    \n",
                "    search_name = search.__class__.__name__\n",
                "    search_type_name = search_type.__name__    \n",
                "    \n",
                "    output_dir = f\"data/{catalog_name}/{search_type_name}/{search_name}\"\n",
                "    profile_name = f\"{output_dir}/profile\"\n",
                "    \n",
                "    os.makedirs(output_dir, exist_ok=True)\n",
                "        \n",
                "    # Benchmark performance with cProfile\n",
                "    profiler = cProfile.Profile()\n",
                "    profiler.enable()\n",
                "    search_type(catalog_path, search, *args)\n",
                "    profiler.disable()\n",
                "    profiler.dump_stats(profile_name)\n",
                "    \n",
                "    # Generate static HTML dashboard\n",
                "    cmd = f\"{tuna_path} {profile_name} --no-browser --outdir {output_dir}\"\n",
                "    !{cmd}\n",
                "    \n",
                "    # Display dashboard\n",
                "    html_path = f\"{output_dir}/index.html\"\n",
                "    return IFrame(html_path, 950, 500)"
            ]
        },
        {
            "cell_type": "code",
            "execution_count": 6,
            "id": "d427ee76",
            "metadata": {},
            "outputs": [],
            "source": [
                "def load_and_search(path, search, vertices):\n",
                "    catalog = lsdb.read_hipscat(path)\n",
                "    if isinstance(search, BoxSearch):\n",
                "        search_method = \"box\"\n",
                "        args = {\"ra\": search.ra, \"dec\": search.dec}\n",
                "    elif isinstance(search, ConeSearch):\n",
                "        search_method = \"cone_search\"\n",
                "        args = {\"ra\": search.ra, \"dec\": search.dec, \"radius_arcsec\": search.radius_arcsec}\n",
                "    elif isinstance(search, PolygonSearch):\n",
                "        search_method = \"polygon_search\"\n",
                "        args = {\"vertices\": vertices}\n",
                "    search_filter = getattr(catalog, search_method)\n",
                "    return search_filter(**args, fine=False)\n",
                "\n",
                "def load_with_search(path, search):\n",
                "    return lsdb.read_hipscat(path, search_filter=search)\n",
                "\n",
                "def profile_search(search, vertices=None):\n",
                "    profiles_load_and_filter = []\n",
                "    profiles_load_with_filter = []\n",
                "    for catalog_name, catalog_path in catalogs.items():\n",
                "        frame_1 = profile(catalog_name, load_and_search, catalog_path, search, vertices)\n",
                "        frame_2 = profile(catalog_name, load_with_search, catalog_path, search)\n",
                "        profiles_load_and_filter.append(frame_1)\n",
                "        profiles_load_with_filter.append(frame_2)\n",
                "    return profiles_load_and_filter, profiles_load_with_filter"
            ]
        },
        {
            "cell_type": "markdown",
            "id": "9b9ed137",
            "metadata": {},
            "source": [
                "## Filtering with a box search"
            ]
        },
        {
            "cell_type": "code",
            "execution_count": 7,
            "id": "5cca465f",
            "metadata": {
                "scrolled": true
            },
            "outputs": [],
            "source": [
                "box_search = BoxSearch(ra=(340, 342), dec=(10, 20))\n",
                "box_and_filter, box_with_filter = profile_search(box_search)"
            ]
        },
        {
            "cell_type": "code",
            "execution_count": 8,
            "id": "79a76dba",
            "metadata": {
                "scrolled": true
            },
            "outputs": [],
            "source": [
                "for frame in box_and_filter:\n",
                "    display(frame)"
            ]
        },
        {
            "cell_type": "code",
            "execution_count": 9,
            "id": "751c0c1d",
            "metadata": {
                "scrolled": true
            },
            "outputs": [],
            "source": [
                "for frame in box_with_filter:\n",
                "    display(frame)"
            ]
        },
        {
            "cell_type": "markdown",
            "id": "61f55b50",
            "metadata": {},
            "source": [
                "## Filtering with a cone search"
            ]
        },
        {
            "cell_type": "code",
            "execution_count": 10,
            "id": "890738bc",
            "metadata": {},
            "outputs": [],
            "source": [
                "cone_search = ConeSearch(ra=30.1, dec=20.5, radius_arcsec=3*3600)\n",
                "cone_and_filter, cone_with_filter = profile_search(cone_search)"
            ]
        },
        {
            "cell_type": "code",
            "execution_count": 11,
            "id": "af207c10",
            "metadata": {
                "scrolled": true
            },
            "outputs": [],
            "source": [
                "for frame in cone_and_filter:\n",
                "    display(frame)"
            ]
        },
        {
            "cell_type": "code",
            "execution_count": 12,
            "id": "bcb93081",
            "metadata": {
                "scrolled": true
            },
            "outputs": [],
            "source": [
                "for frame in cone_with_filter:\n",
                "    display(frame)"
            ]
        },
        {
            "cell_type": "markdown",
            "id": "5b78bd98",
            "metadata": {},
            "source": [
                "## Filtering with a polygon search"
            ]
        },
        {
            "cell_type": "code",
            "execution_count": 13,
            "id": "0d58d1ea",
            "metadata": {},
            "outputs": [],
            "source": [
                "vertices = [(20.5, 40.1), (20.5, 35.5), (23.2, 35.5), (23.2, 40.1)]\n",
                "polygon_search = PolygonSearch(vertices)\n",
                "polygon_and_filter, polygon_with_filter = profile_search(polygon_search, vertices)"
            ]
        },
        {
            "cell_type": "code",
            "execution_count": 14,
            "id": "855abc46",
            "metadata": {
                "scrolled": true
            },
            "outputs": [],
            "source": [
                "for frame in polygon_and_filter:\n",
                "    display(frame)"
            ]
        },
        {
            "cell_type": "code",
            "execution_count": 15,
            "id": "1c4f1fa3",
            "metadata": {
                "scrolled": true
            },
            "outputs": [],
            "source": [
                "for frame in polygon_with_filter:\n",
                "    display(frame)"
            ]
        },
        {
            "cell_type": "markdown",
            "id": "e67d2e3e",
            "metadata": {},
            "source": [
                "## Plotting performance changes"
            ]
        },
        {
            "cell_type": "code",
            "execution_count": 20,
            "id": "bff09750",
            "metadata": {},
            "outputs": [],
            "source": [
                "import numpy as np\n",
                "import matplotlib.pyplot as plt\n",
                "\n",
                "search_types = [\"load_and_search\", \"load_with_search\"]\n",
                "search_methods = [\"ConeSearch\", \"BoxSearch\", \"PolygonSearch\"]\n",
                "\n",
                "def bar_plot(performance, title):\n",
                "    x = np.arange(len(performance))\n",
                "    y = list(zip(*performance))\n",
                "\n",
                "    width = 0.4\n",
                "    \n",
                "    plt.bar(x - width/2, y[0], width, color=\"orange\") \n",
                "    plt.bar(x + width/2, y[1], width, color=\"green\")\n",
                "\n",
                "    plt.xlabel(\"Search method\")\n",
                "    plt.xticks(x, search_methods)\n",
                "    plt.ylabel(\"Time (seconds)\")\n",
                "    plt.title(title)\n",
                "    \n",
                "    # Add legend to plot\n",
                "    colors = {search_types[0]: \"orange\", search_types[1]: \"green\"}         \n",
                "    labels = list(colors.keys())\n",
                "    handles = [plt.Rectangle((0,0),1,1, color=colors[label]) for label in labels]\n",
                "    plt.legend(handles, labels)\n",
                "\n",
                "    plt.show()\n",
                "    \n",
                "def plot_catalog_performance(catalog_name):\n",
                "    performance = []\n",
                "    for search_method in search_methods:\n",
                "        perf = []\n",
                "        for search_type in search_types:\n",
                "            stats = pstats.Stats(f\"data/{catalog_name}/{search_type}/{search_method}/profile\")\n",
                "            s = stats.get_stats_profile()\n",
                "            perf.append(s.total_tt)\n",
                "        speedup = round((1 - perf[1] / perf[0]) * 100, 2)\n",
                "        print(f\"{search_method}: {-speedup}%\")\n",
                "        performance.append(perf)\n",
                "    bar_plot(performance, title=catalog_name)"
            ]
        },
        {
            "cell_type": "markdown",
            "id": "9c29ebdf",
            "metadata": {},
            "source": [
                "## Performance on ZTF source"
            ]
        },
        {
            "cell_type": "code",
            "execution_count": 21,
            "id": "b0b776d3",
            "metadata": {},
            "outputs": [
                {
                    "name": "stdout",
                    "output_type": "stream",
                    "text": [
                        "ConeSearch: -50.25%\n",
                        "BoxSearch: -10.83%\n",
                        "PolygonSearch: -28.85%\n"
                    ]
                },
                {
                    "data": {
                        "image/png": "[encoded data removed]",
                        "text/plain": [
                            "<Figure size 640x480 with 1 Axes>"
                        ]
                    },
                    "metadata": {},
                    "output_type": "display_data"
                }
            ],
            "source": [
                "plot_catalog_performance(\"ztf_source\")"
            ]
        },
        {
            "cell_type": "markdown",
            "id": "3b56f3cd",
            "metadata": {},
            "source": [
                "## Performance on ZTF zource"
            ]
        },
        {
            "cell_type": "code",
            "execution_count": 22,
            "id": "a16eeb74",
            "metadata": {},
            "outputs": [
                {
                    "name": "stdout",
                    "output_type": "stream",
                    "text": [
                        "ConeSearch: -53.29%\n",
                        "BoxSearch: -24.94%\n",
                        "PolygonSearch: -43.84%\n"
                    ]
                },
                {
                    "data": {
                        "image/png": "[encoded data removed]",
                        "text/plain": [
                            "<Figure size 640x480 with 1 Axes>"
                        ]
                    },
                    "metadata": {},
                    "output_type": "display_data"
                }
            ],
            "source": [
                "plot_catalog_performance(\"ztf_zource\")"
            ]
        },
        {
            "cell_type": "markdown",
            "id": "a0b74bac",
            "metadata": {},
            "source": [
                "## Performance on Gaia"
            ]
        },
        {
            "cell_type": "code",
            "execution_count": 23,
            "id": "ee11bdc4",
            "metadata": {},
            "outputs": [
                {
                    "name": "stdout",
                    "output_type": "stream",
                    "text": [
                        "ConeSearch: 77.55%\n",
                        "BoxSearch: -13.46%\n",
                        "PolygonSearch: -56.16%\n"
                    ]
                },
                {
                    "data": {
                        "image/png": "[encoded data removed]",
                        "text/plain": [
                            "<Figure size 640x480 with 1 Axes>"
                        ]
                    },
                    "metadata": {},
                    "output_type": "display_data"
                }
            ],
            "source": [
                "plot_catalog_performance(\"gaia\")"
            ]
        },
        {
            "cell_type": "markdown",
            "id": "f037879d",
            "metadata": {},
            "source": [
                "### Key Takeways\n",
                "\n",
                "Overall, we observe relevant speed-ups when applying the spatial filters with the new strategy (up to ~50%). We reduce the amount of time it takes to lazily load a catalog because we are also reducing the number of tasks embedded in the Dask task graph.\n",
                "\n",
                "The performance gains with prefiltering do not seem to be directly proportional to the number of catalog partitions - the best performance improvements were with `ztf_zource` (~40 thousand partitions). This leads us to believe that we will notice a sharper speedup when reading catalog subsets when the number of partitions matches this order of magnitude. When the catalog is smaller we might observe that prefiltering can at times be slower (e.g. the cone search on `gaia`), but it won't be as noticeable because the difference is within fractions of seconds."
            ]
        }
    ],
    "metadata": {
        "kernelspec": {
            "display_name": "Sandro's Python 3.10",
            "language": "python",
            "name": "sandro_py310"
        },
        "language_info": {
            "codemirror_mode": {
                "name": "ipython",
                "version": 3
            },
            "file_extension": ".py",
            "mimetype": "text/x-python",
            "name": "python",
            "nbconvert_exporter": "python",
            "pygments_lexer": "ipython3",
            "version": "3.10.13"
        }
    },
    "nbformat": 4,
    "nbformat_minor": 5
}