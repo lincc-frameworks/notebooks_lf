{
 "cells": [
  {
   "cell_type": "markdown",
   "id": "8c0e5e70-805c-44c2-beb8-899480d2f0b8",
   "metadata": {},
   "source": [
    "# Create a hipscat catalog from gaia EDR3 distances"
   ]
  },
  {
   "cell_type": "code",
   "execution_count": null,
   "id": "c0dbadf0-3978-490c-98fe-60229e1e3e59",
   "metadata": {},
   "outputs": [],
   "source": [
    "from pathlib import Path\n",
    "\n",
    "from dask.distributed import Client\n",
    "from hipscat_import.catalog.arguments import ImportArguments\n",
    "from hipscat_import.margin_cache.margin_cache_arguments import MarginCacheArguments\n",
    "from hipscat_import.pipeline import pipeline_with_client"
   ]
  },
  {
   "cell_type": "code",
   "execution_count": null,
   "id": "577473a7-3c6e-43b7-ba99-471e85098e35",
   "metadata": {},
   "outputs": [],
   "source": [
    "gaia_root = Path(\"/ocean/projects/phy210048p/shared/hipscat/catalogs/gaia_dr3/\")\n",
    "catalog_name = \"gaia_edr3_distances\"\n",
    "margin_name = f\"{catalog_name}_10arcs\""
   ]
  },
  {
   "cell_type": "markdown",
   "id": "415a6925-3276-4cb8-a7d2-de996fff63fb",
   "metadata": {},
   "source": [
    "### Catalog itself"
   ]
  },
  {
   "cell_type": "code",
   "execution_count": null,
   "id": "0cccd111-0529-4ac3-a33f-f36ebe6b63cb",
   "metadata": {},
   "outputs": [],
   "source": [
    "args = ImportArguments(\n",
    "    ra_column=\"ra\",\n",
    "    dec_column=\"dec\",\n",
    "    use_hipscat_index=True,\n",
    "    add_hipscat_index=False,\n",
    "    input_path=\"./gedr3dist_joined_parquet_dataset\",\n",
    "    file_reader=\"parquet\",\n",
    "    output_artifact_name=margin_name,\n",
    "    output_path=gaia_root,\n",
    ")\n",
    "\n",
    "with Client(n_workers=32) as client:\n",
    "    display(client)\n",
    "    pipeline_with_client(args, client)"
   ]
  },
  {
   "cell_type": "markdown",
   "id": "ce5c5336-0fd3-4398-a660-d9034a55541e",
   "metadata": {},
   "source": [
    "### Margin catalog"
   ]
  },
  {
   "cell_type": "code",
   "execution_count": null,
   "id": "63cb05bf-709a-4632-a919-e926119a0b61",
   "metadata": {},
   "outputs": [],
   "source": [
    "args = MarginCacheArguments(\n",
    "    input_catalog_path=gaia_root / catalog_name,\n",
    "    output_path=gaia_root,\n",
    "    margin_threshold=10.0,\n",
    "    output_artifact_name=margin_name,\n",
    ")\n",
    "with Client(n_workers=64) as client:\n",
    "    display(client)\n",
    "    pipeline_with_client(args, client)"
   ]
  },
  {
   "cell_type": "markdown",
   "id": "c9e528af-e8db-4332-a469-229893f0c755",
   "metadata": {},
   "source": [
    "### Test with lsdb"
   ]
  },
  {
   "cell_type": "code",
   "execution_count": 6,
   "id": "dcb3da96-2082-4d98-a831-ebd75c42e37b",
   "metadata": {},
   "outputs": [
    {
     "data": {
      "text/html": [
       "<div><strong>lsdb Catalog gaia_edr3_distances:</strong></div><div>\n",
       "<style scoped>\n",
       "    .dataframe tbody tr th:only-of-type {\n",
       "        vertical-align: middle;\n",
       "    }\n",
       "\n",
       "    .dataframe tbody tr th {\n",
       "        vertical-align: top;\n",
       "    }\n",
       "\n",
       "    .dataframe thead th {\n",
       "        text-align: right;\n",
       "    }\n",
       "</style>\n",
       "<table border=\"1\" class=\"dataframe\">\n",
       "  <thead>\n",
       "    <tr style=\"text-align: right;\">\n",
       "      <th></th>\n",
       "      <th>source_id</th>\n",
       "      <th>r_med_geo</th>\n",
       "      <th>r_lo_geo</th>\n",
       "      <th>r_hi_geo</th>\n",
       "      <th>r_med_photogeo</th>\n",
       "      <th>r_lo_photogeo</th>\n",
       "      <th>r_hi_photogeo</th>\n",
       "      <th>flag</th>\n",
       "      <th>ra</th>\n",
       "      <th>dec</th>\n",
       "      <th>Norder</th>\n",
       "      <th>Dir</th>\n",
       "      <th>Npix</th>\n",
       "    </tr>\n",
       "    <tr>\n",
       "      <th>npartitions=3243</th>\n",
       "      <th></th>\n",
       "      <th></th>\n",
       "      <th></th>\n",
       "      <th></th>\n",
       "      <th></th>\n",
       "      <th></th>\n",
       "      <th></th>\n",
       "      <th></th>\n",
       "      <th></th>\n",
       "      <th></th>\n",
       "      <th></th>\n",
       "      <th></th>\n",
       "      <th></th>\n",
       "    </tr>\n",
       "  </thead>\n",
       "  <tbody>\n",
       "    <tr>\n",
       "      <th>0</th>\n",
       "      <td>int64[pyarrow]</td>\n",
       "      <td>double[pyarrow]</td>\n",
       "      <td>double[pyarrow]</td>\n",
       "      <td>double[pyarrow]</td>\n",
       "      <td>double[pyarrow]</td>\n",
       "      <td>double[pyarrow]</td>\n",
       "      <td>double[pyarrow]</td>\n",
       "      <td>int64[pyarrow]</td>\n",
       "      <td>double[pyarrow]</td>\n",
       "      <td>double[pyarrow]</td>\n",
       "      <td>uint8[pyarrow]</td>\n",
       "      <td>uint64[pyarrow]</td>\n",
       "      <td>uint64[pyarrow]</td>\n",
       "    </tr>\n",
       "    <tr>\n",
       "      <th>72057594037927936</th>\n",
       "      <td>...</td>\n",
       "      <td>...</td>\n",
       "      <td>...</td>\n",
       "      <td>...</td>\n",
       "      <td>...</td>\n",
       "      <td>...</td>\n",
       "      <td>...</td>\n",
       "      <td>...</td>\n",
       "      <td>...</td>\n",
       "      <td>...</td>\n",
       "      <td>...</td>\n",
       "      <td>...</td>\n",
       "      <td>...</td>\n",
       "    </tr>\n",
       "    <tr>\n",
       "      <th>...</th>\n",
       "      <td>...</td>\n",
       "      <td>...</td>\n",
       "      <td>...</td>\n",
       "      <td>...</td>\n",
       "      <td>...</td>\n",
       "      <td>...</td>\n",
       "      <td>...</td>\n",
       "      <td>...</td>\n",
       "      <td>...</td>\n",
       "      <td>...</td>\n",
       "      <td>...</td>\n",
       "      <td>...</td>\n",
       "      <td>...</td>\n",
       "    </tr>\n",
       "    <tr>\n",
       "      <th>13817043656772681728</th>\n",
       "      <td>...</td>\n",
       "      <td>...</td>\n",
       "      <td>...</td>\n",
       "      <td>...</td>\n",
       "      <td>...</td>\n",
       "      <td>...</td>\n",
       "      <td>...</td>\n",
       "      <td>...</td>\n",
       "      <td>...</td>\n",
       "      <td>...</td>\n",
       "      <td>...</td>\n",
       "      <td>...</td>\n",
       "      <td>...</td>\n",
       "    </tr>\n",
       "    <tr>\n",
       "      <th>18446744073709551615</th>\n",
       "      <td>...</td>\n",
       "      <td>...</td>\n",
       "      <td>...</td>\n",
       "      <td>...</td>\n",
       "      <td>...</td>\n",
       "      <td>...</td>\n",
       "      <td>...</td>\n",
       "      <td>...</td>\n",
       "      <td>...</td>\n",
       "      <td>...</td>\n",
       "      <td>...</td>\n",
       "      <td>...</td>\n",
       "      <td>...</td>\n",
       "    </tr>\n",
       "  </tbody>\n",
       "</table>\n",
       "</div>"
      ],
      "text/plain": [
       "Dask DataFrame Structure:\n",
       "                           source_id        r_med_geo         r_lo_geo         r_hi_geo   r_med_photogeo    r_lo_photogeo    r_hi_photogeo            flag               ra              dec          Norder              Dir             Npix\n",
       "npartitions=3243                                                                                                                                                                                                                              \n",
       "0                     int64[pyarrow]  double[pyarrow]  double[pyarrow]  double[pyarrow]  double[pyarrow]  double[pyarrow]  double[pyarrow]  int64[pyarrow]  double[pyarrow]  double[pyarrow]  uint8[pyarrow]  uint64[pyarrow]  uint64[pyarrow]\n",
       "72057594037927936                ...              ...              ...              ...              ...              ...              ...             ...              ...              ...             ...              ...              ...\n",
       "...                              ...              ...              ...              ...              ...              ...              ...             ...              ...              ...             ...              ...              ...\n",
       "13817043656772681728             ...              ...              ...              ...              ...              ...              ...             ...              ...              ...             ...              ...              ...\n",
       "18446744073709551615             ...              ...              ...              ...              ...              ...              ...             ...              ...              ...             ...              ...              ...\n",
       "Dask Name: to_string_dtype, 2 expressions\n",
       "Expr=ArrowStringConversion(frame=FromMap(b52c925))"
      ]
     },
     "execution_count": 6,
     "metadata": {},
     "output_type": "execute_result"
    }
   ],
   "source": [
    "import lsdb\n",
    "\n",
    "catalog = lsdb.read_hipscat(gaia_root / catalog_name, margin=gaia_root / margin_name)\n",
    "catalog"
   ]
  },
  {
   "cell_type": "code",
   "execution_count": null,
   "id": "2db7deb8-e99d-478e-aa4e-6d026806e2c7",
   "metadata": {},
   "outputs": [],
   "source": []
  }
 ],
 "metadata": {
  "kernelspec": {
   "display_name": "gaia-edr3-distances",
   "language": "python",
   "name": "gaia-edr3-distances"
  },
  "language_info": {
   "codemirror_mode": {
    "name": "ipython",
    "version": 3
   },
   "file_extension": ".py",
   "mimetype": "text/x-python",
   "name": "python",
   "nbconvert_exporter": "python",
   "pygments_lexer": "ipython3",
   "version": "3.11.9"
  }
 },
 "nbformat": 4,
 "nbformat_minor": 5
}
