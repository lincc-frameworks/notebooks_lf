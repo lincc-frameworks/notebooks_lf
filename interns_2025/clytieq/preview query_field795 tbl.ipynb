{
 "cells": [
  {
   "cell_type": "code",
   "execution_count": 4,
   "id": "8b4e71b4",
   "metadata": {},
   "outputs": [],
   "source": [
    "import hats_import\n",
    "from hats_import.catalog.arguments import ImportArguments\n",
    "from dask.distributed import Client\n",
    "from hats_import.pipeline import pipeline_with_client\n",
    "import glob\n",
    "import lsdb\n",
    "\n",
    "from astropy.io import fits\n",
    "from astropy.table import Table\n",
    "import numpy as np"
   ]
  },
  {
   "cell_type": "code",
   "execution_count": 2,
   "id": "76e009ee",
   "metadata": {},
   "outputs": [],
   "source": [
    "test_cat = lsdb.open_catalog(\"output\\ztf_query_test\")"
   ]
  },
  {
   "cell_type": "code",
   "execution_count": 5,
   "id": "c7f61303",
   "metadata": {},
   "outputs": [],
   "source": [
    "t_795 = Table.read(\"C:\\\\Users\\\\lupin\\\\OneDrive\\\\Desktop\\\\LINCC\\\\query_field795.tbl\", format=\"ascii.ipac\")\n"
   ]
  },
  {
   "cell_type": "code",
   "execution_count": 6,
   "id": "e186f810",
   "metadata": {},
   "outputs": [
    {
     "data": {
      "text/plain": [
       "<TableColumns names=('ra','dec','infobits','field','ccdid','qid','rcid','fid','filtercode','pid','nid','expid','itid','imgtype','imgtypecode','obsdate','obsjd','exptime','filefracday','seeing','airmass','moonillf','moonesb','maglimit','crpix1','crpix2','crval1','crval2','cd11','cd12','cd21','cd22','ra1','dec1','ra2','dec2','ra3','dec3','ra4','dec4','ipac_pub_date','ipac_gid')>"
      ]
     },
     "execution_count": 6,
     "metadata": {},
     "output_type": "execute_result"
    }
   ],
   "source": [
    "t_795.columns"
   ]
  },
  {
   "cell_type": "code",
   "execution_count": null,
   "id": "2b7efb77",
   "metadata": {},
   "outputs": [],
   "source": []
  }
 ],
 "metadata": {
  "kernelspec": {
   "display_name": "lsdb_m25",
   "language": "python",
   "name": "python3"
  },
  "language_info": {
   "codemirror_mode": {
    "name": "ipython",
    "version": 3
   },
   "file_extension": ".py",
   "mimetype": "text/x-python",
   "name": "python",
   "nbconvert_exporter": "python",
   "pygments_lexer": "ipython3",
   "version": "3.10.6"
  }
 },
 "nbformat": 4,
 "nbformat_minor": 5
}
