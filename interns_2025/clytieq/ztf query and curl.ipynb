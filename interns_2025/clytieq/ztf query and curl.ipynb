{
 "cells": [
  {
   "cell_type": "code",
   "execution_count": null,
   "id": "2052f887",
   "metadata": {},
   "outputs": [],
   "source": [
    "import sqlite3\n",
    "import pandas as pd\n",
    "import requests\n",
    "from astropy.io import fits\n",
    "from astropy.table import Table\n",
    "import numpy as np\n",
    "import pyarrow as pa\n",
    "import pyarrow.feather as feather\n",
    "from upath import UPath"
   ]
  },
  {
   "cell_type": "code",
   "execution_count": 3,
   "id": "d12d4627",
   "metadata": {},
   "outputs": [],
   "source": [
    "def urls_from_query(tbl, suffix=\"psfcat.fits\", base='https://irsa.ipac.caltech.edu/ibe/data/ztf/products/sci'):\n",
    "    filefracday_arr = np.array(tbl['filefracday'], dtype=np.str_)\n",
    "    # print(filefracday_arr)\n",
    "    YYYY_arr = [s[:4] for s in filefracday_arr]\n",
    "    # print(YYYY_arr)\n",
    "    MMDD_arr = [s[4:8] for s in filefracday_arr]\n",
    "    fracday_arr = [s[8:] for s in filefracday_arr]\n",
    "    field_arr = np.strings.zfill(np.array(tbl['field'], dtype=np.str_), 6)\n",
    "    filtercode_arr = np.array(tbl['filtercode'], dtype=np.str_)\n",
    "    ccdid_arr = np.strings.zfill(np.array(tbl['ccdid'], dtype=np.str_), 2)\n",
    "    imgtypecode_arr = np.array(tbl['imgtypecode'], dtype=np.str_)\n",
    "    qid_arr = np.array(tbl['qid'], dtype=np.str_)\n",
    "\n",
    "\n",
    "    filename_pieces = ['_', filefracday_arr, \n",
    "                        '_', field_arr, \n",
    "                        '_', filtercode_arr, \n",
    "                        '_c', ccdid_arr,\n",
    "                        '_', imgtypecode_arr,\n",
    "                        '_q', qid_arr,\n",
    "                        '_', suffix]\n",
    "    filename_arr = 'ztf'\n",
    "    for arr in filename_pieces:\n",
    "        filename_arr = np.strings.add(filename_arr, arr)\n",
    "    # filename = f\"ztf_{filefracday}_{field}_{filtercode}_c{ccdid}_{imgtypecode}_q{qid}_{suffix}\"\n",
    "\n",
    "    url_pieces = ['/', YYYY_arr, '/', MMDD_arr, '/', fracday_arr, '/', filename_arr]\n",
    "    url_arr = base\n",
    "    for arr in url_pieces:\n",
    "        url_arr = np.strings.add(url_arr, arr)\n",
    "    # test_url = \"/\".join([base, YYYY, MMDD, fracday, filename])\n",
    "    return filename_arr, url_arr"
   ]
  },
  {
   "cell_type": "code",
   "execution_count": 3,
   "id": "b2c4d159",
   "metadata": {},
   "outputs": [],
   "source": [
    "# base='https://irsa.ipac.caltech.edu/ibe/data/ztf/products/sci'\n",
    "# urls_arr = []\n",
    "# for row in t_795:\n",
    "#     filefracday = str(row['filefracday'])\n",
    "#     YYYY, MMDD, fracday = filefracday[:4], filefracday[4:8], filefracday[8:]\n",
    "#     filefracday = row['filefracday']\n",
    "#     field = f\"000{row['field']}\"\n",
    "#     filtercode = row['filtercode']\n",
    "#     ccdid = row['ccdid']\n",
    "#     imgtypecode = row['imgtypecode']\n",
    "#     qid = row['qid']\n",
    "#     suffix = \"psfcat.fits\"\n",
    "#     filename = f\"ztf_{filefracday}_{field}_{filtercode}_c{ccdid}_{imgtypecode}_q{qid}_{suffix}\"\n",
    "#     url = \"/\".join([base, YYYY, MMDD, fracday, filename])\n",
    "#     urls_arr += url\n",
    "# print(urls_arr[:10])"
   ]
  },
  {
   "cell_type": "markdown",
   "id": "ab8859bc",
   "metadata": {},
   "source": [
    "### Import field=795 query table"
   ]
  },
  {
   "cell_type": "code",
   "execution_count": 4,
   "id": "0b85b59e",
   "metadata": {},
   "outputs": [
    {
     "data": {
      "text/html": [
       "<div><i>Table length=5</i>\n",
       "<table id=\"table2796599769792\" class=\"table-striped table-bordered table-condensed\">\n",
       "<thead><tr><th>ra</th><th>dec</th><th>infobits</th><th>field</th><th>ccdid</th><th>qid</th><th>rcid</th><th>fid</th><th>filtercode</th><th>pid</th><th>nid</th><th>expid</th><th>itid</th><th>imgtype</th><th>imgtypecode</th><th>obsdate</th><th>obsjd</th><th>exptime</th><th>filefracday</th><th>seeing</th><th>airmass</th><th>moonillf</th><th>moonesb</th><th>maglimit</th><th>crpix1</th><th>crpix2</th><th>crval1</th><th>crval2</th><th>cd11</th><th>cd12</th><th>cd21</th><th>cd22</th><th>ra1</th><th>dec1</th><th>ra2</th><th>dec2</th><th>ra3</th><th>dec3</th><th>ra4</th><th>dec4</th><th>ipac_pub_date</th><th>ipac_gid</th></tr></thead>\n",
       "<thead><tr><th>deg</th><th>deg</th><th></th><th></th><th></th><th></th><th></th><th></th><th></th><th></th><th></th><th></th><th></th><th></th><th></th><th></th><th>d</th><th>s</th><th></th><th>arcsec</th><th></th><th></th><th></th><th>mag</th><th>pix</th><th>pix</th><th>deg</th><th>deg</th><th>deg / pix</th><th>deg / pix</th><th>deg / pix</th><th>deg / pix</th><th>deg</th><th>deg</th><th>deg</th><th>deg</th><th>deg</th><th>deg</th><th>deg</th><th>deg</th><th></th><th></th></tr></thead>\n",
       "<thead><tr><th>float64</th><th>float64</th><th>int64</th><th>int64</th><th>int64</th><th>int64</th><th>int64</th><th>int64</th><th>str2</th><th>int64</th><th>int64</th><th>int64</th><th>int64</th><th>str6</th><th>str1</th><th>str26</th><th>float64</th><th>float64</th><th>int64</th><th>float64</th><th>float64</th><th>float64</th><th>float64</th><th>float64</th><th>float64</th><th>float64</th><th>float64</th><th>float64</th><th>float64</th><th>float64</th><th>float64</th><th>float64</th><th>float64</th><th>float64</th><th>float64</th><th>float64</th><th>float64</th><th>float64</th><th>float64</th><th>float64</th><th>str22</th><th>int64</th></tr></thead>\n",
       "<tr><td>245.83269706</td><td>55.49914106</td><td>0</td><td>795</td><td>11</td><td>4</td><td>43</td><td>2</td><td>zr</td><td>553202214315</td><td>553</td><td>55320221</td><td>1</td><td>object</td><td>o</td><td>2018-07-08 04:51:11.555+00</td><td>2458307.7022106</td><td>30.0</td><td>20180708202211</td><td>1.55479002</td><td>1.07299995</td><td>-0.307278991</td><td>0.0</td><td>21.2096004</td><td>1536.5</td><td>1540.5</td><td>245.8326383241</td><td>55.49917705019</td><td>-0.0002812486351572</td><td>2.752789615522e-06</td><td>-2.800402337941e-06</td><td>-0.0002812518646279</td><td>246.59621789</td><td>55.93426149</td><td>245.05389256</td><td>55.92561904</td><td>245.08585066</td><td>55.05946855</td><td>246.59430166</td><td>55.06807639</td><td>2020-06-24 00:00:00+00</td><td>2</td></tr>\n",
       "<tr><td>242.53425352</td><td>56.30053076</td><td>0</td><td>795</td><td>12</td><td>1</td><td>44</td><td>1</td><td>zg</td><td>2365281794415</td><td>2365</td><td>236528179</td><td>1</td><td>object</td><td>o</td><td>2023-06-24 06:45:47.325+00</td><td>2460119.781794</td><td>30.0</td><td>20230624281782</td><td>2.05425</td><td>1.08500004</td><td>0.307837009</td><td>0.0</td><td>21.1693993</td><td>1536.5</td><td>1540.5</td><td>242.5342520805</td><td>56.30050859981</td><td>-0.0002808158925869</td><td>1.654127664556e-05</td><td>-1.644827248266e-05</td><td>-0.0002807932074442</td><td>243.27434072</td><td>56.7558546</td><td>241.70208336</td><td>56.70487486</td><td>241.81122371</td><td>55.84070717</td><td>243.34866346</td><td>55.89067207</td><td>2025-01-07 00:00:00+00</td><td>2</td></tr>\n",
       "<tr><td>250.80195538</td><td>54.35608397</td><td>0</td><td>795</td><td>5</td><td>2</td><td>17</td><td>2</td><td>zr</td><td>1984425101715</td><td>1984</td><td>198442510</td><td>1</td><td>object</td><td>o</td><td>2022-06-08 10:12:09.306+00</td><td>2459738.9251042</td><td>30.0</td><td>20220608425093</td><td>1.55728996</td><td>1.278</td><td>0.581937015</td><td>0.0</td><td>21.0077991</td><td>1536.5</td><td>1540.5</td><td>250.8020188547</td><td>54.35603348862</td><td>-0.000280773293904</td><td>-1.735283543558e-05</td><td>1.733416982548e-05</td><td>-0.0002807575610519</td><td>251.59570197</td><td>54.75914436</td><td>250.10016716</td><td>54.81285519</td><td>250.02386296</td><td>53.94784604</td><td>251.48872371</td><td>53.8950516</td><td>2024-01-08 00:00:00+00</td><td>2</td></tr>\n",
       "<tr><td>245.90216829</td><td>55.47859784</td><td>0</td><td>795</td><td>11</td><td>4</td><td>43</td><td>2</td><td>zr</td><td>1993360524315</td><td>1993</td><td>199336052</td><td>1</td><td>object</td><td>o</td><td>2022-06-17 08:39:09.449+00</td><td>2459747.8605208</td><td>30.0</td><td>20220617360509</td><td>1.47934997</td><td>1.16600001</td><td>-0.879687011</td><td>0.0</td><td>20.7625999</td><td>1536.5</td><td>1540.5</td><td>245.9021555806</td><td>55.47860887891</td><td>-0.0002812854613218</td><td>2.432813976849e-06</td><td>-2.458699951409e-06</td><td>-0.0002812854971088</td><td>246.66638522</td><td>55.91313243</td><td>245.12457239</td><td>55.90568322</td><td>245.15464358</td><td>55.0394991</td><td>246.6625114</td><td>55.04696949</td><td>2024-01-08 00:00:00+00</td><td>2</td></tr>\n",
       "<tr><td>251.01515916</td><td>56.27221105</td><td>0</td><td>795</td><td>9</td><td>2</td><td>33</td><td>2</td><td>zr</td><td>2368286963315</td><td>2368</td><td>236828696</td><td>1</td><td>object</td><td>o</td><td>2023-06-27 06:53:14.125+00</td><td>2460122.7869676</td><td>30.0</td><td>20230627286956</td><td>2.46930003</td><td>1.09500003</td><td>0.594126999</td><td>0.0</td><td>20.4377003</td><td>1536.5</td><td>1540.5</td><td>251.0152314038</td><td>56.27217149944</td><td>-0.0002806837815152</td><td>-1.832906183275e-05</td><td>1.825629882693e-05</td><td>-0.0002806514995715</td><td>251.85119958</td><td>56.67346778</td><td>250.28109949</td><td>56.7301045</td><td>250.19672639</td><td>55.86530423</td><td>251.73228306</td><td>55.80989827</td><td>2023-09-07 00:00:00+00</td><td>1</td></tr>\n",
       "</table></div>"
      ],
      "text/plain": [
       "<Table length=5>\n",
       "     ra          dec     infobits ...     ipac_pub_date      ipac_gid\n",
       "    deg          deg              ...                                \n",
       "  float64      float64    int64   ...         str22           int64  \n",
       "------------ ----------- -------- ... ---------------------- --------\n",
       "245.83269706 55.49914106        0 ... 2020-06-24 00:00:00+00        2\n",
       "242.53425352 56.30053076        0 ... 2025-01-07 00:00:00+00        2\n",
       "250.80195538 54.35608397        0 ... 2024-01-08 00:00:00+00        2\n",
       "245.90216829 55.47859784        0 ... 2024-01-08 00:00:00+00        2\n",
       "251.01515916 56.27221105        0 ... 2023-09-07 00:00:00+00        1"
      ]
     },
     "execution_count": 4,
     "metadata": {},
     "output_type": "execute_result"
    }
   ],
   "source": [
    "t_795 = Table.read(\"C:\\\\Users\\\\lupin\\\\OneDrive\\\\Desktop\\\\LINCC\\\\query_field795.tbl\", format=\"ascii.ipac\")\n",
    "\n",
    "t_795[:5]"
   ]
  },
  {
   "cell_type": "markdown",
   "id": "b7018ecc",
   "metadata": {},
   "source": [
    "#### filter for a single set of parameters\n",
    "filtercode, ccdid, imgtypecode, qid\\\n",
    "suffix is psfcat.fits"
   ]
  },
  {
   "cell_type": "code",
   "execution_count": 5,
   "id": "bfd72579",
   "metadata": {},
   "outputs": [],
   "source": [
    "# syntax: filtered = t[(t['flux'] > 1.0) & (t['z'] < 0.2)]\n",
    "# parentheses are necessary"
   ]
  },
  {
   "cell_type": "code",
   "execution_count": 5,
   "id": "ae11ac9a",
   "metadata": {},
   "outputs": [
    {
     "data": {
      "text/plain": [
       "(1694, 235110)"
      ]
     },
     "execution_count": 5,
     "metadata": {},
     "output_type": "execute_result"
    }
   ],
   "source": [
    "t_795_zr_c01_o_q1 = t_795[(t_795['filtercode'] == 'zr') & (t_795['qid'] == 1) & (t_795['ccdid'] == 1) & (t_795['imgtypecode'] == 'o')]\n",
    "# f\"ztf_{filefracday}_{field}_{filtercode}_c{ccdid}_{imgtypecode}_q{qid}_{suffix}\"\n",
    "len(t_795_zr_c01_o_q1), len(t_795)"
   ]
  },
  {
   "cell_type": "code",
   "execution_count": 6,
   "id": "40324132",
   "metadata": {},
   "outputs": [
    {
     "data": {
      "text/html": [
       "<div><i>Table length=2</i>\n",
       "<table id=\"table2797021071584\" class=\"table-striped table-bordered table-condensed\">\n",
       "<thead><tr><th>ra</th><th>dec</th><th>infobits</th><th>field</th><th>ccdid</th><th>qid</th><th>rcid</th><th>fid</th><th>filtercode</th><th>pid</th><th>nid</th><th>expid</th><th>itid</th><th>imgtype</th><th>imgtypecode</th><th>obsdate</th><th>obsjd</th><th>exptime</th><th>filefracday</th><th>seeing</th><th>airmass</th><th>moonillf</th><th>moonesb</th><th>maglimit</th><th>crpix1</th><th>crpix2</th><th>crval1</th><th>crval2</th><th>cd11</th><th>cd12</th><th>cd21</th><th>cd22</th><th>ra1</th><th>dec1</th><th>ra2</th><th>dec2</th><th>ra3</th><th>dec3</th><th>ra4</th><th>dec4</th><th>ipac_pub_date</th><th>ipac_gid</th></tr></thead>\n",
       "<thead><tr><th>deg</th><th>deg</th><th></th><th></th><th></th><th></th><th></th><th></th><th></th><th></th><th></th><th></th><th></th><th></th><th></th><th></th><th>d</th><th>s</th><th></th><th>arcsec</th><th></th><th></th><th></th><th>mag</th><th>pix</th><th>pix</th><th>deg</th><th>deg</th><th>deg / pix</th><th>deg / pix</th><th>deg / pix</th><th>deg / pix</th><th>deg</th><th>deg</th><th>deg</th><th>deg</th><th>deg</th><th>deg</th><th>deg</th><th>deg</th><th></th><th></th></tr></thead>\n",
       "<thead><tr><th>float64</th><th>float64</th><th>int64</th><th>int64</th><th>int64</th><th>int64</th><th>int64</th><th>int64</th><th>str2</th><th>int64</th><th>int64</th><th>int64</th><th>int64</th><th>str6</th><th>str1</th><th>str26</th><th>float64</th><th>float64</th><th>int64</th><th>float64</th><th>float64</th><th>float64</th><th>float64</th><th>float64</th><th>float64</th><th>float64</th><th>float64</th><th>float64</th><th>float64</th><th>float64</th><th>float64</th><th>float64</th><th>float64</th><th>float64</th><th>float64</th><th>float64</th><th>float64</th><th>float64</th><th>float64</th><th>float64</th><th>str22</th><th>int64</th></tr></thead>\n",
       "<tr><td>251.96900978</td><td>52.44297858</td><td>0</td><td>795</td><td>1</td><td>1</td><td>0</td><td>2</td><td>zr</td><td>519323200015</td><td>519</td><td>51932320</td><td>1</td><td>object</td><td>o</td><td>2018-06-04 07:45:25.127+00</td><td>2458273.823206</td><td>30.0</td><td>20180604323194</td><td>1.99293005</td><td>1.07599998</td><td>-0.729726017</td><td>0.0</td><td>20.7616005</td><td>1536.5</td><td>1540.5</td><td>251.9689868048</td><td>52.44294330486</td><td>-0.0002803325071178</td><td>-2.216581152326e-05</td><td>2.228680662349e-05</td><td>-0.0002803232997059</td><td>252.73809546</td><td>52.83777802</td><td>251.31163838</td><td>52.90705663</td><td>251.21337023</td><td>52.04293188</td><td>252.61250574</td><td>51.97531037</td><td>2019-12-11 00:00:00+00</td><td>2</td></tr>\n",
       "<tr><td>251.95901291</td><td>52.42696114</td><td>0</td><td>795</td><td>1</td><td>1</td><td>0</td><td>2</td><td>zr</td><td>547182010015</td><td>547</td><td>54718201</td><td>1</td><td>object</td><td>o</td><td>2018-07-02 04:22:06.635+00</td><td>2458301.6820139</td><td>30.0</td><td>20180702181968</td><td>2.43827009</td><td>1.10000002</td><td>-0.864785016</td><td>0.0</td><td>20.4754009</td><td>1536.5</td><td>1540.5</td><td>251.9589799988</td><td>52.42692651577</td><td>-0.0002803299413277</td><td>-2.221211384881e-05</td><td>2.231619583144e-05</td><td>-0.0002803185512301</td><td>252.72795045</td><td>52.82171009</td><td>251.30198574</td><td>52.89108034</td><td>251.20347449</td><td>52.02697318</td><td>252.60218223</td><td>51.95924548</td><td>2020-06-24 00:00:00+00</td><td>2</td></tr>\n",
       "</table></div>"
      ],
      "text/plain": [
       "<Table length=2>\n",
       "     ra          dec     infobits ...     ipac_pub_date      ipac_gid\n",
       "    deg          deg              ...                                \n",
       "  float64      float64    int64   ...         str22           int64  \n",
       "------------ ----------- -------- ... ---------------------- --------\n",
       "251.96900978 52.44297858        0 ... 2019-12-11 00:00:00+00        2\n",
       "251.95901291 52.42696114        0 ... 2020-06-24 00:00:00+00        2"
      ]
     },
     "execution_count": 6,
     "metadata": {},
     "output_type": "execute_result"
    }
   ],
   "source": [
    "t_795_zr_c01_o_q1[:2]"
   ]
  },
  {
   "cell_type": "code",
   "execution_count": 7,
   "id": "5dec4cc5",
   "metadata": {},
   "outputs": [],
   "source": [
    "filenames, urls = urls_from_query(t_795_zr_c01_o_q1)"
   ]
  },
  {
   "cell_type": "code",
   "execution_count": 9,
   "id": "12eb2399",
   "metadata": {},
   "outputs": [],
   "source": [
    "# for filename, url in zip(filenames, urls):\n",
    "#     filename = f\"t_795_zr_c01_o_q1/{filename}\"\n",
    "#     !curl -sSf -o {filename} {url}\n",
    "\n",
    "# output: 6 files note found (\"curl: (22) The requested URL returned error: 404\")"
   ]
  },
  {
   "cell_type": "markdown",
   "id": "ef7136d9",
   "metadata": {},
   "source": [
    "### Unit test: save metadata for use in overwritten fitsreader "
   ]
  },
  {
   "cell_type": "code",
   "execution_count": 23,
   "id": "1abfc5fa",
   "metadata": {},
   "outputs": [
    {
     "data": {
      "text/html": [
       "<div><i>Table length=1</i>\n",
       "<table id=\"table2099133885040\" class=\"table-striped table-bordered table-condensed\">\n",
       "<thead><tr><th>ra</th><th>dec</th><th>infobits</th><th>field</th><th>ccdid</th><th>qid</th><th>rcid</th><th>fid</th><th>filtercode</th><th>pid</th><th>nid</th><th>expid</th><th>itid</th><th>imgtype</th><th>imgtypecode</th><th>obsdate</th><th>obsjd</th><th>exptime</th><th>filefracday</th><th>seeing</th><th>airmass</th><th>moonillf</th><th>moonesb</th><th>maglimit</th><th>crpix1</th><th>crpix2</th><th>crval1</th><th>crval2</th><th>cd11</th><th>cd12</th><th>cd21</th><th>cd22</th><th>ra1</th><th>dec1</th><th>ra2</th><th>dec2</th><th>ra3</th><th>dec3</th><th>ra4</th><th>dec4</th><th>ipac_pub_date</th><th>ipac_gid</th></tr></thead>\n",
       "<thead><tr><th>deg</th><th>deg</th><th></th><th></th><th></th><th></th><th></th><th></th><th></th><th></th><th></th><th></th><th></th><th></th><th></th><th></th><th>d</th><th>s</th><th></th><th>arcsec</th><th></th><th></th><th></th><th>mag</th><th>pix</th><th>pix</th><th>deg</th><th>deg</th><th>deg / pix</th><th>deg / pix</th><th>deg / pix</th><th>deg / pix</th><th>deg</th><th>deg</th><th>deg</th><th>deg</th><th>deg</th><th>deg</th><th>deg</th><th>deg</th><th></th><th></th></tr></thead>\n",
       "<thead><tr><th>float64</th><th>float64</th><th>int64</th><th>int64</th><th>int64</th><th>int64</th><th>int64</th><th>int64</th><th>str2</th><th>int64</th><th>int64</th><th>int64</th><th>int64</th><th>str6</th><th>str1</th><th>str26</th><th>float64</th><th>float64</th><th>int64</th><th>float64</th><th>float64</th><th>float64</th><th>float64</th><th>float64</th><th>float64</th><th>float64</th><th>float64</th><th>float64</th><th>float64</th><th>float64</th><th>float64</th><th>float64</th><th>float64</th><th>float64</th><th>float64</th><th>float64</th><th>float64</th><th>float64</th><th>float64</th><th>float64</th><th>str22</th><th>int64</th></tr></thead>\n",
       "<tr><td>251.98365414</td><td>52.37150135</td><td>0</td><td>795</td><td>1</td><td>1</td><td>0</td><td>2</td><td>zr</td><td>893249450015</td><td>893</td><td>89324945</td><td>1</td><td>object</td><td>o</td><td>2019-06-13 05:59:13.102+00</td><td>2458647.749456</td><td>30.0</td><td>20190613249421</td><td>1.64551997</td><td>1.08800006</td><td>0.81556201</td><td>0.0</td><td>20.5263996</td><td>1536.5</td><td>1540.5</td><td>251.9836337285</td><td>52.37149818724</td><td>-0.0002803198686738</td><td>-2.231517323406e-05</td><td>2.243884291977e-05</td><td>-0.0002803307680752</td><td>252.75185019</td><td>52.76604081</td><td>251.32776692</td><td>52.83575383</td><td>251.22881667</td><td>51.97168531</td><td>252.62572927</td><td>51.90366798</td><td>2020-12-09 00:00:00+00</td><td>2</td></tr>\n",
       "</table></div>"
      ],
      "text/plain": [
       "<Table length=1>\n",
       "     ra          dec     infobits ...     ipac_pub_date      ipac_gid\n",
       "    deg          deg              ...                                \n",
       "  float64      float64    int64   ...         str22           int64  \n",
       "------------ ----------- -------- ... ---------------------- --------\n",
       "251.98365414 52.37150135        0 ... 2020-12-09 00:00:00+00        2"
      ]
     },
     "execution_count": 23,
     "metadata": {},
     "output_type": "execute_result"
    }
   ],
   "source": [
    "filename = r\"t_795_zr_c01_o_q1\\ztf_20190613249421_000795_zr_c01_o_q1_psfcat.feather\"\n",
    "row = t_795_zr_c01_o_q1[t_795_zr_c01_o_q1['filefracday'] == 20190613249421]\n",
    "row"
   ]
  },
  {
   "cell_type": "code",
   "execution_count": 24,
   "id": "531ebad5",
   "metadata": {},
   "outputs": [
    {
     "name": "stdout",
     "output_type": "stream",
     "text": [
      "[\n",
      "  [\n",
      "    795\n",
      "  ]\n",
      "]\n"
     ]
    },
    {
     "data": {
      "text/html": [
       "<div>\n",
       "<style scoped>\n",
       "    .dataframe tbody tr th:only-of-type {\n",
       "        vertical-align: middle;\n",
       "    }\n",
       "\n",
       "    .dataframe tbody tr th {\n",
       "        vertical-align: top;\n",
       "    }\n",
       "\n",
       "    .dataframe thead th {\n",
       "        text-align: right;\n",
       "    }\n",
       "</style>\n",
       "<table border=\"1\" class=\"dataframe\">\n",
       "  <thead>\n",
       "    <tr style=\"text-align: right;\">\n",
       "      <th></th>\n",
       "      <th>ra</th>\n",
       "      <th>dec</th>\n",
       "      <th>infobits</th>\n",
       "      <th>field</th>\n",
       "      <th>ccdid</th>\n",
       "      <th>qid</th>\n",
       "      <th>rcid</th>\n",
       "      <th>fid</th>\n",
       "      <th>filtercode</th>\n",
       "      <th>pid</th>\n",
       "      <th>...</th>\n",
       "      <th>ra1</th>\n",
       "      <th>dec1</th>\n",
       "      <th>ra2</th>\n",
       "      <th>dec2</th>\n",
       "      <th>ra3</th>\n",
       "      <th>dec3</th>\n",
       "      <th>ra4</th>\n",
       "      <th>dec4</th>\n",
       "      <th>ipac_pub_date</th>\n",
       "      <th>ipac_gid</th>\n",
       "    </tr>\n",
       "  </thead>\n",
       "  <tbody>\n",
       "    <tr>\n",
       "      <th>0</th>\n",
       "      <td>251.983654</td>\n",
       "      <td>52.371501</td>\n",
       "      <td>0</td>\n",
       "      <td>795</td>\n",
       "      <td>1</td>\n",
       "      <td>1</td>\n",
       "      <td>0</td>\n",
       "      <td>2</td>\n",
       "      <td>zr</td>\n",
       "      <td>893249450015</td>\n",
       "      <td>...</td>\n",
       "      <td>252.75185</td>\n",
       "      <td>52.766041</td>\n",
       "      <td>251.327767</td>\n",
       "      <td>52.835754</td>\n",
       "      <td>251.228817</td>\n",
       "      <td>51.971685</td>\n",
       "      <td>252.625729</td>\n",
       "      <td>51.903668</td>\n",
       "      <td>2020-12-09 00:00:00+00</td>\n",
       "      <td>2</td>\n",
       "    </tr>\n",
       "  </tbody>\n",
       "</table>\n",
       "<p>1 rows × 42 columns</p>\n",
       "</div>"
      ],
      "text/plain": [
       "           ra        dec  infobits  field  ccdid  qid  rcid  fid filtercode  \\\n",
       "0  251.983654  52.371501         0    795      1    1     0    2         zr   \n",
       "\n",
       "            pid  ...        ra1       dec1         ra2       dec2         ra3  \\\n",
       "0  893249450015  ...  252.75185  52.766041  251.327767  52.835754  251.228817   \n",
       "\n",
       "        dec3         ra4       dec4           ipac_pub_date  ipac_gid  \n",
       "0  51.971685  252.625729  51.903668  2020-12-09 00:00:00+00         2  \n",
       "\n",
       "[1 rows x 42 columns]"
      ]
     },
     "execution_count": 24,
     "metadata": {},
     "output_type": "execute_result"
    }
   ],
   "source": [
    "# convert astropy to pyarrow: cast to pd df then to pyarrow\n",
    "df = row.to_pandas()\n",
    "paTable = pa.Table.from_pandas(df, preserve_index=False)\n",
    "print(paTable['field'])\n",
    "df"
   ]
  },
  {
   "cell_type": "code",
   "execution_count": 25,
   "id": "a194bb26",
   "metadata": {},
   "outputs": [],
   "source": [
    "# save metadata with pyarrow feather\n",
    "filepath = UPath(filename)\n",
    "meta_filename = (filepath.parent/(\"meta_\" + filepath.name)).with_suffix(\".feather\")\n",
    "\n",
    "feather.write_feather(paTable, meta_filename)"
   ]
  },
  {
   "cell_type": "code",
   "execution_count": 26,
   "id": "63b65cc2",
   "metadata": {},
   "outputs": [
    {
     "data": {
      "text/plain": [
       "pyarrow.Table\n",
       "ra: double\n",
       "dec: double\n",
       "infobits: int64\n",
       "field: int64\n",
       "ccdid: int64\n",
       "qid: int64\n",
       "rcid: int64\n",
       "fid: int64\n",
       "filtercode: string\n",
       "pid: int64\n",
       "nid: int64\n",
       "expid: int64\n",
       "itid: int64\n",
       "imgtype: string\n",
       "imgtypecode: string\n",
       "obsdate: string\n",
       "obsjd: double\n",
       "exptime: double\n",
       "filefracday: int64\n",
       "seeing: double\n",
       "airmass: double\n",
       "moonillf: double\n",
       "moonesb: double\n",
       "maglimit: double\n",
       "crpix1: double\n",
       "crpix2: double\n",
       "crval1: double\n",
       "crval2: double\n",
       "cd11: double\n",
       "cd12: double\n",
       "cd21: double\n",
       "cd22: double\n",
       "ra1: double\n",
       "dec1: double\n",
       "ra2: double\n",
       "dec2: double\n",
       "ra3: double\n",
       "dec3: double\n",
       "ra4: double\n",
       "dec4: double\n",
       "ipac_pub_date: string\n",
       "ipac_gid: int64\n",
       "----\n",
       "ra: [[251.98365414]]\n",
       "dec: [[52.37150135]]\n",
       "infobits: [[0]]\n",
       "field: [[795]]\n",
       "ccdid: [[1]]\n",
       "qid: [[1]]\n",
       "rcid: [[0]]\n",
       "fid: [[2]]\n",
       "filtercode: [[\"zr\"]]\n",
       "pid: [[893249450015]]\n",
       "..."
      ]
     },
     "execution_count": 26,
     "metadata": {},
     "output_type": "execute_result"
    }
   ],
   "source": [
    "feather_test = feather.read_table(meta_filename)\n",
    "feather_test"
   ]
  },
  {
   "cell_type": "code",
   "execution_count": 27,
   "id": "f9e803a8",
   "metadata": {},
   "outputs": [
    {
     "data": {
      "text/plain": [
       "(<pyarrow.Int64Scalar: 89324945>,\n",
       " <pyarrow.Int64Scalar: 0>,\n",
       " <pyarrow.DoubleScalar: 2458647.749456>,\n",
       " <pyarrow.Int64Scalar: 795>)"
      ]
     },
     "execution_count": 27,
     "metadata": {},
     "output_type": "execute_result"
    }
   ],
   "source": [
    "feather_test['expid'][0], feather_test['rcid'][0], feather_test['obsjd'][0], feather_test['field'][0]"
   ]
  },
  {
   "cell_type": "markdown",
   "id": "84213a2a",
   "metadata": {},
   "source": [
    "### Save metadata for all urls"
   ]
  },
  {
   "cell_type": "code",
   "execution_count": 33,
   "id": "519fcb64",
   "metadata": {},
   "outputs": [],
   "source": [
    "for filename in filenames:\n",
    "\trow = t_795_zr_c01_o_q1[t_795_zr_c01_o_q1['filefracday'] == int(filename.split(\"_\")[1])]\n",
    "\tdf = row.to_pandas()\n",
    "\tpaTable = pa.Table.from_pandas(df, preserve_index=False)\n",
    "\tfilepath = UPath(filename)\n",
    "\tmeta_filename =  't_795_zr_c01_o_q1'/UPath(\"meta_\" + filepath.name).with_suffix(\".feather\")\n",
    "\tif (len(paTable) > 0):\n",
    "\t\tfeather.write_feather(paTable, meta_filename)\n",
    "\telse:\n",
    "\t\tprint(\"Not written to:\", meta_filename)"
   ]
  },
  {
   "cell_type": "code",
   "execution_count": 12,
   "id": "8dfdc477",
   "metadata": {},
   "outputs": [
    {
     "data": {
      "text/plain": [
       "pyarrow.Table\n",
       "ra: double\n",
       "dec: double\n",
       "infobits: int64\n",
       "field: int64\n",
       "ccdid: int64\n",
       "qid: int64\n",
       "rcid: int64\n",
       "fid: int64\n",
       "filtercode: null\n",
       "pid: int64\n",
       "nid: int64\n",
       "expid: int64\n",
       "itid: int64\n",
       "imgtype: null\n",
       "imgtypecode: null\n",
       "obsdate: null\n",
       "obsjd: double\n",
       "exptime: double\n",
       "filefracday: int64\n",
       "seeing: double\n",
       "airmass: double\n",
       "moonillf: double\n",
       "moonesb: double\n",
       "maglimit: double\n",
       "crpix1: double\n",
       "crpix2: double\n",
       "crval1: double\n",
       "crval2: double\n",
       "cd11: double\n",
       "cd12: double\n",
       "cd21: double\n",
       "cd22: double\n",
       "ra1: double\n",
       "dec1: double\n",
       "ra2: double\n",
       "dec2: double\n",
       "ra3: double\n",
       "dec3: double\n",
       "ra4: double\n",
       "dec4: double\n",
       "ipac_pub_date: null\n",
       "ipac_gid: int64\n",
       "----\n",
       "ra: []\n",
       "dec: []\n",
       "infobits: []\n",
       "field: []\n",
       "ccdid: []\n",
       "qid: []\n",
       "rcid: []\n",
       "fid: []\n",
       "filtercode: []\n",
       "pid: []\n",
       "..."
      ]
     },
     "execution_count": 12,
     "metadata": {},
     "output_type": "execute_result"
    }
   ],
   "source": [
    "feather.read_table('t_795_zr_c01_o_q1/meta_ztf_20180321399988_000795_zr_c01_o_q1_psfcat.feather')"
   ]
  },
  {
   "cell_type": "code",
   "execution_count": null,
   "id": "c83216c9",
   "metadata": {},
   "outputs": [
    {
     "data": {
      "text/plain": [
       "pyarrow.Table\n",
       "ra: double\n",
       "dec: double\n",
       "infobits: int64\n",
       "field: int64\n",
       "ccdid: int64\n",
       "qid: int64\n",
       "rcid: int64\n",
       "fid: int64\n",
       "filtercode: null\n",
       "pid: int64\n",
       "nid: int64\n",
       "expid: int64\n",
       "itid: int64\n",
       "imgtype: null\n",
       "imgtypecode: null\n",
       "obsdate: null\n",
       "obsjd: double\n",
       "exptime: double\n",
       "filefracday: int64\n",
       "seeing: double\n",
       "airmass: double\n",
       "moonillf: double\n",
       "moonesb: double\n",
       "maglimit: double\n",
       "crpix1: double\n",
       "crpix2: double\n",
       "crval1: double\n",
       "crval2: double\n",
       "cd11: double\n",
       "cd12: double\n",
       "cd21: double\n",
       "cd22: double\n",
       "ra1: double\n",
       "dec1: double\n",
       "ra2: double\n",
       "dec2: double\n",
       "ra3: double\n",
       "dec3: double\n",
       "ra4: double\n",
       "dec4: double\n",
       "ipac_pub_date: null\n",
       "ipac_gid: int64\n",
       "----\n",
       "ra: []\n",
       "dec: []\n",
       "infobits: []\n",
       "field: []\n",
       "ccdid: []\n",
       "qid: []\n",
       "rcid: []\n",
       "fid: []\n",
       "filtercode: []\n",
       "pid: []\n",
       "..."
      ]
     },
     "execution_count": 11,
     "metadata": {},
     "output_type": "execute_result"
    }
   ],
   "source": [
    "feather.read_table('ztf_dr23\\meta_ztf_20180608284988_000795_zr_c01_o_q1_psfcat.feather')"
   ]
  },
  {
   "cell_type": "code",
   "execution_count": null,
   "id": "f18e8676",
   "metadata": {},
   "outputs": [],
   "source": []
  }
 ],
 "metadata": {
  "kernelspec": {
   "display_name": "lsdb_m25",
   "language": "python",
   "name": "python3"
  },
  "language_info": {
   "codemirror_mode": {
    "name": "ipython",
    "version": 3
   },
   "file_extension": ".py",
   "mimetype": "text/x-python",
   "name": "python",
   "nbconvert_exporter": "python",
   "pygments_lexer": "ipython3",
   "version": "3.10.6"
  }
 },
 "nbformat": 4,
 "nbformat_minor": 5
}
