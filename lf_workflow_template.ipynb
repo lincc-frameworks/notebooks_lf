{
 "cells": [
  {
   "cell_type": "markdown",
   "id": "6e01484c-35b4-47ca-9cae-322af77c1382",
   "metadata": {},
   "source": [
    "## LINCC Frameworks Workflow Template\n",
    "This notebook serves as a template for creating a \"wishlist\" (pseudo-code) workflow for a particular science use case for LINCC Frameworks software. The following sections are meant to serve as some structure to aid in workflow creation, but should not be considered as boundaries if that structure does not fit."
   ]
  },
  {
   "cell_type": "markdown",
   "id": "6d0fb105-723a-4e4b-bbc0-9a8ad5d811d5",
   "metadata": {},
   "source": [
    "# Workflow: Title\n",
    "\n",
    "Summary: This workflow is meant to enable this goal.\n",
    "\n",
    "Stakeholders:"
   ]
  },
  {
   "cell_type": "markdown",
   "id": "dd1ba30d-55ef-40d4-a421-0a760ec3efff",
   "metadata": {},
   "source": [
    "## Imports: What packages are being used? (only the most important is fine)"
   ]
  },
  {
   "cell_type": "code",
   "execution_count": 1,
   "id": "f1813304-fcdf-48c3-836e-4041041ec9f9",
   "metadata": {},
   "outputs": [],
   "source": [
    "# Import List\n",
    "\n",
    "# import astropy"
   ]
  },
  {
   "cell_type": "markdown",
   "id": "8da81fb8-df38-4999-8ac8-9ee4342b4169",
   "metadata": {},
   "source": [
    "## Data I/O: What data are we using? How do we load it?"
   ]
  },
  {
   "cell_type": "code",
   "execution_count": 3,
   "id": "ee99488f-18d3-44d0-a77d-6c2b72b472d8",
   "metadata": {},
   "outputs": [],
   "source": [
    "# Datapaths\n",
    "\n",
    "# path = /path/to/my/data/data.extension"
   ]
  },
  {
   "cell_type": "code",
   "execution_count": null,
   "id": "c1993a55-3e25-44cd-af68-f2fc8039aa3d",
   "metadata": {},
   "outputs": [],
   "source": [
    "# Loading \n",
    "\n",
    "# my_data = package.load(path)"
   ]
  },
  {
   "cell_type": "markdown",
   "id": "42f86e51-f30b-4dac-aebc-947f634941fa",
   "metadata": {},
   "source": [
    "## Data Preprocessing: What do we need to do to the data prior to analysis?"
   ]
  },
  {
   "cell_type": "code",
   "execution_count": 4,
   "id": "6dbf3850-70c4-4eea-870b-0d33c324e7ea",
   "metadata": {},
   "outputs": [],
   "source": [
    "#  Pre-processing\n",
    "# cross-matches, normalization, pre-filtering?"
   ]
  },
  {
   "cell_type": "markdown",
   "id": "fbb86cad-ce7d-4815-9f55-12808946e50c",
   "metadata": {},
   "source": [
    "## Analysis: What are we using the data to do?"
   ]
  },
  {
   "cell_type": "code",
   "execution_count": null,
   "id": "d9c6c2f2-867e-4e04-bed9-98a8d269231c",
   "metadata": {},
   "outputs": [],
   "source": [
    "# Analysis"
   ]
  },
  {
   "cell_type": "markdown",
   "id": "e5e97b7a-e0a5-4ae6-8114-1d2d298dc925",
   "metadata": {},
   "source": [
    "## Results Inspection/Visualization: How would we like to interact with the results?"
   ]
  },
  {
   "cell_type": "code",
   "execution_count": null,
   "id": "d8af899d-b086-4c08-bf36-88aef7b66948",
   "metadata": {},
   "outputs": [],
   "source": [
    "# Plotting results, sanity checking?"
   ]
  }
 ],
 "metadata": {
  "kernelspec": {
   "display_name": "Python 3 (ipykernel)",
   "language": "python",
   "name": "python3"
  },
  "language_info": {
   "codemirror_mode": {
    "name": "ipython",
    "version": 3
   },
   "file_extension": ".py",
   "mimetype": "text/x-python",
   "name": "python",
   "nbconvert_exporter": "python",
   "pygments_lexer": "ipython3",
   "version": "3.10.11"
  }
 },
 "nbformat": 4,
 "nbformat_minor": 5
}
