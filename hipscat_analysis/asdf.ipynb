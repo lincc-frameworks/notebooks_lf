{
 "cells": [
  {
   "cell_type": "code",
   "execution_count": 10,
   "metadata": {},
   "outputs": [
    {
     "data": {
      "application/vnd.jupyter.widget-view+json": {
       "model_id": "5776a4c55f3c481dbb10763a6838bcde",
       "version_major": 2,
       "version_minor": 0
      },
      "text/plain": [
       "Planning  :   0%|          | 0/5 [00:00<?, ?it/s]"
      ]
     },
     "metadata": {},
     "output_type": "display_data"
    },
    {
     "data": {
      "application/vnd.jupyter.widget-view+json": {
       "model_id": "b300164779494194aef45b50ecb26491",
       "version_major": 2,
       "version_minor": 0
      },
      "text/plain": [
       "Mapping   :   0%|          | 0/1 [00:00<?, ?it/s]"
      ]
     },
     "metadata": {},
     "output_type": "display_data"
    },
    {
     "name": "stderr",
     "output_type": "stream",
     "text": [
      "/home/delucchi/anaconda3/envs/hipscatenv/lib/python3.10/site-packages/asdf/yamlutil.py:333: AsdfConversionWarning: asdf://stsci.edu/datamodels/roman/tags/calibration_software_version-1.0.0 is not recognized, converting to raw Python data structure\n",
      "  warnings.warn(\n",
      "/home/delucchi/anaconda3/envs/hipscatenv/lib/python3.10/site-packages/asdf/yamlutil.py:333: AsdfConversionWarning: asdf://stsci.edu/datamodels/roman/tags/exposure-1.0.0 is not recognized, converting to raw Python data structure\n",
      "  warnings.warn(\n",
      "/home/delucchi/anaconda3/envs/hipscatenv/lib/python3.10/site-packages/asdf/yamlutil.py:333: AsdfConversionWarning: asdf://stsci.edu/datamodels/roman/tags/file_date-1.0.0 is not recognized, converting to raw Python data structure\n",
      "  warnings.warn(\n",
      "/home/delucchi/anaconda3/envs/hipscatenv/lib/python3.10/site-packages/asdf/yamlutil.py:333: AsdfConversionWarning: asdf://stsci.edu/datamodels/roman/tags/filename-1.0.0 is not recognized, converting to raw Python data structure\n",
      "  warnings.warn(\n",
      "/home/delucchi/anaconda3/envs/hipscatenv/lib/python3.10/site-packages/asdf/yamlutil.py:333: AsdfConversionWarning: asdf://stsci.edu/datamodels/roman/tags/model_type-1.0.0 is not recognized, converting to raw Python data structure\n",
      "  warnings.warn(\n",
      "/home/delucchi/anaconda3/envs/hipscatenv/lib/python3.10/site-packages/asdf/yamlutil.py:333: AsdfConversionWarning: asdf://stsci.edu/datamodels/roman/tags/origin-1.0.0 is not recognized, converting to raw Python data structure\n",
      "  warnings.warn(\n",
      "/home/delucchi/anaconda3/envs/hipscatenv/lib/python3.10/site-packages/asdf/yamlutil.py:333: AsdfConversionWarning: asdf://stsci.edu/datamodels/roman/tags/photometry-1.0.0 is not recognized, converting to raw Python data structure\n",
      "  warnings.warn(\n",
      "/home/delucchi/anaconda3/envs/hipscatenv/lib/python3.10/site-packages/asdf/yamlutil.py:333: AsdfConversionWarning: asdf://stsci.edu/datamodels/roman/tags/prd_software_version-1.0.0 is not recognized, converting to raw Python data structure\n",
      "  warnings.warn(\n",
      "/home/delucchi/anaconda3/envs/hipscatenv/lib/python3.10/site-packages/asdf/yamlutil.py:333: AsdfConversionWarning: asdf://stsci.edu/datamodels/roman/tags/program-1.0.0 is not recognized, converting to raw Python data structure\n",
      "  warnings.warn(\n",
      "/home/delucchi/anaconda3/envs/hipscatenv/lib/python3.10/site-packages/asdf/yamlutil.py:333: AsdfConversionWarning: asdf://stsci.edu/datamodels/roman/tags/sdf_software_version-1.0.0 is not recognized, converting to raw Python data structure\n",
      "  warnings.warn(\n",
      "/home/delucchi/anaconda3/envs/hipscatenv/lib/python3.10/site-packages/asdf/yamlutil.py:333: AsdfConversionWarning: asdf://stsci.edu/datamodels/roman/tags/telescope-1.0.0 is not recognized, converting to raw Python data structure\n",
      "  warnings.warn(\n",
      "/home/delucchi/anaconda3/envs/hipscatenv/lib/python3.10/site-packages/asdf/yamlutil.py:333: AsdfConversionWarning: asdf://stsci.edu/datamodels/roman/tags/visit-1.0.0 is not recognized, converting to raw Python data structure\n",
      "  warnings.warn(\n",
      "/home/delucchi/anaconda3/envs/hipscatenv/lib/python3.10/site-packages/asdf/yamlutil.py:333: AsdfConversionWarning: asdf://stsci.edu/datamodels/roman/tags/source_catalog-1.0.0 is not recognized, converting to raw Python data structure\n",
      "  warnings.warn(\n",
      "/home/delucchi/anaconda3/envs/hipscatenv/lib/python3.10/site-packages/asdf/_asdf.py:362: AsdfPackageVersionWarning: File 'file:///home/delucchi/git/stsci/example.asdf' was created with extension URI 'asdf://stsci.edu/datamodels/roman/extensions/datamodels-1.0' (from package roman_datamodels==0.19.2.dev4+g322f74e), which is not currently installed\n",
      "  warnings.warn(msg, AsdfPackageVersionWarning)\n"
     ]
    },
    {
     "data": {
      "application/vnd.jupyter.widget-view+json": {
       "model_id": "cbfc477730084b89930b569914300eb6",
       "version_major": 2,
       "version_minor": 0
      },
      "text/plain": [
       "Binning   :   0%|          | 0/2 [00:00<?, ?it/s]"
      ]
     },
     "metadata": {},
     "output_type": "display_data"
    },
    {
     "data": {
      "application/vnd.jupyter.widget-view+json": {
       "model_id": "eb83da7d531341769051596bd3a27f6a",
       "version_major": 2,
       "version_minor": 0
      },
      "text/plain": [
       "Splitting :   0%|          | 0/1 [00:00<?, ?it/s]"
      ]
     },
     "metadata": {},
     "output_type": "display_data"
    },
    {
     "data": {
      "application/vnd.jupyter.widget-view+json": {
       "model_id": "a8ad9bad18154aebaabe0cfe47f26f73",
       "version_major": 2,
       "version_minor": 0
      },
      "text/plain": [
       "Reducing  :   0%|          | 0/2 [00:00<?, ?it/s]"
      ]
     },
     "metadata": {},
     "output_type": "display_data"
    },
    {
     "data": {
      "application/vnd.jupyter.widget-view+json": {
       "model_id": "062e0690ef604beb99d8b9ff65931ee4",
       "version_major": 2,
       "version_minor": 0
      },
      "text/plain": [
       "Finishing :   0%|          | 0/5 [00:00<?, ?it/s]"
      ]
     },
     "metadata": {},
     "output_type": "display_data"
    }
   ],
   "source": [
    "from asdf_reader import ASDFReader\n",
    "\n",
    "import hipscat_import.pipeline as runner\n",
    "from hipscat_import.catalog.arguments import ImportArguments\n",
    "from hipscat_import.catalog.file_readers import ParquetReader\n",
    "import pyarrow.parquet as pq\n",
    "import pyarrow as pa\n",
    "import re\n",
    "import glob\n",
    "\n",
    "\n",
    "args = ImportArguments(\n",
    "    output_artifact_name=\"asdf_ex20\",\n",
    "    input_file_list=['example.asdf'],\n",
    "    ## NB - you need the parens here!\n",
    "    file_reader=ASDFReader(chunksize=10),\n",
    "    ra_column=\"ra_centroid\",\n",
    "    dec_column=\"dec_centroid\",\n",
    "    sort_columns=\"label\",\n",
    "    # highest_healpix_order=10,\n",
    "    pixel_threshold=100,\n",
    "    output_path=\".\",\n",
    ")\n",
    "\n",
    "runner.pipeline(args)"
   ]
  },
  {
   "cell_type": "code",
   "execution_count": 12,
   "metadata": {},
   "outputs": [
    {
     "data": {
      "image/png": "[encoded data removed]",
      "text/plain": [
       "<Figure size 850x540 with 1 Axes>"
      ]
     },
     "metadata": {},
     "output_type": "display_data"
    }
   ],
   "source": [
    "import hipscat\n",
    "\n",
    "cat = hipscat.read_from_hipscat(\"./asdf_ex20\")\n",
    "\n",
    "hipscat.inspection.plot_pixels(cat)"
   ]
  },
  {
   "cell_type": "code",
   "execution_count": null,
   "metadata": {},
   "outputs": [],
   "source": []
  }
 ],
 "metadata": {
  "kernelspec": {
   "display_name": "hipscatenv",
   "language": "python",
   "name": "python3"
  },
  "language_info": {
   "codemirror_mode": {
    "name": "ipython",
    "version": 3
   },
   "file_extension": ".py",
   "mimetype": "text/x-python",
   "name": "python",
   "nbconvert_exporter": "python",
   "pygments_lexer": "ipython3",
   "version": "3.10.14"
  }
 },
 "nbformat": 4,
 "nbformat_minor": 2
}
