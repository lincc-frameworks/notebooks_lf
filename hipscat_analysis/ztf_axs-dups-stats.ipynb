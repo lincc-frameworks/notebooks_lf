{
 "cells": [
  {
   "cell_type": "markdown",
   "id": "9f1332f5-f067-488c-b5cc-16e2d60ddaf4",
   "metadata": {},
   "source": [
    "# Analysis of duplicates in `ztf_axs/ztf_dr14`\n",
    "\n",
    "I use the hipscated version of the dataset here to show that it contains\n",
    "positional and PS1 index duplicates"
   ]
  },
  {
   "cell_type": "code",
   "execution_count": null,
   "id": "ddb40a76-f9d3-4a3d-b11e-b89137c58081",
   "metadata": {},
   "outputs": [],
   "source": [
    "# !pip install polars"
   ]
  },
  {
   "cell_type": "code",
   "execution_count": 1,
   "id": "16ba5ab4-9b19-41a4-8a01-6b2b5cb624c3",
   "metadata": {
    "tags": []
   },
   "outputs": [],
   "source": [
    "from pathlib import Path\n",
    "\n",
    "import polars as pl\n",
    "from polars import col"
   ]
  },
  {
   "cell_type": "code",
   "execution_count": 2,
   "id": "5e89ccc8-9830-4bbc-91d7-1099603f5503",
   "metadata": {},
   "outputs": [],
   "source": [
    "# PSC location\n",
    "DIR = '/jet/home/malanche/shared/hipscat/catalogs/ztf_axs/ztf_dr14/'"
   ]
  },
  {
   "cell_type": "code",
   "execution_count": 3,
   "id": "1ccf1de5-dc24-4b35-88c2-0f32b25db3f2",
   "metadata": {},
   "outputs": [],
   "source": [
    "def hist(*group_by_cols, select=None):\n",
    "    if select is None:\n",
    "        select = group_by_cols\n",
    "    \n",
    "    dfs = []\n",
    "    for file in (Path(DIR).glob('**/*.parquet')):\n",
    "        df = (\n",
    "            pl.scan_parquet(file, hive_partitioning=False)\n",
    "            .select(select)\n",
    "        )\n",
    "        dfs.append(df)\n",
    "    \n",
    "    result = (\n",
    "        pl.concat(dfs)\n",
    "        .group_by(*group_by_cols)\n",
    "        .count()\n",
    "        .select(col('count').alias('N_dups'))\n",
    "        .filter(col('N_dups') > 1)\n",
    "        .group_by('N_dups')\n",
    "        .count()\n",
    "        .sort('N_dups')\n",
    "    )\n",
    "    return result.collect()"
   ]
  },
  {
   "cell_type": "markdown",
   "id": "6c63058e-7d47-4cc6-aadb-8aca25fdadce",
   "metadata": {},
   "source": [
    "### PS1 object ID duplicates\n",
    "Probably due to some issues in AXS- or Hipscat- import"
   ]
  },
  {
   "cell_type": "code",
   "execution_count": 4,
   "id": "5494704f-0b11-409a-a897-0cefd185d584",
   "metadata": {},
   "outputs": [
    {
     "name": "stdout",
     "output_type": "stream",
     "text": [
      "CPU times: user 26min 11s, sys: 6min 11s, total: 32min 23s\n",
      "Wall time: 1min 58s\n"
     ]
    },
    {
     "data": {
      "text/html": [
       "<div><style>\n",
       ".dataframe > thead > tr > th,\n",
       ".dataframe > tbody > tr > td {\n",
       "  text-align: right;\n",
       "  white-space: pre-wrap;\n",
       "}\n",
       "</style>\n",
       "<small>shape: (1, 2)</small><table border=\"1\" class=\"dataframe\"><thead><tr><th>N_dups</th><th>count</th></tr><tr><td>u32</td><td>u32</td></tr></thead><tbody><tr><td>2</td><td>214561</td></tr></tbody></table></div>"
      ],
      "text/plain": [
       "shape: (1, 2)\n",
       "┌────────┬────────┐\n",
       "│ N_dups ┆ count  │\n",
       "│ ---    ┆ ---    │\n",
       "│ u32    ┆ u32    │\n",
       "╞════════╪════════╡\n",
       "│ 2      ┆ 214561 │\n",
       "└────────┴────────┘"
      ]
     },
     "execution_count": 4,
     "metadata": {},
     "output_type": "execute_result"
    }
   ],
   "source": [
    "%%time\n",
    "\n",
    "hist('ps1_objid')"
   ]
  },
  {
   "cell_type": "markdown",
   "id": "6873372e-3074-48ac-9154-f35babeb2eda",
   "metadata": {},
   "source": [
    "### Exact position duplicates\n",
    "\n",
    "Probably due to PS1 skycell overlapping"
   ]
  },
  {
   "cell_type": "code",
   "execution_count": 5,
   "id": "76ac5193-87c4-4cb3-ad4e-3152418076f6",
   "metadata": {},
   "outputs": [
    {
     "name": "stdout",
     "output_type": "stream",
     "text": [
      "CPU times: user 26min 26s, sys: 9min 20s, total: 35min 46s\n",
      "Wall time: 1min 20s\n"
     ]
    },
    {
     "data": {
      "text/html": [
       "<div><style>\n",
       ".dataframe > thead > tr > th,\n",
       ".dataframe > tbody > tr > td {\n",
       "  text-align: right;\n",
       "  white-space: pre-wrap;\n",
       "}\n",
       "</style>\n",
       "<small>shape: (5, 2)</small><table border=\"1\" class=\"dataframe\"><thead><tr><th>N_dups</th><th>count</th></tr><tr><td>u32</td><td>u32</td></tr></thead><tbody><tr><td>2</td><td>27342697</td></tr><tr><td>3</td><td>694450</td></tr><tr><td>4</td><td>18570</td></tr><tr><td>5</td><td>248</td></tr><tr><td>6</td><td>111</td></tr></tbody></table></div>"
      ],
      "text/plain": [
       "shape: (5, 2)\n",
       "┌────────┬──────────┐\n",
       "│ N_dups ┆ count    │\n",
       "│ ---    ┆ ---      │\n",
       "│ u32    ┆ u32      │\n",
       "╞════════╪══════════╡\n",
       "│ 2      ┆ 27342697 │\n",
       "│ 3      ┆ 694450   │\n",
       "│ 4      ┆ 18570    │\n",
       "│ 5      ┆ 248      │\n",
       "│ 6      ┆ 111      │\n",
       "└────────┴──────────┘"
      ]
     },
     "execution_count": 5,
     "metadata": {},
     "output_type": "execute_result"
    }
   ],
   "source": [
    "%%time\n",
    "\n",
    "hist('ra', 'dec')"
   ]
  },
  {
   "cell_type": "markdown",
   "id": "5ae23ae4-f81c-44a3-890f-e0f7d359d1e2",
   "metadata": {},
   "source": [
    "### Approximate position duplicates\n",
    "#### Objects sharing the same healpix norder=19 tile\n",
    "Probably the same, but with some floating point rounding errors"
   ]
  },
  {
   "cell_type": "code",
   "execution_count": 6,
   "id": "4405dd86-888a-45be-9afb-70157a4f0e4f",
   "metadata": {},
   "outputs": [
    {
     "name": "stdout",
     "output_type": "stream",
     "text": [
      "CPU times: user 21min 25s, sys: 16min 59s, total: 38min 25s\n",
      "Wall time: 1min 6s\n"
     ]
    },
    {
     "data": {
      "text/html": [
       "<div><style>\n",
       ".dataframe > thead > tr > th,\n",
       ".dataframe > tbody > tr > td {\n",
       "  text-align: right;\n",
       "  white-space: pre-wrap;\n",
       "}\n",
       "</style>\n",
       "<small>shape: (5, 2)</small><table border=\"1\" class=\"dataframe\"><thead><tr><th>N_dups</th><th>count</th></tr><tr><td>u32</td><td>u32</td></tr></thead><tbody><tr><td>2</td><td>31025043</td></tr><tr><td>3</td><td>941139</td></tr><tr><td>4</td><td>29881</td></tr><tr><td>5</td><td>550</td></tr><tr><td>6</td><td>153</td></tr></tbody></table></div>"
      ],
      "text/plain": [
       "shape: (5, 2)\n",
       "┌────────┬──────────┐\n",
       "│ N_dups ┆ count    │\n",
       "│ ---    ┆ ---      │\n",
       "│ u32    ┆ u32      │\n",
       "╞════════╪══════════╡\n",
       "│ 2      ┆ 31025043 │\n",
       "│ 3      ┆ 941139   │\n",
       "│ 4      ┆ 29881    │\n",
       "│ 5      ┆ 550      │\n",
       "│ 6      ┆ 153      │\n",
       "└────────┴──────────┘"
      ]
     },
     "execution_count": 6,
     "metadata": {},
     "output_type": "execute_result"
    }
   ],
   "source": [
    "%%time\n",
    "\n",
    "# From hipscat code, 19 is Norder used for the index\n",
    "shift_by = (64 - (4 + 2 * 19))\n",
    "# polars doesn't have a native support of bit-shifts\n",
    "hist('healpix19', select=(pl.col('_hipscat_index') // (1 << shift_by)).alias('healpix19'))"
   ]
  },
  {
   "cell_type": "code",
   "execution_count": null,
   "id": "7c6a641d-f56a-4dac-ad38-80701eda19e0",
   "metadata": {},
   "outputs": [],
   "source": []
  }
 ],
 "metadata": {
  "kernelspec": {
   "display_name": "tape-venv-python3.9",
   "language": "python",
   "name": "tape-venv-python3.9"
  },
  "language_info": {
   "codemirror_mode": {
    "name": "ipython",
    "version": 3
   },
   "file_extension": ".py",
   "mimetype": "text/x-python",
   "name": "python",
   "nbconvert_exporter": "python",
   "pygments_lexer": "ipython3",
   "version": "3.9.13"
  }
 },
 "nbformat": 4,
 "nbformat_minor": 5
}
