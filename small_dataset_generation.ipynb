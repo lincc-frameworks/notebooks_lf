{
 "cells": [
  {
   "cell_type": "code",
   "execution_count": null,
   "metadata": {},
   "outputs": [],
   "source": [
    "import lsdb\n",
    "import os\n",
    "from dask.distributed import Client\n",
    "\n",
    "import dask\n",
    "dask.config.set({'temporary_directory': '/data/epyc/users/brantd/tmp'})\n",
    "\n",
    "client = Client(n_workers=6)"
   ]
  },
  {
   "cell_type": "code",
   "execution_count": null,
   "metadata": {},
   "outputs": [],
   "source": [
    "# Define path and the shared field details\n",
    "cat_path = \"/astro/store/epyc3/data3/hipscat/catalogs\"\n",
    "out_path = \"/data/epyc/users/lincc-frameworks/public_html/half_degree_surveys/\"\n",
    "\n",
    "\n",
    "\n",
    "field_ra = 180.0\n",
    "field_dec = 10.0\n",
    "field_radius = 0.5 # Degrees in LSDB 0.1.1"
   ]
  },
  {
   "attachments": {},
   "cell_type": "markdown",
   "metadata": {},
   "source": [
    "## Gaia"
   ]
  },
  {
   "cell_type": "code",
   "execution_count": null,
   "metadata": {},
   "outputs": [],
   "source": [
    "gaia_path = os.path.join(cat_path, \"gaia/gaia\")\n",
    "gaia_object = lsdb.read_hipscat(gaia_path)\n",
    "\n",
    "gaia_object_cone = gaia_object.cone_search(ra=field_ra,\n",
    "    dec=field_dec,\n",
    "    radius=field_radius,\n",
    ")\n",
    "\n",
    "#gaia_object_cone.to_hipscat(os.path.join(out_path,\"gaia\"), catalog_name=\"gaia_halfdegree\")"
   ]
  },
  {
   "cell_type": "code",
   "execution_count": null,
   "metadata": {},
   "outputs": [],
   "source": [
    "gaia_object_cone"
   ]
  },
  {
   "cell_type": "code",
   "execution_count": null,
   "metadata": {},
   "outputs": [],
   "source": [
    "len(gaia_object_cone._ddf)"
   ]
  },
  {
   "attachments": {},
   "cell_type": "markdown",
   "metadata": {},
   "source": [
    "## ZTF"
   ]
  },
  {
   "cell_type": "code",
   "execution_count": null,
   "metadata": {},
   "outputs": [],
   "source": [
    "ztf_obj_path = os.path.join(cat_path, \"ztf_axs/ztf_dr14\")\n",
    "ztf_src_path = os.path.join(cat_path, \"ztf_axs/ztf_source\")\n",
    "\n",
    "ztf_object = lsdb.read_hipscat(ztf_obj_path)\n",
    "ztf_source = lsdb.read_hipscat(ztf_src_path)\n",
    "\n",
    "ztf_object_cone = ztf_object.cone_search(ra=field_ra,\n",
    "    dec=field_dec,\n",
    "    radius=field_radius,\n",
    ")\n",
    "\n",
    "ztf_source_cone = ztf_source.cone_search(ra=field_ra,\n",
    "    dec=field_dec,\n",
    "    radius=field_radius,\n",
    ")\n",
    "\n",
    "#ztf_object_cone.to_hipscat(os.path.join(out_path,\"ztf/ztf_object\"), catalog_name=\"ztf_object_halfdegree\")\n",
    "#ztf_source_cone.to_hipscat(os.path.join(out_path,\"ztf/ztf_source\"), catalog_name=\"ztf_source_halfdegree\")"
   ]
  },
  {
   "cell_type": "code",
   "execution_count": null,
   "metadata": {},
   "outputs": [],
   "source": [
    "print(len(ztf_object_cone._ddf), len(ztf_source_cone._ddf))"
   ]
  },
  {
   "attachments": {},
   "cell_type": "markdown",
   "metadata": {},
   "source": [
    "## Zubercal"
   ]
  },
  {
   "cell_type": "code",
   "execution_count": null,
   "metadata": {},
   "outputs": [],
   "source": [
    "zub_src_path = os.path.join(cat_path, \"zubercal\")\n",
    "\n",
    "zub_source = lsdb.read_hipscat(ztf_src_path)\n",
    "\n",
    "zub_source_cone = zub_source.cone_search(ra=field_ra,\n",
    "    dec=field_dec,\n",
    "    radius=field_radius,\n",
    ")\n",
    "\n",
    "#zub_source_cone.to_hipscat(os.path.join(out_path,\"ztf/zubercal_source\"), catalog_name=\"zubercal_halfdegree\")"
   ]
  },
  {
   "cell_type": "code",
   "execution_count": null,
   "metadata": {},
   "outputs": [],
   "source": [
    "len(zub_source_cone._ddf)"
   ]
  },
  {
   "attachments": {},
   "cell_type": "markdown",
   "metadata": {},
   "source": [
    "## Pan-STARRs"
   ]
  },
  {
   "cell_type": "code",
   "execution_count": null,
   "metadata": {},
   "outputs": [],
   "source": [
    "# Let's skip this for now\n",
    "\n",
    "ps1_obj_path = os.path.join(cat_path, \"ps1/ps1_otmo\")\n",
    "ps1_src_path = os.path.join(cat_path, \"ps1/ps1_detection\")\n",
    "ps1_object = lsdb.read_hipscat(ps1_obj_path)\n",
    "ps1_source = lsdb.read_hipscat(ps1_src_path)\n",
    "\n",
    "ps1_object_cone = ps1_object.cone_search(ra=field_ra,\n",
    "    dec=field_dec,\n",
    "    radius=field_radius,\n",
    ")\n",
    "\n",
    "ps1_source_cone = ps1_source.cone_search(ra=field_ra,\n",
    "    dec=field_dec,\n",
    "    radius=field_radius,\n",
    ")\n",
    "\n",
    "#ps1_object_cone.to_hipscat(os.path.join(out_path,\"ps1/ps1_object\"), catalog_name=\"ps1_object_halfdegree\")\n",
    "#ps1_source_cone.to_hipscat(os.path.join(out_path,\"ps1/ps1_source\"), catalog_name=\"ps1_source_halfdegree\")"
   ]
  },
  {
   "cell_type": "code",
   "execution_count": null,
   "metadata": {},
   "outputs": [],
   "source": [
    "ps1_object_cone"
   ]
  },
  {
   "cell_type": "code",
   "execution_count": null,
   "metadata": {},
   "outputs": [],
   "source": [
    "len(ps1_source_cone._ddf)"
   ]
  },
  {
   "cell_type": "code",
   "execution_count": null,
   "metadata": {},
   "outputs": [],
   "source": [
    "# Gaia vs PS1\n",
    "import hvplot.dask\n",
    "\n",
    "ps1_object_cone._ddf.hvplot.scatter(x=\"raMean\", y=\"decMean\", alpha=0.1, label=\"PS1\") * gaia_object_cone._ddf.hvplot.scatter(x=\"ra\", y=\"dec\", alpha=0.5, label=\"Gaia\")\n",
    "\n"
   ]
  },
  {
   "cell_type": "code",
   "execution_count": null,
   "metadata": {},
   "outputs": [],
   "source": []
  }
 ],
 "metadata": {
  "kernelspec": {
   "display_name": "Doug's Python 3.10",
   "language": "python",
   "name": "brantd_py310"
  },
  "language_info": {
   "codemirror_mode": {
    "name": "ipython",
    "version": 3
   },
   "file_extension": ".py",
   "mimetype": "text/x-python",
   "name": "python",
   "nbconvert_exporter": "python",
   "pygments_lexer": "ipython3",
   "version": "3.10.9"
  },
  "orig_nbformat": 4
 },
 "nbformat": 4,
 "nbformat_minor": 2
}
